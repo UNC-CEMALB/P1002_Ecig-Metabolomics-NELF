{
 "cells": [
  {
   "cell_type": "code",
   "execution_count": 1,
   "id": "rocky-greenhouse",
   "metadata": {},
   "outputs": [],
   "source": [
    "# if (!require(\"BiocManager\", quietly = TRUE))\n",
    "#     install.packages(\"BiocManager\")\n",
    "\n",
    "# #BiocManager::install(c(\"affyio\", \"preprocessCore\", \"zlibbioc\", \"affy\", \"limma\"), force = TRUE)\n",
    "# BiocManager::install(\"vsn\")\n",
    "\n",
    "# #library(vsn)"
   ]
  },
  {
   "cell_type": "code",
   "execution_count": 2,
   "id": "skilled-salad",
   "metadata": {},
   "outputs": [
    {
     "name": "stderr",
     "output_type": "stream",
     "text": [
      "Loading required package: tmvtnorm\n",
      "\n",
      "Loading required package: mvtnorm\n",
      "\n",
      "Loading required package: Matrix\n",
      "\n",
      "Loading required package: stats4\n",
      "\n",
      "Loading required package: gmm\n",
      "\n",
      "Loading required package: sandwich\n",
      "\n",
      "Loading required package: norm\n",
      "\n",
      "Loading required package: pcaMethods\n",
      "\n",
      "Loading required package: Biobase\n",
      "\n",
      "Loading required package: BiocGenerics\n",
      "\n",
      "Loading required package: parallel\n",
      "\n",
      "\n",
      "Attaching package: ‘BiocGenerics’\n",
      "\n",
      "\n",
      "The following objects are masked from ‘package:parallel’:\n",
      "\n",
      "    clusterApply, clusterApplyLB, clusterCall, clusterEvalQ,\n",
      "    clusterExport, clusterMap, parApply, parCapply, parLapply,\n",
      "    parLapplyLB, parRapply, parSapply, parSapplyLB\n",
      "\n",
      "\n",
      "The following object is masked from ‘package:Matrix’:\n",
      "\n",
      "    which\n",
      "\n",
      "\n",
      "The following objects are masked from ‘package:stats’:\n",
      "\n",
      "    IQR, mad, sd, var, xtabs\n",
      "\n",
      "\n",
      "The following objects are masked from ‘package:base’:\n",
      "\n",
      "    Filter, Find, Map, Position, Reduce, anyDuplicated, append,\n",
      "    as.data.frame, basename, cbind, colnames, dirname, do.call,\n",
      "    duplicated, eval, evalq, get, grep, grepl, intersect, is.unsorted,\n",
      "    lapply, mapply, match, mget, order, paste, pmax, pmax.int, pmin,\n",
      "    pmin.int, rank, rbind, rownames, sapply, setdiff, sort, table,\n",
      "    tapply, union, unique, unsplit, which, which.max, which.min\n",
      "\n",
      "\n",
      "Welcome to Bioconductor\n",
      "\n",
      "    Vignettes contain introductory material; view with\n",
      "    'browseVignettes()'. To cite Bioconductor, see\n",
      "    'citation(\"Biobase\")', and for packages 'citation(\"pkgname\")'.\n",
      "\n",
      "\n",
      "\n",
      "Attaching package: ‘pcaMethods’\n",
      "\n",
      "\n",
      "The following object is masked from ‘package:stats’:\n",
      "\n",
      "    loadings\n",
      "\n",
      "\n",
      "Loading required package: impute\n",
      "\n",
      "── \u001b[1mAttaching packages\u001b[22m ─────────────────────────────────────── tidyverse 1.3.0 ──\n",
      "\n",
      "\u001b[32m✔\u001b[39m \u001b[34mggplot2\u001b[39m 3.3.3     \u001b[32m✔\u001b[39m \u001b[34mpurrr  \u001b[39m 0.3.4\n",
      "\u001b[32m✔\u001b[39m \u001b[34mtibble \u001b[39m 3.0.6     \u001b[32m✔\u001b[39m \u001b[34mdplyr  \u001b[39m 1.0.4\n",
      "\u001b[32m✔\u001b[39m \u001b[34mtidyr  \u001b[39m 1.1.2     \u001b[32m✔\u001b[39m \u001b[34mstringr\u001b[39m 1.4.0\n",
      "\u001b[32m✔\u001b[39m \u001b[34mreadr  \u001b[39m 1.4.0     \u001b[32m✔\u001b[39m \u001b[34mforcats\u001b[39m 0.5.1\n",
      "\n",
      "── \u001b[1mConflicts\u001b[22m ────────────────────────────────────────── tidyverse_conflicts() ──\n",
      "\u001b[31m✖\u001b[39m \u001b[34mggplot2\u001b[39m::\u001b[32mPosition()\u001b[39m masks \u001b[34mBiocGenerics\u001b[39m::Position(), \u001b[34mbase\u001b[39m::Position()\n",
      "\u001b[31m✖\u001b[39m \u001b[34mdplyr\u001b[39m::\u001b[32mcombine()\u001b[39m    masks \u001b[34mBiobase\u001b[39m::combine(), \u001b[34mBiocGenerics\u001b[39m::combine()\n",
      "\u001b[31m✖\u001b[39m \u001b[34mtidyr\u001b[39m::\u001b[32mexpand()\u001b[39m     masks \u001b[34mMatrix\u001b[39m::expand()\n",
      "\u001b[31m✖\u001b[39m \u001b[34mdplyr\u001b[39m::\u001b[32mfilter()\u001b[39m     masks \u001b[34mstats\u001b[39m::filter()\n",
      "\u001b[31m✖\u001b[39m \u001b[34mdplyr\u001b[39m::\u001b[32mlag()\u001b[39m        masks \u001b[34mstats\u001b[39m::lag()\n",
      "\u001b[31m✖\u001b[39m \u001b[34mtidyr\u001b[39m::\u001b[32mpack()\u001b[39m       masks \u001b[34mMatrix\u001b[39m::pack()\n",
      "\u001b[31m✖\u001b[39m \u001b[34mtidyr\u001b[39m::\u001b[32munpack()\u001b[39m     masks \u001b[34mMatrix\u001b[39m::unpack()\n",
      "\n",
      "\n",
      "Attaching package: ‘janitor’\n",
      "\n",
      "\n",
      "The following objects are masked from ‘package:stats’:\n",
      "\n",
      "    chisq.test, fisher.test\n",
      "\n",
      "\n",
      "\n",
      "\u001b[36m──\u001b[39m \u001b[1m\u001b[1mColumn specification\u001b[1m\u001b[22m \u001b[36m────────────────────────────────────────────────────────\u001b[39m\n",
      "cols(\n",
      "  .default = col_double(),\n",
      "  MF_Number = \u001b[31mcol_character()\u001b[39m\n",
      ")\n",
      "\u001b[36mℹ\u001b[39m Use \u001b[30m\u001b[47m\u001b[30m\u001b[47m`spec()`\u001b[47m\u001b[30m\u001b[49m\u001b[39m for the full column specifications.\n",
      "\n",
      "\n",
      "Warning message:\n",
      "“Duplicated column names deduplicated: 'IL8' => 'IL8_1' [27]”\n",
      "\n",
      "\u001b[36m──\u001b[39m \u001b[1m\u001b[1mColumn specification\u001b[1m\u001b[22m \u001b[36m────────────────────────────────────────────────────────\u001b[39m\n",
      "cols(\n",
      "  .default = col_double(),\n",
      "  SampleID = \u001b[31mcol_character()\u001b[39m,\n",
      "  Gender = \u001b[31mcol_character()\u001b[39m,\n",
      "  ExposureGroup = \u001b[31mcol_character()\u001b[39m,\n",
      "  ID = \u001b[31mcol_character()\u001b[39m\n",
      ")\n",
      "\u001b[36mℹ\u001b[39m Use \u001b[30m\u001b[47m\u001b[30m\u001b[47m`spec()`\u001b[47m\u001b[30m\u001b[49m\u001b[39m for the full column specifications.\n",
      "\n",
      "\n"
     ]
    }
   ],
   "source": [
    "setwd(\"/Users/alexis/University of North Carolina at Chapel Hill/Rager, Julia - CEMALB_DataAnalysisPM/Projects/P1002. Ecig Metabolomics NELF/P1002.3. Analyses/P1002.3.1. Data Imputation/Input\")\n",
    "Output = ('/Users/alexis/University of North Carolina at Chapel Hill/Rager, Julia - CEMALB_DataAnalysisPM/Projects/P1002. Ecig Metabolomics NELF/P1002.3. Analyses/P1002.3.1. Data Imputation/Output')\n",
    "cur_date = \"021122\"\n",
    "\n",
    "\n",
    "library(imputeLCMD)\n",
    "library(tidyverse)\n",
    "library(janitor)\n",
    "#library(vsn)\n",
    "\n",
    "#reading in files\n",
    "mf_df = read_csv(\"080321_NoGapFillNoScaling_Dmp3872.csv\")\n",
    "cytokine_df = read_csv(\"CytokineData_61Subjects_080421.csv\")"
   ]
  },
  {
   "cell_type": "markdown",
   "id": "timely-transfer",
   "metadata": {},
   "source": [
    "Both datasets having missing data that will be imputed using the QRILC method.\n",
    "\n",
    "# Molecular Feature Dataset Imputation"
   ]
  },
  {
   "cell_type": "code",
   "execution_count": 3,
   "id": "complex-sending",
   "metadata": {},
   "outputs": [
    {
     "data": {
      "text/html": [
       "<table class=\"dataframe\">\n",
       "<caption>A tibble: 6 × 87</caption>\n",
       "<thead>\n",
       "\t<tr><th scope=col>MF_Number</th><th scope=col>NS_070</th><th scope=col>NS_110</th><th scope=col>NS_143</th><th scope=col>NS_152</th><th scope=col>NS_187</th><th scope=col>NS_196</th><th scope=col>NS_215</th><th scope=col>NS_216</th><th scope=col>NS_217</th><th scope=col>⋯</th><th scope=col>NA_SB5</th><th scope=col>NA_SB6</th><th scope=col>NA_SB7</th><th scope=col>NA_SC1</th><th scope=col>NA_SC2</th><th scope=col>NA_SC3</th><th scope=col>NA_SC4</th><th scope=col>NA_SC5</th><th scope=col>NA_SC6</th><th scope=col>NA_SC7</th></tr>\n",
       "\t<tr><th scope=col>&lt;chr&gt;</th><th scope=col>&lt;dbl&gt;</th><th scope=col>&lt;dbl&gt;</th><th scope=col>&lt;dbl&gt;</th><th scope=col>&lt;dbl&gt;</th><th scope=col>&lt;dbl&gt;</th><th scope=col>&lt;dbl&gt;</th><th scope=col>&lt;dbl&gt;</th><th scope=col>&lt;dbl&gt;</th><th scope=col>&lt;dbl&gt;</th><th scope=col>⋯</th><th scope=col>&lt;dbl&gt;</th><th scope=col>&lt;dbl&gt;</th><th scope=col>&lt;dbl&gt;</th><th scope=col>&lt;dbl&gt;</th><th scope=col>&lt;dbl&gt;</th><th scope=col>&lt;dbl&gt;</th><th scope=col>&lt;dbl&gt;</th><th scope=col>&lt;dbl&gt;</th><th scope=col>&lt;dbl&gt;</th><th scope=col>&lt;dbl&gt;</th></tr>\n",
       "</thead>\n",
       "<tbody>\n",
       "\t<tr><td>MF_2</td><td>1116206475</td><td>2608024693</td><td>10436125</td><td>3733023738</td><td>832538895</td><td>7117302385</td><td>3479543793</td><td>886059325</td><td>4829905676</td><td>⋯</td><td>NA</td><td>      NA</td><td>      NA</td><td>NA</td><td>750551.7</td><td>487606.7</td><td>942984</td><td>NA</td><td>      NA</td><td>      NA</td></tr>\n",
       "\t<tr><td>MF_3</td><td>        NA</td><td>1688508261</td><td> 5981200</td><td>2631091440</td><td>       NA</td><td>5794479646</td><td>2855197795</td><td>       NA</td><td>4654806576</td><td>⋯</td><td>NA</td><td>      NA</td><td>      NA</td><td>NA</td><td>742069.1</td><td>      NA</td><td>389778</td><td>NA</td><td>418340.2</td><td>      NA</td></tr>\n",
       "\t<tr><td>MF_4</td><td> 383833198</td><td>1374010136</td><td> 7153567</td><td>2629366777</td><td>533802873</td><td>4533282195</td><td>1919783356</td><td>353083003</td><td>3228249341</td><td>⋯</td><td>NA</td><td>      NA</td><td>      NA</td><td>NA</td><td>      NA</td><td>      NA</td><td>    NA</td><td>NA</td><td>      NA</td><td>      NA</td></tr>\n",
       "\t<tr><td>MF_5</td><td>   1680099</td><td>        NA</td><td>      NA</td><td>        NA</td><td>       NA</td><td>        NA</td><td>   1573718</td><td>       NA</td><td>        NA</td><td>⋯</td><td>NA</td><td>      NA</td><td>      NA</td><td>NA</td><td>      NA</td><td>      NA</td><td>    NA</td><td>NA</td><td>      NA</td><td>      NA</td></tr>\n",
       "\t<tr><td>MF_6</td><td>        NA</td><td>        NA</td><td>      NA</td><td>   3170821</td><td>       NA</td><td>        NA</td><td> 324521665</td><td>       NA</td><td>   7750065</td><td>⋯</td><td>NA</td><td>405819.5</td><td>489580.9</td><td>NA</td><td>289593.1</td><td>      NA</td><td>    NA</td><td>NA</td><td>      NA</td><td>950554.9</td></tr>\n",
       "\t<tr><td>MF_7</td><td> 129935373</td><td> 546737402</td><td>      NA</td><td>1191854581</td><td>       NA</td><td>2417054513</td><td>1345599792</td><td>195011396</td><td>2024878820</td><td>⋯</td><td>NA</td><td>      NA</td><td>      NA</td><td>NA</td><td>      NA</td><td>      NA</td><td>    NA</td><td>NA</td><td>      NA</td><td>      NA</td></tr>\n",
       "</tbody>\n",
       "</table>\n"
      ],
      "text/latex": [
       "A tibble: 6 × 87\n",
       "\\begin{tabular}{lllllllllllllllllllll}\n",
       " MF\\_Number & NS\\_070 & NS\\_110 & NS\\_143 & NS\\_152 & NS\\_187 & NS\\_196 & NS\\_215 & NS\\_216 & NS\\_217 & ⋯ & NA\\_SB5 & NA\\_SB6 & NA\\_SB7 & NA\\_SC1 & NA\\_SC2 & NA\\_SC3 & NA\\_SC4 & NA\\_SC5 & NA\\_SC6 & NA\\_SC7\\\\\n",
       " <chr> & <dbl> & <dbl> & <dbl> & <dbl> & <dbl> & <dbl> & <dbl> & <dbl> & <dbl> & ⋯ & <dbl> & <dbl> & <dbl> & <dbl> & <dbl> & <dbl> & <dbl> & <dbl> & <dbl> & <dbl>\\\\\n",
       "\\hline\n",
       "\t MF\\_2 & 1116206475 & 2608024693 & 10436125 & 3733023738 & 832538895 & 7117302385 & 3479543793 & 886059325 & 4829905676 & ⋯ & NA &       NA &       NA & NA & 750551.7 & 487606.7 & 942984 & NA &       NA &       NA\\\\\n",
       "\t MF\\_3 &         NA & 1688508261 &  5981200 & 2631091440 &        NA & 5794479646 & 2855197795 &        NA & 4654806576 & ⋯ & NA &       NA &       NA & NA & 742069.1 &       NA & 389778 & NA & 418340.2 &       NA\\\\\n",
       "\t MF\\_4 &  383833198 & 1374010136 &  7153567 & 2629366777 & 533802873 & 4533282195 & 1919783356 & 353083003 & 3228249341 & ⋯ & NA &       NA &       NA & NA &       NA &       NA &     NA & NA &       NA &       NA\\\\\n",
       "\t MF\\_5 &    1680099 &         NA &       NA &         NA &        NA &         NA &    1573718 &        NA &         NA & ⋯ & NA &       NA &       NA & NA &       NA &       NA &     NA & NA &       NA &       NA\\\\\n",
       "\t MF\\_6 &         NA &         NA &       NA &    3170821 &        NA &         NA &  324521665 &        NA &    7750065 & ⋯ & NA & 405819.5 & 489580.9 & NA & 289593.1 &       NA &     NA & NA &       NA & 950554.9\\\\\n",
       "\t MF\\_7 &  129935373 &  546737402 &       NA & 1191854581 &        NA & 2417054513 & 1345599792 & 195011396 & 2024878820 & ⋯ & NA &       NA &       NA & NA &       NA &       NA &     NA & NA &       NA &       NA\\\\\n",
       "\\end{tabular}\n"
      ],
      "text/markdown": [
       "\n",
       "A tibble: 6 × 87\n",
       "\n",
       "| MF_Number &lt;chr&gt; | NS_070 &lt;dbl&gt; | NS_110 &lt;dbl&gt; | NS_143 &lt;dbl&gt; | NS_152 &lt;dbl&gt; | NS_187 &lt;dbl&gt; | NS_196 &lt;dbl&gt; | NS_215 &lt;dbl&gt; | NS_216 &lt;dbl&gt; | NS_217 &lt;dbl&gt; | ⋯ ⋯ | NA_SB5 &lt;dbl&gt; | NA_SB6 &lt;dbl&gt; | NA_SB7 &lt;dbl&gt; | NA_SC1 &lt;dbl&gt; | NA_SC2 &lt;dbl&gt; | NA_SC3 &lt;dbl&gt; | NA_SC4 &lt;dbl&gt; | NA_SC5 &lt;dbl&gt; | NA_SC6 &lt;dbl&gt; | NA_SC7 &lt;dbl&gt; |\n",
       "|---|---|---|---|---|---|---|---|---|---|---|---|---|---|---|---|---|---|---|---|---|\n",
       "| MF_2 | 1116206475 | 2608024693 | 10436125 | 3733023738 | 832538895 | 7117302385 | 3479543793 | 886059325 | 4829905676 | ⋯ | NA |       NA |       NA | NA | 750551.7 | 487606.7 | 942984 | NA |       NA |       NA |\n",
       "| MF_3 |         NA | 1688508261 |  5981200 | 2631091440 |        NA | 5794479646 | 2855197795 |        NA | 4654806576 | ⋯ | NA |       NA |       NA | NA | 742069.1 |       NA | 389778 | NA | 418340.2 |       NA |\n",
       "| MF_4 |  383833198 | 1374010136 |  7153567 | 2629366777 | 533802873 | 4533282195 | 1919783356 | 353083003 | 3228249341 | ⋯ | NA |       NA |       NA | NA |       NA |       NA |     NA | NA |       NA |       NA |\n",
       "| MF_5 |    1680099 |         NA |       NA |         NA |        NA |         NA |    1573718 |        NA |         NA | ⋯ | NA |       NA |       NA | NA |       NA |       NA |     NA | NA |       NA |       NA |\n",
       "| MF_6 |         NA |         NA |       NA |    3170821 |        NA |         NA |  324521665 |        NA |    7750065 | ⋯ | NA | 405819.5 | 489580.9 | NA | 289593.1 |       NA |     NA | NA |       NA | 950554.9 |\n",
       "| MF_7 |  129935373 |  546737402 |       NA | 1191854581 |        NA | 2417054513 | 1345599792 | 195011396 | 2024878820 | ⋯ | NA |       NA |       NA | NA |       NA |       NA |     NA | NA |       NA |       NA |\n",
       "\n"
      ],
      "text/plain": [
       "  MF_Number NS_070     NS_110     NS_143   NS_152     NS_187    NS_196    \n",
       "1 MF_2      1116206475 2608024693 10436125 3733023738 832538895 7117302385\n",
       "2 MF_3              NA 1688508261  5981200 2631091440        NA 5794479646\n",
       "3 MF_4       383833198 1374010136  7153567 2629366777 533802873 4533282195\n",
       "4 MF_5         1680099         NA       NA         NA        NA         NA\n",
       "5 MF_6              NA         NA       NA    3170821        NA         NA\n",
       "6 MF_7       129935373  546737402       NA 1191854581        NA 2417054513\n",
       "  NS_215     NS_216    NS_217     ⋯ NA_SB5 NA_SB6   NA_SB7   NA_SC1 NA_SC2  \n",
       "1 3479543793 886059325 4829905676 ⋯ NA           NA       NA NA     750551.7\n",
       "2 2855197795        NA 4654806576 ⋯ NA           NA       NA NA     742069.1\n",
       "3 1919783356 353083003 3228249341 ⋯ NA           NA       NA NA           NA\n",
       "4    1573718        NA         NA ⋯ NA           NA       NA NA           NA\n",
       "5  324521665        NA    7750065 ⋯ NA     405819.5 489580.9 NA     289593.1\n",
       "6 1345599792 195011396 2024878820 ⋯ NA           NA       NA NA           NA\n",
       "  NA_SC3   NA_SC4 NA_SC5 NA_SC6   NA_SC7  \n",
       "1 487606.7 942984 NA           NA       NA\n",
       "2       NA 389778 NA     418340.2       NA\n",
       "3       NA     NA NA           NA       NA\n",
       "4       NA     NA NA           NA       NA\n",
       "5       NA     NA NA           NA 950554.9\n",
       "6       NA     NA NA           NA       NA"
      ]
     },
     "metadata": {},
     "output_type": "display_data"
    }
   ],
   "source": [
    "head(mf_df)"
   ]
  },
  {
   "cell_type": "code",
   "execution_count": 4,
   "id": "amended-compression",
   "metadata": {},
   "outputs": [
    {
     "data": {
      "text/html": [
       "<table class=\"dataframe\">\n",
       "<caption>A data.frame: 6 × 59</caption>\n",
       "<thead>\n",
       "\t<tr><th></th><th scope=col>NS_070</th><th scope=col>NS_110</th><th scope=col>NS_143</th><th scope=col>NS_152</th><th scope=col>NS_187</th><th scope=col>NS_196</th><th scope=col>NS_215</th><th scope=col>NS_216</th><th scope=col>NS_217</th><th scope=col>NS_220</th><th scope=col>⋯</th><th scope=col>Ecig_250</th><th scope=col>Ecig_251</th><th scope=col>Ecig_252</th><th scope=col>Ecig_253</th><th scope=col>Ecig_254</th><th scope=col>Ecig_255</th><th scope=col>Ecig_256</th><th scope=col>Ecig_257</th><th scope=col>Ecig_258</th><th scope=col>Ecig_259</th></tr>\n",
       "\t<tr><th></th><th scope=col>&lt;dbl&gt;</th><th scope=col>&lt;dbl&gt;</th><th scope=col>&lt;dbl&gt;</th><th scope=col>&lt;dbl&gt;</th><th scope=col>&lt;dbl&gt;</th><th scope=col>&lt;dbl&gt;</th><th scope=col>&lt;dbl&gt;</th><th scope=col>&lt;dbl&gt;</th><th scope=col>&lt;dbl&gt;</th><th scope=col>&lt;dbl&gt;</th><th scope=col>⋯</th><th scope=col>&lt;dbl&gt;</th><th scope=col>&lt;dbl&gt;</th><th scope=col>&lt;dbl&gt;</th><th scope=col>&lt;dbl&gt;</th><th scope=col>&lt;dbl&gt;</th><th scope=col>&lt;dbl&gt;</th><th scope=col>&lt;dbl&gt;</th><th scope=col>&lt;dbl&gt;</th><th scope=col>&lt;dbl&gt;</th><th scope=col>&lt;dbl&gt;</th></tr>\n",
       "</thead>\n",
       "<tbody>\n",
       "\t<tr><th scope=row>MF_2</th><td>1116206475</td><td>2608024693</td><td>10436125</td><td>3733023738</td><td>832538895</td><td>7117302385</td><td>3479543793</td><td>886059325</td><td>4829905676</td><td>1237297262</td><td>⋯</td><td>5036756034</td><td>5394763618</td><td>5973308536</td><td>6811671266</td><td>6376566779</td><td>3882785905</td><td>5751112172</td><td>4917802454</td><td>5333823472</td><td>4111940546</td></tr>\n",
       "\t<tr><th scope=row>MF_3</th><td>        NA</td><td>1688508261</td><td> 5981200</td><td>2631091440</td><td>       NA</td><td>5794479646</td><td>2855197795</td><td>       NA</td><td>4654806576</td><td>        NA</td><td>⋯</td><td>4896555967</td><td>2179633939</td><td>3091384429</td><td>        NA</td><td>5842207907</td><td>3635883142</td><td>5361416545</td><td>8596957015</td><td>8836674364</td><td>2693155019</td></tr>\n",
       "\t<tr><th scope=row>MF_4</th><td> 383833198</td><td>1374010136</td><td> 7153567</td><td>2629366777</td><td>533802873</td><td>4533282195</td><td>1919783356</td><td>353083003</td><td>3228249341</td><td> 625409340</td><td>⋯</td><td>4463604350</td><td>        NA</td><td>2836145509</td><td>3882679868</td><td>4604235779</td><td>2583451320</td><td>5107511143</td><td>7923577391</td><td>8536154926</td><td>2007550662</td></tr>\n",
       "\t<tr><th scope=row>MF_5</th><td>   1680099</td><td>        NA</td><td>      NA</td><td>        NA</td><td>       NA</td><td>        NA</td><td>   1573718</td><td>       NA</td><td>        NA</td><td>        NA</td><td>⋯</td><td> 300196925</td><td> 212750368</td><td>  10246828</td><td>   3476769</td><td>  12098948</td><td>1503054162</td><td> 100067268</td><td>5819759405</td><td> 109366852</td><td> 505938030</td></tr>\n",
       "\t<tr><th scope=row>MF_6</th><td>        NA</td><td>        NA</td><td>      NA</td><td>   3170821</td><td>       NA</td><td>        NA</td><td> 324521665</td><td>       NA</td><td>   7750065</td><td>        NA</td><td>⋯</td><td>  15492861</td><td>        NA</td><td>        NA</td><td>        NA</td><td>        NA</td><td>  48679662</td><td>  22344038</td><td>  35866638</td><td>  53865956</td><td>        NA</td></tr>\n",
       "\t<tr><th scope=row>MF_7</th><td> 129935373</td><td> 546737402</td><td>      NA</td><td>1191854581</td><td>       NA</td><td>2417054513</td><td>1345599792</td><td>195011396</td><td>2024878820</td><td> 181878763</td><td>⋯</td><td>2655569279</td><td>1355986757</td><td>1692335726</td><td>2538630126</td><td>2488245691</td><td>1127673357</td><td>2593485817</td><td>3644589968</td><td>3738572555</td><td>1136031318</td></tr>\n",
       "</tbody>\n",
       "</table>\n"
      ],
      "text/latex": [
       "A data.frame: 6 × 59\n",
       "\\begin{tabular}{r|lllllllllllllllllllll}\n",
       "  & NS\\_070 & NS\\_110 & NS\\_143 & NS\\_152 & NS\\_187 & NS\\_196 & NS\\_215 & NS\\_216 & NS\\_217 & NS\\_220 & ⋯ & Ecig\\_250 & Ecig\\_251 & Ecig\\_252 & Ecig\\_253 & Ecig\\_254 & Ecig\\_255 & Ecig\\_256 & Ecig\\_257 & Ecig\\_258 & Ecig\\_259\\\\\n",
       "  & <dbl> & <dbl> & <dbl> & <dbl> & <dbl> & <dbl> & <dbl> & <dbl> & <dbl> & <dbl> & ⋯ & <dbl> & <dbl> & <dbl> & <dbl> & <dbl> & <dbl> & <dbl> & <dbl> & <dbl> & <dbl>\\\\\n",
       "\\hline\n",
       "\tMF\\_2 & 1116206475 & 2608024693 & 10436125 & 3733023738 & 832538895 & 7117302385 & 3479543793 & 886059325 & 4829905676 & 1237297262 & ⋯ & 5036756034 & 5394763618 & 5973308536 & 6811671266 & 6376566779 & 3882785905 & 5751112172 & 4917802454 & 5333823472 & 4111940546\\\\\n",
       "\tMF\\_3 &         NA & 1688508261 &  5981200 & 2631091440 &        NA & 5794479646 & 2855197795 &        NA & 4654806576 &         NA & ⋯ & 4896555967 & 2179633939 & 3091384429 &         NA & 5842207907 & 3635883142 & 5361416545 & 8596957015 & 8836674364 & 2693155019\\\\\n",
       "\tMF\\_4 &  383833198 & 1374010136 &  7153567 & 2629366777 & 533802873 & 4533282195 & 1919783356 & 353083003 & 3228249341 &  625409340 & ⋯ & 4463604350 &         NA & 2836145509 & 3882679868 & 4604235779 & 2583451320 & 5107511143 & 7923577391 & 8536154926 & 2007550662\\\\\n",
       "\tMF\\_5 &    1680099 &         NA &       NA &         NA &        NA &         NA &    1573718 &        NA &         NA &         NA & ⋯ &  300196925 &  212750368 &   10246828 &    3476769 &   12098948 & 1503054162 &  100067268 & 5819759405 &  109366852 &  505938030\\\\\n",
       "\tMF\\_6 &         NA &         NA &       NA &    3170821 &        NA &         NA &  324521665 &        NA &    7750065 &         NA & ⋯ &   15492861 &         NA &         NA &         NA &         NA &   48679662 &   22344038 &   35866638 &   53865956 &         NA\\\\\n",
       "\tMF\\_7 &  129935373 &  546737402 &       NA & 1191854581 &        NA & 2417054513 & 1345599792 & 195011396 & 2024878820 &  181878763 & ⋯ & 2655569279 & 1355986757 & 1692335726 & 2538630126 & 2488245691 & 1127673357 & 2593485817 & 3644589968 & 3738572555 & 1136031318\\\\\n",
       "\\end{tabular}\n"
      ],
      "text/markdown": [
       "\n",
       "A data.frame: 6 × 59\n",
       "\n",
       "| <!--/--> | NS_070 &lt;dbl&gt; | NS_110 &lt;dbl&gt; | NS_143 &lt;dbl&gt; | NS_152 &lt;dbl&gt; | NS_187 &lt;dbl&gt; | NS_196 &lt;dbl&gt; | NS_215 &lt;dbl&gt; | NS_216 &lt;dbl&gt; | NS_217 &lt;dbl&gt; | NS_220 &lt;dbl&gt; | ⋯ ⋯ | Ecig_250 &lt;dbl&gt; | Ecig_251 &lt;dbl&gt; | Ecig_252 &lt;dbl&gt; | Ecig_253 &lt;dbl&gt; | Ecig_254 &lt;dbl&gt; | Ecig_255 &lt;dbl&gt; | Ecig_256 &lt;dbl&gt; | Ecig_257 &lt;dbl&gt; | Ecig_258 &lt;dbl&gt; | Ecig_259 &lt;dbl&gt; |\n",
       "|---|---|---|---|---|---|---|---|---|---|---|---|---|---|---|---|---|---|---|---|---|---|\n",
       "| MF_2 | 1116206475 | 2608024693 | 10436125 | 3733023738 | 832538895 | 7117302385 | 3479543793 | 886059325 | 4829905676 | 1237297262 | ⋯ | 5036756034 | 5394763618 | 5973308536 | 6811671266 | 6376566779 | 3882785905 | 5751112172 | 4917802454 | 5333823472 | 4111940546 |\n",
       "| MF_3 |         NA | 1688508261 |  5981200 | 2631091440 |        NA | 5794479646 | 2855197795 |        NA | 4654806576 |         NA | ⋯ | 4896555967 | 2179633939 | 3091384429 |         NA | 5842207907 | 3635883142 | 5361416545 | 8596957015 | 8836674364 | 2693155019 |\n",
       "| MF_4 |  383833198 | 1374010136 |  7153567 | 2629366777 | 533802873 | 4533282195 | 1919783356 | 353083003 | 3228249341 |  625409340 | ⋯ | 4463604350 |         NA | 2836145509 | 3882679868 | 4604235779 | 2583451320 | 5107511143 | 7923577391 | 8536154926 | 2007550662 |\n",
       "| MF_5 |    1680099 |         NA |       NA |         NA |        NA |         NA |    1573718 |        NA |         NA |         NA | ⋯ |  300196925 |  212750368 |   10246828 |    3476769 |   12098948 | 1503054162 |  100067268 | 5819759405 |  109366852 |  505938030 |\n",
       "| MF_6 |         NA |         NA |       NA |    3170821 |        NA |         NA |  324521665 |        NA |    7750065 |         NA | ⋯ |   15492861 |         NA |         NA |         NA |         NA |   48679662 |   22344038 |   35866638 |   53865956 |         NA |\n",
       "| MF_7 |  129935373 |  546737402 |       NA | 1191854581 |        NA | 2417054513 | 1345599792 | 195011396 | 2024878820 |  181878763 | ⋯ | 2655569279 | 1355986757 | 1692335726 | 2538630126 | 2488245691 | 1127673357 | 2593485817 | 3644589968 | 3738572555 | 1136031318 |\n",
       "\n"
      ],
      "text/plain": [
       "     NS_070     NS_110     NS_143   NS_152     NS_187    NS_196     NS_215    \n",
       "MF_2 1116206475 2608024693 10436125 3733023738 832538895 7117302385 3479543793\n",
       "MF_3         NA 1688508261  5981200 2631091440        NA 5794479646 2855197795\n",
       "MF_4  383833198 1374010136  7153567 2629366777 533802873 4533282195 1919783356\n",
       "MF_5    1680099         NA       NA         NA        NA         NA    1573718\n",
       "MF_6         NA         NA       NA    3170821        NA         NA  324521665\n",
       "MF_7  129935373  546737402       NA 1191854581        NA 2417054513 1345599792\n",
       "     NS_216    NS_217     NS_220     ⋯ Ecig_250   Ecig_251   Ecig_252  \n",
       "MF_2 886059325 4829905676 1237297262 ⋯ 5036756034 5394763618 5973308536\n",
       "MF_3        NA 4654806576         NA ⋯ 4896555967 2179633939 3091384429\n",
       "MF_4 353083003 3228249341  625409340 ⋯ 4463604350         NA 2836145509\n",
       "MF_5        NA         NA         NA ⋯  300196925  212750368   10246828\n",
       "MF_6        NA    7750065         NA ⋯   15492861         NA         NA\n",
       "MF_7 195011396 2024878820  181878763 ⋯ 2655569279 1355986757 1692335726\n",
       "     Ecig_253   Ecig_254   Ecig_255   Ecig_256   Ecig_257   Ecig_258  \n",
       "MF_2 6811671266 6376566779 3882785905 5751112172 4917802454 5333823472\n",
       "MF_3         NA 5842207907 3635883142 5361416545 8596957015 8836674364\n",
       "MF_4 3882679868 4604235779 2583451320 5107511143 7923577391 8536154926\n",
       "MF_5    3476769   12098948 1503054162  100067268 5819759405  109366852\n",
       "MF_6         NA         NA   48679662   22344038   35866638   53865956\n",
       "MF_7 2538630126 2488245691 1127673357 2593485817 3644589968 3738572555\n",
       "     Ecig_259  \n",
       "MF_2 4111940546\n",
       "MF_3 2693155019\n",
       "MF_4 2007550662\n",
       "MF_5  505938030\n",
       "MF_6         NA\n",
       "MF_7 1136031318"
      ]
     },
     "metadata": {},
     "output_type": "display_data"
    }
   ],
   "source": [
    "mf_df = mf_df %>%\n",
    "    column_to_rownames(\"MF_Number\") %>%\n",
    "    #removing cols that contain \"NA_\"\n",
    "    select(!contains(\"NA_\")) \n",
    "head(mf_df)"
   ]
  },
  {
   "cell_type": "code",
   "execution_count": 5,
   "id": "proper-anthropology",
   "metadata": {},
   "outputs": [],
   "source": [
    "#Convert mf to binary (if the value is missing 0, if the value is present 1)\n",
    "mf_missing_NS <- mf_df %>%\n",
    "    #selecting cols that contain NS\n",
    "    select(contains(\"NS\")) %>%\n",
    "    mutate_all(~replace(.,!is.na(.), 1)) %>%\n",
    "    mutate_all(~replace(., is.na(.), 0)) %>%\n",
    "    mutate_all(function(x) as.numeric(as.character(x)))\n",
    "               \n",
    " mf_missing_Ecig <- mf_df %>%\n",
    "    #selecting cols that contain NS\n",
    "    select(contains(\"Ecig\")) %>%\n",
    "    mutate_all(~replace(.,!is.na(.), 1)) %>%\n",
    "    mutate_all(~replace(., is.na(.), 0)) %>%\n",
    "    mutate_all(function(x) as.numeric(as.character(x)))"
   ]
  },
  {
   "cell_type": "code",
   "execution_count": 6,
   "id": "minus-toronto",
   "metadata": {},
   "outputs": [
    {
     "data": {
      "text/html": [
       "<table class=\"dataframe\">\n",
       "<caption>A tabyl: 6 × 28</caption>\n",
       "<thead>\n",
       "\t<tr><th></th><th scope=col>NS_070</th><th scope=col>NS_110</th><th scope=col>NS_143</th><th scope=col>NS_152</th><th scope=col>NS_187</th><th scope=col>NS_196</th><th scope=col>NS_215</th><th scope=col>NS_216</th><th scope=col>NS_217</th><th scope=col>NS_220</th><th scope=col>⋯</th><th scope=col>NS_242</th><th scope=col>NS_243</th><th scope=col>NS_244</th><th scope=col>NS_245</th><th scope=col>NS_246</th><th scope=col>NS_261</th><th scope=col>NS_262</th><th scope=col>NS_263</th><th scope=col>NS_264</th><th scope=col>Total</th></tr>\n",
       "\t<tr><th></th><th scope=col>&lt;dbl&gt;</th><th scope=col>&lt;dbl&gt;</th><th scope=col>&lt;dbl&gt;</th><th scope=col>&lt;dbl&gt;</th><th scope=col>&lt;dbl&gt;</th><th scope=col>&lt;dbl&gt;</th><th scope=col>&lt;dbl&gt;</th><th scope=col>&lt;dbl&gt;</th><th scope=col>&lt;dbl&gt;</th><th scope=col>&lt;dbl&gt;</th><th scope=col>⋯</th><th scope=col>&lt;dbl&gt;</th><th scope=col>&lt;dbl&gt;</th><th scope=col>&lt;dbl&gt;</th><th scope=col>&lt;dbl&gt;</th><th scope=col>&lt;dbl&gt;</th><th scope=col>&lt;dbl&gt;</th><th scope=col>&lt;dbl&gt;</th><th scope=col>&lt;dbl&gt;</th><th scope=col>&lt;dbl&gt;</th><th scope=col>&lt;dbl&gt;</th></tr>\n",
       "</thead>\n",
       "<tbody>\n",
       "\t<tr><th scope=row>MF_2</th><td>1</td><td>1</td><td>1</td><td>1</td><td>1</td><td>1</td><td>1</td><td>1</td><td>1</td><td>1</td><td>⋯</td><td>1</td><td>1</td><td>1</td><td>1</td><td>1</td><td>1</td><td>1</td><td>1</td><td>1</td><td>27</td></tr>\n",
       "\t<tr><th scope=row>MF_3</th><td>0</td><td>1</td><td>1</td><td>1</td><td>0</td><td>1</td><td>1</td><td>0</td><td>1</td><td>0</td><td>⋯</td><td>1</td><td>1</td><td>1</td><td>1</td><td>1</td><td>1</td><td>1</td><td>1</td><td>0</td><td>20</td></tr>\n",
       "\t<tr><th scope=row>MF_4</th><td>1</td><td>1</td><td>1</td><td>1</td><td>1</td><td>1</td><td>1</td><td>1</td><td>1</td><td>1</td><td>⋯</td><td>1</td><td>1</td><td>1</td><td>1</td><td>1</td><td>1</td><td>1</td><td>1</td><td>1</td><td>27</td></tr>\n",
       "\t<tr><th scope=row>MF_6</th><td>0</td><td>0</td><td>0</td><td>1</td><td>0</td><td>0</td><td>1</td><td>0</td><td>1</td><td>0</td><td>⋯</td><td>1</td><td>1</td><td>1</td><td>1</td><td>1</td><td>1</td><td>1</td><td>1</td><td>1</td><td>17</td></tr>\n",
       "\t<tr><th scope=row>MF_7</th><td>1</td><td>1</td><td>0</td><td>1</td><td>0</td><td>1</td><td>1</td><td>1</td><td>1</td><td>1</td><td>⋯</td><td>1</td><td>1</td><td>1</td><td>1</td><td>1</td><td>1</td><td>1</td><td>1</td><td>0</td><td>24</td></tr>\n",
       "\t<tr><th scope=row>MF_11</th><td>1</td><td>1</td><td>0</td><td>1</td><td>0</td><td>0</td><td>1</td><td>0</td><td>0</td><td>0</td><td>⋯</td><td>0</td><td>1</td><td>1</td><td>1</td><td>1</td><td>0</td><td>1</td><td>1</td><td>1</td><td>18</td></tr>\n",
       "</tbody>\n",
       "</table>\n"
      ],
      "text/latex": [
       "A tabyl: 6 × 28\n",
       "\\begin{tabular}{r|lllllllllllllllllllll}\n",
       "  & NS\\_070 & NS\\_110 & NS\\_143 & NS\\_152 & NS\\_187 & NS\\_196 & NS\\_215 & NS\\_216 & NS\\_217 & NS\\_220 & ⋯ & NS\\_242 & NS\\_243 & NS\\_244 & NS\\_245 & NS\\_246 & NS\\_261 & NS\\_262 & NS\\_263 & NS\\_264 & Total\\\\\n",
       "  & <dbl> & <dbl> & <dbl> & <dbl> & <dbl> & <dbl> & <dbl> & <dbl> & <dbl> & <dbl> & ⋯ & <dbl> & <dbl> & <dbl> & <dbl> & <dbl> & <dbl> & <dbl> & <dbl> & <dbl> & <dbl>\\\\\n",
       "\\hline\n",
       "\tMF\\_2 & 1 & 1 & 1 & 1 & 1 & 1 & 1 & 1 & 1 & 1 & ⋯ & 1 & 1 & 1 & 1 & 1 & 1 & 1 & 1 & 1 & 27\\\\\n",
       "\tMF\\_3 & 0 & 1 & 1 & 1 & 0 & 1 & 1 & 0 & 1 & 0 & ⋯ & 1 & 1 & 1 & 1 & 1 & 1 & 1 & 1 & 0 & 20\\\\\n",
       "\tMF\\_4 & 1 & 1 & 1 & 1 & 1 & 1 & 1 & 1 & 1 & 1 & ⋯ & 1 & 1 & 1 & 1 & 1 & 1 & 1 & 1 & 1 & 27\\\\\n",
       "\tMF\\_6 & 0 & 0 & 0 & 1 & 0 & 0 & 1 & 0 & 1 & 0 & ⋯ & 1 & 1 & 1 & 1 & 1 & 1 & 1 & 1 & 1 & 17\\\\\n",
       "\tMF\\_7 & 1 & 1 & 0 & 1 & 0 & 1 & 1 & 1 & 1 & 1 & ⋯ & 1 & 1 & 1 & 1 & 1 & 1 & 1 & 1 & 0 & 24\\\\\n",
       "\tMF\\_11 & 1 & 1 & 0 & 1 & 0 & 0 & 1 & 0 & 0 & 0 & ⋯ & 0 & 1 & 1 & 1 & 1 & 0 & 1 & 1 & 1 & 18\\\\\n",
       "\\end{tabular}\n"
      ],
      "text/markdown": [
       "\n",
       "A tabyl: 6 × 28\n",
       "\n",
       "| <!--/--> | NS_070 &lt;dbl&gt; | NS_110 &lt;dbl&gt; | NS_143 &lt;dbl&gt; | NS_152 &lt;dbl&gt; | NS_187 &lt;dbl&gt; | NS_196 &lt;dbl&gt; | NS_215 &lt;dbl&gt; | NS_216 &lt;dbl&gt; | NS_217 &lt;dbl&gt; | NS_220 &lt;dbl&gt; | ⋯ ⋯ | NS_242 &lt;dbl&gt; | NS_243 &lt;dbl&gt; | NS_244 &lt;dbl&gt; | NS_245 &lt;dbl&gt; | NS_246 &lt;dbl&gt; | NS_261 &lt;dbl&gt; | NS_262 &lt;dbl&gt; | NS_263 &lt;dbl&gt; | NS_264 &lt;dbl&gt; | Total &lt;dbl&gt; |\n",
       "|---|---|---|---|---|---|---|---|---|---|---|---|---|---|---|---|---|---|---|---|---|---|\n",
       "| MF_2 | 1 | 1 | 1 | 1 | 1 | 1 | 1 | 1 | 1 | 1 | ⋯ | 1 | 1 | 1 | 1 | 1 | 1 | 1 | 1 | 1 | 27 |\n",
       "| MF_3 | 0 | 1 | 1 | 1 | 0 | 1 | 1 | 0 | 1 | 0 | ⋯ | 1 | 1 | 1 | 1 | 1 | 1 | 1 | 1 | 0 | 20 |\n",
       "| MF_4 | 1 | 1 | 1 | 1 | 1 | 1 | 1 | 1 | 1 | 1 | ⋯ | 1 | 1 | 1 | 1 | 1 | 1 | 1 | 1 | 1 | 27 |\n",
       "| MF_6 | 0 | 0 | 0 | 1 | 0 | 0 | 1 | 0 | 1 | 0 | ⋯ | 1 | 1 | 1 | 1 | 1 | 1 | 1 | 1 | 1 | 17 |\n",
       "| MF_7 | 1 | 1 | 0 | 1 | 0 | 1 | 1 | 1 | 1 | 1 | ⋯ | 1 | 1 | 1 | 1 | 1 | 1 | 1 | 1 | 0 | 24 |\n",
       "| MF_11 | 1 | 1 | 0 | 1 | 0 | 0 | 1 | 0 | 0 | 0 | ⋯ | 0 | 1 | 1 | 1 | 1 | 0 | 1 | 1 | 1 | 18 |\n",
       "\n"
      ],
      "text/plain": [
       "      NS_070 NS_110 NS_143 NS_152 NS_187 NS_196 NS_215 NS_216 NS_217 NS_220 ⋯\n",
       "MF_2  1      1      1      1      1      1      1      1      1      1      ⋯\n",
       "MF_3  0      1      1      1      0      1      1      0      1      0      ⋯\n",
       "MF_4  1      1      1      1      1      1      1      1      1      1      ⋯\n",
       "MF_6  0      0      0      1      0      0      1      0      1      0      ⋯\n",
       "MF_7  1      1      0      1      0      1      1      1      1      1      ⋯\n",
       "MF_11 1      1      0      1      0      0      1      0      0      0      ⋯\n",
       "      NS_242 NS_243 NS_244 NS_245 NS_246 NS_261 NS_262 NS_263 NS_264 Total\n",
       "MF_2  1      1      1      1      1      1      1      1      1      27   \n",
       "MF_3  1      1      1      1      1      1      1      1      0      20   \n",
       "MF_4  1      1      1      1      1      1      1      1      1      27   \n",
       "MF_6  1      1      1      1      1      1      1      1      1      17   \n",
       "MF_7  1      1      1      1      1      1      1      1      0      24   \n",
       "MF_11 0      1      1      1      1      0      1      1      1      18   "
      ]
     },
     "metadata": {},
     "output_type": "display_data"
    },
    {
     "data": {
      "text/html": [
       "<table class=\"dataframe\">\n",
       "<caption>A tabyl: 6 × 33</caption>\n",
       "<thead>\n",
       "\t<tr><th></th><th scope=col>Ecig_39</th><th scope=col>Ecig_40</th><th scope=col>Ecig_41</th><th scope=col>Ecig_44</th><th scope=col>Ecig_45</th><th scope=col>Ecig_47</th><th scope=col>Ecig_48</th><th scope=col>Ecig_214</th><th scope=col>Ecig_221</th><th scope=col>Ecig_222</th><th scope=col>⋯</th><th scope=col>Ecig_251</th><th scope=col>Ecig_252</th><th scope=col>Ecig_253</th><th scope=col>Ecig_254</th><th scope=col>Ecig_255</th><th scope=col>Ecig_256</th><th scope=col>Ecig_257</th><th scope=col>Ecig_258</th><th scope=col>Ecig_259</th><th scope=col>Total</th></tr>\n",
       "\t<tr><th></th><th scope=col>&lt;dbl&gt;</th><th scope=col>&lt;dbl&gt;</th><th scope=col>&lt;dbl&gt;</th><th scope=col>&lt;dbl&gt;</th><th scope=col>&lt;dbl&gt;</th><th scope=col>&lt;dbl&gt;</th><th scope=col>&lt;dbl&gt;</th><th scope=col>&lt;dbl&gt;</th><th scope=col>&lt;dbl&gt;</th><th scope=col>&lt;dbl&gt;</th><th scope=col>⋯</th><th scope=col>&lt;dbl&gt;</th><th scope=col>&lt;dbl&gt;</th><th scope=col>&lt;dbl&gt;</th><th scope=col>&lt;dbl&gt;</th><th scope=col>&lt;dbl&gt;</th><th scope=col>&lt;dbl&gt;</th><th scope=col>&lt;dbl&gt;</th><th scope=col>&lt;dbl&gt;</th><th scope=col>&lt;dbl&gt;</th><th scope=col>&lt;dbl&gt;</th></tr>\n",
       "</thead>\n",
       "<tbody>\n",
       "\t<tr><th scope=row>MF_2</th><td>1</td><td>1</td><td>1</td><td>1</td><td>1</td><td>1</td><td>1</td><td>1</td><td>1</td><td>1</td><td>⋯</td><td>1</td><td>1</td><td>1</td><td>1</td><td>1</td><td>1</td><td>1</td><td>1</td><td>1</td><td>32</td></tr>\n",
       "\t<tr><th scope=row>MF_3</th><td>1</td><td>1</td><td>0</td><td>1</td><td>1</td><td>0</td><td>0</td><td>1</td><td>1</td><td>1</td><td>⋯</td><td>1</td><td>1</td><td>0</td><td>1</td><td>1</td><td>1</td><td>1</td><td>1</td><td>1</td><td>27</td></tr>\n",
       "\t<tr><th scope=row>MF_4</th><td>1</td><td>1</td><td>1</td><td>1</td><td>1</td><td>1</td><td>1</td><td>1</td><td>1</td><td>1</td><td>⋯</td><td>0</td><td>1</td><td>1</td><td>1</td><td>1</td><td>1</td><td>1</td><td>1</td><td>1</td><td>31</td></tr>\n",
       "\t<tr><th scope=row>MF_5</th><td>1</td><td>1</td><td>1</td><td>0</td><td>1</td><td>1</td><td>1</td><td>1</td><td>1</td><td>1</td><td>⋯</td><td>1</td><td>1</td><td>1</td><td>1</td><td>1</td><td>1</td><td>1</td><td>1</td><td>1</td><td>29</td></tr>\n",
       "\t<tr><th scope=row>MF_6</th><td>1</td><td>0</td><td>0</td><td>1</td><td>0</td><td>0</td><td>0</td><td>0</td><td>0</td><td>0</td><td>⋯</td><td>0</td><td>0</td><td>0</td><td>0</td><td>1</td><td>1</td><td>1</td><td>1</td><td>0</td><td>17</td></tr>\n",
       "\t<tr><th scope=row>MF_7</th><td>1</td><td>1</td><td>0</td><td>1</td><td>1</td><td>1</td><td>1</td><td>1</td><td>1</td><td>1</td><td>⋯</td><td>1</td><td>1</td><td>1</td><td>1</td><td>1</td><td>1</td><td>1</td><td>1</td><td>1</td><td>31</td></tr>\n",
       "</tbody>\n",
       "</table>\n"
      ],
      "text/latex": [
       "A tabyl: 6 × 33\n",
       "\\begin{tabular}{r|lllllllllllllllllllll}\n",
       "  & Ecig\\_39 & Ecig\\_40 & Ecig\\_41 & Ecig\\_44 & Ecig\\_45 & Ecig\\_47 & Ecig\\_48 & Ecig\\_214 & Ecig\\_221 & Ecig\\_222 & ⋯ & Ecig\\_251 & Ecig\\_252 & Ecig\\_253 & Ecig\\_254 & Ecig\\_255 & Ecig\\_256 & Ecig\\_257 & Ecig\\_258 & Ecig\\_259 & Total\\\\\n",
       "  & <dbl> & <dbl> & <dbl> & <dbl> & <dbl> & <dbl> & <dbl> & <dbl> & <dbl> & <dbl> & ⋯ & <dbl> & <dbl> & <dbl> & <dbl> & <dbl> & <dbl> & <dbl> & <dbl> & <dbl> & <dbl>\\\\\n",
       "\\hline\n",
       "\tMF\\_2 & 1 & 1 & 1 & 1 & 1 & 1 & 1 & 1 & 1 & 1 & ⋯ & 1 & 1 & 1 & 1 & 1 & 1 & 1 & 1 & 1 & 32\\\\\n",
       "\tMF\\_3 & 1 & 1 & 0 & 1 & 1 & 0 & 0 & 1 & 1 & 1 & ⋯ & 1 & 1 & 0 & 1 & 1 & 1 & 1 & 1 & 1 & 27\\\\\n",
       "\tMF\\_4 & 1 & 1 & 1 & 1 & 1 & 1 & 1 & 1 & 1 & 1 & ⋯ & 0 & 1 & 1 & 1 & 1 & 1 & 1 & 1 & 1 & 31\\\\\n",
       "\tMF\\_5 & 1 & 1 & 1 & 0 & 1 & 1 & 1 & 1 & 1 & 1 & ⋯ & 1 & 1 & 1 & 1 & 1 & 1 & 1 & 1 & 1 & 29\\\\\n",
       "\tMF\\_6 & 1 & 0 & 0 & 1 & 0 & 0 & 0 & 0 & 0 & 0 & ⋯ & 0 & 0 & 0 & 0 & 1 & 1 & 1 & 1 & 0 & 17\\\\\n",
       "\tMF\\_7 & 1 & 1 & 0 & 1 & 1 & 1 & 1 & 1 & 1 & 1 & ⋯ & 1 & 1 & 1 & 1 & 1 & 1 & 1 & 1 & 1 & 31\\\\\n",
       "\\end{tabular}\n"
      ],
      "text/markdown": [
       "\n",
       "A tabyl: 6 × 33\n",
       "\n",
       "| <!--/--> | Ecig_39 &lt;dbl&gt; | Ecig_40 &lt;dbl&gt; | Ecig_41 &lt;dbl&gt; | Ecig_44 &lt;dbl&gt; | Ecig_45 &lt;dbl&gt; | Ecig_47 &lt;dbl&gt; | Ecig_48 &lt;dbl&gt; | Ecig_214 &lt;dbl&gt; | Ecig_221 &lt;dbl&gt; | Ecig_222 &lt;dbl&gt; | ⋯ ⋯ | Ecig_251 &lt;dbl&gt; | Ecig_252 &lt;dbl&gt; | Ecig_253 &lt;dbl&gt; | Ecig_254 &lt;dbl&gt; | Ecig_255 &lt;dbl&gt; | Ecig_256 &lt;dbl&gt; | Ecig_257 &lt;dbl&gt; | Ecig_258 &lt;dbl&gt; | Ecig_259 &lt;dbl&gt; | Total &lt;dbl&gt; |\n",
       "|---|---|---|---|---|---|---|---|---|---|---|---|---|---|---|---|---|---|---|---|---|---|\n",
       "| MF_2 | 1 | 1 | 1 | 1 | 1 | 1 | 1 | 1 | 1 | 1 | ⋯ | 1 | 1 | 1 | 1 | 1 | 1 | 1 | 1 | 1 | 32 |\n",
       "| MF_3 | 1 | 1 | 0 | 1 | 1 | 0 | 0 | 1 | 1 | 1 | ⋯ | 1 | 1 | 0 | 1 | 1 | 1 | 1 | 1 | 1 | 27 |\n",
       "| MF_4 | 1 | 1 | 1 | 1 | 1 | 1 | 1 | 1 | 1 | 1 | ⋯ | 0 | 1 | 1 | 1 | 1 | 1 | 1 | 1 | 1 | 31 |\n",
       "| MF_5 | 1 | 1 | 1 | 0 | 1 | 1 | 1 | 1 | 1 | 1 | ⋯ | 1 | 1 | 1 | 1 | 1 | 1 | 1 | 1 | 1 | 29 |\n",
       "| MF_6 | 1 | 0 | 0 | 1 | 0 | 0 | 0 | 0 | 0 | 0 | ⋯ | 0 | 0 | 0 | 0 | 1 | 1 | 1 | 1 | 0 | 17 |\n",
       "| MF_7 | 1 | 1 | 0 | 1 | 1 | 1 | 1 | 1 | 1 | 1 | ⋯ | 1 | 1 | 1 | 1 | 1 | 1 | 1 | 1 | 1 | 31 |\n",
       "\n"
      ],
      "text/plain": [
       "     Ecig_39 Ecig_40 Ecig_41 Ecig_44 Ecig_45 Ecig_47 Ecig_48 Ecig_214 Ecig_221\n",
       "MF_2 1       1       1       1       1       1       1       1        1       \n",
       "MF_3 1       1       0       1       1       0       0       1        1       \n",
       "MF_4 1       1       1       1       1       1       1       1        1       \n",
       "MF_5 1       1       1       0       1       1       1       1        1       \n",
       "MF_6 1       0       0       1       0       0       0       0        0       \n",
       "MF_7 1       1       0       1       1       1       1       1        1       \n",
       "     Ecig_222 ⋯ Ecig_251 Ecig_252 Ecig_253 Ecig_254 Ecig_255 Ecig_256 Ecig_257\n",
       "MF_2 1        ⋯ 1        1        1        1        1        1        1       \n",
       "MF_3 1        ⋯ 1        1        0        1        1        1        1       \n",
       "MF_4 1        ⋯ 0        1        1        1        1        1        1       \n",
       "MF_5 1        ⋯ 1        1        1        1        1        1        1       \n",
       "MF_6 0        ⋯ 0        0        0        0        1        1        1       \n",
       "MF_7 1        ⋯ 1        1        1        1        1        1        1       \n",
       "     Ecig_258 Ecig_259 Total\n",
       "MF_2 1        1        32   \n",
       "MF_3 1        1        27   \n",
       "MF_4 1        1        31   \n",
       "MF_5 1        1        29   \n",
       "MF_6 1        0        17   \n",
       "MF_7 1        1        31   "
      ]
     },
     "metadata": {},
     "output_type": "display_data"
    }
   ],
   "source": [
    "#Identify mfs that are detected in at least 50% of NS or Ecig samples\n",
    "features_to_keep_NS <- mf_missing_NS %>% \n",
    "    adorn_totals(where = \"col\",... = colnames(mf_missing_NS)) %>% \n",
    "    filter(Total >= ncol(mf_missing_NS)*.5)\n",
    "head(features_to_keep_NS) \n",
    "\n",
    "features_to_keep_Ecig <- mf_missing_Ecig %>% \n",
    "    adorn_totals(where = \"col\",... = colnames(mf_missing_Ecig)) %>% \n",
    "    filter(Total >= ncol(mf_missing_Ecig)*.5)\n",
    "head(features_to_keep_Ecig) "
   ]
  },
  {
   "cell_type": "code",
   "execution_count": 7,
   "id": "dramatic-kernel",
   "metadata": {},
   "outputs": [
    {
     "data": {
      "text/html": [
       "<table class=\"dataframe\">\n",
       "<caption>A matrix: 6 × 3872 of type dbl</caption>\n",
       "<thead>\n",
       "\t<tr><th></th><th scope=col>MF_2</th><th scope=col>MF_3</th><th scope=col>MF_4</th><th scope=col>MF_5</th><th scope=col>MF_6</th><th scope=col>MF_7</th><th scope=col>MF_11</th><th scope=col>MF_12</th><th scope=col>MF_13</th><th scope=col>MF_14</th><th scope=col>⋯</th><th scope=col>MF_62853</th><th scope=col>MF_63431</th><th scope=col>MF_63701</th><th scope=col>MF_64025</th><th scope=col>MF_64936</th><th scope=col>MF_65532</th><th scope=col>MF_68286</th><th scope=col>MF_73340</th><th scope=col>MF_77165</th><th scope=col>MF_78976</th></tr>\n",
       "</thead>\n",
       "<tbody>\n",
       "\t<tr><th scope=row>NS_070</th><td>1116206475</td><td>        NA</td><td> 383833198</td><td>1680099</td><td>     NA</td><td> 129935373</td><td> 194195563</td><td> 242762512</td><td> 305851766</td><td> 8564288.2</td><td>⋯</td><td>104618.4</td><td> 85516.80</td><td>      NA</td><td>NA</td><td>      NA</td><td>71508.41</td><td>65212.96</td><td>NA</td><td>      NA</td><td>      NA</td></tr>\n",
       "\t<tr><th scope=row>NS_110</th><td>2608024693</td><td>1688508261</td><td>1374010136</td><td>     NA</td><td>     NA</td><td> 546737402</td><td> 753894182</td><td> 854269800</td><td> 893795013</td><td> 4009487.2</td><td>⋯</td><td>      NA</td><td>       NA</td><td>75593.69</td><td>NA</td><td>30900.99</td><td>      NA</td><td>77846.62</td><td>NA</td><td>39265.73</td><td>40503.16</td></tr>\n",
       "\t<tr><th scope=row>NS_143</th><td>  10436125</td><td>   5981200</td><td>   7153567</td><td>     NA</td><td>     NA</td><td>        NA</td><td>        NA</td><td>   5266245</td><td>  15765225</td><td> 1402196.9</td><td>⋯</td><td>109911.8</td><td> 80988.63</td><td>86084.56</td><td>NA</td><td>      NA</td><td>96283.60</td><td>      NA</td><td>NA</td><td>47575.70</td><td>47844.24</td></tr>\n",
       "\t<tr><th scope=row>NS_152</th><td>3733023738</td><td>2631091440</td><td>2629366777</td><td>     NA</td><td>3170821</td><td>1191854581</td><td>1286005199</td><td>1650120431</td><td>1738876395</td><td>  756727.8</td><td>⋯</td><td>121663.8</td><td>116516.55</td><td>      NA</td><td>NA</td><td>41118.81</td><td>93233.71</td><td>      NA</td><td>NA</td><td>39667.25</td><td>41042.14</td></tr>\n",
       "\t<tr><th scope=row>NS_187</th><td> 832538895</td><td>        NA</td><td> 533802873</td><td>     NA</td><td>     NA</td><td>        NA</td><td>        NA</td><td> 304959865</td><td> 276521306</td><td>12377935.8</td><td>⋯</td><td>      NA</td><td>       NA</td><td>57281.34</td><td>NA</td><td>20947.90</td><td>78186.90</td><td>79291.97</td><td>NA</td><td>41601.24</td><td>31705.45</td></tr>\n",
       "\t<tr><th scope=row>NS_196</th><td>7117302385</td><td>5794479646</td><td>4533282195</td><td>     NA</td><td>     NA</td><td>2417054513</td><td>        NA</td><td>2723508190</td><td>1887555284</td><td> 3495757.1</td><td>⋯</td><td>      NA</td><td>       NA</td><td>80482.55</td><td>NA</td><td>      NA</td><td>      NA</td><td>      NA</td><td>NA</td><td>      NA</td><td>      NA</td></tr>\n",
       "</tbody>\n",
       "</table>\n"
      ],
      "text/latex": [
       "A matrix: 6 × 3872 of type dbl\n",
       "\\begin{tabular}{r|lllllllllllllllllllll}\n",
       "  & MF\\_2 & MF\\_3 & MF\\_4 & MF\\_5 & MF\\_6 & MF\\_7 & MF\\_11 & MF\\_12 & MF\\_13 & MF\\_14 & ⋯ & MF\\_62853 & MF\\_63431 & MF\\_63701 & MF\\_64025 & MF\\_64936 & MF\\_65532 & MF\\_68286 & MF\\_73340 & MF\\_77165 & MF\\_78976\\\\\n",
       "\\hline\n",
       "\tNS\\_070 & 1116206475 &         NA &  383833198 & 1680099 &      NA &  129935373 &  194195563 &  242762512 &  305851766 &  8564288.2 & ⋯ & 104618.4 &  85516.80 &       NA & NA &       NA & 71508.41 & 65212.96 & NA &       NA &       NA\\\\\n",
       "\tNS\\_110 & 2608024693 & 1688508261 & 1374010136 &      NA &      NA &  546737402 &  753894182 &  854269800 &  893795013 &  4009487.2 & ⋯ &       NA &        NA & 75593.69 & NA & 30900.99 &       NA & 77846.62 & NA & 39265.73 & 40503.16\\\\\n",
       "\tNS\\_143 &   10436125 &    5981200 &    7153567 &      NA &      NA &         NA &         NA &    5266245 &   15765225 &  1402196.9 & ⋯ & 109911.8 &  80988.63 & 86084.56 & NA &       NA & 96283.60 &       NA & NA & 47575.70 & 47844.24\\\\\n",
       "\tNS\\_152 & 3733023738 & 2631091440 & 2629366777 &      NA & 3170821 & 1191854581 & 1286005199 & 1650120431 & 1738876395 &   756727.8 & ⋯ & 121663.8 & 116516.55 &       NA & NA & 41118.81 & 93233.71 &       NA & NA & 39667.25 & 41042.14\\\\\n",
       "\tNS\\_187 &  832538895 &         NA &  533802873 &      NA &      NA &         NA &         NA &  304959865 &  276521306 & 12377935.8 & ⋯ &       NA &        NA & 57281.34 & NA & 20947.90 & 78186.90 & 79291.97 & NA & 41601.24 & 31705.45\\\\\n",
       "\tNS\\_196 & 7117302385 & 5794479646 & 4533282195 &      NA &      NA & 2417054513 &         NA & 2723508190 & 1887555284 &  3495757.1 & ⋯ &       NA &        NA & 80482.55 & NA &       NA &       NA &       NA & NA &       NA &       NA\\\\\n",
       "\\end{tabular}\n"
      ],
      "text/markdown": [
       "\n",
       "A matrix: 6 × 3872 of type dbl\n",
       "\n",
       "| <!--/--> | MF_2 | MF_3 | MF_4 | MF_5 | MF_6 | MF_7 | MF_11 | MF_12 | MF_13 | MF_14 | ⋯ | MF_62853 | MF_63431 | MF_63701 | MF_64025 | MF_64936 | MF_65532 | MF_68286 | MF_73340 | MF_77165 | MF_78976 |\n",
       "|---|---|---|---|---|---|---|---|---|---|---|---|---|---|---|---|---|---|---|---|---|---|\n",
       "| NS_070 | 1116206475 |         NA |  383833198 | 1680099 |      NA |  129935373 |  194195563 |  242762512 |  305851766 |  8564288.2 | ⋯ | 104618.4 |  85516.80 |       NA | NA |       NA | 71508.41 | 65212.96 | NA |       NA |       NA |\n",
       "| NS_110 | 2608024693 | 1688508261 | 1374010136 |      NA |      NA |  546737402 |  753894182 |  854269800 |  893795013 |  4009487.2 | ⋯ |       NA |        NA | 75593.69 | NA | 30900.99 |       NA | 77846.62 | NA | 39265.73 | 40503.16 |\n",
       "| NS_143 |   10436125 |    5981200 |    7153567 |      NA |      NA |         NA |         NA |    5266245 |   15765225 |  1402196.9 | ⋯ | 109911.8 |  80988.63 | 86084.56 | NA |       NA | 96283.60 |       NA | NA | 47575.70 | 47844.24 |\n",
       "| NS_152 | 3733023738 | 2631091440 | 2629366777 |      NA | 3170821 | 1191854581 | 1286005199 | 1650120431 | 1738876395 |   756727.8 | ⋯ | 121663.8 | 116516.55 |       NA | NA | 41118.81 | 93233.71 |       NA | NA | 39667.25 | 41042.14 |\n",
       "| NS_187 |  832538895 |         NA |  533802873 |      NA |      NA |         NA |         NA |  304959865 |  276521306 | 12377935.8 | ⋯ |       NA |        NA | 57281.34 | NA | 20947.90 | 78186.90 | 79291.97 | NA | 41601.24 | 31705.45 |\n",
       "| NS_196 | 7117302385 | 5794479646 | 4533282195 |      NA |      NA | 2417054513 |         NA | 2723508190 | 1887555284 |  3495757.1 | ⋯ |       NA |        NA | 80482.55 | NA |       NA |       NA |       NA | NA |       NA |       NA |\n",
       "\n"
      ],
      "text/plain": [
       "       MF_2       MF_3       MF_4       MF_5    MF_6    MF_7       MF_11     \n",
       "NS_070 1116206475         NA  383833198 1680099      NA  129935373  194195563\n",
       "NS_110 2608024693 1688508261 1374010136      NA      NA  546737402  753894182\n",
       "NS_143   10436125    5981200    7153567      NA      NA         NA         NA\n",
       "NS_152 3733023738 2631091440 2629366777      NA 3170821 1191854581 1286005199\n",
       "NS_187  832538895         NA  533802873      NA      NA         NA         NA\n",
       "NS_196 7117302385 5794479646 4533282195      NA      NA 2417054513         NA\n",
       "       MF_12      MF_13      MF_14      ⋯ MF_62853 MF_63431  MF_63701 MF_64025\n",
       "NS_070  242762512  305851766  8564288.2 ⋯ 104618.4  85516.80       NA NA      \n",
       "NS_110  854269800  893795013  4009487.2 ⋯       NA        NA 75593.69 NA      \n",
       "NS_143    5266245   15765225  1402196.9 ⋯ 109911.8  80988.63 86084.56 NA      \n",
       "NS_152 1650120431 1738876395   756727.8 ⋯ 121663.8 116516.55       NA NA      \n",
       "NS_187  304959865  276521306 12377935.8 ⋯       NA        NA 57281.34 NA      \n",
       "NS_196 2723508190 1887555284  3495757.1 ⋯       NA        NA 80482.55 NA      \n",
       "       MF_64936 MF_65532 MF_68286 MF_73340 MF_77165 MF_78976\n",
       "NS_070       NA 71508.41 65212.96 NA             NA       NA\n",
       "NS_110 30900.99       NA 77846.62 NA       39265.73 40503.16\n",
       "NS_143       NA 96283.60       NA NA       47575.70 47844.24\n",
       "NS_152 41118.81 93233.71       NA NA       39667.25 41042.14\n",
       "NS_187 20947.90 78186.90 79291.97 NA       41601.24 31705.45\n",
       "NS_196       NA       NA       NA NA             NA       NA"
      ]
     },
     "metadata": {},
     "output_type": "display_data"
    }
   ],
   "source": [
    "#Filter the mf data for the mfs that should be retained based on previous identification step\n",
    "filtered_mf_matrix = mf_df %>% \n",
    "    rownames_to_column(\"MF\") %>%\n",
    "    filter(MF %in% rownames(features_to_keep_NS) | MF %in% rownames(features_to_keep_Ecig)) %>%\n",
    "    column_to_rownames(\"MF\") %>%\n",
    "    t() #%>%\n",
    "    #can't remember why this is used\n",
    "    #justvsn()\n",
    "head(filtered_mf_matrix)"
   ]
  },
  {
   "cell_type": "code",
   "execution_count": 8,
   "id": "parallel-typing",
   "metadata": {},
   "outputs": [
    {
     "data": {
      "text/html": [
       "0"
      ],
      "text/latex": [
       "0"
      ],
      "text/markdown": [
       "0"
      ],
      "text/plain": [
       "[1] 0"
      ]
     },
     "metadata": {},
     "output_type": "display_data"
    }
   ],
   "source": [
    "#How many molecular features were removed?\n",
    "nrow(mf_df) - ncol(filtered_mf_matrix)"
   ]
  },
  {
   "cell_type": "code",
   "execution_count": 9,
   "id": "european-saudi",
   "metadata": {},
   "outputs": [
    {
     "data": {
      "text/html": [
       "<table class=\"dataframe\">\n",
       "<caption>A data.frame: 6 × 3872</caption>\n",
       "<thead>\n",
       "\t<tr><th></th><th scope=col>MF_2</th><th scope=col>MF_3</th><th scope=col>MF_4</th><th scope=col>MF_5</th><th scope=col>MF_6</th><th scope=col>MF_7</th><th scope=col>MF_11</th><th scope=col>MF_12</th><th scope=col>MF_13</th><th scope=col>MF_14</th><th scope=col>⋯</th><th scope=col>MF_62853</th><th scope=col>MF_63431</th><th scope=col>MF_63701</th><th scope=col>MF_64025</th><th scope=col>MF_64936</th><th scope=col>MF_65532</th><th scope=col>MF_68286</th><th scope=col>MF_73340</th><th scope=col>MF_77165</th><th scope=col>MF_78976</th></tr>\n",
       "\t<tr><th></th><th scope=col>&lt;dbl&gt;</th><th scope=col>&lt;dbl&gt;</th><th scope=col>&lt;dbl&gt;</th><th scope=col>&lt;dbl&gt;</th><th scope=col>&lt;dbl&gt;</th><th scope=col>&lt;dbl&gt;</th><th scope=col>&lt;dbl&gt;</th><th scope=col>&lt;dbl&gt;</th><th scope=col>&lt;dbl&gt;</th><th scope=col>&lt;dbl&gt;</th><th scope=col>⋯</th><th scope=col>&lt;dbl&gt;</th><th scope=col>&lt;dbl&gt;</th><th scope=col>&lt;dbl&gt;</th><th scope=col>&lt;dbl&gt;</th><th scope=col>&lt;dbl&gt;</th><th scope=col>&lt;dbl&gt;</th><th scope=col>&lt;dbl&gt;</th><th scope=col>&lt;dbl&gt;</th><th scope=col>&lt;dbl&gt;</th><th scope=col>&lt;dbl&gt;</th></tr>\n",
       "</thead>\n",
       "<tbody>\n",
       "\t<tr><th scope=row>NS_070</th><td>9.047745</td><td>8.677792</td><td>8.584143</td><td>6.225335</td><td>6.363655</td><td>8.113727</td><td>8.288239</td><td>8.385182</td><td>8.485511</td><td>6.932691</td><td>⋯</td><td>5.019608</td><td>4.932051</td><td>4.496898</td><td>4.680047</td><td>3.427012</td><td>4.854357</td><td>4.814334</td><td>4.553534</td><td>4.328094</td><td>4.168207</td></tr>\n",
       "\t<tr><th scope=row>NS_110</th><td>9.416312</td><td>9.227503</td><td>9.137990</td><td>5.371607</td><td>4.473350</td><td>8.737779</td><td>8.877310</td><td>8.931595</td><td>8.951238</td><td>6.603089</td><td>⋯</td><td>4.856739</td><td>4.804857</td><td>4.878486</td><td>4.778169</td><td>4.489972</td><td>4.815671</td><td>4.891240</td><td>4.540701</td><td>4.594014</td><td>4.607489</td></tr>\n",
       "\t<tr><th scope=row>NS_143</th><td>7.018539</td><td>6.776788</td><td>6.854523</td><td>5.773716</td><td>6.060661</td><td>7.908033</td><td>8.527189</td><td>6.721501</td><td>7.197700</td><td>6.146809</td><td>⋯</td><td>5.041044</td><td>4.908424</td><td>4.934925</td><td>4.594672</td><td>3.891625</td><td>4.983552</td><td>4.479880</td><td>4.480426</td><td>4.677385</td><td>4.679830</td></tr>\n",
       "\t<tr><th scope=row>NS_152</th><td>9.572061</td><td>9.420136</td><td>9.419851</td><td>5.730147</td><td>6.501172</td><td>9.076223</td><td>9.109243</td><td>9.217516</td><td>9.240269</td><td>5.878940</td><td>⋯</td><td>5.085161</td><td>5.066388</td><td>4.576930</td><td>4.560706</td><td>4.614041</td><td>4.969573</td><td>4.531855</td><td>4.653725</td><td>4.598432</td><td>4.613230</td></tr>\n",
       "\t<tr><th scope=row>NS_187</th><td>8.920405</td><td>8.891020</td><td>8.727381</td><td>4.458480</td><td>4.544046</td><td>8.299618</td><td>8.358225</td><td>8.484243</td><td>8.441729</td><td>7.092648</td><td>⋯</td><td>4.824875</td><td>4.839936</td><td>4.758013</td><td>4.734735</td><td>4.321141</td><td>4.893134</td><td>4.899229</td><td>4.639940</td><td>4.619106</td><td>4.501134</td></tr>\n",
       "\t<tr><th scope=row>NS_196</th><td>9.852315</td><td>9.763014</td><td>9.656413</td><td>4.343602</td><td>4.957034</td><td>9.383286</td><td>8.188907</td><td>9.435129</td><td>9.275900</td><td>6.543541</td><td>⋯</td><td>4.882482</td><td>4.882066</td><td>4.905702</td><td>4.577540</td><td>3.583616</td><td>4.456105</td><td>4.257600</td><td>4.568065</td><td>4.420082</td><td>4.231063</td></tr>\n",
       "</tbody>\n",
       "</table>\n"
      ],
      "text/latex": [
       "A data.frame: 6 × 3872\n",
       "\\begin{tabular}{r|lllllllllllllllllllll}\n",
       "  & MF\\_2 & MF\\_3 & MF\\_4 & MF\\_5 & MF\\_6 & MF\\_7 & MF\\_11 & MF\\_12 & MF\\_13 & MF\\_14 & ⋯ & MF\\_62853 & MF\\_63431 & MF\\_63701 & MF\\_64025 & MF\\_64936 & MF\\_65532 & MF\\_68286 & MF\\_73340 & MF\\_77165 & MF\\_78976\\\\\n",
       "  & <dbl> & <dbl> & <dbl> & <dbl> & <dbl> & <dbl> & <dbl> & <dbl> & <dbl> & <dbl> & ⋯ & <dbl> & <dbl> & <dbl> & <dbl> & <dbl> & <dbl> & <dbl> & <dbl> & <dbl> & <dbl>\\\\\n",
       "\\hline\n",
       "\tNS\\_070 & 9.047745 & 8.677792 & 8.584143 & 6.225335 & 6.363655 & 8.113727 & 8.288239 & 8.385182 & 8.485511 & 6.932691 & ⋯ & 5.019608 & 4.932051 & 4.496898 & 4.680047 & 3.427012 & 4.854357 & 4.814334 & 4.553534 & 4.328094 & 4.168207\\\\\n",
       "\tNS\\_110 & 9.416312 & 9.227503 & 9.137990 & 5.371607 & 4.473350 & 8.737779 & 8.877310 & 8.931595 & 8.951238 & 6.603089 & ⋯ & 4.856739 & 4.804857 & 4.878486 & 4.778169 & 4.489972 & 4.815671 & 4.891240 & 4.540701 & 4.594014 & 4.607489\\\\\n",
       "\tNS\\_143 & 7.018539 & 6.776788 & 6.854523 & 5.773716 & 6.060661 & 7.908033 & 8.527189 & 6.721501 & 7.197700 & 6.146809 & ⋯ & 5.041044 & 4.908424 & 4.934925 & 4.594672 & 3.891625 & 4.983552 & 4.479880 & 4.480426 & 4.677385 & 4.679830\\\\\n",
       "\tNS\\_152 & 9.572061 & 9.420136 & 9.419851 & 5.730147 & 6.501172 & 9.076223 & 9.109243 & 9.217516 & 9.240269 & 5.878940 & ⋯ & 5.085161 & 5.066388 & 4.576930 & 4.560706 & 4.614041 & 4.969573 & 4.531855 & 4.653725 & 4.598432 & 4.613230\\\\\n",
       "\tNS\\_187 & 8.920405 & 8.891020 & 8.727381 & 4.458480 & 4.544046 & 8.299618 & 8.358225 & 8.484243 & 8.441729 & 7.092648 & ⋯ & 4.824875 & 4.839936 & 4.758013 & 4.734735 & 4.321141 & 4.893134 & 4.899229 & 4.639940 & 4.619106 & 4.501134\\\\\n",
       "\tNS\\_196 & 9.852315 & 9.763014 & 9.656413 & 4.343602 & 4.957034 & 9.383286 & 8.188907 & 9.435129 & 9.275900 & 6.543541 & ⋯ & 4.882482 & 4.882066 & 4.905702 & 4.577540 & 3.583616 & 4.456105 & 4.257600 & 4.568065 & 4.420082 & 4.231063\\\\\n",
       "\\end{tabular}\n"
      ],
      "text/markdown": [
       "\n",
       "A data.frame: 6 × 3872\n",
       "\n",
       "| <!--/--> | MF_2 &lt;dbl&gt; | MF_3 &lt;dbl&gt; | MF_4 &lt;dbl&gt; | MF_5 &lt;dbl&gt; | MF_6 &lt;dbl&gt; | MF_7 &lt;dbl&gt; | MF_11 &lt;dbl&gt; | MF_12 &lt;dbl&gt; | MF_13 &lt;dbl&gt; | MF_14 &lt;dbl&gt; | ⋯ ⋯ | MF_62853 &lt;dbl&gt; | MF_63431 &lt;dbl&gt; | MF_63701 &lt;dbl&gt; | MF_64025 &lt;dbl&gt; | MF_64936 &lt;dbl&gt; | MF_65532 &lt;dbl&gt; | MF_68286 &lt;dbl&gt; | MF_73340 &lt;dbl&gt; | MF_77165 &lt;dbl&gt; | MF_78976 &lt;dbl&gt; |\n",
       "|---|---|---|---|---|---|---|---|---|---|---|---|---|---|---|---|---|---|---|---|---|---|\n",
       "| NS_070 | 9.047745 | 8.677792 | 8.584143 | 6.225335 | 6.363655 | 8.113727 | 8.288239 | 8.385182 | 8.485511 | 6.932691 | ⋯ | 5.019608 | 4.932051 | 4.496898 | 4.680047 | 3.427012 | 4.854357 | 4.814334 | 4.553534 | 4.328094 | 4.168207 |\n",
       "| NS_110 | 9.416312 | 9.227503 | 9.137990 | 5.371607 | 4.473350 | 8.737779 | 8.877310 | 8.931595 | 8.951238 | 6.603089 | ⋯ | 4.856739 | 4.804857 | 4.878486 | 4.778169 | 4.489972 | 4.815671 | 4.891240 | 4.540701 | 4.594014 | 4.607489 |\n",
       "| NS_143 | 7.018539 | 6.776788 | 6.854523 | 5.773716 | 6.060661 | 7.908033 | 8.527189 | 6.721501 | 7.197700 | 6.146809 | ⋯ | 5.041044 | 4.908424 | 4.934925 | 4.594672 | 3.891625 | 4.983552 | 4.479880 | 4.480426 | 4.677385 | 4.679830 |\n",
       "| NS_152 | 9.572061 | 9.420136 | 9.419851 | 5.730147 | 6.501172 | 9.076223 | 9.109243 | 9.217516 | 9.240269 | 5.878940 | ⋯ | 5.085161 | 5.066388 | 4.576930 | 4.560706 | 4.614041 | 4.969573 | 4.531855 | 4.653725 | 4.598432 | 4.613230 |\n",
       "| NS_187 | 8.920405 | 8.891020 | 8.727381 | 4.458480 | 4.544046 | 8.299618 | 8.358225 | 8.484243 | 8.441729 | 7.092648 | ⋯ | 4.824875 | 4.839936 | 4.758013 | 4.734735 | 4.321141 | 4.893134 | 4.899229 | 4.639940 | 4.619106 | 4.501134 |\n",
       "| NS_196 | 9.852315 | 9.763014 | 9.656413 | 4.343602 | 4.957034 | 9.383286 | 8.188907 | 9.435129 | 9.275900 | 6.543541 | ⋯ | 4.882482 | 4.882066 | 4.905702 | 4.577540 | 3.583616 | 4.456105 | 4.257600 | 4.568065 | 4.420082 | 4.231063 |\n",
       "\n"
      ],
      "text/plain": [
       "       MF_2     MF_3     MF_4     MF_5     MF_6     MF_7     MF_11    MF_12   \n",
       "NS_070 9.047745 8.677792 8.584143 6.225335 6.363655 8.113727 8.288239 8.385182\n",
       "NS_110 9.416312 9.227503 9.137990 5.371607 4.473350 8.737779 8.877310 8.931595\n",
       "NS_143 7.018539 6.776788 6.854523 5.773716 6.060661 7.908033 8.527189 6.721501\n",
       "NS_152 9.572061 9.420136 9.419851 5.730147 6.501172 9.076223 9.109243 9.217516\n",
       "NS_187 8.920405 8.891020 8.727381 4.458480 4.544046 8.299618 8.358225 8.484243\n",
       "NS_196 9.852315 9.763014 9.656413 4.343602 4.957034 9.383286 8.188907 9.435129\n",
       "       MF_13    MF_14    ⋯ MF_62853 MF_63431 MF_63701 MF_64025 MF_64936\n",
       "NS_070 8.485511 6.932691 ⋯ 5.019608 4.932051 4.496898 4.680047 3.427012\n",
       "NS_110 8.951238 6.603089 ⋯ 4.856739 4.804857 4.878486 4.778169 4.489972\n",
       "NS_143 7.197700 6.146809 ⋯ 5.041044 4.908424 4.934925 4.594672 3.891625\n",
       "NS_152 9.240269 5.878940 ⋯ 5.085161 5.066388 4.576930 4.560706 4.614041\n",
       "NS_187 8.441729 7.092648 ⋯ 4.824875 4.839936 4.758013 4.734735 4.321141\n",
       "NS_196 9.275900 6.543541 ⋯ 4.882482 4.882066 4.905702 4.577540 3.583616\n",
       "       MF_65532 MF_68286 MF_73340 MF_77165 MF_78976\n",
       "NS_070 4.854357 4.814334 4.553534 4.328094 4.168207\n",
       "NS_110 4.815671 4.891240 4.540701 4.594014 4.607489\n",
       "NS_143 4.983552 4.479880 4.480426 4.677385 4.679830\n",
       "NS_152 4.969573 4.531855 4.653725 4.598432 4.613230\n",
       "NS_187 4.893134 4.899229 4.639940 4.619106 4.501134\n",
       "NS_196 4.456105 4.257600 4.568065 4.420082 4.231063"
      ]
     },
     "metadata": {},
     "output_type": "display_data"
    }
   ],
   "source": [
    "#QRILC function imputes on normalized, so taking log of data to normalize it\n",
    "set.seed(7) #ensures reproducibility\n",
    "imputed_QRILC_object = impute.QRILC(log10(filtered_mf_matrix))\n",
    "imputed_log_mf_df = data.frame(imputed_QRILC_object[1])\n",
    "head(imputed_log_mf_df)"
   ]
  },
  {
   "cell_type": "code",
   "execution_count": 10,
   "id": "endless-kuwait",
   "metadata": {},
   "outputs": [
    {
     "data": {
      "text/html": [
       "<table class=\"dataframe\">\n",
       "<caption>A data.frame: 6 × 3872</caption>\n",
       "<thead>\n",
       "\t<tr><th></th><th scope=col>MF_2</th><th scope=col>MF_3</th><th scope=col>MF_4</th><th scope=col>MF_5</th><th scope=col>MF_6</th><th scope=col>MF_7</th><th scope=col>MF_11</th><th scope=col>MF_12</th><th scope=col>MF_13</th><th scope=col>MF_14</th><th scope=col>⋯</th><th scope=col>MF_62853</th><th scope=col>MF_63431</th><th scope=col>MF_63701</th><th scope=col>MF_64025</th><th scope=col>MF_64936</th><th scope=col>MF_65532</th><th scope=col>MF_68286</th><th scope=col>MF_73340</th><th scope=col>MF_77165</th><th scope=col>MF_78976</th></tr>\n",
       "\t<tr><th></th><th scope=col>&lt;dbl&gt;</th><th scope=col>&lt;dbl&gt;</th><th scope=col>&lt;dbl&gt;</th><th scope=col>&lt;dbl&gt;</th><th scope=col>&lt;dbl&gt;</th><th scope=col>&lt;dbl&gt;</th><th scope=col>&lt;dbl&gt;</th><th scope=col>&lt;dbl&gt;</th><th scope=col>&lt;dbl&gt;</th><th scope=col>&lt;dbl&gt;</th><th scope=col>⋯</th><th scope=col>&lt;dbl&gt;</th><th scope=col>&lt;dbl&gt;</th><th scope=col>&lt;dbl&gt;</th><th scope=col>&lt;dbl&gt;</th><th scope=col>&lt;dbl&gt;</th><th scope=col>&lt;dbl&gt;</th><th scope=col>&lt;dbl&gt;</th><th scope=col>&lt;dbl&gt;</th><th scope=col>&lt;dbl&gt;</th><th scope=col>&lt;dbl&gt;</th></tr>\n",
       "</thead>\n",
       "<tbody>\n",
       "\t<tr><th scope=row>NS_070</th><td>1116206475</td><td> 476202401</td><td> 383833198</td><td>1680098.60</td><td>2310229.61</td><td> 129935373</td><td> 194195563</td><td> 242762512</td><td> 305851766</td><td> 8564288.2</td><td>⋯</td><td>104618.45</td><td> 85516.80</td><td>31397.73</td><td>47868.13</td><td> 2673.083</td><td>71508.41</td><td>65212.96</td><td>35771.26</td><td>21285.99</td><td>14730.15</td></tr>\n",
       "\t<tr><th scope=row>NS_110</th><td>2608024693</td><td>1688508261</td><td>1374010136</td><td> 235292.00</td><td>  29740.65</td><td> 546737402</td><td> 753894182</td><td> 854269800</td><td> 893795013</td><td> 4009487.2</td><td>⋯</td><td> 71901.72</td><td> 63805.39</td><td>75593.69</td><td>60002.41</td><td>30900.989</td><td>65414.01</td><td>77846.62</td><td>34729.67</td><td>39265.73</td><td>40503.16</td></tr>\n",
       "\t<tr><th scope=row>NS_143</th><td>  10436125</td><td>   5981200</td><td>   7153567</td><td> 593903.11</td><td>1149902.11</td><td>  80915782</td><td> 336658000</td><td>   5266245</td><td>  15765225</td><td> 1402196.9</td><td>⋯</td><td>109911.82</td><td> 80988.63</td><td>86084.56</td><td>39325.32</td><td> 7791.572</td><td>96283.60</td><td>30191.20</td><td>30229.16</td><td>47575.70</td><td>47844.24</td></tr>\n",
       "\t<tr><th scope=row>NS_152</th><td>3733023738</td><td>2631091440</td><td>2629366777</td><td> 537213.44</td><td>3170821.39</td><td>1191854581</td><td>1286005199</td><td>1650120431</td><td>1738876395</td><td>  756727.8</td><td>⋯</td><td>121663.83</td><td>116516.55</td><td>37751.11</td><td>36366.86</td><td>41118.808</td><td>93233.71</td><td>34029.47</td><td>45053.13</td><td>39667.25</td><td>41042.14</td></tr>\n",
       "\t<tr><th scope=row>NS_187</th><td> 832538895</td><td> 778072467</td><td> 533802873</td><td>  28739.57</td><td>  34998.22</td><td> 199350676</td><td> 228152168</td><td> 304959865</td><td> 276521306</td><td>12377935.8</td><td>⋯</td><td> 66815.16</td><td> 69172.92</td><td>57281.34</td><td>54291.91</td><td>20947.903</td><td>78186.90</td><td>79291.97</td><td>43645.52</td><td>41601.24</td><td>31705.45</td></tr>\n",
       "\t<tr><th scope=row>NS_196</th><td>7117302385</td><td>5794479646</td><td>4533282195</td><td>  22059.84</td><td>  90580.45</td><td>2417054513</td><td> 154492300</td><td>2723508190</td><td>1887555284</td><td> 3495757.1</td><td>⋯</td><td> 76292.51</td><td> 76219.52</td><td>80482.55</td><td>37804.23</td><td> 3833.679</td><td>28582.84</td><td>18096.71</td><td>36988.39</td><td>26307.64</td><td>17024.04</td></tr>\n",
       "</tbody>\n",
       "</table>\n"
      ],
      "text/latex": [
       "A data.frame: 6 × 3872\n",
       "\\begin{tabular}{r|lllllllllllllllllllll}\n",
       "  & MF\\_2 & MF\\_3 & MF\\_4 & MF\\_5 & MF\\_6 & MF\\_7 & MF\\_11 & MF\\_12 & MF\\_13 & MF\\_14 & ⋯ & MF\\_62853 & MF\\_63431 & MF\\_63701 & MF\\_64025 & MF\\_64936 & MF\\_65532 & MF\\_68286 & MF\\_73340 & MF\\_77165 & MF\\_78976\\\\\n",
       "  & <dbl> & <dbl> & <dbl> & <dbl> & <dbl> & <dbl> & <dbl> & <dbl> & <dbl> & <dbl> & ⋯ & <dbl> & <dbl> & <dbl> & <dbl> & <dbl> & <dbl> & <dbl> & <dbl> & <dbl> & <dbl>\\\\\n",
       "\\hline\n",
       "\tNS\\_070 & 1116206475 &  476202401 &  383833198 & 1680098.60 & 2310229.61 &  129935373 &  194195563 &  242762512 &  305851766 &  8564288.2 & ⋯ & 104618.45 &  85516.80 & 31397.73 & 47868.13 &  2673.083 & 71508.41 & 65212.96 & 35771.26 & 21285.99 & 14730.15\\\\\n",
       "\tNS\\_110 & 2608024693 & 1688508261 & 1374010136 &  235292.00 &   29740.65 &  546737402 &  753894182 &  854269800 &  893795013 &  4009487.2 & ⋯ &  71901.72 &  63805.39 & 75593.69 & 60002.41 & 30900.989 & 65414.01 & 77846.62 & 34729.67 & 39265.73 & 40503.16\\\\\n",
       "\tNS\\_143 &   10436125 &    5981200 &    7153567 &  593903.11 & 1149902.11 &   80915782 &  336658000 &    5266245 &   15765225 &  1402196.9 & ⋯ & 109911.82 &  80988.63 & 86084.56 & 39325.32 &  7791.572 & 96283.60 & 30191.20 & 30229.16 & 47575.70 & 47844.24\\\\\n",
       "\tNS\\_152 & 3733023738 & 2631091440 & 2629366777 &  537213.44 & 3170821.39 & 1191854581 & 1286005199 & 1650120431 & 1738876395 &   756727.8 & ⋯ & 121663.83 & 116516.55 & 37751.11 & 36366.86 & 41118.808 & 93233.71 & 34029.47 & 45053.13 & 39667.25 & 41042.14\\\\\n",
       "\tNS\\_187 &  832538895 &  778072467 &  533802873 &   28739.57 &   34998.22 &  199350676 &  228152168 &  304959865 &  276521306 & 12377935.8 & ⋯ &  66815.16 &  69172.92 & 57281.34 & 54291.91 & 20947.903 & 78186.90 & 79291.97 & 43645.52 & 41601.24 & 31705.45\\\\\n",
       "\tNS\\_196 & 7117302385 & 5794479646 & 4533282195 &   22059.84 &   90580.45 & 2417054513 &  154492300 & 2723508190 & 1887555284 &  3495757.1 & ⋯ &  76292.51 &  76219.52 & 80482.55 & 37804.23 &  3833.679 & 28582.84 & 18096.71 & 36988.39 & 26307.64 & 17024.04\\\\\n",
       "\\end{tabular}\n"
      ],
      "text/markdown": [
       "\n",
       "A data.frame: 6 × 3872\n",
       "\n",
       "| <!--/--> | MF_2 &lt;dbl&gt; | MF_3 &lt;dbl&gt; | MF_4 &lt;dbl&gt; | MF_5 &lt;dbl&gt; | MF_6 &lt;dbl&gt; | MF_7 &lt;dbl&gt; | MF_11 &lt;dbl&gt; | MF_12 &lt;dbl&gt; | MF_13 &lt;dbl&gt; | MF_14 &lt;dbl&gt; | ⋯ ⋯ | MF_62853 &lt;dbl&gt; | MF_63431 &lt;dbl&gt; | MF_63701 &lt;dbl&gt; | MF_64025 &lt;dbl&gt; | MF_64936 &lt;dbl&gt; | MF_65532 &lt;dbl&gt; | MF_68286 &lt;dbl&gt; | MF_73340 &lt;dbl&gt; | MF_77165 &lt;dbl&gt; | MF_78976 &lt;dbl&gt; |\n",
       "|---|---|---|---|---|---|---|---|---|---|---|---|---|---|---|---|---|---|---|---|---|---|\n",
       "| NS_070 | 1116206475 |  476202401 |  383833198 | 1680098.60 | 2310229.61 |  129935373 |  194195563 |  242762512 |  305851766 |  8564288.2 | ⋯ | 104618.45 |  85516.80 | 31397.73 | 47868.13 |  2673.083 | 71508.41 | 65212.96 | 35771.26 | 21285.99 | 14730.15 |\n",
       "| NS_110 | 2608024693 | 1688508261 | 1374010136 |  235292.00 |   29740.65 |  546737402 |  753894182 |  854269800 |  893795013 |  4009487.2 | ⋯ |  71901.72 |  63805.39 | 75593.69 | 60002.41 | 30900.989 | 65414.01 | 77846.62 | 34729.67 | 39265.73 | 40503.16 |\n",
       "| NS_143 |   10436125 |    5981200 |    7153567 |  593903.11 | 1149902.11 |   80915782 |  336658000 |    5266245 |   15765225 |  1402196.9 | ⋯ | 109911.82 |  80988.63 | 86084.56 | 39325.32 |  7791.572 | 96283.60 | 30191.20 | 30229.16 | 47575.70 | 47844.24 |\n",
       "| NS_152 | 3733023738 | 2631091440 | 2629366777 |  537213.44 | 3170821.39 | 1191854581 | 1286005199 | 1650120431 | 1738876395 |   756727.8 | ⋯ | 121663.83 | 116516.55 | 37751.11 | 36366.86 | 41118.808 | 93233.71 | 34029.47 | 45053.13 | 39667.25 | 41042.14 |\n",
       "| NS_187 |  832538895 |  778072467 |  533802873 |   28739.57 |   34998.22 |  199350676 |  228152168 |  304959865 |  276521306 | 12377935.8 | ⋯ |  66815.16 |  69172.92 | 57281.34 | 54291.91 | 20947.903 | 78186.90 | 79291.97 | 43645.52 | 41601.24 | 31705.45 |\n",
       "| NS_196 | 7117302385 | 5794479646 | 4533282195 |   22059.84 |   90580.45 | 2417054513 |  154492300 | 2723508190 | 1887555284 |  3495757.1 | ⋯ |  76292.51 |  76219.52 | 80482.55 | 37804.23 |  3833.679 | 28582.84 | 18096.71 | 36988.39 | 26307.64 | 17024.04 |\n",
       "\n"
      ],
      "text/plain": [
       "       MF_2       MF_3       MF_4       MF_5       MF_6       MF_7      \n",
       "NS_070 1116206475  476202401  383833198 1680098.60 2310229.61  129935373\n",
       "NS_110 2608024693 1688508261 1374010136  235292.00   29740.65  546737402\n",
       "NS_143   10436125    5981200    7153567  593903.11 1149902.11   80915782\n",
       "NS_152 3733023738 2631091440 2629366777  537213.44 3170821.39 1191854581\n",
       "NS_187  832538895  778072467  533802873   28739.57   34998.22  199350676\n",
       "NS_196 7117302385 5794479646 4533282195   22059.84   90580.45 2417054513\n",
       "       MF_11      MF_12      MF_13      MF_14      ⋯ MF_62853  MF_63431 \n",
       "NS_070  194195563  242762512  305851766  8564288.2 ⋯ 104618.45  85516.80\n",
       "NS_110  753894182  854269800  893795013  4009487.2 ⋯  71901.72  63805.39\n",
       "NS_143  336658000    5266245   15765225  1402196.9 ⋯ 109911.82  80988.63\n",
       "NS_152 1286005199 1650120431 1738876395   756727.8 ⋯ 121663.83 116516.55\n",
       "NS_187  228152168  304959865  276521306 12377935.8 ⋯  66815.16  69172.92\n",
       "NS_196  154492300 2723508190 1887555284  3495757.1 ⋯  76292.51  76219.52\n",
       "       MF_63701 MF_64025 MF_64936  MF_65532 MF_68286 MF_73340 MF_77165 MF_78976\n",
       "NS_070 31397.73 47868.13  2673.083 71508.41 65212.96 35771.26 21285.99 14730.15\n",
       "NS_110 75593.69 60002.41 30900.989 65414.01 77846.62 34729.67 39265.73 40503.16\n",
       "NS_143 86084.56 39325.32  7791.572 96283.60 30191.20 30229.16 47575.70 47844.24\n",
       "NS_152 37751.11 36366.86 41118.808 93233.71 34029.47 45053.13 39667.25 41042.14\n",
       "NS_187 57281.34 54291.91 20947.903 78186.90 79291.97 43645.52 41601.24 31705.45\n",
       "NS_196 80482.55 37804.23  3833.679 28582.84 18096.71 36988.39 26307.64 17024.04"
      ]
     },
     "metadata": {},
     "output_type": "display_data"
    }
   ],
   "source": [
    "#coverting data back to the original scale\n",
    "imputed_mf_df = imputed_log_mf_df %>% \n",
    "    mutate_all(., function(x) 10^x)\n",
    "head(imputed_mf_df)"
   ]
  },
  {
   "cell_type": "markdown",
   "id": "sound-flashing",
   "metadata": {},
   "source": [
    "# Cytokine Dataset Imputation"
   ]
  },
  {
   "cell_type": "code",
   "execution_count": 11,
   "id": "agreed-occasion",
   "metadata": {},
   "outputs": [
    {
     "data": {
      "text/html": [
       "<table class=\"dataframe\">\n",
       "<caption>A tibble: 6 × 34</caption>\n",
       "<thead>\n",
       "\t<tr><th scope=col>SampleID</th><th scope=col>Gender</th><th scope=col>ExposureGroup</th><th scope=col>ID</th><th scope=col>IFNg</th><th scope=col>IL10</th><th scope=col>IL12p70</th><th scope=col>IL13</th><th scope=col>IL1b</th><th scope=col>IL2</th><th scope=col>⋯</th><th scope=col>Eotaxin</th><th scope=col>Eotaxin3</th><th scope=col>IL8_1</th><th scope=col>IP10</th><th scope=col>MCP10</th><th scope=col>MCP4</th><th scope=col>MDC</th><th scope=col>MIP1a</th><th scope=col>MIP1b</th><th scope=col>TARC</th></tr>\n",
       "\t<tr><th scope=col>&lt;chr&gt;</th><th scope=col>&lt;chr&gt;</th><th scope=col>&lt;chr&gt;</th><th scope=col>&lt;chr&gt;</th><th scope=col>&lt;dbl&gt;</th><th scope=col>&lt;dbl&gt;</th><th scope=col>&lt;dbl&gt;</th><th scope=col>&lt;dbl&gt;</th><th scope=col>&lt;dbl&gt;</th><th scope=col>&lt;dbl&gt;</th><th scope=col>⋯</th><th scope=col>&lt;dbl&gt;</th><th scope=col>&lt;dbl&gt;</th><th scope=col>&lt;dbl&gt;</th><th scope=col>&lt;dbl&gt;</th><th scope=col>&lt;dbl&gt;</th><th scope=col>&lt;dbl&gt;</th><th scope=col>&lt;dbl&gt;</th><th scope=col>&lt;dbl&gt;</th><th scope=col>&lt;dbl&gt;</th><th scope=col>&lt;dbl&gt;</th></tr>\n",
       "</thead>\n",
       "<tbody>\n",
       "\t<tr><td>CA39</td><td>Female</td><td>ecig_user</td><td>Ecig_39</td><td> 5.3695611</td><td>2.9928536</td><td>1.6700162</td><td>48.36813</td><td> 24.117761</td><td> 5.2657189</td><td>⋯</td><td>358.19662</td><td>       NA</td><td> 18547.74</td><td>8736.7132</td><td>112.48249</td><td>10.072081</td><td> 31.69299</td><td>22.02667</td><td> 46.80070</td><td>20.541303</td></tr>\n",
       "\t<tr><td>CA41</td><td>Female</td><td>ecig_user</td><td>Ecig_41</td><td>11.6128116</td><td>9.0600267</td><td>3.3710810</td><td>67.96322</td><td>167.431877</td><td>12.6837712</td><td>⋯</td><td>267.15489</td><td>69.256817</td><td>109246.09</td><td>7708.0228</td><td>255.29369</td><td>13.009597</td><td>221.57141</td><td>52.67214</td><td>149.02215</td><td>24.715188</td></tr>\n",
       "\t<tr><td>CA44</td><td>Female</td><td>ecig_user</td><td>Ecig_44</td><td> 4.1603189</td><td>2.0340947</td><td>1.5655687</td><td>50.77121</td><td>  8.870868</td><td> 2.4837514</td><td>⋯</td><td>103.50569</td><td> 8.724533</td><td> 11221.13</td><td>7109.3784</td><td>147.73303</td><td>       NA</td><td>167.32860</td><td>46.98751</td><td>101.25635</td><td>35.541708</td></tr>\n",
       "\t<tr><td>CA45</td><td>Female</td><td>ecig_user</td><td>Ecig_45</td><td> 0.8881171</td><td>0.4310717</td><td>0.3063518</td><td>25.23906</td><td> 40.477650</td><td> 0.5200777</td><td>⋯</td><td>298.85050</td><td> 8.438962</td><td> 14633.80</td><td>3045.9940</td><td> 95.82647</td><td>21.200301</td><td>196.12405</td><td>32.89026</td><td> 24.92311</td><td>19.708475</td></tr>\n",
       "\t<tr><td>CA47</td><td>Female</td><td>ecig_user</td><td>Ecig_47</td><td> 1.4481966</td><td>0.4997130</td><td>0.8622316</td><td>36.81471</td><td> 15.755858</td><td> 0.7766565</td><td>⋯</td><td> 67.18448</td><td> 5.487179</td><td> 12078.16</td><td> 997.9376</td><td> 66.13370</td><td> 7.189953</td><td>139.46181</td><td>16.70862</td><td> 21.35656</td><td> 9.885379</td></tr>\n",
       "\t<tr><td>CA48</td><td>Female</td><td>ecig_user</td><td>Ecig_48</td><td> 0.8494440</td><td>0.4240552</td><td>0.2785117</td><td>14.51272</td><td>  9.211680</td><td> 0.2684367</td><td>⋯</td><td> 25.07486</td><td> 2.151572</td><td>  4880.69</td><td> 246.9985</td><td> 57.50348</td><td> 3.359783</td><td> 69.35689</td><td> 9.56433</td><td> 15.67118</td><td> 9.302557</td></tr>\n",
       "</tbody>\n",
       "</table>\n"
      ],
      "text/latex": [
       "A tibble: 6 × 34\n",
       "\\begin{tabular}{lllllllllllllllllllll}\n",
       " SampleID & Gender & ExposureGroup & ID & IFNg & IL10 & IL12p70 & IL13 & IL1b & IL2 & ⋯ & Eotaxin & Eotaxin3 & IL8\\_1 & IP10 & MCP10 & MCP4 & MDC & MIP1a & MIP1b & TARC\\\\\n",
       " <chr> & <chr> & <chr> & <chr> & <dbl> & <dbl> & <dbl> & <dbl> & <dbl> & <dbl> & ⋯ & <dbl> & <dbl> & <dbl> & <dbl> & <dbl> & <dbl> & <dbl> & <dbl> & <dbl> & <dbl>\\\\\n",
       "\\hline\n",
       "\t CA39 & Female & ecig\\_user & Ecig\\_39 &  5.3695611 & 2.9928536 & 1.6700162 & 48.36813 &  24.117761 &  5.2657189 & ⋯ & 358.19662 &        NA &  18547.74 & 8736.7132 & 112.48249 & 10.072081 &  31.69299 & 22.02667 &  46.80070 & 20.541303\\\\\n",
       "\t CA41 & Female & ecig\\_user & Ecig\\_41 & 11.6128116 & 9.0600267 & 3.3710810 & 67.96322 & 167.431877 & 12.6837712 & ⋯ & 267.15489 & 69.256817 & 109246.09 & 7708.0228 & 255.29369 & 13.009597 & 221.57141 & 52.67214 & 149.02215 & 24.715188\\\\\n",
       "\t CA44 & Female & ecig\\_user & Ecig\\_44 &  4.1603189 & 2.0340947 & 1.5655687 & 50.77121 &   8.870868 &  2.4837514 & ⋯ & 103.50569 &  8.724533 &  11221.13 & 7109.3784 & 147.73303 &        NA & 167.32860 & 46.98751 & 101.25635 & 35.541708\\\\\n",
       "\t CA45 & Female & ecig\\_user & Ecig\\_45 &  0.8881171 & 0.4310717 & 0.3063518 & 25.23906 &  40.477650 &  0.5200777 & ⋯ & 298.85050 &  8.438962 &  14633.80 & 3045.9940 &  95.82647 & 21.200301 & 196.12405 & 32.89026 &  24.92311 & 19.708475\\\\\n",
       "\t CA47 & Female & ecig\\_user & Ecig\\_47 &  1.4481966 & 0.4997130 & 0.8622316 & 36.81471 &  15.755858 &  0.7766565 & ⋯ &  67.18448 &  5.487179 &  12078.16 &  997.9376 &  66.13370 &  7.189953 & 139.46181 & 16.70862 &  21.35656 &  9.885379\\\\\n",
       "\t CA48 & Female & ecig\\_user & Ecig\\_48 &  0.8494440 & 0.4240552 & 0.2785117 & 14.51272 &   9.211680 &  0.2684367 & ⋯ &  25.07486 &  2.151572 &   4880.69 &  246.9985 &  57.50348 &  3.359783 &  69.35689 &  9.56433 &  15.67118 &  9.302557\\\\\n",
       "\\end{tabular}\n"
      ],
      "text/markdown": [
       "\n",
       "A tibble: 6 × 34\n",
       "\n",
       "| SampleID &lt;chr&gt; | Gender &lt;chr&gt; | ExposureGroup &lt;chr&gt; | ID &lt;chr&gt; | IFNg &lt;dbl&gt; | IL10 &lt;dbl&gt; | IL12p70 &lt;dbl&gt; | IL13 &lt;dbl&gt; | IL1b &lt;dbl&gt; | IL2 &lt;dbl&gt; | ⋯ ⋯ | Eotaxin &lt;dbl&gt; | Eotaxin3 &lt;dbl&gt; | IL8_1 &lt;dbl&gt; | IP10 &lt;dbl&gt; | MCP10 &lt;dbl&gt; | MCP4 &lt;dbl&gt; | MDC &lt;dbl&gt; | MIP1a &lt;dbl&gt; | MIP1b &lt;dbl&gt; | TARC &lt;dbl&gt; |\n",
       "|---|---|---|---|---|---|---|---|---|---|---|---|---|---|---|---|---|---|---|---|---|\n",
       "| CA39 | Female | ecig_user | Ecig_39 |  5.3695611 | 2.9928536 | 1.6700162 | 48.36813 |  24.117761 |  5.2657189 | ⋯ | 358.19662 |        NA |  18547.74 | 8736.7132 | 112.48249 | 10.072081 |  31.69299 | 22.02667 |  46.80070 | 20.541303 |\n",
       "| CA41 | Female | ecig_user | Ecig_41 | 11.6128116 | 9.0600267 | 3.3710810 | 67.96322 | 167.431877 | 12.6837712 | ⋯ | 267.15489 | 69.256817 | 109246.09 | 7708.0228 | 255.29369 | 13.009597 | 221.57141 | 52.67214 | 149.02215 | 24.715188 |\n",
       "| CA44 | Female | ecig_user | Ecig_44 |  4.1603189 | 2.0340947 | 1.5655687 | 50.77121 |   8.870868 |  2.4837514 | ⋯ | 103.50569 |  8.724533 |  11221.13 | 7109.3784 | 147.73303 |        NA | 167.32860 | 46.98751 | 101.25635 | 35.541708 |\n",
       "| CA45 | Female | ecig_user | Ecig_45 |  0.8881171 | 0.4310717 | 0.3063518 | 25.23906 |  40.477650 |  0.5200777 | ⋯ | 298.85050 |  8.438962 |  14633.80 | 3045.9940 |  95.82647 | 21.200301 | 196.12405 | 32.89026 |  24.92311 | 19.708475 |\n",
       "| CA47 | Female | ecig_user | Ecig_47 |  1.4481966 | 0.4997130 | 0.8622316 | 36.81471 |  15.755858 |  0.7766565 | ⋯ |  67.18448 |  5.487179 |  12078.16 |  997.9376 |  66.13370 |  7.189953 | 139.46181 | 16.70862 |  21.35656 |  9.885379 |\n",
       "| CA48 | Female | ecig_user | Ecig_48 |  0.8494440 | 0.4240552 | 0.2785117 | 14.51272 |   9.211680 |  0.2684367 | ⋯ |  25.07486 |  2.151572 |   4880.69 |  246.9985 |  57.50348 |  3.359783 |  69.35689 |  9.56433 |  15.67118 |  9.302557 |\n",
       "\n"
      ],
      "text/plain": [
       "  SampleID Gender ExposureGroup ID      IFNg       IL10      IL12p70   IL13    \n",
       "1 CA39     Female ecig_user     Ecig_39  5.3695611 2.9928536 1.6700162 48.36813\n",
       "2 CA41     Female ecig_user     Ecig_41 11.6128116 9.0600267 3.3710810 67.96322\n",
       "3 CA44     Female ecig_user     Ecig_44  4.1603189 2.0340947 1.5655687 50.77121\n",
       "4 CA45     Female ecig_user     Ecig_45  0.8881171 0.4310717 0.3063518 25.23906\n",
       "5 CA47     Female ecig_user     Ecig_47  1.4481966 0.4997130 0.8622316 36.81471\n",
       "6 CA48     Female ecig_user     Ecig_48  0.8494440 0.4240552 0.2785117 14.51272\n",
       "  IL1b       IL2        ⋯ Eotaxin   Eotaxin3  IL8_1     IP10      MCP10    \n",
       "1  24.117761  5.2657189 ⋯ 358.19662        NA  18547.74 8736.7132 112.48249\n",
       "2 167.431877 12.6837712 ⋯ 267.15489 69.256817 109246.09 7708.0228 255.29369\n",
       "3   8.870868  2.4837514 ⋯ 103.50569  8.724533  11221.13 7109.3784 147.73303\n",
       "4  40.477650  0.5200777 ⋯ 298.85050  8.438962  14633.80 3045.9940  95.82647\n",
       "5  15.755858  0.7766565 ⋯  67.18448  5.487179  12078.16  997.9376  66.13370\n",
       "6   9.211680  0.2684367 ⋯  25.07486  2.151572   4880.69  246.9985  57.50348\n",
       "  MCP4      MDC       MIP1a    MIP1b     TARC     \n",
       "1 10.072081  31.69299 22.02667  46.80070 20.541303\n",
       "2 13.009597 221.57141 52.67214 149.02215 24.715188\n",
       "3        NA 167.32860 46.98751 101.25635 35.541708\n",
       "4 21.200301 196.12405 32.89026  24.92311 19.708475\n",
       "5  7.189953 139.46181 16.70862  21.35656  9.885379\n",
       "6  3.359783  69.35689  9.56433  15.67118  9.302557"
      ]
     },
     "metadata": {},
     "output_type": "display_data"
    }
   ],
   "source": [
    "head(cytokine_df)"
   ]
  },
  {
   "cell_type": "code",
   "execution_count": 12,
   "id": "diverse-placement",
   "metadata": {},
   "outputs": [
    {
     "data": {
      "text/html": [
       "<table class=\"dataframe\">\n",
       "<caption>A data.frame: 6 × 30</caption>\n",
       "<thead>\n",
       "\t<tr><th></th><th scope=col>IFNg</th><th scope=col>IL10</th><th scope=col>IL12p70</th><th scope=col>IL13</th><th scope=col>IL1b</th><th scope=col>IL2</th><th scope=col>IL4</th><th scope=col>IL6</th><th scope=col>IL8</th><th scope=col>TNFa</th><th scope=col>⋯</th><th scope=col>Eotaxin</th><th scope=col>Eotaxin3</th><th scope=col>IL8_1</th><th scope=col>IP10</th><th scope=col>MCP10</th><th scope=col>MCP4</th><th scope=col>MDC</th><th scope=col>MIP1a</th><th scope=col>MIP1b</th><th scope=col>TARC</th></tr>\n",
       "\t<tr><th></th><th scope=col>&lt;dbl&gt;</th><th scope=col>&lt;dbl&gt;</th><th scope=col>&lt;dbl&gt;</th><th scope=col>&lt;dbl&gt;</th><th scope=col>&lt;dbl&gt;</th><th scope=col>&lt;dbl&gt;</th><th scope=col>&lt;dbl&gt;</th><th scope=col>&lt;dbl&gt;</th><th scope=col>&lt;dbl&gt;</th><th scope=col>&lt;dbl&gt;</th><th scope=col>⋯</th><th scope=col>&lt;dbl&gt;</th><th scope=col>&lt;dbl&gt;</th><th scope=col>&lt;dbl&gt;</th><th scope=col>&lt;dbl&gt;</th><th scope=col>&lt;dbl&gt;</th><th scope=col>&lt;dbl&gt;</th><th scope=col>&lt;dbl&gt;</th><th scope=col>&lt;dbl&gt;</th><th scope=col>&lt;dbl&gt;</th><th scope=col>&lt;dbl&gt;</th></tr>\n",
       "</thead>\n",
       "<tbody>\n",
       "\t<tr><th scope=row>Ecig_39</th><td> 5.3695611</td><td>2.9928536</td><td>1.6700162</td><td>48.36813</td><td> 24.117761</td><td> 5.2657189</td><td>0.42455866</td><td>13.075670</td><td>2317.1204</td><td> 5.9501019</td><td>⋯</td><td>358.19662</td><td>       NA</td><td> 18547.74</td><td>8736.7132</td><td>112.48249</td><td>10.072081</td><td> 31.69299</td><td>22.02667</td><td> 46.80070</td><td>20.541303</td></tr>\n",
       "\t<tr><th scope=row>Ecig_41</th><td>11.6128116</td><td>9.0600267</td><td>3.3710810</td><td>67.96322</td><td>167.431877</td><td>12.6837712</td><td>0.71329848</td><td>19.032378</td><td>2340.2937</td><td>11.3628057</td><td>⋯</td><td>267.15489</td><td>69.256817</td><td>109246.09</td><td>7708.0228</td><td>255.29369</td><td>13.009597</td><td>221.57141</td><td>52.67214</td><td>149.02215</td><td>24.715188</td></tr>\n",
       "\t<tr><th scope=row>Ecig_44</th><td> 4.1603189</td><td>2.0340947</td><td>1.5655687</td><td>50.77121</td><td>  8.870868</td><td> 2.4837514</td><td>0.49649954</td><td> 9.266373</td><td>2233.1268</td><td> 6.3306852</td><td>⋯</td><td>103.50569</td><td> 8.724533</td><td> 11221.13</td><td>7109.3784</td><td>147.73303</td><td>       NA</td><td>167.32860</td><td>46.98751</td><td>101.25635</td><td>35.541708</td></tr>\n",
       "\t<tr><th scope=row>Ecig_45</th><td> 0.8881171</td><td>0.4310717</td><td>0.3063518</td><td>25.23906</td><td> 40.477650</td><td> 0.5200777</td><td>0.02914528</td><td> 6.395885</td><td>1889.0348</td><td> 1.9479068</td><td>⋯</td><td>298.85050</td><td> 8.438962</td><td> 14633.80</td><td>3045.9940</td><td> 95.82647</td><td>21.200301</td><td>196.12405</td><td>32.89026</td><td> 24.92311</td><td>19.708475</td></tr>\n",
       "\t<tr><th scope=row>Ecig_47</th><td> 1.4481966</td><td>0.4997130</td><td>0.8622316</td><td>36.81471</td><td> 15.755858</td><td> 0.7766565</td><td>0.08862797</td><td> 5.244501</td><td>2074.0063</td><td> 3.5847722</td><td>⋯</td><td> 67.18448</td><td> 5.487179</td><td> 12078.16</td><td> 997.9376</td><td> 66.13370</td><td> 7.189953</td><td>139.46181</td><td>16.70862</td><td> 21.35656</td><td> 9.885379</td></tr>\n",
       "\t<tr><th scope=row>Ecig_48</th><td> 0.8494440</td><td>0.4240552</td><td>0.2785117</td><td>14.51272</td><td>  9.211680</td><td> 0.2684367</td><td>0.14116411</td><td> 2.476904</td><td> 823.3077</td><td> 0.5468069</td><td>⋯</td><td> 25.07486</td><td> 2.151572</td><td>  4880.69</td><td> 246.9985</td><td> 57.50348</td><td> 3.359783</td><td> 69.35689</td><td> 9.56433</td><td> 15.67118</td><td> 9.302557</td></tr>\n",
       "</tbody>\n",
       "</table>\n"
      ],
      "text/latex": [
       "A data.frame: 6 × 30\n",
       "\\begin{tabular}{r|lllllllllllllllllllll}\n",
       "  & IFNg & IL10 & IL12p70 & IL13 & IL1b & IL2 & IL4 & IL6 & IL8 & TNFa & ⋯ & Eotaxin & Eotaxin3 & IL8\\_1 & IP10 & MCP10 & MCP4 & MDC & MIP1a & MIP1b & TARC\\\\\n",
       "  & <dbl> & <dbl> & <dbl> & <dbl> & <dbl> & <dbl> & <dbl> & <dbl> & <dbl> & <dbl> & ⋯ & <dbl> & <dbl> & <dbl> & <dbl> & <dbl> & <dbl> & <dbl> & <dbl> & <dbl> & <dbl>\\\\\n",
       "\\hline\n",
       "\tEcig\\_39 &  5.3695611 & 2.9928536 & 1.6700162 & 48.36813 &  24.117761 &  5.2657189 & 0.42455866 & 13.075670 & 2317.1204 &  5.9501019 & ⋯ & 358.19662 &        NA &  18547.74 & 8736.7132 & 112.48249 & 10.072081 &  31.69299 & 22.02667 &  46.80070 & 20.541303\\\\\n",
       "\tEcig\\_41 & 11.6128116 & 9.0600267 & 3.3710810 & 67.96322 & 167.431877 & 12.6837712 & 0.71329848 & 19.032378 & 2340.2937 & 11.3628057 & ⋯ & 267.15489 & 69.256817 & 109246.09 & 7708.0228 & 255.29369 & 13.009597 & 221.57141 & 52.67214 & 149.02215 & 24.715188\\\\\n",
       "\tEcig\\_44 &  4.1603189 & 2.0340947 & 1.5655687 & 50.77121 &   8.870868 &  2.4837514 & 0.49649954 &  9.266373 & 2233.1268 &  6.3306852 & ⋯ & 103.50569 &  8.724533 &  11221.13 & 7109.3784 & 147.73303 &        NA & 167.32860 & 46.98751 & 101.25635 & 35.541708\\\\\n",
       "\tEcig\\_45 &  0.8881171 & 0.4310717 & 0.3063518 & 25.23906 &  40.477650 &  0.5200777 & 0.02914528 &  6.395885 & 1889.0348 &  1.9479068 & ⋯ & 298.85050 &  8.438962 &  14633.80 & 3045.9940 &  95.82647 & 21.200301 & 196.12405 & 32.89026 &  24.92311 & 19.708475\\\\\n",
       "\tEcig\\_47 &  1.4481966 & 0.4997130 & 0.8622316 & 36.81471 &  15.755858 &  0.7766565 & 0.08862797 &  5.244501 & 2074.0063 &  3.5847722 & ⋯ &  67.18448 &  5.487179 &  12078.16 &  997.9376 &  66.13370 &  7.189953 & 139.46181 & 16.70862 &  21.35656 &  9.885379\\\\\n",
       "\tEcig\\_48 &  0.8494440 & 0.4240552 & 0.2785117 & 14.51272 &   9.211680 &  0.2684367 & 0.14116411 &  2.476904 &  823.3077 &  0.5468069 & ⋯ &  25.07486 &  2.151572 &   4880.69 &  246.9985 &  57.50348 &  3.359783 &  69.35689 &  9.56433 &  15.67118 &  9.302557\\\\\n",
       "\\end{tabular}\n"
      ],
      "text/markdown": [
       "\n",
       "A data.frame: 6 × 30\n",
       "\n",
       "| <!--/--> | IFNg &lt;dbl&gt; | IL10 &lt;dbl&gt; | IL12p70 &lt;dbl&gt; | IL13 &lt;dbl&gt; | IL1b &lt;dbl&gt; | IL2 &lt;dbl&gt; | IL4 &lt;dbl&gt; | IL6 &lt;dbl&gt; | IL8 &lt;dbl&gt; | TNFa &lt;dbl&gt; | ⋯ ⋯ | Eotaxin &lt;dbl&gt; | Eotaxin3 &lt;dbl&gt; | IL8_1 &lt;dbl&gt; | IP10 &lt;dbl&gt; | MCP10 &lt;dbl&gt; | MCP4 &lt;dbl&gt; | MDC &lt;dbl&gt; | MIP1a &lt;dbl&gt; | MIP1b &lt;dbl&gt; | TARC &lt;dbl&gt; |\n",
       "|---|---|---|---|---|---|---|---|---|---|---|---|---|---|---|---|---|---|---|---|---|---|\n",
       "| Ecig_39 |  5.3695611 | 2.9928536 | 1.6700162 | 48.36813 |  24.117761 |  5.2657189 | 0.42455866 | 13.075670 | 2317.1204 |  5.9501019 | ⋯ | 358.19662 |        NA |  18547.74 | 8736.7132 | 112.48249 | 10.072081 |  31.69299 | 22.02667 |  46.80070 | 20.541303 |\n",
       "| Ecig_41 | 11.6128116 | 9.0600267 | 3.3710810 | 67.96322 | 167.431877 | 12.6837712 | 0.71329848 | 19.032378 | 2340.2937 | 11.3628057 | ⋯ | 267.15489 | 69.256817 | 109246.09 | 7708.0228 | 255.29369 | 13.009597 | 221.57141 | 52.67214 | 149.02215 | 24.715188 |\n",
       "| Ecig_44 |  4.1603189 | 2.0340947 | 1.5655687 | 50.77121 |   8.870868 |  2.4837514 | 0.49649954 |  9.266373 | 2233.1268 |  6.3306852 | ⋯ | 103.50569 |  8.724533 |  11221.13 | 7109.3784 | 147.73303 |        NA | 167.32860 | 46.98751 | 101.25635 | 35.541708 |\n",
       "| Ecig_45 |  0.8881171 | 0.4310717 | 0.3063518 | 25.23906 |  40.477650 |  0.5200777 | 0.02914528 |  6.395885 | 1889.0348 |  1.9479068 | ⋯ | 298.85050 |  8.438962 |  14633.80 | 3045.9940 |  95.82647 | 21.200301 | 196.12405 | 32.89026 |  24.92311 | 19.708475 |\n",
       "| Ecig_47 |  1.4481966 | 0.4997130 | 0.8622316 | 36.81471 |  15.755858 |  0.7766565 | 0.08862797 |  5.244501 | 2074.0063 |  3.5847722 | ⋯ |  67.18448 |  5.487179 |  12078.16 |  997.9376 |  66.13370 |  7.189953 | 139.46181 | 16.70862 |  21.35656 |  9.885379 |\n",
       "| Ecig_48 |  0.8494440 | 0.4240552 | 0.2785117 | 14.51272 |   9.211680 |  0.2684367 | 0.14116411 |  2.476904 |  823.3077 |  0.5468069 | ⋯ |  25.07486 |  2.151572 |   4880.69 |  246.9985 |  57.50348 |  3.359783 |  69.35689 |  9.56433 |  15.67118 |  9.302557 |\n",
       "\n"
      ],
      "text/plain": [
       "        IFNg       IL10      IL12p70   IL13     IL1b       IL2       \n",
       "Ecig_39  5.3695611 2.9928536 1.6700162 48.36813  24.117761  5.2657189\n",
       "Ecig_41 11.6128116 9.0600267 3.3710810 67.96322 167.431877 12.6837712\n",
       "Ecig_44  4.1603189 2.0340947 1.5655687 50.77121   8.870868  2.4837514\n",
       "Ecig_45  0.8881171 0.4310717 0.3063518 25.23906  40.477650  0.5200777\n",
       "Ecig_47  1.4481966 0.4997130 0.8622316 36.81471  15.755858  0.7766565\n",
       "Ecig_48  0.8494440 0.4240552 0.2785117 14.51272   9.211680  0.2684367\n",
       "        IL4        IL6       IL8       TNFa       ⋯ Eotaxin   Eotaxin3 \n",
       "Ecig_39 0.42455866 13.075670 2317.1204  5.9501019 ⋯ 358.19662        NA\n",
       "Ecig_41 0.71329848 19.032378 2340.2937 11.3628057 ⋯ 267.15489 69.256817\n",
       "Ecig_44 0.49649954  9.266373 2233.1268  6.3306852 ⋯ 103.50569  8.724533\n",
       "Ecig_45 0.02914528  6.395885 1889.0348  1.9479068 ⋯ 298.85050  8.438962\n",
       "Ecig_47 0.08862797  5.244501 2074.0063  3.5847722 ⋯  67.18448  5.487179\n",
       "Ecig_48 0.14116411  2.476904  823.3077  0.5468069 ⋯  25.07486  2.151572\n",
       "        IL8_1     IP10      MCP10     MCP4      MDC       MIP1a    MIP1b    \n",
       "Ecig_39  18547.74 8736.7132 112.48249 10.072081  31.69299 22.02667  46.80070\n",
       "Ecig_41 109246.09 7708.0228 255.29369 13.009597 221.57141 52.67214 149.02215\n",
       "Ecig_44  11221.13 7109.3784 147.73303        NA 167.32860 46.98751 101.25635\n",
       "Ecig_45  14633.80 3045.9940  95.82647 21.200301 196.12405 32.89026  24.92311\n",
       "Ecig_47  12078.16  997.9376  66.13370  7.189953 139.46181 16.70862  21.35656\n",
       "Ecig_48   4880.69  246.9985  57.50348  3.359783  69.35689  9.56433  15.67118\n",
       "        TARC     \n",
       "Ecig_39 20.541303\n",
       "Ecig_41 24.715188\n",
       "Ecig_44 35.541708\n",
       "Ecig_45 19.708475\n",
       "Ecig_47  9.885379\n",
       "Ecig_48  9.302557"
      ]
     },
     "metadata": {},
     "output_type": "display_data"
    }
   ],
   "source": [
    "cytokine_df = cytokine_df %>%\n",
    "    #removing unecessary metadata cols\n",
    "    select(!c(SampleID, Gender, ExposureGroup)) %>%\n",
    "    #removing rows without ids\n",
    "    filter(is.na(ID)== FALSE) %>%\n",
    "    column_to_rownames(\"ID\")\n",
    "\n",
    "head(cytokine_df)"
   ]
  },
  {
   "cell_type": "code",
   "execution_count": 13,
   "id": "gothic-freeze",
   "metadata": {},
   "outputs": [
    {
     "data": {
      "text/html": [
       "<table class=\"dataframe\">\n",
       "<caption>A data.frame: 6 × 59</caption>\n",
       "<thead>\n",
       "\t<tr><th></th><th scope=col>Ecig_39</th><th scope=col>Ecig_41</th><th scope=col>Ecig_44</th><th scope=col>Ecig_45</th><th scope=col>Ecig_47</th><th scope=col>Ecig_48</th><th scope=col>Ecig_214</th><th scope=col>Ecig_222</th><th scope=col>Ecig_223</th><th scope=col>Ecig_229</th><th scope=col>⋯</th><th scope=col>NS_217</th><th scope=col>NS_220</th><th scope=col>NS_224</th><th scope=col>NS_227</th><th scope=col>NS_234</th><th scope=col>NS_242</th><th scope=col>NS_245</th><th scope=col>NS_246</th><th scope=col>NS_263</th><th scope=col>NS_264</th></tr>\n",
       "\t<tr><th></th><th scope=col>&lt;dbl&gt;</th><th scope=col>&lt;dbl&gt;</th><th scope=col>&lt;dbl&gt;</th><th scope=col>&lt;dbl&gt;</th><th scope=col>&lt;dbl&gt;</th><th scope=col>&lt;dbl&gt;</th><th scope=col>&lt;dbl&gt;</th><th scope=col>&lt;dbl&gt;</th><th scope=col>&lt;dbl&gt;</th><th scope=col>&lt;dbl&gt;</th><th scope=col>⋯</th><th scope=col>&lt;dbl&gt;</th><th scope=col>&lt;dbl&gt;</th><th scope=col>&lt;dbl&gt;</th><th scope=col>&lt;dbl&gt;</th><th scope=col>&lt;dbl&gt;</th><th scope=col>&lt;dbl&gt;</th><th scope=col>&lt;dbl&gt;</th><th scope=col>&lt;dbl&gt;</th><th scope=col>&lt;dbl&gt;</th><th scope=col>&lt;dbl&gt;</th></tr>\n",
       "</thead>\n",
       "<tbody>\n",
       "\t<tr><th scope=row>IFNg</th><td> 5.369561</td><td> 11.612812</td><td> 4.160319</td><td> 0.8881171</td><td> 1.4481966</td><td> 0.8494440</td><td> 2.2133006</td><td>12.194983</td><td>10.359429</td><td> 11.274641</td><td>⋯</td><td> 1.4100626</td><td> 2.2885988</td><td> 1.6232601</td><td> 12.568316</td><td> 1.9416090</td><td>10.337784</td><td>  7.890241</td><td> 0.7175676</td><td> 7.147723</td><td> 2.0700327</td></tr>\n",
       "\t<tr><th scope=row>IL10</th><td> 2.992854</td><td>  9.060027</td><td> 2.034095</td><td> 0.4310717</td><td> 0.4997130</td><td> 0.4240552</td><td> 1.2942145</td><td> 4.519250</td><td> 2.141442</td><td> 14.467577</td><td>⋯</td><td> 0.3368341</td><td> 0.6621680</td><td> 0.4240552</td><td> 22.625324</td><td> 0.3994781</td><td> 4.156594</td><td>  3.000276</td><td> 0.1950644</td><td> 2.339561</td><td> 0.3868263</td></tr>\n",
       "\t<tr><th scope=row>IL12p70</th><td> 1.670016</td><td>  3.371081</td><td> 1.565569</td><td> 0.3063518</td><td> 0.8622316</td><td> 0.2785117</td><td> 0.7038064</td><td> 5.050170</td><td> 1.880607</td><td>  4.079984</td><td>⋯</td><td> 0.5284839</td><td> 0.7517281</td><td> 0.8180437</td><td>  3.124857</td><td> 0.5377213</td><td> 4.800905</td><td>  1.950156</td><td> 0.2952182</td><td> 1.814701</td><td> 0.5303315</td></tr>\n",
       "\t<tr><th scope=row>IL13</th><td>48.368132</td><td> 67.963220</td><td>50.771205</td><td>25.2390558</td><td>36.8147135</td><td>14.5127220</td><td>34.6004791</td><td>83.282335</td><td>61.603704</td><td> 85.073378</td><td>⋯</td><td>10.9902839</td><td>31.6987943</td><td>33.3564823</td><td> 94.411251</td><td>13.3227644</td><td>89.613874</td><td> 69.582659</td><td>20.0421143</td><td>59.211105</td><td>23.3918189</td></tr>\n",
       "\t<tr><th scope=row>IL1b</th><td>24.117761</td><td>167.431877</td><td> 8.870868</td><td>40.4776501</td><td>15.7558575</td><td> 9.2116799</td><td>53.3450039</td><td>98.602727</td><td>92.383512</td><td>180.302138</td><td>⋯</td><td> 9.4157549</td><td>21.4534240</td><td>27.8493328</td><td>927.559496</td><td>11.5052411</td><td>89.453532</td><td>104.084531</td><td>22.8313411</td><td>53.797197</td><td>17.8222380</td></tr>\n",
       "\t<tr><th scope=row>IL2</th><td> 5.265719</td><td> 12.683771</td><td> 2.483751</td><td> 0.5200777</td><td> 0.7766565</td><td> 0.2684367</td><td> 1.8460707</td><td> 9.060809</td><td> 4.800959</td><td> 11.239145</td><td>⋯</td><td> 0.7175273</td><td> 0.8714269</td><td> 0.2814659</td><td> 14.667649</td><td> 0.7407722</td><td> 8.725433</td><td>  5.653496</td><td> 0.4216734</td><td> 4.668523</td><td> 0.3614672</td></tr>\n",
       "</tbody>\n",
       "</table>\n"
      ],
      "text/latex": [
       "A data.frame: 6 × 59\n",
       "\\begin{tabular}{r|lllllllllllllllllllll}\n",
       "  & Ecig\\_39 & Ecig\\_41 & Ecig\\_44 & Ecig\\_45 & Ecig\\_47 & Ecig\\_48 & Ecig\\_214 & Ecig\\_222 & Ecig\\_223 & Ecig\\_229 & ⋯ & NS\\_217 & NS\\_220 & NS\\_224 & NS\\_227 & NS\\_234 & NS\\_242 & NS\\_245 & NS\\_246 & NS\\_263 & NS\\_264\\\\\n",
       "  & <dbl> & <dbl> & <dbl> & <dbl> & <dbl> & <dbl> & <dbl> & <dbl> & <dbl> & <dbl> & ⋯ & <dbl> & <dbl> & <dbl> & <dbl> & <dbl> & <dbl> & <dbl> & <dbl> & <dbl> & <dbl>\\\\\n",
       "\\hline\n",
       "\tIFNg &  5.369561 &  11.612812 &  4.160319 &  0.8881171 &  1.4481966 &  0.8494440 &  2.2133006 & 12.194983 & 10.359429 &  11.274641 & ⋯ &  1.4100626 &  2.2885988 &  1.6232601 &  12.568316 &  1.9416090 & 10.337784 &   7.890241 &  0.7175676 &  7.147723 &  2.0700327\\\\\n",
       "\tIL10 &  2.992854 &   9.060027 &  2.034095 &  0.4310717 &  0.4997130 &  0.4240552 &  1.2942145 &  4.519250 &  2.141442 &  14.467577 & ⋯ &  0.3368341 &  0.6621680 &  0.4240552 &  22.625324 &  0.3994781 &  4.156594 &   3.000276 &  0.1950644 &  2.339561 &  0.3868263\\\\\n",
       "\tIL12p70 &  1.670016 &   3.371081 &  1.565569 &  0.3063518 &  0.8622316 &  0.2785117 &  0.7038064 &  5.050170 &  1.880607 &   4.079984 & ⋯ &  0.5284839 &  0.7517281 &  0.8180437 &   3.124857 &  0.5377213 &  4.800905 &   1.950156 &  0.2952182 &  1.814701 &  0.5303315\\\\\n",
       "\tIL13 & 48.368132 &  67.963220 & 50.771205 & 25.2390558 & 36.8147135 & 14.5127220 & 34.6004791 & 83.282335 & 61.603704 &  85.073378 & ⋯ & 10.9902839 & 31.6987943 & 33.3564823 &  94.411251 & 13.3227644 & 89.613874 &  69.582659 & 20.0421143 & 59.211105 & 23.3918189\\\\\n",
       "\tIL1b & 24.117761 & 167.431877 &  8.870868 & 40.4776501 & 15.7558575 &  9.2116799 & 53.3450039 & 98.602727 & 92.383512 & 180.302138 & ⋯ &  9.4157549 & 21.4534240 & 27.8493328 & 927.559496 & 11.5052411 & 89.453532 & 104.084531 & 22.8313411 & 53.797197 & 17.8222380\\\\\n",
       "\tIL2 &  5.265719 &  12.683771 &  2.483751 &  0.5200777 &  0.7766565 &  0.2684367 &  1.8460707 &  9.060809 &  4.800959 &  11.239145 & ⋯ &  0.7175273 &  0.8714269 &  0.2814659 &  14.667649 &  0.7407722 &  8.725433 &   5.653496 &  0.4216734 &  4.668523 &  0.3614672\\\\\n",
       "\\end{tabular}\n"
      ],
      "text/markdown": [
       "\n",
       "A data.frame: 6 × 59\n",
       "\n",
       "| <!--/--> | Ecig_39 &lt;dbl&gt; | Ecig_41 &lt;dbl&gt; | Ecig_44 &lt;dbl&gt; | Ecig_45 &lt;dbl&gt; | Ecig_47 &lt;dbl&gt; | Ecig_48 &lt;dbl&gt; | Ecig_214 &lt;dbl&gt; | Ecig_222 &lt;dbl&gt; | Ecig_223 &lt;dbl&gt; | Ecig_229 &lt;dbl&gt; | ⋯ ⋯ | NS_217 &lt;dbl&gt; | NS_220 &lt;dbl&gt; | NS_224 &lt;dbl&gt; | NS_227 &lt;dbl&gt; | NS_234 &lt;dbl&gt; | NS_242 &lt;dbl&gt; | NS_245 &lt;dbl&gt; | NS_246 &lt;dbl&gt; | NS_263 &lt;dbl&gt; | NS_264 &lt;dbl&gt; |\n",
       "|---|---|---|---|---|---|---|---|---|---|---|---|---|---|---|---|---|---|---|---|---|---|\n",
       "| IFNg |  5.369561 |  11.612812 |  4.160319 |  0.8881171 |  1.4481966 |  0.8494440 |  2.2133006 | 12.194983 | 10.359429 |  11.274641 | ⋯ |  1.4100626 |  2.2885988 |  1.6232601 |  12.568316 |  1.9416090 | 10.337784 |   7.890241 |  0.7175676 |  7.147723 |  2.0700327 |\n",
       "| IL10 |  2.992854 |   9.060027 |  2.034095 |  0.4310717 |  0.4997130 |  0.4240552 |  1.2942145 |  4.519250 |  2.141442 |  14.467577 | ⋯ |  0.3368341 |  0.6621680 |  0.4240552 |  22.625324 |  0.3994781 |  4.156594 |   3.000276 |  0.1950644 |  2.339561 |  0.3868263 |\n",
       "| IL12p70 |  1.670016 |   3.371081 |  1.565569 |  0.3063518 |  0.8622316 |  0.2785117 |  0.7038064 |  5.050170 |  1.880607 |   4.079984 | ⋯ |  0.5284839 |  0.7517281 |  0.8180437 |   3.124857 |  0.5377213 |  4.800905 |   1.950156 |  0.2952182 |  1.814701 |  0.5303315 |\n",
       "| IL13 | 48.368132 |  67.963220 | 50.771205 | 25.2390558 | 36.8147135 | 14.5127220 | 34.6004791 | 83.282335 | 61.603704 |  85.073378 | ⋯ | 10.9902839 | 31.6987943 | 33.3564823 |  94.411251 | 13.3227644 | 89.613874 |  69.582659 | 20.0421143 | 59.211105 | 23.3918189 |\n",
       "| IL1b | 24.117761 | 167.431877 |  8.870868 | 40.4776501 | 15.7558575 |  9.2116799 | 53.3450039 | 98.602727 | 92.383512 | 180.302138 | ⋯ |  9.4157549 | 21.4534240 | 27.8493328 | 927.559496 | 11.5052411 | 89.453532 | 104.084531 | 22.8313411 | 53.797197 | 17.8222380 |\n",
       "| IL2 |  5.265719 |  12.683771 |  2.483751 |  0.5200777 |  0.7766565 |  0.2684367 |  1.8460707 |  9.060809 |  4.800959 |  11.239145 | ⋯ |  0.7175273 |  0.8714269 |  0.2814659 |  14.667649 |  0.7407722 |  8.725433 |   5.653496 |  0.4216734 |  4.668523 |  0.3614672 |\n",
       "\n"
      ],
      "text/plain": [
       "        Ecig_39   Ecig_41    Ecig_44   Ecig_45    Ecig_47    Ecig_48   \n",
       "IFNg     5.369561  11.612812  4.160319  0.8881171  1.4481966  0.8494440\n",
       "IL10     2.992854   9.060027  2.034095  0.4310717  0.4997130  0.4240552\n",
       "IL12p70  1.670016   3.371081  1.565569  0.3063518  0.8622316  0.2785117\n",
       "IL13    48.368132  67.963220 50.771205 25.2390558 36.8147135 14.5127220\n",
       "IL1b    24.117761 167.431877  8.870868 40.4776501 15.7558575  9.2116799\n",
       "IL2      5.265719  12.683771  2.483751  0.5200777  0.7766565  0.2684367\n",
       "        Ecig_214   Ecig_222  Ecig_223  Ecig_229   ⋯ NS_217     NS_220    \n",
       "IFNg     2.2133006 12.194983 10.359429  11.274641 ⋯  1.4100626  2.2885988\n",
       "IL10     1.2942145  4.519250  2.141442  14.467577 ⋯  0.3368341  0.6621680\n",
       "IL12p70  0.7038064  5.050170  1.880607   4.079984 ⋯  0.5284839  0.7517281\n",
       "IL13    34.6004791 83.282335 61.603704  85.073378 ⋯ 10.9902839 31.6987943\n",
       "IL1b    53.3450039 98.602727 92.383512 180.302138 ⋯  9.4157549 21.4534240\n",
       "IL2      1.8460707  9.060809  4.800959  11.239145 ⋯  0.7175273  0.8714269\n",
       "        NS_224     NS_227     NS_234     NS_242    NS_245     NS_246    \n",
       "IFNg     1.6232601  12.568316  1.9416090 10.337784   7.890241  0.7175676\n",
       "IL10     0.4240552  22.625324  0.3994781  4.156594   3.000276  0.1950644\n",
       "IL12p70  0.8180437   3.124857  0.5377213  4.800905   1.950156  0.2952182\n",
       "IL13    33.3564823  94.411251 13.3227644 89.613874  69.582659 20.0421143\n",
       "IL1b    27.8493328 927.559496 11.5052411 89.453532 104.084531 22.8313411\n",
       "IL2      0.2814659  14.667649  0.7407722  8.725433   5.653496  0.4216734\n",
       "        NS_263    NS_264    \n",
       "IFNg     7.147723  2.0700327\n",
       "IL10     2.339561  0.3868263\n",
       "IL12p70  1.814701  0.5303315\n",
       "IL13    59.211105 23.3918189\n",
       "IL1b    53.797197 17.8222380\n",
       "IL2      4.668523  0.3614672"
      ]
     },
     "metadata": {},
     "output_type": "display_data"
    }
   ],
   "source": [
    "#There are two IL8 cytokines specifying two ranges of detection. We only want to consider the upper range, \n",
    "#thus the lower range is dropped\n",
    "cyt <- as.data.frame(t(cytokine_df))\n",
    "cyt <- cyt %>% rownames_to_column(\"cytokine\")\n",
    "cyt[9,1] <- \"IL8_drop\"\n",
    "cyt[23,1] <- \"IL8\"\n",
    "cytokine_df <- cyt %>% filter(cytokine!=\"IL8_drop\") %>% column_to_rownames(\"cytokine\")\n",
    "head(cytokine_df)"
   ]
  },
  {
   "cell_type": "code",
   "execution_count": 14,
   "id": "electronic-arbor",
   "metadata": {},
   "outputs": [],
   "source": [
    "#Convert cytokine to binary (if the value is missing 0, if the value is present 1)\n",
    "cytokine_missing_NS <- cytokine_df %>%\n",
    "    #selecting cols that contain NS\n",
    "    select(contains(\"NS\")) %>%\n",
    "    mutate_all(~replace(.,!is.na(.), 1)) %>%\n",
    "    mutate_all(~replace(., is.na(.), 0)) %>%\n",
    "    mutate_all(function(x) as.numeric(as.character(x)))\n",
    "               \n",
    " cytokine_missing_Ecig <- cytokine_df %>%\n",
    "    #selecting cols that contain NS\n",
    "    select(contains(\"Ecig\")) %>%\n",
    "    mutate_all(~replace(.,!is.na(.), 1)) %>%\n",
    "    mutate_all(~replace(., is.na(.), 0)) %>%\n",
    "    mutate_all(function(x) as.numeric(as.character(x)))"
   ]
  },
  {
   "cell_type": "code",
   "execution_count": 15,
   "id": "amateur-arctic",
   "metadata": {},
   "outputs": [
    {
     "data": {
      "text/html": [
       "<table class=\"dataframe\">\n",
       "<caption>A tabyl: 6 × 28</caption>\n",
       "<thead>\n",
       "\t<tr><th></th><th scope=col>NS_070</th><th scope=col>NS_110</th><th scope=col>NS_143</th><th scope=col>NS_152</th><th scope=col>NS_196</th><th scope=col>NS_225</th><th scope=col>NS_228</th><th scope=col>NS_231</th><th scope=col>NS_233</th><th scope=col>NS_238</th><th scope=col>⋯</th><th scope=col>NS_220</th><th scope=col>NS_224</th><th scope=col>NS_227</th><th scope=col>NS_234</th><th scope=col>NS_242</th><th scope=col>NS_245</th><th scope=col>NS_246</th><th scope=col>NS_263</th><th scope=col>NS_264</th><th scope=col>Total</th></tr>\n",
       "\t<tr><th></th><th scope=col>&lt;dbl&gt;</th><th scope=col>&lt;dbl&gt;</th><th scope=col>&lt;dbl&gt;</th><th scope=col>&lt;dbl&gt;</th><th scope=col>&lt;dbl&gt;</th><th scope=col>&lt;dbl&gt;</th><th scope=col>&lt;dbl&gt;</th><th scope=col>&lt;dbl&gt;</th><th scope=col>&lt;dbl&gt;</th><th scope=col>&lt;dbl&gt;</th><th scope=col>⋯</th><th scope=col>&lt;dbl&gt;</th><th scope=col>&lt;dbl&gt;</th><th scope=col>&lt;dbl&gt;</th><th scope=col>&lt;dbl&gt;</th><th scope=col>&lt;dbl&gt;</th><th scope=col>&lt;dbl&gt;</th><th scope=col>&lt;dbl&gt;</th><th scope=col>&lt;dbl&gt;</th><th scope=col>&lt;dbl&gt;</th><th scope=col>&lt;dbl&gt;</th></tr>\n",
       "</thead>\n",
       "<tbody>\n",
       "\t<tr><th scope=row>IFNg</th><td>1</td><td>1</td><td>1</td><td>1</td><td>1</td><td>1</td><td>1</td><td>1</td><td>1</td><td>1</td><td>⋯</td><td>1</td><td>1</td><td>1</td><td>1</td><td>1</td><td>1</td><td>1</td><td>1</td><td>1</td><td>27</td></tr>\n",
       "\t<tr><th scope=row>IL10</th><td>1</td><td>1</td><td>1</td><td>1</td><td>1</td><td>1</td><td>1</td><td>1</td><td>1</td><td>1</td><td>⋯</td><td>1</td><td>1</td><td>1</td><td>1</td><td>1</td><td>1</td><td>1</td><td>1</td><td>1</td><td>27</td></tr>\n",
       "\t<tr><th scope=row>IL12p70</th><td>1</td><td>1</td><td>1</td><td>1</td><td>1</td><td>1</td><td>1</td><td>1</td><td>1</td><td>1</td><td>⋯</td><td>1</td><td>1</td><td>1</td><td>1</td><td>1</td><td>1</td><td>1</td><td>1</td><td>1</td><td>27</td></tr>\n",
       "\t<tr><th scope=row>IL13</th><td>1</td><td>1</td><td>1</td><td>1</td><td>1</td><td>1</td><td>1</td><td>1</td><td>1</td><td>1</td><td>⋯</td><td>1</td><td>1</td><td>1</td><td>1</td><td>1</td><td>1</td><td>1</td><td>1</td><td>1</td><td>27</td></tr>\n",
       "\t<tr><th scope=row>IL1b</th><td>1</td><td>1</td><td>1</td><td>1</td><td>1</td><td>1</td><td>1</td><td>1</td><td>1</td><td>1</td><td>⋯</td><td>1</td><td>1</td><td>1</td><td>1</td><td>1</td><td>1</td><td>1</td><td>1</td><td>1</td><td>27</td></tr>\n",
       "\t<tr><th scope=row>IL2</th><td>1</td><td>1</td><td>1</td><td>1</td><td>1</td><td>1</td><td>1</td><td>1</td><td>1</td><td>1</td><td>⋯</td><td>1</td><td>1</td><td>1</td><td>1</td><td>1</td><td>1</td><td>1</td><td>1</td><td>1</td><td>27</td></tr>\n",
       "</tbody>\n",
       "</table>\n"
      ],
      "text/latex": [
       "A tabyl: 6 × 28\n",
       "\\begin{tabular}{r|lllllllllllllllllllll}\n",
       "  & NS\\_070 & NS\\_110 & NS\\_143 & NS\\_152 & NS\\_196 & NS\\_225 & NS\\_228 & NS\\_231 & NS\\_233 & NS\\_238 & ⋯ & NS\\_220 & NS\\_224 & NS\\_227 & NS\\_234 & NS\\_242 & NS\\_245 & NS\\_246 & NS\\_263 & NS\\_264 & Total\\\\\n",
       "  & <dbl> & <dbl> & <dbl> & <dbl> & <dbl> & <dbl> & <dbl> & <dbl> & <dbl> & <dbl> & ⋯ & <dbl> & <dbl> & <dbl> & <dbl> & <dbl> & <dbl> & <dbl> & <dbl> & <dbl> & <dbl>\\\\\n",
       "\\hline\n",
       "\tIFNg & 1 & 1 & 1 & 1 & 1 & 1 & 1 & 1 & 1 & 1 & ⋯ & 1 & 1 & 1 & 1 & 1 & 1 & 1 & 1 & 1 & 27\\\\\n",
       "\tIL10 & 1 & 1 & 1 & 1 & 1 & 1 & 1 & 1 & 1 & 1 & ⋯ & 1 & 1 & 1 & 1 & 1 & 1 & 1 & 1 & 1 & 27\\\\\n",
       "\tIL12p70 & 1 & 1 & 1 & 1 & 1 & 1 & 1 & 1 & 1 & 1 & ⋯ & 1 & 1 & 1 & 1 & 1 & 1 & 1 & 1 & 1 & 27\\\\\n",
       "\tIL13 & 1 & 1 & 1 & 1 & 1 & 1 & 1 & 1 & 1 & 1 & ⋯ & 1 & 1 & 1 & 1 & 1 & 1 & 1 & 1 & 1 & 27\\\\\n",
       "\tIL1b & 1 & 1 & 1 & 1 & 1 & 1 & 1 & 1 & 1 & 1 & ⋯ & 1 & 1 & 1 & 1 & 1 & 1 & 1 & 1 & 1 & 27\\\\\n",
       "\tIL2 & 1 & 1 & 1 & 1 & 1 & 1 & 1 & 1 & 1 & 1 & ⋯ & 1 & 1 & 1 & 1 & 1 & 1 & 1 & 1 & 1 & 27\\\\\n",
       "\\end{tabular}\n"
      ],
      "text/markdown": [
       "\n",
       "A tabyl: 6 × 28\n",
       "\n",
       "| <!--/--> | NS_070 &lt;dbl&gt; | NS_110 &lt;dbl&gt; | NS_143 &lt;dbl&gt; | NS_152 &lt;dbl&gt; | NS_196 &lt;dbl&gt; | NS_225 &lt;dbl&gt; | NS_228 &lt;dbl&gt; | NS_231 &lt;dbl&gt; | NS_233 &lt;dbl&gt; | NS_238 &lt;dbl&gt; | ⋯ ⋯ | NS_220 &lt;dbl&gt; | NS_224 &lt;dbl&gt; | NS_227 &lt;dbl&gt; | NS_234 &lt;dbl&gt; | NS_242 &lt;dbl&gt; | NS_245 &lt;dbl&gt; | NS_246 &lt;dbl&gt; | NS_263 &lt;dbl&gt; | NS_264 &lt;dbl&gt; | Total &lt;dbl&gt; |\n",
       "|---|---|---|---|---|---|---|---|---|---|---|---|---|---|---|---|---|---|---|---|---|---|\n",
       "| IFNg | 1 | 1 | 1 | 1 | 1 | 1 | 1 | 1 | 1 | 1 | ⋯ | 1 | 1 | 1 | 1 | 1 | 1 | 1 | 1 | 1 | 27 |\n",
       "| IL10 | 1 | 1 | 1 | 1 | 1 | 1 | 1 | 1 | 1 | 1 | ⋯ | 1 | 1 | 1 | 1 | 1 | 1 | 1 | 1 | 1 | 27 |\n",
       "| IL12p70 | 1 | 1 | 1 | 1 | 1 | 1 | 1 | 1 | 1 | 1 | ⋯ | 1 | 1 | 1 | 1 | 1 | 1 | 1 | 1 | 1 | 27 |\n",
       "| IL13 | 1 | 1 | 1 | 1 | 1 | 1 | 1 | 1 | 1 | 1 | ⋯ | 1 | 1 | 1 | 1 | 1 | 1 | 1 | 1 | 1 | 27 |\n",
       "| IL1b | 1 | 1 | 1 | 1 | 1 | 1 | 1 | 1 | 1 | 1 | ⋯ | 1 | 1 | 1 | 1 | 1 | 1 | 1 | 1 | 1 | 27 |\n",
       "| IL2 | 1 | 1 | 1 | 1 | 1 | 1 | 1 | 1 | 1 | 1 | ⋯ | 1 | 1 | 1 | 1 | 1 | 1 | 1 | 1 | 1 | 27 |\n",
       "\n"
      ],
      "text/plain": [
       "        NS_070 NS_110 NS_143 NS_152 NS_196 NS_225 NS_228 NS_231 NS_233 NS_238 ⋯\n",
       "IFNg    1      1      1      1      1      1      1      1      1      1      ⋯\n",
       "IL10    1      1      1      1      1      1      1      1      1      1      ⋯\n",
       "IL12p70 1      1      1      1      1      1      1      1      1      1      ⋯\n",
       "IL13    1      1      1      1      1      1      1      1      1      1      ⋯\n",
       "IL1b    1      1      1      1      1      1      1      1      1      1      ⋯\n",
       "IL2     1      1      1      1      1      1      1      1      1      1      ⋯\n",
       "        NS_220 NS_224 NS_227 NS_234 NS_242 NS_245 NS_246 NS_263 NS_264 Total\n",
       "IFNg    1      1      1      1      1      1      1      1      1      27   \n",
       "IL10    1      1      1      1      1      1      1      1      1      27   \n",
       "IL12p70 1      1      1      1      1      1      1      1      1      27   \n",
       "IL13    1      1      1      1      1      1      1      1      1      27   \n",
       "IL1b    1      1      1      1      1      1      1      1      1      27   \n",
       "IL2     1      1      1      1      1      1      1      1      1      27   "
      ]
     },
     "metadata": {},
     "output_type": "display_data"
    },
    {
     "data": {
      "text/html": [
       "<table class=\"dataframe\">\n",
       "<caption>A tabyl: 6 × 33</caption>\n",
       "<thead>\n",
       "\t<tr><th></th><th scope=col>Ecig_39</th><th scope=col>Ecig_41</th><th scope=col>Ecig_44</th><th scope=col>Ecig_45</th><th scope=col>Ecig_47</th><th scope=col>Ecig_48</th><th scope=col>Ecig_214</th><th scope=col>Ecig_222</th><th scope=col>Ecig_223</th><th scope=col>Ecig_229</th><th scope=col>⋯</th><th scope=col>Ecig_237</th><th scope=col>Ecig_239</th><th scope=col>Ecig_240</th><th scope=col>Ecig_241</th><th scope=col>Ecig_247</th><th scope=col>Ecig_250</th><th scope=col>Ecig_254</th><th scope=col>Ecig_257</th><th scope=col>Ecig_259</th><th scope=col>Total</th></tr>\n",
       "\t<tr><th></th><th scope=col>&lt;dbl&gt;</th><th scope=col>&lt;dbl&gt;</th><th scope=col>&lt;dbl&gt;</th><th scope=col>&lt;dbl&gt;</th><th scope=col>&lt;dbl&gt;</th><th scope=col>&lt;dbl&gt;</th><th scope=col>&lt;dbl&gt;</th><th scope=col>&lt;dbl&gt;</th><th scope=col>&lt;dbl&gt;</th><th scope=col>&lt;dbl&gt;</th><th scope=col>⋯</th><th scope=col>&lt;dbl&gt;</th><th scope=col>&lt;dbl&gt;</th><th scope=col>&lt;dbl&gt;</th><th scope=col>&lt;dbl&gt;</th><th scope=col>&lt;dbl&gt;</th><th scope=col>&lt;dbl&gt;</th><th scope=col>&lt;dbl&gt;</th><th scope=col>&lt;dbl&gt;</th><th scope=col>&lt;dbl&gt;</th><th scope=col>&lt;dbl&gt;</th></tr>\n",
       "</thead>\n",
       "<tbody>\n",
       "\t<tr><th scope=row>IFNg</th><td>1</td><td>1</td><td>1</td><td>1</td><td>1</td><td>1</td><td>1</td><td>1</td><td>1</td><td>1</td><td>⋯</td><td>1</td><td>1</td><td>1</td><td>1</td><td>1</td><td>1</td><td>1</td><td>1</td><td>1</td><td>32</td></tr>\n",
       "\t<tr><th scope=row>IL10</th><td>1</td><td>1</td><td>1</td><td>1</td><td>1</td><td>1</td><td>1</td><td>1</td><td>1</td><td>1</td><td>⋯</td><td>1</td><td>1</td><td>1</td><td>1</td><td>1</td><td>1</td><td>1</td><td>1</td><td>1</td><td>32</td></tr>\n",
       "\t<tr><th scope=row>IL12p70</th><td>1</td><td>1</td><td>1</td><td>1</td><td>1</td><td>1</td><td>1</td><td>1</td><td>1</td><td>1</td><td>⋯</td><td>1</td><td>1</td><td>1</td><td>1</td><td>1</td><td>1</td><td>1</td><td>1</td><td>1</td><td>32</td></tr>\n",
       "\t<tr><th scope=row>IL13</th><td>1</td><td>1</td><td>1</td><td>1</td><td>1</td><td>1</td><td>1</td><td>1</td><td>1</td><td>1</td><td>⋯</td><td>1</td><td>1</td><td>1</td><td>1</td><td>1</td><td>1</td><td>1</td><td>1</td><td>1</td><td>32</td></tr>\n",
       "\t<tr><th scope=row>IL1b</th><td>1</td><td>1</td><td>1</td><td>1</td><td>1</td><td>1</td><td>1</td><td>1</td><td>1</td><td>1</td><td>⋯</td><td>1</td><td>1</td><td>1</td><td>1</td><td>1</td><td>1</td><td>1</td><td>1</td><td>1</td><td>32</td></tr>\n",
       "\t<tr><th scope=row>IL2</th><td>1</td><td>1</td><td>1</td><td>1</td><td>1</td><td>1</td><td>1</td><td>1</td><td>1</td><td>1</td><td>⋯</td><td>1</td><td>1</td><td>1</td><td>1</td><td>1</td><td>1</td><td>1</td><td>1</td><td>1</td><td>32</td></tr>\n",
       "</tbody>\n",
       "</table>\n"
      ],
      "text/latex": [
       "A tabyl: 6 × 33\n",
       "\\begin{tabular}{r|lllllllllllllllllllll}\n",
       "  & Ecig\\_39 & Ecig\\_41 & Ecig\\_44 & Ecig\\_45 & Ecig\\_47 & Ecig\\_48 & Ecig\\_214 & Ecig\\_222 & Ecig\\_223 & Ecig\\_229 & ⋯ & Ecig\\_237 & Ecig\\_239 & Ecig\\_240 & Ecig\\_241 & Ecig\\_247 & Ecig\\_250 & Ecig\\_254 & Ecig\\_257 & Ecig\\_259 & Total\\\\\n",
       "  & <dbl> & <dbl> & <dbl> & <dbl> & <dbl> & <dbl> & <dbl> & <dbl> & <dbl> & <dbl> & ⋯ & <dbl> & <dbl> & <dbl> & <dbl> & <dbl> & <dbl> & <dbl> & <dbl> & <dbl> & <dbl>\\\\\n",
       "\\hline\n",
       "\tIFNg & 1 & 1 & 1 & 1 & 1 & 1 & 1 & 1 & 1 & 1 & ⋯ & 1 & 1 & 1 & 1 & 1 & 1 & 1 & 1 & 1 & 32\\\\\n",
       "\tIL10 & 1 & 1 & 1 & 1 & 1 & 1 & 1 & 1 & 1 & 1 & ⋯ & 1 & 1 & 1 & 1 & 1 & 1 & 1 & 1 & 1 & 32\\\\\n",
       "\tIL12p70 & 1 & 1 & 1 & 1 & 1 & 1 & 1 & 1 & 1 & 1 & ⋯ & 1 & 1 & 1 & 1 & 1 & 1 & 1 & 1 & 1 & 32\\\\\n",
       "\tIL13 & 1 & 1 & 1 & 1 & 1 & 1 & 1 & 1 & 1 & 1 & ⋯ & 1 & 1 & 1 & 1 & 1 & 1 & 1 & 1 & 1 & 32\\\\\n",
       "\tIL1b & 1 & 1 & 1 & 1 & 1 & 1 & 1 & 1 & 1 & 1 & ⋯ & 1 & 1 & 1 & 1 & 1 & 1 & 1 & 1 & 1 & 32\\\\\n",
       "\tIL2 & 1 & 1 & 1 & 1 & 1 & 1 & 1 & 1 & 1 & 1 & ⋯ & 1 & 1 & 1 & 1 & 1 & 1 & 1 & 1 & 1 & 32\\\\\n",
       "\\end{tabular}\n"
      ],
      "text/markdown": [
       "\n",
       "A tabyl: 6 × 33\n",
       "\n",
       "| <!--/--> | Ecig_39 &lt;dbl&gt; | Ecig_41 &lt;dbl&gt; | Ecig_44 &lt;dbl&gt; | Ecig_45 &lt;dbl&gt; | Ecig_47 &lt;dbl&gt; | Ecig_48 &lt;dbl&gt; | Ecig_214 &lt;dbl&gt; | Ecig_222 &lt;dbl&gt; | Ecig_223 &lt;dbl&gt; | Ecig_229 &lt;dbl&gt; | ⋯ ⋯ | Ecig_237 &lt;dbl&gt; | Ecig_239 &lt;dbl&gt; | Ecig_240 &lt;dbl&gt; | Ecig_241 &lt;dbl&gt; | Ecig_247 &lt;dbl&gt; | Ecig_250 &lt;dbl&gt; | Ecig_254 &lt;dbl&gt; | Ecig_257 &lt;dbl&gt; | Ecig_259 &lt;dbl&gt; | Total &lt;dbl&gt; |\n",
       "|---|---|---|---|---|---|---|---|---|---|---|---|---|---|---|---|---|---|---|---|---|---|\n",
       "| IFNg | 1 | 1 | 1 | 1 | 1 | 1 | 1 | 1 | 1 | 1 | ⋯ | 1 | 1 | 1 | 1 | 1 | 1 | 1 | 1 | 1 | 32 |\n",
       "| IL10 | 1 | 1 | 1 | 1 | 1 | 1 | 1 | 1 | 1 | 1 | ⋯ | 1 | 1 | 1 | 1 | 1 | 1 | 1 | 1 | 1 | 32 |\n",
       "| IL12p70 | 1 | 1 | 1 | 1 | 1 | 1 | 1 | 1 | 1 | 1 | ⋯ | 1 | 1 | 1 | 1 | 1 | 1 | 1 | 1 | 1 | 32 |\n",
       "| IL13 | 1 | 1 | 1 | 1 | 1 | 1 | 1 | 1 | 1 | 1 | ⋯ | 1 | 1 | 1 | 1 | 1 | 1 | 1 | 1 | 1 | 32 |\n",
       "| IL1b | 1 | 1 | 1 | 1 | 1 | 1 | 1 | 1 | 1 | 1 | ⋯ | 1 | 1 | 1 | 1 | 1 | 1 | 1 | 1 | 1 | 32 |\n",
       "| IL2 | 1 | 1 | 1 | 1 | 1 | 1 | 1 | 1 | 1 | 1 | ⋯ | 1 | 1 | 1 | 1 | 1 | 1 | 1 | 1 | 1 | 32 |\n",
       "\n"
      ],
      "text/plain": [
       "        Ecig_39 Ecig_41 Ecig_44 Ecig_45 Ecig_47 Ecig_48 Ecig_214 Ecig_222\n",
       "IFNg    1       1       1       1       1       1       1        1       \n",
       "IL10    1       1       1       1       1       1       1        1       \n",
       "IL12p70 1       1       1       1       1       1       1        1       \n",
       "IL13    1       1       1       1       1       1       1        1       \n",
       "IL1b    1       1       1       1       1       1       1        1       \n",
       "IL2     1       1       1       1       1       1       1        1       \n",
       "        Ecig_223 Ecig_229 ⋯ Ecig_237 Ecig_239 Ecig_240 Ecig_241 Ecig_247\n",
       "IFNg    1        1        ⋯ 1        1        1        1        1       \n",
       "IL10    1        1        ⋯ 1        1        1        1        1       \n",
       "IL12p70 1        1        ⋯ 1        1        1        1        1       \n",
       "IL13    1        1        ⋯ 1        1        1        1        1       \n",
       "IL1b    1        1        ⋯ 1        1        1        1        1       \n",
       "IL2     1        1        ⋯ 1        1        1        1        1       \n",
       "        Ecig_250 Ecig_254 Ecig_257 Ecig_259 Total\n",
       "IFNg    1        1        1        1        32   \n",
       "IL10    1        1        1        1        32   \n",
       "IL12p70 1        1        1        1        32   \n",
       "IL13    1        1        1        1        32   \n",
       "IL1b    1        1        1        1        32   \n",
       "IL2     1        1        1        1        32   "
      ]
     },
     "metadata": {},
     "output_type": "display_data"
    }
   ],
   "source": [
    "#Identify cytokines that are detected in at least 50% of NS or Ecig samples\n",
    "features_to_keep_NS <- cytokine_missing_NS %>% \n",
    "    adorn_totals(where = \"col\",... = colnames(cytokine_missing_NS)) %>% \n",
    "    filter(Total >= ncol(cytokine_missing_NS)*.5)\n",
    "head(features_to_keep_NS) \n",
    "\n",
    "features_to_keep_Ecig <- cytokine_missing_Ecig %>% \n",
    "    adorn_totals(where = \"col\",... = colnames(cytokine_missing_Ecig)) %>% \n",
    "    filter(Total >= ncol(cytokine_missing_Ecig)*.5)\n",
    "head(features_to_keep_Ecig) "
   ]
  },
  {
   "cell_type": "code",
   "execution_count": 16,
   "id": "cultural-helmet",
   "metadata": {},
   "outputs": [
    {
     "data": {
      "text/html": [
       "<table class=\"dataframe\">\n",
       "<caption>A matrix: 6 × 29 of type dbl</caption>\n",
       "<thead>\n",
       "\t<tr><th></th><th scope=col>IFNg</th><th scope=col>IL10</th><th scope=col>IL12p70</th><th scope=col>IL13</th><th scope=col>IL1b</th><th scope=col>IL2</th><th scope=col>IL4</th><th scope=col>IL6</th><th scope=col>TNFa</th><th scope=col>GMCSF</th><th scope=col>⋯</th><th scope=col>Eotaxin</th><th scope=col>Eotaxin3</th><th scope=col>IL8</th><th scope=col>IP10</th><th scope=col>MCP10</th><th scope=col>MCP4</th><th scope=col>MDC</th><th scope=col>MIP1a</th><th scope=col>MIP1b</th><th scope=col>TARC</th></tr>\n",
       "</thead>\n",
       "<tbody>\n",
       "\t<tr><th scope=row>Ecig_39</th><td> 5.3695611</td><td>2.9928536</td><td>1.6700162</td><td>48.36813</td><td> 24.117761</td><td> 5.2657189</td><td>0.42455866</td><td>13.075670</td><td> 5.9501019</td><td>0.1302776</td><td>⋯</td><td>358.19662</td><td>       NA</td><td> 18547.74</td><td>8736.7132</td><td>112.48249</td><td>10.072081</td><td> 31.69299</td><td>22.02667</td><td> 46.80070</td><td>20.541303</td></tr>\n",
       "\t<tr><th scope=row>Ecig_41</th><td>11.6128116</td><td>9.0600267</td><td>3.3710810</td><td>67.96322</td><td>167.431877</td><td>12.6837712</td><td>0.71329848</td><td>19.032378</td><td>11.3628057</td><td>1.5269950</td><td>⋯</td><td>267.15489</td><td>69.256817</td><td>109246.09</td><td>7708.0228</td><td>255.29369</td><td>13.009597</td><td>221.57141</td><td>52.67214</td><td>149.02215</td><td>24.715188</td></tr>\n",
       "\t<tr><th scope=row>Ecig_44</th><td> 4.1603189</td><td>2.0340947</td><td>1.5655687</td><td>50.77121</td><td>  8.870868</td><td> 2.4837514</td><td>0.49649954</td><td> 9.266373</td><td> 6.3306852</td><td>0.7731633</td><td>⋯</td><td>103.50569</td><td> 8.724533</td><td> 11221.13</td><td>7109.3784</td><td>147.73303</td><td>       NA</td><td>167.32860</td><td>46.98751</td><td>101.25635</td><td>35.541708</td></tr>\n",
       "\t<tr><th scope=row>Ecig_45</th><td> 0.8881171</td><td>0.4310717</td><td>0.3063518</td><td>25.23906</td><td> 40.477650</td><td> 0.5200777</td><td>0.02914528</td><td> 6.395885</td><td> 1.9479068</td><td>0.2527908</td><td>⋯</td><td>298.85050</td><td> 8.438962</td><td> 14633.80</td><td>3045.9940</td><td> 95.82647</td><td>21.200301</td><td>196.12405</td><td>32.89026</td><td> 24.92311</td><td>19.708475</td></tr>\n",
       "\t<tr><th scope=row>Ecig_47</th><td> 1.4481966</td><td>0.4997130</td><td>0.8622316</td><td>36.81471</td><td> 15.755858</td><td> 0.7766565</td><td>0.08862797</td><td> 5.244501</td><td> 3.5847722</td><td>0.2845560</td><td>⋯</td><td> 67.18448</td><td> 5.487179</td><td> 12078.16</td><td> 997.9376</td><td> 66.13370</td><td> 7.189953</td><td>139.46181</td><td>16.70862</td><td> 21.35656</td><td> 9.885379</td></tr>\n",
       "\t<tr><th scope=row>Ecig_48</th><td> 0.8494440</td><td>0.4240552</td><td>0.2785117</td><td>14.51272</td><td>  9.211680</td><td> 0.2684367</td><td>0.14116411</td><td> 2.476904</td><td> 0.5468069</td><td>0.0571680</td><td>⋯</td><td> 25.07486</td><td> 2.151572</td><td>  4880.69</td><td> 246.9985</td><td> 57.50348</td><td> 3.359783</td><td> 69.35689</td><td> 9.56433</td><td> 15.67118</td><td> 9.302557</td></tr>\n",
       "</tbody>\n",
       "</table>\n"
      ],
      "text/latex": [
       "A matrix: 6 × 29 of type dbl\n",
       "\\begin{tabular}{r|lllllllllllllllllllll}\n",
       "  & IFNg & IL10 & IL12p70 & IL13 & IL1b & IL2 & IL4 & IL6 & TNFa & GMCSF & ⋯ & Eotaxin & Eotaxin3 & IL8 & IP10 & MCP10 & MCP4 & MDC & MIP1a & MIP1b & TARC\\\\\n",
       "\\hline\n",
       "\tEcig\\_39 &  5.3695611 & 2.9928536 & 1.6700162 & 48.36813 &  24.117761 &  5.2657189 & 0.42455866 & 13.075670 &  5.9501019 & 0.1302776 & ⋯ & 358.19662 &        NA &  18547.74 & 8736.7132 & 112.48249 & 10.072081 &  31.69299 & 22.02667 &  46.80070 & 20.541303\\\\\n",
       "\tEcig\\_41 & 11.6128116 & 9.0600267 & 3.3710810 & 67.96322 & 167.431877 & 12.6837712 & 0.71329848 & 19.032378 & 11.3628057 & 1.5269950 & ⋯ & 267.15489 & 69.256817 & 109246.09 & 7708.0228 & 255.29369 & 13.009597 & 221.57141 & 52.67214 & 149.02215 & 24.715188\\\\\n",
       "\tEcig\\_44 &  4.1603189 & 2.0340947 & 1.5655687 & 50.77121 &   8.870868 &  2.4837514 & 0.49649954 &  9.266373 &  6.3306852 & 0.7731633 & ⋯ & 103.50569 &  8.724533 &  11221.13 & 7109.3784 & 147.73303 &        NA & 167.32860 & 46.98751 & 101.25635 & 35.541708\\\\\n",
       "\tEcig\\_45 &  0.8881171 & 0.4310717 & 0.3063518 & 25.23906 &  40.477650 &  0.5200777 & 0.02914528 &  6.395885 &  1.9479068 & 0.2527908 & ⋯ & 298.85050 &  8.438962 &  14633.80 & 3045.9940 &  95.82647 & 21.200301 & 196.12405 & 32.89026 &  24.92311 & 19.708475\\\\\n",
       "\tEcig\\_47 &  1.4481966 & 0.4997130 & 0.8622316 & 36.81471 &  15.755858 &  0.7766565 & 0.08862797 &  5.244501 &  3.5847722 & 0.2845560 & ⋯ &  67.18448 &  5.487179 &  12078.16 &  997.9376 &  66.13370 &  7.189953 & 139.46181 & 16.70862 &  21.35656 &  9.885379\\\\\n",
       "\tEcig\\_48 &  0.8494440 & 0.4240552 & 0.2785117 & 14.51272 &   9.211680 &  0.2684367 & 0.14116411 &  2.476904 &  0.5468069 & 0.0571680 & ⋯ &  25.07486 &  2.151572 &   4880.69 &  246.9985 &  57.50348 &  3.359783 &  69.35689 &  9.56433 &  15.67118 &  9.302557\\\\\n",
       "\\end{tabular}\n"
      ],
      "text/markdown": [
       "\n",
       "A matrix: 6 × 29 of type dbl\n",
       "\n",
       "| <!--/--> | IFNg | IL10 | IL12p70 | IL13 | IL1b | IL2 | IL4 | IL6 | TNFa | GMCSF | ⋯ | Eotaxin | Eotaxin3 | IL8 | IP10 | MCP10 | MCP4 | MDC | MIP1a | MIP1b | TARC |\n",
       "|---|---|---|---|---|---|---|---|---|---|---|---|---|---|---|---|---|---|---|---|---|---|\n",
       "| Ecig_39 |  5.3695611 | 2.9928536 | 1.6700162 | 48.36813 |  24.117761 |  5.2657189 | 0.42455866 | 13.075670 |  5.9501019 | 0.1302776 | ⋯ | 358.19662 |        NA |  18547.74 | 8736.7132 | 112.48249 | 10.072081 |  31.69299 | 22.02667 |  46.80070 | 20.541303 |\n",
       "| Ecig_41 | 11.6128116 | 9.0600267 | 3.3710810 | 67.96322 | 167.431877 | 12.6837712 | 0.71329848 | 19.032378 | 11.3628057 | 1.5269950 | ⋯ | 267.15489 | 69.256817 | 109246.09 | 7708.0228 | 255.29369 | 13.009597 | 221.57141 | 52.67214 | 149.02215 | 24.715188 |\n",
       "| Ecig_44 |  4.1603189 | 2.0340947 | 1.5655687 | 50.77121 |   8.870868 |  2.4837514 | 0.49649954 |  9.266373 |  6.3306852 | 0.7731633 | ⋯ | 103.50569 |  8.724533 |  11221.13 | 7109.3784 | 147.73303 |        NA | 167.32860 | 46.98751 | 101.25635 | 35.541708 |\n",
       "| Ecig_45 |  0.8881171 | 0.4310717 | 0.3063518 | 25.23906 |  40.477650 |  0.5200777 | 0.02914528 |  6.395885 |  1.9479068 | 0.2527908 | ⋯ | 298.85050 |  8.438962 |  14633.80 | 3045.9940 |  95.82647 | 21.200301 | 196.12405 | 32.89026 |  24.92311 | 19.708475 |\n",
       "| Ecig_47 |  1.4481966 | 0.4997130 | 0.8622316 | 36.81471 |  15.755858 |  0.7766565 | 0.08862797 |  5.244501 |  3.5847722 | 0.2845560 | ⋯ |  67.18448 |  5.487179 |  12078.16 |  997.9376 |  66.13370 |  7.189953 | 139.46181 | 16.70862 |  21.35656 |  9.885379 |\n",
       "| Ecig_48 |  0.8494440 | 0.4240552 | 0.2785117 | 14.51272 |   9.211680 |  0.2684367 | 0.14116411 |  2.476904 |  0.5468069 | 0.0571680 | ⋯ |  25.07486 |  2.151572 |   4880.69 |  246.9985 |  57.50348 |  3.359783 |  69.35689 |  9.56433 |  15.67118 |  9.302557 |\n",
       "\n"
      ],
      "text/plain": [
       "        IFNg       IL10      IL12p70   IL13     IL1b       IL2       \n",
       "Ecig_39  5.3695611 2.9928536 1.6700162 48.36813  24.117761  5.2657189\n",
       "Ecig_41 11.6128116 9.0600267 3.3710810 67.96322 167.431877 12.6837712\n",
       "Ecig_44  4.1603189 2.0340947 1.5655687 50.77121   8.870868  2.4837514\n",
       "Ecig_45  0.8881171 0.4310717 0.3063518 25.23906  40.477650  0.5200777\n",
       "Ecig_47  1.4481966 0.4997130 0.8622316 36.81471  15.755858  0.7766565\n",
       "Ecig_48  0.8494440 0.4240552 0.2785117 14.51272   9.211680  0.2684367\n",
       "        IL4        IL6       TNFa       GMCSF     ⋯ Eotaxin   Eotaxin3 \n",
       "Ecig_39 0.42455866 13.075670  5.9501019 0.1302776 ⋯ 358.19662        NA\n",
       "Ecig_41 0.71329848 19.032378 11.3628057 1.5269950 ⋯ 267.15489 69.256817\n",
       "Ecig_44 0.49649954  9.266373  6.3306852 0.7731633 ⋯ 103.50569  8.724533\n",
       "Ecig_45 0.02914528  6.395885  1.9479068 0.2527908 ⋯ 298.85050  8.438962\n",
       "Ecig_47 0.08862797  5.244501  3.5847722 0.2845560 ⋯  67.18448  5.487179\n",
       "Ecig_48 0.14116411  2.476904  0.5468069 0.0571680 ⋯  25.07486  2.151572\n",
       "        IL8       IP10      MCP10     MCP4      MDC       MIP1a    MIP1b    \n",
       "Ecig_39  18547.74 8736.7132 112.48249 10.072081  31.69299 22.02667  46.80070\n",
       "Ecig_41 109246.09 7708.0228 255.29369 13.009597 221.57141 52.67214 149.02215\n",
       "Ecig_44  11221.13 7109.3784 147.73303        NA 167.32860 46.98751 101.25635\n",
       "Ecig_45  14633.80 3045.9940  95.82647 21.200301 196.12405 32.89026  24.92311\n",
       "Ecig_47  12078.16  997.9376  66.13370  7.189953 139.46181 16.70862  21.35656\n",
       "Ecig_48   4880.69  246.9985  57.50348  3.359783  69.35689  9.56433  15.67118\n",
       "        TARC     \n",
       "Ecig_39 20.541303\n",
       "Ecig_41 24.715188\n",
       "Ecig_44 35.541708\n",
       "Ecig_45 19.708475\n",
       "Ecig_47  9.885379\n",
       "Ecig_48  9.302557"
      ]
     },
     "metadata": {},
     "output_type": "display_data"
    }
   ],
   "source": [
    "#Filter the cytokine data for the cytokines that should be retained based on previous identification step\n",
    "filtered_cytokine_matrix = cytokine_df %>% \n",
    "    rownames_to_column(\"cytokine\") %>%\n",
    "    filter(cytokine %in% rownames(features_to_keep_NS) | cytokine %in% rownames(features_to_keep_Ecig)) %>%\n",
    "    column_to_rownames(\"cytokine\") %>%\n",
    "    t()\n",
    "head(filtered_cytokine_matrix)"
   ]
  },
  {
   "cell_type": "code",
   "execution_count": 19,
   "id": "continuing-joint",
   "metadata": {},
   "outputs": [
    {
     "data": {
      "text/html": [
       "0"
      ],
      "text/latex": [
       "0"
      ],
      "text/markdown": [
       "0"
      ],
      "text/plain": [
       "[1] 0"
      ]
     },
     "metadata": {},
     "output_type": "display_data"
    }
   ],
   "source": [
    "#How many cytokines were removed?\n",
    "nrow(cytokine_df) - ncol(filtered_cytokine_matrix)"
   ]
  },
  {
   "cell_type": "code",
   "execution_count": 17,
   "id": "worldwide-cheat",
   "metadata": {},
   "outputs": [
    {
     "data": {
      "text/html": [
       "<table class=\"dataframe\">\n",
       "<caption>A data.frame: 6 × 29</caption>\n",
       "<thead>\n",
       "\t<tr><th></th><th scope=col>IFNg</th><th scope=col>IL10</th><th scope=col>IL12p70</th><th scope=col>IL13</th><th scope=col>IL1b</th><th scope=col>IL2</th><th scope=col>IL4</th><th scope=col>IL6</th><th scope=col>TNFa</th><th scope=col>GMCSF</th><th scope=col>⋯</th><th scope=col>Eotaxin</th><th scope=col>Eotaxin3</th><th scope=col>IL8</th><th scope=col>IP10</th><th scope=col>MCP10</th><th scope=col>MCP4</th><th scope=col>MDC</th><th scope=col>MIP1a</th><th scope=col>MIP1b</th><th scope=col>TARC</th></tr>\n",
       "\t<tr><th></th><th scope=col>&lt;dbl&gt;</th><th scope=col>&lt;dbl&gt;</th><th scope=col>&lt;dbl&gt;</th><th scope=col>&lt;dbl&gt;</th><th scope=col>&lt;dbl&gt;</th><th scope=col>&lt;dbl&gt;</th><th scope=col>&lt;dbl&gt;</th><th scope=col>&lt;dbl&gt;</th><th scope=col>&lt;dbl&gt;</th><th scope=col>&lt;dbl&gt;</th><th scope=col>⋯</th><th scope=col>&lt;dbl&gt;</th><th scope=col>&lt;dbl&gt;</th><th scope=col>&lt;dbl&gt;</th><th scope=col>&lt;dbl&gt;</th><th scope=col>&lt;dbl&gt;</th><th scope=col>&lt;dbl&gt;</th><th scope=col>&lt;dbl&gt;</th><th scope=col>&lt;dbl&gt;</th><th scope=col>&lt;dbl&gt;</th><th scope=col>&lt;dbl&gt;</th></tr>\n",
       "</thead>\n",
       "<tbody>\n",
       "\t<tr><th scope=row>Ecig_39</th><td> 0.72993879</td><td> 0.4760855</td><td> 0.22272067</td><td>1.684559</td><td>1.3823370</td><td> 0.7214577</td><td>-0.3720623</td><td>1.1164640</td><td> 0.7745244</td><td>-0.8851303</td><td>⋯</td><td>2.554121</td><td>-1.2087502</td><td>4.268291</td><td>3.941348</td><td>2.051085</td><td>1.00311922</td><td>1.500963</td><td>1.3429488</td><td>1.670252</td><td>1.3126280</td></tr>\n",
       "\t<tr><th scope=row>Ecig_41</th><td> 1.06493738</td><td> 0.9571295</td><td> 0.52776919</td><td>1.832274</td><td>2.2238381</td><td> 1.1032484</td><td>-0.1467287</td><td>1.2794930</td><td> 1.0554856</td><td> 0.1838376</td><td>⋯</td><td>2.426763</td><td> 1.8404625</td><td>5.038406</td><td>3.886943</td><td>2.407040</td><td>1.11426383</td><td>2.345514</td><td>1.7215810</td><td>2.173251</td><td>1.3929639</td></tr>\n",
       "\t<tr><th scope=row>Ecig_44</th><td> 0.61912662</td><td> 0.3083712</td><td> 0.19467212</td><td>1.705617</td><td>0.9479661</td><td> 0.3951081</td><td>-0.3040811</td><td>0.9669098</td><td> 0.8014507</td><td>-0.1117288</td><td>⋯</td><td>2.014964</td><td> 0.9407422</td><td>4.050037</td><td>3.851832</td><td>2.169478</td><td>0.03758596</td><td>2.223570</td><td>1.6719824</td><td>2.005422</td><td>1.5507383</td></tr>\n",
       "\t<tr><th scope=row>Ecig_45</th><td>-0.05152978</td><td>-0.3654505</td><td>-0.51377958</td><td>1.402073</td><td>1.6072153</td><td>-0.2839318</td><td>-1.5354317</td><td>0.8059006</td><td> 0.2895682</td><td>-0.5972387</td><td>⋯</td><td>2.475454</td><td> 0.9262891</td><td>4.165357</td><td>3.483729</td><td>1.981485</td><td>1.32634202</td><td>2.292531</td><td>1.5170673</td><td>1.396602</td><td>1.2946530</td></tr>\n",
       "\t<tr><th scope=row>Ecig_47</th><td> 0.16082753</td><td>-0.3012793</td><td>-0.06437605</td><td>1.566021</td><td>1.1974420</td><td>-0.1097710</td><td>-1.0524292</td><td>0.7197042</td><td> 0.5544616</td><td>-0.5458322</td><td>⋯</td><td>1.827269</td><td> 0.7393492</td><td>4.082001</td><td>2.999103</td><td>1.820423</td><td>0.85672608</td><td>2.144455</td><td>1.2229406</td><td>1.329531</td><td>0.9949933</td></tr>\n",
       "\t<tr><th scope=row>Ecig_48</th><td>-0.07086526</td><td>-0.3725776</td><td>-0.55515650</td><td>1.161749</td><td>0.9643388</td><td>-0.5711580</td><td>-0.8502757</td><td>0.3939092</td><td>-0.2621660</td><td>-1.2428470</td><td>⋯</td><td>1.399238</td><td> 0.3327558</td><td>3.688481</td><td>2.392694</td><td>1.759694</td><td>0.52631120</td><td>1.841090</td><td>0.9806545</td><td>1.195102</td><td>0.9686023</td></tr>\n",
       "</tbody>\n",
       "</table>\n"
      ],
      "text/latex": [
       "A data.frame: 6 × 29\n",
       "\\begin{tabular}{r|lllllllllllllllllllll}\n",
       "  & IFNg & IL10 & IL12p70 & IL13 & IL1b & IL2 & IL4 & IL6 & TNFa & GMCSF & ⋯ & Eotaxin & Eotaxin3 & IL8 & IP10 & MCP10 & MCP4 & MDC & MIP1a & MIP1b & TARC\\\\\n",
       "  & <dbl> & <dbl> & <dbl> & <dbl> & <dbl> & <dbl> & <dbl> & <dbl> & <dbl> & <dbl> & ⋯ & <dbl> & <dbl> & <dbl> & <dbl> & <dbl> & <dbl> & <dbl> & <dbl> & <dbl> & <dbl>\\\\\n",
       "\\hline\n",
       "\tEcig\\_39 &  0.72993879 &  0.4760855 &  0.22272067 & 1.684559 & 1.3823370 &  0.7214577 & -0.3720623 & 1.1164640 &  0.7745244 & -0.8851303 & ⋯ & 2.554121 & -1.2087502 & 4.268291 & 3.941348 & 2.051085 & 1.00311922 & 1.500963 & 1.3429488 & 1.670252 & 1.3126280\\\\\n",
       "\tEcig\\_41 &  1.06493738 &  0.9571295 &  0.52776919 & 1.832274 & 2.2238381 &  1.1032484 & -0.1467287 & 1.2794930 &  1.0554856 &  0.1838376 & ⋯ & 2.426763 &  1.8404625 & 5.038406 & 3.886943 & 2.407040 & 1.11426383 & 2.345514 & 1.7215810 & 2.173251 & 1.3929639\\\\\n",
       "\tEcig\\_44 &  0.61912662 &  0.3083712 &  0.19467212 & 1.705617 & 0.9479661 &  0.3951081 & -0.3040811 & 0.9669098 &  0.8014507 & -0.1117288 & ⋯ & 2.014964 &  0.9407422 & 4.050037 & 3.851832 & 2.169478 & 0.03758596 & 2.223570 & 1.6719824 & 2.005422 & 1.5507383\\\\\n",
       "\tEcig\\_45 & -0.05152978 & -0.3654505 & -0.51377958 & 1.402073 & 1.6072153 & -0.2839318 & -1.5354317 & 0.8059006 &  0.2895682 & -0.5972387 & ⋯ & 2.475454 &  0.9262891 & 4.165357 & 3.483729 & 1.981485 & 1.32634202 & 2.292531 & 1.5170673 & 1.396602 & 1.2946530\\\\\n",
       "\tEcig\\_47 &  0.16082753 & -0.3012793 & -0.06437605 & 1.566021 & 1.1974420 & -0.1097710 & -1.0524292 & 0.7197042 &  0.5544616 & -0.5458322 & ⋯ & 1.827269 &  0.7393492 & 4.082001 & 2.999103 & 1.820423 & 0.85672608 & 2.144455 & 1.2229406 & 1.329531 & 0.9949933\\\\\n",
       "\tEcig\\_48 & -0.07086526 & -0.3725776 & -0.55515650 & 1.161749 & 0.9643388 & -0.5711580 & -0.8502757 & 0.3939092 & -0.2621660 & -1.2428470 & ⋯ & 1.399238 &  0.3327558 & 3.688481 & 2.392694 & 1.759694 & 0.52631120 & 1.841090 & 0.9806545 & 1.195102 & 0.9686023\\\\\n",
       "\\end{tabular}\n"
      ],
      "text/markdown": [
       "\n",
       "A data.frame: 6 × 29\n",
       "\n",
       "| <!--/--> | IFNg &lt;dbl&gt; | IL10 &lt;dbl&gt; | IL12p70 &lt;dbl&gt; | IL13 &lt;dbl&gt; | IL1b &lt;dbl&gt; | IL2 &lt;dbl&gt; | IL4 &lt;dbl&gt; | IL6 &lt;dbl&gt; | TNFa &lt;dbl&gt; | GMCSF &lt;dbl&gt; | ⋯ ⋯ | Eotaxin &lt;dbl&gt; | Eotaxin3 &lt;dbl&gt; | IL8 &lt;dbl&gt; | IP10 &lt;dbl&gt; | MCP10 &lt;dbl&gt; | MCP4 &lt;dbl&gt; | MDC &lt;dbl&gt; | MIP1a &lt;dbl&gt; | MIP1b &lt;dbl&gt; | TARC &lt;dbl&gt; |\n",
       "|---|---|---|---|---|---|---|---|---|---|---|---|---|---|---|---|---|---|---|---|---|---|\n",
       "| Ecig_39 |  0.72993879 |  0.4760855 |  0.22272067 | 1.684559 | 1.3823370 |  0.7214577 | -0.3720623 | 1.1164640 |  0.7745244 | -0.8851303 | ⋯ | 2.554121 | -1.2087502 | 4.268291 | 3.941348 | 2.051085 | 1.00311922 | 1.500963 | 1.3429488 | 1.670252 | 1.3126280 |\n",
       "| Ecig_41 |  1.06493738 |  0.9571295 |  0.52776919 | 1.832274 | 2.2238381 |  1.1032484 | -0.1467287 | 1.2794930 |  1.0554856 |  0.1838376 | ⋯ | 2.426763 |  1.8404625 | 5.038406 | 3.886943 | 2.407040 | 1.11426383 | 2.345514 | 1.7215810 | 2.173251 | 1.3929639 |\n",
       "| Ecig_44 |  0.61912662 |  0.3083712 |  0.19467212 | 1.705617 | 0.9479661 |  0.3951081 | -0.3040811 | 0.9669098 |  0.8014507 | -0.1117288 | ⋯ | 2.014964 |  0.9407422 | 4.050037 | 3.851832 | 2.169478 | 0.03758596 | 2.223570 | 1.6719824 | 2.005422 | 1.5507383 |\n",
       "| Ecig_45 | -0.05152978 | -0.3654505 | -0.51377958 | 1.402073 | 1.6072153 | -0.2839318 | -1.5354317 | 0.8059006 |  0.2895682 | -0.5972387 | ⋯ | 2.475454 |  0.9262891 | 4.165357 | 3.483729 | 1.981485 | 1.32634202 | 2.292531 | 1.5170673 | 1.396602 | 1.2946530 |\n",
       "| Ecig_47 |  0.16082753 | -0.3012793 | -0.06437605 | 1.566021 | 1.1974420 | -0.1097710 | -1.0524292 | 0.7197042 |  0.5544616 | -0.5458322 | ⋯ | 1.827269 |  0.7393492 | 4.082001 | 2.999103 | 1.820423 | 0.85672608 | 2.144455 | 1.2229406 | 1.329531 | 0.9949933 |\n",
       "| Ecig_48 | -0.07086526 | -0.3725776 | -0.55515650 | 1.161749 | 0.9643388 | -0.5711580 | -0.8502757 | 0.3939092 | -0.2621660 | -1.2428470 | ⋯ | 1.399238 |  0.3327558 | 3.688481 | 2.392694 | 1.759694 | 0.52631120 | 1.841090 | 0.9806545 | 1.195102 | 0.9686023 |\n",
       "\n"
      ],
      "text/plain": [
       "        IFNg        IL10       IL12p70     IL13     IL1b      IL2       \n",
       "Ecig_39  0.72993879  0.4760855  0.22272067 1.684559 1.3823370  0.7214577\n",
       "Ecig_41  1.06493738  0.9571295  0.52776919 1.832274 2.2238381  1.1032484\n",
       "Ecig_44  0.61912662  0.3083712  0.19467212 1.705617 0.9479661  0.3951081\n",
       "Ecig_45 -0.05152978 -0.3654505 -0.51377958 1.402073 1.6072153 -0.2839318\n",
       "Ecig_47  0.16082753 -0.3012793 -0.06437605 1.566021 1.1974420 -0.1097710\n",
       "Ecig_48 -0.07086526 -0.3725776 -0.55515650 1.161749 0.9643388 -0.5711580\n",
       "        IL4        IL6       TNFa       GMCSF      ⋯ Eotaxin  Eotaxin3  \n",
       "Ecig_39 -0.3720623 1.1164640  0.7745244 -0.8851303 ⋯ 2.554121 -1.2087502\n",
       "Ecig_41 -0.1467287 1.2794930  1.0554856  0.1838376 ⋯ 2.426763  1.8404625\n",
       "Ecig_44 -0.3040811 0.9669098  0.8014507 -0.1117288 ⋯ 2.014964  0.9407422\n",
       "Ecig_45 -1.5354317 0.8059006  0.2895682 -0.5972387 ⋯ 2.475454  0.9262891\n",
       "Ecig_47 -1.0524292 0.7197042  0.5544616 -0.5458322 ⋯ 1.827269  0.7393492\n",
       "Ecig_48 -0.8502757 0.3939092 -0.2621660 -1.2428470 ⋯ 1.399238  0.3327558\n",
       "        IL8      IP10     MCP10    MCP4       MDC      MIP1a     MIP1b   \n",
       "Ecig_39 4.268291 3.941348 2.051085 1.00311922 1.500963 1.3429488 1.670252\n",
       "Ecig_41 5.038406 3.886943 2.407040 1.11426383 2.345514 1.7215810 2.173251\n",
       "Ecig_44 4.050037 3.851832 2.169478 0.03758596 2.223570 1.6719824 2.005422\n",
       "Ecig_45 4.165357 3.483729 1.981485 1.32634202 2.292531 1.5170673 1.396602\n",
       "Ecig_47 4.082001 2.999103 1.820423 0.85672608 2.144455 1.2229406 1.329531\n",
       "Ecig_48 3.688481 2.392694 1.759694 0.52631120 1.841090 0.9806545 1.195102\n",
       "        TARC     \n",
       "Ecig_39 1.3126280\n",
       "Ecig_41 1.3929639\n",
       "Ecig_44 1.5507383\n",
       "Ecig_45 1.2946530\n",
       "Ecig_47 0.9949933\n",
       "Ecig_48 0.9686023"
      ]
     },
     "metadata": {},
     "output_type": "display_data"
    }
   ],
   "source": [
    "#QRILC function imputes on normalized, so taking log of data to normalize it\n",
    "set.seed(7) #ensures reproducibility\n",
    "imputed_QRILC_object = impute.QRILC(log10(filtered_cytokine_matrix))\n",
    "imputed_log_cytokine_df = data.frame(imputed_QRILC_object[1])\n",
    "head(imputed_log_cytokine_df)"
   ]
  },
  {
   "cell_type": "code",
   "execution_count": 18,
   "id": "abstract-vietnam",
   "metadata": {},
   "outputs": [
    {
     "data": {
      "text/html": [
       "<table class=\"dataframe\">\n",
       "<caption>A data.frame: 6 × 29</caption>\n",
       "<thead>\n",
       "\t<tr><th></th><th scope=col>IFNg</th><th scope=col>IL10</th><th scope=col>IL12p70</th><th scope=col>IL13</th><th scope=col>IL1b</th><th scope=col>IL2</th><th scope=col>IL4</th><th scope=col>IL6</th><th scope=col>TNFa</th><th scope=col>GMCSF</th><th scope=col>⋯</th><th scope=col>Eotaxin</th><th scope=col>Eotaxin3</th><th scope=col>IL8</th><th scope=col>IP10</th><th scope=col>MCP10</th><th scope=col>MCP4</th><th scope=col>MDC</th><th scope=col>MIP1a</th><th scope=col>MIP1b</th><th scope=col>TARC</th></tr>\n",
       "\t<tr><th></th><th scope=col>&lt;dbl&gt;</th><th scope=col>&lt;dbl&gt;</th><th scope=col>&lt;dbl&gt;</th><th scope=col>&lt;dbl&gt;</th><th scope=col>&lt;dbl&gt;</th><th scope=col>&lt;dbl&gt;</th><th scope=col>&lt;dbl&gt;</th><th scope=col>&lt;dbl&gt;</th><th scope=col>&lt;dbl&gt;</th><th scope=col>&lt;dbl&gt;</th><th scope=col>⋯</th><th scope=col>&lt;dbl&gt;</th><th scope=col>&lt;dbl&gt;</th><th scope=col>&lt;dbl&gt;</th><th scope=col>&lt;dbl&gt;</th><th scope=col>&lt;dbl&gt;</th><th scope=col>&lt;dbl&gt;</th><th scope=col>&lt;dbl&gt;</th><th scope=col>&lt;dbl&gt;</th><th scope=col>&lt;dbl&gt;</th><th scope=col>&lt;dbl&gt;</th></tr>\n",
       "</thead>\n",
       "<tbody>\n",
       "\t<tr><th scope=row>Ecig_39</th><td> 5.3695611</td><td>2.9928536</td><td>1.6700162</td><td>48.36813</td><td> 24.117761</td><td> 5.2657189</td><td>0.42455866</td><td>13.075670</td><td> 5.9501019</td><td>0.1302776</td><td>⋯</td><td>358.19662</td><td> 0.06183719</td><td> 18547.74</td><td>8736.7132</td><td>112.48249</td><td>10.072081</td><td> 31.69299</td><td>22.02667</td><td> 46.80070</td><td>20.541303</td></tr>\n",
       "\t<tr><th scope=row>Ecig_41</th><td>11.6128116</td><td>9.0600267</td><td>3.3710810</td><td>67.96322</td><td>167.431877</td><td>12.6837712</td><td>0.71329848</td><td>19.032378</td><td>11.3628057</td><td>1.5269950</td><td>⋯</td><td>267.15489</td><td>69.25681747</td><td>109246.09</td><td>7708.0228</td><td>255.29369</td><td>13.009597</td><td>221.57141</td><td>52.67214</td><td>149.02215</td><td>24.715188</td></tr>\n",
       "\t<tr><th scope=row>Ecig_44</th><td> 4.1603189</td><td>2.0340947</td><td>1.5655687</td><td>50.77121</td><td>  8.870868</td><td> 2.4837514</td><td>0.49649954</td><td> 9.266373</td><td> 6.3306852</td><td>0.7731633</td><td>⋯</td><td>103.50569</td><td> 8.72453305</td><td> 11221.13</td><td>7109.3784</td><td>147.73303</td><td> 1.090400</td><td>167.32860</td><td>46.98751</td><td>101.25635</td><td>35.541708</td></tr>\n",
       "\t<tr><th scope=row>Ecig_45</th><td> 0.8881171</td><td>0.4310717</td><td>0.3063518</td><td>25.23906</td><td> 40.477650</td><td> 0.5200777</td><td>0.02914528</td><td> 6.395885</td><td> 1.9479068</td><td>0.2527908</td><td>⋯</td><td>298.85050</td><td> 8.43896238</td><td> 14633.80</td><td>3045.9940</td><td> 95.82647</td><td>21.200301</td><td>196.12405</td><td>32.89026</td><td> 24.92311</td><td>19.708475</td></tr>\n",
       "\t<tr><th scope=row>Ecig_47</th><td> 1.4481966</td><td>0.4997130</td><td>0.8622316</td><td>36.81471</td><td> 15.755858</td><td> 0.7766565</td><td>0.08862797</td><td> 5.244501</td><td> 3.5847722</td><td>0.2845560</td><td>⋯</td><td> 67.18448</td><td> 5.48717948</td><td> 12078.16</td><td> 997.9376</td><td> 66.13370</td><td> 7.189953</td><td>139.46181</td><td>16.70862</td><td> 21.35656</td><td> 9.885379</td></tr>\n",
       "\t<tr><th scope=row>Ecig_48</th><td> 0.8494440</td><td>0.4240552</td><td>0.2785117</td><td>14.51272</td><td>  9.211680</td><td> 0.2684367</td><td>0.14116411</td><td> 2.476904</td><td> 0.5468069</td><td>0.0571680</td><td>⋯</td><td> 25.07486</td><td> 2.15157171</td><td>  4880.69</td><td> 246.9985</td><td> 57.50348</td><td> 3.359783</td><td> 69.35689</td><td> 9.56433</td><td> 15.67118</td><td> 9.302557</td></tr>\n",
       "</tbody>\n",
       "</table>\n"
      ],
      "text/latex": [
       "A data.frame: 6 × 29\n",
       "\\begin{tabular}{r|lllllllllllllllllllll}\n",
       "  & IFNg & IL10 & IL12p70 & IL13 & IL1b & IL2 & IL4 & IL6 & TNFa & GMCSF & ⋯ & Eotaxin & Eotaxin3 & IL8 & IP10 & MCP10 & MCP4 & MDC & MIP1a & MIP1b & TARC\\\\\n",
       "  & <dbl> & <dbl> & <dbl> & <dbl> & <dbl> & <dbl> & <dbl> & <dbl> & <dbl> & <dbl> & ⋯ & <dbl> & <dbl> & <dbl> & <dbl> & <dbl> & <dbl> & <dbl> & <dbl> & <dbl> & <dbl>\\\\\n",
       "\\hline\n",
       "\tEcig\\_39 &  5.3695611 & 2.9928536 & 1.6700162 & 48.36813 &  24.117761 &  5.2657189 & 0.42455866 & 13.075670 &  5.9501019 & 0.1302776 & ⋯ & 358.19662 &  0.06183719 &  18547.74 & 8736.7132 & 112.48249 & 10.072081 &  31.69299 & 22.02667 &  46.80070 & 20.541303\\\\\n",
       "\tEcig\\_41 & 11.6128116 & 9.0600267 & 3.3710810 & 67.96322 & 167.431877 & 12.6837712 & 0.71329848 & 19.032378 & 11.3628057 & 1.5269950 & ⋯ & 267.15489 & 69.25681747 & 109246.09 & 7708.0228 & 255.29369 & 13.009597 & 221.57141 & 52.67214 & 149.02215 & 24.715188\\\\\n",
       "\tEcig\\_44 &  4.1603189 & 2.0340947 & 1.5655687 & 50.77121 &   8.870868 &  2.4837514 & 0.49649954 &  9.266373 &  6.3306852 & 0.7731633 & ⋯ & 103.50569 &  8.72453305 &  11221.13 & 7109.3784 & 147.73303 &  1.090400 & 167.32860 & 46.98751 & 101.25635 & 35.541708\\\\\n",
       "\tEcig\\_45 &  0.8881171 & 0.4310717 & 0.3063518 & 25.23906 &  40.477650 &  0.5200777 & 0.02914528 &  6.395885 &  1.9479068 & 0.2527908 & ⋯ & 298.85050 &  8.43896238 &  14633.80 & 3045.9940 &  95.82647 & 21.200301 & 196.12405 & 32.89026 &  24.92311 & 19.708475\\\\\n",
       "\tEcig\\_47 &  1.4481966 & 0.4997130 & 0.8622316 & 36.81471 &  15.755858 &  0.7766565 & 0.08862797 &  5.244501 &  3.5847722 & 0.2845560 & ⋯ &  67.18448 &  5.48717948 &  12078.16 &  997.9376 &  66.13370 &  7.189953 & 139.46181 & 16.70862 &  21.35656 &  9.885379\\\\\n",
       "\tEcig\\_48 &  0.8494440 & 0.4240552 & 0.2785117 & 14.51272 &   9.211680 &  0.2684367 & 0.14116411 &  2.476904 &  0.5468069 & 0.0571680 & ⋯ &  25.07486 &  2.15157171 &   4880.69 &  246.9985 &  57.50348 &  3.359783 &  69.35689 &  9.56433 &  15.67118 &  9.302557\\\\\n",
       "\\end{tabular}\n"
      ],
      "text/markdown": [
       "\n",
       "A data.frame: 6 × 29\n",
       "\n",
       "| <!--/--> | IFNg &lt;dbl&gt; | IL10 &lt;dbl&gt; | IL12p70 &lt;dbl&gt; | IL13 &lt;dbl&gt; | IL1b &lt;dbl&gt; | IL2 &lt;dbl&gt; | IL4 &lt;dbl&gt; | IL6 &lt;dbl&gt; | TNFa &lt;dbl&gt; | GMCSF &lt;dbl&gt; | ⋯ ⋯ | Eotaxin &lt;dbl&gt; | Eotaxin3 &lt;dbl&gt; | IL8 &lt;dbl&gt; | IP10 &lt;dbl&gt; | MCP10 &lt;dbl&gt; | MCP4 &lt;dbl&gt; | MDC &lt;dbl&gt; | MIP1a &lt;dbl&gt; | MIP1b &lt;dbl&gt; | TARC &lt;dbl&gt; |\n",
       "|---|---|---|---|---|---|---|---|---|---|---|---|---|---|---|---|---|---|---|---|---|---|\n",
       "| Ecig_39 |  5.3695611 | 2.9928536 | 1.6700162 | 48.36813 |  24.117761 |  5.2657189 | 0.42455866 | 13.075670 |  5.9501019 | 0.1302776 | ⋯ | 358.19662 |  0.06183719 |  18547.74 | 8736.7132 | 112.48249 | 10.072081 |  31.69299 | 22.02667 |  46.80070 | 20.541303 |\n",
       "| Ecig_41 | 11.6128116 | 9.0600267 | 3.3710810 | 67.96322 | 167.431877 | 12.6837712 | 0.71329848 | 19.032378 | 11.3628057 | 1.5269950 | ⋯ | 267.15489 | 69.25681747 | 109246.09 | 7708.0228 | 255.29369 | 13.009597 | 221.57141 | 52.67214 | 149.02215 | 24.715188 |\n",
       "| Ecig_44 |  4.1603189 | 2.0340947 | 1.5655687 | 50.77121 |   8.870868 |  2.4837514 | 0.49649954 |  9.266373 |  6.3306852 | 0.7731633 | ⋯ | 103.50569 |  8.72453305 |  11221.13 | 7109.3784 | 147.73303 |  1.090400 | 167.32860 | 46.98751 | 101.25635 | 35.541708 |\n",
       "| Ecig_45 |  0.8881171 | 0.4310717 | 0.3063518 | 25.23906 |  40.477650 |  0.5200777 | 0.02914528 |  6.395885 |  1.9479068 | 0.2527908 | ⋯ | 298.85050 |  8.43896238 |  14633.80 | 3045.9940 |  95.82647 | 21.200301 | 196.12405 | 32.89026 |  24.92311 | 19.708475 |\n",
       "| Ecig_47 |  1.4481966 | 0.4997130 | 0.8622316 | 36.81471 |  15.755858 |  0.7766565 | 0.08862797 |  5.244501 |  3.5847722 | 0.2845560 | ⋯ |  67.18448 |  5.48717948 |  12078.16 |  997.9376 |  66.13370 |  7.189953 | 139.46181 | 16.70862 |  21.35656 |  9.885379 |\n",
       "| Ecig_48 |  0.8494440 | 0.4240552 | 0.2785117 | 14.51272 |   9.211680 |  0.2684367 | 0.14116411 |  2.476904 |  0.5468069 | 0.0571680 | ⋯ |  25.07486 |  2.15157171 |   4880.69 |  246.9985 |  57.50348 |  3.359783 |  69.35689 |  9.56433 |  15.67118 |  9.302557 |\n",
       "\n"
      ],
      "text/plain": [
       "        IFNg       IL10      IL12p70   IL13     IL1b       IL2       \n",
       "Ecig_39  5.3695611 2.9928536 1.6700162 48.36813  24.117761  5.2657189\n",
       "Ecig_41 11.6128116 9.0600267 3.3710810 67.96322 167.431877 12.6837712\n",
       "Ecig_44  4.1603189 2.0340947 1.5655687 50.77121   8.870868  2.4837514\n",
       "Ecig_45  0.8881171 0.4310717 0.3063518 25.23906  40.477650  0.5200777\n",
       "Ecig_47  1.4481966 0.4997130 0.8622316 36.81471  15.755858  0.7766565\n",
       "Ecig_48  0.8494440 0.4240552 0.2785117 14.51272   9.211680  0.2684367\n",
       "        IL4        IL6       TNFa       GMCSF     ⋯ Eotaxin   Eotaxin3   \n",
       "Ecig_39 0.42455866 13.075670  5.9501019 0.1302776 ⋯ 358.19662  0.06183719\n",
       "Ecig_41 0.71329848 19.032378 11.3628057 1.5269950 ⋯ 267.15489 69.25681747\n",
       "Ecig_44 0.49649954  9.266373  6.3306852 0.7731633 ⋯ 103.50569  8.72453305\n",
       "Ecig_45 0.02914528  6.395885  1.9479068 0.2527908 ⋯ 298.85050  8.43896238\n",
       "Ecig_47 0.08862797  5.244501  3.5847722 0.2845560 ⋯  67.18448  5.48717948\n",
       "Ecig_48 0.14116411  2.476904  0.5468069 0.0571680 ⋯  25.07486  2.15157171\n",
       "        IL8       IP10      MCP10     MCP4      MDC       MIP1a    MIP1b    \n",
       "Ecig_39  18547.74 8736.7132 112.48249 10.072081  31.69299 22.02667  46.80070\n",
       "Ecig_41 109246.09 7708.0228 255.29369 13.009597 221.57141 52.67214 149.02215\n",
       "Ecig_44  11221.13 7109.3784 147.73303  1.090400 167.32860 46.98751 101.25635\n",
       "Ecig_45  14633.80 3045.9940  95.82647 21.200301 196.12405 32.89026  24.92311\n",
       "Ecig_47  12078.16  997.9376  66.13370  7.189953 139.46181 16.70862  21.35656\n",
       "Ecig_48   4880.69  246.9985  57.50348  3.359783  69.35689  9.56433  15.67118\n",
       "        TARC     \n",
       "Ecig_39 20.541303\n",
       "Ecig_41 24.715188\n",
       "Ecig_44 35.541708\n",
       "Ecig_45 19.708475\n",
       "Ecig_47  9.885379\n",
       "Ecig_48  9.302557"
      ]
     },
     "metadata": {},
     "output_type": "display_data"
    }
   ],
   "source": [
    "#coverting data back to the original scale\n",
    "imputed_cytokine_df = imputed_log_cytokine_df %>% \n",
    "    mutate_all(., function(x) 10^x)\n",
    "head(imputed_cytokine_df)"
   ]
  },
  {
   "cell_type": "code",
   "execution_count": 16,
   "id": "aware-checkout",
   "metadata": {},
   "outputs": [],
   "source": [
    "#exporting data\n",
    "write.csv(imputed_cytokine_df, paste0(Output,\"/\", cur_date, \"_imputed_cytokine_data_w_Ecig40.csv\"), row.names = TRUE)\n",
    "write.csv(imputed_mf_df, paste0(Output,\"/\", cur_date, \"_imputed_molecular_feature_data_w_Ecig40.csv\"), row.names = TRUE)"
   ]
  }
 ],
 "metadata": {
  "kernelspec": {
   "display_name": "R",
   "language": "R",
   "name": "ir"
  },
  "language_info": {
   "codemirror_mode": "r",
   "file_extension": ".r",
   "mimetype": "text/x-r-source",
   "name": "R",
   "pygments_lexer": "r",
   "version": "3.6.3"
  }
 },
 "nbformat": 4,
 "nbformat_minor": 5
}
