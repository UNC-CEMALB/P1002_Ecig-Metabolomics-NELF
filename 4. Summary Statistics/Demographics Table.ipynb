{
 "cells": [
  {
   "cell_type": "code",
   "execution_count": 1,
   "id": "referenced-reference",
   "metadata": {},
   "outputs": [
    {
     "name": "stderr",
     "output_type": "stream",
     "text": [
      "── \u001b[1mAttaching packages\u001b[22m ─────────────────────────────────────── tidyverse 1.3.0 ──\n",
      "\n",
      "\u001b[32m✔\u001b[39m \u001b[34mggplot2\u001b[39m 3.3.3     \u001b[32m✔\u001b[39m \u001b[34mpurrr  \u001b[39m 0.3.4\n",
      "\u001b[32m✔\u001b[39m \u001b[34mtibble \u001b[39m 3.0.6     \u001b[32m✔\u001b[39m \u001b[34mdplyr  \u001b[39m 1.0.4\n",
      "\u001b[32m✔\u001b[39m \u001b[34mtidyr  \u001b[39m 1.1.2     \u001b[32m✔\u001b[39m \u001b[34mstringr\u001b[39m 1.4.0\n",
      "\u001b[32m✔\u001b[39m \u001b[34mreadr  \u001b[39m 1.4.0     \u001b[32m✔\u001b[39m \u001b[34mforcats\u001b[39m 0.5.1\n",
      "\n",
      "── \u001b[1mConflicts\u001b[22m ────────────────────────────────────────── tidyverse_conflicts() ──\n",
      "\u001b[31m✖\u001b[39m \u001b[34mdplyr\u001b[39m::\u001b[32mfilter()\u001b[39m masks \u001b[34mstats\u001b[39m::filter()\n",
      "\u001b[31m✖\u001b[39m \u001b[34mdplyr\u001b[39m::\u001b[32mlag()\u001b[39m    masks \u001b[34mstats\u001b[39m::lag()\n",
      "\n",
      "\n",
      "Attaching package: ‘reshape2’\n",
      "\n",
      "\n",
      "The following object is masked from ‘package:tidyr’:\n",
      "\n",
      "    smiths\n",
      "\n",
      "\n",
      "Loading required package: carData\n",
      "\n",
      "\n",
      "Attaching package: ‘car’\n",
      "\n",
      "\n",
      "The following object is masked from ‘package:dplyr’:\n",
      "\n",
      "    recode\n",
      "\n",
      "\n",
      "The following object is masked from ‘package:purrr’:\n",
      "\n",
      "    some\n",
      "\n",
      "\n"
     ]
    }
   ],
   "source": [
    "setwd('/Users/alexis/University of North Carolina at Chapel Hill/Rager, Julia - CEMALB_DataAnalysisPM/Projects/P1002. Ecig Metabolomics NELF/P1002.3. Analyses/P1002.3.3. Summary Statistics/Input')\n",
    "Output = ('/Users/alexis/University of North Carolina at Chapel Hill/Rager, Julia - CEMALB_DataAnalysisPM/Projects/P1002.3. Analyses/P1002.3.3. Summary Statistics/Output')\n",
    "cur_date = \"030322\"\n",
    "\n",
    "library(readxl)\n",
    "library(tidyverse)\n",
    "library(reshape2)\n",
    "library(car)\n",
    "\n",
    "\n",
    "#reading in file\n",
    "demographics_df = data.frame(read_excel(\"SubjectInfo_022822.xlsx\", sheet = 2)) "
   ]
  },
  {
   "cell_type": "code",
   "execution_count": 2,
   "id": "unusual-reviewer",
   "metadata": {},
   "outputs": [
    {
     "data": {
      "text/html": [
       "<table class=\"dataframe\">\n",
       "<caption>A data.frame: 6 × 7</caption>\n",
       "<thead>\n",
       "\t<tr><th></th><th scope=col>Original_SubjectID</th><th scope=col>SubjectID</th><th scope=col>Exposure</th><th scope=col>Sex</th><th scope=col>Race</th><th scope=col>Age</th><th scope=col>BMI</th></tr>\n",
       "\t<tr><th></th><th scope=col>&lt;chr&gt;</th><th scope=col>&lt;chr&gt;</th><th scope=col>&lt;chr&gt;</th><th scope=col>&lt;chr&gt;</th><th scope=col>&lt;chr&gt;</th><th scope=col>&lt;dbl&gt;</th><th scope=col>&lt;dbl&gt;</th></tr>\n",
       "</thead>\n",
       "<tbody>\n",
       "\t<tr><th scope=row>1</th><td>NBL214</td><td>Ecig_214</td><td>Ecig</td><td>F</td><td>O </td><td>19</td><td>20.9</td></tr>\n",
       "\t<tr><th scope=row>2</th><td>NBL221</td><td>Ecig_221</td><td>Ecig</td><td>M</td><td>As</td><td>21</td><td>24.0</td></tr>\n",
       "\t<tr><th scope=row>3</th><td>NBL222</td><td>Ecig_222</td><td>Ecig</td><td>F</td><td>W </td><td>20</td><td>30.2</td></tr>\n",
       "\t<tr><th scope=row>4</th><td>NBL223</td><td>Ecig_223</td><td>Ecig</td><td>F</td><td>B </td><td>19</td><td>19.9</td></tr>\n",
       "\t<tr><th scope=row>5</th><td>NBL229</td><td>Ecig_229</td><td>Ecig</td><td>F</td><td>W </td><td>39</td><td>35.1</td></tr>\n",
       "\t<tr><th scope=row>6</th><td>NBL230</td><td>Ecig_230</td><td>Ecig</td><td>F</td><td>W </td><td>40</td><td>45.6</td></tr>\n",
       "</tbody>\n",
       "</table>\n"
      ],
      "text/latex": [
       "A data.frame: 6 × 7\n",
       "\\begin{tabular}{r|lllllll}\n",
       "  & Original\\_SubjectID & SubjectID & Exposure & Sex & Race & Age & BMI\\\\\n",
       "  & <chr> & <chr> & <chr> & <chr> & <chr> & <dbl> & <dbl>\\\\\n",
       "\\hline\n",
       "\t1 & NBL214 & Ecig\\_214 & Ecig & F & O  & 19 & 20.9\\\\\n",
       "\t2 & NBL221 & Ecig\\_221 & Ecig & M & As & 21 & 24.0\\\\\n",
       "\t3 & NBL222 & Ecig\\_222 & Ecig & F & W  & 20 & 30.2\\\\\n",
       "\t4 & NBL223 & Ecig\\_223 & Ecig & F & B  & 19 & 19.9\\\\\n",
       "\t5 & NBL229 & Ecig\\_229 & Ecig & F & W  & 39 & 35.1\\\\\n",
       "\t6 & NBL230 & Ecig\\_230 & Ecig & F & W  & 40 & 45.6\\\\\n",
       "\\end{tabular}\n"
      ],
      "text/markdown": [
       "\n",
       "A data.frame: 6 × 7\n",
       "\n",
       "| <!--/--> | Original_SubjectID &lt;chr&gt; | SubjectID &lt;chr&gt; | Exposure &lt;chr&gt; | Sex &lt;chr&gt; | Race &lt;chr&gt; | Age &lt;dbl&gt; | BMI &lt;dbl&gt; |\n",
       "|---|---|---|---|---|---|---|---|\n",
       "| 1 | NBL214 | Ecig_214 | Ecig | F | O  | 19 | 20.9 |\n",
       "| 2 | NBL221 | Ecig_221 | Ecig | M | As | 21 | 24.0 |\n",
       "| 3 | NBL222 | Ecig_222 | Ecig | F | W  | 20 | 30.2 |\n",
       "| 4 | NBL223 | Ecig_223 | Ecig | F | B  | 19 | 19.9 |\n",
       "| 5 | NBL229 | Ecig_229 | Ecig | F | W  | 39 | 35.1 |\n",
       "| 6 | NBL230 | Ecig_230 | Ecig | F | W  | 40 | 45.6 |\n",
       "\n"
      ],
      "text/plain": [
       "  Original_SubjectID SubjectID Exposure Sex Race Age BMI \n",
       "1 NBL214             Ecig_214  Ecig     F   O    19  20.9\n",
       "2 NBL221             Ecig_221  Ecig     M   As   21  24.0\n",
       "3 NBL222             Ecig_222  Ecig     F   W    20  30.2\n",
       "4 NBL223             Ecig_223  Ecig     F   B    19  19.9\n",
       "5 NBL229             Ecig_229  Ecig     F   W    39  35.1\n",
       "6 NBL230             Ecig_230  Ecig     F   W    40  45.6"
      ]
     },
     "metadata": {},
     "output_type": "display_data"
    }
   ],
   "source": [
    "head(demographics_df)"
   ]
  },
  {
   "cell_type": "markdown",
   "id": "gorgeous-devon",
   "metadata": {},
   "source": [
    "# Chi Square Analysis/ ANOVA\n",
    "\n",
    "Comparing demographic variables to see if there are differences across smoking statuses. "
   ]
  },
  {
   "cell_type": "code",
   "execution_count": 3,
   "id": "surgical-renewal",
   "metadata": {},
   "outputs": [
    {
     "name": "stderr",
     "output_type": "stream",
     "text": [
      "Adding missing grouping variables: `Exposure`\n",
      "\n",
      "Adding missing grouping variables: `Exposure`\n",
      "\n"
     ]
    },
    {
     "data": {
      "text/plain": [
       "        Sex\n",
       "Exposure  F  M  W\n",
       "    Ecig 20 12  0\n",
       "    NS   14 12  1\n",
       "    O    34 24  1"
      ]
     },
     "metadata": {},
     "output_type": "display_data"
    },
    {
     "data": {
      "text/plain": [
       "        Race\n",
       "Exposure 29 As  B  O  W\n",
       "    Ecig  0  3  5  2 22\n",
       "    NS    1  3  4  0 19\n",
       "    O     1  6  9  2 41"
      ]
     },
     "metadata": {},
     "output_type": "display_data"
    }
   ],
   "source": [
    "get_tables = function(df, variable){\n",
    "    #getting variable stratified by smoking status\n",
    "    variable_grouped = df %>% group_by(Exposure) %>% select(all_of(variable))\n",
    "    #getting overall variable numbers\n",
    "    overall_variable = df %>% select(all_of(variable)) \n",
    "    #adding a col that designates this from the overall cohort\n",
    "    overall_variable_df = cbind(Exposure = rep('O', times = length(overall_variable)), \n",
    "                                           overall_variable)\n",
    "    #for some reason this col was a factor and need to make it a character for subsequent lines to work\n",
    "    overall_variable_df$Exposure = as.character(overall_variable_df$Exposure)\n",
    "    \n",
    "\n",
    "    final_df = rbind(overall_variable_df, data.frame(variable_grouped))\n",
    "    variable_table = table(final_df)\n",
    "    return(variable_table)\n",
    "}\n",
    "\n",
    "#calling fn\n",
    "sex_table = get_tables(demographics_df, 'Sex')\n",
    "race_table = get_tables(demographics_df, 'Race')\n",
    "\n",
    "#viewing results\n",
    "sex_table\n",
    "race_table"
   ]
  },
  {
   "cell_type": "code",
   "execution_count": 4,
   "id": "downtown-perspective",
   "metadata": {},
   "outputs": [
    {
     "data": {
      "text/plain": [
       "\n",
       "\tFisher's Exact Test for Count Data\n",
       "\n",
       "data:  sex_table\n",
       "p-value = 0.8189\n",
       "alternative hypothesis: two.sided\n"
      ]
     },
     "metadata": {},
     "output_type": "display_data"
    },
    {
     "data": {
      "text/plain": [
       "\n",
       "\tFisher's Exact Test for Count Data\n",
       "\n",
       "data:  race_table\n",
       "p-value = 0.9759\n",
       "alternative hypothesis: two.sided\n"
      ]
     },
     "metadata": {},
     "output_type": "display_data"
    }
   ],
   "source": [
    "#fisher exact test\n",
    "fisher.test(sex_table)\n",
    "fisher.test(race_table)"
   ]
  },
  {
   "cell_type": "code",
   "execution_count": 5,
   "id": "unlike-tomato",
   "metadata": {},
   "outputs": [
    {
     "name": "stderr",
     "output_type": "stream",
     "text": [
      "Adding missing grouping variables: `Exposure`\n",
      "\n"
     ]
    },
    {
     "data": {
      "text/plain": [
       "        Race\n",
       "Exposure NW  W\n",
       "    Ecig 10 22\n",
       "    NS    8 19\n",
       "    O    18 41"
      ]
     },
     "metadata": {},
     "output_type": "display_data"
    },
    {
     "data": {
      "text/plain": [
       "\n",
       "\tFisher's Exact Test for Count Data\n",
       "\n",
       "data:  di_race_table\n",
       "p-value = 1\n",
       "alternative hypothesis: two.sided\n"
      ]
     },
     "metadata": {},
     "output_type": "display_data"
    }
   ],
   "source": [
    "#dichotimized race\n",
    "#making race binary between white and non-white subjects\n",
    "for (i in 1:length(demographics_df$Race)){\n",
    "    if(demographics_df$Race[i] != 'W'){\n",
    "        demographics_df$Race[i] = 'NW'\n",
    "    }\n",
    "}\n",
    "\n",
    "#dichotimized race\n",
    "di_race_table = get_tables(demographics_df, 'Race')\n",
    "di_race_table\n",
    "fisher.test(di_race_table)"
   ]
  },
  {
   "cell_type": "markdown",
   "id": "external-spanish",
   "metadata": {},
   "source": [
    "Since none of the p values are significant, the demographics between each smoking status isn't statistically different."
   ]
  },
  {
   "cell_type": "code",
   "execution_count": 6,
   "id": "clean-holocaust",
   "metadata": {},
   "outputs": [
    {
     "data": {
      "text/html": [
       "<table class=\"dataframe\">\n",
       "<caption>A matrix: 2 × 1 of type dbl</caption>\n",
       "<thead>\n",
       "\t<tr><th></th><th scope=col>NS</th></tr>\n",
       "</thead>\n",
       "<tbody>\n",
       "\t<tr><th scope=row>Ecig</th><td>0</td></tr>\n",
       "\t<tr><th scope=row>NS</th><td>1</td></tr>\n",
       "</tbody>\n",
       "</table>\n"
      ],
      "text/latex": [
       "A matrix: 2 × 1 of type dbl\n",
       "\\begin{tabular}{r|l}\n",
       "  & NS\\\\\n",
       "\\hline\n",
       "\tEcig & 0\\\\\n",
       "\tNS & 1\\\\\n",
       "\\end{tabular}\n"
      ],
      "text/markdown": [
       "\n",
       "A matrix: 2 × 1 of type dbl\n",
       "\n",
       "| <!--/--> | NS |\n",
       "|---|---|\n",
       "| Ecig | 0 |\n",
       "| NS | 1 |\n",
       "\n"
      ],
      "text/plain": [
       "     NS\n",
       "Ecig 0 \n",
       "NS   1 "
      ]
     },
     "metadata": {},
     "output_type": "display_data"
    }
   ],
   "source": [
    "#running anova test for continuous values: age, bmi, cotinine\n",
    "\n",
    "#putting Exposure into a factor in order to make comparisons\n",
    "demographics_df$Exposure = factor(demographics_df$Exposure, labels = c(unique(demographics_df$Exposure)))\n",
    "\n",
    "#normalizing data\n",
    "mutated_df = demographics_df %>%\n",
    "    mutate(Norm_Age = scale(Age), Norm_BMI = scale(BMI))\n",
    "#contrasts show what compartments are being compared in anova\n",
    "#these comparisons aren't what we want so I changed them in the function below\n",
    "contrasts(mutated_df$Exposure)"
   ]
  },
  {
   "cell_type": "markdown",
   "id": "legendary-issue",
   "metadata": {},
   "source": [
    "                   Table of Contrasts\n",
    ">                   NS    |  Ecig  |  Sum\n",
    ">     Contrast 1 |  -1    |   1    |   0\n",
    "\n",
    "> - Contrast 1: compares NS to Ecig"
   ]
  },
  {
   "cell_type": "code",
   "execution_count": 7,
   "id": "objective-absorption",
   "metadata": {},
   "outputs": [
    {
     "data": {
      "text/html": [
       "<table class=\"dataframe\">\n",
       "<caption>A anova: 3 × 4</caption>\n",
       "<thead>\n",
       "\t<tr><th></th><th scope=col>Sum Sq</th><th scope=col>Df</th><th scope=col>F value</th><th scope=col>Pr(&gt;F)</th></tr>\n",
       "\t<tr><th></th><th scope=col>&lt;dbl&gt;</th><th scope=col>&lt;dbl&gt;</th><th scope=col>&lt;dbl&gt;</th><th scope=col>&lt;dbl&gt;</th></tr>\n",
       "</thead>\n",
       "<tbody>\n",
       "\t<tr><th scope=row>(Intercept)</th><td> 5.827716</td><td> 1</td><td> 7.338498</td><td>0.0088968382</td></tr>\n",
       "\t<tr><th scope=row>Exposure</th><td>12.734638</td><td> 1</td><td>16.035978</td><td>0.0001818886</td></tr>\n",
       "\t<tr><th scope=row>Residuals</th><td>45.265362</td><td>57</td><td>       NA</td><td>          NA</td></tr>\n",
       "</tbody>\n",
       "</table>\n"
      ],
      "text/latex": [
       "A anova: 3 × 4\n",
       "\\begin{tabular}{r|llll}\n",
       "  & Sum Sq & Df & F value & Pr(>F)\\\\\n",
       "  & <dbl> & <dbl> & <dbl> & <dbl>\\\\\n",
       "\\hline\n",
       "\t(Intercept) &  5.827716 &  1 &  7.338498 & 0.0088968382\\\\\n",
       "\tExposure & 12.734638 &  1 & 16.035978 & 0.0001818886\\\\\n",
       "\tResiduals & 45.265362 & 57 &        NA &           NA\\\\\n",
       "\\end{tabular}\n"
      ],
      "text/markdown": [
       "\n",
       "A anova: 3 × 4\n",
       "\n",
       "| <!--/--> | Sum Sq &lt;dbl&gt; | Df &lt;dbl&gt; | F value &lt;dbl&gt; | Pr(&gt;F) &lt;dbl&gt; |\n",
       "|---|---|---|---|---|\n",
       "| (Intercept) |  5.827716 |  1 |  7.338498 | 0.0088968382 |\n",
       "| Exposure | 12.734638 |  1 | 16.035978 | 0.0001818886 |\n",
       "| Residuals | 45.265362 | 57 |        NA |           NA |\n",
       "\n"
      ],
      "text/plain": [
       "            Sum Sq    Df F value   Pr(>F)      \n",
       "(Intercept)  5.827716  1  7.338498 0.0088968382\n",
       "Exposure    12.734638  1 16.035978 0.0001818886\n",
       "Residuals   45.265362 57        NA           NA"
      ]
     },
     "metadata": {},
     "output_type": "display_data"
    },
    {
     "data": {
      "text/html": [
       "<table class=\"dataframe\">\n",
       "<caption>A anova: 3 × 4</caption>\n",
       "<thead>\n",
       "\t<tr><th></th><th scope=col>Sum Sq</th><th scope=col>Df</th><th scope=col>F value</th><th scope=col>Pr(&gt;F)</th></tr>\n",
       "\t<tr><th></th><th scope=col>&lt;dbl&gt;</th><th scope=col>&lt;dbl&gt;</th><th scope=col>&lt;dbl&gt;</th><th scope=col>&lt;dbl&gt;</th></tr>\n",
       "</thead>\n",
       "<tbody>\n",
       "\t<tr><th scope=row>(Intercept)</th><td> 0.6954052</td><td> 1</td><td>0.7023191</td><td>0.4055683</td></tr>\n",
       "\t<tr><th scope=row>Exposure</th><td> 1.5512884</td><td> 1</td><td>1.5667118</td><td>0.2158884</td></tr>\n",
       "\t<tr><th scope=row>Residuals</th><td>55.4487116</td><td>56</td><td>       NA</td><td>       NA</td></tr>\n",
       "</tbody>\n",
       "</table>\n"
      ],
      "text/latex": [
       "A anova: 3 × 4\n",
       "\\begin{tabular}{r|llll}\n",
       "  & Sum Sq & Df & F value & Pr(>F)\\\\\n",
       "  & <dbl> & <dbl> & <dbl> & <dbl>\\\\\n",
       "\\hline\n",
       "\t(Intercept) &  0.6954052 &  1 & 0.7023191 & 0.4055683\\\\\n",
       "\tExposure &  1.5512884 &  1 & 1.5667118 & 0.2158884\\\\\n",
       "\tResiduals & 55.4487116 & 56 &        NA &        NA\\\\\n",
       "\\end{tabular}\n"
      ],
      "text/markdown": [
       "\n",
       "A anova: 3 × 4\n",
       "\n",
       "| <!--/--> | Sum Sq &lt;dbl&gt; | Df &lt;dbl&gt; | F value &lt;dbl&gt; | Pr(&gt;F) &lt;dbl&gt; |\n",
       "|---|---|---|---|---|\n",
       "| (Intercept) |  0.6954052 |  1 | 0.7023191 | 0.4055683 |\n",
       "| Exposure |  1.5512884 |  1 | 1.5667118 | 0.2158884 |\n",
       "| Residuals | 55.4487116 | 56 |        NA |        NA |\n",
       "\n"
      ],
      "text/plain": [
       "            Sum Sq     Df F value   Pr(>F)   \n",
       "(Intercept)  0.6954052  1 0.7023191 0.4055683\n",
       "Exposure     1.5512884  1 1.5667118 0.2158884\n",
       "Residuals   55.4487116 56        NA        NA"
      ]
     },
     "metadata": {},
     "output_type": "display_data"
    }
   ],
   "source": [
    "#contrasts(mutated_df$Exposure) = cbind(c(-1,1,0)) #meaning is specified above\n",
    "anova_age = Anova(aov(Norm_Age ~ Exposure, data = mutated_df), type = 'III')\n",
    "anova_age\n",
    "anova_bmi = Anova(aov(Norm_BMI ~ Exposure, data = mutated_df), type = 'III')\n",
    "anova_bmi"
   ]
  },
  {
   "cell_type": "code",
   "execution_count": null,
   "id": "adopted-weight",
   "metadata": {},
   "outputs": [],
   "source": []
  }
 ],
 "metadata": {
  "kernelspec": {
   "display_name": "R",
   "language": "R",
   "name": "ir"
  },
  "language_info": {
   "codemirror_mode": "r",
   "file_extension": ".r",
   "mimetype": "text/x-r-source",
   "name": "R",
   "pygments_lexer": "r",
   "version": "3.6.3"
  }
 },
 "nbformat": 4,
 "nbformat_minor": 5
}
