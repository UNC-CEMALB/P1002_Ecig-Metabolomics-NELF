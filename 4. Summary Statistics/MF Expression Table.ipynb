{
 "cells": [
  {
   "cell_type": "code",
   "execution_count": 1,
   "id": "honest-administrator",
   "metadata": {},
   "outputs": [
    {
     "name": "stderr",
     "output_type": "stream",
     "text": [
      "── \u001b[1mAttaching packages\u001b[22m ─────────────────────────────────────── tidyverse 1.3.0 ──\n",
      "\n",
      "\u001b[32m✔\u001b[39m \u001b[34mggplot2\u001b[39m 3.3.3     \u001b[32m✔\u001b[39m \u001b[34mpurrr  \u001b[39m 0.3.4\n",
      "\u001b[32m✔\u001b[39m \u001b[34mtibble \u001b[39m 3.0.6     \u001b[32m✔\u001b[39m \u001b[34mdplyr  \u001b[39m 1.0.4\n",
      "\u001b[32m✔\u001b[39m \u001b[34mtidyr  \u001b[39m 1.1.2     \u001b[32m✔\u001b[39m \u001b[34mstringr\u001b[39m 1.4.0\n",
      "\u001b[32m✔\u001b[39m \u001b[34mreadr  \u001b[39m 1.4.0     \u001b[32m✔\u001b[39m \u001b[34mforcats\u001b[39m 0.5.1\n",
      "\n",
      "── \u001b[1mConflicts\u001b[22m ────────────────────────────────────────── tidyverse_conflicts() ──\n",
      "\u001b[31m✖\u001b[39m \u001b[34mdplyr\u001b[39m::\u001b[32mfilter()\u001b[39m masks \u001b[34mstats\u001b[39m::filter()\n",
      "\u001b[31m✖\u001b[39m \u001b[34mdplyr\u001b[39m::\u001b[32mlag()\u001b[39m    masks \u001b[34mstats\u001b[39m::lag()\n",
      "\n",
      "\n",
      "Attaching package: ‘reshape2’\n",
      "\n",
      "\n",
      "The following object is masked from ‘package:tidyr’:\n",
      "\n",
      "    smiths\n",
      "\n",
      "\n",
      "\n",
      "\u001b[36m──\u001b[39m \u001b[1m\u001b[1mColumn specification\u001b[1m\u001b[22m \u001b[36m────────────────────────────────────────────────────────\u001b[39m\n",
      "cols(\n",
      "  MF = \u001b[31mcol_character()\u001b[39m,\n",
      "  MeanDecreaseGini = \u001b[32mcol_double()\u001b[39m\n",
      ")\n",
      "\n",
      "\n",
      "\n",
      "\u001b[36m──\u001b[39m \u001b[1m\u001b[1mColumn specification\u001b[1m\u001b[22m \u001b[36m────────────────────────────────────────────────────────\u001b[39m\n",
      "cols(\n",
      "  MF = \u001b[31mcol_character()\u001b[39m,\n",
      "  MeanDecreaseGini = \u001b[32mcol_double()\u001b[39m\n",
      ")\n",
      "\n",
      "\n"
     ]
    }
   ],
   "source": [
    "setwd('/Users/alexis/University of North Carolina at Chapel Hill/Rager, Julia - CEMALB_DataAnalysisPM/Projects/P1002. Ecig Metabolomics NELF/P1002.3. Analyses/P1002.3.3. Summary Statistics/Input')\n",
    "Output = ('/Users/alexis/University of North Carolina at Chapel Hill/Rager, Julia - CEMALB_DataAnalysisPM/Projects/P1002. Ecig Metabolomics NELF/P1002.3. Analyses/P1002.3.3. Summary Statistics/Output')\n",
    "cur_date = \"030722\"\n",
    "\n",
    "library(readxl)\n",
    "library(tidyverse)\n",
    "library(reshape2)\n",
    "\n",
    "#reading in files\n",
    "feature_ranking = read_csv(\"022822_Feature_Ranking.csv\")\n",
    "feature_ranking_wo_Ecig40 = read_csv(\"022822_Feature_Ranking_wo_Ecig_40.csv\")"
   ]
  },
  {
   "cell_type": "markdown",
   "id": "blocked-booking",
   "metadata": {},
   "source": [
    "# Generating a dataframe that includes:\n",
    "\n",
    "1. MF Name\n",
    "2. RF Importance Metrics\n",
    "3. P. Value from t test\n",
    "4. P Adj\n",
    "5. Overall avg. abundance\n",
    "6. Avg. abundance in Ecig users\n",
    "7. Avg. abundance in NS\n",
    "8. log 2(avg. fold change)"
   ]
  },
  {
   "cell_type": "code",
   "execution_count": 2,
   "id": "increasing-maintenance",
   "metadata": {},
   "outputs": [
    {
     "name": "stderr",
     "output_type": "stream",
     "text": [
      "Joining, by = \"MF\"\n",
      "\n"
     ]
    },
    {
     "data": {
      "text/html": [
       "<table class=\"dataframe\">\n",
       "<caption>A tibble: 6 × 3</caption>\n",
       "<thead>\n",
       "\t<tr><th scope=col>MF</th><th scope=col>Variable_Importance_Rank</th><th scope=col>Variable_Importance_Rank_wo_Ecig40</th></tr>\n",
       "\t<tr><th scope=col>&lt;chr&gt;</th><th scope=col>&lt;dbl&gt;</th><th scope=col>&lt;dbl&gt;</th></tr>\n",
       "</thead>\n",
       "<tbody>\n",
       "\t<tr><td>MF_97  </td><td>7.0542406</td><td>7.05972731</td></tr>\n",
       "\t<tr><td>MF_5   </td><td>4.6837830</td><td>4.08153303</td></tr>\n",
       "\t<tr><td>MF_292 </td><td>0.2770581</td><td>0.18847797</td></tr>\n",
       "\t<tr><td>MF_3345</td><td>0.2480095</td><td>0.08272908</td></tr>\n",
       "\t<tr><td>MF_1713</td><td>0.1876070</td><td>0.05270328</td></tr>\n",
       "\t<tr><td>MF_4803</td><td>0.1654220</td><td>0.10907961</td></tr>\n",
       "</tbody>\n",
       "</table>\n"
      ],
      "text/latex": [
       "A tibble: 6 × 3\n",
       "\\begin{tabular}{lll}\n",
       " MF & Variable\\_Importance\\_Rank & Variable\\_Importance\\_Rank\\_wo\\_Ecig40\\\\\n",
       " <chr> & <dbl> & <dbl>\\\\\n",
       "\\hline\n",
       "\t MF\\_97   & 7.0542406 & 7.05972731\\\\\n",
       "\t MF\\_5    & 4.6837830 & 4.08153303\\\\\n",
       "\t MF\\_292  & 0.2770581 & 0.18847797\\\\\n",
       "\t MF\\_3345 & 0.2480095 & 0.08272908\\\\\n",
       "\t MF\\_1713 & 0.1876070 & 0.05270328\\\\\n",
       "\t MF\\_4803 & 0.1654220 & 0.10907961\\\\\n",
       "\\end{tabular}\n"
      ],
      "text/markdown": [
       "\n",
       "A tibble: 6 × 3\n",
       "\n",
       "| MF &lt;chr&gt; | Variable_Importance_Rank &lt;dbl&gt; | Variable_Importance_Rank_wo_Ecig40 &lt;dbl&gt; |\n",
       "|---|---|---|\n",
       "| MF_97   | 7.0542406 | 7.05972731 |\n",
       "| MF_5    | 4.6837830 | 4.08153303 |\n",
       "| MF_292  | 0.2770581 | 0.18847797 |\n",
       "| MF_3345 | 0.2480095 | 0.08272908 |\n",
       "| MF_1713 | 0.1876070 | 0.05270328 |\n",
       "| MF_4803 | 0.1654220 | 0.10907961 |\n",
       "\n"
      ],
      "text/plain": [
       "  MF      Variable_Importance_Rank Variable_Importance_Rank_wo_Ecig40\n",
       "1 MF_97   7.0542406                7.05972731                        \n",
       "2 MF_5    4.6837830                4.08153303                        \n",
       "3 MF_292  0.2770581                0.18847797                        \n",
       "4 MF_3345 0.2480095                0.08272908                        \n",
       "5 MF_1713 0.1876070                0.05270328                        \n",
       "6 MF_4803 0.1654220                0.10907961                        "
      ]
     },
     "metadata": {},
     "output_type": "display_data"
    }
   ],
   "source": [
    "#changing colnames to combine\n",
    "feature_ranking = feature_ranking %>%\n",
    "    rename(Variable_Importance_Rank = MeanDecreaseGini)\n",
    "feature_ranking_wo_Ecig40 = feature_ranking_wo_Ecig40 %>%\n",
    "    rename(Variable_Importance_Rank_wo_Ecig40 = MeanDecreaseGini)\n",
    "\n",
    "var_importance_df = inner_join(feature_ranking, feature_ranking_wo_Ecig40)\n",
    "head(var_importance_df)"
   ]
  },
  {
   "cell_type": "code",
   "execution_count": 3,
   "id": "timely-mauritius",
   "metadata": {},
   "outputs": [
    {
     "name": "stderr",
     "output_type": "stream",
     "text": [
      "\n",
      "\u001b[36m──\u001b[39m \u001b[1m\u001b[1mColumn specification\u001b[1m\u001b[22m \u001b[36m────────────────────────────────────────────────────────\u001b[39m\n",
      "cols(\n",
      "  .default = col_double(),\n",
      "  sample = \u001b[31mcol_character()\u001b[39m\n",
      ")\n",
      "\u001b[36mℹ\u001b[39m Use \u001b[30m\u001b[47m\u001b[30m\u001b[47m`spec()`\u001b[47m\u001b[30m\u001b[49m\u001b[39m for the full column specifications.\n",
      "\n",
      "\n",
      "\n",
      "\u001b[36m──\u001b[39m \u001b[1m\u001b[1mColumn specification\u001b[1m\u001b[22m \u001b[36m────────────────────────────────────────────────────────\u001b[39m\n",
      "cols(\n",
      "  .default = col_double(),\n",
      "  sample = \u001b[31mcol_character()\u001b[39m\n",
      ")\n",
      "\u001b[36mℹ\u001b[39m Use \u001b[30m\u001b[47m\u001b[30m\u001b[47m`spec()`\u001b[47m\u001b[30m\u001b[49m\u001b[39m for the full column specifications.\n",
      "\n",
      "\n"
     ]
    },
    {
     "data": {
      "text/html": [
       "<table class=\"dataframe\">\n",
       "<caption>A tibble: 6 × 3873</caption>\n",
       "<thead>\n",
       "\t<tr><th scope=col>Smoking_Status</th><th scope=col>MF_2</th><th scope=col>MF_3</th><th scope=col>MF_4</th><th scope=col>MF_5</th><th scope=col>MF_6</th><th scope=col>MF_7</th><th scope=col>MF_11</th><th scope=col>MF_12</th><th scope=col>MF_13</th><th scope=col>⋯</th><th scope=col>MF_62853</th><th scope=col>MF_63431</th><th scope=col>MF_63701</th><th scope=col>MF_64025</th><th scope=col>MF_64936</th><th scope=col>MF_65532</th><th scope=col>MF_68286</th><th scope=col>MF_73340</th><th scope=col>MF_77165</th><th scope=col>MF_78976</th></tr>\n",
       "\t<tr><th scope=col>&lt;chr&gt;</th><th scope=col>&lt;dbl&gt;</th><th scope=col>&lt;dbl&gt;</th><th scope=col>&lt;dbl&gt;</th><th scope=col>&lt;dbl&gt;</th><th scope=col>&lt;dbl&gt;</th><th scope=col>&lt;dbl&gt;</th><th scope=col>&lt;dbl&gt;</th><th scope=col>&lt;dbl&gt;</th><th scope=col>&lt;dbl&gt;</th><th scope=col>⋯</th><th scope=col>&lt;dbl&gt;</th><th scope=col>&lt;dbl&gt;</th><th scope=col>&lt;dbl&gt;</th><th scope=col>&lt;dbl&gt;</th><th scope=col>&lt;dbl&gt;</th><th scope=col>&lt;dbl&gt;</th><th scope=col>&lt;dbl&gt;</th><th scope=col>&lt;dbl&gt;</th><th scope=col>&lt;dbl&gt;</th><th scope=col>&lt;dbl&gt;</th></tr>\n",
       "</thead>\n",
       "<tbody>\n",
       "\t<tr><td>NS</td><td>19.86186</td><td>17.86943</td><td>19.21394</td><td>18.02809</td><td>17.46636</td><td>18.34174</td><td>18.41799</td><td>19.31361</td><td>19.46777</td><td>⋯</td><td>19.06974</td><td>19.10260</td><td>17.17255</td><td>16.92465</td><td>17.09794</td><td>19.06203</td><td>19.13556</td><td>16.93182</td><td>17.55702</td><td>17.05593</td></tr>\n",
       "\t<tr><td>NS</td><td>21.08622</td><td>22.58769</td><td>21.05378</td><td>17.93584</td><td>17.33098</td><td>20.41479</td><td>20.37485</td><td>21.12876</td><td>21.01488</td><td>⋯</td><td>18.02560</td><td>17.82667</td><td>19.37426</td><td>16.23450</td><td>19.06421</td><td>18.06379</td><td>19.39103</td><td>16.72112</td><td>19.27343</td><td>19.30881</td></tr>\n",
       "\t<tr><td>NS</td><td>13.12099</td><td>14.44659</td><td>13.46827</td><td>16.51009</td><td>14.93820</td><td>15.66299</td><td>15.72731</td><td>13.78698</td><td>15.18975</td><td>⋯</td><td>19.14095</td><td>19.02411</td><td>19.56175</td><td>17.17120</td><td>16.97302</td><td>19.49121</td><td>17.09470</td><td>15.56214</td><td>19.55038</td><td>19.54912</td></tr>\n",
       "\t<tr><td>NS</td><td>21.60361</td><td>23.22761</td><td>21.99010</td><td>16.22547</td><td>17.59020</td><td>21.53908</td><td>21.14531</td><td>22.07857</td><td>21.97502</td><td>⋯</td><td>19.28751</td><td>19.54886</td><td>16.78848</td><td>16.46750</td><td>19.47635</td><td>19.44477</td><td>16.99617</td><td>16.09531</td><td>19.28810</td><td>19.32788</td></tr>\n",
       "\t<tr><td>NS</td><td>19.43885</td><td>17.93876</td><td>19.68977</td><td>16.73360</td><td>17.88844</td><td>17.81758</td><td>17.64979</td><td>19.64269</td><td>19.32233</td><td>⋯</td><td>16.70042</td><td>17.85969</td><td>18.97406</td><td>18.18813</td><td>18.50336</td><td>19.19085</td><td>19.41757</td><td>16.88993</td><td>19.35678</td><td>18.95550</td></tr>\n",
       "\t<tr><td>NS</td><td>22.53459</td><td>24.36662</td><td>22.77595</td><td>16.69956</td><td>16.38411</td><td>22.55912</td><td>17.30008</td><td>22.80146</td><td>22.09338</td><td>⋯</td><td>16.86999</td><td>15.82637</td><td>19.46467</td><td>16.97149</td><td>17.46699</td><td>16.32598</td><td>15.62938</td><td>17.37207</td><td>15.84334</td><td>17.82000</td></tr>\n",
       "</tbody>\n",
       "</table>\n"
      ],
      "text/latex": [
       "A tibble: 6 × 3873\n",
       "\\begin{tabular}{lllllllllllllllllllll}\n",
       " Smoking\\_Status & MF\\_2 & MF\\_3 & MF\\_4 & MF\\_5 & MF\\_6 & MF\\_7 & MF\\_11 & MF\\_12 & MF\\_13 & ⋯ & MF\\_62853 & MF\\_63431 & MF\\_63701 & MF\\_64025 & MF\\_64936 & MF\\_65532 & MF\\_68286 & MF\\_73340 & MF\\_77165 & MF\\_78976\\\\\n",
       " <chr> & <dbl> & <dbl> & <dbl> & <dbl> & <dbl> & <dbl> & <dbl> & <dbl> & <dbl> & ⋯ & <dbl> & <dbl> & <dbl> & <dbl> & <dbl> & <dbl> & <dbl> & <dbl> & <dbl> & <dbl>\\\\\n",
       "\\hline\n",
       "\t NS & 19.86186 & 17.86943 & 19.21394 & 18.02809 & 17.46636 & 18.34174 & 18.41799 & 19.31361 & 19.46777 & ⋯ & 19.06974 & 19.10260 & 17.17255 & 16.92465 & 17.09794 & 19.06203 & 19.13556 & 16.93182 & 17.55702 & 17.05593\\\\\n",
       "\t NS & 21.08622 & 22.58769 & 21.05378 & 17.93584 & 17.33098 & 20.41479 & 20.37485 & 21.12876 & 21.01488 & ⋯ & 18.02560 & 17.82667 & 19.37426 & 16.23450 & 19.06421 & 18.06379 & 19.39103 & 16.72112 & 19.27343 & 19.30881\\\\\n",
       "\t NS & 13.12099 & 14.44659 & 13.46827 & 16.51009 & 14.93820 & 15.66299 & 15.72731 & 13.78698 & 15.18975 & ⋯ & 19.14095 & 19.02411 & 19.56175 & 17.17120 & 16.97302 & 19.49121 & 17.09470 & 15.56214 & 19.55038 & 19.54912\\\\\n",
       "\t NS & 21.60361 & 23.22761 & 21.99010 & 16.22547 & 17.59020 & 21.53908 & 21.14531 & 22.07857 & 21.97502 & ⋯ & 19.28751 & 19.54886 & 16.78848 & 16.46750 & 19.47635 & 19.44477 & 16.99617 & 16.09531 & 19.28810 & 19.32788\\\\\n",
       "\t NS & 19.43885 & 17.93876 & 19.68977 & 16.73360 & 17.88844 & 17.81758 & 17.64979 & 19.64269 & 19.32233 & ⋯ & 16.70042 & 17.85969 & 18.97406 & 18.18813 & 18.50336 & 19.19085 & 19.41757 & 16.88993 & 19.35678 & 18.95550\\\\\n",
       "\t NS & 22.53459 & 24.36662 & 22.77595 & 16.69956 & 16.38411 & 22.55912 & 17.30008 & 22.80146 & 22.09338 & ⋯ & 16.86999 & 15.82637 & 19.46467 & 16.97149 & 17.46699 & 16.32598 & 15.62938 & 17.37207 & 15.84334 & 17.82000\\\\\n",
       "\\end{tabular}\n"
      ],
      "text/markdown": [
       "\n",
       "A tibble: 6 × 3873\n",
       "\n",
       "| Smoking_Status &lt;chr&gt; | MF_2 &lt;dbl&gt; | MF_3 &lt;dbl&gt; | MF_4 &lt;dbl&gt; | MF_5 &lt;dbl&gt; | MF_6 &lt;dbl&gt; | MF_7 &lt;dbl&gt; | MF_11 &lt;dbl&gt; | MF_12 &lt;dbl&gt; | MF_13 &lt;dbl&gt; | ⋯ ⋯ | MF_62853 &lt;dbl&gt; | MF_63431 &lt;dbl&gt; | MF_63701 &lt;dbl&gt; | MF_64025 &lt;dbl&gt; | MF_64936 &lt;dbl&gt; | MF_65532 &lt;dbl&gt; | MF_68286 &lt;dbl&gt; | MF_73340 &lt;dbl&gt; | MF_77165 &lt;dbl&gt; | MF_78976 &lt;dbl&gt; |\n",
       "|---|---|---|---|---|---|---|---|---|---|---|---|---|---|---|---|---|---|---|---|---|\n",
       "| NS | 19.86186 | 17.86943 | 19.21394 | 18.02809 | 17.46636 | 18.34174 | 18.41799 | 19.31361 | 19.46777 | ⋯ | 19.06974 | 19.10260 | 17.17255 | 16.92465 | 17.09794 | 19.06203 | 19.13556 | 16.93182 | 17.55702 | 17.05593 |\n",
       "| NS | 21.08622 | 22.58769 | 21.05378 | 17.93584 | 17.33098 | 20.41479 | 20.37485 | 21.12876 | 21.01488 | ⋯ | 18.02560 | 17.82667 | 19.37426 | 16.23450 | 19.06421 | 18.06379 | 19.39103 | 16.72112 | 19.27343 | 19.30881 |\n",
       "| NS | 13.12099 | 14.44659 | 13.46827 | 16.51009 | 14.93820 | 15.66299 | 15.72731 | 13.78698 | 15.18975 | ⋯ | 19.14095 | 19.02411 | 19.56175 | 17.17120 | 16.97302 | 19.49121 | 17.09470 | 15.56214 | 19.55038 | 19.54912 |\n",
       "| NS | 21.60361 | 23.22761 | 21.99010 | 16.22547 | 17.59020 | 21.53908 | 21.14531 | 22.07857 | 21.97502 | ⋯ | 19.28751 | 19.54886 | 16.78848 | 16.46750 | 19.47635 | 19.44477 | 16.99617 | 16.09531 | 19.28810 | 19.32788 |\n",
       "| NS | 19.43885 | 17.93876 | 19.68977 | 16.73360 | 17.88844 | 17.81758 | 17.64979 | 19.64269 | 19.32233 | ⋯ | 16.70042 | 17.85969 | 18.97406 | 18.18813 | 18.50336 | 19.19085 | 19.41757 | 16.88993 | 19.35678 | 18.95550 |\n",
       "| NS | 22.53459 | 24.36662 | 22.77595 | 16.69956 | 16.38411 | 22.55912 | 17.30008 | 22.80146 | 22.09338 | ⋯ | 16.86999 | 15.82637 | 19.46467 | 16.97149 | 17.46699 | 16.32598 | 15.62938 | 17.37207 | 15.84334 | 17.82000 |\n",
       "\n"
      ],
      "text/plain": [
       "  Smoking_Status MF_2     MF_3     MF_4     MF_5     MF_6     MF_7     MF_11   \n",
       "1 NS             19.86186 17.86943 19.21394 18.02809 17.46636 18.34174 18.41799\n",
       "2 NS             21.08622 22.58769 21.05378 17.93584 17.33098 20.41479 20.37485\n",
       "3 NS             13.12099 14.44659 13.46827 16.51009 14.93820 15.66299 15.72731\n",
       "4 NS             21.60361 23.22761 21.99010 16.22547 17.59020 21.53908 21.14531\n",
       "5 NS             19.43885 17.93876 19.68977 16.73360 17.88844 17.81758 17.64979\n",
       "6 NS             22.53459 24.36662 22.77595 16.69956 16.38411 22.55912 17.30008\n",
       "  MF_12    MF_13    ⋯ MF_62853 MF_63431 MF_63701 MF_64025 MF_64936 MF_65532\n",
       "1 19.31361 19.46777 ⋯ 19.06974 19.10260 17.17255 16.92465 17.09794 19.06203\n",
       "2 21.12876 21.01488 ⋯ 18.02560 17.82667 19.37426 16.23450 19.06421 18.06379\n",
       "3 13.78698 15.18975 ⋯ 19.14095 19.02411 19.56175 17.17120 16.97302 19.49121\n",
       "4 22.07857 21.97502 ⋯ 19.28751 19.54886 16.78848 16.46750 19.47635 19.44477\n",
       "5 19.64269 19.32233 ⋯ 16.70042 17.85969 18.97406 18.18813 18.50336 19.19085\n",
       "6 22.80146 22.09338 ⋯ 16.86999 15.82637 19.46467 16.97149 17.46699 16.32598\n",
       "  MF_68286 MF_73340 MF_77165 MF_78976\n",
       "1 19.13556 16.93182 17.55702 17.05593\n",
       "2 19.39103 16.72112 19.27343 19.30881\n",
       "3 17.09470 15.56214 19.55038 19.54912\n",
       "4 16.99617 16.09531 19.28810 19.32788\n",
       "5 19.41757 16.88993 19.35678 18.95550\n",
       "6 15.62938 17.37207 15.84334 17.82000"
      ]
     },
     "metadata": {},
     "output_type": "display_data"
    },
    {
     "data": {
      "text/html": [
       "<table class=\"dataframe\">\n",
       "<caption>A tibble: 6 × 3873</caption>\n",
       "<thead>\n",
       "\t<tr><th scope=col>Smoking_Status</th><th scope=col>MF_2</th><th scope=col>MF_3</th><th scope=col>MF_4</th><th scope=col>MF_5</th><th scope=col>MF_6</th><th scope=col>MF_7</th><th scope=col>MF_11</th><th scope=col>MF_12</th><th scope=col>MF_13</th><th scope=col>⋯</th><th scope=col>MF_62853</th><th scope=col>MF_63431</th><th scope=col>MF_63701</th><th scope=col>MF_64025</th><th scope=col>MF_64936</th><th scope=col>MF_65532</th><th scope=col>MF_68286</th><th scope=col>MF_73340</th><th scope=col>MF_77165</th><th scope=col>MF_78976</th></tr>\n",
       "\t<tr><th scope=col>&lt;chr&gt;</th><th scope=col>&lt;dbl&gt;</th><th scope=col>&lt;dbl&gt;</th><th scope=col>&lt;dbl&gt;</th><th scope=col>&lt;dbl&gt;</th><th scope=col>&lt;dbl&gt;</th><th scope=col>&lt;dbl&gt;</th><th scope=col>&lt;dbl&gt;</th><th scope=col>&lt;dbl&gt;</th><th scope=col>&lt;dbl&gt;</th><th scope=col>⋯</th><th scope=col>&lt;dbl&gt;</th><th scope=col>&lt;dbl&gt;</th><th scope=col>&lt;dbl&gt;</th><th scope=col>&lt;dbl&gt;</th><th scope=col>&lt;dbl&gt;</th><th scope=col>&lt;dbl&gt;</th><th scope=col>&lt;dbl&gt;</th><th scope=col>&lt;dbl&gt;</th><th scope=col>&lt;dbl&gt;</th><th scope=col>&lt;dbl&gt;</th></tr>\n",
       "</thead>\n",
       "<tbody>\n",
       "\t<tr><td>NS</td><td>19.86228</td><td>17.86985</td><td>19.21436</td><td>18.02851</td><td>17.46677</td><td>18.34215</td><td>18.41841</td><td>19.31403</td><td>19.46819</td><td>⋯</td><td>19.07016</td><td>19.10302</td><td>17.17296</td><td>16.92506</td><td>17.09836</td><td>19.06245</td><td>19.13597</td><td>16.93223</td><td>17.55744</td><td>17.05634</td></tr>\n",
       "\t<tr><td>NS</td><td>21.08664</td><td>22.58811</td><td>21.05420</td><td>17.93576</td><td>17.33084</td><td>20.41521</td><td>20.37526</td><td>21.12918</td><td>21.01530</td><td>⋯</td><td>18.02553</td><td>17.82658</td><td>19.37468</td><td>16.23425</td><td>19.06462</td><td>18.06373</td><td>19.39145</td><td>16.72092</td><td>19.27384</td><td>19.30922</td></tr>\n",
       "\t<tr><td>NS</td><td>13.12141</td><td>14.44701</td><td>13.46868</td><td>16.51051</td><td>14.93861</td><td>15.66340</td><td>15.72772</td><td>13.78740</td><td>15.19017</td><td>⋯</td><td>19.14137</td><td>19.02453</td><td>19.56217</td><td>17.17161</td><td>16.97344</td><td>19.49163</td><td>17.09512</td><td>15.56255</td><td>19.55080</td><td>19.54954</td></tr>\n",
       "\t<tr><td>NS</td><td>21.60402</td><td>23.22802</td><td>21.99052</td><td>16.22599</td><td>17.59062</td><td>21.53950</td><td>21.14573</td><td>22.07898</td><td>21.97544</td><td>⋯</td><td>19.28792</td><td>19.54928</td><td>16.78896</td><td>16.46800</td><td>19.47677</td><td>19.44519</td><td>16.99663</td><td>16.09584</td><td>19.28852</td><td>19.32830</td></tr>\n",
       "\t<tr><td>NS</td><td>19.43927</td><td>17.93917</td><td>19.69019</td><td>16.73401</td><td>17.88886</td><td>17.81800</td><td>17.65021</td><td>19.64310</td><td>19.32274</td><td>⋯</td><td>16.70083</td><td>17.86011</td><td>18.97448</td><td>18.18855</td><td>18.50378</td><td>19.19127</td><td>19.41799</td><td>16.89034</td><td>19.35720</td><td>18.95592</td></tr>\n",
       "\t<tr><td>NS</td><td>22.53501</td><td>24.36704</td><td>22.77636</td><td>16.69976</td><td>16.38432</td><td>22.55954</td><td>17.30026</td><td>22.80188</td><td>22.09380</td><td>⋯</td><td>16.87018</td><td>15.82660</td><td>19.46509</td><td>16.97168</td><td>17.46716</td><td>16.32620</td><td>15.62962</td><td>17.37224</td><td>15.84357</td><td>17.82017</td></tr>\n",
       "</tbody>\n",
       "</table>\n"
      ],
      "text/latex": [
       "A tibble: 6 × 3873\n",
       "\\begin{tabular}{lllllllllllllllllllll}\n",
       " Smoking\\_Status & MF\\_2 & MF\\_3 & MF\\_4 & MF\\_5 & MF\\_6 & MF\\_7 & MF\\_11 & MF\\_12 & MF\\_13 & ⋯ & MF\\_62853 & MF\\_63431 & MF\\_63701 & MF\\_64025 & MF\\_64936 & MF\\_65532 & MF\\_68286 & MF\\_73340 & MF\\_77165 & MF\\_78976\\\\\n",
       " <chr> & <dbl> & <dbl> & <dbl> & <dbl> & <dbl> & <dbl> & <dbl> & <dbl> & <dbl> & ⋯ & <dbl> & <dbl> & <dbl> & <dbl> & <dbl> & <dbl> & <dbl> & <dbl> & <dbl> & <dbl>\\\\\n",
       "\\hline\n",
       "\t NS & 19.86228 & 17.86985 & 19.21436 & 18.02851 & 17.46677 & 18.34215 & 18.41841 & 19.31403 & 19.46819 & ⋯ & 19.07016 & 19.10302 & 17.17296 & 16.92506 & 17.09836 & 19.06245 & 19.13597 & 16.93223 & 17.55744 & 17.05634\\\\\n",
       "\t NS & 21.08664 & 22.58811 & 21.05420 & 17.93576 & 17.33084 & 20.41521 & 20.37526 & 21.12918 & 21.01530 & ⋯ & 18.02553 & 17.82658 & 19.37468 & 16.23425 & 19.06462 & 18.06373 & 19.39145 & 16.72092 & 19.27384 & 19.30922\\\\\n",
       "\t NS & 13.12141 & 14.44701 & 13.46868 & 16.51051 & 14.93861 & 15.66340 & 15.72772 & 13.78740 & 15.19017 & ⋯ & 19.14137 & 19.02453 & 19.56217 & 17.17161 & 16.97344 & 19.49163 & 17.09512 & 15.56255 & 19.55080 & 19.54954\\\\\n",
       "\t NS & 21.60402 & 23.22802 & 21.99052 & 16.22599 & 17.59062 & 21.53950 & 21.14573 & 22.07898 & 21.97544 & ⋯ & 19.28792 & 19.54928 & 16.78896 & 16.46800 & 19.47677 & 19.44519 & 16.99663 & 16.09584 & 19.28852 & 19.32830\\\\\n",
       "\t NS & 19.43927 & 17.93917 & 19.69019 & 16.73401 & 17.88886 & 17.81800 & 17.65021 & 19.64310 & 19.32274 & ⋯ & 16.70083 & 17.86011 & 18.97448 & 18.18855 & 18.50378 & 19.19127 & 19.41799 & 16.89034 & 19.35720 & 18.95592\\\\\n",
       "\t NS & 22.53501 & 24.36704 & 22.77636 & 16.69976 & 16.38432 & 22.55954 & 17.30026 & 22.80188 & 22.09380 & ⋯ & 16.87018 & 15.82660 & 19.46509 & 16.97168 & 17.46716 & 16.32620 & 15.62962 & 17.37224 & 15.84357 & 17.82017\\\\\n",
       "\\end{tabular}\n"
      ],
      "text/markdown": [
       "\n",
       "A tibble: 6 × 3873\n",
       "\n",
       "| Smoking_Status &lt;chr&gt; | MF_2 &lt;dbl&gt; | MF_3 &lt;dbl&gt; | MF_4 &lt;dbl&gt; | MF_5 &lt;dbl&gt; | MF_6 &lt;dbl&gt; | MF_7 &lt;dbl&gt; | MF_11 &lt;dbl&gt; | MF_12 &lt;dbl&gt; | MF_13 &lt;dbl&gt; | ⋯ ⋯ | MF_62853 &lt;dbl&gt; | MF_63431 &lt;dbl&gt; | MF_63701 &lt;dbl&gt; | MF_64025 &lt;dbl&gt; | MF_64936 &lt;dbl&gt; | MF_65532 &lt;dbl&gt; | MF_68286 &lt;dbl&gt; | MF_73340 &lt;dbl&gt; | MF_77165 &lt;dbl&gt; | MF_78976 &lt;dbl&gt; |\n",
       "|---|---|---|---|---|---|---|---|---|---|---|---|---|---|---|---|---|---|---|---|---|\n",
       "| NS | 19.86228 | 17.86985 | 19.21436 | 18.02851 | 17.46677 | 18.34215 | 18.41841 | 19.31403 | 19.46819 | ⋯ | 19.07016 | 19.10302 | 17.17296 | 16.92506 | 17.09836 | 19.06245 | 19.13597 | 16.93223 | 17.55744 | 17.05634 |\n",
       "| NS | 21.08664 | 22.58811 | 21.05420 | 17.93576 | 17.33084 | 20.41521 | 20.37526 | 21.12918 | 21.01530 | ⋯ | 18.02553 | 17.82658 | 19.37468 | 16.23425 | 19.06462 | 18.06373 | 19.39145 | 16.72092 | 19.27384 | 19.30922 |\n",
       "| NS | 13.12141 | 14.44701 | 13.46868 | 16.51051 | 14.93861 | 15.66340 | 15.72772 | 13.78740 | 15.19017 | ⋯ | 19.14137 | 19.02453 | 19.56217 | 17.17161 | 16.97344 | 19.49163 | 17.09512 | 15.56255 | 19.55080 | 19.54954 |\n",
       "| NS | 21.60402 | 23.22802 | 21.99052 | 16.22599 | 17.59062 | 21.53950 | 21.14573 | 22.07898 | 21.97544 | ⋯ | 19.28792 | 19.54928 | 16.78896 | 16.46800 | 19.47677 | 19.44519 | 16.99663 | 16.09584 | 19.28852 | 19.32830 |\n",
       "| NS | 19.43927 | 17.93917 | 19.69019 | 16.73401 | 17.88886 | 17.81800 | 17.65021 | 19.64310 | 19.32274 | ⋯ | 16.70083 | 17.86011 | 18.97448 | 18.18855 | 18.50378 | 19.19127 | 19.41799 | 16.89034 | 19.35720 | 18.95592 |\n",
       "| NS | 22.53501 | 24.36704 | 22.77636 | 16.69976 | 16.38432 | 22.55954 | 17.30026 | 22.80188 | 22.09380 | ⋯ | 16.87018 | 15.82660 | 19.46509 | 16.97168 | 17.46716 | 16.32620 | 15.62962 | 17.37224 | 15.84357 | 17.82017 |\n",
       "\n"
      ],
      "text/plain": [
       "  Smoking_Status MF_2     MF_3     MF_4     MF_5     MF_6     MF_7     MF_11   \n",
       "1 NS             19.86228 17.86985 19.21436 18.02851 17.46677 18.34215 18.41841\n",
       "2 NS             21.08664 22.58811 21.05420 17.93576 17.33084 20.41521 20.37526\n",
       "3 NS             13.12141 14.44701 13.46868 16.51051 14.93861 15.66340 15.72772\n",
       "4 NS             21.60402 23.22802 21.99052 16.22599 17.59062 21.53950 21.14573\n",
       "5 NS             19.43927 17.93917 19.69019 16.73401 17.88886 17.81800 17.65021\n",
       "6 NS             22.53501 24.36704 22.77636 16.69976 16.38432 22.55954 17.30026\n",
       "  MF_12    MF_13    ⋯ MF_62853 MF_63431 MF_63701 MF_64025 MF_64936 MF_65532\n",
       "1 19.31403 19.46819 ⋯ 19.07016 19.10302 17.17296 16.92506 17.09836 19.06245\n",
       "2 21.12918 21.01530 ⋯ 18.02553 17.82658 19.37468 16.23425 19.06462 18.06373\n",
       "3 13.78740 15.19017 ⋯ 19.14137 19.02453 19.56217 17.17161 16.97344 19.49163\n",
       "4 22.07898 21.97544 ⋯ 19.28792 19.54928 16.78896 16.46800 19.47677 19.44519\n",
       "5 19.64310 19.32274 ⋯ 16.70083 17.86011 18.97448 18.18855 18.50378 19.19127\n",
       "6 22.80188 22.09380 ⋯ 16.87018 15.82660 19.46509 16.97168 17.46716 16.32620\n",
       "  MF_68286 MF_73340 MF_77165 MF_78976\n",
       "1 19.13597 16.93223 17.55744 17.05634\n",
       "2 19.39145 16.72092 19.27384 19.30922\n",
       "3 17.09512 15.56255 19.55080 19.54954\n",
       "4 16.99663 16.09584 19.28852 19.32830\n",
       "5 19.41799 16.89034 19.35720 18.95592\n",
       "6 15.62962 17.37224 15.84357 17.82017"
      ]
     },
     "metadata": {},
     "output_type": "display_data"
    }
   ],
   "source": [
    "#calculating p values from t test\n",
    "#reading in file\n",
    "molecular_feature_df_w_Ecig_40 = read_csv(\"20220217_mf_qrilc_w40.csv\") %>%\n",
    "    rename(Smoking_Status = sample) %>%\n",
    "    mutate(Smoking_Status = ifelse(grepl(\"Ecig\", Smoking_Status), \"Ecig\", \"NS\"))\n",
    "molecular_feature_df_wo_Ecig_40 = read_csv(\"20220217_mf_qrilc_wo40.csv\") %>%\n",
    "    rename(Smoking_Status = sample) %>%\n",
    "    mutate(Smoking_Status = ifelse(grepl(\"Ecig\", Smoking_Status), \"Ecig\", \"NS\"))\n",
    "\n",
    "head(molecular_feature_df_w_Ecig_40)\n",
    "head(molecular_feature_df_wo_Ecig_40)"
   ]
  },
  {
   "cell_type": "code",
   "execution_count": 4,
   "id": "humanitarian-canvas",
   "metadata": {},
   "outputs": [
    {
     "data": {
      "text/html": [
       "<table class=\"dataframe\">\n",
       "<caption>A tibble: 6 × 3</caption>\n",
       "<thead>\n",
       "\t<tr><th scope=col>Smoking_Status</th><th scope=col>MF</th><th scope=col>Value</th></tr>\n",
       "\t<tr><th scope=col>&lt;chr&gt;</th><th scope=col>&lt;chr&gt;</th><th scope=col>&lt;dbl&gt;</th></tr>\n",
       "</thead>\n",
       "<tbody>\n",
       "\t<tr><td>NS</td><td>MF_2</td><td>19.86186</td></tr>\n",
       "\t<tr><td>NS</td><td>MF_3</td><td>17.86943</td></tr>\n",
       "\t<tr><td>NS</td><td>MF_4</td><td>19.21394</td></tr>\n",
       "\t<tr><td>NS</td><td>MF_5</td><td>18.02809</td></tr>\n",
       "\t<tr><td>NS</td><td>MF_6</td><td>17.46636</td></tr>\n",
       "\t<tr><td>NS</td><td>MF_7</td><td>18.34174</td></tr>\n",
       "</tbody>\n",
       "</table>\n"
      ],
      "text/latex": [
       "A tibble: 6 × 3\n",
       "\\begin{tabular}{lll}\n",
       " Smoking\\_Status & MF & Value\\\\\n",
       " <chr> & <chr> & <dbl>\\\\\n",
       "\\hline\n",
       "\t NS & MF\\_2 & 19.86186\\\\\n",
       "\t NS & MF\\_3 & 17.86943\\\\\n",
       "\t NS & MF\\_4 & 19.21394\\\\\n",
       "\t NS & MF\\_5 & 18.02809\\\\\n",
       "\t NS & MF\\_6 & 17.46636\\\\\n",
       "\t NS & MF\\_7 & 18.34174\\\\\n",
       "\\end{tabular}\n"
      ],
      "text/markdown": [
       "\n",
       "A tibble: 6 × 3\n",
       "\n",
       "| Smoking_Status &lt;chr&gt; | MF &lt;chr&gt; | Value &lt;dbl&gt; |\n",
       "|---|---|---|\n",
       "| NS | MF_2 | 19.86186 |\n",
       "| NS | MF_3 | 17.86943 |\n",
       "| NS | MF_4 | 19.21394 |\n",
       "| NS | MF_5 | 18.02809 |\n",
       "| NS | MF_6 | 17.46636 |\n",
       "| NS | MF_7 | 18.34174 |\n",
       "\n"
      ],
      "text/plain": [
       "  Smoking_Status MF   Value   \n",
       "1 NS             MF_2 19.86186\n",
       "2 NS             MF_3 17.86943\n",
       "3 NS             MF_4 19.21394\n",
       "4 NS             MF_5 18.02809\n",
       "5 NS             MF_6 17.46636\n",
       "6 NS             MF_7 18.34174"
      ]
     },
     "metadata": {},
     "output_type": "display_data"
    }
   ],
   "source": [
    "longer_mf_df_w_Ecig40 = molecular_feature_df_w_Ecig_40 %>%\n",
    "    pivot_longer(cols = 2:3873, names_to = \"MF\", values_to = \"Value\")\n",
    "longer_mf_df_wo_Ecig40 = molecular_feature_df_wo_Ecig_40 %>%\n",
    "    pivot_longer(cols = 2:3873, names_to = \"MF\", values_to = \"Value\")\n",
    "\n",
    "\n",
    "head(longer_mf_df_w_Ecig40)"
   ]
  },
  {
   "cell_type": "code",
   "execution_count": 5,
   "id": "another-wrestling",
   "metadata": {},
   "outputs": [
    {
     "data": {
      "text/html": [
       "<table class=\"dataframe\">\n",
       "<caption>A data.frame: 6 × 3</caption>\n",
       "<thead>\n",
       "\t<tr><th></th><th scope=col>MF</th><th scope=col>P Value</th><th scope=col>P Adjust</th></tr>\n",
       "\t<tr><th></th><th scope=col>&lt;fct&gt;</th><th scope=col>&lt;fct&gt;</th><th scope=col>&lt;dbl&gt;</th></tr>\n",
       "</thead>\n",
       "<tbody>\n",
       "\t<tr><th scope=row>1</th><td>MF_2</td><td>0.157890632296302   </td><td>6.969766e-01</td></tr>\n",
       "\t<tr><th scope=row>2</th><td>MF_3</td><td>0.183088265453325   </td><td>7.122719e-01</td></tr>\n",
       "\t<tr><th scope=row>3</th><td>MF_4</td><td>0.396463535957884   </td><td>8.333091e-01</td></tr>\n",
       "\t<tr><th scope=row>4</th><td>MF_5</td><td>3.67620776654923e-08</td><td>7.117138e-05</td></tr>\n",
       "\t<tr><th scope=row>5</th><td>MF_6</td><td>0.901198651169926   </td><td>9.794800e-01</td></tr>\n",
       "\t<tr><th scope=row>6</th><td>MF_7</td><td>0.102708109504866   </td><td>6.352808e-01</td></tr>\n",
       "</tbody>\n",
       "</table>\n"
      ],
      "text/latex": [
       "A data.frame: 6 × 3\n",
       "\\begin{tabular}{r|lll}\n",
       "  & MF & P Value & P Adjust\\\\\n",
       "  & <fct> & <fct> & <dbl>\\\\\n",
       "\\hline\n",
       "\t1 & MF\\_2 & 0.157890632296302    & 6.969766e-01\\\\\n",
       "\t2 & MF\\_3 & 0.183088265453325    & 7.122719e-01\\\\\n",
       "\t3 & MF\\_4 & 0.396463535957884    & 8.333091e-01\\\\\n",
       "\t4 & MF\\_5 & 3.67620776654923e-08 & 7.117138e-05\\\\\n",
       "\t5 & MF\\_6 & 0.901198651169926    & 9.794800e-01\\\\\n",
       "\t6 & MF\\_7 & 0.102708109504866    & 6.352808e-01\\\\\n",
       "\\end{tabular}\n"
      ],
      "text/markdown": [
       "\n",
       "A data.frame: 6 × 3\n",
       "\n",
       "| <!--/--> | MF &lt;fct&gt; | P Value &lt;fct&gt; | P Adjust &lt;dbl&gt; |\n",
       "|---|---|---|---|\n",
       "| 1 | MF_2 | 0.157890632296302    | 6.969766e-01 |\n",
       "| 2 | MF_3 | 0.183088265453325    | 7.122719e-01 |\n",
       "| 3 | MF_4 | 0.396463535957884    | 8.333091e-01 |\n",
       "| 4 | MF_5 | 3.67620776654923e-08 | 7.117138e-05 |\n",
       "| 5 | MF_6 | 0.901198651169926    | 9.794800e-01 |\n",
       "| 6 | MF_7 | 0.102708109504866    | 6.352808e-01 |\n",
       "\n"
      ],
      "text/plain": [
       "  MF   P Value              P Adjust    \n",
       "1 MF_2 0.157890632296302    6.969766e-01\n",
       "2 MF_3 0.183088265453325    7.122719e-01\n",
       "3 MF_4 0.396463535957884    8.333091e-01\n",
       "4 MF_5 3.67620776654923e-08 7.117138e-05\n",
       "5 MF_6 0.901198651169926    9.794800e-01\n",
       "6 MF_7 0.102708109504866    6.352808e-01"
      ]
     },
     "metadata": {},
     "output_type": "display_data"
    }
   ],
   "source": [
    "t_test_values = function(df, p_value_name, padjust_name){\n",
    "    \n",
    "    single_MF = unique(longer_mf_df_w_Ecig40$MF)\n",
    "    \n",
    "    p_values_df = data.frame()\n",
    "    #iterating through each MF\n",
    "    for (i in 1:length(single_MF)){\n",
    "        #NS df\n",
    "        NS_df = df %>%\n",
    "            filter(Smoking_Status == \"NS\", MF == single_MF[i])\n",
    "        #Ecig df\n",
    "        Ecig_df = df %>%\n",
    "            filter(Smoking_Status == \"Ecig\", MF == single_MF[i])\n",
    "\n",
    "        #t test\n",
    "        t_test = t.test(NS_df$Value, Ecig_df$Value)\n",
    "        pvalue = t_test$p.value\n",
    "        \n",
    "        #saving values to df\n",
    "        p_values_df = rbind(p_values_df, cbind(single_MF[i], pvalue))\n",
    "    }\n",
    "    \n",
    "    #adding col names\n",
    "    colnames(p_values_df) = c(\"MF\", p_value_name)\n",
    "    #calculating padj values\n",
    "    p_values_df[[padjust_name]] = p.adjust(as.numeric(as.character(p_values_df$`P Value`)), method = \"fdr\")\n",
    "    \n",
    "    return(p_values_df)\n",
    "}\n",
    "\n",
    "#calling fn\n",
    "pvalue_w_Ecig_40 = t_test_values(longer_mf_df_w_Ecig40, \"P Value\", \"P Adjust\")\n",
    "pvalue_wo_Ecig_40 = t_test_values(longer_mf_df_wo_Ecig40, \"P Value w/o Ecig 40\", \"P Adjust w/o Ecig 40\")\n",
    "\n",
    "head(pvalue_w_Ecig_40)"
   ]
  },
  {
   "cell_type": "code",
   "execution_count": 6,
   "id": "moral-segment",
   "metadata": {},
   "outputs": [
    {
     "name": "stderr",
     "output_type": "stream",
     "text": [
      "Joining, by = \"MF\"\n",
      "\n"
     ]
    },
    {
     "data": {
      "text/html": [
       "<table class=\"dataframe\">\n",
       "<caption>A data.frame: 6 × 5</caption>\n",
       "<thead>\n",
       "\t<tr><th></th><th scope=col>MF</th><th scope=col>P Value</th><th scope=col>P Adjust</th><th scope=col>P Value w/o Ecig 40</th><th scope=col>P Adjust w/o Ecig 40</th></tr>\n",
       "\t<tr><th></th><th scope=col>&lt;fct&gt;</th><th scope=col>&lt;fct&gt;</th><th scope=col>&lt;dbl&gt;</th><th scope=col>&lt;fct&gt;</th><th scope=col>&lt;dbl&gt;</th></tr>\n",
       "</thead>\n",
       "<tbody>\n",
       "\t<tr><th scope=row>1</th><td>MF_2</td><td>0.157890632296302   </td><td>6.969766e-01</td><td>0.150344797204096   </td><td>0.7057043455</td></tr>\n",
       "\t<tr><th scope=row>2</th><td>MF_3</td><td>0.183088265453325   </td><td>7.122719e-01</td><td>0.168392794309381   </td><td>0.7232533997</td></tr>\n",
       "\t<tr><th scope=row>3</th><td>MF_4</td><td>0.396463535957884   </td><td>8.333091e-01</td><td>0.478808213167838   </td><td>0.8707234523</td></tr>\n",
       "\t<tr><th scope=row>4</th><td>MF_5</td><td>3.67620776654923e-08</td><td>7.117138e-05</td><td>8.79038745996353e-08</td><td>0.0001701819</td></tr>\n",
       "\t<tr><th scope=row>5</th><td>MF_6</td><td>0.901198651169926   </td><td>9.794800e-01</td><td>0.892429238348861   </td><td>0.9825095283</td></tr>\n",
       "\t<tr><th scope=row>6</th><td>MF_7</td><td>0.102708109504866   </td><td>6.352808e-01</td><td>0.103145177055653   </td><td>0.6640987384</td></tr>\n",
       "</tbody>\n",
       "</table>\n"
      ],
      "text/latex": [
       "A data.frame: 6 × 5\n",
       "\\begin{tabular}{r|lllll}\n",
       "  & MF & P Value & P Adjust & P Value w/o Ecig 40 & P Adjust w/o Ecig 40\\\\\n",
       "  & <fct> & <fct> & <dbl> & <fct> & <dbl>\\\\\n",
       "\\hline\n",
       "\t1 & MF\\_2 & 0.157890632296302    & 6.969766e-01 & 0.150344797204096    & 0.7057043455\\\\\n",
       "\t2 & MF\\_3 & 0.183088265453325    & 7.122719e-01 & 0.168392794309381    & 0.7232533997\\\\\n",
       "\t3 & MF\\_4 & 0.396463535957884    & 8.333091e-01 & 0.478808213167838    & 0.8707234523\\\\\n",
       "\t4 & MF\\_5 & 3.67620776654923e-08 & 7.117138e-05 & 8.79038745996353e-08 & 0.0001701819\\\\\n",
       "\t5 & MF\\_6 & 0.901198651169926    & 9.794800e-01 & 0.892429238348861    & 0.9825095283\\\\\n",
       "\t6 & MF\\_7 & 0.102708109504866    & 6.352808e-01 & 0.103145177055653    & 0.6640987384\\\\\n",
       "\\end{tabular}\n"
      ],
      "text/markdown": [
       "\n",
       "A data.frame: 6 × 5\n",
       "\n",
       "| <!--/--> | MF &lt;fct&gt; | P Value &lt;fct&gt; | P Adjust &lt;dbl&gt; | P Value w/o Ecig 40 &lt;fct&gt; | P Adjust w/o Ecig 40 &lt;dbl&gt; |\n",
       "|---|---|---|---|---|---|\n",
       "| 1 | MF_2 | 0.157890632296302    | 6.969766e-01 | 0.150344797204096    | 0.7057043455 |\n",
       "| 2 | MF_3 | 0.183088265453325    | 7.122719e-01 | 0.168392794309381    | 0.7232533997 |\n",
       "| 3 | MF_4 | 0.396463535957884    | 8.333091e-01 | 0.478808213167838    | 0.8707234523 |\n",
       "| 4 | MF_5 | 3.67620776654923e-08 | 7.117138e-05 | 8.79038745996353e-08 | 0.0001701819 |\n",
       "| 5 | MF_6 | 0.901198651169926    | 9.794800e-01 | 0.892429238348861    | 0.9825095283 |\n",
       "| 6 | MF_7 | 0.102708109504866    | 6.352808e-01 | 0.103145177055653    | 0.6640987384 |\n",
       "\n"
      ],
      "text/plain": [
       "  MF   P Value              P Adjust     P Value w/o Ecig 40 \n",
       "1 MF_2 0.157890632296302    6.969766e-01 0.150344797204096   \n",
       "2 MF_3 0.183088265453325    7.122719e-01 0.168392794309381   \n",
       "3 MF_4 0.396463535957884    8.333091e-01 0.478808213167838   \n",
       "4 MF_5 3.67620776654923e-08 7.117138e-05 8.79038745996353e-08\n",
       "5 MF_6 0.901198651169926    9.794800e-01 0.892429238348861   \n",
       "6 MF_7 0.102708109504866    6.352808e-01 0.103145177055653   \n",
       "  P Adjust w/o Ecig 40\n",
       "1 0.7057043455        \n",
       "2 0.7232533997        \n",
       "3 0.8707234523        \n",
       "4 0.0001701819        \n",
       "5 0.9825095283        \n",
       "6 0.6640987384        "
      ]
     },
     "metadata": {},
     "output_type": "display_data"
    }
   ],
   "source": [
    "#combining into 1 df\n",
    "pvalue_df = inner_join(pvalue_w_Ecig_40, pvalue_wo_Ecig_40)\n",
    "head(pvalue_df)"
   ]
  },
  {
   "cell_type": "code",
   "execution_count": 7,
   "id": "popular-scotland",
   "metadata": {},
   "outputs": [
    {
     "name": "stderr",
     "output_type": "stream",
     "text": [
      "`summarise()` has grouped output by 'Smoking_Status'. You can override using the `.groups` argument.\n",
      "\n",
      "`summarise()` has grouped output by 'Smoking_Status'. You can override using the `.groups` argument.\n",
      "\n"
     ]
    },
    {
     "data": {
      "text/html": [
       "<table class=\"dataframe\">\n",
       "<caption>A tibble: 6 × 2</caption>\n",
       "<thead>\n",
       "\t<tr><th scope=col>MF</th><th scope=col>Avg_Abundance</th></tr>\n",
       "\t<tr><th scope=col>&lt;chr&gt;</th><th scope=col>&lt;dbl&gt;</th></tr>\n",
       "</thead>\n",
       "<tbody>\n",
       "\t<tr><td>MF_100  </td><td>17.90073</td></tr>\n",
       "\t<tr><td>MF_1000 </td><td>20.47764</td></tr>\n",
       "\t<tr><td>MF_10009</td><td>19.32521</td></tr>\n",
       "\t<tr><td>MF_1001 </td><td>19.65870</td></tr>\n",
       "\t<tr><td>MF_10019</td><td>18.51077</td></tr>\n",
       "\t<tr><td>MF_1002 </td><td>21.29595</td></tr>\n",
       "</tbody>\n",
       "</table>\n"
      ],
      "text/latex": [
       "A tibble: 6 × 2\n",
       "\\begin{tabular}{ll}\n",
       " MF & Avg\\_Abundance\\\\\n",
       " <chr> & <dbl>\\\\\n",
       "\\hline\n",
       "\t MF\\_100   & 17.90073\\\\\n",
       "\t MF\\_1000  & 20.47764\\\\\n",
       "\t MF\\_10009 & 19.32521\\\\\n",
       "\t MF\\_1001  & 19.65870\\\\\n",
       "\t MF\\_10019 & 18.51077\\\\\n",
       "\t MF\\_1002  & 21.29595\\\\\n",
       "\\end{tabular}\n"
      ],
      "text/markdown": [
       "\n",
       "A tibble: 6 × 2\n",
       "\n",
       "| MF &lt;chr&gt; | Avg_Abundance &lt;dbl&gt; |\n",
       "|---|---|\n",
       "| MF_100   | 17.90073 |\n",
       "| MF_1000  | 20.47764 |\n",
       "| MF_10009 | 19.32521 |\n",
       "| MF_1001  | 19.65870 |\n",
       "| MF_10019 | 18.51077 |\n",
       "| MF_1002  | 21.29595 |\n",
       "\n"
      ],
      "text/plain": [
       "  MF       Avg_Abundance\n",
       "1 MF_100   17.90073     \n",
       "2 MF_1000  20.47764     \n",
       "3 MF_10009 19.32521     \n",
       "4 MF_1001  19.65870     \n",
       "5 MF_10019 18.51077     \n",
       "6 MF_1002  21.29595     "
      ]
     },
     "metadata": {},
     "output_type": "display_data"
    },
    {
     "data": {
      "text/html": [
       "<table class=\"dataframe\">\n",
       "<caption>A grouped_df: 6 × 3</caption>\n",
       "<thead>\n",
       "\t<tr><th scope=col>Smoking_Status</th><th scope=col>MF</th><th scope=col>Avg_Abundance_stratified</th></tr>\n",
       "\t<tr><th scope=col>&lt;chr&gt;</th><th scope=col>&lt;chr&gt;</th><th scope=col>&lt;dbl&gt;</th></tr>\n",
       "</thead>\n",
       "<tbody>\n",
       "\t<tr><td>Ecig</td><td>MF_100  </td><td>18.25741</td></tr>\n",
       "\t<tr><td>Ecig</td><td>MF_1000 </td><td>20.44849</td></tr>\n",
       "\t<tr><td>Ecig</td><td>MF_10009</td><td>19.53787</td></tr>\n",
       "\t<tr><td>Ecig</td><td>MF_1001 </td><td>19.63929</td></tr>\n",
       "\t<tr><td>Ecig</td><td>MF_10019</td><td>18.69506</td></tr>\n",
       "\t<tr><td>Ecig</td><td>MF_1002 </td><td>21.54147</td></tr>\n",
       "</tbody>\n",
       "</table>\n"
      ],
      "text/latex": [
       "A grouped\\_df: 6 × 3\n",
       "\\begin{tabular}{lll}\n",
       " Smoking\\_Status & MF & Avg\\_Abundance\\_stratified\\\\\n",
       " <chr> & <chr> & <dbl>\\\\\n",
       "\\hline\n",
       "\t Ecig & MF\\_100   & 18.25741\\\\\n",
       "\t Ecig & MF\\_1000  & 20.44849\\\\\n",
       "\t Ecig & MF\\_10009 & 19.53787\\\\\n",
       "\t Ecig & MF\\_1001  & 19.63929\\\\\n",
       "\t Ecig & MF\\_10019 & 18.69506\\\\\n",
       "\t Ecig & MF\\_1002  & 21.54147\\\\\n",
       "\\end{tabular}\n"
      ],
      "text/markdown": [
       "\n",
       "A grouped_df: 6 × 3\n",
       "\n",
       "| Smoking_Status &lt;chr&gt; | MF &lt;chr&gt; | Avg_Abundance_stratified &lt;dbl&gt; |\n",
       "|---|---|---|\n",
       "| Ecig | MF_100   | 18.25741 |\n",
       "| Ecig | MF_1000  | 20.44849 |\n",
       "| Ecig | MF_10009 | 19.53787 |\n",
       "| Ecig | MF_1001  | 19.63929 |\n",
       "| Ecig | MF_10019 | 18.69506 |\n",
       "| Ecig | MF_1002  | 21.54147 |\n",
       "\n"
      ],
      "text/plain": [
       "  Smoking_Status MF       Avg_Abundance_stratified\n",
       "1 Ecig           MF_100   18.25741                \n",
       "2 Ecig           MF_1000  20.44849                \n",
       "3 Ecig           MF_10009 19.53787                \n",
       "4 Ecig           MF_1001  19.63929                \n",
       "5 Ecig           MF_10019 18.69506                \n",
       "6 Ecig           MF_1002  21.54147                "
      ]
     },
     "metadata": {},
     "output_type": "display_data"
    }
   ],
   "source": [
    "#calculating overall avg. abundance and within smoking groups\n",
    "avg_abundance_w_Ecig_40 = longer_mf_df_w_Ecig40 %>%\n",
    "    group_by(MF) %>%\n",
    "    summarize(Avg_Abundance = mean(Value))\n",
    "avg_abundance_wo_Ecig_40 = longer_mf_df_wo_Ecig40 %>%\n",
    "    group_by(MF) %>%\n",
    "    summarize(Avg_Abundance_wo_Ecig_40 = mean(Value))\n",
    "\n",
    "#stratified by smoking group\n",
    "avg_abundance_w_Ecig_40_stratified = longer_mf_df_w_Ecig40 %>%\n",
    "    group_by(Smoking_Status, MF) %>%\n",
    "    summarize(Avg_Abundance_stratified = mean(Value))\n",
    "avg_abundance_wo_Ecig_40_stratified = longer_mf_df_wo_Ecig40 %>%\n",
    "    group_by(Smoking_Status, MF) %>%\n",
    "    summarize(Avg_Abundance_stratified_wo_Ecig40 = mean(Value))\n",
    "\n",
    "head(avg_abundance_w_Ecig_40)\n",
    "head(avg_abundance_w_Ecig_40_stratified)"
   ]
  },
  {
   "cell_type": "code",
   "execution_count": 8,
   "id": "pediatric-botswana",
   "metadata": {},
   "outputs": [
    {
     "data": {
      "text/html": [
       "<table class=\"dataframe\">\n",
       "<caption>A tibble: 6 × 2</caption>\n",
       "<thead>\n",
       "\t<tr><th scope=col>MF</th><th scope=col>Ecig_Avg_Abundance</th></tr>\n",
       "\t<tr><th scope=col>&lt;chr&gt;</th><th scope=col>&lt;dbl&gt;</th></tr>\n",
       "</thead>\n",
       "<tbody>\n",
       "\t<tr><td>MF_100  </td><td>18.25741</td></tr>\n",
       "\t<tr><td>MF_1000 </td><td>20.44849</td></tr>\n",
       "\t<tr><td>MF_10009</td><td>19.53787</td></tr>\n",
       "\t<tr><td>MF_1001 </td><td>19.63929</td></tr>\n",
       "\t<tr><td>MF_10019</td><td>18.69506</td></tr>\n",
       "\t<tr><td>MF_1002 </td><td>21.54147</td></tr>\n",
       "</tbody>\n",
       "</table>\n"
      ],
      "text/latex": [
       "A tibble: 6 × 2\n",
       "\\begin{tabular}{ll}\n",
       " MF & Ecig\\_Avg\\_Abundance\\\\\n",
       " <chr> & <dbl>\\\\\n",
       "\\hline\n",
       "\t MF\\_100   & 18.25741\\\\\n",
       "\t MF\\_1000  & 20.44849\\\\\n",
       "\t MF\\_10009 & 19.53787\\\\\n",
       "\t MF\\_1001  & 19.63929\\\\\n",
       "\t MF\\_10019 & 18.69506\\\\\n",
       "\t MF\\_1002  & 21.54147\\\\\n",
       "\\end{tabular}\n"
      ],
      "text/markdown": [
       "\n",
       "A tibble: 6 × 2\n",
       "\n",
       "| MF &lt;chr&gt; | Ecig_Avg_Abundance &lt;dbl&gt; |\n",
       "|---|---|\n",
       "| MF_100   | 18.25741 |\n",
       "| MF_1000  | 20.44849 |\n",
       "| MF_10009 | 19.53787 |\n",
       "| MF_1001  | 19.63929 |\n",
       "| MF_10019 | 18.69506 |\n",
       "| MF_1002  | 21.54147 |\n",
       "\n"
      ],
      "text/plain": [
       "  MF       Ecig_Avg_Abundance\n",
       "1 MF_100   18.25741          \n",
       "2 MF_1000  20.44849          \n",
       "3 MF_10009 19.53787          \n",
       "4 MF_1001  19.63929          \n",
       "5 MF_10019 18.69506          \n",
       "6 MF_1002  21.54147          "
      ]
     },
     "metadata": {},
     "output_type": "display_data"
    }
   ],
   "source": [
    "#changing the stratified dfs to making combining easier\n",
    "#first splitting dfs\n",
    "split_avg_abundance_w_Ecig_40_stratified = avg_abundance_w_Ecig_40_stratified %>%\n",
    "    group_by(Smoking_Status) %>%\n",
    "    group_split()\n",
    "\n",
    "split_avg_abundance_wo_Ecig_40_stratified = avg_abundance_wo_Ecig_40_stratified %>%\n",
    "    group_by(Smoking_Status) %>%\n",
    "    group_split()\n",
    "\n",
    "#adding smoking status to the title\n",
    "Ecig_avg_abundance = split_avg_abundance_w_Ecig_40_stratified[[1]] %>%\n",
    "    select(-Smoking_Status) %>%\n",
    "    rename(Ecig_Avg_Abundance = Avg_Abundance_stratified)\n",
    "NS_avg_abundance = split_avg_abundance_w_Ecig_40_stratified[[2]] %>%\n",
    "    select(-Smoking_Status) %>%\n",
    "    rename(NS_Avg_Abundance = Avg_Abundance_stratified)\n",
    "\n",
    "Ecig_avg_abundance_wo_Ecig_40 = split_avg_abundance_wo_Ecig_40_stratified[[1]] %>%\n",
    "    select(-Smoking_Status) %>%\n",
    "    rename(Ecig_Avg_Abundance_wo_Ecig_40 = Avg_Abundance_stratified_wo_Ecig40)\n",
    "NS_avg_abundance_wo_Ecig_40 = split_avg_abundance_wo_Ecig_40_stratified[[2]] %>%\n",
    "    select(-Smoking_Status) %>%\n",
    "    rename(NS_Avg_Abundance_wo_Ecig_40 = Avg_Abundance_stratified_wo_Ecig40)\n",
    "\n",
    "head(Ecig_avg_abundance)"
   ]
  },
  {
   "cell_type": "code",
   "execution_count": 9,
   "id": "expressed-bennett",
   "metadata": {},
   "outputs": [
    {
     "name": "stderr",
     "output_type": "stream",
     "text": [
      "Joining, by = \"MF\"\n",
      "\n",
      "Joining, by = \"MF\"\n",
      "\n",
      "Joining, by = \"MF\"\n",
      "\n"
     ]
    },
    {
     "data": {
      "text/html": [
       "<table class=\"dataframe\">\n",
       "<caption>A data.frame: 6 × 7</caption>\n",
       "<thead>\n",
       "\t<tr><th></th><th scope=col>MF</th><th scope=col>Avg_Abundance</th><th scope=col>Avg_Abundance_wo_Ecig_40</th><th scope=col>Ecig_Avg_Abundance</th><th scope=col>NS_Avg_Abundance</th><th scope=col>Ecig_Avg_Abundance_wo_Ecig_40</th><th scope=col>NS_Avg_Abundance_wo_Ecig_40</th></tr>\n",
       "\t<tr><th></th><th scope=col>&lt;chr&gt;</th><th scope=col>&lt;dbl&gt;</th><th scope=col>&lt;dbl&gt;</th><th scope=col>&lt;dbl&gt;</th><th scope=col>&lt;dbl&gt;</th><th scope=col>&lt;dbl&gt;</th><th scope=col>&lt;dbl&gt;</th></tr>\n",
       "</thead>\n",
       "<tbody>\n",
       "\t<tr><th scope=row>1</th><td>MF_100  </td><td>17.90073</td><td>17.87097</td><td>18.25741</td><td>17.47800</td><td>18.21299</td><td>17.47828</td></tr>\n",
       "\t<tr><th scope=row>2</th><td>MF_1000 </td><td>20.47764</td><td>20.46267</td><td>20.44849</td><td>20.51219</td><td>20.41921</td><td>20.51256</td></tr>\n",
       "\t<tr><th scope=row>3</th><td>MF_10009</td><td>19.32521</td><td>19.40007</td><td>19.53787</td><td>19.07316</td><td>19.68448</td><td>19.07352</td></tr>\n",
       "\t<tr><th scope=row>4</th><td>MF_1001 </td><td>19.65870</td><td>19.68352</td><td>19.63929</td><td>19.68171</td><td>19.68474</td><td>19.68213</td></tr>\n",
       "\t<tr><th scope=row>5</th><td>MF_10019</td><td>18.51077</td><td>18.55690</td><td>18.69506</td><td>18.29235</td><td>18.78704</td><td>18.29267</td></tr>\n",
       "\t<tr><th scope=row>6</th><td>MF_1002 </td><td>21.29595</td><td>21.30002</td><td>21.54147</td><td>21.00496</td><td>21.55668</td><td>21.00534</td></tr>\n",
       "</tbody>\n",
       "</table>\n"
      ],
      "text/latex": [
       "A data.frame: 6 × 7\n",
       "\\begin{tabular}{r|lllllll}\n",
       "  & MF & Avg\\_Abundance & Avg\\_Abundance\\_wo\\_Ecig\\_40 & Ecig\\_Avg\\_Abundance & NS\\_Avg\\_Abundance & Ecig\\_Avg\\_Abundance\\_wo\\_Ecig\\_40 & NS\\_Avg\\_Abundance\\_wo\\_Ecig\\_40\\\\\n",
       "  & <chr> & <dbl> & <dbl> & <dbl> & <dbl> & <dbl> & <dbl>\\\\\n",
       "\\hline\n",
       "\t1 & MF\\_100   & 17.90073 & 17.87097 & 18.25741 & 17.47800 & 18.21299 & 17.47828\\\\\n",
       "\t2 & MF\\_1000  & 20.47764 & 20.46267 & 20.44849 & 20.51219 & 20.41921 & 20.51256\\\\\n",
       "\t3 & MF\\_10009 & 19.32521 & 19.40007 & 19.53787 & 19.07316 & 19.68448 & 19.07352\\\\\n",
       "\t4 & MF\\_1001  & 19.65870 & 19.68352 & 19.63929 & 19.68171 & 19.68474 & 19.68213\\\\\n",
       "\t5 & MF\\_10019 & 18.51077 & 18.55690 & 18.69506 & 18.29235 & 18.78704 & 18.29267\\\\\n",
       "\t6 & MF\\_1002  & 21.29595 & 21.30002 & 21.54147 & 21.00496 & 21.55668 & 21.00534\\\\\n",
       "\\end{tabular}\n"
      ],
      "text/markdown": [
       "\n",
       "A data.frame: 6 × 7\n",
       "\n",
       "| <!--/--> | MF &lt;chr&gt; | Avg_Abundance &lt;dbl&gt; | Avg_Abundance_wo_Ecig_40 &lt;dbl&gt; | Ecig_Avg_Abundance &lt;dbl&gt; | NS_Avg_Abundance &lt;dbl&gt; | Ecig_Avg_Abundance_wo_Ecig_40 &lt;dbl&gt; | NS_Avg_Abundance_wo_Ecig_40 &lt;dbl&gt; |\n",
       "|---|---|---|---|---|---|---|---|\n",
       "| 1 | MF_100   | 17.90073 | 17.87097 | 18.25741 | 17.47800 | 18.21299 | 17.47828 |\n",
       "| 2 | MF_1000  | 20.47764 | 20.46267 | 20.44849 | 20.51219 | 20.41921 | 20.51256 |\n",
       "| 3 | MF_10009 | 19.32521 | 19.40007 | 19.53787 | 19.07316 | 19.68448 | 19.07352 |\n",
       "| 4 | MF_1001  | 19.65870 | 19.68352 | 19.63929 | 19.68171 | 19.68474 | 19.68213 |\n",
       "| 5 | MF_10019 | 18.51077 | 18.55690 | 18.69506 | 18.29235 | 18.78704 | 18.29267 |\n",
       "| 6 | MF_1002  | 21.29595 | 21.30002 | 21.54147 | 21.00496 | 21.55668 | 21.00534 |\n",
       "\n"
      ],
      "text/plain": [
       "  MF       Avg_Abundance Avg_Abundance_wo_Ecig_40 Ecig_Avg_Abundance\n",
       "1 MF_100   17.90073      17.87097                 18.25741          \n",
       "2 MF_1000  20.47764      20.46267                 20.44849          \n",
       "3 MF_10009 19.32521      19.40007                 19.53787          \n",
       "4 MF_1001  19.65870      19.68352                 19.63929          \n",
       "5 MF_10019 18.51077      18.55690                 18.69506          \n",
       "6 MF_1002  21.29595      21.30002                 21.54147          \n",
       "  NS_Avg_Abundance Ecig_Avg_Abundance_wo_Ecig_40 NS_Avg_Abundance_wo_Ecig_40\n",
       "1 17.47800         18.21299                      17.47828                   \n",
       "2 20.51219         20.41921                      20.51256                   \n",
       "3 19.07316         19.68448                      19.07352                   \n",
       "4 19.68171         19.68474                      19.68213                   \n",
       "5 18.29235         18.78704                      18.29267                   \n",
       "6 21.00496         21.55668                      21.00534                   "
      ]
     },
     "metadata": {},
     "output_type": "display_data"
    }
   ],
   "source": [
    "avg_abundance_df = cbind(inner_join(avg_abundance_w_Ecig_40, avg_abundance_wo_Ecig_40),\n",
    "                             inner_join(Ecig_avg_abundance, NS_avg_abundance)[,2:3],\n",
    "                             inner_join(Ecig_avg_abundance_wo_Ecig_40, NS_avg_abundance_wo_Ecig_40)[,2:3])\n",
    "head(avg_abundance_df)"
   ]
  },
  {
   "cell_type": "code",
   "execution_count": 10,
   "id": "amino-snake",
   "metadata": {},
   "outputs": [],
   "source": [
    "#calculating log 2 fold change\n",
    "#FC = avg. abundance across ecig users/ avg. abundance across NS\n",
    "log2FC = function(abundance_df, Ecig_col, NS_col, log2name){\n",
    "    \n",
    "    single_MF = unique(abundance_df$MF)\n",
    "    \n",
    "    values_df = data.frame()\n",
    "    #iterating through each MF\n",
    "    for (i in 1:length(single_MF)){\n",
    "    filtered_df = abundance_df %>%\n",
    "        filter(MF == single_MF[i])\n",
    "    \n",
    "    log2_FC_value = log2(mean(filtered_df[[Ecig_col]])/mean(filtered_df[[NS_col]]))\n",
    "   \n",
    "    #saving values\n",
    "    values_df = rbind(values_df, cbind(single_MF[i], log2_FC_value))\n",
    "    }\n",
    "    \n",
    "    #adding col names\n",
    "    colnames(values_df) = c(\"MF\", log2name)\n",
    "    return(values_df)\n",
    "    \n",
    "}\n",
    "\n",
    "\n",
    "#calling fn\n",
    "log2FC_w_Ecig_40 = log2FC(avg_abundance_df, \"Ecig_Avg_Abundance\", \"NS_Avg_Abundance\", \"log2FC\")\n",
    "log2FC_wo_Ecig_40 = log2FC(avg_abundance_df, \"Ecig_Avg_Abundance_wo_Ecig_40\", \"NS_Avg_Abundance_wo_Ecig_40\", \"log2FC w/o Ecig 40\")"
   ]
  },
  {
   "cell_type": "code",
   "execution_count": 11,
   "id": "respiratory-darwin",
   "metadata": {},
   "outputs": [
    {
     "name": "stderr",
     "output_type": "stream",
     "text": [
      "Joining, by = \"MF\"\n",
      "\n"
     ]
    },
    {
     "data": {
      "text/html": [
       "<table class=\"dataframe\">\n",
       "<caption>A data.frame: 6 × 3</caption>\n",
       "<thead>\n",
       "\t<tr><th></th><th scope=col>MF</th><th scope=col>log2FC</th><th scope=col>log2FC.w.o.Ecig.40</th></tr>\n",
       "\t<tr><th></th><th scope=col>&lt;fct&gt;</th><th scope=col>&lt;fct&gt;</th><th scope=col>&lt;fct&gt;</th></tr>\n",
       "</thead>\n",
       "<tbody>\n",
       "\t<tr><th scope=row>1</th><td>MF_100  </td><td>0.0629415491221518  </td><td>0.059404567158444   </td></tr>\n",
       "\t<tr><th scope=row>2</th><td>MF_1000 </td><td>-0.00448705289641026</td><td>-0.00658000605193712</td></tr>\n",
       "\t<tr><th scope=row>3</th><td>MF_10009</td><td>0.0347293327160267  </td><td>0.0454874804923806  </td></tr>\n",
       "\t<tr><th scope=row>4</th><td>MF_1001 </td><td>-0.00311310352076818</td><td>0.000191019299237427</td></tr>\n",
       "\t<tr><th scope=row>5</th><td>MF_10019</td><td>0.0314169810277366  </td><td>0.0384718243334762  </td></tr>\n",
       "\t<tr><th scope=row>6</th><td>MF_1002 </td><td>0.036386465819493   </td><td>0.0373790838745013  </td></tr>\n",
       "</tbody>\n",
       "</table>\n"
      ],
      "text/latex": [
       "A data.frame: 6 × 3\n",
       "\\begin{tabular}{r|lll}\n",
       "  & MF & log2FC & log2FC.w.o.Ecig.40\\\\\n",
       "  & <fct> & <fct> & <fct>\\\\\n",
       "\\hline\n",
       "\t1 & MF\\_100   & 0.0629415491221518   & 0.059404567158444   \\\\\n",
       "\t2 & MF\\_1000  & -0.00448705289641026 & -0.00658000605193712\\\\\n",
       "\t3 & MF\\_10009 & 0.0347293327160267   & 0.0454874804923806  \\\\\n",
       "\t4 & MF\\_1001  & -0.00311310352076818 & 0.000191019299237427\\\\\n",
       "\t5 & MF\\_10019 & 0.0314169810277366   & 0.0384718243334762  \\\\\n",
       "\t6 & MF\\_1002  & 0.036386465819493    & 0.0373790838745013  \\\\\n",
       "\\end{tabular}\n"
      ],
      "text/markdown": [
       "\n",
       "A data.frame: 6 × 3\n",
       "\n",
       "| <!--/--> | MF &lt;fct&gt; | log2FC &lt;fct&gt; | log2FC.w.o.Ecig.40 &lt;fct&gt; |\n",
       "|---|---|---|---|\n",
       "| 1 | MF_100   | 0.0629415491221518   | 0.059404567158444    |\n",
       "| 2 | MF_1000  | -0.00448705289641026 | -0.00658000605193712 |\n",
       "| 3 | MF_10009 | 0.0347293327160267   | 0.0454874804923806   |\n",
       "| 4 | MF_1001  | -0.00311310352076818 | 0.000191019299237427 |\n",
       "| 5 | MF_10019 | 0.0314169810277366   | 0.0384718243334762   |\n",
       "| 6 | MF_1002  | 0.036386465819493    | 0.0373790838745013   |\n",
       "\n"
      ],
      "text/plain": [
       "  MF       log2FC               log2FC.w.o.Ecig.40  \n",
       "1 MF_100   0.0629415491221518   0.059404567158444   \n",
       "2 MF_1000  -0.00448705289641026 -0.00658000605193712\n",
       "3 MF_10009 0.0347293327160267   0.0454874804923806  \n",
       "4 MF_1001  -0.00311310352076818 0.000191019299237427\n",
       "5 MF_10019 0.0314169810277366   0.0384718243334762  \n",
       "6 MF_1002  0.036386465819493    0.0373790838745013  "
      ]
     },
     "metadata": {},
     "output_type": "display_data"
    }
   ],
   "source": [
    "log2FC_df = data.frame(inner_join(log2FC_w_Ecig_40, log2FC_wo_Ecig_40))\n",
    "head(log2FC_df)"
   ]
  },
  {
   "cell_type": "code",
   "execution_count": 12,
   "id": "aging-holocaust",
   "metadata": {},
   "outputs": [
    {
     "name": "stderr",
     "output_type": "stream",
     "text": [
      "Joining, by = \"MF\"\n",
      "\n",
      "Joining, by = \"MF\"\n",
      "\n",
      "Joining, by = \"MF\"\n",
      "\n"
     ]
    },
    {
     "data": {
      "text/html": [
       "<table class=\"dataframe\">\n",
       "<caption>A tibble: 6 × 15</caption>\n",
       "<thead>\n",
       "\t<tr><th scope=col>MF</th><th scope=col>Variable_Importance_Rank</th><th scope=col>Variable_Importance_Rank_wo_Ecig40</th><th scope=col>P Value</th><th scope=col>P Adjust</th><th scope=col>P Value w/o Ecig 40</th><th scope=col>P Adjust w/o Ecig 40</th><th scope=col>Avg_Abundance</th><th scope=col>Avg_Abundance_wo_Ecig_40</th><th scope=col>Ecig_Avg_Abundance</th><th scope=col>NS_Avg_Abundance</th><th scope=col>Ecig_Avg_Abundance_wo_Ecig_40</th><th scope=col>NS_Avg_Abundance_wo_Ecig_40</th><th scope=col>log2FC</th><th scope=col>log2FC.w.o.Ecig.40</th></tr>\n",
       "\t<tr><th scope=col>&lt;chr&gt;</th><th scope=col>&lt;dbl&gt;</th><th scope=col>&lt;dbl&gt;</th><th scope=col>&lt;dbl&gt;</th><th scope=col>&lt;dbl&gt;</th><th scope=col>&lt;dbl&gt;</th><th scope=col>&lt;dbl&gt;</th><th scope=col>&lt;dbl&gt;</th><th scope=col>&lt;dbl&gt;</th><th scope=col>&lt;dbl&gt;</th><th scope=col>&lt;dbl&gt;</th><th scope=col>&lt;dbl&gt;</th><th scope=col>&lt;dbl&gt;</th><th scope=col>&lt;dbl&gt;</th><th scope=col>&lt;dbl&gt;</th></tr>\n",
       "</thead>\n",
       "<tbody>\n",
       "\t<tr><td>MF_97  </td><td>7.0542406</td><td>7.05972731</td><td>4.856973e-11</td><td>1.880620e-07</td><td>2.472814e-10</td><td>9.574734e-07</td><td>19.34139</td><td>19.27663</td><td>21.21361</td><td>17.12246</td><td>21.15269</td><td>17.12264</td><td>0.30910031</td><td>0.30493606</td></tr>\n",
       "\t<tr><td>MF_5   </td><td>4.6837830</td><td>4.08153303</td><td>3.676208e-08</td><td>7.117138e-05</td><td>8.790387e-08</td><td>1.701819e-04</td><td>19.85841</td><td>19.78594</td><td>21.94706</td><td>17.38297</td><td>21.87857</td><td>17.38329</td><td>0.33635273</td><td>0.33181708</td></tr>\n",
       "\t<tr><td>MF_292 </td><td>0.2770581</td><td>0.18847797</td><td>6.160034e-05</td><td>7.950551e-02</td><td>3.303337e-05</td><td>4.263507e-02</td><td>19.82281</td><td>19.85456</td><td>21.43326</td><td>17.91412</td><td>21.54438</td><td>17.91439</td><td>0.25875454</td><td>0.26619235</td></tr>\n",
       "\t<tr><td>MF_3345</td><td>0.2480095</td><td>0.08272908</td><td>9.943209e-05</td><td>8.868030e-02</td><td>3.137896e-04</td><td>1.137528e-01</td><td>18.85229</td><td>18.78884</td><td>19.70077</td><td>17.84669</td><td>19.60911</td><td>17.84704</td><td>0.14259606</td><td>0.13583939</td></tr>\n",
       "\t<tr><td>MF_1713</td><td>0.1876070</td><td>0.05270328</td><td>2.313246e-04</td><td>8.956890e-02</td><td>1.107603e-04</td><td>7.624127e-02</td><td>18.06535</td><td>18.06006</td><td>18.89088</td><td>17.08695</td><td>18.90744</td><td>17.08714</td><td>0.14479523</td><td>0.14604314</td></tr>\n",
       "\t<tr><td>MF_4803</td><td>0.1654220</td><td>0.10907961</td><td>1.969113e-03</td><td>1.815334e-01</td><td>4.045987e-04</td><td>1.215905e-01</td><td>18.46912</td><td>18.52749</td><td>18.98672</td><td>17.85566</td><td>19.11236</td><td>17.85598</td><td>0.08860901</td><td>0.09809812</td></tr>\n",
       "</tbody>\n",
       "</table>\n"
      ],
      "text/latex": [
       "A tibble: 6 × 15\n",
       "\\begin{tabular}{lllllllllllllll}\n",
       " MF & Variable\\_Importance\\_Rank & Variable\\_Importance\\_Rank\\_wo\\_Ecig40 & P Value & P Adjust & P Value w/o Ecig 40 & P Adjust w/o Ecig 40 & Avg\\_Abundance & Avg\\_Abundance\\_wo\\_Ecig\\_40 & Ecig\\_Avg\\_Abundance & NS\\_Avg\\_Abundance & Ecig\\_Avg\\_Abundance\\_wo\\_Ecig\\_40 & NS\\_Avg\\_Abundance\\_wo\\_Ecig\\_40 & log2FC & log2FC.w.o.Ecig.40\\\\\n",
       " <chr> & <dbl> & <dbl> & <dbl> & <dbl> & <dbl> & <dbl> & <dbl> & <dbl> & <dbl> & <dbl> & <dbl> & <dbl> & <dbl> & <dbl>\\\\\n",
       "\\hline\n",
       "\t MF\\_97   & 7.0542406 & 7.05972731 & 4.856973e-11 & 1.880620e-07 & 2.472814e-10 & 9.574734e-07 & 19.34139 & 19.27663 & 21.21361 & 17.12246 & 21.15269 & 17.12264 & 0.30910031 & 0.30493606\\\\\n",
       "\t MF\\_5    & 4.6837830 & 4.08153303 & 3.676208e-08 & 7.117138e-05 & 8.790387e-08 & 1.701819e-04 & 19.85841 & 19.78594 & 21.94706 & 17.38297 & 21.87857 & 17.38329 & 0.33635273 & 0.33181708\\\\\n",
       "\t MF\\_292  & 0.2770581 & 0.18847797 & 6.160034e-05 & 7.950551e-02 & 3.303337e-05 & 4.263507e-02 & 19.82281 & 19.85456 & 21.43326 & 17.91412 & 21.54438 & 17.91439 & 0.25875454 & 0.26619235\\\\\n",
       "\t MF\\_3345 & 0.2480095 & 0.08272908 & 9.943209e-05 & 8.868030e-02 & 3.137896e-04 & 1.137528e-01 & 18.85229 & 18.78884 & 19.70077 & 17.84669 & 19.60911 & 17.84704 & 0.14259606 & 0.13583939\\\\\n",
       "\t MF\\_1713 & 0.1876070 & 0.05270328 & 2.313246e-04 & 8.956890e-02 & 1.107603e-04 & 7.624127e-02 & 18.06535 & 18.06006 & 18.89088 & 17.08695 & 18.90744 & 17.08714 & 0.14479523 & 0.14604314\\\\\n",
       "\t MF\\_4803 & 0.1654220 & 0.10907961 & 1.969113e-03 & 1.815334e-01 & 4.045987e-04 & 1.215905e-01 & 18.46912 & 18.52749 & 18.98672 & 17.85566 & 19.11236 & 17.85598 & 0.08860901 & 0.09809812\\\\\n",
       "\\end{tabular}\n"
      ],
      "text/markdown": [
       "\n",
       "A tibble: 6 × 15\n",
       "\n",
       "| MF &lt;chr&gt; | Variable_Importance_Rank &lt;dbl&gt; | Variable_Importance_Rank_wo_Ecig40 &lt;dbl&gt; | P Value &lt;dbl&gt; | P Adjust &lt;dbl&gt; | P Value w/o Ecig 40 &lt;dbl&gt; | P Adjust w/o Ecig 40 &lt;dbl&gt; | Avg_Abundance &lt;dbl&gt; | Avg_Abundance_wo_Ecig_40 &lt;dbl&gt; | Ecig_Avg_Abundance &lt;dbl&gt; | NS_Avg_Abundance &lt;dbl&gt; | Ecig_Avg_Abundance_wo_Ecig_40 &lt;dbl&gt; | NS_Avg_Abundance_wo_Ecig_40 &lt;dbl&gt; | log2FC &lt;dbl&gt; | log2FC.w.o.Ecig.40 &lt;dbl&gt; |\n",
       "|---|---|---|---|---|---|---|---|---|---|---|---|---|---|---|\n",
       "| MF_97   | 7.0542406 | 7.05972731 | 4.856973e-11 | 1.880620e-07 | 2.472814e-10 | 9.574734e-07 | 19.34139 | 19.27663 | 21.21361 | 17.12246 | 21.15269 | 17.12264 | 0.30910031 | 0.30493606 |\n",
       "| MF_5    | 4.6837830 | 4.08153303 | 3.676208e-08 | 7.117138e-05 | 8.790387e-08 | 1.701819e-04 | 19.85841 | 19.78594 | 21.94706 | 17.38297 | 21.87857 | 17.38329 | 0.33635273 | 0.33181708 |\n",
       "| MF_292  | 0.2770581 | 0.18847797 | 6.160034e-05 | 7.950551e-02 | 3.303337e-05 | 4.263507e-02 | 19.82281 | 19.85456 | 21.43326 | 17.91412 | 21.54438 | 17.91439 | 0.25875454 | 0.26619235 |\n",
       "| MF_3345 | 0.2480095 | 0.08272908 | 9.943209e-05 | 8.868030e-02 | 3.137896e-04 | 1.137528e-01 | 18.85229 | 18.78884 | 19.70077 | 17.84669 | 19.60911 | 17.84704 | 0.14259606 | 0.13583939 |\n",
       "| MF_1713 | 0.1876070 | 0.05270328 | 2.313246e-04 | 8.956890e-02 | 1.107603e-04 | 7.624127e-02 | 18.06535 | 18.06006 | 18.89088 | 17.08695 | 18.90744 | 17.08714 | 0.14479523 | 0.14604314 |\n",
       "| MF_4803 | 0.1654220 | 0.10907961 | 1.969113e-03 | 1.815334e-01 | 4.045987e-04 | 1.215905e-01 | 18.46912 | 18.52749 | 18.98672 | 17.85566 | 19.11236 | 17.85598 | 0.08860901 | 0.09809812 |\n",
       "\n"
      ],
      "text/plain": [
       "  MF      Variable_Importance_Rank Variable_Importance_Rank_wo_Ecig40\n",
       "1 MF_97   7.0542406                7.05972731                        \n",
       "2 MF_5    4.6837830                4.08153303                        \n",
       "3 MF_292  0.2770581                0.18847797                        \n",
       "4 MF_3345 0.2480095                0.08272908                        \n",
       "5 MF_1713 0.1876070                0.05270328                        \n",
       "6 MF_4803 0.1654220                0.10907961                        \n",
       "  P Value      P Adjust     P Value w/o Ecig 40 P Adjust w/o Ecig 40\n",
       "1 4.856973e-11 1.880620e-07 2.472814e-10        9.574734e-07        \n",
       "2 3.676208e-08 7.117138e-05 8.790387e-08        1.701819e-04        \n",
       "3 6.160034e-05 7.950551e-02 3.303337e-05        4.263507e-02        \n",
       "4 9.943209e-05 8.868030e-02 3.137896e-04        1.137528e-01        \n",
       "5 2.313246e-04 8.956890e-02 1.107603e-04        7.624127e-02        \n",
       "6 1.969113e-03 1.815334e-01 4.045987e-04        1.215905e-01        \n",
       "  Avg_Abundance Avg_Abundance_wo_Ecig_40 Ecig_Avg_Abundance NS_Avg_Abundance\n",
       "1 19.34139      19.27663                 21.21361           17.12246        \n",
       "2 19.85841      19.78594                 21.94706           17.38297        \n",
       "3 19.82281      19.85456                 21.43326           17.91412        \n",
       "4 18.85229      18.78884                 19.70077           17.84669        \n",
       "5 18.06535      18.06006                 18.89088           17.08695        \n",
       "6 18.46912      18.52749                 18.98672           17.85566        \n",
       "  Ecig_Avg_Abundance_wo_Ecig_40 NS_Avg_Abundance_wo_Ecig_40 log2FC    \n",
       "1 21.15269                      17.12264                    0.30910031\n",
       "2 21.87857                      17.38329                    0.33635273\n",
       "3 21.54438                      17.91439                    0.25875454\n",
       "4 19.60911                      17.84704                    0.14259606\n",
       "5 18.90744                      17.08714                    0.14479523\n",
       "6 19.11236                      17.85598                    0.08860901\n",
       "  log2FC.w.o.Ecig.40\n",
       "1 0.30493606        \n",
       "2 0.33181708        \n",
       "3 0.26619235        \n",
       "4 0.13583939        \n",
       "5 0.14604314        \n",
       "6 0.09809812        "
      ]
     },
     "metadata": {},
     "output_type": "display_data"
    }
   ],
   "source": [
    "#combining into 1 df\n",
    "combined_df = inner_join(inner_join(var_importance_df, pvalue_df), inner_join(avg_abundance_df, log2FC_df)) \n",
    "combined_df[,2:15] = apply(combined_df[,2:15], 2, as.numeric)\n",
    "head(combined_df)"
   ]
  },
  {
   "cell_type": "code",
   "execution_count": 13,
   "id": "center-messaging",
   "metadata": {},
   "outputs": [],
   "source": [
    "#exporting table \n",
    "write.csv(combined_df, paste0(Output,\"/\", cur_date, \"_MF_Expression_Table.csv\"), row.names = FALSE)"
   ]
  },
  {
   "cell_type": "code",
   "execution_count": null,
   "id": "functioning-audio",
   "metadata": {},
   "outputs": [],
   "source": []
  }
 ],
 "metadata": {
  "kernelspec": {
   "display_name": "R",
   "language": "R",
   "name": "ir"
  },
  "language_info": {
   "codemirror_mode": "r",
   "file_extension": ".r",
   "mimetype": "text/x-r-source",
   "name": "R",
   "pygments_lexer": "r",
   "version": "3.6.3"
  }
 },
 "nbformat": 4,
 "nbformat_minor": 5
}
