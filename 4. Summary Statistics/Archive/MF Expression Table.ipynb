{
 "cells": [
  {
   "cell_type": "code",
   "execution_count": 4,
   "id": "honest-administrator",
   "metadata": {},
   "outputs": [
    {
     "name": "stderr",
     "output_type": "stream",
     "text": [
      "\u001b[1mRows: \u001b[22m\u001b[34m3877\u001b[39m \u001b[1mColumns: \u001b[22m\u001b[34m2\u001b[39m\n",
      "\u001b[36m──\u001b[39m \u001b[1mColumn specification\u001b[22m \u001b[36m────────────────────────────────────────────────────────\u001b[39m\n",
      "\u001b[1mDelimiter:\u001b[22m \",\"\n",
      "\u001b[31mchr\u001b[39m (1): MF\n",
      "\u001b[32mdbl\u001b[39m (1): MeanDecreaseGini\n",
      "\n",
      "\u001b[36mℹ\u001b[39m Use `spec()` to retrieve the full column specification for this data.\n",
      "\u001b[36mℹ\u001b[39m Specify the column types or set `show_col_types = FALSE` to quiet this message.\n",
      "\u001b[1mRows: \u001b[22m\u001b[34m59\u001b[39m \u001b[1mColumns: \u001b[22m\u001b[34m3873\u001b[39m\n",
      "\u001b[36m──\u001b[39m \u001b[1mColumn specification\u001b[22m \u001b[36m────────────────────────────────────────────────────────\u001b[39m\n",
      "\u001b[1mDelimiter:\u001b[22m \",\"\n",
      "\u001b[31mchr\u001b[39m    (1): sample\n",
      "\u001b[32mdbl\u001b[39m (3872): MF_2, MF_3, MF_4, MF_5, MF_6, MF_7, MF_11, MF_12, MF_13, MF_14, ...\n",
      "\n",
      "\u001b[36mℹ\u001b[39m Use `spec()` to retrieve the full column specification for this data.\n",
      "\u001b[36mℹ\u001b[39m Specify the column types or set `show_col_types = FALSE` to quiet this message.\n"
     ]
    }
   ],
   "source": [
    "setwd('/Users/alexis/Library/CloudStorage/OneDrive-UniversityofNorthCarolinaatChapelHill/CEMALB_DataAnalysisPM/Projects/P1002. Ecig Metabolomics NELF/P1002.3. Analyses/P1002.3.3. Summary Statistics/Input')\n",
    "Output = ('/Users/alexis/Library/CloudStorage/OneDrive-UniversityofNorthCarolinaatChapelHill/CEMALB_DataAnalysisPM/Projects/P1002. Ecig Metabolomics NELF/P1002.3. Analyses/P1002.3.3. Summary Statistics/Output')\n",
    "cur_date = \"041322\"\n",
    "\n",
    "library(readxl)\n",
    "library(tidyverse)\n",
    "library(reshape2)\n",
    "library(car)\n",
    "\n",
    "#reading in files\n",
    "feature_ranking = read_csv(\"041222_Significant_MFs_noise.csv\")\n",
    "demographics_df = data.frame(read_excel(\"SubjectInfo_022822.xlsx\", sheet = 2))\n",
    "molecular_feature_df = read_csv(\"20220217_mf_qrilc_w40.csv\") "
   ]
  },
  {
   "cell_type": "markdown",
   "id": "blocked-booking",
   "metadata": {},
   "source": [
    "# Generating a dataframe that includes:\n",
    "\n",
    "1. MF Name\n",
    "2. RF Importance Metrics\n",
    "3. P. Value from t test\n",
    "4. P Adj\n",
    "5. Overall avg. abundance\n",
    "6. Avg. abundance in Ecig users\n",
    "7. Avg. abundance in NS\n",
    "8. log 2(avg. fold change)"
   ]
  },
  {
   "cell_type": "code",
   "execution_count": 5,
   "id": "increasing-maintenance",
   "metadata": {},
   "outputs": [
    {
     "data": {
      "text/html": [
       "<table class=\"dataframe\">\n",
       "<caption>A tibble: 6 × 2</caption>\n",
       "<thead>\n",
       "\t<tr><th scope=col>MF</th><th scope=col>Variable_Importance_Rank</th></tr>\n",
       "\t<tr><th scope=col>&lt;chr&gt;</th><th scope=col>&lt;dbl&gt;</th></tr>\n",
       "</thead>\n",
       "<tbody>\n",
       "\t<tr><td>MF_97   </td><td>2.6118845</td></tr>\n",
       "\t<tr><td>MF_5    </td><td>1.8559144</td></tr>\n",
       "\t<tr><td>MF_292  </td><td>0.7185532</td></tr>\n",
       "\t<tr><td>MF_7221 </td><td>0.3767431</td></tr>\n",
       "\t<tr><td>MF_29367</td><td>0.2427987</td></tr>\n",
       "\t<tr><td>MF_6955 </td><td>0.1876891</td></tr>\n",
       "</tbody>\n",
       "</table>\n"
      ],
      "text/latex": [
       "A tibble: 6 × 2\n",
       "\\begin{tabular}{ll}\n",
       " MF & Variable\\_Importance\\_Rank\\\\\n",
       " <chr> & <dbl>\\\\\n",
       "\\hline\n",
       "\t MF\\_97    & 2.6118845\\\\\n",
       "\t MF\\_5     & 1.8559144\\\\\n",
       "\t MF\\_292   & 0.7185532\\\\\n",
       "\t MF\\_7221  & 0.3767431\\\\\n",
       "\t MF\\_29367 & 0.2427987\\\\\n",
       "\t MF\\_6955  & 0.1876891\\\\\n",
       "\\end{tabular}\n"
      ],
      "text/markdown": [
       "\n",
       "A tibble: 6 × 2\n",
       "\n",
       "| MF &lt;chr&gt; | Variable_Importance_Rank &lt;dbl&gt; |\n",
       "|---|---|\n",
       "| MF_97    | 2.6118845 |\n",
       "| MF_5     | 1.8559144 |\n",
       "| MF_292   | 0.7185532 |\n",
       "| MF_7221  | 0.3767431 |\n",
       "| MF_29367 | 0.2427987 |\n",
       "| MF_6955  | 0.1876891 |\n",
       "\n"
      ],
      "text/plain": [
       "  MF       Variable_Importance_Rank\n",
       "1 MF_97    2.6118845               \n",
       "2 MF_5     1.8559144               \n",
       "3 MF_292   0.7185532               \n",
       "4 MF_7221  0.3767431               \n",
       "5 MF_29367 0.2427987               \n",
       "6 MF_6955  0.1876891               "
      ]
     },
     "metadata": {},
     "output_type": "display_data"
    }
   ],
   "source": [
    "#changing colnames to combine\n",
    "feature_ranking = feature_ranking %>%\n",
    "    rename(Variable_Importance_Rank = MeanDecreaseGini)\n",
    "\n",
    "head(feature_ranking)"
   ]
  },
  {
   "cell_type": "code",
   "execution_count": 6,
   "id": "timely-mauritius",
   "metadata": {},
   "outputs": [
    {
     "data": {
      "text/html": [
       "<table class=\"dataframe\">\n",
       "<caption>A tibble: 6 × 3873</caption>\n",
       "<thead>\n",
       "\t<tr><th scope=col>Smoking_Status</th><th scope=col>MF_2</th><th scope=col>MF_3</th><th scope=col>MF_4</th><th scope=col>MF_5</th><th scope=col>MF_6</th><th scope=col>MF_7</th><th scope=col>MF_11</th><th scope=col>MF_12</th><th scope=col>MF_13</th><th scope=col>⋯</th><th scope=col>MF_62853</th><th scope=col>MF_63431</th><th scope=col>MF_63701</th><th scope=col>MF_64025</th><th scope=col>MF_64936</th><th scope=col>MF_65532</th><th scope=col>MF_68286</th><th scope=col>MF_73340</th><th scope=col>MF_77165</th><th scope=col>MF_78976</th></tr>\n",
       "\t<tr><th scope=col>&lt;chr&gt;</th><th scope=col>&lt;dbl&gt;</th><th scope=col>&lt;dbl&gt;</th><th scope=col>&lt;dbl&gt;</th><th scope=col>&lt;dbl&gt;</th><th scope=col>&lt;dbl&gt;</th><th scope=col>&lt;dbl&gt;</th><th scope=col>&lt;dbl&gt;</th><th scope=col>&lt;dbl&gt;</th><th scope=col>&lt;dbl&gt;</th><th scope=col>⋯</th><th scope=col>&lt;dbl&gt;</th><th scope=col>&lt;dbl&gt;</th><th scope=col>&lt;dbl&gt;</th><th scope=col>&lt;dbl&gt;</th><th scope=col>&lt;dbl&gt;</th><th scope=col>&lt;dbl&gt;</th><th scope=col>&lt;dbl&gt;</th><th scope=col>&lt;dbl&gt;</th><th scope=col>&lt;dbl&gt;</th><th scope=col>&lt;dbl&gt;</th></tr>\n",
       "</thead>\n",
       "<tbody>\n",
       "\t<tr><td>NS</td><td>19.86186</td><td>17.86943</td><td>19.21394</td><td>18.02809</td><td>17.46636</td><td>18.34174</td><td>18.41799</td><td>19.31361</td><td>19.46777</td><td>⋯</td><td>19.06974</td><td>19.10260</td><td>17.17255</td><td>16.92465</td><td>17.09794</td><td>19.06203</td><td>19.13556</td><td>16.93182</td><td>17.55702</td><td>17.05593</td></tr>\n",
       "\t<tr><td>NS</td><td>21.08622</td><td>22.58769</td><td>21.05378</td><td>17.93584</td><td>17.33098</td><td>20.41479</td><td>20.37485</td><td>21.12876</td><td>21.01488</td><td>⋯</td><td>18.02560</td><td>17.82667</td><td>19.37426</td><td>16.23450</td><td>19.06421</td><td>18.06379</td><td>19.39103</td><td>16.72112</td><td>19.27343</td><td>19.30881</td></tr>\n",
       "\t<tr><td>NS</td><td>13.12099</td><td>14.44659</td><td>13.46827</td><td>16.51009</td><td>14.93820</td><td>15.66299</td><td>15.72731</td><td>13.78698</td><td>15.18975</td><td>⋯</td><td>19.14095</td><td>19.02411</td><td>19.56175</td><td>17.17120</td><td>16.97302</td><td>19.49121</td><td>17.09470</td><td>15.56214</td><td>19.55038</td><td>19.54912</td></tr>\n",
       "\t<tr><td>NS</td><td>21.60361</td><td>23.22761</td><td>21.99010</td><td>16.22547</td><td>17.59020</td><td>21.53908</td><td>21.14531</td><td>22.07857</td><td>21.97502</td><td>⋯</td><td>19.28751</td><td>19.54886</td><td>16.78848</td><td>16.46750</td><td>19.47635</td><td>19.44477</td><td>16.99617</td><td>16.09531</td><td>19.28810</td><td>19.32788</td></tr>\n",
       "\t<tr><td>NS</td><td>19.43885</td><td>17.93876</td><td>19.68977</td><td>16.73360</td><td>17.88844</td><td>17.81758</td><td>17.64979</td><td>19.64269</td><td>19.32233</td><td>⋯</td><td>16.70042</td><td>17.85969</td><td>18.97406</td><td>18.18813</td><td>18.50336</td><td>19.19085</td><td>19.41757</td><td>16.88993</td><td>19.35678</td><td>18.95550</td></tr>\n",
       "\t<tr><td>NS</td><td>22.53459</td><td>24.36662</td><td>22.77595</td><td>16.69956</td><td>16.38411</td><td>22.55912</td><td>17.30008</td><td>22.80146</td><td>22.09338</td><td>⋯</td><td>16.86999</td><td>15.82637</td><td>19.46467</td><td>16.97149</td><td>17.46699</td><td>16.32598</td><td>15.62938</td><td>17.37207</td><td>15.84334</td><td>17.82000</td></tr>\n",
       "</tbody>\n",
       "</table>\n"
      ],
      "text/latex": [
       "A tibble: 6 × 3873\n",
       "\\begin{tabular}{lllllllllllllllllllll}\n",
       " Smoking\\_Status & MF\\_2 & MF\\_3 & MF\\_4 & MF\\_5 & MF\\_6 & MF\\_7 & MF\\_11 & MF\\_12 & MF\\_13 & ⋯ & MF\\_62853 & MF\\_63431 & MF\\_63701 & MF\\_64025 & MF\\_64936 & MF\\_65532 & MF\\_68286 & MF\\_73340 & MF\\_77165 & MF\\_78976\\\\\n",
       " <chr> & <dbl> & <dbl> & <dbl> & <dbl> & <dbl> & <dbl> & <dbl> & <dbl> & <dbl> & ⋯ & <dbl> & <dbl> & <dbl> & <dbl> & <dbl> & <dbl> & <dbl> & <dbl> & <dbl> & <dbl>\\\\\n",
       "\\hline\n",
       "\t NS & 19.86186 & 17.86943 & 19.21394 & 18.02809 & 17.46636 & 18.34174 & 18.41799 & 19.31361 & 19.46777 & ⋯ & 19.06974 & 19.10260 & 17.17255 & 16.92465 & 17.09794 & 19.06203 & 19.13556 & 16.93182 & 17.55702 & 17.05593\\\\\n",
       "\t NS & 21.08622 & 22.58769 & 21.05378 & 17.93584 & 17.33098 & 20.41479 & 20.37485 & 21.12876 & 21.01488 & ⋯ & 18.02560 & 17.82667 & 19.37426 & 16.23450 & 19.06421 & 18.06379 & 19.39103 & 16.72112 & 19.27343 & 19.30881\\\\\n",
       "\t NS & 13.12099 & 14.44659 & 13.46827 & 16.51009 & 14.93820 & 15.66299 & 15.72731 & 13.78698 & 15.18975 & ⋯ & 19.14095 & 19.02411 & 19.56175 & 17.17120 & 16.97302 & 19.49121 & 17.09470 & 15.56214 & 19.55038 & 19.54912\\\\\n",
       "\t NS & 21.60361 & 23.22761 & 21.99010 & 16.22547 & 17.59020 & 21.53908 & 21.14531 & 22.07857 & 21.97502 & ⋯ & 19.28751 & 19.54886 & 16.78848 & 16.46750 & 19.47635 & 19.44477 & 16.99617 & 16.09531 & 19.28810 & 19.32788\\\\\n",
       "\t NS & 19.43885 & 17.93876 & 19.68977 & 16.73360 & 17.88844 & 17.81758 & 17.64979 & 19.64269 & 19.32233 & ⋯ & 16.70042 & 17.85969 & 18.97406 & 18.18813 & 18.50336 & 19.19085 & 19.41757 & 16.88993 & 19.35678 & 18.95550\\\\\n",
       "\t NS & 22.53459 & 24.36662 & 22.77595 & 16.69956 & 16.38411 & 22.55912 & 17.30008 & 22.80146 & 22.09338 & ⋯ & 16.86999 & 15.82637 & 19.46467 & 16.97149 & 17.46699 & 16.32598 & 15.62938 & 17.37207 & 15.84334 & 17.82000\\\\\n",
       "\\end{tabular}\n"
      ],
      "text/markdown": [
       "\n",
       "A tibble: 6 × 3873\n",
       "\n",
       "| Smoking_Status &lt;chr&gt; | MF_2 &lt;dbl&gt; | MF_3 &lt;dbl&gt; | MF_4 &lt;dbl&gt; | MF_5 &lt;dbl&gt; | MF_6 &lt;dbl&gt; | MF_7 &lt;dbl&gt; | MF_11 &lt;dbl&gt; | MF_12 &lt;dbl&gt; | MF_13 &lt;dbl&gt; | ⋯ ⋯ | MF_62853 &lt;dbl&gt; | MF_63431 &lt;dbl&gt; | MF_63701 &lt;dbl&gt; | MF_64025 &lt;dbl&gt; | MF_64936 &lt;dbl&gt; | MF_65532 &lt;dbl&gt; | MF_68286 &lt;dbl&gt; | MF_73340 &lt;dbl&gt; | MF_77165 &lt;dbl&gt; | MF_78976 &lt;dbl&gt; |\n",
       "|---|---|---|---|---|---|---|---|---|---|---|---|---|---|---|---|---|---|---|---|---|\n",
       "| NS | 19.86186 | 17.86943 | 19.21394 | 18.02809 | 17.46636 | 18.34174 | 18.41799 | 19.31361 | 19.46777 | ⋯ | 19.06974 | 19.10260 | 17.17255 | 16.92465 | 17.09794 | 19.06203 | 19.13556 | 16.93182 | 17.55702 | 17.05593 |\n",
       "| NS | 21.08622 | 22.58769 | 21.05378 | 17.93584 | 17.33098 | 20.41479 | 20.37485 | 21.12876 | 21.01488 | ⋯ | 18.02560 | 17.82667 | 19.37426 | 16.23450 | 19.06421 | 18.06379 | 19.39103 | 16.72112 | 19.27343 | 19.30881 |\n",
       "| NS | 13.12099 | 14.44659 | 13.46827 | 16.51009 | 14.93820 | 15.66299 | 15.72731 | 13.78698 | 15.18975 | ⋯ | 19.14095 | 19.02411 | 19.56175 | 17.17120 | 16.97302 | 19.49121 | 17.09470 | 15.56214 | 19.55038 | 19.54912 |\n",
       "| NS | 21.60361 | 23.22761 | 21.99010 | 16.22547 | 17.59020 | 21.53908 | 21.14531 | 22.07857 | 21.97502 | ⋯ | 19.28751 | 19.54886 | 16.78848 | 16.46750 | 19.47635 | 19.44477 | 16.99617 | 16.09531 | 19.28810 | 19.32788 |\n",
       "| NS | 19.43885 | 17.93876 | 19.68977 | 16.73360 | 17.88844 | 17.81758 | 17.64979 | 19.64269 | 19.32233 | ⋯ | 16.70042 | 17.85969 | 18.97406 | 18.18813 | 18.50336 | 19.19085 | 19.41757 | 16.88993 | 19.35678 | 18.95550 |\n",
       "| NS | 22.53459 | 24.36662 | 22.77595 | 16.69956 | 16.38411 | 22.55912 | 17.30008 | 22.80146 | 22.09338 | ⋯ | 16.86999 | 15.82637 | 19.46467 | 16.97149 | 17.46699 | 16.32598 | 15.62938 | 17.37207 | 15.84334 | 17.82000 |\n",
       "\n"
      ],
      "text/plain": [
       "  Smoking_Status MF_2     MF_3     MF_4     MF_5     MF_6     MF_7     MF_11   \n",
       "1 NS             19.86186 17.86943 19.21394 18.02809 17.46636 18.34174 18.41799\n",
       "2 NS             21.08622 22.58769 21.05378 17.93584 17.33098 20.41479 20.37485\n",
       "3 NS             13.12099 14.44659 13.46827 16.51009 14.93820 15.66299 15.72731\n",
       "4 NS             21.60361 23.22761 21.99010 16.22547 17.59020 21.53908 21.14531\n",
       "5 NS             19.43885 17.93876 19.68977 16.73360 17.88844 17.81758 17.64979\n",
       "6 NS             22.53459 24.36662 22.77595 16.69956 16.38411 22.55912 17.30008\n",
       "  MF_12    MF_13    ⋯ MF_62853 MF_63431 MF_63701 MF_64025 MF_64936 MF_65532\n",
       "1 19.31361 19.46777 ⋯ 19.06974 19.10260 17.17255 16.92465 17.09794 19.06203\n",
       "2 21.12876 21.01488 ⋯ 18.02560 17.82667 19.37426 16.23450 19.06421 18.06379\n",
       "3 13.78698 15.18975 ⋯ 19.14095 19.02411 19.56175 17.17120 16.97302 19.49121\n",
       "4 22.07857 21.97502 ⋯ 19.28751 19.54886 16.78848 16.46750 19.47635 19.44477\n",
       "5 19.64269 19.32233 ⋯ 16.70042 17.85969 18.97406 18.18813 18.50336 19.19085\n",
       "6 22.80146 22.09338 ⋯ 16.86999 15.82637 19.46467 16.97149 17.46699 16.32598\n",
       "  MF_68286 MF_73340 MF_77165 MF_78976\n",
       "1 19.13556 16.93182 17.55702 17.05593\n",
       "2 19.39103 16.72112 19.27343 19.30881\n",
       "3 17.09470 15.56214 19.55038 19.54912\n",
       "4 16.99617 16.09531 19.28810 19.32788\n",
       "5 19.41757 16.88993 19.35678 18.95550\n",
       "6 15.62938 17.37207 15.84334 17.82000"
      ]
     },
     "metadata": {},
     "output_type": "display_data"
    }
   ],
   "source": [
    "#calculating p values from t test\n",
    "molecular_feature_df = molecular_feature_df %>%\n",
    "    rename(Smoking_Status = sample) %>%\n",
    "    mutate(Smoking_Status = ifelse(grepl(\"Ecig\", Smoking_Status), \"Ecig\", \"NS\"))\n",
    "\n",
    "head(molecular_feature_df)"
   ]
  },
  {
   "cell_type": "code",
   "execution_count": 7,
   "id": "humanitarian-canvas",
   "metadata": {
    "scrolled": true
   },
   "outputs": [
    {
     "data": {
      "text/html": [
       "<table class=\"dataframe\">\n",
       "<caption>A tibble: 6 × 3</caption>\n",
       "<thead>\n",
       "\t<tr><th scope=col>Smoking_Status</th><th scope=col>MF</th><th scope=col>Value</th></tr>\n",
       "\t<tr><th scope=col>&lt;chr&gt;</th><th scope=col>&lt;chr&gt;</th><th scope=col>&lt;dbl&gt;</th></tr>\n",
       "</thead>\n",
       "<tbody>\n",
       "\t<tr><td>NS</td><td>MF_2</td><td>19.86186</td></tr>\n",
       "\t<tr><td>NS</td><td>MF_3</td><td>17.86943</td></tr>\n",
       "\t<tr><td>NS</td><td>MF_4</td><td>19.21394</td></tr>\n",
       "\t<tr><td>NS</td><td>MF_5</td><td>18.02809</td></tr>\n",
       "\t<tr><td>NS</td><td>MF_6</td><td>17.46636</td></tr>\n",
       "\t<tr><td>NS</td><td>MF_7</td><td>18.34174</td></tr>\n",
       "</tbody>\n",
       "</table>\n"
      ],
      "text/latex": [
       "A tibble: 6 × 3\n",
       "\\begin{tabular}{lll}\n",
       " Smoking\\_Status & MF & Value\\\\\n",
       " <chr> & <chr> & <dbl>\\\\\n",
       "\\hline\n",
       "\t NS & MF\\_2 & 19.86186\\\\\n",
       "\t NS & MF\\_3 & 17.86943\\\\\n",
       "\t NS & MF\\_4 & 19.21394\\\\\n",
       "\t NS & MF\\_5 & 18.02809\\\\\n",
       "\t NS & MF\\_6 & 17.46636\\\\\n",
       "\t NS & MF\\_7 & 18.34174\\\\\n",
       "\\end{tabular}\n"
      ],
      "text/markdown": [
       "\n",
       "A tibble: 6 × 3\n",
       "\n",
       "| Smoking_Status &lt;chr&gt; | MF &lt;chr&gt; | Value &lt;dbl&gt; |\n",
       "|---|---|---|\n",
       "| NS | MF_2 | 19.86186 |\n",
       "| NS | MF_3 | 17.86943 |\n",
       "| NS | MF_4 | 19.21394 |\n",
       "| NS | MF_5 | 18.02809 |\n",
       "| NS | MF_6 | 17.46636 |\n",
       "| NS | MF_7 | 18.34174 |\n",
       "\n"
      ],
      "text/plain": [
       "  Smoking_Status MF   Value   \n",
       "1 NS             MF_2 19.86186\n",
       "2 NS             MF_3 17.86943\n",
       "3 NS             MF_4 19.21394\n",
       "4 NS             MF_5 18.02809\n",
       "5 NS             MF_6 17.46636\n",
       "6 NS             MF_7 18.34174"
      ]
     },
     "metadata": {},
     "output_type": "display_data"
    }
   ],
   "source": [
    "longer_mf_df_w_Ecig40 = molecular_feature_df %>%\n",
    "    pivot_longer(cols = 2:3873, names_to = \"MF\", values_to = \"Value\")\n",
    "\n",
    "head(longer_mf_df_w_Ecig40)"
   ]
  },
  {
   "cell_type": "code",
   "execution_count": 8,
   "id": "another-wrestling",
   "metadata": {},
   "outputs": [
    {
     "data": {
      "text/html": [
       "<table class=\"dataframe\">\n",
       "<caption>A data.frame: 6 × 3</caption>\n",
       "<thead>\n",
       "\t<tr><th></th><th scope=col>MF</th><th scope=col>P Value</th><th scope=col>P Adjust</th></tr>\n",
       "\t<tr><th></th><th scope=col>&lt;chr&gt;</th><th scope=col>&lt;chr&gt;</th><th scope=col>&lt;dbl&gt;</th></tr>\n",
       "</thead>\n",
       "<tbody>\n",
       "\t<tr><th scope=row>1</th><td>MF_2</td><td>0.157890632296302   </td><td>6.969766e-01</td></tr>\n",
       "\t<tr><th scope=row>2</th><td>MF_3</td><td>0.183088265453325   </td><td>7.122719e-01</td></tr>\n",
       "\t<tr><th scope=row>3</th><td>MF_4</td><td>0.396463535957884   </td><td>8.333091e-01</td></tr>\n",
       "\t<tr><th scope=row>4</th><td>MF_5</td><td>3.67620776654923e-08</td><td>7.117138e-05</td></tr>\n",
       "\t<tr><th scope=row>5</th><td>MF_6</td><td>0.901198651169926   </td><td>9.794800e-01</td></tr>\n",
       "\t<tr><th scope=row>6</th><td>MF_7</td><td>0.102708109504866   </td><td>6.352808e-01</td></tr>\n",
       "</tbody>\n",
       "</table>\n"
      ],
      "text/latex": [
       "A data.frame: 6 × 3\n",
       "\\begin{tabular}{r|lll}\n",
       "  & MF & P Value & P Adjust\\\\\n",
       "  & <chr> & <chr> & <dbl>\\\\\n",
       "\\hline\n",
       "\t1 & MF\\_2 & 0.157890632296302    & 6.969766e-01\\\\\n",
       "\t2 & MF\\_3 & 0.183088265453325    & 7.122719e-01\\\\\n",
       "\t3 & MF\\_4 & 0.396463535957884    & 8.333091e-01\\\\\n",
       "\t4 & MF\\_5 & 3.67620776654923e-08 & 7.117138e-05\\\\\n",
       "\t5 & MF\\_6 & 0.901198651169926    & 9.794800e-01\\\\\n",
       "\t6 & MF\\_7 & 0.102708109504866    & 6.352808e-01\\\\\n",
       "\\end{tabular}\n"
      ],
      "text/markdown": [
       "\n",
       "A data.frame: 6 × 3\n",
       "\n",
       "| <!--/--> | MF &lt;chr&gt; | P Value &lt;chr&gt; | P Adjust &lt;dbl&gt; |\n",
       "|---|---|---|---|\n",
       "| 1 | MF_2 | 0.157890632296302    | 6.969766e-01 |\n",
       "| 2 | MF_3 | 0.183088265453325    | 7.122719e-01 |\n",
       "| 3 | MF_4 | 0.396463535957884    | 8.333091e-01 |\n",
       "| 4 | MF_5 | 3.67620776654923e-08 | 7.117138e-05 |\n",
       "| 5 | MF_6 | 0.901198651169926    | 9.794800e-01 |\n",
       "| 6 | MF_7 | 0.102708109504866    | 6.352808e-01 |\n",
       "\n"
      ],
      "text/plain": [
       "  MF   P Value              P Adjust    \n",
       "1 MF_2 0.157890632296302    6.969766e-01\n",
       "2 MF_3 0.183088265453325    7.122719e-01\n",
       "3 MF_4 0.396463535957884    8.333091e-01\n",
       "4 MF_5 3.67620776654923e-08 7.117138e-05\n",
       "5 MF_6 0.901198651169926    9.794800e-01\n",
       "6 MF_7 0.102708109504866    6.352808e-01"
      ]
     },
     "metadata": {},
     "output_type": "display_data"
    }
   ],
   "source": [
    "t_test_values = function(df, p_value_name, padjust_name){\n",
    "    \n",
    "    single_MF = unique(longer_mf_df_w_Ecig40$MF)\n",
    "    \n",
    "    p_values_df = data.frame()\n",
    "    #iterating through each MF\n",
    "    for (i in 1:length(single_MF)){\n",
    "        #NS df\n",
    "        NS_df = df %>%\n",
    "            filter(Smoking_Status == \"NS\", MF == single_MF[i])\n",
    "        #Ecig df\n",
    "        Ecig_df = df %>%\n",
    "            filter(Smoking_Status == \"Ecig\", MF == single_MF[i])\n",
    "\n",
    "        #t test\n",
    "        t_test = t.test(NS_df$Value, Ecig_df$Value)\n",
    "        pvalue = t_test$p.value\n",
    "        \n",
    "        #saving values to df\n",
    "        p_values_df = rbind(p_values_df, cbind(single_MF[i], pvalue))\n",
    "    }\n",
    "    \n",
    "    #adding col names\n",
    "    colnames(p_values_df) = c(\"MF\", p_value_name)\n",
    "    #calculating padj values\n",
    "    p_values_df[[padjust_name]] = p.adjust(as.numeric(as.character(p_values_df$`P Value`)), method = \"fdr\")\n",
    "    \n",
    "    return(p_values_df)\n",
    "}\n",
    "\n",
    "#calling fn\n",
    "pvalue_w_Ecig_40 = t_test_values(longer_mf_df_w_Ecig40, \"P Value\", \"P Adjust\")\n",
    "\n",
    "head(pvalue_w_Ecig_40)"
   ]
  },
  {
   "cell_type": "code",
   "execution_count": 9,
   "id": "e0c211b6",
   "metadata": {},
   "outputs": [
    {
     "name": "stderr",
     "output_type": "stream",
     "text": [
      "\u001b[1m\u001b[22mJoining, by = \"SubjectID\"\n"
     ]
    },
    {
     "data": {
      "text/html": [
       "<table class=\"dataframe\">\n",
       "<caption>A grouped_df: 6 × 9</caption>\n",
       "<thead>\n",
       "\t<tr><th scope=col>SubjectID</th><th scope=col>MF</th><th scope=col>Value</th><th scope=col>Exposure</th><th scope=col>Sex</th><th scope=col>Race</th><th scope=col>Age</th><th scope=col>BMI</th><th scope=col>Scaled_Value</th></tr>\n",
       "\t<tr><th scope=col>&lt;chr&gt;</th><th scope=col>&lt;chr&gt;</th><th scope=col>&lt;dbl&gt;</th><th scope=col>&lt;chr&gt;</th><th scope=col>&lt;fct&gt;</th><th scope=col>&lt;fct&gt;</th><th scope=col>&lt;dbl&gt;</th><th scope=col>&lt;dbl&gt;</th><th scope=col>&lt;dbl[,1]&gt;</th></tr>\n",
       "</thead>\n",
       "<tbody>\n",
       "\t<tr><td>NS_070</td><td>MF_2</td><td>19.86186</td><td>NS</td><td>F</td><td>W</td><td>33</td><td>32.3</td><td>-0.9275484</td></tr>\n",
       "\t<tr><td>NS_070</td><td>MF_3</td><td>17.86943</td><td>NS</td><td>F</td><td>W</td><td>33</td><td>32.3</td><td>-1.5269284</td></tr>\n",
       "\t<tr><td>NS_070</td><td>MF_4</td><td>19.21394</td><td>NS</td><td>F</td><td>W</td><td>33</td><td>32.3</td><td>-1.3048726</td></tr>\n",
       "\t<tr><td>NS_070</td><td>MF_5</td><td>18.02809</td><td>NS</td><td>F</td><td>W</td><td>33</td><td>32.3</td><td>-0.5192701</td></tr>\n",
       "\t<tr><td>NS_070</td><td>MF_6</td><td>17.46636</td><td>NS</td><td>F</td><td>W</td><td>33</td><td>32.3</td><td>-0.6704138</td></tr>\n",
       "\t<tr><td>NS_070</td><td>MF_7</td><td>18.34174</td><td>NS</td><td>F</td><td>W</td><td>33</td><td>32.3</td><td>-1.7115245</td></tr>\n",
       "</tbody>\n",
       "</table>\n"
      ],
      "text/latex": [
       "A grouped\\_df: 6 × 9\n",
       "\\begin{tabular}{lllllllll}\n",
       " SubjectID & MF & Value & Exposure & Sex & Race & Age & BMI & Scaled\\_Value\\\\\n",
       " <chr> & <chr> & <dbl> & <chr> & <fct> & <fct> & <dbl> & <dbl> & <dbl{[},1{]}>\\\\\n",
       "\\hline\n",
       "\t NS\\_070 & MF\\_2 & 19.86186 & NS & F & W & 33 & 32.3 & -0.9275484\\\\\n",
       "\t NS\\_070 & MF\\_3 & 17.86943 & NS & F & W & 33 & 32.3 & -1.5269284\\\\\n",
       "\t NS\\_070 & MF\\_4 & 19.21394 & NS & F & W & 33 & 32.3 & -1.3048726\\\\\n",
       "\t NS\\_070 & MF\\_5 & 18.02809 & NS & F & W & 33 & 32.3 & -0.5192701\\\\\n",
       "\t NS\\_070 & MF\\_6 & 17.46636 & NS & F & W & 33 & 32.3 & -0.6704138\\\\\n",
       "\t NS\\_070 & MF\\_7 & 18.34174 & NS & F & W & 33 & 32.3 & -1.7115245\\\\\n",
       "\\end{tabular}\n"
      ],
      "text/markdown": [
       "\n",
       "A grouped_df: 6 × 9\n",
       "\n",
       "| SubjectID &lt;chr&gt; | MF &lt;chr&gt; | Value &lt;dbl&gt; | Exposure &lt;chr&gt; | Sex &lt;fct&gt; | Race &lt;fct&gt; | Age &lt;dbl&gt; | BMI &lt;dbl&gt; | Scaled_Value &lt;dbl[,1]&gt; |\n",
       "|---|---|---|---|---|---|---|---|---|\n",
       "| NS_070 | MF_2 | 19.86186 | NS | F | W | 33 | 32.3 | -0.9275484 |\n",
       "| NS_070 | MF_3 | 17.86943 | NS | F | W | 33 | 32.3 | -1.5269284 |\n",
       "| NS_070 | MF_4 | 19.21394 | NS | F | W | 33 | 32.3 | -1.3048726 |\n",
       "| NS_070 | MF_5 | 18.02809 | NS | F | W | 33 | 32.3 | -0.5192701 |\n",
       "| NS_070 | MF_6 | 17.46636 | NS | F | W | 33 | 32.3 | -0.6704138 |\n",
       "| NS_070 | MF_7 | 18.34174 | NS | F | W | 33 | 32.3 | -1.7115245 |\n",
       "\n"
      ],
      "text/plain": [
       "  SubjectID MF   Value    Exposure Sex Race Age BMI  Scaled_Value\n",
       "1 NS_070    MF_2 19.86186 NS       F   W    33  32.3 -0.9275484  \n",
       "2 NS_070    MF_3 17.86943 NS       F   W    33  32.3 -1.5269284  \n",
       "3 NS_070    MF_4 19.21394 NS       F   W    33  32.3 -1.3048726  \n",
       "4 NS_070    MF_5 18.02809 NS       F   W    33  32.3 -0.5192701  \n",
       "5 NS_070    MF_6 17.46636 NS       F   W    33  32.3 -0.6704138  \n",
       "6 NS_070    MF_7 18.34174 NS       F   W    33  32.3 -1.7115245  "
      ]
     },
     "metadata": {},
     "output_type": "display_data"
    }
   ],
   "source": [
    "#also calculating p adj using covariates using ANCOVA\n",
    "#first making a combined df w/ covariate and MF data ready for ANCOVA\n",
    "covariates_MF_df = molecular_feature_df_w_Ecig_40 %>%\n",
    "    pivot_longer(cols = 2:3873, names_to = \"MF\", values_to = \"Value\") %>%\n",
    "    rename(SubjectID = sample) %>%\n",
    "    inner_join(demographics_df) %>%\n",
    "    select(-Original_SubjectID) %>%\n",
    "    #dichotomizing race to prevent from having small groups\n",
    "    mutate(Race = ifelse(Race != \"W\", \"NW\", \"W\")) %>%\n",
    "    #scaling within each MF\n",
    "    group_by(MF) %>%\n",
    "    mutate(Scaled_Value = scale(Value))\n",
    "\n",
    "#making categorical variables into factors\n",
    "covariates_MF_df$Sex = factor(covariates_MF_df$Sex)\n",
    "covariates_MF_df$Race = factor(covariates_MF_df$Race)\n",
    "\n",
    "head(covariates_MF_df)"
   ]
  },
  {
   "cell_type": "code",
   "execution_count": 10,
   "id": "b37043ca",
   "metadata": {},
   "outputs": [],
   "source": [
    "#now running ancova\n",
    "get_ancova = function(scaled_df){\n",
    "  \n",
    "    #getting unique MFs to iterate through\n",
    "    single_MF = unique(longer_mf_df_w_Ecig40$MF)\n",
    "    \n",
    "    values_df = data.frame()\n",
    "    for (i in 1:length(single_MF)){\n",
    "        #the covariate must go first for Type 1, but we want type III\n",
    "        ancova = aov(Scaled_Value ~ Sex + Race + Age + BMI + Exposure, data = scaled_df %>%\n",
    "                        filter(MF == single_MF[i])) \n",
    "\n",
    "        anova_type3 = Anova(ancova, type = 'III')\n",
    "        summary = anova_type3[2,3:4]\n",
    "\n",
    "        #saving values\n",
    "        saved_values = cbind(single_MF[i], summary$`Pr(>F)`)\n",
    "        values_df = rbind(values_df, saved_values)\n",
    "    }\n",
    "    \n",
    "    #assigning col names\n",
    "    colnames(values_df) = c(\"MF\", \"P_Adj_covariates\")              \n",
    "    return(values_df)\n",
    "}\n",
    "\n",
    "#calling fn\n",
    "covariate_adjusted_pvalues = get_ancova(covariates_MF_df)"
   ]
  },
  {
   "cell_type": "code",
   "execution_count": 11,
   "id": "50c9ac2d",
   "metadata": {},
   "outputs": [
    {
     "data": {
      "text/html": [
       "<table class=\"dataframe\">\n",
       "<caption>A data.frame: 6 × 2</caption>\n",
       "<thead>\n",
       "\t<tr><th></th><th scope=col>MF</th><th scope=col>P_Adj_covariates</th></tr>\n",
       "\t<tr><th></th><th scope=col>&lt;chr&gt;</th><th scope=col>&lt;chr&gt;</th></tr>\n",
       "</thead>\n",
       "<tbody>\n",
       "\t<tr><th scope=row>1</th><td>MF_2</td><td>0.62890819576864 </td></tr>\n",
       "\t<tr><th scope=row>2</th><td>MF_3</td><td>0.26342648788262 </td></tr>\n",
       "\t<tr><th scope=row>3</th><td>MF_4</td><td>0.226677831790364</td></tr>\n",
       "\t<tr><th scope=row>4</th><td>MF_5</td><td>0.661156092545463</td></tr>\n",
       "\t<tr><th scope=row>5</th><td>MF_6</td><td>0.949103199436608</td></tr>\n",
       "\t<tr><th scope=row>6</th><td>MF_7</td><td>0.91060564555964 </td></tr>\n",
       "</tbody>\n",
       "</table>\n"
      ],
      "text/latex": [
       "A data.frame: 6 × 2\n",
       "\\begin{tabular}{r|ll}\n",
       "  & MF & P\\_Adj\\_covariates\\\\\n",
       "  & <chr> & <chr>\\\\\n",
       "\\hline\n",
       "\t1 & MF\\_2 & 0.62890819576864 \\\\\n",
       "\t2 & MF\\_3 & 0.26342648788262 \\\\\n",
       "\t3 & MF\\_4 & 0.226677831790364\\\\\n",
       "\t4 & MF\\_5 & 0.661156092545463\\\\\n",
       "\t5 & MF\\_6 & 0.949103199436608\\\\\n",
       "\t6 & MF\\_7 & 0.91060564555964 \\\\\n",
       "\\end{tabular}\n"
      ],
      "text/markdown": [
       "\n",
       "A data.frame: 6 × 2\n",
       "\n",
       "| <!--/--> | MF &lt;chr&gt; | P_Adj_covariates &lt;chr&gt; |\n",
       "|---|---|---|\n",
       "| 1 | MF_2 | 0.62890819576864  |\n",
       "| 2 | MF_3 | 0.26342648788262  |\n",
       "| 3 | MF_4 | 0.226677831790364 |\n",
       "| 4 | MF_5 | 0.661156092545463 |\n",
       "| 5 | MF_6 | 0.949103199436608 |\n",
       "| 6 | MF_7 | 0.91060564555964  |\n",
       "\n"
      ],
      "text/plain": [
       "  MF   P_Adj_covariates \n",
       "1 MF_2 0.62890819576864 \n",
       "2 MF_3 0.26342648788262 \n",
       "3 MF_4 0.226677831790364\n",
       "4 MF_5 0.661156092545463\n",
       "5 MF_6 0.949103199436608\n",
       "6 MF_7 0.91060564555964 "
      ]
     },
     "metadata": {},
     "output_type": "display_data"
    }
   ],
   "source": [
    "head(covariate_adjusted_pvalues)"
   ]
  },
  {
   "cell_type": "code",
   "execution_count": 12,
   "id": "136d4aef",
   "metadata": {},
   "outputs": [
    {
     "name": "stderr",
     "output_type": "stream",
     "text": [
      "\u001b[1m\u001b[22mJoining, by = \"MF\"\n"
     ]
    },
    {
     "data": {
      "text/html": [
       "<table class=\"dataframe\">\n",
       "<caption>A data.frame: 6 × 4</caption>\n",
       "<thead>\n",
       "\t<tr><th></th><th scope=col>MF</th><th scope=col>P Value</th><th scope=col>P Adjust</th><th scope=col>P_Adj_covariates</th></tr>\n",
       "\t<tr><th></th><th scope=col>&lt;chr&gt;</th><th scope=col>&lt;chr&gt;</th><th scope=col>&lt;dbl&gt;</th><th scope=col>&lt;chr&gt;</th></tr>\n",
       "</thead>\n",
       "<tbody>\n",
       "\t<tr><th scope=row>1</th><td>MF_2</td><td>0.157890632296302   </td><td>6.969766e-01</td><td>0.62890819576864 </td></tr>\n",
       "\t<tr><th scope=row>2</th><td>MF_3</td><td>0.183088265453325   </td><td>7.122719e-01</td><td>0.26342648788262 </td></tr>\n",
       "\t<tr><th scope=row>3</th><td>MF_4</td><td>0.396463535957884   </td><td>8.333091e-01</td><td>0.226677831790364</td></tr>\n",
       "\t<tr><th scope=row>4</th><td>MF_5</td><td>3.67620776654923e-08</td><td>7.117138e-05</td><td>0.661156092545463</td></tr>\n",
       "\t<tr><th scope=row>5</th><td>MF_6</td><td>0.901198651169926   </td><td>9.794800e-01</td><td>0.949103199436608</td></tr>\n",
       "\t<tr><th scope=row>6</th><td>MF_7</td><td>0.102708109504866   </td><td>6.352808e-01</td><td>0.91060564555964 </td></tr>\n",
       "</tbody>\n",
       "</table>\n"
      ],
      "text/latex": [
       "A data.frame: 6 × 4\n",
       "\\begin{tabular}{r|llll}\n",
       "  & MF & P Value & P Adjust & P\\_Adj\\_covariates\\\\\n",
       "  & <chr> & <chr> & <dbl> & <chr>\\\\\n",
       "\\hline\n",
       "\t1 & MF\\_2 & 0.157890632296302    & 6.969766e-01 & 0.62890819576864 \\\\\n",
       "\t2 & MF\\_3 & 0.183088265453325    & 7.122719e-01 & 0.26342648788262 \\\\\n",
       "\t3 & MF\\_4 & 0.396463535957884    & 8.333091e-01 & 0.226677831790364\\\\\n",
       "\t4 & MF\\_5 & 3.67620776654923e-08 & 7.117138e-05 & 0.661156092545463\\\\\n",
       "\t5 & MF\\_6 & 0.901198651169926    & 9.794800e-01 & 0.949103199436608\\\\\n",
       "\t6 & MF\\_7 & 0.102708109504866    & 6.352808e-01 & 0.91060564555964 \\\\\n",
       "\\end{tabular}\n"
      ],
      "text/markdown": [
       "\n",
       "A data.frame: 6 × 4\n",
       "\n",
       "| <!--/--> | MF &lt;chr&gt; | P Value &lt;chr&gt; | P Adjust &lt;dbl&gt; | P_Adj_covariates &lt;chr&gt; |\n",
       "|---|---|---|---|---|\n",
       "| 1 | MF_2 | 0.157890632296302    | 6.969766e-01 | 0.62890819576864  |\n",
       "| 2 | MF_3 | 0.183088265453325    | 7.122719e-01 | 0.26342648788262  |\n",
       "| 3 | MF_4 | 0.396463535957884    | 8.333091e-01 | 0.226677831790364 |\n",
       "| 4 | MF_5 | 3.67620776654923e-08 | 7.117138e-05 | 0.661156092545463 |\n",
       "| 5 | MF_6 | 0.901198651169926    | 9.794800e-01 | 0.949103199436608 |\n",
       "| 6 | MF_7 | 0.102708109504866    | 6.352808e-01 | 0.91060564555964  |\n",
       "\n"
      ],
      "text/plain": [
       "  MF   P Value              P Adjust     P_Adj_covariates \n",
       "1 MF_2 0.157890632296302    6.969766e-01 0.62890819576864 \n",
       "2 MF_3 0.183088265453325    7.122719e-01 0.26342648788262 \n",
       "3 MF_4 0.396463535957884    8.333091e-01 0.226677831790364\n",
       "4 MF_5 3.67620776654923e-08 7.117138e-05 0.661156092545463\n",
       "5 MF_6 0.901198651169926    9.794800e-01 0.949103199436608\n",
       "6 MF_7 0.102708109504866    6.352808e-01 0.91060564555964 "
      ]
     },
     "metadata": {},
     "output_type": "display_data"
    }
   ],
   "source": [
    "#creating p value df\n",
    "pvalue_df = inner_join(pvalue_w_Ecig_40, covariate_adjusted_pvalues)\n",
    "head(pvalue_df)"
   ]
  },
  {
   "cell_type": "code",
   "execution_count": 13,
   "id": "popular-scotland",
   "metadata": {},
   "outputs": [
    {
     "name": "stderr",
     "output_type": "stream",
     "text": [
      "\u001b[1m\u001b[22m`summarise()` has grouped output by 'Smoking_Status'. You can override using\n",
      "the `.groups` argument.\n"
     ]
    },
    {
     "data": {
      "text/html": [
       "<table class=\"dataframe\">\n",
       "<caption>A tibble: 6 × 2</caption>\n",
       "<thead>\n",
       "\t<tr><th scope=col>MF</th><th scope=col>Avg_Abundance</th></tr>\n",
       "\t<tr><th scope=col>&lt;chr&gt;</th><th scope=col>&lt;dbl&gt;</th></tr>\n",
       "</thead>\n",
       "<tbody>\n",
       "\t<tr><td>MF_100  </td><td>17.90073</td></tr>\n",
       "\t<tr><td>MF_1000 </td><td>20.47764</td></tr>\n",
       "\t<tr><td>MF_10009</td><td>19.32521</td></tr>\n",
       "\t<tr><td>MF_1001 </td><td>19.65870</td></tr>\n",
       "\t<tr><td>MF_10019</td><td>18.51077</td></tr>\n",
       "\t<tr><td>MF_1002 </td><td>21.29595</td></tr>\n",
       "</tbody>\n",
       "</table>\n"
      ],
      "text/latex": [
       "A tibble: 6 × 2\n",
       "\\begin{tabular}{ll}\n",
       " MF & Avg\\_Abundance\\\\\n",
       " <chr> & <dbl>\\\\\n",
       "\\hline\n",
       "\t MF\\_100   & 17.90073\\\\\n",
       "\t MF\\_1000  & 20.47764\\\\\n",
       "\t MF\\_10009 & 19.32521\\\\\n",
       "\t MF\\_1001  & 19.65870\\\\\n",
       "\t MF\\_10019 & 18.51077\\\\\n",
       "\t MF\\_1002  & 21.29595\\\\\n",
       "\\end{tabular}\n"
      ],
      "text/markdown": [
       "\n",
       "A tibble: 6 × 2\n",
       "\n",
       "| MF &lt;chr&gt; | Avg_Abundance &lt;dbl&gt; |\n",
       "|---|---|\n",
       "| MF_100   | 17.90073 |\n",
       "| MF_1000  | 20.47764 |\n",
       "| MF_10009 | 19.32521 |\n",
       "| MF_1001  | 19.65870 |\n",
       "| MF_10019 | 18.51077 |\n",
       "| MF_1002  | 21.29595 |\n",
       "\n"
      ],
      "text/plain": [
       "  MF       Avg_Abundance\n",
       "1 MF_100   17.90073     \n",
       "2 MF_1000  20.47764     \n",
       "3 MF_10009 19.32521     \n",
       "4 MF_1001  19.65870     \n",
       "5 MF_10019 18.51077     \n",
       "6 MF_1002  21.29595     "
      ]
     },
     "metadata": {},
     "output_type": "display_data"
    },
    {
     "data": {
      "text/html": [
       "<table class=\"dataframe\">\n",
       "<caption>A grouped_df: 6 × 3</caption>\n",
       "<thead>\n",
       "\t<tr><th scope=col>Smoking_Status</th><th scope=col>MF</th><th scope=col>Avg_Abundance_stratified</th></tr>\n",
       "\t<tr><th scope=col>&lt;chr&gt;</th><th scope=col>&lt;chr&gt;</th><th scope=col>&lt;dbl&gt;</th></tr>\n",
       "</thead>\n",
       "<tbody>\n",
       "\t<tr><td>Ecig</td><td>MF_100  </td><td>18.25741</td></tr>\n",
       "\t<tr><td>Ecig</td><td>MF_1000 </td><td>20.44849</td></tr>\n",
       "\t<tr><td>Ecig</td><td>MF_10009</td><td>19.53787</td></tr>\n",
       "\t<tr><td>Ecig</td><td>MF_1001 </td><td>19.63929</td></tr>\n",
       "\t<tr><td>Ecig</td><td>MF_10019</td><td>18.69506</td></tr>\n",
       "\t<tr><td>Ecig</td><td>MF_1002 </td><td>21.54147</td></tr>\n",
       "</tbody>\n",
       "</table>\n"
      ],
      "text/latex": [
       "A grouped\\_df: 6 × 3\n",
       "\\begin{tabular}{lll}\n",
       " Smoking\\_Status & MF & Avg\\_Abundance\\_stratified\\\\\n",
       " <chr> & <chr> & <dbl>\\\\\n",
       "\\hline\n",
       "\t Ecig & MF\\_100   & 18.25741\\\\\n",
       "\t Ecig & MF\\_1000  & 20.44849\\\\\n",
       "\t Ecig & MF\\_10009 & 19.53787\\\\\n",
       "\t Ecig & MF\\_1001  & 19.63929\\\\\n",
       "\t Ecig & MF\\_10019 & 18.69506\\\\\n",
       "\t Ecig & MF\\_1002  & 21.54147\\\\\n",
       "\\end{tabular}\n"
      ],
      "text/markdown": [
       "\n",
       "A grouped_df: 6 × 3\n",
       "\n",
       "| Smoking_Status &lt;chr&gt; | MF &lt;chr&gt; | Avg_Abundance_stratified &lt;dbl&gt; |\n",
       "|---|---|---|\n",
       "| Ecig | MF_100   | 18.25741 |\n",
       "| Ecig | MF_1000  | 20.44849 |\n",
       "| Ecig | MF_10009 | 19.53787 |\n",
       "| Ecig | MF_1001  | 19.63929 |\n",
       "| Ecig | MF_10019 | 18.69506 |\n",
       "| Ecig | MF_1002  | 21.54147 |\n",
       "\n"
      ],
      "text/plain": [
       "  Smoking_Status MF       Avg_Abundance_stratified\n",
       "1 Ecig           MF_100   18.25741                \n",
       "2 Ecig           MF_1000  20.44849                \n",
       "3 Ecig           MF_10009 19.53787                \n",
       "4 Ecig           MF_1001  19.63929                \n",
       "5 Ecig           MF_10019 18.69506                \n",
       "6 Ecig           MF_1002  21.54147                "
      ]
     },
     "metadata": {},
     "output_type": "display_data"
    }
   ],
   "source": [
    "#calculating overall avg. abundance and within smoking groups\n",
    "avg_abundance_w_Ecig_40 = longer_mf_df_w_Ecig40 %>%\n",
    "    group_by(MF) %>%\n",
    "    summarize(Avg_Abundance = mean(Value))\n",
    "\n",
    "#stratified by smoking group\n",
    "avg_abundance_w_Ecig_40_stratified = longer_mf_df_w_Ecig40 %>%\n",
    "    group_by(Smoking_Status, MF) %>%\n",
    "    summarize(Avg_Abundance_stratified = mean(Value))\n",
    "\n",
    "head(avg_abundance_w_Ecig_40)\n",
    "head(avg_abundance_w_Ecig_40_stratified)"
   ]
  },
  {
   "cell_type": "code",
   "execution_count": 14,
   "id": "pediatric-botswana",
   "metadata": {},
   "outputs": [
    {
     "data": {
      "text/html": [
       "<table class=\"dataframe\">\n",
       "<caption>A tibble: 6 × 2</caption>\n",
       "<thead>\n",
       "\t<tr><th scope=col>MF</th><th scope=col>Ecig_Avg_Abundance</th></tr>\n",
       "\t<tr><th scope=col>&lt;chr&gt;</th><th scope=col>&lt;dbl&gt;</th></tr>\n",
       "</thead>\n",
       "<tbody>\n",
       "\t<tr><td>MF_100  </td><td>18.25741</td></tr>\n",
       "\t<tr><td>MF_1000 </td><td>20.44849</td></tr>\n",
       "\t<tr><td>MF_10009</td><td>19.53787</td></tr>\n",
       "\t<tr><td>MF_1001 </td><td>19.63929</td></tr>\n",
       "\t<tr><td>MF_10019</td><td>18.69506</td></tr>\n",
       "\t<tr><td>MF_1002 </td><td>21.54147</td></tr>\n",
       "</tbody>\n",
       "</table>\n"
      ],
      "text/latex": [
       "A tibble: 6 × 2\n",
       "\\begin{tabular}{ll}\n",
       " MF & Ecig\\_Avg\\_Abundance\\\\\n",
       " <chr> & <dbl>\\\\\n",
       "\\hline\n",
       "\t MF\\_100   & 18.25741\\\\\n",
       "\t MF\\_1000  & 20.44849\\\\\n",
       "\t MF\\_10009 & 19.53787\\\\\n",
       "\t MF\\_1001  & 19.63929\\\\\n",
       "\t MF\\_10019 & 18.69506\\\\\n",
       "\t MF\\_1002  & 21.54147\\\\\n",
       "\\end{tabular}\n"
      ],
      "text/markdown": [
       "\n",
       "A tibble: 6 × 2\n",
       "\n",
       "| MF &lt;chr&gt; | Ecig_Avg_Abundance &lt;dbl&gt; |\n",
       "|---|---|\n",
       "| MF_100   | 18.25741 |\n",
       "| MF_1000  | 20.44849 |\n",
       "| MF_10009 | 19.53787 |\n",
       "| MF_1001  | 19.63929 |\n",
       "| MF_10019 | 18.69506 |\n",
       "| MF_1002  | 21.54147 |\n",
       "\n"
      ],
      "text/plain": [
       "  MF       Ecig_Avg_Abundance\n",
       "1 MF_100   18.25741          \n",
       "2 MF_1000  20.44849          \n",
       "3 MF_10009 19.53787          \n",
       "4 MF_1001  19.63929          \n",
       "5 MF_10019 18.69506          \n",
       "6 MF_1002  21.54147          "
      ]
     },
     "metadata": {},
     "output_type": "display_data"
    }
   ],
   "source": [
    "#changing the stratified dfs to making combining easier\n",
    "#first splitting dfs\n",
    "split_avg_abundance_w_Ecig_40_stratified = avg_abundance_w_Ecig_40_stratified %>%\n",
    "    group_by(Smoking_Status) %>%\n",
    "    group_split()\n",
    "\n",
    "#adding smoking status to the title\n",
    "Ecig_avg_abundance = split_avg_abundance_w_Ecig_40_stratified[[1]] %>%\n",
    "    select(-Smoking_Status) %>%\n",
    "    rename(Ecig_Avg_Abundance = Avg_Abundance_stratified)\n",
    "NS_avg_abundance = split_avg_abundance_w_Ecig_40_stratified[[2]] %>%\n",
    "    select(-Smoking_Status) %>%\n",
    "    rename(NS_Avg_Abundance = Avg_Abundance_stratified)\n",
    "\n",
    "head(Ecig_avg_abundance)"
   ]
  },
  {
   "cell_type": "code",
   "execution_count": 15,
   "id": "expressed-bennett",
   "metadata": {},
   "outputs": [
    {
     "name": "stderr",
     "output_type": "stream",
     "text": [
      "\u001b[1m\u001b[22mJoining, by = \"MF\"\n"
     ]
    },
    {
     "data": {
      "text/html": [
       "<table class=\"dataframe\">\n",
       "<caption>A data.frame: 6 × 4</caption>\n",
       "<thead>\n",
       "\t<tr><th></th><th scope=col>MF</th><th scope=col>Avg_Abundance</th><th scope=col>Ecig_Avg_Abundance</th><th scope=col>NS_Avg_Abundance</th></tr>\n",
       "\t<tr><th></th><th scope=col>&lt;chr&gt;</th><th scope=col>&lt;dbl&gt;</th><th scope=col>&lt;dbl&gt;</th><th scope=col>&lt;dbl&gt;</th></tr>\n",
       "</thead>\n",
       "<tbody>\n",
       "\t<tr><th scope=row>1</th><td>MF_100  </td><td>17.90073</td><td>18.25741</td><td>17.47800</td></tr>\n",
       "\t<tr><th scope=row>2</th><td>MF_1000 </td><td>20.47764</td><td>20.44849</td><td>20.51219</td></tr>\n",
       "\t<tr><th scope=row>3</th><td>MF_10009</td><td>19.32521</td><td>19.53787</td><td>19.07316</td></tr>\n",
       "\t<tr><th scope=row>4</th><td>MF_1001 </td><td>19.65870</td><td>19.63929</td><td>19.68171</td></tr>\n",
       "\t<tr><th scope=row>5</th><td>MF_10019</td><td>18.51077</td><td>18.69506</td><td>18.29235</td></tr>\n",
       "\t<tr><th scope=row>6</th><td>MF_1002 </td><td>21.29595</td><td>21.54147</td><td>21.00496</td></tr>\n",
       "</tbody>\n",
       "</table>\n"
      ],
      "text/latex": [
       "A data.frame: 6 × 4\n",
       "\\begin{tabular}{r|llll}\n",
       "  & MF & Avg\\_Abundance & Ecig\\_Avg\\_Abundance & NS\\_Avg\\_Abundance\\\\\n",
       "  & <chr> & <dbl> & <dbl> & <dbl>\\\\\n",
       "\\hline\n",
       "\t1 & MF\\_100   & 17.90073 & 18.25741 & 17.47800\\\\\n",
       "\t2 & MF\\_1000  & 20.47764 & 20.44849 & 20.51219\\\\\n",
       "\t3 & MF\\_10009 & 19.32521 & 19.53787 & 19.07316\\\\\n",
       "\t4 & MF\\_1001  & 19.65870 & 19.63929 & 19.68171\\\\\n",
       "\t5 & MF\\_10019 & 18.51077 & 18.69506 & 18.29235\\\\\n",
       "\t6 & MF\\_1002  & 21.29595 & 21.54147 & 21.00496\\\\\n",
       "\\end{tabular}\n"
      ],
      "text/markdown": [
       "\n",
       "A data.frame: 6 × 4\n",
       "\n",
       "| <!--/--> | MF &lt;chr&gt; | Avg_Abundance &lt;dbl&gt; | Ecig_Avg_Abundance &lt;dbl&gt; | NS_Avg_Abundance &lt;dbl&gt; |\n",
       "|---|---|---|---|---|\n",
       "| 1 | MF_100   | 17.90073 | 18.25741 | 17.47800 |\n",
       "| 2 | MF_1000  | 20.47764 | 20.44849 | 20.51219 |\n",
       "| 3 | MF_10009 | 19.32521 | 19.53787 | 19.07316 |\n",
       "| 4 | MF_1001  | 19.65870 | 19.63929 | 19.68171 |\n",
       "| 5 | MF_10019 | 18.51077 | 18.69506 | 18.29235 |\n",
       "| 6 | MF_1002  | 21.29595 | 21.54147 | 21.00496 |\n",
       "\n"
      ],
      "text/plain": [
       "  MF       Avg_Abundance Ecig_Avg_Abundance NS_Avg_Abundance\n",
       "1 MF_100   17.90073      18.25741           17.47800        \n",
       "2 MF_1000  20.47764      20.44849           20.51219        \n",
       "3 MF_10009 19.32521      19.53787           19.07316        \n",
       "4 MF_1001  19.65870      19.63929           19.68171        \n",
       "5 MF_10019 18.51077      18.69506           18.29235        \n",
       "6 MF_1002  21.29595      21.54147           21.00496        "
      ]
     },
     "metadata": {},
     "output_type": "display_data"
    }
   ],
   "source": [
    "avg_abundance_df = cbind(avg_abundance_w_Ecig_40, inner_join(Ecig_avg_abundance, NS_avg_abundance)[,2:3])\n",
    "head(avg_abundance_df)"
   ]
  },
  {
   "cell_type": "code",
   "execution_count": 16,
   "id": "amino-snake",
   "metadata": {},
   "outputs": [
    {
     "data": {
      "text/html": [
       "<table class=\"dataframe\">\n",
       "<caption>A data.frame: 6 × 2</caption>\n",
       "<thead>\n",
       "\t<tr><th></th><th scope=col>MF</th><th scope=col>log2FC</th></tr>\n",
       "\t<tr><th></th><th scope=col>&lt;chr&gt;</th><th scope=col>&lt;chr&gt;</th></tr>\n",
       "</thead>\n",
       "<tbody>\n",
       "\t<tr><th scope=row>1</th><td>MF_100  </td><td>0.0629415491221518  </td></tr>\n",
       "\t<tr><th scope=row>2</th><td>MF_1000 </td><td>-0.00448705289641026</td></tr>\n",
       "\t<tr><th scope=row>3</th><td>MF_10009</td><td>0.0347293327160267  </td></tr>\n",
       "\t<tr><th scope=row>4</th><td>MF_1001 </td><td>-0.00311310352076818</td></tr>\n",
       "\t<tr><th scope=row>5</th><td>MF_10019</td><td>0.0314169810277366  </td></tr>\n",
       "\t<tr><th scope=row>6</th><td>MF_1002 </td><td>0.036386465819493   </td></tr>\n",
       "</tbody>\n",
       "</table>\n"
      ],
      "text/latex": [
       "A data.frame: 6 × 2\n",
       "\\begin{tabular}{r|ll}\n",
       "  & MF & log2FC\\\\\n",
       "  & <chr> & <chr>\\\\\n",
       "\\hline\n",
       "\t1 & MF\\_100   & 0.0629415491221518  \\\\\n",
       "\t2 & MF\\_1000  & -0.00448705289641026\\\\\n",
       "\t3 & MF\\_10009 & 0.0347293327160267  \\\\\n",
       "\t4 & MF\\_1001  & -0.00311310352076818\\\\\n",
       "\t5 & MF\\_10019 & 0.0314169810277366  \\\\\n",
       "\t6 & MF\\_1002  & 0.036386465819493   \\\\\n",
       "\\end{tabular}\n"
      ],
      "text/markdown": [
       "\n",
       "A data.frame: 6 × 2\n",
       "\n",
       "| <!--/--> | MF &lt;chr&gt; | log2FC &lt;chr&gt; |\n",
       "|---|---|---|\n",
       "| 1 | MF_100   | 0.0629415491221518   |\n",
       "| 2 | MF_1000  | -0.00448705289641026 |\n",
       "| 3 | MF_10009 | 0.0347293327160267   |\n",
       "| 4 | MF_1001  | -0.00311310352076818 |\n",
       "| 5 | MF_10019 | 0.0314169810277366   |\n",
       "| 6 | MF_1002  | 0.036386465819493    |\n",
       "\n"
      ],
      "text/plain": [
       "  MF       log2FC              \n",
       "1 MF_100   0.0629415491221518  \n",
       "2 MF_1000  -0.00448705289641026\n",
       "3 MF_10009 0.0347293327160267  \n",
       "4 MF_1001  -0.00311310352076818\n",
       "5 MF_10019 0.0314169810277366  \n",
       "6 MF_1002  0.036386465819493   "
      ]
     },
     "metadata": {},
     "output_type": "display_data"
    }
   ],
   "source": [
    "#calculating log 2 fold change\n",
    "#FC = avg. abundance across ecig users/ avg. abundance across NS\n",
    "log2FC = function(abundance_df, Ecig_col, NS_col, log2name){\n",
    "    \n",
    "    single_MF = unique(abundance_df$MF)\n",
    "    \n",
    "    values_df = data.frame()\n",
    "    #iterating through each MF\n",
    "    for (i in 1:length(single_MF)){\n",
    "    filtered_df = abundance_df %>%\n",
    "        filter(MF == single_MF[i])\n",
    "    \n",
    "    log2_FC_value = log2(mean(filtered_df[[Ecig_col]])/mean(filtered_df[[NS_col]]))\n",
    "   \n",
    "    #saving values\n",
    "    values_df = rbind(values_df, cbind(single_MF[i], log2_FC_value))\n",
    "    }\n",
    "    \n",
    "    #adding col names\n",
    "    colnames(values_df) = c(\"MF\", log2name)\n",
    "    return(values_df)\n",
    "    \n",
    "}\n",
    "\n",
    "\n",
    "#calling fn\n",
    "log2FC_w_Ecig_40 = log2FC(avg_abundance_df, \"Ecig_Avg_Abundance\", \"NS_Avg_Abundance\", \"log2FC\")\n",
    "head(log2FC_w_Ecig_40)"
   ]
  },
  {
   "cell_type": "code",
   "execution_count": 17,
   "id": "aging-holocaust",
   "metadata": {},
   "outputs": [
    {
     "name": "stderr",
     "output_type": "stream",
     "text": [
      "\u001b[1m\u001b[22mJoining, by = \"MF\"\n",
      "\u001b[1m\u001b[22mJoining, by = \"MF\"\n",
      "\u001b[1m\u001b[22mJoining, by = \"MF\"\n"
     ]
    },
    {
     "data": {
      "text/html": [
       "<table class=\"dataframe\">\n",
       "<caption>A tibble: 6 × 9</caption>\n",
       "<thead>\n",
       "\t<tr><th scope=col>MF</th><th scope=col>Variable_Importance_Rank</th><th scope=col>P Value</th><th scope=col>P Adjust</th><th scope=col>P_Adj_covariates</th><th scope=col>Avg_Abundance</th><th scope=col>Ecig_Avg_Abundance</th><th scope=col>NS_Avg_Abundance</th><th scope=col>log2FC</th></tr>\n",
       "\t<tr><th scope=col>&lt;chr&gt;</th><th scope=col>&lt;dbl&gt;</th><th scope=col>&lt;chr&gt;</th><th scope=col>&lt;dbl&gt;</th><th scope=col>&lt;chr&gt;</th><th scope=col>&lt;dbl&gt;</th><th scope=col>&lt;dbl&gt;</th><th scope=col>&lt;dbl&gt;</th><th scope=col>&lt;chr&gt;</th></tr>\n",
       "</thead>\n",
       "<tbody>\n",
       "\t<tr><td>MF_97   </td><td>2.6118845</td><td>4.85697347107151e-11</td><td>1.880620e-07</td><td>0.611414602623618</td><td>19.34139</td><td>21.21361</td><td>17.12246</td><td>0.30910031499844  </td></tr>\n",
       "\t<tr><td>MF_5    </td><td>1.8559144</td><td>3.67620776654923e-08</td><td>7.117138e-05</td><td>0.661156092545463</td><td>19.85841</td><td>21.94706</td><td>17.38297</td><td>0.336352734212379 </td></tr>\n",
       "\t<tr><td>MF_292  </td><td>0.7185532</td><td>6.16003424173649e-05</td><td>7.950551e-02</td><td>0.884525092981179</td><td>19.82281</td><td>21.43326</td><td>17.91412</td><td>0.258754537758257 </td></tr>\n",
       "\t<tr><td>MF_7221 </td><td>0.3767431</td><td>0.00150616004733428 </td><td>1.715251e-01</td><td>0.585310040066992</td><td>17.45214</td><td>18.00508</td><td>16.79680</td><td>0.100218242991128 </td></tr>\n",
       "\t<tr><td>MF_29367</td><td>0.2427987</td><td>0.0356632079780345  </td><td>4.568437e-01</td><td>0.883850458066319</td><td>18.17888</td><td>18.53933</td><td>17.75168</td><td>0.0626335642359544</td></tr>\n",
       "\t<tr><td>MF_6955 </td><td>0.1876891</td><td>0.000143994315918898</td><td>8.868030e-02</td><td>0.901880741900407</td><td>18.79478</td><td>19.61510</td><td>17.82254</td><td>0.138261642397508 </td></tr>\n",
       "</tbody>\n",
       "</table>\n"
      ],
      "text/latex": [
       "A tibble: 6 × 9\n",
       "\\begin{tabular}{lllllllll}\n",
       " MF & Variable\\_Importance\\_Rank & P Value & P Adjust & P\\_Adj\\_covariates & Avg\\_Abundance & Ecig\\_Avg\\_Abundance & NS\\_Avg\\_Abundance & log2FC\\\\\n",
       " <chr> & <dbl> & <chr> & <dbl> & <chr> & <dbl> & <dbl> & <dbl> & <chr>\\\\\n",
       "\\hline\n",
       "\t MF\\_97    & 2.6118845 & 4.85697347107151e-11 & 1.880620e-07 & 0.611414602623618 & 19.34139 & 21.21361 & 17.12246 & 0.30910031499844  \\\\\n",
       "\t MF\\_5     & 1.8559144 & 3.67620776654923e-08 & 7.117138e-05 & 0.661156092545463 & 19.85841 & 21.94706 & 17.38297 & 0.336352734212379 \\\\\n",
       "\t MF\\_292   & 0.7185532 & 6.16003424173649e-05 & 7.950551e-02 & 0.884525092981179 & 19.82281 & 21.43326 & 17.91412 & 0.258754537758257 \\\\\n",
       "\t MF\\_7221  & 0.3767431 & 0.00150616004733428  & 1.715251e-01 & 0.585310040066992 & 17.45214 & 18.00508 & 16.79680 & 0.100218242991128 \\\\\n",
       "\t MF\\_29367 & 0.2427987 & 0.0356632079780345   & 4.568437e-01 & 0.883850458066319 & 18.17888 & 18.53933 & 17.75168 & 0.0626335642359544\\\\\n",
       "\t MF\\_6955  & 0.1876891 & 0.000143994315918898 & 8.868030e-02 & 0.901880741900407 & 18.79478 & 19.61510 & 17.82254 & 0.138261642397508 \\\\\n",
       "\\end{tabular}\n"
      ],
      "text/markdown": [
       "\n",
       "A tibble: 6 × 9\n",
       "\n",
       "| MF &lt;chr&gt; | Variable_Importance_Rank &lt;dbl&gt; | P Value &lt;chr&gt; | P Adjust &lt;dbl&gt; | P_Adj_covariates &lt;chr&gt; | Avg_Abundance &lt;dbl&gt; | Ecig_Avg_Abundance &lt;dbl&gt; | NS_Avg_Abundance &lt;dbl&gt; | log2FC &lt;chr&gt; |\n",
       "|---|---|---|---|---|---|---|---|---|\n",
       "| MF_97    | 2.6118845 | 4.85697347107151e-11 | 1.880620e-07 | 0.611414602623618 | 19.34139 | 21.21361 | 17.12246 | 0.30910031499844   |\n",
       "| MF_5     | 1.8559144 | 3.67620776654923e-08 | 7.117138e-05 | 0.661156092545463 | 19.85841 | 21.94706 | 17.38297 | 0.336352734212379  |\n",
       "| MF_292   | 0.7185532 | 6.16003424173649e-05 | 7.950551e-02 | 0.884525092981179 | 19.82281 | 21.43326 | 17.91412 | 0.258754537758257  |\n",
       "| MF_7221  | 0.3767431 | 0.00150616004733428  | 1.715251e-01 | 0.585310040066992 | 17.45214 | 18.00508 | 16.79680 | 0.100218242991128  |\n",
       "| MF_29367 | 0.2427987 | 0.0356632079780345   | 4.568437e-01 | 0.883850458066319 | 18.17888 | 18.53933 | 17.75168 | 0.0626335642359544 |\n",
       "| MF_6955  | 0.1876891 | 0.000143994315918898 | 8.868030e-02 | 0.901880741900407 | 18.79478 | 19.61510 | 17.82254 | 0.138261642397508  |\n",
       "\n"
      ],
      "text/plain": [
       "  MF       Variable_Importance_Rank P Value              P Adjust    \n",
       "1 MF_97    2.6118845                4.85697347107151e-11 1.880620e-07\n",
       "2 MF_5     1.8559144                3.67620776654923e-08 7.117138e-05\n",
       "3 MF_292   0.7185532                6.16003424173649e-05 7.950551e-02\n",
       "4 MF_7221  0.3767431                0.00150616004733428  1.715251e-01\n",
       "5 MF_29367 0.2427987                0.0356632079780345   4.568437e-01\n",
       "6 MF_6955  0.1876891                0.000143994315918898 8.868030e-02\n",
       "  P_Adj_covariates  Avg_Abundance Ecig_Avg_Abundance NS_Avg_Abundance\n",
       "1 0.611414602623618 19.34139      21.21361           17.12246        \n",
       "2 0.661156092545463 19.85841      21.94706           17.38297        \n",
       "3 0.884525092981179 19.82281      21.43326           17.91412        \n",
       "4 0.585310040066992 17.45214      18.00508           16.79680        \n",
       "5 0.883850458066319 18.17888      18.53933           17.75168        \n",
       "6 0.901880741900407 18.79478      19.61510           17.82254        \n",
       "  log2FC            \n",
       "1 0.30910031499844  \n",
       "2 0.336352734212379 \n",
       "3 0.258754537758257 \n",
       "4 0.100218242991128 \n",
       "5 0.0626335642359544\n",
       "6 0.138261642397508 "
      ]
     },
     "metadata": {},
     "output_type": "display_data"
    }
   ],
   "source": [
    "#combining into 1 df\n",
    "combined_df = inner_join(inner_join(feature_ranking, pvalue_df), inner_join(avg_abundance_df, log2FC_w_Ecig_40)) \n",
    "#combined_df[,2:15] = apply(combined_df[,2:15], 2, as.numeric)\n",
    "head(combined_df)"
   ]
  },
  {
   "cell_type": "code",
   "execution_count": 18,
   "id": "center-messaging",
   "metadata": {},
   "outputs": [],
   "source": [
    "#exporting table \n",
    "write.csv(combined_df, paste0(Output,\"/\", cur_date, \"_MF_Expression_Table.csv\"), row.names = FALSE)"
   ]
  },
  {
   "cell_type": "code",
   "execution_count": null,
   "id": "functioning-audio",
   "metadata": {},
   "outputs": [],
   "source": []
  }
 ],
 "metadata": {
  "kernelspec": {
   "display_name": "R",
   "language": "R",
   "name": "ir"
  },
  "language_info": {
   "codemirror_mode": "r",
   "file_extension": ".r",
   "mimetype": "text/x-r-source",
   "name": "R",
   "pygments_lexer": "r",
   "version": "4.1.2"
  }
 },
 "nbformat": 4,
 "nbformat_minor": 5
}
