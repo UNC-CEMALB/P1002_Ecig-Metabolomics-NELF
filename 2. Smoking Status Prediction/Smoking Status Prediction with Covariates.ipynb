{
 "cells": [
  {
   "cell_type": "code",
   "execution_count": 1,
   "id": "26daeb52",
   "metadata": {},
   "outputs": [
    {
     "name": "stderr",
     "output_type": "stream",
     "text": [
      "── \u001b[1mAttaching packages\u001b[22m ─────────────────────────────────────── tidyverse 1.3.1 ──\n",
      "\n",
      "\u001b[32m✔\u001b[39m \u001b[34mggplot2\u001b[39m 3.3.5     \u001b[32m✔\u001b[39m \u001b[34mpurrr  \u001b[39m 0.3.4\n",
      "\u001b[32m✔\u001b[39m \u001b[34mtibble \u001b[39m 3.1.6     \u001b[32m✔\u001b[39m \u001b[34mdplyr  \u001b[39m 1.0.8\n",
      "\u001b[32m✔\u001b[39m \u001b[34mtidyr  \u001b[39m 1.2.0     \u001b[32m✔\u001b[39m \u001b[34mstringr\u001b[39m 1.4.0\n",
      "\u001b[32m✔\u001b[39m \u001b[34mreadr  \u001b[39m 2.1.2     \u001b[32m✔\u001b[39m \u001b[34mforcats\u001b[39m 0.5.1\n",
      "\n",
      "── \u001b[1mConflicts\u001b[22m ────────────────────────────────────────── tidyverse_conflicts() ──\n",
      "\u001b[31m✖\u001b[39m \u001b[34mdplyr\u001b[39m::\u001b[32mfilter()\u001b[39m masks \u001b[34mstats\u001b[39m::filter()\n",
      "\u001b[31m✖\u001b[39m \u001b[34mdplyr\u001b[39m::\u001b[32mlag()\u001b[39m    masks \u001b[34mstats\u001b[39m::lag()\n",
      "\n",
      "Loading required package: lattice\n",
      "\n",
      "\n",
      "Attaching package: ‘caret’\n",
      "\n",
      "\n",
      "The following object is masked from ‘package:purrr’:\n",
      "\n",
      "    lift\n",
      "\n",
      "\n",
      "Loading required package: survival\n",
      "\n",
      "\n",
      "Attaching package: ‘survival’\n",
      "\n",
      "\n",
      "The following object is masked from ‘package:caret’:\n",
      "\n",
      "    cluster\n",
      "\n",
      "\n",
      "Loading required package: Formula\n",
      "\n",
      "\n",
      "Attaching package: ‘Hmisc’\n",
      "\n",
      "\n",
      "The following object is masked from ‘package:e1071’:\n",
      "\n",
      "    impute\n",
      "\n",
      "\n",
      "The following objects are masked from ‘package:dplyr’:\n",
      "\n",
      "    src, summarize\n",
      "\n",
      "\n",
      "The following objects are masked from ‘package:base’:\n",
      "\n",
      "    format.pval, units\n",
      "\n",
      "\n",
      "Loading required package: Matrix\n",
      "\n",
      "\n",
      "Attaching package: ‘Matrix’\n",
      "\n",
      "\n",
      "The following objects are masked from ‘package:tidyr’:\n",
      "\n",
      "    expand, pack, unpack\n",
      "\n",
      "\n",
      "Loaded glmnet 4.1-3\n",
      "\n",
      "Type 'citation(\"pROC\")' for a citation.\n",
      "\n",
      "\n",
      "Attaching package: ‘pROC’\n",
      "\n",
      "\n",
      "The following objects are masked from ‘package:stats’:\n",
      "\n",
      "    cov, smooth, var\n",
      "\n",
      "\n",
      "randomForest 4.7-1\n",
      "\n",
      "Type rfNews() to see new features/changes/bug fixes.\n",
      "\n",
      "\n",
      "Attaching package: ‘randomForest’\n",
      "\n",
      "\n",
      "The following object is masked from ‘package:dplyr’:\n",
      "\n",
      "    combine\n",
      "\n",
      "\n",
      "The following object is masked from ‘package:ggplot2’:\n",
      "\n",
      "    margin\n",
      "\n",
      "\n",
      "\u001b[1mRows: \u001b[22m\u001b[34m59\u001b[39m \u001b[1mColumns: \u001b[22m\u001b[34m3873\u001b[39m\n",
      "\u001b[36m──\u001b[39m \u001b[1mColumn specification\u001b[22m \u001b[36m────────────────────────────────────────────────────────\u001b[39m\n",
      "\u001b[1mDelimiter:\u001b[22m \",\"\n",
      "\u001b[31mchr\u001b[39m    (1): sample\n",
      "\u001b[32mdbl\u001b[39m (3872): MF_2, MF_3, MF_4, MF_5, MF_6, MF_7, MF_11, MF_12, MF_13, MF_14, ...\n",
      "\n",
      "\u001b[36mℹ\u001b[39m Use `spec()` to retrieve the full column specification for this data.\n",
      "\u001b[36mℹ\u001b[39m Specify the column types or set `show_col_types = FALSE` to quiet this message.\n"
     ]
    }
   ],
   "source": [
    "setwd('/Users/alexis/Library/CloudStorage/OneDrive-UniversityofNorthCarolinaatChapelHill/CEMALB_DataAnalysisPM/Projects/P1002. Ecig Metabolomics NELF/P1002.3. Analyses/P1002.3.2. Smoking Status Prediction/Input')\n",
    "Output = ('/Users/alexis/Library/CloudStorage/OneDrive-UniversityofNorthCarolinaatChapelHill/CEMALB_DataAnalysisPM/Projects/P1002. Ecig Metabolomics NELF/P1002.3. Analyses/P1002.3.2. Smoking Status Prediction/Output')\n",
    "cur_date = \"050522\"\n",
    "\n",
    "library(readxl)\n",
    "library(tidyverse)\n",
    "library(caret)\n",
    "library(e1071)\n",
    "library(Hmisc)\n",
    "library(glmnet)\n",
    "library(pROC)\n",
    "library(randomForest)\n",
    "\n",
    "#reading in file\n",
    "molecular_feature_df = read_csv(\"20220217_mf_qrilc_w40.csv\") %>%\n",
    "     rename(Smoking_Status = sample)\n",
    "demographics_data = data.frame(read_excel(\"SubjectInfo_022822.xlsx\", sheet = 2))"
   ]
  },
  {
   "cell_type": "code",
   "execution_count": 2,
   "id": "cd337579",
   "metadata": {},
   "outputs": [
    {
     "data": {
      "text/html": [
       "<table class=\"dataframe\">\n",
       "<caption>A tibble: 6 × 3873</caption>\n",
       "<thead>\n",
       "\t<tr><th scope=col>Smoking_Status</th><th scope=col>MF_2</th><th scope=col>MF_3</th><th scope=col>MF_4</th><th scope=col>MF_5</th><th scope=col>MF_6</th><th scope=col>MF_7</th><th scope=col>MF_11</th><th scope=col>MF_12</th><th scope=col>MF_13</th><th scope=col>⋯</th><th scope=col>MF_62853</th><th scope=col>MF_63431</th><th scope=col>MF_63701</th><th scope=col>MF_64025</th><th scope=col>MF_64936</th><th scope=col>MF_65532</th><th scope=col>MF_68286</th><th scope=col>MF_73340</th><th scope=col>MF_77165</th><th scope=col>MF_78976</th></tr>\n",
       "\t<tr><th scope=col>&lt;chr&gt;</th><th scope=col>&lt;dbl&gt;</th><th scope=col>&lt;dbl&gt;</th><th scope=col>&lt;dbl&gt;</th><th scope=col>&lt;dbl&gt;</th><th scope=col>&lt;dbl&gt;</th><th scope=col>&lt;dbl&gt;</th><th scope=col>&lt;dbl&gt;</th><th scope=col>&lt;dbl&gt;</th><th scope=col>&lt;dbl&gt;</th><th scope=col>⋯</th><th scope=col>&lt;dbl&gt;</th><th scope=col>&lt;dbl&gt;</th><th scope=col>&lt;dbl&gt;</th><th scope=col>&lt;dbl&gt;</th><th scope=col>&lt;dbl&gt;</th><th scope=col>&lt;dbl&gt;</th><th scope=col>&lt;dbl&gt;</th><th scope=col>&lt;dbl&gt;</th><th scope=col>&lt;dbl&gt;</th><th scope=col>&lt;dbl&gt;</th></tr>\n",
       "</thead>\n",
       "<tbody>\n",
       "\t<tr><td>NS_070</td><td>19.86186</td><td>17.86943</td><td>19.21394</td><td>18.02809</td><td>17.46636</td><td>18.34174</td><td>18.41799</td><td>19.31361</td><td>19.46777</td><td>⋯</td><td>19.06974</td><td>19.10260</td><td>17.17255</td><td>16.92465</td><td>17.09794</td><td>19.06203</td><td>19.13556</td><td>16.93182</td><td>17.55702</td><td>17.05593</td></tr>\n",
       "\t<tr><td>NS_110</td><td>21.08622</td><td>22.58769</td><td>21.05378</td><td>17.93584</td><td>17.33098</td><td>20.41479</td><td>20.37485</td><td>21.12876</td><td>21.01488</td><td>⋯</td><td>18.02560</td><td>17.82667</td><td>19.37426</td><td>16.23450</td><td>19.06421</td><td>18.06379</td><td>19.39103</td><td>16.72112</td><td>19.27343</td><td>19.30881</td></tr>\n",
       "\t<tr><td>NS_143</td><td>13.12099</td><td>14.44659</td><td>13.46827</td><td>16.51009</td><td>14.93820</td><td>15.66299</td><td>15.72731</td><td>13.78698</td><td>15.18975</td><td>⋯</td><td>19.14095</td><td>19.02411</td><td>19.56175</td><td>17.17120</td><td>16.97302</td><td>19.49121</td><td>17.09470</td><td>15.56214</td><td>19.55038</td><td>19.54912</td></tr>\n",
       "\t<tr><td>NS_152</td><td>21.60361</td><td>23.22761</td><td>21.99010</td><td>16.22547</td><td>17.59020</td><td>21.53908</td><td>21.14531</td><td>22.07857</td><td>21.97502</td><td>⋯</td><td>19.28751</td><td>19.54886</td><td>16.78848</td><td>16.46750</td><td>19.47635</td><td>19.44477</td><td>16.99617</td><td>16.09531</td><td>19.28810</td><td>19.32788</td></tr>\n",
       "\t<tr><td>NS_187</td><td>19.43885</td><td>17.93876</td><td>19.68977</td><td>16.73360</td><td>17.88844</td><td>17.81758</td><td>17.64979</td><td>19.64269</td><td>19.32233</td><td>⋯</td><td>16.70042</td><td>17.85969</td><td>18.97406</td><td>18.18813</td><td>18.50336</td><td>19.19085</td><td>19.41757</td><td>16.88993</td><td>19.35678</td><td>18.95550</td></tr>\n",
       "\t<tr><td>NS_196</td><td>22.53459</td><td>24.36662</td><td>22.77595</td><td>16.69956</td><td>16.38411</td><td>22.55912</td><td>17.30008</td><td>22.80146</td><td>22.09338</td><td>⋯</td><td>16.86999</td><td>15.82637</td><td>19.46467</td><td>16.97149</td><td>17.46699</td><td>16.32598</td><td>15.62938</td><td>17.37207</td><td>15.84334</td><td>17.82000</td></tr>\n",
       "</tbody>\n",
       "</table>\n"
      ],
      "text/latex": [
       "A tibble: 6 × 3873\n",
       "\\begin{tabular}{lllllllllllllllllllll}\n",
       " Smoking\\_Status & MF\\_2 & MF\\_3 & MF\\_4 & MF\\_5 & MF\\_6 & MF\\_7 & MF\\_11 & MF\\_12 & MF\\_13 & ⋯ & MF\\_62853 & MF\\_63431 & MF\\_63701 & MF\\_64025 & MF\\_64936 & MF\\_65532 & MF\\_68286 & MF\\_73340 & MF\\_77165 & MF\\_78976\\\\\n",
       " <chr> & <dbl> & <dbl> & <dbl> & <dbl> & <dbl> & <dbl> & <dbl> & <dbl> & <dbl> & ⋯ & <dbl> & <dbl> & <dbl> & <dbl> & <dbl> & <dbl> & <dbl> & <dbl> & <dbl> & <dbl>\\\\\n",
       "\\hline\n",
       "\t NS\\_070 & 19.86186 & 17.86943 & 19.21394 & 18.02809 & 17.46636 & 18.34174 & 18.41799 & 19.31361 & 19.46777 & ⋯ & 19.06974 & 19.10260 & 17.17255 & 16.92465 & 17.09794 & 19.06203 & 19.13556 & 16.93182 & 17.55702 & 17.05593\\\\\n",
       "\t NS\\_110 & 21.08622 & 22.58769 & 21.05378 & 17.93584 & 17.33098 & 20.41479 & 20.37485 & 21.12876 & 21.01488 & ⋯ & 18.02560 & 17.82667 & 19.37426 & 16.23450 & 19.06421 & 18.06379 & 19.39103 & 16.72112 & 19.27343 & 19.30881\\\\\n",
       "\t NS\\_143 & 13.12099 & 14.44659 & 13.46827 & 16.51009 & 14.93820 & 15.66299 & 15.72731 & 13.78698 & 15.18975 & ⋯ & 19.14095 & 19.02411 & 19.56175 & 17.17120 & 16.97302 & 19.49121 & 17.09470 & 15.56214 & 19.55038 & 19.54912\\\\\n",
       "\t NS\\_152 & 21.60361 & 23.22761 & 21.99010 & 16.22547 & 17.59020 & 21.53908 & 21.14531 & 22.07857 & 21.97502 & ⋯ & 19.28751 & 19.54886 & 16.78848 & 16.46750 & 19.47635 & 19.44477 & 16.99617 & 16.09531 & 19.28810 & 19.32788\\\\\n",
       "\t NS\\_187 & 19.43885 & 17.93876 & 19.68977 & 16.73360 & 17.88844 & 17.81758 & 17.64979 & 19.64269 & 19.32233 & ⋯ & 16.70042 & 17.85969 & 18.97406 & 18.18813 & 18.50336 & 19.19085 & 19.41757 & 16.88993 & 19.35678 & 18.95550\\\\\n",
       "\t NS\\_196 & 22.53459 & 24.36662 & 22.77595 & 16.69956 & 16.38411 & 22.55912 & 17.30008 & 22.80146 & 22.09338 & ⋯ & 16.86999 & 15.82637 & 19.46467 & 16.97149 & 17.46699 & 16.32598 & 15.62938 & 17.37207 & 15.84334 & 17.82000\\\\\n",
       "\\end{tabular}\n"
      ],
      "text/markdown": [
       "\n",
       "A tibble: 6 × 3873\n",
       "\n",
       "| Smoking_Status &lt;chr&gt; | MF_2 &lt;dbl&gt; | MF_3 &lt;dbl&gt; | MF_4 &lt;dbl&gt; | MF_5 &lt;dbl&gt; | MF_6 &lt;dbl&gt; | MF_7 &lt;dbl&gt; | MF_11 &lt;dbl&gt; | MF_12 &lt;dbl&gt; | MF_13 &lt;dbl&gt; | ⋯ ⋯ | MF_62853 &lt;dbl&gt; | MF_63431 &lt;dbl&gt; | MF_63701 &lt;dbl&gt; | MF_64025 &lt;dbl&gt; | MF_64936 &lt;dbl&gt; | MF_65532 &lt;dbl&gt; | MF_68286 &lt;dbl&gt; | MF_73340 &lt;dbl&gt; | MF_77165 &lt;dbl&gt; | MF_78976 &lt;dbl&gt; |\n",
       "|---|---|---|---|---|---|---|---|---|---|---|---|---|---|---|---|---|---|---|---|---|\n",
       "| NS_070 | 19.86186 | 17.86943 | 19.21394 | 18.02809 | 17.46636 | 18.34174 | 18.41799 | 19.31361 | 19.46777 | ⋯ | 19.06974 | 19.10260 | 17.17255 | 16.92465 | 17.09794 | 19.06203 | 19.13556 | 16.93182 | 17.55702 | 17.05593 |\n",
       "| NS_110 | 21.08622 | 22.58769 | 21.05378 | 17.93584 | 17.33098 | 20.41479 | 20.37485 | 21.12876 | 21.01488 | ⋯ | 18.02560 | 17.82667 | 19.37426 | 16.23450 | 19.06421 | 18.06379 | 19.39103 | 16.72112 | 19.27343 | 19.30881 |\n",
       "| NS_143 | 13.12099 | 14.44659 | 13.46827 | 16.51009 | 14.93820 | 15.66299 | 15.72731 | 13.78698 | 15.18975 | ⋯ | 19.14095 | 19.02411 | 19.56175 | 17.17120 | 16.97302 | 19.49121 | 17.09470 | 15.56214 | 19.55038 | 19.54912 |\n",
       "| NS_152 | 21.60361 | 23.22761 | 21.99010 | 16.22547 | 17.59020 | 21.53908 | 21.14531 | 22.07857 | 21.97502 | ⋯ | 19.28751 | 19.54886 | 16.78848 | 16.46750 | 19.47635 | 19.44477 | 16.99617 | 16.09531 | 19.28810 | 19.32788 |\n",
       "| NS_187 | 19.43885 | 17.93876 | 19.68977 | 16.73360 | 17.88844 | 17.81758 | 17.64979 | 19.64269 | 19.32233 | ⋯ | 16.70042 | 17.85969 | 18.97406 | 18.18813 | 18.50336 | 19.19085 | 19.41757 | 16.88993 | 19.35678 | 18.95550 |\n",
       "| NS_196 | 22.53459 | 24.36662 | 22.77595 | 16.69956 | 16.38411 | 22.55912 | 17.30008 | 22.80146 | 22.09338 | ⋯ | 16.86999 | 15.82637 | 19.46467 | 16.97149 | 17.46699 | 16.32598 | 15.62938 | 17.37207 | 15.84334 | 17.82000 |\n",
       "\n"
      ],
      "text/plain": [
       "  Smoking_Status MF_2     MF_3     MF_4     MF_5     MF_6     MF_7     MF_11   \n",
       "1 NS_070         19.86186 17.86943 19.21394 18.02809 17.46636 18.34174 18.41799\n",
       "2 NS_110         21.08622 22.58769 21.05378 17.93584 17.33098 20.41479 20.37485\n",
       "3 NS_143         13.12099 14.44659 13.46827 16.51009 14.93820 15.66299 15.72731\n",
       "4 NS_152         21.60361 23.22761 21.99010 16.22547 17.59020 21.53908 21.14531\n",
       "5 NS_187         19.43885 17.93876 19.68977 16.73360 17.88844 17.81758 17.64979\n",
       "6 NS_196         22.53459 24.36662 22.77595 16.69956 16.38411 22.55912 17.30008\n",
       "  MF_12    MF_13    ⋯ MF_62853 MF_63431 MF_63701 MF_64025 MF_64936 MF_65532\n",
       "1 19.31361 19.46777 ⋯ 19.06974 19.10260 17.17255 16.92465 17.09794 19.06203\n",
       "2 21.12876 21.01488 ⋯ 18.02560 17.82667 19.37426 16.23450 19.06421 18.06379\n",
       "3 13.78698 15.18975 ⋯ 19.14095 19.02411 19.56175 17.17120 16.97302 19.49121\n",
       "4 22.07857 21.97502 ⋯ 19.28751 19.54886 16.78848 16.46750 19.47635 19.44477\n",
       "5 19.64269 19.32233 ⋯ 16.70042 17.85969 18.97406 18.18813 18.50336 19.19085\n",
       "6 22.80146 22.09338 ⋯ 16.86999 15.82637 19.46467 16.97149 17.46699 16.32598\n",
       "  MF_68286 MF_73340 MF_77165 MF_78976\n",
       "1 19.13556 16.93182 17.55702 17.05593\n",
       "2 19.39103 16.72112 19.27343 19.30881\n",
       "3 17.09470 15.56214 19.55038 19.54912\n",
       "4 16.99617 16.09531 19.28810 19.32788\n",
       "5 19.41757 16.88993 19.35678 18.95550\n",
       "6 15.62938 17.37207 15.84334 17.82000"
      ]
     },
     "metadata": {},
     "output_type": "display_data"
    },
    {
     "data": {
      "text/html": [
       "<table class=\"dataframe\">\n",
       "<caption>A data.frame: 6 × 7</caption>\n",
       "<thead>\n",
       "\t<tr><th></th><th scope=col>Original_SubjectID</th><th scope=col>SubjectID</th><th scope=col>Exposure</th><th scope=col>Sex</th><th scope=col>Race</th><th scope=col>Age</th><th scope=col>BMI</th></tr>\n",
       "\t<tr><th></th><th scope=col>&lt;chr&gt;</th><th scope=col>&lt;chr&gt;</th><th scope=col>&lt;chr&gt;</th><th scope=col>&lt;chr&gt;</th><th scope=col>&lt;chr&gt;</th><th scope=col>&lt;dbl&gt;</th><th scope=col>&lt;dbl&gt;</th></tr>\n",
       "</thead>\n",
       "<tbody>\n",
       "\t<tr><th scope=row>1</th><td>NBL214</td><td>Ecig_214</td><td>Ecig</td><td>F</td><td>O </td><td>19</td><td>20.9</td></tr>\n",
       "\t<tr><th scope=row>2</th><td>NBL221</td><td>Ecig_221</td><td>Ecig</td><td>M</td><td>As</td><td>21</td><td>24.0</td></tr>\n",
       "\t<tr><th scope=row>3</th><td>NBL222</td><td>Ecig_222</td><td>Ecig</td><td>F</td><td>W </td><td>20</td><td>30.2</td></tr>\n",
       "\t<tr><th scope=row>4</th><td>NBL223</td><td>Ecig_223</td><td>Ecig</td><td>F</td><td>B </td><td>19</td><td>19.9</td></tr>\n",
       "\t<tr><th scope=row>5</th><td>NBL229</td><td>Ecig_229</td><td>Ecig</td><td>F</td><td>W </td><td>39</td><td>35.1</td></tr>\n",
       "\t<tr><th scope=row>6</th><td>NBL230</td><td>Ecig_230</td><td>Ecig</td><td>F</td><td>W </td><td>40</td><td>45.6</td></tr>\n",
       "</tbody>\n",
       "</table>\n"
      ],
      "text/latex": [
       "A data.frame: 6 × 7\n",
       "\\begin{tabular}{r|lllllll}\n",
       "  & Original\\_SubjectID & SubjectID & Exposure & Sex & Race & Age & BMI\\\\\n",
       "  & <chr> & <chr> & <chr> & <chr> & <chr> & <dbl> & <dbl>\\\\\n",
       "\\hline\n",
       "\t1 & NBL214 & Ecig\\_214 & Ecig & F & O  & 19 & 20.9\\\\\n",
       "\t2 & NBL221 & Ecig\\_221 & Ecig & M & As & 21 & 24.0\\\\\n",
       "\t3 & NBL222 & Ecig\\_222 & Ecig & F & W  & 20 & 30.2\\\\\n",
       "\t4 & NBL223 & Ecig\\_223 & Ecig & F & B  & 19 & 19.9\\\\\n",
       "\t5 & NBL229 & Ecig\\_229 & Ecig & F & W  & 39 & 35.1\\\\\n",
       "\t6 & NBL230 & Ecig\\_230 & Ecig & F & W  & 40 & 45.6\\\\\n",
       "\\end{tabular}\n"
      ],
      "text/markdown": [
       "\n",
       "A data.frame: 6 × 7\n",
       "\n",
       "| <!--/--> | Original_SubjectID &lt;chr&gt; | SubjectID &lt;chr&gt; | Exposure &lt;chr&gt; | Sex &lt;chr&gt; | Race &lt;chr&gt; | Age &lt;dbl&gt; | BMI &lt;dbl&gt; |\n",
       "|---|---|---|---|---|---|---|---|\n",
       "| 1 | NBL214 | Ecig_214 | Ecig | F | O  | 19 | 20.9 |\n",
       "| 2 | NBL221 | Ecig_221 | Ecig | M | As | 21 | 24.0 |\n",
       "| 3 | NBL222 | Ecig_222 | Ecig | F | W  | 20 | 30.2 |\n",
       "| 4 | NBL223 | Ecig_223 | Ecig | F | B  | 19 | 19.9 |\n",
       "| 5 | NBL229 | Ecig_229 | Ecig | F | W  | 39 | 35.1 |\n",
       "| 6 | NBL230 | Ecig_230 | Ecig | F | W  | 40 | 45.6 |\n",
       "\n"
      ],
      "text/plain": [
       "  Original_SubjectID SubjectID Exposure Sex Race Age BMI \n",
       "1 NBL214             Ecig_214  Ecig     F   O    19  20.9\n",
       "2 NBL221             Ecig_221  Ecig     M   As   21  24.0\n",
       "3 NBL222             Ecig_222  Ecig     F   W    20  30.2\n",
       "4 NBL223             Ecig_223  Ecig     F   B    19  19.9\n",
       "5 NBL229             Ecig_229  Ecig     F   W    39  35.1\n",
       "6 NBL230             Ecig_230  Ecig     F   W    40  45.6"
      ]
     },
     "metadata": {},
     "output_type": "display_data"
    }
   ],
   "source": [
    "head(molecular_feature_df)\n",
    "head(demographics_data)"
   ]
  },
  {
   "cell_type": "markdown",
   "id": "fa773ddc",
   "metadata": {},
   "source": [
    "Running random forest models including sex as another predictor. "
   ]
  },
  {
   "cell_type": "code",
   "execution_count": 3,
   "id": "2bb34bb9",
   "metadata": {},
   "outputs": [
    {
     "name": "stderr",
     "output_type": "stream",
     "text": [
      "\u001b[1m\u001b[22mJoining, by = \"Smoking_Status\"\n"
     ]
    },
    {
     "data": {
      "text/html": [
       "<table class=\"dataframe\">\n",
       "<caption>A data.frame: 6 × 3874</caption>\n",
       "<thead>\n",
       "\t<tr><th></th><th scope=col>Smoking_Status</th><th scope=col>Sex</th><th scope=col>MF_2</th><th scope=col>MF_3</th><th scope=col>MF_4</th><th scope=col>MF_5</th><th scope=col>MF_6</th><th scope=col>MF_7</th><th scope=col>MF_11</th><th scope=col>MF_12</th><th scope=col>⋯</th><th scope=col>MF_62853</th><th scope=col>MF_63431</th><th scope=col>MF_63701</th><th scope=col>MF_64025</th><th scope=col>MF_64936</th><th scope=col>MF_65532</th><th scope=col>MF_68286</th><th scope=col>MF_73340</th><th scope=col>MF_77165</th><th scope=col>MF_78976</th></tr>\n",
       "\t<tr><th></th><th scope=col>&lt;fct&gt;</th><th scope=col>&lt;fct&gt;</th><th scope=col>&lt;dbl&gt;</th><th scope=col>&lt;dbl&gt;</th><th scope=col>&lt;dbl&gt;</th><th scope=col>&lt;dbl&gt;</th><th scope=col>&lt;dbl&gt;</th><th scope=col>&lt;dbl&gt;</th><th scope=col>&lt;dbl&gt;</th><th scope=col>&lt;dbl&gt;</th><th scope=col>⋯</th><th scope=col>&lt;dbl&gt;</th><th scope=col>&lt;dbl&gt;</th><th scope=col>&lt;dbl&gt;</th><th scope=col>&lt;dbl&gt;</th><th scope=col>&lt;dbl&gt;</th><th scope=col>&lt;dbl&gt;</th><th scope=col>&lt;dbl&gt;</th><th scope=col>&lt;dbl&gt;</th><th scope=col>&lt;dbl&gt;</th><th scope=col>&lt;dbl&gt;</th></tr>\n",
       "</thead>\n",
       "<tbody>\n",
       "\t<tr><th scope=row>1</th><td>1</td><td>0</td><td>20.95330</td><td>21.69571</td><td>20.65056</td><td>21.89841</td><td>17.48492</td><td>20.32206</td><td>19.86974</td><td>20.76839</td><td>⋯</td><td>19.28804</td><td>19.28720</td><td>19.50373</td><td>18.00832</td><td>18.27601</td><td>17.03340</td><td>18.93808</td><td>18.98799</td><td>18.67967</td><td>18.27810</td></tr>\n",
       "\t<tr><th scope=row>2</th><td>1</td><td>1</td><td>22.40718</td><td>24.32335</td><td>22.70868</td><td>21.28516</td><td>16.42013</td><td>22.63653</td><td>15.58863</td><td>22.70086</td><td>⋯</td><td>16.91953</td><td>19.17695</td><td>18.31817</td><td>17.24447</td><td>14.91195</td><td>19.04946</td><td>18.60969</td><td>19.40770</td><td>19.44686</td><td>19.20890</td></tr>\n",
       "\t<tr><th scope=row>3</th><td>1</td><td>0</td><td>22.45404</td><td>24.87327</td><td>23.44948</td><td>27.79174</td><td>17.51114</td><td>22.93427</td><td>22.70884</td><td>22.74215</td><td>⋯</td><td>16.74891</td><td>19.33585</td><td>17.32943</td><td>19.62663</td><td>17.29552</td><td>19.11852</td><td>19.29798</td><td>16.80878</td><td>19.39754</td><td>19.30157</td></tr>\n",
       "\t<tr><th scope=row>4</th><td>1</td><td>0</td><td>22.92114</td><td>24.83565</td><td>23.21817</td><td>21.58997</td><td>17.88701</td><td>23.46244</td><td>22.49399</td><td>23.15348</td><td>⋯</td><td>16.74502</td><td>19.10796</td><td>18.55441</td><td>18.27226</td><td>18.45050</td><td>19.35907</td><td>19.55371</td><td>16.48129</td><td>19.43559</td><td>18.76511</td></tr>\n",
       "\t<tr><th scope=row>5</th><td>1</td><td>0</td><td>21.50164</td><td>22.86175</td><td>21.55396</td><td>26.46040</td><td>18.77247</td><td>21.33890</td><td>21.03399</td><td>20.66345</td><td>⋯</td><td>19.04752</td><td>19.12115</td><td>17.31393</td><td>18.05895</td><td>18.29395</td><td>14.99174</td><td>18.71581</td><td>19.21495</td><td>17.28354</td><td>16.49232</td></tr>\n",
       "\t<tr><th scope=row>6</th><td>1</td><td>0</td><td>22.01246</td><td>24.00816</td><td>22.54138</td><td>26.95046</td><td>18.68449</td><td>22.54351</td><td>22.18006</td><td>22.52930</td><td>⋯</td><td>18.96422</td><td>19.59157</td><td>19.97567</td><td>19.41389</td><td>19.22670</td><td>16.27022</td><td>19.10242</td><td>19.89876</td><td>19.17365</td><td>18.97580</td></tr>\n",
       "</tbody>\n",
       "</table>\n"
      ],
      "text/latex": [
       "A data.frame: 6 × 3874\n",
       "\\begin{tabular}{r|lllllllllllllllllllll}\n",
       "  & Smoking\\_Status & Sex & MF\\_2 & MF\\_3 & MF\\_4 & MF\\_5 & MF\\_6 & MF\\_7 & MF\\_11 & MF\\_12 & ⋯ & MF\\_62853 & MF\\_63431 & MF\\_63701 & MF\\_64025 & MF\\_64936 & MF\\_65532 & MF\\_68286 & MF\\_73340 & MF\\_77165 & MF\\_78976\\\\\n",
       "  & <fct> & <fct> & <dbl> & <dbl> & <dbl> & <dbl> & <dbl> & <dbl> & <dbl> & <dbl> & ⋯ & <dbl> & <dbl> & <dbl> & <dbl> & <dbl> & <dbl> & <dbl> & <dbl> & <dbl> & <dbl>\\\\\n",
       "\\hline\n",
       "\t1 & 1 & 0 & 20.95330 & 21.69571 & 20.65056 & 21.89841 & 17.48492 & 20.32206 & 19.86974 & 20.76839 & ⋯ & 19.28804 & 19.28720 & 19.50373 & 18.00832 & 18.27601 & 17.03340 & 18.93808 & 18.98799 & 18.67967 & 18.27810\\\\\n",
       "\t2 & 1 & 1 & 22.40718 & 24.32335 & 22.70868 & 21.28516 & 16.42013 & 22.63653 & 15.58863 & 22.70086 & ⋯ & 16.91953 & 19.17695 & 18.31817 & 17.24447 & 14.91195 & 19.04946 & 18.60969 & 19.40770 & 19.44686 & 19.20890\\\\\n",
       "\t3 & 1 & 0 & 22.45404 & 24.87327 & 23.44948 & 27.79174 & 17.51114 & 22.93427 & 22.70884 & 22.74215 & ⋯ & 16.74891 & 19.33585 & 17.32943 & 19.62663 & 17.29552 & 19.11852 & 19.29798 & 16.80878 & 19.39754 & 19.30157\\\\\n",
       "\t4 & 1 & 0 & 22.92114 & 24.83565 & 23.21817 & 21.58997 & 17.88701 & 23.46244 & 22.49399 & 23.15348 & ⋯ & 16.74502 & 19.10796 & 18.55441 & 18.27226 & 18.45050 & 19.35907 & 19.55371 & 16.48129 & 19.43559 & 18.76511\\\\\n",
       "\t5 & 1 & 0 & 21.50164 & 22.86175 & 21.55396 & 26.46040 & 18.77247 & 21.33890 & 21.03399 & 20.66345 & ⋯ & 19.04752 & 19.12115 & 17.31393 & 18.05895 & 18.29395 & 14.99174 & 18.71581 & 19.21495 & 17.28354 & 16.49232\\\\\n",
       "\t6 & 1 & 0 & 22.01246 & 24.00816 & 22.54138 & 26.95046 & 18.68449 & 22.54351 & 22.18006 & 22.52930 & ⋯ & 18.96422 & 19.59157 & 19.97567 & 19.41389 & 19.22670 & 16.27022 & 19.10242 & 19.89876 & 19.17365 & 18.97580\\\\\n",
       "\\end{tabular}\n"
      ],
      "text/markdown": [
       "\n",
       "A data.frame: 6 × 3874\n",
       "\n",
       "| <!--/--> | Smoking_Status &lt;fct&gt; | Sex &lt;fct&gt; | MF_2 &lt;dbl&gt; | MF_3 &lt;dbl&gt; | MF_4 &lt;dbl&gt; | MF_5 &lt;dbl&gt; | MF_6 &lt;dbl&gt; | MF_7 &lt;dbl&gt; | MF_11 &lt;dbl&gt; | MF_12 &lt;dbl&gt; | ⋯ ⋯ | MF_62853 &lt;dbl&gt; | MF_63431 &lt;dbl&gt; | MF_63701 &lt;dbl&gt; | MF_64025 &lt;dbl&gt; | MF_64936 &lt;dbl&gt; | MF_65532 &lt;dbl&gt; | MF_68286 &lt;dbl&gt; | MF_73340 &lt;dbl&gt; | MF_77165 &lt;dbl&gt; | MF_78976 &lt;dbl&gt; |\n",
       "|---|---|---|---|---|---|---|---|---|---|---|---|---|---|---|---|---|---|---|---|---|---|\n",
       "| 1 | 1 | 0 | 20.95330 | 21.69571 | 20.65056 | 21.89841 | 17.48492 | 20.32206 | 19.86974 | 20.76839 | ⋯ | 19.28804 | 19.28720 | 19.50373 | 18.00832 | 18.27601 | 17.03340 | 18.93808 | 18.98799 | 18.67967 | 18.27810 |\n",
       "| 2 | 1 | 1 | 22.40718 | 24.32335 | 22.70868 | 21.28516 | 16.42013 | 22.63653 | 15.58863 | 22.70086 | ⋯ | 16.91953 | 19.17695 | 18.31817 | 17.24447 | 14.91195 | 19.04946 | 18.60969 | 19.40770 | 19.44686 | 19.20890 |\n",
       "| 3 | 1 | 0 | 22.45404 | 24.87327 | 23.44948 | 27.79174 | 17.51114 | 22.93427 | 22.70884 | 22.74215 | ⋯ | 16.74891 | 19.33585 | 17.32943 | 19.62663 | 17.29552 | 19.11852 | 19.29798 | 16.80878 | 19.39754 | 19.30157 |\n",
       "| 4 | 1 | 0 | 22.92114 | 24.83565 | 23.21817 | 21.58997 | 17.88701 | 23.46244 | 22.49399 | 23.15348 | ⋯ | 16.74502 | 19.10796 | 18.55441 | 18.27226 | 18.45050 | 19.35907 | 19.55371 | 16.48129 | 19.43559 | 18.76511 |\n",
       "| 5 | 1 | 0 | 21.50164 | 22.86175 | 21.55396 | 26.46040 | 18.77247 | 21.33890 | 21.03399 | 20.66345 | ⋯ | 19.04752 | 19.12115 | 17.31393 | 18.05895 | 18.29395 | 14.99174 | 18.71581 | 19.21495 | 17.28354 | 16.49232 |\n",
       "| 6 | 1 | 0 | 22.01246 | 24.00816 | 22.54138 | 26.95046 | 18.68449 | 22.54351 | 22.18006 | 22.52930 | ⋯ | 18.96422 | 19.59157 | 19.97567 | 19.41389 | 19.22670 | 16.27022 | 19.10242 | 19.89876 | 19.17365 | 18.97580 |\n",
       "\n"
      ],
      "text/plain": [
       "  Smoking_Status Sex MF_2     MF_3     MF_4     MF_5     MF_6     MF_7    \n",
       "1 1              0   20.95330 21.69571 20.65056 21.89841 17.48492 20.32206\n",
       "2 1              1   22.40718 24.32335 22.70868 21.28516 16.42013 22.63653\n",
       "3 1              0   22.45404 24.87327 23.44948 27.79174 17.51114 22.93427\n",
       "4 1              0   22.92114 24.83565 23.21817 21.58997 17.88701 23.46244\n",
       "5 1              0   21.50164 22.86175 21.55396 26.46040 18.77247 21.33890\n",
       "6 1              0   22.01246 24.00816 22.54138 26.95046 18.68449 22.54351\n",
       "  MF_11    MF_12    ⋯ MF_62853 MF_63431 MF_63701 MF_64025 MF_64936 MF_65532\n",
       "1 19.86974 20.76839 ⋯ 19.28804 19.28720 19.50373 18.00832 18.27601 17.03340\n",
       "2 15.58863 22.70086 ⋯ 16.91953 19.17695 18.31817 17.24447 14.91195 19.04946\n",
       "3 22.70884 22.74215 ⋯ 16.74891 19.33585 17.32943 19.62663 17.29552 19.11852\n",
       "4 22.49399 23.15348 ⋯ 16.74502 19.10796 18.55441 18.27226 18.45050 19.35907\n",
       "5 21.03399 20.66345 ⋯ 19.04752 19.12115 17.31393 18.05895 18.29395 14.99174\n",
       "6 22.18006 22.52930 ⋯ 18.96422 19.59157 19.97567 19.41389 19.22670 16.27022\n",
       "  MF_68286 MF_73340 MF_77165 MF_78976\n",
       "1 18.93808 18.98799 18.67967 18.27810\n",
       "2 18.60969 19.40770 19.44686 19.20890\n",
       "3 19.29798 16.80878 19.39754 19.30157\n",
       "4 19.55371 16.48129 19.43559 18.76511\n",
       "5 18.71581 19.21495 17.28354 16.49232\n",
       "6 19.10242 19.89876 19.17365 18.97580"
      ]
     },
     "metadata": {},
     "output_type": "display_data"
    }
   ],
   "source": [
    "# creating 1 df\n",
    "demographics_data = demographics_data %>%\n",
    "    select(c(\"SubjectID\", \"Sex\")) %>%\n",
    "    rename(Smoking_Status = SubjectID)\n",
    "           \n",
    "mf_df = full_join(demographics_data, molecular_feature_df) %>%\n",
    "    #necessary to put it into factor and relevel, so algorithm understands which data is considered baseline\n",
    "    mutate(Smoking_Status = relevel(factor(ifelse(grepl(\"Ecig\", Smoking_Status), 1, 0)), ref = \"0\"),\n",
    "          Sex = relevel(factor(ifelse(Sex == \"M\", 1, 0)), ref = \"0\"))\n",
    "\n",
    "mf_df_wo_nicotine = mf_df %>%\n",
    "    #removing nicotine and cotinine\n",
    "    select(-c(MF_97, MF_5))\n",
    "\n",
    "head(mf_df)"
   ]
  },
  {
   "cell_type": "markdown",
   "id": "afdbdc5b",
   "metadata": {},
   "source": [
    "# Random Forest\n",
    "\n",
    "- an ensemble learning method operating by constructing a multitude of decision trees at training time, which uses multiple methods to obtain a better predictive performance and includes bagging and random forest\n",
    "- algorithm uses a bootstrop aggregation, to reduce overfitting the training datset but only a subset of the features are used hence decorrelation of predictors"
   ]
  },
  {
   "cell_type": "code",
   "execution_count": 4,
   "id": "ca0635a0",
   "metadata": {},
   "outputs": [
    {
     "name": "stderr",
     "output_type": "stream",
     "text": [
      "Setting levels: control = 0, case = 1\n",
      "\n",
      "Setting direction: controls < cases\n",
      "\n",
      "Setting levels: control = 0, case = 1\n",
      "\n",
      "Setting direction: controls < cases\n",
      "\n",
      "Setting levels: control = 0, case = 1\n",
      "\n",
      "Setting direction: controls < cases\n",
      "\n",
      "Setting levels: control = 0, case = 1\n",
      "\n",
      "Setting direction: controls < cases\n",
      "\n",
      "Setting levels: control = 0, case = 1\n",
      "\n",
      "Setting direction: controls < cases\n",
      "\n",
      "Setting levels: control = 0, case = 1\n",
      "\n",
      "Setting direction: controls < cases\n",
      "\n",
      "Setting levels: control = 0, case = 1\n",
      "\n",
      "Setting direction: controls < cases\n",
      "\n",
      "Setting levels: control = 0, case = 1\n",
      "\n",
      "Setting direction: controls < cases\n",
      "\n",
      "Setting levels: control = 0, case = 1\n",
      "\n",
      "Setting direction: controls < cases\n",
      "\n",
      "Setting levels: control = 0, case = 1\n",
      "\n",
      "Setting direction: controls < cases\n",
      "\n"
     ]
    }
   ],
   "source": [
    "rf_classification = function(dataset, outcome, pred_outcome){\n",
    "    #setting for reproducibility\n",
    "    set.seed(12)\n",
    "    #splitting data into training and testing sets\n",
    "    dataset_index = createFolds(dataset[[outcome]], k = 5) #5 fold CV\n",
    "\n",
    "    metrics = data.frame()\n",
    "    variable_importance_df = data.frame()\n",
    "    \n",
    "    for (i in 1:length(dataset_index)){\n",
    "        data_train = dataset[-dataset_index[[i]],]\n",
    "        data_test = dataset[dataset_index[[i]],]\n",
    "\n",
    "        ntree_values = c(50, 250, 500) #number of trees (not sure if we wanted something different)\n",
    "        p = dim(dataset)[2] - 1 #number of variables in dataset\n",
    "        mtry_values = c(p/2, sqrt(p), p)\n",
    "\n",
    "        #will use ntree and mtry values to determine which combination yields the smallest MSE\n",
    "        reg_rf_pred_tune = list()\n",
    "        rf_OOB_errors = list()\n",
    "        rf_error_df = data.frame()\n",
    "        for (j in 1:length(ntree_values)){\n",
    "            for (k in 1:length(mtry_values)){\n",
    "                reg_rf_pred_tune[[k]] = randomForest(as.formula(paste0(outcome, \"~.\")), data = data_train, \n",
    "                                                     ntree = ntree_values[j], mtry = mtry_values[k])\n",
    "                rf_OOB_errors[[k]] = data.frame(\"Tree Number\" = ntree_values[j], \"Variable Number\" = mtry_values[k], \n",
    "                                       \"OOB_errors\" = reg_rf_pred_tune[[k]]$err.rate[ntree_values[j],1])\n",
    "                rf_error_df = rbind(rf_error_df, rf_OOB_errors[[k]])\n",
    "            }\n",
    "        }\n",
    "\n",
    "        #finding the lowest OOB error using best number of predictors at split and refitting OG tree\n",
    "        best_oob_errors <- which(rf_error_df$OOB_errors == min(rf_error_df$OOB_errors))\n",
    "\n",
    "        reg_rf <- randomForest(as.formula(paste0(outcome, \"~.\")), data = data_train,\n",
    "        #need to go back and figure out how the number of trees/ variables make a difference even though\n",
    "        #the errors are the same!!!!\n",
    "                               ntree = rf_error_df$Tree.Number[min(best_oob_errors)], \n",
    "                               mtry = rf_error_df$Variable.Number[min(best_oob_errors)])\n",
    "\n",
    "        #predicting on test set\n",
    "        data_test[[pred_outcome]] = predict(reg_rf, newdata = data_test, type = \"response\")\n",
    "\n",
    "\n",
    "        matrix = confusionMatrix(data = data_test[[pred_outcome]], reference = data_test[[outcome]], \n",
    "                                     positive = \"1\")\n",
    "\n",
    "        #calculating AUC\n",
    "        auc = auc(response = data_test[[outcome]], predictor = factor(data_test[[pred_outcome]], ordered = TRUE))\n",
    "        #extracting accuracy, sens, spec, PPV to take mean later\n",
    "        matrix_values = data.frame(t(c(matrix$byClass[11])), t(c(matrix$byClass[1:3])), auc)\n",
    "        \n",
    "        #extracting variable importance\n",
    "        var_importance_values = data.frame(importance(reg_rf)) %>%\n",
    "            rownames_to_column(var = \"MF\")\n",
    "        variable_importance_df = rbind(variable_importance_df, var_importance_values)\n",
    "   \n",
    "        #adding values to df\n",
    "        metrics = rbind(metrics, matrix_values)\n",
    "    }\n",
    "    \n",
    "    #taking averages/sd \n",
    "    metrics = metrics %>%\n",
    "        summarise(`Balanced Accuracy` = mean(Balanced.Accuracy), Sensitivity = mean(Sensitivity), \n",
    "              Specificity = mean(Specificity), PPV = mean(Pos.Pred.Value), AUC = mean(auc))\n",
    "    \n",
    "    variable_importance_df = variable_importance_df %>%\n",
    "        group_by(MF) %>%\n",
    "        summarise(MeanDecreaseGini = mean(MeanDecreaseGini)) %>%\n",
    "        #sorting by most important variables\n",
    "        arrange(-MeanDecreaseGini)\n",
    "  \n",
    "    #return training set, matrix and variable importance values\n",
    "    return(list(data_train, metrics, variable_importance_df))\n",
    "\n",
    "}\n",
    "\n",
    "#calling fn\n",
    "rf_values = rf_classification(mf_df, \"Smoking_Status\", \"pred_Smoking_Status\")\n",
    "rf_values_wo_nicotine = rf_classification(mf_df_wo_nicotine, \"Smoking_Status\", \"pred_Smoking_Status\")"
   ]
  },
  {
   "cell_type": "code",
   "execution_count": 5,
   "id": "2dfbd9cd",
   "metadata": {},
   "outputs": [
    {
     "data": {
      "text/html": [
       "<table class=\"dataframe\">\n",
       "<caption>A data.frame: 2 × 7</caption>\n",
       "<thead>\n",
       "\t<tr><th scope=col>Model</th><th scope=col>Removed.Variables</th><th scope=col>Balanced.Accuracy</th><th scope=col>Sensitivity</th><th scope=col>Specificity</th><th scope=col>PPV</th><th scope=col>AUC</th></tr>\n",
       "\t<tr><th scope=col>&lt;chr&gt;</th><th scope=col>&lt;chr&gt;</th><th scope=col>&lt;dbl&gt;</th><th scope=col>&lt;dbl&gt;</th><th scope=col>&lt;dbl&gt;</th><th scope=col>&lt;dbl&gt;</th><th scope=col>&lt;dbl&gt;</th></tr>\n",
       "</thead>\n",
       "<tbody>\n",
       "\t<tr><td>Original RF</td><td>None               </td><td>0.9190476</td><td>0.8714286</td><td>0.9666667</td><td>0.9714286</td><td>0.9190476</td></tr>\n",
       "\t<tr><td>Original RF</td><td>Nicotine &amp; Cotinine</td><td>0.6809524</td><td>0.7619048</td><td>0.6000000</td><td>0.7033333</td><td>0.6809524</td></tr>\n",
       "</tbody>\n",
       "</table>\n"
      ],
      "text/latex": [
       "A data.frame: 2 × 7\n",
       "\\begin{tabular}{lllllll}\n",
       " Model & Removed.Variables & Balanced.Accuracy & Sensitivity & Specificity & PPV & AUC\\\\\n",
       " <chr> & <chr> & <dbl> & <dbl> & <dbl> & <dbl> & <dbl>\\\\\n",
       "\\hline\n",
       "\t Original RF & None                & 0.9190476 & 0.8714286 & 0.9666667 & 0.9714286 & 0.9190476\\\\\n",
       "\t Original RF & Nicotine \\& Cotinine & 0.6809524 & 0.7619048 & 0.6000000 & 0.7033333 & 0.6809524\\\\\n",
       "\\end{tabular}\n"
      ],
      "text/markdown": [
       "\n",
       "A data.frame: 2 × 7\n",
       "\n",
       "| Model &lt;chr&gt; | Removed.Variables &lt;chr&gt; | Balanced.Accuracy &lt;dbl&gt; | Sensitivity &lt;dbl&gt; | Specificity &lt;dbl&gt; | PPV &lt;dbl&gt; | AUC &lt;dbl&gt; |\n",
       "|---|---|---|---|---|---|---|\n",
       "| Original RF | None                | 0.9190476 | 0.8714286 | 0.9666667 | 0.9714286 | 0.9190476 |\n",
       "| Original RF | Nicotine &amp; Cotinine | 0.6809524 | 0.7619048 | 0.6000000 | 0.7033333 | 0.6809524 |\n",
       "\n"
      ],
      "text/plain": [
       "  Model       Removed.Variables   Balanced.Accuracy Sensitivity Specificity\n",
       "1 Original RF None                0.9190476         0.8714286   0.9666667  \n",
       "2 Original RF Nicotine & Cotinine 0.6809524         0.7619048   0.6000000  \n",
       "  PPV       AUC      \n",
       "1 0.9714286 0.9190476\n",
       "2 0.7033333 0.6809524"
      ]
     },
     "metadata": {},
     "output_type": "display_data"
    },
    {
     "data": {
      "text/html": [
       "<table class=\"dataframe\">\n",
       "<caption>A tibble: 6 × 2</caption>\n",
       "<thead>\n",
       "\t<tr><th scope=col>MF</th><th scope=col>MeanDecreaseGini</th></tr>\n",
       "\t<tr><th scope=col>&lt;chr&gt;</th><th scope=col>&lt;dbl&gt;</th></tr>\n",
       "</thead>\n",
       "<tbody>\n",
       "\t<tr><td>MF_97  </td><td>7.4421009</td></tr>\n",
       "\t<tr><td>MF_5   </td><td>4.3522880</td></tr>\n",
       "\t<tr><td>MF_292 </td><td>0.3858630</td></tr>\n",
       "\t<tr><td>MF_4803</td><td>0.2516448</td></tr>\n",
       "\t<tr><td>MF_3345</td><td>0.2062216</td></tr>\n",
       "\t<tr><td>MF_7423</td><td>0.2039394</td></tr>\n",
       "</tbody>\n",
       "</table>\n"
      ],
      "text/latex": [
       "A tibble: 6 × 2\n",
       "\\begin{tabular}{ll}\n",
       " MF & MeanDecreaseGini\\\\\n",
       " <chr> & <dbl>\\\\\n",
       "\\hline\n",
       "\t MF\\_97   & 7.4421009\\\\\n",
       "\t MF\\_5    & 4.3522880\\\\\n",
       "\t MF\\_292  & 0.3858630\\\\\n",
       "\t MF\\_4803 & 0.2516448\\\\\n",
       "\t MF\\_3345 & 0.2062216\\\\\n",
       "\t MF\\_7423 & 0.2039394\\\\\n",
       "\\end{tabular}\n"
      ],
      "text/markdown": [
       "\n",
       "A tibble: 6 × 2\n",
       "\n",
       "| MF &lt;chr&gt; | MeanDecreaseGini &lt;dbl&gt; |\n",
       "|---|---|\n",
       "| MF_97   | 7.4421009 |\n",
       "| MF_5    | 4.3522880 |\n",
       "| MF_292  | 0.3858630 |\n",
       "| MF_4803 | 0.2516448 |\n",
       "| MF_3345 | 0.2062216 |\n",
       "| MF_7423 | 0.2039394 |\n",
       "\n"
      ],
      "text/plain": [
       "  MF      MeanDecreaseGini\n",
       "1 MF_97   7.4421009       \n",
       "2 MF_5    4.3522880       \n",
       "3 MF_292  0.3858630       \n",
       "4 MF_4803 0.2516448       \n",
       "5 MF_3345 0.2062216       \n",
       "6 MF_7423 0.2039394       "
      ]
     },
     "metadata": {},
     "output_type": "display_data"
    },
    {
     "data": {
      "text/html": [
       "<table class=\"dataframe\">\n",
       "<caption>A tibble: 6 × 2</caption>\n",
       "<thead>\n",
       "\t<tr><th scope=col>MF</th><th scope=col>MeanDecreaseGini</th></tr>\n",
       "\t<tr><th scope=col>&lt;chr&gt;</th><th scope=col>&lt;dbl&gt;</th></tr>\n",
       "</thead>\n",
       "<tbody>\n",
       "\t<tr><td>MF_292  </td><td>0.6894046</td></tr>\n",
       "\t<tr><td>MF_745  </td><td>0.2635079</td></tr>\n",
       "\t<tr><td>MF_7423 </td><td>0.2409157</td></tr>\n",
       "\t<tr><td>MF_7221 </td><td>0.2405615</td></tr>\n",
       "\t<tr><td>MF_17380</td><td>0.2174771</td></tr>\n",
       "\t<tr><td>MF_3345 </td><td>0.2173682</td></tr>\n",
       "</tbody>\n",
       "</table>\n"
      ],
      "text/latex": [
       "A tibble: 6 × 2\n",
       "\\begin{tabular}{ll}\n",
       " MF & MeanDecreaseGini\\\\\n",
       " <chr> & <dbl>\\\\\n",
       "\\hline\n",
       "\t MF\\_292   & 0.6894046\\\\\n",
       "\t MF\\_745   & 0.2635079\\\\\n",
       "\t MF\\_7423  & 0.2409157\\\\\n",
       "\t MF\\_7221  & 0.2405615\\\\\n",
       "\t MF\\_17380 & 0.2174771\\\\\n",
       "\t MF\\_3345  & 0.2173682\\\\\n",
       "\\end{tabular}\n"
      ],
      "text/markdown": [
       "\n",
       "A tibble: 6 × 2\n",
       "\n",
       "| MF &lt;chr&gt; | MeanDecreaseGini &lt;dbl&gt; |\n",
       "|---|---|\n",
       "| MF_292   | 0.6894046 |\n",
       "| MF_745   | 0.2635079 |\n",
       "| MF_7423  | 0.2409157 |\n",
       "| MF_7221  | 0.2405615 |\n",
       "| MF_17380 | 0.2174771 |\n",
       "| MF_3345  | 0.2173682 |\n",
       "\n"
      ],
      "text/plain": [
       "  MF       MeanDecreaseGini\n",
       "1 MF_292   0.6894046       \n",
       "2 MF_745   0.2635079       \n",
       "3 MF_7423  0.2409157       \n",
       "4 MF_7221  0.2405615       \n",
       "5 MF_17380 0.2174771       \n",
       "6 MF_3345  0.2173682       "
      ]
     },
     "metadata": {},
     "output_type": "display_data"
    }
   ],
   "source": [
    "#viewing results\n",
    "rf_confusion_matrix = data.frame(Model = c(rep(c(\"Original RF\"), times = 2)), Removed.Variables = c(\"None\", \"Nicotine & Cotinine\"),\n",
    "                                 rbind(rf_values[[2]], rf_values_wo_nicotine[[2]]))\n",
    "rf_confusion_matrix\n",
    "\n",
    "#viewing most significant features\n",
    "head(rf_values[[3]])\n",
    "head(rf_values_wo_nicotine[[3]])"
   ]
  },
  {
   "cell_type": "markdown",
   "id": "a845e1e9",
   "metadata": {},
   "source": [
    "Rerunning RF model with noise variables to determine, which predictors are significant above the background noise."
   ]
  },
  {
   "cell_type": "code",
   "execution_count": 6,
   "id": "13adf469",
   "metadata": {},
   "outputs": [
    {
     "data": {
      "text/html": [
       "<table class=\"dataframe\">\n",
       "<caption>A data.frame: 6 × 3879</caption>\n",
       "<thead>\n",
       "\t<tr><th></th><th scope=col>Smoking_Status</th><th scope=col>Sex</th><th scope=col>MF_2</th><th scope=col>MF_3</th><th scope=col>MF_4</th><th scope=col>MF_5</th><th scope=col>MF_6</th><th scope=col>MF_7</th><th scope=col>MF_11</th><th scope=col>MF_12</th><th scope=col>⋯</th><th scope=col>MF_65532</th><th scope=col>MF_68286</th><th scope=col>MF_73340</th><th scope=col>MF_77165</th><th scope=col>MF_78976</th><th scope=col>noise1</th><th scope=col>noise2</th><th scope=col>noise3</th><th scope=col>noise4</th><th scope=col>noise5</th></tr>\n",
       "\t<tr><th></th><th scope=col>&lt;fct&gt;</th><th scope=col>&lt;fct&gt;</th><th scope=col>&lt;dbl&gt;</th><th scope=col>&lt;dbl&gt;</th><th scope=col>&lt;dbl&gt;</th><th scope=col>&lt;dbl&gt;</th><th scope=col>&lt;dbl&gt;</th><th scope=col>&lt;dbl&gt;</th><th scope=col>&lt;dbl&gt;</th><th scope=col>&lt;dbl&gt;</th><th scope=col>⋯</th><th scope=col>&lt;dbl&gt;</th><th scope=col>&lt;dbl&gt;</th><th scope=col>&lt;dbl&gt;</th><th scope=col>&lt;dbl&gt;</th><th scope=col>&lt;dbl&gt;</th><th scope=col>&lt;dbl&gt;</th><th scope=col>&lt;dbl&gt;</th><th scope=col>&lt;dbl&gt;</th><th scope=col>&lt;dbl&gt;</th><th scope=col>&lt;dbl&gt;</th></tr>\n",
       "</thead>\n",
       "<tbody>\n",
       "\t<tr><th scope=row>1</th><td>1</td><td>0</td><td>20.95330</td><td>21.69571</td><td>20.65056</td><td>21.89841</td><td>17.48492</td><td>20.32206</td><td>19.86974</td><td>20.76839</td><td>⋯</td><td>17.03340</td><td>18.93808</td><td>18.98799</td><td>18.67967</td><td>18.27810</td><td>22.21474</td><td>24.36662</td><td>21.60083</td><td>23.92437</td><td>17.33098</td></tr>\n",
       "\t<tr><th scope=row>3</th><td>1</td><td>0</td><td>22.45404</td><td>24.87327</td><td>23.44948</td><td>27.79174</td><td>17.51114</td><td>22.93427</td><td>22.70884</td><td>22.74215</td><td>⋯</td><td>19.11852</td><td>19.29798</td><td>16.80878</td><td>19.39754</td><td>19.30157</td><td>22.22710</td><td>16.64943</td><td>17.76153</td><td>26.46040</td><td>17.88844</td></tr>\n",
       "\t<tr><th scope=row>4</th><td>1</td><td>0</td><td>22.92114</td><td>24.83565</td><td>23.21817</td><td>21.58997</td><td>17.88701</td><td>23.46244</td><td>22.49399</td><td>23.15348</td><td>⋯</td><td>19.35907</td><td>19.55371</td><td>16.48129</td><td>19.43559</td><td>18.76511</td><td>22.53459</td><td>23.34553</td><td>20.68832</td><td>20.21918</td><td>20.80727</td></tr>\n",
       "\t<tr><th scope=row>5</th><td>1</td><td>0</td><td>21.50164</td><td>22.86175</td><td>21.55396</td><td>26.46040</td><td>18.77247</td><td>21.33890</td><td>21.03399</td><td>20.66345</td><td>⋯</td><td>14.99174</td><td>18.71581</td><td>19.21495</td><td>17.28354</td><td>16.49232</td><td>21.08622</td><td>22.73364</td><td>20.58270</td><td>20.87636</td><td>19.91744</td></tr>\n",
       "\t<tr><th scope=row>6</th><td>1</td><td>0</td><td>22.01246</td><td>24.00816</td><td>22.54138</td><td>26.95046</td><td>18.68449</td><td>22.54351</td><td>22.18006</td><td>22.52930</td><td>⋯</td><td>16.27022</td><td>19.10242</td><td>19.89876</td><td>19.17365</td><td>18.97580</td><td>21.87803</td><td>24.97545</td><td>21.05378</td><td>18.18218</td><td>21.53059</td></tr>\n",
       "\t<tr><th scope=row>7</th><td>1</td><td>0</td><td>21.33550</td><td>23.30800</td><td>21.68604</td><td>21.20241</td><td>19.99698</td><td>21.57036</td><td>21.16900</td><td>21.66527</td><td>⋯</td><td>19.13560</td><td>15.64502</td><td>19.52646</td><td>18.56782</td><td>18.82609</td><td>22.45404</td><td>24.72073</td><td>20.58270</td><td>17.87428</td><td>17.79002</td></tr>\n",
       "</tbody>\n",
       "</table>\n"
      ],
      "text/latex": [
       "A data.frame: 6 × 3879\n",
       "\\begin{tabular}{r|lllllllllllllllllllll}\n",
       "  & Smoking\\_Status & Sex & MF\\_2 & MF\\_3 & MF\\_4 & MF\\_5 & MF\\_6 & MF\\_7 & MF\\_11 & MF\\_12 & ⋯ & MF\\_65532 & MF\\_68286 & MF\\_73340 & MF\\_77165 & MF\\_78976 & noise1 & noise2 & noise3 & noise4 & noise5\\\\\n",
       "  & <fct> & <fct> & <dbl> & <dbl> & <dbl> & <dbl> & <dbl> & <dbl> & <dbl> & <dbl> & ⋯ & <dbl> & <dbl> & <dbl> & <dbl> & <dbl> & <dbl> & <dbl> & <dbl> & <dbl> & <dbl>\\\\\n",
       "\\hline\n",
       "\t1 & 1 & 0 & 20.95330 & 21.69571 & 20.65056 & 21.89841 & 17.48492 & 20.32206 & 19.86974 & 20.76839 & ⋯ & 17.03340 & 18.93808 & 18.98799 & 18.67967 & 18.27810 & 22.21474 & 24.36662 & 21.60083 & 23.92437 & 17.33098\\\\\n",
       "\t3 & 1 & 0 & 22.45404 & 24.87327 & 23.44948 & 27.79174 & 17.51114 & 22.93427 & 22.70884 & 22.74215 & ⋯ & 19.11852 & 19.29798 & 16.80878 & 19.39754 & 19.30157 & 22.22710 & 16.64943 & 17.76153 & 26.46040 & 17.88844\\\\\n",
       "\t4 & 1 & 0 & 22.92114 & 24.83565 & 23.21817 & 21.58997 & 17.88701 & 23.46244 & 22.49399 & 23.15348 & ⋯ & 19.35907 & 19.55371 & 16.48129 & 19.43559 & 18.76511 & 22.53459 & 23.34553 & 20.68832 & 20.21918 & 20.80727\\\\\n",
       "\t5 & 1 & 0 & 21.50164 & 22.86175 & 21.55396 & 26.46040 & 18.77247 & 21.33890 & 21.03399 & 20.66345 & ⋯ & 14.99174 & 18.71581 & 19.21495 & 17.28354 & 16.49232 & 21.08622 & 22.73364 & 20.58270 & 20.87636 & 19.91744\\\\\n",
       "\t6 & 1 & 0 & 22.01246 & 24.00816 & 22.54138 & 26.95046 & 18.68449 & 22.54351 & 22.18006 & 22.52930 & ⋯ & 16.27022 & 19.10242 & 19.89876 & 19.17365 & 18.97580 & 21.87803 & 24.97545 & 21.05378 & 18.18218 & 21.53059\\\\\n",
       "\t7 & 1 & 0 & 21.33550 & 23.30800 & 21.68604 & 21.20241 & 19.99698 & 21.57036 & 21.16900 & 21.66527 & ⋯ & 19.13560 & 15.64502 & 19.52646 & 18.56782 & 18.82609 & 22.45404 & 24.72073 & 20.58270 & 17.87428 & 17.79002\\\\\n",
       "\\end{tabular}\n"
      ],
      "text/markdown": [
       "\n",
       "A data.frame: 6 × 3879\n",
       "\n",
       "| <!--/--> | Smoking_Status &lt;fct&gt; | Sex &lt;fct&gt; | MF_2 &lt;dbl&gt; | MF_3 &lt;dbl&gt; | MF_4 &lt;dbl&gt; | MF_5 &lt;dbl&gt; | MF_6 &lt;dbl&gt; | MF_7 &lt;dbl&gt; | MF_11 &lt;dbl&gt; | MF_12 &lt;dbl&gt; | ⋯ ⋯ | MF_65532 &lt;dbl&gt; | MF_68286 &lt;dbl&gt; | MF_73340 &lt;dbl&gt; | MF_77165 &lt;dbl&gt; | MF_78976 &lt;dbl&gt; | noise1 &lt;dbl&gt; | noise2 &lt;dbl&gt; | noise3 &lt;dbl&gt; | noise4 &lt;dbl&gt; | noise5 &lt;dbl&gt; |\n",
       "|---|---|---|---|---|---|---|---|---|---|---|---|---|---|---|---|---|---|---|---|---|---|\n",
       "| 1 | 1 | 0 | 20.95330 | 21.69571 | 20.65056 | 21.89841 | 17.48492 | 20.32206 | 19.86974 | 20.76839 | ⋯ | 17.03340 | 18.93808 | 18.98799 | 18.67967 | 18.27810 | 22.21474 | 24.36662 | 21.60083 | 23.92437 | 17.33098 |\n",
       "| 3 | 1 | 0 | 22.45404 | 24.87327 | 23.44948 | 27.79174 | 17.51114 | 22.93427 | 22.70884 | 22.74215 | ⋯ | 19.11852 | 19.29798 | 16.80878 | 19.39754 | 19.30157 | 22.22710 | 16.64943 | 17.76153 | 26.46040 | 17.88844 |\n",
       "| 4 | 1 | 0 | 22.92114 | 24.83565 | 23.21817 | 21.58997 | 17.88701 | 23.46244 | 22.49399 | 23.15348 | ⋯ | 19.35907 | 19.55371 | 16.48129 | 19.43559 | 18.76511 | 22.53459 | 23.34553 | 20.68832 | 20.21918 | 20.80727 |\n",
       "| 5 | 1 | 0 | 21.50164 | 22.86175 | 21.55396 | 26.46040 | 18.77247 | 21.33890 | 21.03399 | 20.66345 | ⋯ | 14.99174 | 18.71581 | 19.21495 | 17.28354 | 16.49232 | 21.08622 | 22.73364 | 20.58270 | 20.87636 | 19.91744 |\n",
       "| 6 | 1 | 0 | 22.01246 | 24.00816 | 22.54138 | 26.95046 | 18.68449 | 22.54351 | 22.18006 | 22.52930 | ⋯ | 16.27022 | 19.10242 | 19.89876 | 19.17365 | 18.97580 | 21.87803 | 24.97545 | 21.05378 | 18.18218 | 21.53059 |\n",
       "| 7 | 1 | 0 | 21.33550 | 23.30800 | 21.68604 | 21.20241 | 19.99698 | 21.57036 | 21.16900 | 21.66527 | ⋯ | 19.13560 | 15.64502 | 19.52646 | 18.56782 | 18.82609 | 22.45404 | 24.72073 | 20.58270 | 17.87428 | 17.79002 |\n",
       "\n"
      ],
      "text/plain": [
       "  Smoking_Status Sex MF_2     MF_3     MF_4     MF_5     MF_6     MF_7    \n",
       "1 1              0   20.95330 21.69571 20.65056 21.89841 17.48492 20.32206\n",
       "3 1              0   22.45404 24.87327 23.44948 27.79174 17.51114 22.93427\n",
       "4 1              0   22.92114 24.83565 23.21817 21.58997 17.88701 23.46244\n",
       "5 1              0   21.50164 22.86175 21.55396 26.46040 18.77247 21.33890\n",
       "6 1              0   22.01246 24.00816 22.54138 26.95046 18.68449 22.54351\n",
       "7 1              0   21.33550 23.30800 21.68604 21.20241 19.99698 21.57036\n",
       "  MF_11    MF_12    ⋯ MF_65532 MF_68286 MF_73340 MF_77165 MF_78976 noise1  \n",
       "1 19.86974 20.76839 ⋯ 17.03340 18.93808 18.98799 18.67967 18.27810 22.21474\n",
       "3 22.70884 22.74215 ⋯ 19.11852 19.29798 16.80878 19.39754 19.30157 22.22710\n",
       "4 22.49399 23.15348 ⋯ 19.35907 19.55371 16.48129 19.43559 18.76511 22.53459\n",
       "5 21.03399 20.66345 ⋯ 14.99174 18.71581 19.21495 17.28354 16.49232 21.08622\n",
       "6 22.18006 22.52930 ⋯ 16.27022 19.10242 19.89876 19.17365 18.97580 21.87803\n",
       "7 21.16900 21.66527 ⋯ 19.13560 15.64502 19.52646 18.56782 18.82609 22.45404\n",
       "  noise2   noise3   noise4   noise5  \n",
       "1 24.36662 21.60083 23.92437 17.33098\n",
       "3 16.64943 17.76153 26.46040 17.88844\n",
       "4 23.34553 20.68832 20.21918 20.80727\n",
       "5 22.73364 20.58270 20.87636 19.91744\n",
       "6 24.97545 21.05378 18.18218 21.53059\n",
       "7 24.72073 20.58270 17.87428 17.79002"
      ]
     },
     "metadata": {},
     "output_type": "display_data"
    }
   ],
   "source": [
    "train_vars_noise = rf_values[[1]]\n",
    "train_vars_noise_wo_nicotine = rf_values_wo_nicotine[[1]]\n",
    "\n",
    "noise_df = function(train_vars_noise){\n",
    "    set.seed(7)\n",
    "    # Add random noise predictors as an additional method to evaluate model performance\n",
    "    # Adding a column that contains randomly shuffled values from one of the molecules; sampling with replacement\n",
    "    train_vars_noise$noise1 = sample(train_vars_noise[[colnames(train_vars_noise[3])]], replace = TRUE) \n",
    "    train_vars_noise$noise2 = sample(train_vars_noise[[colnames(train_vars_noise[4])]], replace = TRUE)\n",
    "    train_vars_noise$noise3 = sample(train_vars_noise[[colnames(train_vars_noise[5])]], replace = TRUE)\n",
    "    train_vars_noise$noise4 = sample(train_vars_noise[[colnames(train_vars_noise[6])]], replace = TRUE)\n",
    "    train_vars_noise$noise5 = sample(train_vars_noise[[colnames(train_vars_noise[7])]], replace = TRUE)\n",
    "    \n",
    "    return(train_vars_noise)\n",
    "}\n",
    "\n",
    "#calling fn\n",
    "noise_training_rf_dataset = noise_df(train_vars_noise)\n",
    "noise_training_rf_dataset_wo_nicotine = noise_df(train_vars_noise_wo_nicotine)\n",
    "head(noise_training_rf_dataset)"
   ]
  },
  {
   "cell_type": "code",
   "execution_count": 7,
   "id": "292bb462",
   "metadata": {},
   "outputs": [
    {
     "name": "stderr",
     "output_type": "stream",
     "text": [
      "Setting levels: control = 0, case = 1\n",
      "\n",
      "Setting direction: controls < cases\n",
      "\n",
      "Setting levels: control = 0, case = 1\n",
      "\n",
      "Setting direction: controls < cases\n",
      "\n",
      "Setting levels: control = 0, case = 1\n",
      "\n",
      "Setting direction: controls < cases\n",
      "\n",
      "Setting levels: control = 0, case = 1\n",
      "\n",
      "Setting direction: controls < cases\n",
      "\n",
      "Setting levels: control = 0, case = 1\n",
      "\n",
      "Setting direction: controls < cases\n",
      "\n",
      "Setting levels: control = 0, case = 1\n",
      "\n",
      "Setting direction: controls < cases\n",
      "\n",
      "Setting levels: control = 0, case = 1\n",
      "\n",
      "Setting direction: controls < cases\n",
      "\n",
      "Setting levels: control = 0, case = 1\n",
      "\n",
      "Setting direction: controls < cases\n",
      "\n",
      "Setting levels: control = 0, case = 1\n",
      "\n",
      "Setting direction: controls < cases\n",
      "\n",
      "Setting levels: control = 0, case = 1\n",
      "\n",
      "Setting direction: controls < cases\n",
      "\n"
     ]
    }
   ],
   "source": [
    "#calling rf fn\n",
    "noise_rf_values = rf_classification(noise_training_rf_dataset, \"Smoking_Status\", \"pred_Smoking_Status\")\n",
    "noise_rf_values_wo_nicotine = rf_classification(noise_training_rf_dataset_wo_nicotine, \"Smoking_Status\", \"pred_Smoking_Status\")"
   ]
  },
  {
   "cell_type": "code",
   "execution_count": 8,
   "id": "470574fd",
   "metadata": {},
   "outputs": [
    {
     "data": {
      "text/html": [
       "<table class=\"dataframe\">\n",
       "<caption>A data.frame: 2 × 7</caption>\n",
       "<thead>\n",
       "\t<tr><th scope=col>Model</th><th scope=col>Removed.Variables</th><th scope=col>Balanced.Accuracy</th><th scope=col>Sensitivity</th><th scope=col>Specificity</th><th scope=col>PPV</th><th scope=col>AUC</th></tr>\n",
       "\t<tr><th scope=col>&lt;chr&gt;</th><th scope=col>&lt;chr&gt;</th><th scope=col>&lt;dbl&gt;</th><th scope=col>&lt;dbl&gt;</th><th scope=col>&lt;dbl&gt;</th><th scope=col>&lt;dbl&gt;</th><th scope=col>&lt;dbl&gt;</th></tr>\n",
       "</thead>\n",
       "<tbody>\n",
       "\t<tr><td>RF w/ Noise</td><td>None               </td><td>0.9016667</td><td>0.8533333</td><td>0.95</td><td>0.9666667</td><td>0.9016667</td></tr>\n",
       "\t<tr><td>RF w/ Noise</td><td>Nicotine &amp; Cotinine</td><td>0.6683333</td><td>0.8466667</td><td>0.49</td><td>0.6802381</td><td>0.6683333</td></tr>\n",
       "</tbody>\n",
       "</table>\n"
      ],
      "text/latex": [
       "A data.frame: 2 × 7\n",
       "\\begin{tabular}{lllllll}\n",
       " Model & Removed.Variables & Balanced.Accuracy & Sensitivity & Specificity & PPV & AUC\\\\\n",
       " <chr> & <chr> & <dbl> & <dbl> & <dbl> & <dbl> & <dbl>\\\\\n",
       "\\hline\n",
       "\t RF w/ Noise & None                & 0.9016667 & 0.8533333 & 0.95 & 0.9666667 & 0.9016667\\\\\n",
       "\t RF w/ Noise & Nicotine \\& Cotinine & 0.6683333 & 0.8466667 & 0.49 & 0.6802381 & 0.6683333\\\\\n",
       "\\end{tabular}\n"
      ],
      "text/markdown": [
       "\n",
       "A data.frame: 2 × 7\n",
       "\n",
       "| Model &lt;chr&gt; | Removed.Variables &lt;chr&gt; | Balanced.Accuracy &lt;dbl&gt; | Sensitivity &lt;dbl&gt; | Specificity &lt;dbl&gt; | PPV &lt;dbl&gt; | AUC &lt;dbl&gt; |\n",
       "|---|---|---|---|---|---|---|\n",
       "| RF w/ Noise | None                | 0.9016667 | 0.8533333 | 0.95 | 0.9666667 | 0.9016667 |\n",
       "| RF w/ Noise | Nicotine &amp; Cotinine | 0.6683333 | 0.8466667 | 0.49 | 0.6802381 | 0.6683333 |\n",
       "\n"
      ],
      "text/plain": [
       "  Model       Removed.Variables   Balanced.Accuracy Sensitivity Specificity\n",
       "1 RF w/ Noise None                0.9016667         0.8533333   0.95       \n",
       "2 RF w/ Noise Nicotine & Cotinine 0.6683333         0.8466667   0.49       \n",
       "  PPV       AUC      \n",
       "1 0.9666667 0.9016667\n",
       "2 0.6802381 0.6683333"
      ]
     },
     "metadata": {},
     "output_type": "display_data"
    },
    {
     "data": {
      "text/html": [
       "<table class=\"dataframe\">\n",
       "<caption>A tibble: 6 × 2</caption>\n",
       "<thead>\n",
       "\t<tr><th scope=col>MF</th><th scope=col>MeanDecreaseGini</th></tr>\n",
       "\t<tr><th scope=col>&lt;chr&gt;</th><th scope=col>&lt;dbl&gt;</th></tr>\n",
       "</thead>\n",
       "<tbody>\n",
       "\t<tr><td>MF_97   </td><td>5.4977351</td></tr>\n",
       "\t<tr><td>MF_5    </td><td>4.9484852</td></tr>\n",
       "\t<tr><td>MF_292  </td><td>0.2964212</td></tr>\n",
       "\t<tr><td>MF_7221 </td><td>0.1751290</td></tr>\n",
       "\t<tr><td>MF_13899</td><td>0.1653979</td></tr>\n",
       "\t<tr><td>MF_4803 </td><td>0.1411132</td></tr>\n",
       "</tbody>\n",
       "</table>\n"
      ],
      "text/latex": [
       "A tibble: 6 × 2\n",
       "\\begin{tabular}{ll}\n",
       " MF & MeanDecreaseGini\\\\\n",
       " <chr> & <dbl>\\\\\n",
       "\\hline\n",
       "\t MF\\_97    & 5.4977351\\\\\n",
       "\t MF\\_5     & 4.9484852\\\\\n",
       "\t MF\\_292   & 0.2964212\\\\\n",
       "\t MF\\_7221  & 0.1751290\\\\\n",
       "\t MF\\_13899 & 0.1653979\\\\\n",
       "\t MF\\_4803  & 0.1411132\\\\\n",
       "\\end{tabular}\n"
      ],
      "text/markdown": [
       "\n",
       "A tibble: 6 × 2\n",
       "\n",
       "| MF &lt;chr&gt; | MeanDecreaseGini &lt;dbl&gt; |\n",
       "|---|---|\n",
       "| MF_97    | 5.4977351 |\n",
       "| MF_5     | 4.9484852 |\n",
       "| MF_292   | 0.2964212 |\n",
       "| MF_7221  | 0.1751290 |\n",
       "| MF_13899 | 0.1653979 |\n",
       "| MF_4803  | 0.1411132 |\n",
       "\n"
      ],
      "text/plain": [
       "  MF       MeanDecreaseGini\n",
       "1 MF_97    5.4977351       \n",
       "2 MF_5     4.9484852       \n",
       "3 MF_292   0.2964212       \n",
       "4 MF_7221  0.1751290       \n",
       "5 MF_13899 0.1653979       \n",
       "6 MF_4803  0.1411132       "
      ]
     },
     "metadata": {},
     "output_type": "display_data"
    },
    {
     "data": {
      "text/html": [
       "<table class=\"dataframe\">\n",
       "<caption>A tibble: 6 × 2</caption>\n",
       "<thead>\n",
       "\t<tr><th scope=col>MF</th><th scope=col>MeanDecreaseGini</th></tr>\n",
       "\t<tr><th scope=col>&lt;chr&gt;</th><th scope=col>&lt;dbl&gt;</th></tr>\n",
       "</thead>\n",
       "<tbody>\n",
       "\t<tr><td>MF_292 </td><td>0.7783365</td></tr>\n",
       "\t<tr><td>MF_8500</td><td>0.4470190</td></tr>\n",
       "\t<tr><td>MF_7221</td><td>0.2751898</td></tr>\n",
       "\t<tr><td>MF_9062</td><td>0.2343430</td></tr>\n",
       "\t<tr><td>MF_5547</td><td>0.2277634</td></tr>\n",
       "\t<tr><td>MF_5782</td><td>0.2170608</td></tr>\n",
       "</tbody>\n",
       "</table>\n"
      ],
      "text/latex": [
       "A tibble: 6 × 2\n",
       "\\begin{tabular}{ll}\n",
       " MF & MeanDecreaseGini\\\\\n",
       " <chr> & <dbl>\\\\\n",
       "\\hline\n",
       "\t MF\\_292  & 0.7783365\\\\\n",
       "\t MF\\_8500 & 0.4470190\\\\\n",
       "\t MF\\_7221 & 0.2751898\\\\\n",
       "\t MF\\_9062 & 0.2343430\\\\\n",
       "\t MF\\_5547 & 0.2277634\\\\\n",
       "\t MF\\_5782 & 0.2170608\\\\\n",
       "\\end{tabular}\n"
      ],
      "text/markdown": [
       "\n",
       "A tibble: 6 × 2\n",
       "\n",
       "| MF &lt;chr&gt; | MeanDecreaseGini &lt;dbl&gt; |\n",
       "|---|---|\n",
       "| MF_292  | 0.7783365 |\n",
       "| MF_8500 | 0.4470190 |\n",
       "| MF_7221 | 0.2751898 |\n",
       "| MF_9062 | 0.2343430 |\n",
       "| MF_5547 | 0.2277634 |\n",
       "| MF_5782 | 0.2170608 |\n",
       "\n"
      ],
      "text/plain": [
       "  MF      MeanDecreaseGini\n",
       "1 MF_292  0.7783365       \n",
       "2 MF_8500 0.4470190       \n",
       "3 MF_7221 0.2751898       \n",
       "4 MF_9062 0.2343430       \n",
       "5 MF_5547 0.2277634       \n",
       "6 MF_5782 0.2170608       "
      ]
     },
     "metadata": {},
     "output_type": "display_data"
    }
   ],
   "source": [
    "#viewing results\n",
    "noise_rf_confusion_matrix = data.frame(Model = c(rep(c(\"RF w/ Noise\"), times = 2)), Removed.Variables = c(\"None\", \"Nicotine & Cotinine\"), \n",
    "                                       rbind(noise_rf_values[[2]], noise_rf_values_wo_nicotine[[2]]))\n",
    "noise_rf_confusion_matrix\n",
    "\n",
    "#filtering for most significant features\n",
    "head(noise_rf_values[[3]])\n",
    "head(noise_rf_values_wo_nicotine[[3]])"
   ]
  },
  {
   "cell_type": "markdown",
   "id": "5775cf54",
   "metadata": {},
   "source": [
    "# Support Vector Machine\n",
    "- supervised learning models that can predict continuous (regression) or grouped/dichotomous (classification) outcomes\n",
    "- predictors by projecting them onto a high dimensional space and uses kernels to make the data more separable (unfortunately makes interpretability of model results more difficult)\n",
    "- does a better job at handling a large number of predictors since p > n\n",
    "- Compared to other classification algorithms, this approach can reliably classify chemicals while avoiding overfitting and reducing susceptibility to noisy or meaningless data. "
   ]
  },
  {
   "cell_type": "code",
   "execution_count": 9,
   "id": "9f187714",
   "metadata": {},
   "outputs": [],
   "source": [
    "#model errors are calculated to assess the predictive accuracy of the model\n",
    "svm_classification = function(dataset, model, outcome, pred_outcome, gamma_values, cost_values, elsilon_values){\n",
    "  \n",
    "    #setting seed for reproducibility\n",
    "    set.seed(12)\n",
    "    \n",
    "    #splitting data into training and testing sets\n",
    "    dataset_index = createFolds(dataset[[outcome]], k = 5) #5 fold CV\n",
    "    metrics = data.frame()\n",
    "    for (i in 1:length(dataset_index)){\n",
    "        data_train = dataset[-dataset_index[[i]],]\n",
    "        data_test = dataset[dataset_index[[i]],]\n",
    "\n",
    "        #now pruning parameters (based on the training dataset to prevent overfitting)\n",
    "        svr_tune <- tune(svm, as.formula(paste0(outcome, \"~.\")), data = data_train, kernel = model, \n",
    "                       ranges = list(elsilon = elsilon_values, cost = cost_values, gamma = gamma_values)) \n",
    "\n",
    "        #choosing best model\n",
    "        best_svm <- svr_tune$best.model\n",
    "\n",
    "        #predicting with tuned parameters \n",
    "        data_test[[pred_outcome]] <- predict(best_svm, newdata = data_test, type = \"response\")\n",
    "\n",
    "        matrix = confusionMatrix(data = data_test[[pred_outcome]], reference = data_test[[outcome]], \n",
    "                                 positive = \"1\")\n",
    " \n",
    "        #calculating AUC\n",
    "        auc = auc(response = data_test[[outcome]], predictor = factor(data_test[[pred_outcome]], ordered = TRUE))\n",
    "        #extracting accuracy, sens, spec, PPV to take mean later\n",
    "        matrix_values = data.frame(t(c(matrix$byClass[11])), t(c(matrix$byClass[1:3])), auc)\n",
    "   \n",
    "        #adding values to df\n",
    "        metrics = rbind(metrics, matrix_values)\n",
    "  }\n",
    "  \n",
    "  #taking averages/sd \n",
    "  metrics = metrics %>%\n",
    "    summarise(`Balanced Accuracy` = mean(Balanced.Accuracy), Sensitivity = mean(Sensitivity), \n",
    "              Specificity = mean(Specificity), PPV = mean(Pos.Pred.Value), AUC = mean(auc))\n",
    "  \n",
    "  return(metrics)\n",
    "}"
   ]
  },
  {
   "cell_type": "code",
   "execution_count": 10,
   "id": "17d3d398",
   "metadata": {},
   "outputs": [
    {
     "name": "stderr",
     "output_type": "stream",
     "text": [
      "Setting levels: control = 0, case = 1\n",
      "\n",
      "Setting direction: controls < cases\n",
      "\n",
      "Setting levels: control = 0, case = 1\n",
      "\n",
      "Setting direction: controls < cases\n",
      "\n",
      "Setting levels: control = 0, case = 1\n",
      "\n",
      "Setting direction: controls < cases\n",
      "\n",
      "Setting levels: control = 0, case = 1\n",
      "\n",
      "Setting direction: controls < cases\n",
      "\n",
      "Setting levels: control = 0, case = 1\n",
      "\n",
      "Setting direction: controls < cases\n",
      "\n",
      "Setting levels: control = 0, case = 1\n",
      "\n",
      "Setting direction: controls < cases\n",
      "\n",
      "Setting levels: control = 0, case = 1\n",
      "\n",
      "Setting direction: controls < cases\n",
      "\n",
      "Setting levels: control = 0, case = 1\n",
      "\n",
      "Setting direction: controls < cases\n",
      "\n",
      "Setting levels: control = 0, case = 1\n",
      "\n",
      "Setting direction: controls < cases\n",
      "\n",
      "Setting levels: control = 0, case = 1\n",
      "\n",
      "Setting direction: controls < cases\n",
      "\n"
     ]
    }
   ],
   "source": [
    "#calling fn\n",
    "svm_values = svm_classification(mf_df, \"linear\", \"Smoking_Status\", \"pred_Smoking_Status\",\n",
    "                                            0.035, 1:5, seq(0,1,0.2))\n",
    "svm_values_wo_nicotine = svm_classification(mf_df_wo_nicotine, \"linear\", \"Smoking_Status\", \"pred_Smoking_Status\",\n",
    "                                            0.035, 1:5, seq(0,1,0.2))"
   ]
  },
  {
   "cell_type": "code",
   "execution_count": 11,
   "id": "61316a29",
   "metadata": {},
   "outputs": [
    {
     "data": {
      "text/html": [
       "<table class=\"dataframe\">\n",
       "<caption>A data.frame: 2 × 7</caption>\n",
       "<thead>\n",
       "\t<tr><th scope=col>Model</th><th scope=col>Removed.Variables</th><th scope=col>Balanced.Accuracy</th><th scope=col>Sensitivity</th><th scope=col>Specificity</th><th scope=col>PPV</th><th scope=col>AUC</th></tr>\n",
       "\t<tr><th scope=col>&lt;chr&gt;</th><th scope=col>&lt;chr&gt;</th><th scope=col>&lt;dbl&gt;</th><th scope=col>&lt;dbl&gt;</th><th scope=col>&lt;dbl&gt;</th><th scope=col>&lt;dbl&gt;</th><th scope=col>&lt;dbl&gt;</th></tr>\n",
       "</thead>\n",
       "<tbody>\n",
       "\t<tr><td>Original SVM</td><td>None               </td><td>0.7752381</td><td>0.7904762</td><td>0.76</td><td>0.83</td><td>0.7752381</td></tr>\n",
       "\t<tr><td>Original SVM</td><td>Nicotine &amp; Cotinine</td><td>0.7752381</td><td>0.7904762</td><td>0.76</td><td>0.83</td><td>0.7752381</td></tr>\n",
       "</tbody>\n",
       "</table>\n"
      ],
      "text/latex": [
       "A data.frame: 2 × 7\n",
       "\\begin{tabular}{lllllll}\n",
       " Model & Removed.Variables & Balanced.Accuracy & Sensitivity & Specificity & PPV & AUC\\\\\n",
       " <chr> & <chr> & <dbl> & <dbl> & <dbl> & <dbl> & <dbl>\\\\\n",
       "\\hline\n",
       "\t Original SVM & None                & 0.7752381 & 0.7904762 & 0.76 & 0.83 & 0.7752381\\\\\n",
       "\t Original SVM & Nicotine \\& Cotinine & 0.7752381 & 0.7904762 & 0.76 & 0.83 & 0.7752381\\\\\n",
       "\\end{tabular}\n"
      ],
      "text/markdown": [
       "\n",
       "A data.frame: 2 × 7\n",
       "\n",
       "| Model &lt;chr&gt; | Removed.Variables &lt;chr&gt; | Balanced.Accuracy &lt;dbl&gt; | Sensitivity &lt;dbl&gt; | Specificity &lt;dbl&gt; | PPV &lt;dbl&gt; | AUC &lt;dbl&gt; |\n",
       "|---|---|---|---|---|---|---|\n",
       "| Original SVM | None                | 0.7752381 | 0.7904762 | 0.76 | 0.83 | 0.7752381 |\n",
       "| Original SVM | Nicotine &amp; Cotinine | 0.7752381 | 0.7904762 | 0.76 | 0.83 | 0.7752381 |\n",
       "\n"
      ],
      "text/plain": [
       "  Model        Removed.Variables   Balanced.Accuracy Sensitivity Specificity\n",
       "1 Original SVM None                0.7752381         0.7904762   0.76       \n",
       "2 Original SVM Nicotine & Cotinine 0.7752381         0.7904762   0.76       \n",
       "  PPV  AUC      \n",
       "1 0.83 0.7752381\n",
       "2 0.83 0.7752381"
      ]
     },
     "metadata": {},
     "output_type": "display_data"
    }
   ],
   "source": [
    "#creating one combined df\n",
    "svm_final_df = data.frame(rbind(svm_values, svm_values_wo_nicotine))\n",
    "\n",
    "svm_final_df = data.frame(Model = c(rep(c(\"Original SVM\"), times = 2)), Removed.Variables = c(\"None\", \"Nicotine & Cotinine\"), svm_final_df)\n",
    "svm_final_df"
   ]
  },
  {
   "cell_type": "markdown",
   "id": "a390436b",
   "metadata": {},
   "source": [
    "# RF Variable Selection w/ SVM\n",
    "- Calculating the average noise rank to determine, which predictors ranked higher than the highest noise rank. Then filtering the original datasets for those predictors and rerunning SVM."
   ]
  },
  {
   "cell_type": "code",
   "execution_count": 12,
   "id": "6da9edf3",
   "metadata": {},
   "outputs": [],
   "source": [
    "#calculating avg noise rank out of all variables\n",
    "noise_importance_values = noise_rf_values[[3]] %>%\n",
    "    column_to_rownames(var = \"MF\")\n",
    "noise_importance_values_wo_nicotine = noise_rf_values_wo_nicotine[[3]] %>%\n",
    "    column_to_rownames(var = \"MF\")"
   ]
  },
  {
   "cell_type": "code",
   "execution_count": 13,
   "id": "723a6644",
   "metadata": {},
   "outputs": [
    {
     "data": {
      "text/html": [
       "0.181279009798865"
      ],
      "text/latex": [
       "0.181279009798865"
      ],
      "text/markdown": [
       "0.181279009798865"
      ],
      "text/plain": [
       "[1] 0.181279"
      ]
     },
     "metadata": {},
     "output_type": "display_data"
    },
    {
     "data": {
      "text/html": [
       "0.0688854489164087"
      ],
      "text/latex": [
       "0.0688854489164087"
      ],
      "text/markdown": [
       "0.0688854489164087"
      ],
      "text/plain": [
       "[1] 0.06888545"
      ]
     },
     "metadata": {},
     "output_type": "display_data"
    }
   ],
   "source": [
    "highest_noise_rank_fn = function(noise_importance_values){\n",
    "    #this gives us values between 0 and 1\n",
    "    #the closer the number gets to 1 the lower it ranks, so the number closest to 1 is the max rank\n",
    "    noise1rank = which(rownames(noise_importance_values) == \"noise1\")/nrow(noise_importance_values)\n",
    "    noise2rank = which(rownames(noise_importance_values) == \"noise2\")/nrow(noise_importance_values)\n",
    "    noise3rank = which(rownames(noise_importance_values) == \"noise3\")/nrow(noise_importance_values)\n",
    "    noise4rank = which(rownames(noise_importance_values) == \"noise4\")/nrow(noise_importance_values)\n",
    "    noise5rank = which(rownames(noise_importance_values) == \"noise5\")/nrow(noise_importance_values)\n",
    "\n",
    "    #figuring out which is the highest mean decrease gini or background noise importance value\n",
    "    highest_noise_rank = min(noise1rank, noise2rank, noise3rank, noise4rank, noise5rank)\n",
    "    \n",
    "    return(highest_noise_rank)\n",
    "}\n",
    "\n",
    "#calling fn\n",
    "highest_noise_rank = highest_noise_rank_fn(noise_importance_values)\n",
    "highest_noise_rank_wo_nicotine = highest_noise_rank_fn(noise_importance_values_wo_nicotine)\n",
    "highest_noise_rank\n",
    "highest_noise_rank_wo_nicotine"
   ]
  },
  {
   "cell_type": "code",
   "execution_count": 14,
   "id": "9d0ed7cb",
   "metadata": {},
   "outputs": [
    {
     "data": {
      "text/html": [
       "703"
      ],
      "text/latex": [
       "703"
      ],
      "text/markdown": [
       "703"
      ],
      "text/plain": [
       "[1] 703"
      ]
     },
     "metadata": {},
     "output_type": "display_data"
    },
    {
     "data": {
      "text/html": [
       "267"
      ],
      "text/latex": [
       "267"
      ],
      "text/markdown": [
       "267"
      ],
      "text/plain": [
       "[1] 267"
      ]
     },
     "metadata": {},
     "output_type": "display_data"
    }
   ],
   "source": [
    "last_significant_rank_fn = function(noise_importance_values, highest_noise_rank){\n",
    "    for (i in 1:length(noise_importance_values$MeanDecreaseGini)){\n",
    "    #if the row number (index)/# of variables is less than the highest noise rank the loop will continue\n",
    "        if (i/length(noise_importance_values$MeanDecreaseGini) > highest_noise_rank){\n",
    "            last_significant_var = i - 1\n",
    "            break\n",
    "        }\n",
    "    }    \n",
    "    return(last_significant_var)\n",
    "}\n",
    "\n",
    "#calling fn\n",
    "last_significant_rank = last_significant_rank_fn(noise_importance_values, highest_noise_rank)\n",
    "last_significant_rank_wo_nicotine = last_significant_rank_fn(noise_importance_values_wo_nicotine, highest_noise_rank_wo_nicotine)\n",
    "last_significant_rank\n",
    "last_significant_rank_wo_nicotine"
   ]
  },
  {
   "cell_type": "markdown",
   "id": "e7657376",
   "metadata": {},
   "source": [
    "The dataset containing all the features contains 703 MFs above background, while the dataset without nicotine and cotinine has 267. This means that the inclusion of these 2 features forces the model to find erroneous connections between the noise variables and the outcome and that these 2 features are driving much of the model's predictive ability."
   ]
  },
  {
   "cell_type": "code",
   "execution_count": 15,
   "id": "79f9bcb1",
   "metadata": {},
   "outputs": [
    {
     "data": {
      "text/html": [
       "<table class=\"dataframe\">\n",
       "<caption>A data.frame: 6 × 703</caption>\n",
       "<thead>\n",
       "\t<tr><th></th><th scope=col>Smoking_Status</th><th scope=col>MF_5</th><th scope=col>MF_7</th><th scope=col>MF_18</th><th scope=col>MF_47</th><th scope=col>MF_59</th><th scope=col>MF_69</th><th scope=col>MF_70</th><th scope=col>MF_86</th><th scope=col>MF_97</th><th scope=col>⋯</th><th scope=col>MF_46369</th><th scope=col>MF_46525</th><th scope=col>MF_48034</th><th scope=col>MF_48271</th><th scope=col>MF_50946</th><th scope=col>MF_53468</th><th scope=col>MF_54325</th><th scope=col>MF_57989</th><th scope=col>MF_64025</th><th scope=col>MF_65532</th></tr>\n",
       "\t<tr><th></th><th scope=col>&lt;fct&gt;</th><th scope=col>&lt;dbl&gt;</th><th scope=col>&lt;dbl&gt;</th><th scope=col>&lt;dbl&gt;</th><th scope=col>&lt;dbl&gt;</th><th scope=col>&lt;dbl&gt;</th><th scope=col>&lt;dbl&gt;</th><th scope=col>&lt;dbl&gt;</th><th scope=col>&lt;dbl&gt;</th><th scope=col>&lt;dbl&gt;</th><th scope=col>⋯</th><th scope=col>&lt;dbl&gt;</th><th scope=col>&lt;dbl&gt;</th><th scope=col>&lt;dbl&gt;</th><th scope=col>&lt;dbl&gt;</th><th scope=col>&lt;dbl&gt;</th><th scope=col>&lt;dbl&gt;</th><th scope=col>&lt;dbl&gt;</th><th scope=col>&lt;dbl&gt;</th><th scope=col>&lt;dbl&gt;</th><th scope=col>&lt;dbl&gt;</th></tr>\n",
       "</thead>\n",
       "<tbody>\n",
       "\t<tr><th scope=row>1</th><td>1</td><td>21.89841</td><td>20.32206</td><td>20.67121</td><td>18.14636</td><td>18.90583</td><td>19.11889</td><td>20.30724</td><td>21.06658</td><td>19.67559</td><td>⋯</td><td>17.92213</td><td>17.85949</td><td>19.24304</td><td>17.80795</td><td>19.04964</td><td>17.10636</td><td>19.16672</td><td>19.24610</td><td>18.00832</td><td>17.03340</td></tr>\n",
       "\t<tr><th scope=row>2</th><td>1</td><td>21.28516</td><td>22.63653</td><td>21.20742</td><td>22.02277</td><td>19.43783</td><td>18.57099</td><td>22.56790</td><td>20.70022</td><td>20.29286</td><td>⋯</td><td>16.66576</td><td>19.10507</td><td>19.45380</td><td>18.83773</td><td>19.35344</td><td>19.41443</td><td>20.16915</td><td>16.11760</td><td>17.24447</td><td>19.04946</td></tr>\n",
       "\t<tr><th scope=row>3</th><td>1</td><td>27.79174</td><td>22.93427</td><td>21.55833</td><td>22.11451</td><td>21.71608</td><td>18.64410</td><td>20.28652</td><td>18.23088</td><td>21.10400</td><td>⋯</td><td>18.93356</td><td>18.69063</td><td>19.33471</td><td>18.53229</td><td>19.43687</td><td>14.30741</td><td>20.92622</td><td>16.25191</td><td>19.62663</td><td>19.11852</td></tr>\n",
       "\t<tr><th scope=row>4</th><td>1</td><td>21.58997</td><td>23.46244</td><td>21.72268</td><td>22.97637</td><td>18.20816</td><td>19.30979</td><td>23.11329</td><td>20.99605</td><td>25.25344</td><td>⋯</td><td>14.31163</td><td>19.70898</td><td>18.10936</td><td>20.08615</td><td>19.22097</td><td>19.14840</td><td>18.02995</td><td>17.27421</td><td>18.27226</td><td>19.35907</td></tr>\n",
       "\t<tr><th scope=row>5</th><td>1</td><td>26.46040</td><td>21.33890</td><td>17.37470</td><td>21.43686</td><td>18.65305</td><td>18.51489</td><td>21.52816</td><td>22.56511</td><td>20.61308</td><td>⋯</td><td>18.95365</td><td>18.99317</td><td>19.15652</td><td>19.28759</td><td>17.95547</td><td>19.44176</td><td>17.10886</td><td>16.63843</td><td>18.05895</td><td>14.99174</td></tr>\n",
       "\t<tr><th scope=row>6</th><td>1</td><td>26.95046</td><td>22.54351</td><td>21.44785</td><td>21.04964</td><td>19.10169</td><td>19.57337</td><td>22.66237</td><td>20.54799</td><td>24.03134</td><td>⋯</td><td>17.81665</td><td>16.28925</td><td>16.93503</td><td>18.90544</td><td>17.96161</td><td>17.24345</td><td>17.05881</td><td>15.96948</td><td>19.41389</td><td>16.27022</td></tr>\n",
       "</tbody>\n",
       "</table>\n"
      ],
      "text/latex": [
       "A data.frame: 6 × 703\n",
       "\\begin{tabular}{r|lllllllllllllllllllll}\n",
       "  & Smoking\\_Status & MF\\_5 & MF\\_7 & MF\\_18 & MF\\_47 & MF\\_59 & MF\\_69 & MF\\_70 & MF\\_86 & MF\\_97 & ⋯ & MF\\_46369 & MF\\_46525 & MF\\_48034 & MF\\_48271 & MF\\_50946 & MF\\_53468 & MF\\_54325 & MF\\_57989 & MF\\_64025 & MF\\_65532\\\\\n",
       "  & <fct> & <dbl> & <dbl> & <dbl> & <dbl> & <dbl> & <dbl> & <dbl> & <dbl> & <dbl> & ⋯ & <dbl> & <dbl> & <dbl> & <dbl> & <dbl> & <dbl> & <dbl> & <dbl> & <dbl> & <dbl>\\\\\n",
       "\\hline\n",
       "\t1 & 1 & 21.89841 & 20.32206 & 20.67121 & 18.14636 & 18.90583 & 19.11889 & 20.30724 & 21.06658 & 19.67559 & ⋯ & 17.92213 & 17.85949 & 19.24304 & 17.80795 & 19.04964 & 17.10636 & 19.16672 & 19.24610 & 18.00832 & 17.03340\\\\\n",
       "\t2 & 1 & 21.28516 & 22.63653 & 21.20742 & 22.02277 & 19.43783 & 18.57099 & 22.56790 & 20.70022 & 20.29286 & ⋯ & 16.66576 & 19.10507 & 19.45380 & 18.83773 & 19.35344 & 19.41443 & 20.16915 & 16.11760 & 17.24447 & 19.04946\\\\\n",
       "\t3 & 1 & 27.79174 & 22.93427 & 21.55833 & 22.11451 & 21.71608 & 18.64410 & 20.28652 & 18.23088 & 21.10400 & ⋯ & 18.93356 & 18.69063 & 19.33471 & 18.53229 & 19.43687 & 14.30741 & 20.92622 & 16.25191 & 19.62663 & 19.11852\\\\\n",
       "\t4 & 1 & 21.58997 & 23.46244 & 21.72268 & 22.97637 & 18.20816 & 19.30979 & 23.11329 & 20.99605 & 25.25344 & ⋯ & 14.31163 & 19.70898 & 18.10936 & 20.08615 & 19.22097 & 19.14840 & 18.02995 & 17.27421 & 18.27226 & 19.35907\\\\\n",
       "\t5 & 1 & 26.46040 & 21.33890 & 17.37470 & 21.43686 & 18.65305 & 18.51489 & 21.52816 & 22.56511 & 20.61308 & ⋯ & 18.95365 & 18.99317 & 19.15652 & 19.28759 & 17.95547 & 19.44176 & 17.10886 & 16.63843 & 18.05895 & 14.99174\\\\\n",
       "\t6 & 1 & 26.95046 & 22.54351 & 21.44785 & 21.04964 & 19.10169 & 19.57337 & 22.66237 & 20.54799 & 24.03134 & ⋯ & 17.81665 & 16.28925 & 16.93503 & 18.90544 & 17.96161 & 17.24345 & 17.05881 & 15.96948 & 19.41389 & 16.27022\\\\\n",
       "\\end{tabular}\n"
      ],
      "text/markdown": [
       "\n",
       "A data.frame: 6 × 703\n",
       "\n",
       "| <!--/--> | Smoking_Status &lt;fct&gt; | MF_5 &lt;dbl&gt; | MF_7 &lt;dbl&gt; | MF_18 &lt;dbl&gt; | MF_47 &lt;dbl&gt; | MF_59 &lt;dbl&gt; | MF_69 &lt;dbl&gt; | MF_70 &lt;dbl&gt; | MF_86 &lt;dbl&gt; | MF_97 &lt;dbl&gt; | ⋯ ⋯ | MF_46369 &lt;dbl&gt; | MF_46525 &lt;dbl&gt; | MF_48034 &lt;dbl&gt; | MF_48271 &lt;dbl&gt; | MF_50946 &lt;dbl&gt; | MF_53468 &lt;dbl&gt; | MF_54325 &lt;dbl&gt; | MF_57989 &lt;dbl&gt; | MF_64025 &lt;dbl&gt; | MF_65532 &lt;dbl&gt; |\n",
       "|---|---|---|---|---|---|---|---|---|---|---|---|---|---|---|---|---|---|---|---|---|---|\n",
       "| 1 | 1 | 21.89841 | 20.32206 | 20.67121 | 18.14636 | 18.90583 | 19.11889 | 20.30724 | 21.06658 | 19.67559 | ⋯ | 17.92213 | 17.85949 | 19.24304 | 17.80795 | 19.04964 | 17.10636 | 19.16672 | 19.24610 | 18.00832 | 17.03340 |\n",
       "| 2 | 1 | 21.28516 | 22.63653 | 21.20742 | 22.02277 | 19.43783 | 18.57099 | 22.56790 | 20.70022 | 20.29286 | ⋯ | 16.66576 | 19.10507 | 19.45380 | 18.83773 | 19.35344 | 19.41443 | 20.16915 | 16.11760 | 17.24447 | 19.04946 |\n",
       "| 3 | 1 | 27.79174 | 22.93427 | 21.55833 | 22.11451 | 21.71608 | 18.64410 | 20.28652 | 18.23088 | 21.10400 | ⋯ | 18.93356 | 18.69063 | 19.33471 | 18.53229 | 19.43687 | 14.30741 | 20.92622 | 16.25191 | 19.62663 | 19.11852 |\n",
       "| 4 | 1 | 21.58997 | 23.46244 | 21.72268 | 22.97637 | 18.20816 | 19.30979 | 23.11329 | 20.99605 | 25.25344 | ⋯ | 14.31163 | 19.70898 | 18.10936 | 20.08615 | 19.22097 | 19.14840 | 18.02995 | 17.27421 | 18.27226 | 19.35907 |\n",
       "| 5 | 1 | 26.46040 | 21.33890 | 17.37470 | 21.43686 | 18.65305 | 18.51489 | 21.52816 | 22.56511 | 20.61308 | ⋯ | 18.95365 | 18.99317 | 19.15652 | 19.28759 | 17.95547 | 19.44176 | 17.10886 | 16.63843 | 18.05895 | 14.99174 |\n",
       "| 6 | 1 | 26.95046 | 22.54351 | 21.44785 | 21.04964 | 19.10169 | 19.57337 | 22.66237 | 20.54799 | 24.03134 | ⋯ | 17.81665 | 16.28925 | 16.93503 | 18.90544 | 17.96161 | 17.24345 | 17.05881 | 15.96948 | 19.41389 | 16.27022 |\n",
       "\n"
      ],
      "text/plain": [
       "  Smoking_Status MF_5     MF_7     MF_18    MF_47    MF_59    MF_69    MF_70   \n",
       "1 1              21.89841 20.32206 20.67121 18.14636 18.90583 19.11889 20.30724\n",
       "2 1              21.28516 22.63653 21.20742 22.02277 19.43783 18.57099 22.56790\n",
       "3 1              27.79174 22.93427 21.55833 22.11451 21.71608 18.64410 20.28652\n",
       "4 1              21.58997 23.46244 21.72268 22.97637 18.20816 19.30979 23.11329\n",
       "5 1              26.46040 21.33890 17.37470 21.43686 18.65305 18.51489 21.52816\n",
       "6 1              26.95046 22.54351 21.44785 21.04964 19.10169 19.57337 22.66237\n",
       "  MF_86    MF_97    ⋯ MF_46369 MF_46525 MF_48034 MF_48271 MF_50946 MF_53468\n",
       "1 21.06658 19.67559 ⋯ 17.92213 17.85949 19.24304 17.80795 19.04964 17.10636\n",
       "2 20.70022 20.29286 ⋯ 16.66576 19.10507 19.45380 18.83773 19.35344 19.41443\n",
       "3 18.23088 21.10400 ⋯ 18.93356 18.69063 19.33471 18.53229 19.43687 14.30741\n",
       "4 20.99605 25.25344 ⋯ 14.31163 19.70898 18.10936 20.08615 19.22097 19.14840\n",
       "5 22.56511 20.61308 ⋯ 18.95365 18.99317 19.15652 19.28759 17.95547 19.44176\n",
       "6 20.54799 24.03134 ⋯ 17.81665 16.28925 16.93503 18.90544 17.96161 17.24345\n",
       "  MF_54325 MF_57989 MF_64025 MF_65532\n",
       "1 19.16672 19.24610 18.00832 17.03340\n",
       "2 20.16915 16.11760 17.24447 19.04946\n",
       "3 20.92622 16.25191 19.62663 19.11852\n",
       "4 18.02995 17.27421 18.27226 19.35907\n",
       "5 17.10886 16.63843 18.05895 14.99174\n",
       "6 17.05881 15.96948 19.41389 16.27022"
      ]
     },
     "metadata": {},
     "output_type": "display_data"
    }
   ],
   "source": [
    "# now getting those significant MFs\n",
    "significant_MFs = rownames(noise_importance_values)[1:last_significant_rank]\n",
    "significant_MFs_wo_nicotine = rownames(noise_importance_values_wo_nicotine)[1:last_significant_rank_wo_nicotine]\n",
    "\n",
    "# now subsetting the original dfs to rerun SVM\n",
    "rf_subset_MF_df = cbind(Smoking_Status = mf_df$Smoking_Status, mf_df[,colnames(mf_df) %in% significant_MFs])\n",
    "rf_subset_MF_df_wo_nicotine = cbind(Smoking_Status = mf_df_wo_nicotine$Smoking_Status, mf_df_wo_nicotine[,colnames(mf_df_wo_nicotine) %in% significant_MFs_wo_nicotine])\n",
    "head(rf_subset_MF_df)"
   ]
  },
  {
   "cell_type": "code",
   "execution_count": 16,
   "id": "58193628",
   "metadata": {},
   "outputs": [
    {
     "name": "stderr",
     "output_type": "stream",
     "text": [
      "Setting levels: control = 0, case = 1\n",
      "\n",
      "Setting direction: controls < cases\n",
      "\n",
      "Setting levels: control = 0, case = 1\n",
      "\n",
      "Setting direction: controls < cases\n",
      "\n",
      "Setting levels: control = 0, case = 1\n",
      "\n",
      "Setting direction: controls < cases\n",
      "\n",
      "Setting levels: control = 0, case = 1\n",
      "\n",
      "Setting direction: controls < cases\n",
      "\n",
      "Setting levels: control = 0, case = 1\n",
      "\n",
      "Setting direction: controls < cases\n",
      "\n",
      "Setting levels: control = 0, case = 1\n",
      "\n",
      "Setting direction: controls < cases\n",
      "\n",
      "Setting levels: control = 0, case = 1\n",
      "\n",
      "Setting direction: controls < cases\n",
      "\n",
      "Setting levels: control = 0, case = 1\n",
      "\n",
      "Setting direction: controls < cases\n",
      "\n",
      "Setting levels: control = 0, case = 1\n",
      "\n",
      "Setting direction: controls < cases\n",
      "\n",
      "Setting levels: control = 0, case = 1\n",
      "\n",
      "Setting direction: controls < cases\n",
      "\n"
     ]
    }
   ],
   "source": [
    "# calling SVM function\n",
    "subset_svm = svm_classification(rf_subset_MF_df, \"linear\", \"Smoking_Status\", \"pred_Smoking_Status\",\n",
    "                                            0.035, 1:5, seq(0,1,0.2))\n",
    "subset_svm_wo_nicotine = svm_classification(rf_subset_MF_df_wo_nicotine, \"linear\", \"Smoking_Status\", \"pred_Smoking_Status\",\n",
    "                                            0.035, 1:5, seq(0,1,0.2))"
   ]
  },
  {
   "cell_type": "code",
   "execution_count": 17,
   "id": "ad944874",
   "metadata": {},
   "outputs": [
    {
     "data": {
      "text/html": [
       "<table class=\"dataframe\">\n",
       "<caption>A data.frame: 2 × 7</caption>\n",
       "<thead>\n",
       "\t<tr><th scope=col>Model</th><th scope=col>Removed.Variables</th><th scope=col>Balanced.Accuracy</th><th scope=col>Sensitivity</th><th scope=col>Specificity</th><th scope=col>PPV</th><th scope=col>AUC</th></tr>\n",
       "\t<tr><th scope=col>&lt;chr&gt;</th><th scope=col>&lt;chr&gt;</th><th scope=col>&lt;dbl&gt;</th><th scope=col>&lt;dbl&gt;</th><th scope=col>&lt;dbl&gt;</th><th scope=col>&lt;dbl&gt;</th><th scope=col>&lt;dbl&gt;</th></tr>\n",
       "</thead>\n",
       "<tbody>\n",
       "\t<tr><td>SVM w/ RF Var Selection</td><td>None               </td><td>0.8785714</td><td>0.8571429</td><td>0.9000000</td><td>0.9214286</td><td>0.8785714</td></tr>\n",
       "\t<tr><td>SVM w/ RF Var Selection</td><td>Nicotine &amp; Cotinine</td><td>0.9157143</td><td>0.9380952</td><td>0.8933333</td><td>0.9250000</td><td>0.9157143</td></tr>\n",
       "</tbody>\n",
       "</table>\n"
      ],
      "text/latex": [
       "A data.frame: 2 × 7\n",
       "\\begin{tabular}{lllllll}\n",
       " Model & Removed.Variables & Balanced.Accuracy & Sensitivity & Specificity & PPV & AUC\\\\\n",
       " <chr> & <chr> & <dbl> & <dbl> & <dbl> & <dbl> & <dbl>\\\\\n",
       "\\hline\n",
       "\t SVM w/ RF Var Selection & None                & 0.8785714 & 0.8571429 & 0.9000000 & 0.9214286 & 0.8785714\\\\\n",
       "\t SVM w/ RF Var Selection & Nicotine \\& Cotinine & 0.9157143 & 0.9380952 & 0.8933333 & 0.9250000 & 0.9157143\\\\\n",
       "\\end{tabular}\n"
      ],
      "text/markdown": [
       "\n",
       "A data.frame: 2 × 7\n",
       "\n",
       "| Model &lt;chr&gt; | Removed.Variables &lt;chr&gt; | Balanced.Accuracy &lt;dbl&gt; | Sensitivity &lt;dbl&gt; | Specificity &lt;dbl&gt; | PPV &lt;dbl&gt; | AUC &lt;dbl&gt; |\n",
       "|---|---|---|---|---|---|---|\n",
       "| SVM w/ RF Var Selection | None                | 0.8785714 | 0.8571429 | 0.9000000 | 0.9214286 | 0.8785714 |\n",
       "| SVM w/ RF Var Selection | Nicotine &amp; Cotinine | 0.9157143 | 0.9380952 | 0.8933333 | 0.9250000 | 0.9157143 |\n",
       "\n"
      ],
      "text/plain": [
       "  Model                   Removed.Variables   Balanced.Accuracy Sensitivity\n",
       "1 SVM w/ RF Var Selection None                0.8785714         0.8571429  \n",
       "2 SVM w/ RF Var Selection Nicotine & Cotinine 0.9157143         0.9380952  \n",
       "  Specificity PPV       AUC      \n",
       "1 0.9000000   0.9214286 0.8785714\n",
       "2 0.8933333   0.9250000 0.9157143"
      ]
     },
     "metadata": {},
     "output_type": "display_data"
    }
   ],
   "source": [
    "#creating one combined df\n",
    "subset_svm_final_df = data.frame(rbind(subset_svm, subset_svm_wo_nicotine))\n",
    "\n",
    "subset_svm_final_df = data.frame(Model = c(rep(c(\"SVM w/ RF Var Selection\"), times = 2)), Removed.Variables = c(\"None\", \"Nicotine & Cotinine\"), subset_svm_final_df)\n",
    "subset_svm_final_df"
   ]
  },
  {
   "cell_type": "code",
   "execution_count": 18,
   "id": "a4f1828c",
   "metadata": {},
   "outputs": [
    {
     "data": {
      "text/html": [
       "<table class=\"dataframe\">\n",
       "<caption>A data.frame: 6 × 7</caption>\n",
       "<thead>\n",
       "\t<tr><th scope=col>Model</th><th scope=col>Removed.Variables</th><th scope=col>Balanced.Accuracy</th><th scope=col>Sensitivity</th><th scope=col>Specificity</th><th scope=col>PPV</th><th scope=col>AUC</th></tr>\n",
       "\t<tr><th scope=col>&lt;chr&gt;</th><th scope=col>&lt;chr&gt;</th><th scope=col>&lt;dbl&gt;</th><th scope=col>&lt;dbl&gt;</th><th scope=col>&lt;dbl&gt;</th><th scope=col>&lt;dbl&gt;</th><th scope=col>&lt;dbl&gt;</th></tr>\n",
       "</thead>\n",
       "<tbody>\n",
       "\t<tr><td>Original RF            </td><td>None               </td><td>0.9190476</td><td>0.8714286</td><td>0.9666667</td><td>0.9714286</td><td>0.9190476</td></tr>\n",
       "\t<tr><td><span style=white-space:pre-wrap>Original RF            </span></td><td>Nicotine &amp; Cotinine</td><td>0.6809524</td><td>0.7619048</td><td>0.6000000</td><td>0.7033333</td><td>0.6809524</td></tr>\n",
       "\t<tr><td>Original SVM           </td><td>None               </td><td>0.7752381</td><td>0.7904762</td><td>0.7600000</td><td>0.8300000</td><td>0.7752381</td></tr>\n",
       "\t<tr><td><span style=white-space:pre-wrap>Original SVM           </span></td><td>Nicotine &amp; Cotinine</td><td>0.7752381</td><td>0.7904762</td><td>0.7600000</td><td>0.8300000</td><td>0.7752381</td></tr>\n",
       "\t<tr><td>SVM w/ RF Var Selection</td><td>None               </td><td>0.8785714</td><td>0.8571429</td><td>0.9000000</td><td>0.9214286</td><td>0.8785714</td></tr>\n",
       "\t<tr><td>SVM w/ RF Var Selection</td><td>Nicotine &amp; Cotinine</td><td>0.9157143</td><td>0.9380952</td><td>0.8933333</td><td>0.9250000</td><td>0.9157143</td></tr>\n",
       "</tbody>\n",
       "</table>\n"
      ],
      "text/latex": [
       "A data.frame: 6 × 7\n",
       "\\begin{tabular}{lllllll}\n",
       " Model & Removed.Variables & Balanced.Accuracy & Sensitivity & Specificity & PPV & AUC\\\\\n",
       " <chr> & <chr> & <dbl> & <dbl> & <dbl> & <dbl> & <dbl>\\\\\n",
       "\\hline\n",
       "\t Original RF             & None                & 0.9190476 & 0.8714286 & 0.9666667 & 0.9714286 & 0.9190476\\\\\n",
       "\t Original RF             & Nicotine \\& Cotinine & 0.6809524 & 0.7619048 & 0.6000000 & 0.7033333 & 0.6809524\\\\\n",
       "\t Original SVM            & None                & 0.7752381 & 0.7904762 & 0.7600000 & 0.8300000 & 0.7752381\\\\\n",
       "\t Original SVM            & Nicotine \\& Cotinine & 0.7752381 & 0.7904762 & 0.7600000 & 0.8300000 & 0.7752381\\\\\n",
       "\t SVM w/ RF Var Selection & None                & 0.8785714 & 0.8571429 & 0.9000000 & 0.9214286 & 0.8785714\\\\\n",
       "\t SVM w/ RF Var Selection & Nicotine \\& Cotinine & 0.9157143 & 0.9380952 & 0.8933333 & 0.9250000 & 0.9157143\\\\\n",
       "\\end{tabular}\n"
      ],
      "text/markdown": [
       "\n",
       "A data.frame: 6 × 7\n",
       "\n",
       "| Model &lt;chr&gt; | Removed.Variables &lt;chr&gt; | Balanced.Accuracy &lt;dbl&gt; | Sensitivity &lt;dbl&gt; | Specificity &lt;dbl&gt; | PPV &lt;dbl&gt; | AUC &lt;dbl&gt; |\n",
       "|---|---|---|---|---|---|---|\n",
       "| Original RF             | None                | 0.9190476 | 0.8714286 | 0.9666667 | 0.9714286 | 0.9190476 |\n",
       "| Original RF             | Nicotine &amp; Cotinine | 0.6809524 | 0.7619048 | 0.6000000 | 0.7033333 | 0.6809524 |\n",
       "| Original SVM            | None                | 0.7752381 | 0.7904762 | 0.7600000 | 0.8300000 | 0.7752381 |\n",
       "| Original SVM            | Nicotine &amp; Cotinine | 0.7752381 | 0.7904762 | 0.7600000 | 0.8300000 | 0.7752381 |\n",
       "| SVM w/ RF Var Selection | None                | 0.8785714 | 0.8571429 | 0.9000000 | 0.9214286 | 0.8785714 |\n",
       "| SVM w/ RF Var Selection | Nicotine &amp; Cotinine | 0.9157143 | 0.9380952 | 0.8933333 | 0.9250000 | 0.9157143 |\n",
       "\n"
      ],
      "text/plain": [
       "  Model                   Removed.Variables   Balanced.Accuracy Sensitivity\n",
       "1 Original RF             None                0.9190476         0.8714286  \n",
       "2 Original RF             Nicotine & Cotinine 0.6809524         0.7619048  \n",
       "3 Original SVM            None                0.7752381         0.7904762  \n",
       "4 Original SVM            Nicotine & Cotinine 0.7752381         0.7904762  \n",
       "5 SVM w/ RF Var Selection None                0.8785714         0.8571429  \n",
       "6 SVM w/ RF Var Selection Nicotine & Cotinine 0.9157143         0.9380952  \n",
       "  Specificity PPV       AUC      \n",
       "1 0.9666667   0.9714286 0.9190476\n",
       "2 0.6000000   0.7033333 0.6809524\n",
       "3 0.7600000   0.8300000 0.7752381\n",
       "4 0.7600000   0.8300000 0.7752381\n",
       "5 0.9000000   0.9214286 0.8785714\n",
       "6 0.8933333   0.9250000 0.9157143"
      ]
     },
     "metadata": {},
     "output_type": "display_data"
    }
   ],
   "source": [
    "#all confusion matrix results\n",
    "confusion_matrix_df = rbind(rf_confusion_matrix, svm_final_df, subset_svm_final_df)\n",
    "confusion_matrix_df"
   ]
  },
  {
   "cell_type": "markdown",
   "id": "b9d55166",
   "metadata": {},
   "source": [
    "Going back to create a significant predictors dataframe, which creates a column that specificies whether each figure ranked above random noise."
   ]
  },
  {
   "cell_type": "code",
   "execution_count": 19,
   "id": "84f5b4f6",
   "metadata": {},
   "outputs": [],
   "source": [
    "# converting row names back to columns to make next step easier\n",
    "noise_importance_values = noise_importance_values %>%\n",
    "    rownames_to_column(var = \"MF\")\n",
    "noise_importance_values_wo_nicotine = noise_importance_values_wo_nicotine %>%\n",
    "    rownames_to_column(var = \"MF\")"
   ]
  },
  {
   "cell_type": "code",
   "execution_count": 20,
   "id": "7afb0cf9",
   "metadata": {},
   "outputs": [
    {
     "name": "stderr",
     "output_type": "stream",
     "text": [
      "\u001b[1m\u001b[22mJoining, by = c(\"MF\", \"MeanDecreaseGini\")\n",
      "\u001b[1m\u001b[22mJoining, by = c(\"MF\", \"MeanDecreaseGini\")\n"
     ]
    },
    {
     "data": {
      "text/html": [
       "<table class=\"dataframe\">\n",
       "<caption>A data.frame: 6 × 3</caption>\n",
       "<thead>\n",
       "\t<tr><th></th><th scope=col>MF</th><th scope=col>MeanDecreaseGini</th><th scope=col>Passed_Filter</th></tr>\n",
       "\t<tr><th></th><th scope=col>&lt;chr&gt;</th><th scope=col>&lt;dbl&gt;</th><th scope=col>&lt;chr&gt;</th></tr>\n",
       "</thead>\n",
       "<tbody>\n",
       "\t<tr><th scope=row>1</th><td>MF_97   </td><td>5.4977351</td><td>Yes</td></tr>\n",
       "\t<tr><th scope=row>2</th><td>MF_5    </td><td>4.9484852</td><td>Yes</td></tr>\n",
       "\t<tr><th scope=row>3</th><td>MF_292  </td><td>0.2964212</td><td>Yes</td></tr>\n",
       "\t<tr><th scope=row>4</th><td>MF_7221 </td><td>0.1751290</td><td>Yes</td></tr>\n",
       "\t<tr><th scope=row>5</th><td>MF_13899</td><td>0.1653979</td><td>Yes</td></tr>\n",
       "\t<tr><th scope=row>6</th><td>MF_4803 </td><td>0.1411132</td><td>Yes</td></tr>\n",
       "</tbody>\n",
       "</table>\n"
      ],
      "text/latex": [
       "A data.frame: 6 × 3\n",
       "\\begin{tabular}{r|lll}\n",
       "  & MF & MeanDecreaseGini & Passed\\_Filter\\\\\n",
       "  & <chr> & <dbl> & <chr>\\\\\n",
       "\\hline\n",
       "\t1 & MF\\_97    & 5.4977351 & Yes\\\\\n",
       "\t2 & MF\\_5     & 4.9484852 & Yes\\\\\n",
       "\t3 & MF\\_292   & 0.2964212 & Yes\\\\\n",
       "\t4 & MF\\_7221  & 0.1751290 & Yes\\\\\n",
       "\t5 & MF\\_13899 & 0.1653979 & Yes\\\\\n",
       "\t6 & MF\\_4803  & 0.1411132 & Yes\\\\\n",
       "\\end{tabular}\n"
      ],
      "text/markdown": [
       "\n",
       "A data.frame: 6 × 3\n",
       "\n",
       "| <!--/--> | MF &lt;chr&gt; | MeanDecreaseGini &lt;dbl&gt; | Passed_Filter &lt;chr&gt; |\n",
       "|---|---|---|---|\n",
       "| 1 | MF_97    | 5.4977351 | Yes |\n",
       "| 2 | MF_5     | 4.9484852 | Yes |\n",
       "| 3 | MF_292   | 0.2964212 | Yes |\n",
       "| 4 | MF_7221  | 0.1751290 | Yes |\n",
       "| 5 | MF_13899 | 0.1653979 | Yes |\n",
       "| 6 | MF_4803  | 0.1411132 | Yes |\n",
       "\n"
      ],
      "text/plain": [
       "  MF       MeanDecreaseGini Passed_Filter\n",
       "1 MF_97    5.4977351        Yes          \n",
       "2 MF_5     4.9484852        Yes          \n",
       "3 MF_292   0.2964212        Yes          \n",
       "4 MF_7221  0.1751290        Yes          \n",
       "5 MF_13899 0.1653979        Yes          \n",
       "6 MF_4803  0.1411132        Yes          "
      ]
     },
     "metadata": {},
     "output_type": "display_data"
    }
   ],
   "source": [
    "# getting dataframe ready to export variable importance ranks from above and whether those features passed the \n",
    "# background filter\n",
    "noise_variable_importance_ranks = function(noise_importance_values_df, significant_predictors){\n",
    "    # filtering the original rank df for predictors that were significant (above random noise)\n",
    "    filtered_significant_ranks_df = noise_importance_values_df %>%\n",
    "        filter(MF %in% significant_predictors) %>%\n",
    "        arrange(-MeanDecreaseGini)\n",
    "    \n",
    "    # adding a column denoting if the feature was above random noise\n",
    "    filtered_significant_ranks_df$Passed_Filter = c(rep(c(\"Yes\"), times = length(filtered_significant_ranks_df$MF)))\n",
    "    \n",
    "    final_df = full_join(filtered_significant_ranks_df, noise_importance_values_df)\n",
    "    return(final_df)\n",
    "}\n",
    "\n",
    "# calling fn\n",
    "significant_predictors_df = noise_variable_importance_ranks(noise_importance_values, significant_MFs)\n",
    "significant_predictors_df_wo_nicotine = noise_variable_importance_ranks(noise_importance_values_wo_nicotine, significant_MFs_wo_nicotine)\n",
    "head(significant_predictors_df)"
   ]
  },
  {
   "cell_type": "code",
   "execution_count": 21,
   "id": "17af3758",
   "metadata": {},
   "outputs": [],
   "source": [
    "# exporting results\n",
    "# feature ranking\n",
    "write.csv(rf_values[[3]], paste0(Output,\"/\", cur_date, \"_Feature_Ranking_covariates.csv\"), row.names = FALSE)\n",
    "write.csv(rf_values_wo_nicotine[[3]], paste0(Output,\"/\", cur_date, \"_Feature_Ranking_wo_nicotine_covariates.csv\"), row.names = FALSE)\n",
    "write.csv(significant_predictors_df, paste0(Output,\"/\", cur_date, \"_Feature_Ranking_covariates_noise.csv\"), row.names = FALSE)\n",
    "write.csv(significant_predictors_df_wo_nicotine, paste0(Output,\"/\", cur_date, \"_Feature_Ranking_wo_nicotine_noise.csv\"), row.names = FALSE)\n",
    "\n",
    "\n",
    "# confusion matrix results\n",
    "write.csv(confusion_matrix_df, paste0(Output,\"/\", cur_date, \"_Smoking_Status_Prediction_Results_Covariates.csv\"), row.names = FALSE)"
   ]
  },
  {
   "cell_type": "code",
   "execution_count": null,
   "id": "d08f4225",
   "metadata": {},
   "outputs": [],
   "source": []
  }
 ],
 "metadata": {
  "kernelspec": {
   "display_name": "R",
   "language": "R",
   "name": "ir"
  },
  "language_info": {
   "codemirror_mode": "r",
   "file_extension": ".r",
   "mimetype": "text/x-r-source",
   "name": "R",
   "pygments_lexer": "r",
   "version": "4.1.2"
  }
 },
 "nbformat": 4,
 "nbformat_minor": 5
}
