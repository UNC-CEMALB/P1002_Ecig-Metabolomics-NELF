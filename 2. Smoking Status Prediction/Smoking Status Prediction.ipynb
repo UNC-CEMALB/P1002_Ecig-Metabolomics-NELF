{
 "cells": [
  {
   "cell_type": "code",
   "execution_count": 1,
   "id": "respiratory-series",
   "metadata": {},
   "outputs": [],
   "source": [
    "# if (!require(\"BiocManager\", quietly = TRUE))\n",
    "#     install.packages(\"BiocManager\")\n",
    "# BiocManager::install(version = \"3.10\")\n",
    "# BiocManager::install(\"randomForest\")"
   ]
  },
  {
   "cell_type": "code",
   "execution_count": 2,
   "id": "daily-toilet",
   "metadata": {},
   "outputs": [
    {
     "name": "stderr",
     "output_type": "stream",
     "text": [
      "── \u001b[1mAttaching packages\u001b[22m ─────────────────────────────────────── tidyverse 1.3.0 ──\n",
      "\n",
      "\u001b[32m✔\u001b[39m \u001b[34mggplot2\u001b[39m 3.3.3     \u001b[32m✔\u001b[39m \u001b[34mpurrr  \u001b[39m 0.3.4\n",
      "\u001b[32m✔\u001b[39m \u001b[34mtibble \u001b[39m 3.0.6     \u001b[32m✔\u001b[39m \u001b[34mdplyr  \u001b[39m 1.0.4\n",
      "\u001b[32m✔\u001b[39m \u001b[34mtidyr  \u001b[39m 1.1.2     \u001b[32m✔\u001b[39m \u001b[34mstringr\u001b[39m 1.4.0\n",
      "\u001b[32m✔\u001b[39m \u001b[34mreadr  \u001b[39m 1.4.0     \u001b[32m✔\u001b[39m \u001b[34mforcats\u001b[39m 0.5.1\n",
      "\n",
      "── \u001b[1mConflicts\u001b[22m ────────────────────────────────────────── tidyverse_conflicts() ──\n",
      "\u001b[31m✖\u001b[39m \u001b[34mdplyr\u001b[39m::\u001b[32mfilter()\u001b[39m masks \u001b[34mstats\u001b[39m::filter()\n",
      "\u001b[31m✖\u001b[39m \u001b[34mdplyr\u001b[39m::\u001b[32mlag()\u001b[39m    masks \u001b[34mstats\u001b[39m::lag()\n",
      "\n",
      "Loading required package: lattice\n",
      "\n",
      "\n",
      "Attaching package: ‘caret’\n",
      "\n",
      "\n",
      "The following object is masked from ‘package:purrr’:\n",
      "\n",
      "    lift\n",
      "\n",
      "\n",
      "Loading required package: survival\n",
      "\n",
      "\n",
      "Attaching package: ‘survival’\n",
      "\n",
      "\n",
      "The following object is masked from ‘package:caret’:\n",
      "\n",
      "    cluster\n",
      "\n",
      "\n",
      "Loading required package: Formula\n",
      "\n",
      "\n",
      "Attaching package: ‘Hmisc’\n",
      "\n",
      "\n",
      "The following object is masked from ‘package:e1071’:\n",
      "\n",
      "    impute\n",
      "\n",
      "\n",
      "The following objects are masked from ‘package:dplyr’:\n",
      "\n",
      "    src, summarize\n",
      "\n",
      "\n",
      "The following objects are masked from ‘package:base’:\n",
      "\n",
      "    format.pval, units\n",
      "\n",
      "\n",
      "Loading required package: Matrix\n",
      "\n",
      "\n",
      "Attaching package: ‘Matrix’\n",
      "\n",
      "\n",
      "The following objects are masked from ‘package:tidyr’:\n",
      "\n",
      "    expand, pack, unpack\n",
      "\n",
      "\n",
      "Loaded glmnet 4.1\n",
      "\n",
      "Type 'citation(\"pROC\")' for a citation.\n",
      "\n",
      "\n",
      "Attaching package: ‘pROC’\n",
      "\n",
      "\n",
      "The following objects are masked from ‘package:stats’:\n",
      "\n",
      "    cov, smooth, var\n",
      "\n",
      "\n",
      "randomForest 4.6-14\n",
      "\n",
      "Type rfNews() to see new features/changes/bug fixes.\n",
      "\n",
      "\n",
      "Attaching package: ‘randomForest’\n",
      "\n",
      "\n",
      "The following object is masked from ‘package:dplyr’:\n",
      "\n",
      "    combine\n",
      "\n",
      "\n",
      "The following object is masked from ‘package:ggplot2’:\n",
      "\n",
      "    margin\n",
      "\n",
      "\n",
      "\n",
      "\u001b[36m──\u001b[39m \u001b[1m\u001b[1mColumn specification\u001b[1m\u001b[22m \u001b[36m────────────────────────────────────────────────────────\u001b[39m\n",
      "cols(\n",
      "  .default = col_double(),\n",
      "  sample = \u001b[31mcol_character()\u001b[39m\n",
      ")\n",
      "\u001b[36mℹ\u001b[39m Use \u001b[30m\u001b[47m\u001b[30m\u001b[47m`spec()`\u001b[47m\u001b[30m\u001b[49m\u001b[39m for the full column specifications.\n",
      "\n",
      "\n"
     ]
    }
   ],
   "source": [
    "setwd('/Users/alexis/University of North Carolina at Chapel Hill/Rager, Julia - CEMALB_DataAnalysisPM/Projects/P1002. Ecig Metabolomics NELF/P1002.3. Analyses/P1002.3.2. Smoking Status Prediction/Input')\n",
    "Output = ('/Users/alexis/University of North Carolina at Chapel Hill/Rager, Julia - CEMALB_DataAnalysisPM/Projects/P1002. Ecig Metabolomics NELF/P1002.3. Analyses/P1002.3.2. Smoking Status Prediction/Output')\n",
    "cur_date = \"030922\"\n",
    "\n",
    "library(tidyverse)\n",
    "library(caret)\n",
    "library(e1071)\n",
    "library(Hmisc)\n",
    "library(glmnet)\n",
    "library(pROC)\n",
    "library(randomForest)\n",
    "\n",
    "#reading in file\n",
    "molecular_feature_df_w_Ecig_40 = read_csv(\"20220217_mf_qrilc_w40.csv\") %>%\n",
    "     rename(Smoking_Status = sample)"
   ]
  },
  {
   "cell_type": "code",
   "execution_count": 3,
   "id": "premier-wisconsin",
   "metadata": {},
   "outputs": [
    {
     "data": {
      "text/html": [
       "<table class=\"dataframe\">\n",
       "<caption>A tibble: 6 × 3873</caption>\n",
       "<thead>\n",
       "\t<tr><th scope=col>Smoking_Status</th><th scope=col>MF_2</th><th scope=col>MF_3</th><th scope=col>MF_4</th><th scope=col>MF_5</th><th scope=col>MF_6</th><th scope=col>MF_7</th><th scope=col>MF_11</th><th scope=col>MF_12</th><th scope=col>MF_13</th><th scope=col>⋯</th><th scope=col>MF_62853</th><th scope=col>MF_63431</th><th scope=col>MF_63701</th><th scope=col>MF_64025</th><th scope=col>MF_64936</th><th scope=col>MF_65532</th><th scope=col>MF_68286</th><th scope=col>MF_73340</th><th scope=col>MF_77165</th><th scope=col>MF_78976</th></tr>\n",
       "\t<tr><th scope=col>&lt;chr&gt;</th><th scope=col>&lt;dbl&gt;</th><th scope=col>&lt;dbl&gt;</th><th scope=col>&lt;dbl&gt;</th><th scope=col>&lt;dbl&gt;</th><th scope=col>&lt;dbl&gt;</th><th scope=col>&lt;dbl&gt;</th><th scope=col>&lt;dbl&gt;</th><th scope=col>&lt;dbl&gt;</th><th scope=col>&lt;dbl&gt;</th><th scope=col>⋯</th><th scope=col>&lt;dbl&gt;</th><th scope=col>&lt;dbl&gt;</th><th scope=col>&lt;dbl&gt;</th><th scope=col>&lt;dbl&gt;</th><th scope=col>&lt;dbl&gt;</th><th scope=col>&lt;dbl&gt;</th><th scope=col>&lt;dbl&gt;</th><th scope=col>&lt;dbl&gt;</th><th scope=col>&lt;dbl&gt;</th><th scope=col>&lt;dbl&gt;</th></tr>\n",
       "</thead>\n",
       "<tbody>\n",
       "\t<tr><td>NS_070</td><td>19.86186</td><td>17.86943</td><td>19.21394</td><td>18.02809</td><td>17.46636</td><td>18.34174</td><td>18.41799</td><td>19.31361</td><td>19.46777</td><td>⋯</td><td>19.06974</td><td>19.10260</td><td>17.17255</td><td>16.92465</td><td>17.09794</td><td>19.06203</td><td>19.13556</td><td>16.93182</td><td>17.55702</td><td>17.05593</td></tr>\n",
       "\t<tr><td>NS_110</td><td>21.08622</td><td>22.58769</td><td>21.05378</td><td>17.93584</td><td>17.33098</td><td>20.41479</td><td>20.37485</td><td>21.12876</td><td>21.01488</td><td>⋯</td><td>18.02560</td><td>17.82667</td><td>19.37426</td><td>16.23450</td><td>19.06421</td><td>18.06379</td><td>19.39103</td><td>16.72112</td><td>19.27343</td><td>19.30881</td></tr>\n",
       "\t<tr><td>NS_143</td><td>13.12099</td><td>14.44659</td><td>13.46827</td><td>16.51009</td><td>14.93820</td><td>15.66299</td><td>15.72731</td><td>13.78698</td><td>15.18975</td><td>⋯</td><td>19.14095</td><td>19.02411</td><td>19.56175</td><td>17.17120</td><td>16.97302</td><td>19.49121</td><td>17.09470</td><td>15.56214</td><td>19.55038</td><td>19.54912</td></tr>\n",
       "\t<tr><td>NS_152</td><td>21.60361</td><td>23.22761</td><td>21.99010</td><td>16.22547</td><td>17.59020</td><td>21.53908</td><td>21.14531</td><td>22.07857</td><td>21.97502</td><td>⋯</td><td>19.28751</td><td>19.54886</td><td>16.78848</td><td>16.46750</td><td>19.47635</td><td>19.44477</td><td>16.99617</td><td>16.09531</td><td>19.28810</td><td>19.32788</td></tr>\n",
       "\t<tr><td>NS_187</td><td>19.43885</td><td>17.93876</td><td>19.68977</td><td>16.73360</td><td>17.88844</td><td>17.81758</td><td>17.64979</td><td>19.64269</td><td>19.32233</td><td>⋯</td><td>16.70042</td><td>17.85969</td><td>18.97406</td><td>18.18813</td><td>18.50336</td><td>19.19085</td><td>19.41757</td><td>16.88993</td><td>19.35678</td><td>18.95550</td></tr>\n",
       "\t<tr><td>NS_196</td><td>22.53459</td><td>24.36662</td><td>22.77595</td><td>16.69956</td><td>16.38411</td><td>22.55912</td><td>17.30008</td><td>22.80146</td><td>22.09338</td><td>⋯</td><td>16.86999</td><td>15.82637</td><td>19.46467</td><td>16.97149</td><td>17.46699</td><td>16.32598</td><td>15.62938</td><td>17.37207</td><td>15.84334</td><td>17.82000</td></tr>\n",
       "</tbody>\n",
       "</table>\n"
      ],
      "text/latex": [
       "A tibble: 6 × 3873\n",
       "\\begin{tabular}{lllllllllllllllllllll}\n",
       " Smoking\\_Status & MF\\_2 & MF\\_3 & MF\\_4 & MF\\_5 & MF\\_6 & MF\\_7 & MF\\_11 & MF\\_12 & MF\\_13 & ⋯ & MF\\_62853 & MF\\_63431 & MF\\_63701 & MF\\_64025 & MF\\_64936 & MF\\_65532 & MF\\_68286 & MF\\_73340 & MF\\_77165 & MF\\_78976\\\\\n",
       " <chr> & <dbl> & <dbl> & <dbl> & <dbl> & <dbl> & <dbl> & <dbl> & <dbl> & <dbl> & ⋯ & <dbl> & <dbl> & <dbl> & <dbl> & <dbl> & <dbl> & <dbl> & <dbl> & <dbl> & <dbl>\\\\\n",
       "\\hline\n",
       "\t NS\\_070 & 19.86186 & 17.86943 & 19.21394 & 18.02809 & 17.46636 & 18.34174 & 18.41799 & 19.31361 & 19.46777 & ⋯ & 19.06974 & 19.10260 & 17.17255 & 16.92465 & 17.09794 & 19.06203 & 19.13556 & 16.93182 & 17.55702 & 17.05593\\\\\n",
       "\t NS\\_110 & 21.08622 & 22.58769 & 21.05378 & 17.93584 & 17.33098 & 20.41479 & 20.37485 & 21.12876 & 21.01488 & ⋯ & 18.02560 & 17.82667 & 19.37426 & 16.23450 & 19.06421 & 18.06379 & 19.39103 & 16.72112 & 19.27343 & 19.30881\\\\\n",
       "\t NS\\_143 & 13.12099 & 14.44659 & 13.46827 & 16.51009 & 14.93820 & 15.66299 & 15.72731 & 13.78698 & 15.18975 & ⋯ & 19.14095 & 19.02411 & 19.56175 & 17.17120 & 16.97302 & 19.49121 & 17.09470 & 15.56214 & 19.55038 & 19.54912\\\\\n",
       "\t NS\\_152 & 21.60361 & 23.22761 & 21.99010 & 16.22547 & 17.59020 & 21.53908 & 21.14531 & 22.07857 & 21.97502 & ⋯ & 19.28751 & 19.54886 & 16.78848 & 16.46750 & 19.47635 & 19.44477 & 16.99617 & 16.09531 & 19.28810 & 19.32788\\\\\n",
       "\t NS\\_187 & 19.43885 & 17.93876 & 19.68977 & 16.73360 & 17.88844 & 17.81758 & 17.64979 & 19.64269 & 19.32233 & ⋯ & 16.70042 & 17.85969 & 18.97406 & 18.18813 & 18.50336 & 19.19085 & 19.41757 & 16.88993 & 19.35678 & 18.95550\\\\\n",
       "\t NS\\_196 & 22.53459 & 24.36662 & 22.77595 & 16.69956 & 16.38411 & 22.55912 & 17.30008 & 22.80146 & 22.09338 & ⋯ & 16.86999 & 15.82637 & 19.46467 & 16.97149 & 17.46699 & 16.32598 & 15.62938 & 17.37207 & 15.84334 & 17.82000\\\\\n",
       "\\end{tabular}\n"
      ],
      "text/markdown": [
       "\n",
       "A tibble: 6 × 3873\n",
       "\n",
       "| Smoking_Status &lt;chr&gt; | MF_2 &lt;dbl&gt; | MF_3 &lt;dbl&gt; | MF_4 &lt;dbl&gt; | MF_5 &lt;dbl&gt; | MF_6 &lt;dbl&gt; | MF_7 &lt;dbl&gt; | MF_11 &lt;dbl&gt; | MF_12 &lt;dbl&gt; | MF_13 &lt;dbl&gt; | ⋯ ⋯ | MF_62853 &lt;dbl&gt; | MF_63431 &lt;dbl&gt; | MF_63701 &lt;dbl&gt; | MF_64025 &lt;dbl&gt; | MF_64936 &lt;dbl&gt; | MF_65532 &lt;dbl&gt; | MF_68286 &lt;dbl&gt; | MF_73340 &lt;dbl&gt; | MF_77165 &lt;dbl&gt; | MF_78976 &lt;dbl&gt; |\n",
       "|---|---|---|---|---|---|---|---|---|---|---|---|---|---|---|---|---|---|---|---|---|\n",
       "| NS_070 | 19.86186 | 17.86943 | 19.21394 | 18.02809 | 17.46636 | 18.34174 | 18.41799 | 19.31361 | 19.46777 | ⋯ | 19.06974 | 19.10260 | 17.17255 | 16.92465 | 17.09794 | 19.06203 | 19.13556 | 16.93182 | 17.55702 | 17.05593 |\n",
       "| NS_110 | 21.08622 | 22.58769 | 21.05378 | 17.93584 | 17.33098 | 20.41479 | 20.37485 | 21.12876 | 21.01488 | ⋯ | 18.02560 | 17.82667 | 19.37426 | 16.23450 | 19.06421 | 18.06379 | 19.39103 | 16.72112 | 19.27343 | 19.30881 |\n",
       "| NS_143 | 13.12099 | 14.44659 | 13.46827 | 16.51009 | 14.93820 | 15.66299 | 15.72731 | 13.78698 | 15.18975 | ⋯ | 19.14095 | 19.02411 | 19.56175 | 17.17120 | 16.97302 | 19.49121 | 17.09470 | 15.56214 | 19.55038 | 19.54912 |\n",
       "| NS_152 | 21.60361 | 23.22761 | 21.99010 | 16.22547 | 17.59020 | 21.53908 | 21.14531 | 22.07857 | 21.97502 | ⋯ | 19.28751 | 19.54886 | 16.78848 | 16.46750 | 19.47635 | 19.44477 | 16.99617 | 16.09531 | 19.28810 | 19.32788 |\n",
       "| NS_187 | 19.43885 | 17.93876 | 19.68977 | 16.73360 | 17.88844 | 17.81758 | 17.64979 | 19.64269 | 19.32233 | ⋯ | 16.70042 | 17.85969 | 18.97406 | 18.18813 | 18.50336 | 19.19085 | 19.41757 | 16.88993 | 19.35678 | 18.95550 |\n",
       "| NS_196 | 22.53459 | 24.36662 | 22.77595 | 16.69956 | 16.38411 | 22.55912 | 17.30008 | 22.80146 | 22.09338 | ⋯ | 16.86999 | 15.82637 | 19.46467 | 16.97149 | 17.46699 | 16.32598 | 15.62938 | 17.37207 | 15.84334 | 17.82000 |\n",
       "\n"
      ],
      "text/plain": [
       "  Smoking_Status MF_2     MF_3     MF_4     MF_5     MF_6     MF_7     MF_11   \n",
       "1 NS_070         19.86186 17.86943 19.21394 18.02809 17.46636 18.34174 18.41799\n",
       "2 NS_110         21.08622 22.58769 21.05378 17.93584 17.33098 20.41479 20.37485\n",
       "3 NS_143         13.12099 14.44659 13.46827 16.51009 14.93820 15.66299 15.72731\n",
       "4 NS_152         21.60361 23.22761 21.99010 16.22547 17.59020 21.53908 21.14531\n",
       "5 NS_187         19.43885 17.93876 19.68977 16.73360 17.88844 17.81758 17.64979\n",
       "6 NS_196         22.53459 24.36662 22.77595 16.69956 16.38411 22.55912 17.30008\n",
       "  MF_12    MF_13    ⋯ MF_62853 MF_63431 MF_63701 MF_64025 MF_64936 MF_65532\n",
       "1 19.31361 19.46777 ⋯ 19.06974 19.10260 17.17255 16.92465 17.09794 19.06203\n",
       "2 21.12876 21.01488 ⋯ 18.02560 17.82667 19.37426 16.23450 19.06421 18.06379\n",
       "3 13.78698 15.18975 ⋯ 19.14095 19.02411 19.56175 17.17120 16.97302 19.49121\n",
       "4 22.07857 21.97502 ⋯ 19.28751 19.54886 16.78848 16.46750 19.47635 19.44477\n",
       "5 19.64269 19.32233 ⋯ 16.70042 17.85969 18.97406 18.18813 18.50336 19.19085\n",
       "6 22.80146 22.09338 ⋯ 16.86999 15.82637 19.46467 16.97149 17.46699 16.32598\n",
       "  MF_68286 MF_73340 MF_77165 MF_78976\n",
       "1 19.13556 16.93182 17.55702 17.05593\n",
       "2 19.39103 16.72112 19.27343 19.30881\n",
       "3 17.09470 15.56214 19.55038 19.54912\n",
       "4 16.99617 16.09531 19.28810 19.32788\n",
       "5 19.41757 16.88993 19.35678 18.95550\n",
       "6 15.62938 17.37207 15.84334 17.82000"
      ]
     },
     "metadata": {},
     "output_type": "display_data"
    }
   ],
   "source": [
    "head(molecular_feature_df_w_Ecig_40)"
   ]
  },
  {
   "cell_type": "code",
   "execution_count": 4,
   "id": "choice-easter",
   "metadata": {},
   "outputs": [
    {
     "data": {
      "text/html": [
       "<table class=\"dataframe\">\n",
       "<caption>A tibble: 6 × 3873</caption>\n",
       "<thead>\n",
       "\t<tr><th scope=col>Smoking_Status</th><th scope=col>MF_2</th><th scope=col>MF_3</th><th scope=col>MF_4</th><th scope=col>MF_5</th><th scope=col>MF_6</th><th scope=col>MF_7</th><th scope=col>MF_11</th><th scope=col>MF_12</th><th scope=col>MF_13</th><th scope=col>⋯</th><th scope=col>MF_62853</th><th scope=col>MF_63431</th><th scope=col>MF_63701</th><th scope=col>MF_64025</th><th scope=col>MF_64936</th><th scope=col>MF_65532</th><th scope=col>MF_68286</th><th scope=col>MF_73340</th><th scope=col>MF_77165</th><th scope=col>MF_78976</th></tr>\n",
       "\t<tr><th scope=col>&lt;fct&gt;</th><th scope=col>&lt;dbl&gt;</th><th scope=col>&lt;dbl&gt;</th><th scope=col>&lt;dbl&gt;</th><th scope=col>&lt;dbl&gt;</th><th scope=col>&lt;dbl&gt;</th><th scope=col>&lt;dbl&gt;</th><th scope=col>&lt;dbl&gt;</th><th scope=col>&lt;dbl&gt;</th><th scope=col>&lt;dbl&gt;</th><th scope=col>⋯</th><th scope=col>&lt;dbl&gt;</th><th scope=col>&lt;dbl&gt;</th><th scope=col>&lt;dbl&gt;</th><th scope=col>&lt;dbl&gt;</th><th scope=col>&lt;dbl&gt;</th><th scope=col>&lt;dbl&gt;</th><th scope=col>&lt;dbl&gt;</th><th scope=col>&lt;dbl&gt;</th><th scope=col>&lt;dbl&gt;</th><th scope=col>&lt;dbl&gt;</th></tr>\n",
       "</thead>\n",
       "<tbody>\n",
       "\t<tr><td>0</td><td>19.86186</td><td>17.86943</td><td>19.21394</td><td>18.02809</td><td>17.46636</td><td>18.34174</td><td>18.41799</td><td>19.31361</td><td>19.46777</td><td>⋯</td><td>19.06974</td><td>19.10260</td><td>17.17255</td><td>16.92465</td><td>17.09794</td><td>19.06203</td><td>19.13556</td><td>16.93182</td><td>17.55702</td><td>17.05593</td></tr>\n",
       "\t<tr><td>0</td><td>21.08622</td><td>22.58769</td><td>21.05378</td><td>17.93584</td><td>17.33098</td><td>20.41479</td><td>20.37485</td><td>21.12876</td><td>21.01488</td><td>⋯</td><td>18.02560</td><td>17.82667</td><td>19.37426</td><td>16.23450</td><td>19.06421</td><td>18.06379</td><td>19.39103</td><td>16.72112</td><td>19.27343</td><td>19.30881</td></tr>\n",
       "\t<tr><td>0</td><td>13.12099</td><td>14.44659</td><td>13.46827</td><td>16.51009</td><td>14.93820</td><td>15.66299</td><td>15.72731</td><td>13.78698</td><td>15.18975</td><td>⋯</td><td>19.14095</td><td>19.02411</td><td>19.56175</td><td>17.17120</td><td>16.97302</td><td>19.49121</td><td>17.09470</td><td>15.56214</td><td>19.55038</td><td>19.54912</td></tr>\n",
       "\t<tr><td>0</td><td>21.60361</td><td>23.22761</td><td>21.99010</td><td>16.22547</td><td>17.59020</td><td>21.53908</td><td>21.14531</td><td>22.07857</td><td>21.97502</td><td>⋯</td><td>19.28751</td><td>19.54886</td><td>16.78848</td><td>16.46750</td><td>19.47635</td><td>19.44477</td><td>16.99617</td><td>16.09531</td><td>19.28810</td><td>19.32788</td></tr>\n",
       "\t<tr><td>0</td><td>19.43885</td><td>17.93876</td><td>19.68977</td><td>16.73360</td><td>17.88844</td><td>17.81758</td><td>17.64979</td><td>19.64269</td><td>19.32233</td><td>⋯</td><td>16.70042</td><td>17.85969</td><td>18.97406</td><td>18.18813</td><td>18.50336</td><td>19.19085</td><td>19.41757</td><td>16.88993</td><td>19.35678</td><td>18.95550</td></tr>\n",
       "\t<tr><td>0</td><td>22.53459</td><td>24.36662</td><td>22.77595</td><td>16.69956</td><td>16.38411</td><td>22.55912</td><td>17.30008</td><td>22.80146</td><td>22.09338</td><td>⋯</td><td>16.86999</td><td>15.82637</td><td>19.46467</td><td>16.97149</td><td>17.46699</td><td>16.32598</td><td>15.62938</td><td>17.37207</td><td>15.84334</td><td>17.82000</td></tr>\n",
       "</tbody>\n",
       "</table>\n"
      ],
      "text/latex": [
       "A tibble: 6 × 3873\n",
       "\\begin{tabular}{lllllllllllllllllllll}\n",
       " Smoking\\_Status & MF\\_2 & MF\\_3 & MF\\_4 & MF\\_5 & MF\\_6 & MF\\_7 & MF\\_11 & MF\\_12 & MF\\_13 & ⋯ & MF\\_62853 & MF\\_63431 & MF\\_63701 & MF\\_64025 & MF\\_64936 & MF\\_65532 & MF\\_68286 & MF\\_73340 & MF\\_77165 & MF\\_78976\\\\\n",
       " <fct> & <dbl> & <dbl> & <dbl> & <dbl> & <dbl> & <dbl> & <dbl> & <dbl> & <dbl> & ⋯ & <dbl> & <dbl> & <dbl> & <dbl> & <dbl> & <dbl> & <dbl> & <dbl> & <dbl> & <dbl>\\\\\n",
       "\\hline\n",
       "\t 0 & 19.86186 & 17.86943 & 19.21394 & 18.02809 & 17.46636 & 18.34174 & 18.41799 & 19.31361 & 19.46777 & ⋯ & 19.06974 & 19.10260 & 17.17255 & 16.92465 & 17.09794 & 19.06203 & 19.13556 & 16.93182 & 17.55702 & 17.05593\\\\\n",
       "\t 0 & 21.08622 & 22.58769 & 21.05378 & 17.93584 & 17.33098 & 20.41479 & 20.37485 & 21.12876 & 21.01488 & ⋯ & 18.02560 & 17.82667 & 19.37426 & 16.23450 & 19.06421 & 18.06379 & 19.39103 & 16.72112 & 19.27343 & 19.30881\\\\\n",
       "\t 0 & 13.12099 & 14.44659 & 13.46827 & 16.51009 & 14.93820 & 15.66299 & 15.72731 & 13.78698 & 15.18975 & ⋯ & 19.14095 & 19.02411 & 19.56175 & 17.17120 & 16.97302 & 19.49121 & 17.09470 & 15.56214 & 19.55038 & 19.54912\\\\\n",
       "\t 0 & 21.60361 & 23.22761 & 21.99010 & 16.22547 & 17.59020 & 21.53908 & 21.14531 & 22.07857 & 21.97502 & ⋯ & 19.28751 & 19.54886 & 16.78848 & 16.46750 & 19.47635 & 19.44477 & 16.99617 & 16.09531 & 19.28810 & 19.32788\\\\\n",
       "\t 0 & 19.43885 & 17.93876 & 19.68977 & 16.73360 & 17.88844 & 17.81758 & 17.64979 & 19.64269 & 19.32233 & ⋯ & 16.70042 & 17.85969 & 18.97406 & 18.18813 & 18.50336 & 19.19085 & 19.41757 & 16.88993 & 19.35678 & 18.95550\\\\\n",
       "\t 0 & 22.53459 & 24.36662 & 22.77595 & 16.69956 & 16.38411 & 22.55912 & 17.30008 & 22.80146 & 22.09338 & ⋯ & 16.86999 & 15.82637 & 19.46467 & 16.97149 & 17.46699 & 16.32598 & 15.62938 & 17.37207 & 15.84334 & 17.82000\\\\\n",
       "\\end{tabular}\n"
      ],
      "text/markdown": [
       "\n",
       "A tibble: 6 × 3873\n",
       "\n",
       "| Smoking_Status &lt;fct&gt; | MF_2 &lt;dbl&gt; | MF_3 &lt;dbl&gt; | MF_4 &lt;dbl&gt; | MF_5 &lt;dbl&gt; | MF_6 &lt;dbl&gt; | MF_7 &lt;dbl&gt; | MF_11 &lt;dbl&gt; | MF_12 &lt;dbl&gt; | MF_13 &lt;dbl&gt; | ⋯ ⋯ | MF_62853 &lt;dbl&gt; | MF_63431 &lt;dbl&gt; | MF_63701 &lt;dbl&gt; | MF_64025 &lt;dbl&gt; | MF_64936 &lt;dbl&gt; | MF_65532 &lt;dbl&gt; | MF_68286 &lt;dbl&gt; | MF_73340 &lt;dbl&gt; | MF_77165 &lt;dbl&gt; | MF_78976 &lt;dbl&gt; |\n",
       "|---|---|---|---|---|---|---|---|---|---|---|---|---|---|---|---|---|---|---|---|---|\n",
       "| 0 | 19.86186 | 17.86943 | 19.21394 | 18.02809 | 17.46636 | 18.34174 | 18.41799 | 19.31361 | 19.46777 | ⋯ | 19.06974 | 19.10260 | 17.17255 | 16.92465 | 17.09794 | 19.06203 | 19.13556 | 16.93182 | 17.55702 | 17.05593 |\n",
       "| 0 | 21.08622 | 22.58769 | 21.05378 | 17.93584 | 17.33098 | 20.41479 | 20.37485 | 21.12876 | 21.01488 | ⋯ | 18.02560 | 17.82667 | 19.37426 | 16.23450 | 19.06421 | 18.06379 | 19.39103 | 16.72112 | 19.27343 | 19.30881 |\n",
       "| 0 | 13.12099 | 14.44659 | 13.46827 | 16.51009 | 14.93820 | 15.66299 | 15.72731 | 13.78698 | 15.18975 | ⋯ | 19.14095 | 19.02411 | 19.56175 | 17.17120 | 16.97302 | 19.49121 | 17.09470 | 15.56214 | 19.55038 | 19.54912 |\n",
       "| 0 | 21.60361 | 23.22761 | 21.99010 | 16.22547 | 17.59020 | 21.53908 | 21.14531 | 22.07857 | 21.97502 | ⋯ | 19.28751 | 19.54886 | 16.78848 | 16.46750 | 19.47635 | 19.44477 | 16.99617 | 16.09531 | 19.28810 | 19.32788 |\n",
       "| 0 | 19.43885 | 17.93876 | 19.68977 | 16.73360 | 17.88844 | 17.81758 | 17.64979 | 19.64269 | 19.32233 | ⋯ | 16.70042 | 17.85969 | 18.97406 | 18.18813 | 18.50336 | 19.19085 | 19.41757 | 16.88993 | 19.35678 | 18.95550 |\n",
       "| 0 | 22.53459 | 24.36662 | 22.77595 | 16.69956 | 16.38411 | 22.55912 | 17.30008 | 22.80146 | 22.09338 | ⋯ | 16.86999 | 15.82637 | 19.46467 | 16.97149 | 17.46699 | 16.32598 | 15.62938 | 17.37207 | 15.84334 | 17.82000 |\n",
       "\n"
      ],
      "text/plain": [
       "  Smoking_Status MF_2     MF_3     MF_4     MF_5     MF_6     MF_7     MF_11   \n",
       "1 0              19.86186 17.86943 19.21394 18.02809 17.46636 18.34174 18.41799\n",
       "2 0              21.08622 22.58769 21.05378 17.93584 17.33098 20.41479 20.37485\n",
       "3 0              13.12099 14.44659 13.46827 16.51009 14.93820 15.66299 15.72731\n",
       "4 0              21.60361 23.22761 21.99010 16.22547 17.59020 21.53908 21.14531\n",
       "5 0              19.43885 17.93876 19.68977 16.73360 17.88844 17.81758 17.64979\n",
       "6 0              22.53459 24.36662 22.77595 16.69956 16.38411 22.55912 17.30008\n",
       "  MF_12    MF_13    ⋯ MF_62853 MF_63431 MF_63701 MF_64025 MF_64936 MF_65532\n",
       "1 19.31361 19.46777 ⋯ 19.06974 19.10260 17.17255 16.92465 17.09794 19.06203\n",
       "2 21.12876 21.01488 ⋯ 18.02560 17.82667 19.37426 16.23450 19.06421 18.06379\n",
       "3 13.78698 15.18975 ⋯ 19.14095 19.02411 19.56175 17.17120 16.97302 19.49121\n",
       "4 22.07857 21.97502 ⋯ 19.28751 19.54886 16.78848 16.46750 19.47635 19.44477\n",
       "5 19.64269 19.32233 ⋯ 16.70042 17.85969 18.97406 18.18813 18.50336 19.19085\n",
       "6 22.80146 22.09338 ⋯ 16.86999 15.82637 19.46467 16.97149 17.46699 16.32598\n",
       "  MF_68286 MF_73340 MF_77165 MF_78976\n",
       "1 19.13556 16.93182 17.55702 17.05593\n",
       "2 19.39103 16.72112 19.27343 19.30881\n",
       "3 17.09470 15.56214 19.55038 19.54912\n",
       "4 16.99617 16.09531 19.28810 19.32788\n",
       "5 19.41757 16.88993 19.35678 18.95550\n",
       "6 15.62938 17.37207 15.84334 17.82000"
      ]
     },
     "metadata": {},
     "output_type": "display_data"
    }
   ],
   "source": [
    "#first making smoking status column binary denoted by 0 = non smoker and 1 = ecig user\n",
    "molecular_feature_df_w_Ecig_40 = molecular_feature_df_w_Ecig_40 %>%\n",
    "    #grepl is synonymous with \"contains\"\n",
    "    #necessary to put it into factor and relevel, so algorithm understands which data is considered baseline\n",
    "    mutate(Smoking_Status = relevel(factor(ifelse(grepl(\"Ecig\", Smoking_Status), 1, 0)), ref = \"0\"))\n",
    "\n",
    "mf_df_w_Ecig_40_wo_nicotine = molecular_feature_df_w_Ecig_40 %>%\n",
    "    #removing nicotine and cotinine\n",
    "    select(-c(MF_97, MF_5))\n",
    "\n",
    "head(molecular_feature_df_w_Ecig_40)"
   ]
  },
  {
   "cell_type": "markdown",
   "id": "copyrighted-credits",
   "metadata": {},
   "source": [
    "The goal of this analysis is to use molecular features [continuous] to predict smoking staus (dichotomous). This will be done using Support Vector Machine (SVM) based on a logistic regression model for classification and Random Forest."
   ]
  },
  {
   "cell_type": "markdown",
   "id": "excess-analyst",
   "metadata": {},
   "source": [
    "# Random Forest\n",
    "\n",
    "- an ensemble learning method operating by constructing a multitude of decision trees at training time, which uses multiple methods to obtain a better predictive performance and includes bagging and random forest\n",
    "- algorithm uses a bootstrop aggregation, to reduce overfitting the training datset but only a subset of the features are used hence decorrelation of predictors"
   ]
  },
  {
   "cell_type": "code",
   "execution_count": 5,
   "id": "ranking-princess",
   "metadata": {},
   "outputs": [
    {
     "name": "stderr",
     "output_type": "stream",
     "text": [
      "Setting levels: control = 0, case = 1\n",
      "\n",
      "Setting direction: controls < cases\n",
      "\n",
      "Setting levels: control = 0, case = 1\n",
      "\n",
      "Setting direction: controls < cases\n",
      "\n",
      "Setting levels: control = 0, case = 1\n",
      "\n",
      "Setting direction: controls < cases\n",
      "\n",
      "Setting levels: control = 0, case = 1\n",
      "\n",
      "Setting direction: controls < cases\n",
      "\n",
      "Setting levels: control = 0, case = 1\n",
      "\n",
      "Setting direction: controls < cases\n",
      "\n",
      "Setting levels: control = 0, case = 1\n",
      "\n",
      "Setting direction: controls < cases\n",
      "\n",
      "Setting levels: control = 0, case = 1\n",
      "\n",
      "Setting direction: controls < cases\n",
      "\n",
      "Setting levels: control = 0, case = 1\n",
      "\n",
      "Setting direction: controls < cases\n",
      "\n",
      "Setting levels: control = 0, case = 1\n",
      "\n",
      "Setting direction: controls < cases\n",
      "\n",
      "Setting levels: control = 0, case = 1\n",
      "\n",
      "Setting direction: controls < cases\n",
      "\n"
     ]
    }
   ],
   "source": [
    "rf_classification = function(dataset, outcome, pred_outcome){\n",
    "    #setting for reproducibility\n",
    "    set.seed(12)\n",
    "    #splitting data into training and testing sets\n",
    "    dataset_index = createFolds(dataset[[outcome]], k = 5) #5 fold CV\n",
    "\n",
    "    metrics = data.frame()\n",
    "    variable_importance_df = data.frame()\n",
    "    \n",
    "    for (i in 1:length(dataset_index)){\n",
    "        data_train = dataset[-dataset_index[[i]],]\n",
    "        data_test = dataset[dataset_index[[i]],]\n",
    "\n",
    "        ntree_values = c(50, 250, 500) #number of trees (not sure if we wanted something different)\n",
    "        p = dim(dataset)[2] - 1 #number of variables in dataset\n",
    "        mtry_values = c(p/2, sqrt(p), p)\n",
    "\n",
    "        #will use ntree and mtry values to determine which combination yields the smallest MSE\n",
    "        reg_rf_pred_tune = list()\n",
    "        rf_OOB_errors = list()\n",
    "        rf_error_df = data.frame()\n",
    "        for (j in 1:length(ntree_values)){\n",
    "            for (k in 1:length(mtry_values)){\n",
    "                reg_rf_pred_tune[[k]] = randomForest(as.formula(paste0(outcome, \"~.\")), data = data_train, \n",
    "                                                     ntree = ntree_values[j], mtry = mtry_values[k])\n",
    "                rf_OOB_errors[[k]] = data.frame(\"Tree Number\" = ntree_values[j], \"Variable Number\" = mtry_values[k], \n",
    "                                       \"OOB_errors\" = reg_rf_pred_tune[[k]]$err.rate[ntree_values[j],1])\n",
    "                rf_error_df = rbind(rf_error_df, rf_OOB_errors[[k]])\n",
    "            }\n",
    "        }\n",
    "\n",
    "        #finding the lowest OOB error using best number of predictors at split and refitting OG tree\n",
    "        best_oob_errors <- which(rf_error_df$OOB_errors == min(rf_error_df$OOB_errors))\n",
    "\n",
    "        reg_rf <- randomForest(as.formula(paste0(outcome, \"~.\")), data = data_train,\n",
    "        #need to go back and figure out how the number of trees/ variables make a difference even though\n",
    "        #the errors are the same!!!!\n",
    "                               ntree = rf_error_df$Tree.Number[min(best_oob_errors)], \n",
    "                               mtry = rf_error_df$Variable.Number[min(best_oob_errors)])\n",
    "\n",
    "        #predicting on test set\n",
    "        data_test[[pred_outcome]] = predict(reg_rf, newdata = data_test, type = \"response\")\n",
    "\n",
    "\n",
    "        matrix = confusionMatrix(data = data_test[[pred_outcome]], reference = data_test[[outcome]], \n",
    "                                     positive = \"1\")\n",
    "\n",
    "        #calculating AUC\n",
    "        auc = auc(response = data_test[[outcome]], predictor = factor(data_test[[pred_outcome]], ordered = TRUE))\n",
    "        #extracting accuracy, sens, spec, PPV to take mean later\n",
    "        matrix_values = data.frame(t(c(matrix$byClass[11])), t(c(matrix$byClass[1:3])), auc)\n",
    "        \n",
    "        #extracting variable importance\n",
    "        var_importance_values = data.frame(importance(reg_rf)) %>%\n",
    "            rownames_to_column(var = \"MF\")\n",
    "        variable_importance_df = rbind(variable_importance_df, var_importance_values)\n",
    "   \n",
    "        #adding values to df\n",
    "        metrics = rbind(metrics, matrix_values)\n",
    "    }\n",
    "    \n",
    "    #taking averages/sd \n",
    "    metrics = metrics %>%\n",
    "        summarise(`Balanced Accuracy` = mean(Balanced.Accuracy), Sensitivity = mean(Sensitivity), \n",
    "              Specificity = mean(Specificity), PPV = mean(Pos.Pred.Value), AUC = mean(auc))\n",
    "    \n",
    "    variable_importance_df = variable_importance_df %>%\n",
    "        group_by(MF) %>%\n",
    "        summarise(MeanDecreaseGini = mean(MeanDecreaseGini)) %>%\n",
    "        #sorting by most important variables\n",
    "        arrange(-MeanDecreaseGini)\n",
    "  \n",
    "    #return training set, matrix and variable importance values\n",
    "    return(list(data_train, metrics, variable_importance_df))\n",
    "\n",
    "}\n",
    "\n",
    "#calling fn\n",
    "rf_values_w_Ecig_40 = rf_classification(molecular_feature_df_w_Ecig_40, \"Smoking_Status\", \"pred_Smoking_Status\")\n",
    "rf_values_w_Ecig_40_wo_nicotine = rf_classification(mf_df_w_Ecig_40_wo_nicotine, \"Smoking_Status\", \"pred_Smoking_Status\")"
   ]
  },
  {
   "cell_type": "code",
   "execution_count": 8,
   "id": "automatic-metabolism",
   "metadata": {},
   "outputs": [
    {
     "data": {
      "text/html": [
       "<table class=\"dataframe\">\n",
       "<caption>A data.frame: 2 × 7</caption>\n",
       "<thead>\n",
       "\t<tr><th scope=col>Model</th><th scope=col>Removed.Variables</th><th scope=col>Balanced.Accuracy</th><th scope=col>Sensitivity</th><th scope=col>Specificity</th><th scope=col>PPV</th><th scope=col>AUC</th></tr>\n",
       "\t<tr><th scope=col>&lt;fct&gt;</th><th scope=col>&lt;fct&gt;</th><th scope=col>&lt;dbl&gt;</th><th scope=col>&lt;dbl&gt;</th><th scope=col>&lt;dbl&gt;</th><th scope=col>&lt;dbl&gt;</th><th scope=col>&lt;dbl&gt;</th></tr>\n",
       "</thead>\n",
       "<tbody>\n",
       "\t<tr><td>Original RF</td><td>None               </td><td>0.9047619</td><td>0.8428571</td><td>0.9666667</td><td>0.9600000</td><td>0.9047619</td></tr>\n",
       "\t<tr><td>Original RF</td><td>Nicotine &amp; Cotinine</td><td>0.6185714</td><td>0.6571429</td><td>0.5800000</td><td>0.6883333</td><td>0.6185714</td></tr>\n",
       "</tbody>\n",
       "</table>\n"
      ],
      "text/latex": [
       "A data.frame: 2 × 7\n",
       "\\begin{tabular}{lllllll}\n",
       " Model & Removed.Variables & Balanced.Accuracy & Sensitivity & Specificity & PPV & AUC\\\\\n",
       " <fct> & <fct> & <dbl> & <dbl> & <dbl> & <dbl> & <dbl>\\\\\n",
       "\\hline\n",
       "\t Original RF & None                & 0.9047619 & 0.8428571 & 0.9666667 & 0.9600000 & 0.9047619\\\\\n",
       "\t Original RF & Nicotine \\& Cotinine & 0.6185714 & 0.6571429 & 0.5800000 & 0.6883333 & 0.6185714\\\\\n",
       "\\end{tabular}\n"
      ],
      "text/markdown": [
       "\n",
       "A data.frame: 2 × 7\n",
       "\n",
       "| Model &lt;fct&gt; | Removed.Variables &lt;fct&gt; | Balanced.Accuracy &lt;dbl&gt; | Sensitivity &lt;dbl&gt; | Specificity &lt;dbl&gt; | PPV &lt;dbl&gt; | AUC &lt;dbl&gt; |\n",
       "|---|---|---|---|---|---|---|\n",
       "| Original RF | None                | 0.9047619 | 0.8428571 | 0.9666667 | 0.9600000 | 0.9047619 |\n",
       "| Original RF | Nicotine &amp; Cotinine | 0.6185714 | 0.6571429 | 0.5800000 | 0.6883333 | 0.6185714 |\n",
       "\n"
      ],
      "text/plain": [
       "  Model       Removed.Variables   Balanced.Accuracy Sensitivity Specificity\n",
       "1 Original RF None                0.9047619         0.8428571   0.9666667  \n",
       "2 Original RF Nicotine & Cotinine 0.6185714         0.6571429   0.5800000  \n",
       "  PPV       AUC      \n",
       "1 0.9600000 0.9047619\n",
       "2 0.6883333 0.6185714"
      ]
     },
     "metadata": {},
     "output_type": "display_data"
    },
    {
     "data": {
      "text/html": [
       "<table class=\"dataframe\">\n",
       "<caption>A tibble: 6 × 2</caption>\n",
       "<thead>\n",
       "\t<tr><th scope=col>MF</th><th scope=col>MeanDecreaseGini</th></tr>\n",
       "\t<tr><th scope=col>&lt;chr&gt;</th><th scope=col>&lt;dbl&gt;</th></tr>\n",
       "</thead>\n",
       "<tbody>\n",
       "\t<tr><td>MF_97  </td><td>7.0542406</td></tr>\n",
       "\t<tr><td>MF_5   </td><td>4.6837830</td></tr>\n",
       "\t<tr><td>MF_292 </td><td>0.2770581</td></tr>\n",
       "\t<tr><td>MF_3345</td><td>0.2480095</td></tr>\n",
       "\t<tr><td>MF_1713</td><td>0.1876070</td></tr>\n",
       "\t<tr><td>MF_4803</td><td>0.1654220</td></tr>\n",
       "</tbody>\n",
       "</table>\n"
      ],
      "text/latex": [
       "A tibble: 6 × 2\n",
       "\\begin{tabular}{ll}\n",
       " MF & MeanDecreaseGini\\\\\n",
       " <chr> & <dbl>\\\\\n",
       "\\hline\n",
       "\t MF\\_97   & 7.0542406\\\\\n",
       "\t MF\\_5    & 4.6837830\\\\\n",
       "\t MF\\_292  & 0.2770581\\\\\n",
       "\t MF\\_3345 & 0.2480095\\\\\n",
       "\t MF\\_1713 & 0.1876070\\\\\n",
       "\t MF\\_4803 & 0.1654220\\\\\n",
       "\\end{tabular}\n"
      ],
      "text/markdown": [
       "\n",
       "A tibble: 6 × 2\n",
       "\n",
       "| MF &lt;chr&gt; | MeanDecreaseGini &lt;dbl&gt; |\n",
       "|---|---|\n",
       "| MF_97   | 7.0542406 |\n",
       "| MF_5    | 4.6837830 |\n",
       "| MF_292  | 0.2770581 |\n",
       "| MF_3345 | 0.2480095 |\n",
       "| MF_1713 | 0.1876070 |\n",
       "| MF_4803 | 0.1654220 |\n",
       "\n"
      ],
      "text/plain": [
       "  MF      MeanDecreaseGini\n",
       "1 MF_97   7.0542406       \n",
       "2 MF_5    4.6837830       \n",
       "3 MF_292  0.2770581       \n",
       "4 MF_3345 0.2480095       \n",
       "5 MF_1713 0.1876070       \n",
       "6 MF_4803 0.1654220       "
      ]
     },
     "metadata": {},
     "output_type": "display_data"
    },
    {
     "data": {
      "text/html": [
       "<table class=\"dataframe\">\n",
       "<caption>A tibble: 6 × 2</caption>\n",
       "<thead>\n",
       "\t<tr><th scope=col>MF</th><th scope=col>MeanDecreaseGini</th></tr>\n",
       "\t<tr><th scope=col>&lt;chr&gt;</th><th scope=col>&lt;dbl&gt;</th></tr>\n",
       "</thead>\n",
       "<tbody>\n",
       "\t<tr><td>MF_292 </td><td>0.8834351</td></tr>\n",
       "\t<tr><td>MF_7221</td><td>0.5365767</td></tr>\n",
       "\t<tr><td>MF_3345</td><td>0.4643966</td></tr>\n",
       "\t<tr><td>MF_5547</td><td>0.4396756</td></tr>\n",
       "\t<tr><td>MF_1324</td><td>0.3772763</td></tr>\n",
       "\t<tr><td>MF_1713</td><td>0.3212409</td></tr>\n",
       "</tbody>\n",
       "</table>\n"
      ],
      "text/latex": [
       "A tibble: 6 × 2\n",
       "\\begin{tabular}{ll}\n",
       " MF & MeanDecreaseGini\\\\\n",
       " <chr> & <dbl>\\\\\n",
       "\\hline\n",
       "\t MF\\_292  & 0.8834351\\\\\n",
       "\t MF\\_7221 & 0.5365767\\\\\n",
       "\t MF\\_3345 & 0.4643966\\\\\n",
       "\t MF\\_5547 & 0.4396756\\\\\n",
       "\t MF\\_1324 & 0.3772763\\\\\n",
       "\t MF\\_1713 & 0.3212409\\\\\n",
       "\\end{tabular}\n"
      ],
      "text/markdown": [
       "\n",
       "A tibble: 6 × 2\n",
       "\n",
       "| MF &lt;chr&gt; | MeanDecreaseGini &lt;dbl&gt; |\n",
       "|---|---|\n",
       "| MF_292  | 0.8834351 |\n",
       "| MF_7221 | 0.5365767 |\n",
       "| MF_3345 | 0.4643966 |\n",
       "| MF_5547 | 0.4396756 |\n",
       "| MF_1324 | 0.3772763 |\n",
       "| MF_1713 | 0.3212409 |\n",
       "\n"
      ],
      "text/plain": [
       "  MF      MeanDecreaseGini\n",
       "1 MF_292  0.8834351       \n",
       "2 MF_7221 0.5365767       \n",
       "3 MF_3345 0.4643966       \n",
       "4 MF_5547 0.4396756       \n",
       "5 MF_1324 0.3772763       \n",
       "6 MF_1713 0.3212409       "
      ]
     },
     "metadata": {},
     "output_type": "display_data"
    }
   ],
   "source": [
    "#viewing results\n",
    "rf_confusion_matrix = data.frame(Model = c(rep(c(\"Original RF\"), times = 2)), Removed.Variables = c(\"None\", \"Nicotine & Cotinine\"),\n",
    "                                 rbind(rf_values_w_Ecig_40[[2]], rf_values_w_Ecig_40_wo_nicotine[[2]]))\n",
    "rf_confusion_matrix\n",
    "\n",
    "#viewing most significant features\n",
    "head(rf_values_w_Ecig_40[[3]])\n",
    "head(rf_values_w_Ecig_40_wo_nicotine[[3]])"
   ]
  },
  {
   "cell_type": "code",
   "execution_count": 10,
   "id": "unusual-locking",
   "metadata": {},
   "outputs": [],
   "source": [
    "#exporting mean gini decrease values\n",
    "# write.csv(rf_values_w_Ecig_40[[3]], paste0(Output,\"/\", cur_date, \"_Feature_Ranking.csv\"), row.names = FALSE)\n",
    "# write.csv(rf_values_wo_Ecig_40[[3]], paste0(Output,\"/\", cur_date, \"_Feature_Ranking_wo_Ecig_40.csv\"), row.names = FALSE)\n",
    "# write.csv(rf_values_w_Ecig_40_wo_nicotine[[3]], paste0(Output,\"/\", cur_date, \"_Feature_Ranking_wo_Nictotine.csv\"), row.names = FALSE)\n",
    "# write.csv(rf_values_wo_Ecig_40_wo_nicotine[[3]], paste0(Output,\"/\", cur_date, \"_Feature_Ranking_wo_Ecig_40_wo_Nictotine.csv\"), row.names = FALSE)"
   ]
  },
  {
   "cell_type": "markdown",
   "id": "unauthorized-reference",
   "metadata": {},
   "source": [
    "Rerunning RF model with noise variables to determine, which predictors are significant above the background noise. "
   ]
  },
  {
   "cell_type": "code",
   "execution_count": 9,
   "id": "specified-detector",
   "metadata": {},
   "outputs": [
    {
     "data": {
      "text/html": [
       "<table class=\"dataframe\">\n",
       "<caption>A tibble: 6 × 3878</caption>\n",
       "<thead>\n",
       "\t<tr><th scope=col>Smoking_Status</th><th scope=col>MF_2</th><th scope=col>MF_3</th><th scope=col>MF_4</th><th scope=col>MF_5</th><th scope=col>MF_6</th><th scope=col>MF_7</th><th scope=col>MF_11</th><th scope=col>MF_12</th><th scope=col>MF_13</th><th scope=col>⋯</th><th scope=col>MF_65532</th><th scope=col>MF_68286</th><th scope=col>MF_73340</th><th scope=col>MF_77165</th><th scope=col>MF_78976</th><th scope=col>noise1</th><th scope=col>noise2</th><th scope=col>noise3</th><th scope=col>noise4</th><th scope=col>noise5</th></tr>\n",
       "\t<tr><th scope=col>&lt;fct&gt;</th><th scope=col>&lt;dbl&gt;</th><th scope=col>&lt;dbl&gt;</th><th scope=col>&lt;dbl&gt;</th><th scope=col>&lt;dbl&gt;</th><th scope=col>&lt;dbl&gt;</th><th scope=col>&lt;dbl&gt;</th><th scope=col>&lt;dbl&gt;</th><th scope=col>&lt;dbl&gt;</th><th scope=col>&lt;dbl&gt;</th><th scope=col>⋯</th><th scope=col>&lt;dbl&gt;</th><th scope=col>&lt;dbl&gt;</th><th scope=col>&lt;dbl&gt;</th><th scope=col>&lt;dbl&gt;</th><th scope=col>&lt;dbl&gt;</th><th scope=col>&lt;dbl&gt;</th><th scope=col>&lt;dbl&gt;</th><th scope=col>&lt;dbl&gt;</th><th scope=col>&lt;dbl&gt;</th><th scope=col>&lt;dbl&gt;</th></tr>\n",
       "</thead>\n",
       "<tbody>\n",
       "\t<tr><td>0</td><td>19.86186</td><td>17.86943</td><td>19.21394</td><td>18.02809</td><td>17.46636</td><td>18.34174</td><td>18.41799</td><td>19.31361</td><td>19.46777</td><td>⋯</td><td>19.06203</td><td>19.13556</td><td>16.93182</td><td>17.55702</td><td>17.05593</td><td>22.95603</td><td>21.55396</td><td>19.64002</td><td>19.91744</td><td>22.63653</td></tr>\n",
       "\t<tr><td>0</td><td>21.08622</td><td>22.58769</td><td>21.05378</td><td>17.93584</td><td>17.33098</td><td>20.41479</td><td>20.37485</td><td>21.12876</td><td>21.01488</td><td>⋯</td><td>18.06379</td><td>19.39103</td><td>16.72112</td><td>19.27343</td><td>19.30881</td><td>23.00581</td><td>22.91377</td><td>15.77071</td><td>17.88844</td><td>23.46244</td></tr>\n",
       "\t<tr><td>0</td><td>13.12099</td><td>14.44659</td><td>13.46827</td><td>16.51009</td><td>14.93820</td><td>15.66299</td><td>15.72731</td><td>13.78698</td><td>15.18975</td><td>⋯</td><td>19.49121</td><td>17.09470</td><td>15.56214</td><td>19.55038</td><td>19.54912</td><td>22.86175</td><td>22.54138</td><td>20.63665</td><td>17.31698</td><td>22.06629</td></tr>\n",
       "\t<tr><td>0</td><td>19.43885</td><td>17.93876</td><td>19.68977</td><td>16.73360</td><td>17.88844</td><td>17.81758</td><td>17.64979</td><td>19.64269</td><td>19.32233</td><td>⋯</td><td>19.19085</td><td>19.41757</td><td>16.88993</td><td>19.35678</td><td>18.95550</td><td>24.32335</td><td>22.14102</td><td>16.08028</td><td>17.71179</td><td>23.15163</td></tr>\n",
       "\t<tr><td>0</td><td>22.53459</td><td>24.36662</td><td>22.77595</td><td>16.69956</td><td>16.38411</td><td>22.55912</td><td>17.30008</td><td>22.80146</td><td>22.09338</td><td>⋯</td><td>16.32598</td><td>15.62938</td><td>17.37207</td><td>15.84334</td><td>17.82000</td><td>22.73364</td><td>20.20755</td><td>21.28516</td><td>26.11076</td><td>22.61793</td></tr>\n",
       "\t<tr><td>0</td><td>21.50216</td><td>23.34553</td><td>21.53633</td><td>17.93372</td><td>24.26751</td><td>21.71412</td><td>21.32122</td><td>21.66214</td><td>21.71152</td><td>⋯</td><td>16.71579</td><td>18.52501</td><td>17.61326</td><td>17.74147</td><td>16.76017</td><td>22.58769</td><td>19.91826</td><td>16.08028</td><td>15.36472</td><td>22.43186</td></tr>\n",
       "</tbody>\n",
       "</table>\n"
      ],
      "text/latex": [
       "A tibble: 6 × 3878\n",
       "\\begin{tabular}{lllllllllllllllllllll}\n",
       " Smoking\\_Status & MF\\_2 & MF\\_3 & MF\\_4 & MF\\_5 & MF\\_6 & MF\\_7 & MF\\_11 & MF\\_12 & MF\\_13 & ⋯ & MF\\_65532 & MF\\_68286 & MF\\_73340 & MF\\_77165 & MF\\_78976 & noise1 & noise2 & noise3 & noise4 & noise5\\\\\n",
       " <fct> & <dbl> & <dbl> & <dbl> & <dbl> & <dbl> & <dbl> & <dbl> & <dbl> & <dbl> & ⋯ & <dbl> & <dbl> & <dbl> & <dbl> & <dbl> & <dbl> & <dbl> & <dbl> & <dbl> & <dbl>\\\\\n",
       "\\hline\n",
       "\t 0 & 19.86186 & 17.86943 & 19.21394 & 18.02809 & 17.46636 & 18.34174 & 18.41799 & 19.31361 & 19.46777 & ⋯ & 19.06203 & 19.13556 & 16.93182 & 17.55702 & 17.05593 & 22.95603 & 21.55396 & 19.64002 & 19.91744 & 22.63653\\\\\n",
       "\t 0 & 21.08622 & 22.58769 & 21.05378 & 17.93584 & 17.33098 & 20.41479 & 20.37485 & 21.12876 & 21.01488 & ⋯ & 18.06379 & 19.39103 & 16.72112 & 19.27343 & 19.30881 & 23.00581 & 22.91377 & 15.77071 & 17.88844 & 23.46244\\\\\n",
       "\t 0 & 13.12099 & 14.44659 & 13.46827 & 16.51009 & 14.93820 & 15.66299 & 15.72731 & 13.78698 & 15.18975 & ⋯ & 19.49121 & 17.09470 & 15.56214 & 19.55038 & 19.54912 & 22.86175 & 22.54138 & 20.63665 & 17.31698 & 22.06629\\\\\n",
       "\t 0 & 19.43885 & 17.93876 & 19.68977 & 16.73360 & 17.88844 & 17.81758 & 17.64979 & 19.64269 & 19.32233 & ⋯ & 19.19085 & 19.41757 & 16.88993 & 19.35678 & 18.95550 & 24.32335 & 22.14102 & 16.08028 & 17.71179 & 23.15163\\\\\n",
       "\t 0 & 22.53459 & 24.36662 & 22.77595 & 16.69956 & 16.38411 & 22.55912 & 17.30008 & 22.80146 & 22.09338 & ⋯ & 16.32598 & 15.62938 & 17.37207 & 15.84334 & 17.82000 & 22.73364 & 20.20755 & 21.28516 & 26.11076 & 22.61793\\\\\n",
       "\t 0 & 21.50216 & 23.34553 & 21.53633 & 17.93372 & 24.26751 & 21.71412 & 21.32122 & 21.66214 & 21.71152 & ⋯ & 16.71579 & 18.52501 & 17.61326 & 17.74147 & 16.76017 & 22.58769 & 19.91826 & 16.08028 & 15.36472 & 22.43186\\\\\n",
       "\\end{tabular}\n"
      ],
      "text/markdown": [
       "\n",
       "A tibble: 6 × 3878\n",
       "\n",
       "| Smoking_Status &lt;fct&gt; | MF_2 &lt;dbl&gt; | MF_3 &lt;dbl&gt; | MF_4 &lt;dbl&gt; | MF_5 &lt;dbl&gt; | MF_6 &lt;dbl&gt; | MF_7 &lt;dbl&gt; | MF_11 &lt;dbl&gt; | MF_12 &lt;dbl&gt; | MF_13 &lt;dbl&gt; | ⋯ ⋯ | MF_65532 &lt;dbl&gt; | MF_68286 &lt;dbl&gt; | MF_73340 &lt;dbl&gt; | MF_77165 &lt;dbl&gt; | MF_78976 &lt;dbl&gt; | noise1 &lt;dbl&gt; | noise2 &lt;dbl&gt; | noise3 &lt;dbl&gt; | noise4 &lt;dbl&gt; | noise5 &lt;dbl&gt; |\n",
       "|---|---|---|---|---|---|---|---|---|---|---|---|---|---|---|---|---|---|---|---|---|\n",
       "| 0 | 19.86186 | 17.86943 | 19.21394 | 18.02809 | 17.46636 | 18.34174 | 18.41799 | 19.31361 | 19.46777 | ⋯ | 19.06203 | 19.13556 | 16.93182 | 17.55702 | 17.05593 | 22.95603 | 21.55396 | 19.64002 | 19.91744 | 22.63653 |\n",
       "| 0 | 21.08622 | 22.58769 | 21.05378 | 17.93584 | 17.33098 | 20.41479 | 20.37485 | 21.12876 | 21.01488 | ⋯ | 18.06379 | 19.39103 | 16.72112 | 19.27343 | 19.30881 | 23.00581 | 22.91377 | 15.77071 | 17.88844 | 23.46244 |\n",
       "| 0 | 13.12099 | 14.44659 | 13.46827 | 16.51009 | 14.93820 | 15.66299 | 15.72731 | 13.78698 | 15.18975 | ⋯ | 19.49121 | 17.09470 | 15.56214 | 19.55038 | 19.54912 | 22.86175 | 22.54138 | 20.63665 | 17.31698 | 22.06629 |\n",
       "| 0 | 19.43885 | 17.93876 | 19.68977 | 16.73360 | 17.88844 | 17.81758 | 17.64979 | 19.64269 | 19.32233 | ⋯ | 19.19085 | 19.41757 | 16.88993 | 19.35678 | 18.95550 | 24.32335 | 22.14102 | 16.08028 | 17.71179 | 23.15163 |\n",
       "| 0 | 22.53459 | 24.36662 | 22.77595 | 16.69956 | 16.38411 | 22.55912 | 17.30008 | 22.80146 | 22.09338 | ⋯ | 16.32598 | 15.62938 | 17.37207 | 15.84334 | 17.82000 | 22.73364 | 20.20755 | 21.28516 | 26.11076 | 22.61793 |\n",
       "| 0 | 21.50216 | 23.34553 | 21.53633 | 17.93372 | 24.26751 | 21.71412 | 21.32122 | 21.66214 | 21.71152 | ⋯ | 16.71579 | 18.52501 | 17.61326 | 17.74147 | 16.76017 | 22.58769 | 19.91826 | 16.08028 | 15.36472 | 22.43186 |\n",
       "\n"
      ],
      "text/plain": [
       "  Smoking_Status MF_2     MF_3     MF_4     MF_5     MF_6     MF_7     MF_11   \n",
       "1 0              19.86186 17.86943 19.21394 18.02809 17.46636 18.34174 18.41799\n",
       "2 0              21.08622 22.58769 21.05378 17.93584 17.33098 20.41479 20.37485\n",
       "3 0              13.12099 14.44659 13.46827 16.51009 14.93820 15.66299 15.72731\n",
       "4 0              19.43885 17.93876 19.68977 16.73360 17.88844 17.81758 17.64979\n",
       "5 0              22.53459 24.36662 22.77595 16.69956 16.38411 22.55912 17.30008\n",
       "6 0              21.50216 23.34553 21.53633 17.93372 24.26751 21.71412 21.32122\n",
       "  MF_12    MF_13    ⋯ MF_65532 MF_68286 MF_73340 MF_77165 MF_78976 noise1  \n",
       "1 19.31361 19.46777 ⋯ 19.06203 19.13556 16.93182 17.55702 17.05593 22.95603\n",
       "2 21.12876 21.01488 ⋯ 18.06379 19.39103 16.72112 19.27343 19.30881 23.00581\n",
       "3 13.78698 15.18975 ⋯ 19.49121 17.09470 15.56214 19.55038 19.54912 22.86175\n",
       "4 19.64269 19.32233 ⋯ 19.19085 19.41757 16.88993 19.35678 18.95550 24.32335\n",
       "5 22.80146 22.09338 ⋯ 16.32598 15.62938 17.37207 15.84334 17.82000 22.73364\n",
       "6 21.66214 21.71152 ⋯ 16.71579 18.52501 17.61326 17.74147 16.76017 22.58769\n",
       "  noise2   noise3   noise4   noise5  \n",
       "1 21.55396 19.64002 19.91744 22.63653\n",
       "2 22.91377 15.77071 17.88844 23.46244\n",
       "3 22.54138 20.63665 17.31698 22.06629\n",
       "4 22.14102 16.08028 17.71179 23.15163\n",
       "5 20.20755 21.28516 26.11076 22.61793\n",
       "6 19.91826 16.08028 15.36472 22.43186"
      ]
     },
     "metadata": {},
     "output_type": "display_data"
    }
   ],
   "source": [
    "train_vars_noise_w_Ecig_40 = rf_values_w_Ecig_40[[1]]\n",
    "train_vars_noise_w_Ecig_40_wo_nicotine = rf_values_w_Ecig_40_wo_nicotine[[1]]\n",
    "\n",
    "noise_df = function(train_vars_noise){\n",
    "    set.seed(7)\n",
    "    # Add random noise predictors as an additional method to evaluate model performance\n",
    "    # Adding a column that contains randomly shuffled values from one of the molecules; sampling with replacement\n",
    "    train_vars_noise$noise1 = sample(train_vars_noise[[colnames(train_vars_noise[3])]], replace = TRUE) \n",
    "    train_vars_noise$noise2 = sample(train_vars_noise[[colnames(train_vars_noise[4])]], replace = TRUE)\n",
    "    train_vars_noise$noise3 = sample(train_vars_noise[[colnames(train_vars_noise[5])]], replace = TRUE)\n",
    "    train_vars_noise$noise4 = sample(train_vars_noise[[colnames(train_vars_noise[6])]], replace = TRUE)\n",
    "    train_vars_noise$noise5 = sample(train_vars_noise[[colnames(train_vars_noise[7])]], replace = TRUE)\n",
    "    \n",
    "    return(train_vars_noise)\n",
    "}\n",
    "\n",
    "#calling fn\n",
    "noise_training_rf_dataset_w_Ecig_40 = noise_df(train_vars_noise_w_Ecig_40)\n",
    "noise_training_rf_dataset_w_Ecig_40_wo_nicotine = noise_df(train_vars_noise_w_Ecig_40_wo_nicotine)\n",
    "head(noise_training_rf_dataset_w_Ecig_40)"
   ]
  },
  {
   "cell_type": "code",
   "execution_count": 10,
   "id": "interim-cruise",
   "metadata": {},
   "outputs": [
    {
     "name": "stderr",
     "output_type": "stream",
     "text": [
      "Setting levels: control = 0, case = 1\n",
      "\n",
      "Setting direction: controls < cases\n",
      "\n",
      "Setting levels: control = 0, case = 1\n",
      "\n",
      "Setting direction: controls < cases\n",
      "\n",
      "Setting levels: control = 0, case = 1\n",
      "\n",
      "Setting direction: controls < cases\n",
      "\n",
      "Setting levels: control = 0, case = 1\n",
      "\n",
      "Setting direction: controls < cases\n",
      "\n",
      "Setting levels: control = 0, case = 1\n",
      "\n",
      "Setting direction: controls < cases\n",
      "\n",
      "Setting levels: control = 0, case = 1\n",
      "\n",
      "Setting direction: controls < cases\n",
      "\n",
      "Setting levels: control = 0, case = 1\n",
      "\n",
      "Setting direction: controls < cases\n",
      "\n",
      "Setting levels: control = 0, case = 1\n",
      "\n",
      "Setting direction: controls < cases\n",
      "\n",
      "Setting levels: control = 0, case = 1\n",
      "\n",
      "Setting direction: controls < cases\n",
      "\n",
      "Setting levels: control = 0, case = 1\n",
      "\n",
      "Setting direction: controls < cases\n",
      "\n"
     ]
    }
   ],
   "source": [
    "#calling rf fn\n",
    "noise_rf_values_w_Ecig_40 = rf_classification(noise_training_rf_dataset_w_Ecig_40, \"Smoking_Status\", \"pred_Smoking_Status\")\n",
    "noise_rf_values_w_Ecig_40_wo_nicotine = rf_classification(noise_training_rf_dataset_w_Ecig_40_wo_nicotine, \"Smoking_Status\", \"pred_Smoking_Status\")"
   ]
  },
  {
   "cell_type": "code",
   "execution_count": 11,
   "id": "equal-authority",
   "metadata": {},
   "outputs": [
    {
     "data": {
      "text/html": [
       "<table class=\"dataframe\">\n",
       "<caption>A data.frame: 2 × 7</caption>\n",
       "<thead>\n",
       "\t<tr><th scope=col>Model</th><th scope=col>Removed.Variables</th><th scope=col>Balanced.Accuracy</th><th scope=col>Sensitivity</th><th scope=col>Specificity</th><th scope=col>PPV</th><th scope=col>AUC</th></tr>\n",
       "\t<tr><th scope=col>&lt;fct&gt;</th><th scope=col>&lt;fct&gt;</th><th scope=col>&lt;dbl&gt;</th><th scope=col>&lt;dbl&gt;</th><th scope=col>&lt;dbl&gt;</th><th scope=col>&lt;dbl&gt;</th><th scope=col>&lt;dbl&gt;</th></tr>\n",
       "</thead>\n",
       "<tbody>\n",
       "\t<tr><td>RF w/ Noise</td><td>None               </td><td>0.8783333</td><td>0.9266667</td><td>0.83</td><td>0.8809524</td><td>0.8783333</td></tr>\n",
       "\t<tr><td>RF w/ Noise</td><td>Nicotine &amp; Cotinine</td><td>0.5600000</td><td>0.5800000</td><td>0.54</td><td>0.6600000</td><td>0.5600000</td></tr>\n",
       "</tbody>\n",
       "</table>\n"
      ],
      "text/latex": [
       "A data.frame: 2 × 7\n",
       "\\begin{tabular}{lllllll}\n",
       " Model & Removed.Variables & Balanced.Accuracy & Sensitivity & Specificity & PPV & AUC\\\\\n",
       " <fct> & <fct> & <dbl> & <dbl> & <dbl> & <dbl> & <dbl>\\\\\n",
       "\\hline\n",
       "\t RF w/ Noise & None                & 0.8783333 & 0.9266667 & 0.83 & 0.8809524 & 0.8783333\\\\\n",
       "\t RF w/ Noise & Nicotine \\& Cotinine & 0.5600000 & 0.5800000 & 0.54 & 0.6600000 & 0.5600000\\\\\n",
       "\\end{tabular}\n"
      ],
      "text/markdown": [
       "\n",
       "A data.frame: 2 × 7\n",
       "\n",
       "| Model &lt;fct&gt; | Removed.Variables &lt;fct&gt; | Balanced.Accuracy &lt;dbl&gt; | Sensitivity &lt;dbl&gt; | Specificity &lt;dbl&gt; | PPV &lt;dbl&gt; | AUC &lt;dbl&gt; |\n",
       "|---|---|---|---|---|---|---|\n",
       "| RF w/ Noise | None                | 0.8783333 | 0.9266667 | 0.83 | 0.8809524 | 0.8783333 |\n",
       "| RF w/ Noise | Nicotine &amp; Cotinine | 0.5600000 | 0.5800000 | 0.54 | 0.6600000 | 0.5600000 |\n",
       "\n"
      ],
      "text/plain": [
       "  Model       Removed.Variables   Balanced.Accuracy Sensitivity Specificity\n",
       "1 RF w/ Noise None                0.8783333         0.9266667   0.83       \n",
       "2 RF w/ Noise Nicotine & Cotinine 0.5600000         0.5800000   0.54       \n",
       "  PPV       AUC      \n",
       "1 0.8809524 0.8783333\n",
       "2 0.6600000 0.5600000"
      ]
     },
     "metadata": {},
     "output_type": "display_data"
    },
    {
     "data": {
      "text/html": [
       "<table class=\"dataframe\">\n",
       "<caption>A tibble: 6 × 2</caption>\n",
       "<thead>\n",
       "\t<tr><th scope=col>MF</th><th scope=col>MeanDecreaseGini</th></tr>\n",
       "\t<tr><th scope=col>&lt;chr&gt;</th><th scope=col>&lt;dbl&gt;</th></tr>\n",
       "</thead>\n",
       "<tbody>\n",
       "\t<tr><td>MF_97   </td><td>2.6118845</td></tr>\n",
       "\t<tr><td>MF_5    </td><td>1.8559144</td></tr>\n",
       "\t<tr><td>MF_292  </td><td>0.7185532</td></tr>\n",
       "\t<tr><td>MF_7221 </td><td>0.3767431</td></tr>\n",
       "\t<tr><td>MF_29367</td><td>0.2427987</td></tr>\n",
       "\t<tr><td>MF_6955 </td><td>0.1876891</td></tr>\n",
       "</tbody>\n",
       "</table>\n"
      ],
      "text/latex": [
       "A tibble: 6 × 2\n",
       "\\begin{tabular}{ll}\n",
       " MF & MeanDecreaseGini\\\\\n",
       " <chr> & <dbl>\\\\\n",
       "\\hline\n",
       "\t MF\\_97    & 2.6118845\\\\\n",
       "\t MF\\_5     & 1.8559144\\\\\n",
       "\t MF\\_292   & 0.7185532\\\\\n",
       "\t MF\\_7221  & 0.3767431\\\\\n",
       "\t MF\\_29367 & 0.2427987\\\\\n",
       "\t MF\\_6955  & 0.1876891\\\\\n",
       "\\end{tabular}\n"
      ],
      "text/markdown": [
       "\n",
       "A tibble: 6 × 2\n",
       "\n",
       "| MF &lt;chr&gt; | MeanDecreaseGini &lt;dbl&gt; |\n",
       "|---|---|\n",
       "| MF_97    | 2.6118845 |\n",
       "| MF_5     | 1.8559144 |\n",
       "| MF_292   | 0.7185532 |\n",
       "| MF_7221  | 0.3767431 |\n",
       "| MF_29367 | 0.2427987 |\n",
       "| MF_6955  | 0.1876891 |\n",
       "\n"
      ],
      "text/plain": [
       "  MF       MeanDecreaseGini\n",
       "1 MF_97    2.6118845       \n",
       "2 MF_5     1.8559144       \n",
       "3 MF_292   0.7185532       \n",
       "4 MF_7221  0.3767431       \n",
       "5 MF_29367 0.2427987       \n",
       "6 MF_6955  0.1876891       "
      ]
     },
     "metadata": {},
     "output_type": "display_data"
    },
    {
     "data": {
      "text/html": [
       "<table class=\"dataframe\">\n",
       "<caption>A tibble: 6 × 2</caption>\n",
       "<thead>\n",
       "\t<tr><th scope=col>MF</th><th scope=col>MeanDecreaseGini</th></tr>\n",
       "\t<tr><th scope=col>&lt;chr&gt;</th><th scope=col>&lt;dbl&gt;</th></tr>\n",
       "</thead>\n",
       "<tbody>\n",
       "\t<tr><td>MF_292  </td><td>0.5308698</td></tr>\n",
       "\t<tr><td>MF_3345 </td><td>0.3398274</td></tr>\n",
       "\t<tr><td>MF_7221 </td><td>0.2814058</td></tr>\n",
       "\t<tr><td>MF_6955 </td><td>0.2727071</td></tr>\n",
       "\t<tr><td>MF_1522 </td><td>0.2459021</td></tr>\n",
       "\t<tr><td>MF_34412</td><td>0.1909755</td></tr>\n",
       "</tbody>\n",
       "</table>\n"
      ],
      "text/latex": [
       "A tibble: 6 × 2\n",
       "\\begin{tabular}{ll}\n",
       " MF & MeanDecreaseGini\\\\\n",
       " <chr> & <dbl>\\\\\n",
       "\\hline\n",
       "\t MF\\_292   & 0.5308698\\\\\n",
       "\t MF\\_3345  & 0.3398274\\\\\n",
       "\t MF\\_7221  & 0.2814058\\\\\n",
       "\t MF\\_6955  & 0.2727071\\\\\n",
       "\t MF\\_1522  & 0.2459021\\\\\n",
       "\t MF\\_34412 & 0.1909755\\\\\n",
       "\\end{tabular}\n"
      ],
      "text/markdown": [
       "\n",
       "A tibble: 6 × 2\n",
       "\n",
       "| MF &lt;chr&gt; | MeanDecreaseGini &lt;dbl&gt; |\n",
       "|---|---|\n",
       "| MF_292   | 0.5308698 |\n",
       "| MF_3345  | 0.3398274 |\n",
       "| MF_7221  | 0.2814058 |\n",
       "| MF_6955  | 0.2727071 |\n",
       "| MF_1522  | 0.2459021 |\n",
       "| MF_34412 | 0.1909755 |\n",
       "\n"
      ],
      "text/plain": [
       "  MF       MeanDecreaseGini\n",
       "1 MF_292   0.5308698       \n",
       "2 MF_3345  0.3398274       \n",
       "3 MF_7221  0.2814058       \n",
       "4 MF_6955  0.2727071       \n",
       "5 MF_1522  0.2459021       \n",
       "6 MF_34412 0.1909755       "
      ]
     },
     "metadata": {},
     "output_type": "display_data"
    }
   ],
   "source": [
    "#viewing results\n",
    "noise_rf_confusion_matrix = data.frame(Model = c(rep(c(\"RF w/ Noise\"), times = 2)), Removed.Variables = c(\"None\", \"Nicotine & Cotinine\"), \n",
    "                                       rbind(noise_rf_values_w_Ecig_40[[2]], noise_rf_values_w_Ecig_40_wo_nicotine[[2]]))\n",
    "noise_rf_confusion_matrix\n",
    "\n",
    "#filtering for most significant features\n",
    "head(noise_rf_values_w_Ecig_40[[3]])\n",
    "head(noise_rf_values_w_Ecig_40_wo_nicotine[[3]]) "
   ]
  },
  {
   "cell_type": "markdown",
   "id": "willing-vietnam",
   "metadata": {},
   "source": [
    "# Support Vector Machine\n",
    "- supervised learning models that can predict continuous (regression) or grouped/dichotomous (classification) outcomes\n",
    "- predictors by projecting them onto a high dimensional space and uses kernels to make the data more separable (unfortunately makes interpretability of model results more difficult)\n",
    "- does a better job at handling a large number of predictors since p > n"
   ]
  },
  {
   "cell_type": "code",
   "execution_count": 12,
   "id": "mediterranean-drove",
   "metadata": {},
   "outputs": [],
   "source": [
    "#model errors are calculated to assess the predictive accuracy of the model\n",
    "svm_classification = function(dataset, model, outcome, pred_outcome, gamma_values, cost_values, elsilon_values){\n",
    "  \n",
    "    #setting seed for reproducibility\n",
    "    set.seed(12)\n",
    "    \n",
    "    #splitting data into training and testing sets\n",
    "    dataset_index = createFolds(dataset[[outcome]], k = 5) #5 fold CV\n",
    "    metrics = data.frame()\n",
    "    for (i in 1:length(dataset_index)){\n",
    "        data_train = dataset[-dataset_index[[i]],]\n",
    "        data_test = dataset[dataset_index[[i]],]\n",
    "\n",
    "        #now pruning parameters (based on the training dataset to prevent overfitting)\n",
    "        svr_tune <- tune(svm, as.formula(paste0(outcome, \"~.\")), data = data_train, kernel = model, \n",
    "                       ranges = list(elsilon = elsilon_values, cost = cost_values, gamma = gamma_values)) \n",
    "\n",
    "        #choosing best model\n",
    "        best_svm <- svr_tune$best.model\n",
    "\n",
    "        #predicting with tuned parameters \n",
    "        data_test[[pred_outcome]] <- predict(best_svm, newdata = data_test, type = \"response\")\n",
    "\n",
    "        matrix = confusionMatrix(data = data_test[[pred_outcome]], reference = data_test[[outcome]], \n",
    "                                 positive = \"1\")\n",
    " \n",
    "        #calculating AUC\n",
    "        auc = auc(response = data_test[[outcome]], predictor = factor(data_test[[pred_outcome]], ordered = TRUE))\n",
    "        #extracting accuracy, sens, spec, PPV to take mean later\n",
    "        matrix_values = data.frame(t(c(matrix$byClass[11])), t(c(matrix$byClass[1:3])), auc)\n",
    "   \n",
    "        #adding values to df\n",
    "        metrics = rbind(metrics, matrix_values)\n",
    "  }\n",
    "  \n",
    "  #taking averages/sd \n",
    "  metrics = metrics %>%\n",
    "    summarise(`Balanced Accuracy` = mean(Balanced.Accuracy), Sensitivity = mean(Sensitivity), \n",
    "              Specificity = mean(Specificity), PPV = mean(Pos.Pred.Value), AUC = mean(auc))\n",
    "  \n",
    "  return(metrics)\n",
    "}"
   ]
  },
  {
   "cell_type": "code",
   "execution_count": 13,
   "id": "arctic-qatar",
   "metadata": {},
   "outputs": [
    {
     "name": "stderr",
     "output_type": "stream",
     "text": [
      "Setting levels: control = 0, case = 1\n",
      "\n",
      "Setting direction: controls < cases\n",
      "\n",
      "Setting levels: control = 0, case = 1\n",
      "\n",
      "Setting direction: controls < cases\n",
      "\n",
      "Setting levels: control = 0, case = 1\n",
      "\n",
      "Setting direction: controls < cases\n",
      "\n",
      "Setting levels: control = 0, case = 1\n",
      "\n",
      "Setting direction: controls < cases\n",
      "\n",
      "Setting levels: control = 0, case = 1\n",
      "\n",
      "Setting direction: controls < cases\n",
      "\n",
      "Setting levels: control = 0, case = 1\n",
      "\n",
      "Setting direction: controls < cases\n",
      "\n",
      "Setting levels: control = 0, case = 1\n",
      "\n",
      "Setting direction: controls < cases\n",
      "\n",
      "Setting levels: control = 0, case = 1\n",
      "\n",
      "Setting direction: controls < cases\n",
      "\n",
      "Setting levels: control = 0, case = 1\n",
      "\n",
      "Setting direction: controls < cases\n",
      "\n",
      "Setting levels: control = 0, case = 1\n",
      "\n",
      "Setting direction: controls < cases\n",
      "\n"
     ]
    }
   ],
   "source": [
    "#calling fn\n",
    "svm_w_Ecig_40 = svm_classification(molecular_feature_df_w_Ecig_40, \"linear\", \"Smoking_Status\", \"pred_Smoking_Status\",\n",
    "                                            0.035, 1:5, seq(0,1,0.2))\n",
    "svm_w_Ecig_40_wo_nicotine = svm_classification(mf_df_w_Ecig_40_wo_nicotine, \"linear\", \"Smoking_Status\", \"pred_Smoking_Status\",\n",
    "                                            0.035, 1:5, seq(0,1,0.2))"
   ]
  },
  {
   "cell_type": "code",
   "execution_count": 15,
   "id": "conservative-yacht",
   "metadata": {},
   "outputs": [
    {
     "data": {
      "text/html": [
       "<table class=\"dataframe\">\n",
       "<caption>A data.frame: 2 × 7</caption>\n",
       "<thead>\n",
       "\t<tr><th scope=col>Model</th><th scope=col>Removed.Variables</th><th scope=col>Balanced.Accuracy</th><th scope=col>Sensitivity</th><th scope=col>Specificity</th><th scope=col>PPV</th><th scope=col>AUC</th></tr>\n",
       "\t<tr><th scope=col>&lt;fct&gt;</th><th scope=col>&lt;fct&gt;</th><th scope=col>&lt;dbl&gt;</th><th scope=col>&lt;dbl&gt;</th><th scope=col>&lt;dbl&gt;</th><th scope=col>&lt;dbl&gt;</th><th scope=col>&lt;dbl&gt;</th></tr>\n",
       "</thead>\n",
       "<tbody>\n",
       "\t<tr><td>Original SVM</td><td>None               </td><td>0.7614286</td><td>0.8095238</td><td>0.7133333</td><td>0.8044444</td><td>0.7614286</td></tr>\n",
       "\t<tr><td>Original SVM</td><td>Nicotine &amp; Cotinine</td><td>0.7614286</td><td>0.8095238</td><td>0.7133333</td><td>0.8044444</td><td>0.7614286</td></tr>\n",
       "</tbody>\n",
       "</table>\n"
      ],
      "text/latex": [
       "A data.frame: 2 × 7\n",
       "\\begin{tabular}{lllllll}\n",
       " Model & Removed.Variables & Balanced.Accuracy & Sensitivity & Specificity & PPV & AUC\\\\\n",
       " <fct> & <fct> & <dbl> & <dbl> & <dbl> & <dbl> & <dbl>\\\\\n",
       "\\hline\n",
       "\t Original SVM & None                & 0.7614286 & 0.8095238 & 0.7133333 & 0.8044444 & 0.7614286\\\\\n",
       "\t Original SVM & Nicotine \\& Cotinine & 0.7614286 & 0.8095238 & 0.7133333 & 0.8044444 & 0.7614286\\\\\n",
       "\\end{tabular}\n"
      ],
      "text/markdown": [
       "\n",
       "A data.frame: 2 × 7\n",
       "\n",
       "| Model &lt;fct&gt; | Removed.Variables &lt;fct&gt; | Balanced.Accuracy &lt;dbl&gt; | Sensitivity &lt;dbl&gt; | Specificity &lt;dbl&gt; | PPV &lt;dbl&gt; | AUC &lt;dbl&gt; |\n",
       "|---|---|---|---|---|---|---|\n",
       "| Original SVM | None                | 0.7614286 | 0.8095238 | 0.7133333 | 0.8044444 | 0.7614286 |\n",
       "| Original SVM | Nicotine &amp; Cotinine | 0.7614286 | 0.8095238 | 0.7133333 | 0.8044444 | 0.7614286 |\n",
       "\n"
      ],
      "text/plain": [
       "  Model        Removed.Variables   Balanced.Accuracy Sensitivity Specificity\n",
       "1 Original SVM None                0.7614286         0.8095238   0.7133333  \n",
       "2 Original SVM Nicotine & Cotinine 0.7614286         0.8095238   0.7133333  \n",
       "  PPV       AUC      \n",
       "1 0.8044444 0.7614286\n",
       "2 0.8044444 0.7614286"
      ]
     },
     "metadata": {},
     "output_type": "display_data"
    }
   ],
   "source": [
    "#creating one combined df\n",
    "svm_final_df = data.frame(rbind(svm_w_Ecig_40, svm_w_Ecig_40_wo_nicotine))\n",
    "\n",
    "svm_final_df = data.frame(Model = c(rep(c(\"Original SVM\"), times = 2)), Removed.Variables = c(\"None\", \"Nicotine & Cotinine\"), svm_final_df)\n",
    "svm_final_df"
   ]
  },
  {
   "cell_type": "markdown",
   "id": "vocal-treatment",
   "metadata": {},
   "source": [
    "# RF Variable Selection w/ SVM\n",
    "\n",
    "Calculating the average noise rank to determine, which predictors ranked higher than the highest noise rank. Then filtering the original datasets for those predictors and rerunning SVM."
   ]
  },
  {
   "cell_type": "code",
   "execution_count": 50,
   "id": "median-chair",
   "metadata": {},
   "outputs": [],
   "source": [
    "#calculating avg noise rank out of all variables\n",
    "noise_importance_values_w_Ecig_40 = noise_rf_values_w_Ecig_40[[3]] %>%\n",
    "    column_to_rownames(var = \"MF\")\n",
    "noise_importance_values_w_Ecig_40_wo_nicotine = noise_rf_values_w_Ecig_40_wo_nicotine[[3]] %>%\n",
    "    column_to_rownames(var = \"MF\")"
   ]
  },
  {
   "cell_type": "code",
   "execution_count": 51,
   "id": "liked-hydrogen",
   "metadata": {},
   "outputs": [
    {
     "data": {
      "text/html": [
       "0.207376837761156"
      ],
      "text/latex": [
       "0.207376837761156"
      ],
      "text/markdown": [
       "0.207376837761156"
      ],
      "text/plain": [
       "[1] 0.2073768"
      ]
     },
     "metadata": {},
     "output_type": "display_data"
    },
    {
     "data": {
      "text/html": [
       "0.0216774193548387"
      ],
      "text/latex": [
       "0.0216774193548387"
      ],
      "text/markdown": [
       "0.0216774193548387"
      ],
      "text/plain": [
       "[1] 0.02167742"
      ]
     },
     "metadata": {},
     "output_type": "display_data"
    }
   ],
   "source": [
    "highest_noise_rank = function(noise_importance_values){\n",
    "    #this gives us values between 0 and 1\n",
    "    #the closer the number gets to 1 the lower it ranks, so the number closest to 1 is the max rank\n",
    "    noise1rank = which(rownames(noise_importance_values) == \"noise1\")/nrow(noise_importance_values)\n",
    "    noise2rank = which(rownames(noise_importance_values) == \"noise2\")/nrow(noise_importance_values)\n",
    "    noise3rank = which(rownames(noise_importance_values) == \"noise3\")/nrow(noise_importance_values)\n",
    "    noise4rank = which(rownames(noise_importance_values) == \"noise4\")/nrow(noise_importance_values)\n",
    "    noise5rank = which(rownames(noise_importance_values) == \"noise5\")/nrow(noise_importance_values)\n",
    "\n",
    "    #figuring out which is the highest mean decrease gini or background noise importance value\n",
    "    highest_noise_rank = min(noise1rank, noise2rank, noise3rank, noise4rank, noise5rank)\n",
    "    \n",
    "    return(highest_noise_rank)\n",
    "}\n",
    "\n",
    "#calling fn\n",
    "highest_noise_rank_w_Ecig_40 = highest_noise_rank(noise_importance_values_w_Ecig_40)\n",
    "highest_noise_rank_w_Ecig_40_wo_nicotine = highest_noise_rank(noise_importance_values_w_Ecig_40_wo_nicotine)\n",
    "highest_noise_rank_w_Ecig_40\n",
    "highest_noise_rank_w_Ecig_40_wo_nicotine"
   ]
  },
  {
   "cell_type": "code",
   "execution_count": 52,
   "id": "valuable-floor",
   "metadata": {},
   "outputs": [
    {
     "data": {
      "text/html": [
       "804"
      ],
      "text/latex": [
       "804"
      ],
      "text/markdown": [
       "804"
      ],
      "text/plain": [
       "[1] 804"
      ]
     },
     "metadata": {},
     "output_type": "display_data"
    },
    {
     "data": {
      "text/html": [
       "84"
      ],
      "text/latex": [
       "84"
      ],
      "text/markdown": [
       "84"
      ],
      "text/plain": [
       "[1] 84"
      ]
     },
     "metadata": {},
     "output_type": "display_data"
    }
   ],
   "source": [
    "last_significant_rank = function(noise_importance_values, highest_noise_rank){\n",
    "    for (i in 1:length(noise_importance_values$MeanDecreaseGini)){\n",
    "    #if the row number (index)/# of variables is less than the highest noise rank the loop will continue\n",
    "        if (i/length(noise_importance_values$MeanDecreaseGini) > highest_noise_rank){\n",
    "            last_significant_var = i - 1\n",
    "            break\n",
    "        }\n",
    "    }    \n",
    "    return(last_significant_var)\n",
    "}\n",
    "\n",
    "#calling fn\n",
    "last_significant_rank_w_Ecig_40 = last_significant_rank(noise_importance_values_w_Ecig_40, highest_noise_rank_w_Ecig_40)\n",
    "last_significant_rank_w_Ecig_40_wo_nicotine = last_significant_rank(noise_importance_values_w_Ecig_40_wo_nicotine, highest_noise_rank_w_Ecig_40_wo_nicotine)\n",
    "last_significant_rank_w_Ecig_40\n",
    "last_significant_rank_w_Ecig_40_wo_nicotine"
   ]
  },
  {
   "cell_type": "markdown",
   "id": "clean-binary",
   "metadata": {},
   "source": [
    "The dataset containing all the features contains 804 MFs above background, while the dataset without nicotine and cotinine has 84. This means that the exclusion of these 2 features forces the model to find erroneous connections between the noise variables and the outcome and that these 2 features are driving much of the model's predictive ability. "
   ]
  },
  {
   "cell_type": "code",
   "execution_count": 53,
   "id": "flush-seller",
   "metadata": {},
   "outputs": [
    {
     "data": {
      "text/html": [
       "<table class=\"dataframe\">\n",
       "<caption>A data.frame: 6 × 804</caption>\n",
       "<thead>\n",
       "\t<tr><th></th><th scope=col>Smoking_Status</th><th scope=col>MF_5</th><th scope=col>MF_13</th><th scope=col>MF_17</th><th scope=col>MF_35</th><th scope=col>MF_37</th><th scope=col>MF_39</th><th scope=col>MF_46</th><th scope=col>MF_53</th><th scope=col>MF_54</th><th scope=col>⋯</th><th scope=col>MF_51718</th><th scope=col>MF_53468</th><th scope=col>MF_53619</th><th scope=col>MF_55392</th><th scope=col>MF_59362</th><th scope=col>MF_61014</th><th scope=col>MF_61833</th><th scope=col>MF_62137</th><th scope=col>MF_64936</th><th scope=col>MF_78976</th></tr>\n",
       "\t<tr><th></th><th scope=col>&lt;fct&gt;</th><th scope=col>&lt;dbl&gt;</th><th scope=col>&lt;dbl&gt;</th><th scope=col>&lt;dbl&gt;</th><th scope=col>&lt;dbl&gt;</th><th scope=col>&lt;dbl&gt;</th><th scope=col>&lt;dbl&gt;</th><th scope=col>&lt;dbl&gt;</th><th scope=col>&lt;dbl&gt;</th><th scope=col>&lt;dbl&gt;</th><th scope=col>⋯</th><th scope=col>&lt;dbl&gt;</th><th scope=col>&lt;dbl&gt;</th><th scope=col>&lt;dbl&gt;</th><th scope=col>&lt;dbl&gt;</th><th scope=col>&lt;dbl&gt;</th><th scope=col>&lt;dbl&gt;</th><th scope=col>&lt;dbl&gt;</th><th scope=col>&lt;dbl&gt;</th><th scope=col>&lt;dbl&gt;</th><th scope=col>&lt;dbl&gt;</th></tr>\n",
       "</thead>\n",
       "<tbody>\n",
       "\t<tr><th scope=row>1</th><td>0</td><td>18.02809</td><td>19.46777</td><td>20.11458</td><td>17.82672</td><td>18.26643</td><td>19.00952</td><td>19.65691</td><td>18.63728</td><td>19.13422</td><td>⋯</td><td>19.11038</td><td>19.14811</td><td>18.26770</td><td>19.47902</td><td>19.14311</td><td>16.40603</td><td>16.89474</td><td>17.47760</td><td>17.09794</td><td>17.05593</td></tr>\n",
       "\t<tr><th scope=row>2</th><td>0</td><td>17.93584</td><td>21.01488</td><td>19.82979</td><td>16.81001</td><td>19.51374</td><td>17.87427</td><td>21.82161</td><td>22.64031</td><td>21.19316</td><td>⋯</td><td>17.62661</td><td>18.07494</td><td>19.82107</td><td>18.94722</td><td>18.14936</td><td>19.55914</td><td>20.04172</td><td>16.35027</td><td>19.06421</td><td>19.30881</td></tr>\n",
       "\t<tr><th scope=row>3</th><td>0</td><td>16.51009</td><td>15.18975</td><td>18.65454</td><td>19.16474</td><td>21.11230</td><td>16.80061</td><td>19.56197</td><td>16.47404</td><td>13.40680</td><td>⋯</td><td>19.19945</td><td>17.35692</td><td>18.97545</td><td>17.44090</td><td>21.24468</td><td>19.35598</td><td>20.66664</td><td>15.64893</td><td>16.97302</td><td>19.54912</td></tr>\n",
       "\t<tr><th scope=row>4</th><td>0</td><td>16.22547</td><td>21.97502</td><td>18.35221</td><td>18.66030</td><td>21.16445</td><td>17.69103</td><td>19.20528</td><td>22.71431</td><td>22.19120</td><td>⋯</td><td>20.02821</td><td>19.98383</td><td>19.31315</td><td>16.84370</td><td>15.54892</td><td>19.12636</td><td>15.82487</td><td>17.78108</td><td>19.47635</td><td>19.32788</td></tr>\n",
       "\t<tr><th scope=row>5</th><td>0</td><td>16.73360</td><td>19.32233</td><td>20.23552</td><td>17.94368</td><td>19.56851</td><td>17.53120</td><td>18.81662</td><td>17.17345</td><td>19.73012</td><td>⋯</td><td>17.46290</td><td>19.37300</td><td>19.69692</td><td>17.48581</td><td>19.98009</td><td>17.56106</td><td>17.89533</td><td>17.97428</td><td>18.50336</td><td>18.95550</td></tr>\n",
       "\t<tr><th scope=row>6</th><td>0</td><td>16.69956</td><td>22.09338</td><td>20.72501</td><td>16.55946</td><td>24.81633</td><td>18.90936</td><td>20.70904</td><td>24.92124</td><td>23.10405</td><td>⋯</td><td>15.50206</td><td>18.54867</td><td>18.53569</td><td>16.89375</td><td>16.54808</td><td>18.71601</td><td>19.58488</td><td>16.06782</td><td>17.46699</td><td>17.82000</td></tr>\n",
       "</tbody>\n",
       "</table>\n"
      ],
      "text/latex": [
       "A data.frame: 6 × 804\n",
       "\\begin{tabular}{r|lllllllllllllllllllll}\n",
       "  & Smoking\\_Status & MF\\_5 & MF\\_13 & MF\\_17 & MF\\_35 & MF\\_37 & MF\\_39 & MF\\_46 & MF\\_53 & MF\\_54 & ⋯ & MF\\_51718 & MF\\_53468 & MF\\_53619 & MF\\_55392 & MF\\_59362 & MF\\_61014 & MF\\_61833 & MF\\_62137 & MF\\_64936 & MF\\_78976\\\\\n",
       "  & <fct> & <dbl> & <dbl> & <dbl> & <dbl> & <dbl> & <dbl> & <dbl> & <dbl> & <dbl> & ⋯ & <dbl> & <dbl> & <dbl> & <dbl> & <dbl> & <dbl> & <dbl> & <dbl> & <dbl> & <dbl>\\\\\n",
       "\\hline\n",
       "\t1 & 0 & 18.02809 & 19.46777 & 20.11458 & 17.82672 & 18.26643 & 19.00952 & 19.65691 & 18.63728 & 19.13422 & ⋯ & 19.11038 & 19.14811 & 18.26770 & 19.47902 & 19.14311 & 16.40603 & 16.89474 & 17.47760 & 17.09794 & 17.05593\\\\\n",
       "\t2 & 0 & 17.93584 & 21.01488 & 19.82979 & 16.81001 & 19.51374 & 17.87427 & 21.82161 & 22.64031 & 21.19316 & ⋯ & 17.62661 & 18.07494 & 19.82107 & 18.94722 & 18.14936 & 19.55914 & 20.04172 & 16.35027 & 19.06421 & 19.30881\\\\\n",
       "\t3 & 0 & 16.51009 & 15.18975 & 18.65454 & 19.16474 & 21.11230 & 16.80061 & 19.56197 & 16.47404 & 13.40680 & ⋯ & 19.19945 & 17.35692 & 18.97545 & 17.44090 & 21.24468 & 19.35598 & 20.66664 & 15.64893 & 16.97302 & 19.54912\\\\\n",
       "\t4 & 0 & 16.22547 & 21.97502 & 18.35221 & 18.66030 & 21.16445 & 17.69103 & 19.20528 & 22.71431 & 22.19120 & ⋯ & 20.02821 & 19.98383 & 19.31315 & 16.84370 & 15.54892 & 19.12636 & 15.82487 & 17.78108 & 19.47635 & 19.32788\\\\\n",
       "\t5 & 0 & 16.73360 & 19.32233 & 20.23552 & 17.94368 & 19.56851 & 17.53120 & 18.81662 & 17.17345 & 19.73012 & ⋯ & 17.46290 & 19.37300 & 19.69692 & 17.48581 & 19.98009 & 17.56106 & 17.89533 & 17.97428 & 18.50336 & 18.95550\\\\\n",
       "\t6 & 0 & 16.69956 & 22.09338 & 20.72501 & 16.55946 & 24.81633 & 18.90936 & 20.70904 & 24.92124 & 23.10405 & ⋯ & 15.50206 & 18.54867 & 18.53569 & 16.89375 & 16.54808 & 18.71601 & 19.58488 & 16.06782 & 17.46699 & 17.82000\\\\\n",
       "\\end{tabular}\n"
      ],
      "text/markdown": [
       "\n",
       "A data.frame: 6 × 804\n",
       "\n",
       "| <!--/--> | Smoking_Status &lt;fct&gt; | MF_5 &lt;dbl&gt; | MF_13 &lt;dbl&gt; | MF_17 &lt;dbl&gt; | MF_35 &lt;dbl&gt; | MF_37 &lt;dbl&gt; | MF_39 &lt;dbl&gt; | MF_46 &lt;dbl&gt; | MF_53 &lt;dbl&gt; | MF_54 &lt;dbl&gt; | ⋯ ⋯ | MF_51718 &lt;dbl&gt; | MF_53468 &lt;dbl&gt; | MF_53619 &lt;dbl&gt; | MF_55392 &lt;dbl&gt; | MF_59362 &lt;dbl&gt; | MF_61014 &lt;dbl&gt; | MF_61833 &lt;dbl&gt; | MF_62137 &lt;dbl&gt; | MF_64936 &lt;dbl&gt; | MF_78976 &lt;dbl&gt; |\n",
       "|---|---|---|---|---|---|---|---|---|---|---|---|---|---|---|---|---|---|---|---|---|---|\n",
       "| 1 | 0 | 18.02809 | 19.46777 | 20.11458 | 17.82672 | 18.26643 | 19.00952 | 19.65691 | 18.63728 | 19.13422 | ⋯ | 19.11038 | 19.14811 | 18.26770 | 19.47902 | 19.14311 | 16.40603 | 16.89474 | 17.47760 | 17.09794 | 17.05593 |\n",
       "| 2 | 0 | 17.93584 | 21.01488 | 19.82979 | 16.81001 | 19.51374 | 17.87427 | 21.82161 | 22.64031 | 21.19316 | ⋯ | 17.62661 | 18.07494 | 19.82107 | 18.94722 | 18.14936 | 19.55914 | 20.04172 | 16.35027 | 19.06421 | 19.30881 |\n",
       "| 3 | 0 | 16.51009 | 15.18975 | 18.65454 | 19.16474 | 21.11230 | 16.80061 | 19.56197 | 16.47404 | 13.40680 | ⋯ | 19.19945 | 17.35692 | 18.97545 | 17.44090 | 21.24468 | 19.35598 | 20.66664 | 15.64893 | 16.97302 | 19.54912 |\n",
       "| 4 | 0 | 16.22547 | 21.97502 | 18.35221 | 18.66030 | 21.16445 | 17.69103 | 19.20528 | 22.71431 | 22.19120 | ⋯ | 20.02821 | 19.98383 | 19.31315 | 16.84370 | 15.54892 | 19.12636 | 15.82487 | 17.78108 | 19.47635 | 19.32788 |\n",
       "| 5 | 0 | 16.73360 | 19.32233 | 20.23552 | 17.94368 | 19.56851 | 17.53120 | 18.81662 | 17.17345 | 19.73012 | ⋯ | 17.46290 | 19.37300 | 19.69692 | 17.48581 | 19.98009 | 17.56106 | 17.89533 | 17.97428 | 18.50336 | 18.95550 |\n",
       "| 6 | 0 | 16.69956 | 22.09338 | 20.72501 | 16.55946 | 24.81633 | 18.90936 | 20.70904 | 24.92124 | 23.10405 | ⋯ | 15.50206 | 18.54867 | 18.53569 | 16.89375 | 16.54808 | 18.71601 | 19.58488 | 16.06782 | 17.46699 | 17.82000 |\n",
       "\n"
      ],
      "text/plain": [
       "  Smoking_Status MF_5     MF_13    MF_17    MF_35    MF_37    MF_39    MF_46   \n",
       "1 0              18.02809 19.46777 20.11458 17.82672 18.26643 19.00952 19.65691\n",
       "2 0              17.93584 21.01488 19.82979 16.81001 19.51374 17.87427 21.82161\n",
       "3 0              16.51009 15.18975 18.65454 19.16474 21.11230 16.80061 19.56197\n",
       "4 0              16.22547 21.97502 18.35221 18.66030 21.16445 17.69103 19.20528\n",
       "5 0              16.73360 19.32233 20.23552 17.94368 19.56851 17.53120 18.81662\n",
       "6 0              16.69956 22.09338 20.72501 16.55946 24.81633 18.90936 20.70904\n",
       "  MF_53    MF_54    ⋯ MF_51718 MF_53468 MF_53619 MF_55392 MF_59362 MF_61014\n",
       "1 18.63728 19.13422 ⋯ 19.11038 19.14811 18.26770 19.47902 19.14311 16.40603\n",
       "2 22.64031 21.19316 ⋯ 17.62661 18.07494 19.82107 18.94722 18.14936 19.55914\n",
       "3 16.47404 13.40680 ⋯ 19.19945 17.35692 18.97545 17.44090 21.24468 19.35598\n",
       "4 22.71431 22.19120 ⋯ 20.02821 19.98383 19.31315 16.84370 15.54892 19.12636\n",
       "5 17.17345 19.73012 ⋯ 17.46290 19.37300 19.69692 17.48581 19.98009 17.56106\n",
       "6 24.92124 23.10405 ⋯ 15.50206 18.54867 18.53569 16.89375 16.54808 18.71601\n",
       "  MF_61833 MF_62137 MF_64936 MF_78976\n",
       "1 16.89474 17.47760 17.09794 17.05593\n",
       "2 20.04172 16.35027 19.06421 19.30881\n",
       "3 20.66664 15.64893 16.97302 19.54912\n",
       "4 15.82487 17.78108 19.47635 19.32788\n",
       "5 17.89533 17.97428 18.50336 18.95550\n",
       "6 19.58488 16.06782 17.46699 17.82000"
      ]
     },
     "metadata": {},
     "output_type": "display_data"
    }
   ],
   "source": [
    "#now getting those significant MFs\n",
    "significant_MFs_w_Ecig_40 = rownames(noise_importance_values_w_Ecig_40)[1:last_significant_rank_w_Ecig_40]\n",
    "significant_MFs_w_Ecig_40_wo_nicotine = rownames(noise_importance_values_w_Ecig_40_wo_nicotine)[1:last_significant_rank_w_Ecig_40_wo_nicotine]\n",
    "\n",
    "#now subsetting the original dfs\n",
    "rf_subset_MF_df_w_Ecig_40 = cbind(Smoking_Status = molecular_feature_df_w_Ecig_40$Smoking_Status, molecular_feature_df_w_Ecig_40[,colnames(molecular_feature_df_w_Ecig_40) %in% significant_MFs_w_Ecig_40])\n",
    "rf_subset_MF_df_w_Ecig_40_wo_nicotine = cbind(Smoking_Status = mf_df_w_Ecig_40_wo_nicotine$Smoking_Status, mf_df_w_Ecig_40_wo_nicotine[,colnames(mf_df_w_Ecig_40_wo_nicotine) %in% significant_MFs_w_Ecig_40_wo_nicotine])\n",
    "head(rf_subset_MF_df_w_Ecig_40)"
   ]
  },
  {
   "cell_type": "code",
   "execution_count": 55,
   "id": "featured-synthesis",
   "metadata": {},
   "outputs": [
    {
     "name": "stderr",
     "output_type": "stream",
     "text": [
      "Joining, by = \"MF\"\n",
      "\n",
      "Joining, by = \"MF\"\n",
      "\n"
     ]
    },
    {
     "data": {
      "text/html": [
       "<table class=\"dataframe\">\n",
       "<caption>A data.frame: 6 × 3</caption>\n",
       "<thead>\n",
       "\t<tr><th></th><th scope=col>MF</th><th scope=col>Passed_Filter</th><th scope=col>MeanDecreaseGini</th></tr>\n",
       "\t<tr><th></th><th scope=col>&lt;chr&gt;</th><th scope=col>&lt;fct&gt;</th><th scope=col>&lt;dbl&gt;</th></tr>\n",
       "</thead>\n",
       "<tbody>\n",
       "\t<tr><th scope=row>1</th><td>MF_292  </td><td>Yes</td><td>0.88343510</td></tr>\n",
       "\t<tr><th scope=row>2</th><td>MF_3345 </td><td>Yes</td><td>0.46439663</td></tr>\n",
       "\t<tr><th scope=row>3</th><td>MF_7221 </td><td>Yes</td><td>0.53657673</td></tr>\n",
       "\t<tr><th scope=row>4</th><td>MF_6955 </td><td>Yes</td><td>0.04491567</td></tr>\n",
       "\t<tr><th scope=row>5</th><td>MF_1522 </td><td>Yes</td><td>0.08419519</td></tr>\n",
       "\t<tr><th scope=row>6</th><td>MF_34412</td><td>Yes</td><td>0.15137875</td></tr>\n",
       "</tbody>\n",
       "</table>\n"
      ],
      "text/latex": [
       "A data.frame: 6 × 3\n",
       "\\begin{tabular}{r|lll}\n",
       "  & MF & Passed\\_Filter & MeanDecreaseGini\\\\\n",
       "  & <chr> & <fct> & <dbl>\\\\\n",
       "\\hline\n",
       "\t1 & MF\\_292   & Yes & 0.88343510\\\\\n",
       "\t2 & MF\\_3345  & Yes & 0.46439663\\\\\n",
       "\t3 & MF\\_7221  & Yes & 0.53657673\\\\\n",
       "\t4 & MF\\_6955  & Yes & 0.04491567\\\\\n",
       "\t5 & MF\\_1522  & Yes & 0.08419519\\\\\n",
       "\t6 & MF\\_34412 & Yes & 0.15137875\\\\\n",
       "\\end{tabular}\n"
      ],
      "text/markdown": [
       "\n",
       "A data.frame: 6 × 3\n",
       "\n",
       "| <!--/--> | MF &lt;chr&gt; | Passed_Filter &lt;fct&gt; | MeanDecreaseGini &lt;dbl&gt; |\n",
       "|---|---|---|---|\n",
       "| 1 | MF_292   | Yes | 0.88343510 |\n",
       "| 2 | MF_3345  | Yes | 0.46439663 |\n",
       "| 3 | MF_7221  | Yes | 0.53657673 |\n",
       "| 4 | MF_6955  | Yes | 0.04491567 |\n",
       "| 5 | MF_1522  | Yes | 0.08419519 |\n",
       "| 6 | MF_34412 | Yes | 0.15137875 |\n",
       "\n"
      ],
      "text/plain": [
       "  MF       Passed_Filter MeanDecreaseGini\n",
       "1 MF_292   Yes           0.88343510      \n",
       "2 MF_3345  Yes           0.46439663      \n",
       "3 MF_7221  Yes           0.53657673      \n",
       "4 MF_6955  Yes           0.04491567      \n",
       "5 MF_1522  Yes           0.08419519      \n",
       "6 MF_34412 Yes           0.15137875      "
      ]
     },
     "metadata": {},
     "output_type": "display_data"
    }
   ],
   "source": [
    "#getting dataframe ready to export variable importance ranks from above and whether those features passed the \n",
    "# background filter\n",
    "significant_MFs_df = data.frame(MF = significant_MFs_w_Ecig_40, Passed_Filter = c(rep(c(\"Yes\"), \n",
    "                                                                    times = length(significant_MFs_w_Ecig_40))))\n",
    "significant_MFs_df_wo_nicotine = data.frame(MF = significant_MFs_w_Ecig_40_wo_nicotine, Passed_Filter = c(rep(c(\"Yes\"), \n",
    "                                                                    times = length(significant_MFs_w_Ecig_40_wo_nicotine))))\n",
    "\n",
    "significant_MFs_df = full_join(significant_MFs_df, rf_values_w_Ecig_40[[3]])\n",
    "significant_MFs_df_wo_nictoine = full_join(significant_MFs_df_wo_nicotine, rf_values_w_Ecig_40_wo_nicotine[[3]])\n",
    "\n",
    "head(significant_MFs_df_wo_nictoine)"
   ]
  },
  {
   "cell_type": "code",
   "execution_count": 56,
   "id": "collaborative-atmosphere",
   "metadata": {},
   "outputs": [],
   "source": [
    "#exporting those features that passed the background filter\n",
    "write.csv(significant_MFs_df, paste0(Output,\"/\", cur_date, \"_Significant_MFs.csv\"), row.names = FALSE)\n",
    "write.csv(significant_MFs_df_wo_nictoine, paste0(Output,\"/\", cur_date, \"_Significant_MFs_wo_nicotine.csv\"), row.names = FALSE)"
   ]
  },
  {
   "cell_type": "code",
   "execution_count": 57,
   "id": "floral-adolescent",
   "metadata": {},
   "outputs": [
    {
     "name": "stderr",
     "output_type": "stream",
     "text": [
      "Setting levels: control = 0, case = 1\n",
      "\n",
      "Setting direction: controls < cases\n",
      "\n",
      "Setting levels: control = 0, case = 1\n",
      "\n",
      "Setting direction: controls < cases\n",
      "\n",
      "Setting levels: control = 0, case = 1\n",
      "\n",
      "Setting direction: controls < cases\n",
      "\n",
      "Setting levels: control = 0, case = 1\n",
      "\n",
      "Setting direction: controls < cases\n",
      "\n",
      "Setting levels: control = 0, case = 1\n",
      "\n",
      "Setting direction: controls < cases\n",
      "\n",
      "Setting levels: control = 0, case = 1\n",
      "\n",
      "Setting direction: controls < cases\n",
      "\n",
      "Setting levels: control = 0, case = 1\n",
      "\n",
      "Setting direction: controls < cases\n",
      "\n",
      "Setting levels: control = 0, case = 1\n",
      "\n",
      "Setting direction: controls < cases\n",
      "\n",
      "Setting levels: control = 0, case = 1\n",
      "\n",
      "Setting direction: controls < cases\n",
      "\n",
      "Setting levels: control = 0, case = 1\n",
      "\n",
      "Setting direction: controls < cases\n",
      "\n"
     ]
    }
   ],
   "source": [
    "#calling fn\n",
    "subset_svm_w_Ecig_40 = svm_classification(rf_subset_MF_df_w_Ecig_40, \"linear\", \"Smoking_Status\", \"pred_Smoking_Status\",\n",
    "                                            0.035, 1:5, seq(0,1,0.2))\n",
    "subset_svm_w_Ecig_40_wo_nicotine = svm_classification(rf_subset_MF_df_w_Ecig_40_wo_nicotine, \"linear\", \"Smoking_Status\", \"pred_Smoking_Status\",\n",
    "                                            0.035, 1:5, seq(0,1,0.2))"
   ]
  },
  {
   "cell_type": "code",
   "execution_count": 58,
   "id": "ranking-copying",
   "metadata": {},
   "outputs": [
    {
     "data": {
      "text/html": [
       "<table class=\"dataframe\">\n",
       "<caption>A data.frame: 2 × 7</caption>\n",
       "<thead>\n",
       "\t<tr><th scope=col>Model</th><th scope=col>Removed.Variables</th><th scope=col>Balanced.Accuracy</th><th scope=col>Sensitivity</th><th scope=col>Specificity</th><th scope=col>PPV</th><th scope=col>AUC</th></tr>\n",
       "\t<tr><th scope=col>&lt;fct&gt;</th><th scope=col>&lt;fct&gt;</th><th scope=col>&lt;dbl&gt;</th><th scope=col>&lt;dbl&gt;</th><th scope=col>&lt;dbl&gt;</th><th scope=col>&lt;dbl&gt;</th><th scope=col>&lt;dbl&gt;</th></tr>\n",
       "</thead>\n",
       "<tbody>\n",
       "\t<tr><td>SVM w/ RF Var Selection</td><td>None               </td><td>0.8490476</td><td>0.8714286</td><td>0.8266667</td><td>0.8600000</td><td>0.8490476</td></tr>\n",
       "\t<tr><td>SVM w/ RF Var Selection</td><td>Nicotine &amp; Cotinine</td><td>0.7695238</td><td>0.8190476</td><td>0.7200000</td><td>0.7880952</td><td>0.7695238</td></tr>\n",
       "</tbody>\n",
       "</table>\n"
      ],
      "text/latex": [
       "A data.frame: 2 × 7\n",
       "\\begin{tabular}{lllllll}\n",
       " Model & Removed.Variables & Balanced.Accuracy & Sensitivity & Specificity & PPV & AUC\\\\\n",
       " <fct> & <fct> & <dbl> & <dbl> & <dbl> & <dbl> & <dbl>\\\\\n",
       "\\hline\n",
       "\t SVM w/ RF Var Selection & None                & 0.8490476 & 0.8714286 & 0.8266667 & 0.8600000 & 0.8490476\\\\\n",
       "\t SVM w/ RF Var Selection & Nicotine \\& Cotinine & 0.7695238 & 0.8190476 & 0.7200000 & 0.7880952 & 0.7695238\\\\\n",
       "\\end{tabular}\n"
      ],
      "text/markdown": [
       "\n",
       "A data.frame: 2 × 7\n",
       "\n",
       "| Model &lt;fct&gt; | Removed.Variables &lt;fct&gt; | Balanced.Accuracy &lt;dbl&gt; | Sensitivity &lt;dbl&gt; | Specificity &lt;dbl&gt; | PPV &lt;dbl&gt; | AUC &lt;dbl&gt; |\n",
       "|---|---|---|---|---|---|---|\n",
       "| SVM w/ RF Var Selection | None                | 0.8490476 | 0.8714286 | 0.8266667 | 0.8600000 | 0.8490476 |\n",
       "| SVM w/ RF Var Selection | Nicotine &amp; Cotinine | 0.7695238 | 0.8190476 | 0.7200000 | 0.7880952 | 0.7695238 |\n",
       "\n"
      ],
      "text/plain": [
       "  Model                   Removed.Variables   Balanced.Accuracy Sensitivity\n",
       "1 SVM w/ RF Var Selection None                0.8490476         0.8714286  \n",
       "2 SVM w/ RF Var Selection Nicotine & Cotinine 0.7695238         0.8190476  \n",
       "  Specificity PPV       AUC      \n",
       "1 0.8266667   0.8600000 0.8490476\n",
       "2 0.7200000   0.7880952 0.7695238"
      ]
     },
     "metadata": {},
     "output_type": "display_data"
    }
   ],
   "source": [
    "#creating one combined df\n",
    "subset_svm_final_df = data.frame(rbind(subset_svm_w_Ecig_40, subset_svm_w_Ecig_40_wo_nicotine))\n",
    "\n",
    "subset_svm_final_df = data.frame(Model = c(rep(c(\"SVM w/ RF Var Selection\"), times = 2)), Removed.Variables = c(\"None\", \"Nicotine & Cotinine\"), subset_svm_final_df)\n",
    "subset_svm_final_df"
   ]
  },
  {
   "cell_type": "code",
   "execution_count": 59,
   "id": "daily-neighborhood",
   "metadata": {},
   "outputs": [
    {
     "data": {
      "text/html": [
       "<table class=\"dataframe\">\n",
       "<caption>A data.frame: 6 × 7</caption>\n",
       "<thead>\n",
       "\t<tr><th scope=col>Model</th><th scope=col>Removed.Variables</th><th scope=col>Balanced.Accuracy</th><th scope=col>Sensitivity</th><th scope=col>Specificity</th><th scope=col>PPV</th><th scope=col>AUC</th></tr>\n",
       "\t<tr><th scope=col>&lt;fct&gt;</th><th scope=col>&lt;fct&gt;</th><th scope=col>&lt;dbl&gt;</th><th scope=col>&lt;dbl&gt;</th><th scope=col>&lt;dbl&gt;</th><th scope=col>&lt;dbl&gt;</th><th scope=col>&lt;dbl&gt;</th></tr>\n",
       "</thead>\n",
       "<tbody>\n",
       "\t<tr><td>Original RF            </td><td>None               </td><td>0.9047619</td><td>0.8428571</td><td>0.9666667</td><td>0.9600000</td><td>0.9047619</td></tr>\n",
       "\t<tr><td><span style=white-space:pre-wrap>Original RF            </span></td><td>Nicotine &amp; Cotinine</td><td>0.6185714</td><td>0.6571429</td><td>0.5800000</td><td>0.6883333</td><td>0.6185714</td></tr>\n",
       "\t<tr><td>Original SVM           </td><td>None               </td><td>0.7614286</td><td>0.8095238</td><td>0.7133333</td><td>0.8044444</td><td>0.7614286</td></tr>\n",
       "\t<tr><td><span style=white-space:pre-wrap>Original SVM           </span></td><td>Nicotine &amp; Cotinine</td><td>0.7614286</td><td>0.8095238</td><td>0.7133333</td><td>0.8044444</td><td>0.7614286</td></tr>\n",
       "\t<tr><td>SVM w/ RF Var Selection</td><td>None               </td><td>0.8490476</td><td>0.8714286</td><td>0.8266667</td><td>0.8600000</td><td>0.8490476</td></tr>\n",
       "\t<tr><td>SVM w/ RF Var Selection</td><td>Nicotine &amp; Cotinine</td><td>0.7695238</td><td>0.8190476</td><td>0.7200000</td><td>0.7880952</td><td>0.7695238</td></tr>\n",
       "</tbody>\n",
       "</table>\n"
      ],
      "text/latex": [
       "A data.frame: 6 × 7\n",
       "\\begin{tabular}{lllllll}\n",
       " Model & Removed.Variables & Balanced.Accuracy & Sensitivity & Specificity & PPV & AUC\\\\\n",
       " <fct> & <fct> & <dbl> & <dbl> & <dbl> & <dbl> & <dbl>\\\\\n",
       "\\hline\n",
       "\t Original RF             & None                & 0.9047619 & 0.8428571 & 0.9666667 & 0.9600000 & 0.9047619\\\\\n",
       "\t Original RF             & Nicotine \\& Cotinine & 0.6185714 & 0.6571429 & 0.5800000 & 0.6883333 & 0.6185714\\\\\n",
       "\t Original SVM            & None                & 0.7614286 & 0.8095238 & 0.7133333 & 0.8044444 & 0.7614286\\\\\n",
       "\t Original SVM            & Nicotine \\& Cotinine & 0.7614286 & 0.8095238 & 0.7133333 & 0.8044444 & 0.7614286\\\\\n",
       "\t SVM w/ RF Var Selection & None                & 0.8490476 & 0.8714286 & 0.8266667 & 0.8600000 & 0.8490476\\\\\n",
       "\t SVM w/ RF Var Selection & Nicotine \\& Cotinine & 0.7695238 & 0.8190476 & 0.7200000 & 0.7880952 & 0.7695238\\\\\n",
       "\\end{tabular}\n"
      ],
      "text/markdown": [
       "\n",
       "A data.frame: 6 × 7\n",
       "\n",
       "| Model &lt;fct&gt; | Removed.Variables &lt;fct&gt; | Balanced.Accuracy &lt;dbl&gt; | Sensitivity &lt;dbl&gt; | Specificity &lt;dbl&gt; | PPV &lt;dbl&gt; | AUC &lt;dbl&gt; |\n",
       "|---|---|---|---|---|---|---|\n",
       "| Original RF             | None                | 0.9047619 | 0.8428571 | 0.9666667 | 0.9600000 | 0.9047619 |\n",
       "| Original RF             | Nicotine &amp; Cotinine | 0.6185714 | 0.6571429 | 0.5800000 | 0.6883333 | 0.6185714 |\n",
       "| Original SVM            | None                | 0.7614286 | 0.8095238 | 0.7133333 | 0.8044444 | 0.7614286 |\n",
       "| Original SVM            | Nicotine &amp; Cotinine | 0.7614286 | 0.8095238 | 0.7133333 | 0.8044444 | 0.7614286 |\n",
       "| SVM w/ RF Var Selection | None                | 0.8490476 | 0.8714286 | 0.8266667 | 0.8600000 | 0.8490476 |\n",
       "| SVM w/ RF Var Selection | Nicotine &amp; Cotinine | 0.7695238 | 0.8190476 | 0.7200000 | 0.7880952 | 0.7695238 |\n",
       "\n"
      ],
      "text/plain": [
       "  Model                   Removed.Variables   Balanced.Accuracy Sensitivity\n",
       "1 Original RF             None                0.9047619         0.8428571  \n",
       "2 Original RF             Nicotine & Cotinine 0.6185714         0.6571429  \n",
       "3 Original SVM            None                0.7614286         0.8095238  \n",
       "4 Original SVM            Nicotine & Cotinine 0.7614286         0.8095238  \n",
       "5 SVM w/ RF Var Selection None                0.8490476         0.8714286  \n",
       "6 SVM w/ RF Var Selection Nicotine & Cotinine 0.7695238         0.8190476  \n",
       "  Specificity PPV       AUC      \n",
       "1 0.9666667   0.9600000 0.9047619\n",
       "2 0.5800000   0.6883333 0.6185714\n",
       "3 0.7133333   0.8044444 0.7614286\n",
       "4 0.7133333   0.8044444 0.7614286\n",
       "5 0.8266667   0.8600000 0.8490476\n",
       "6 0.7200000   0.7880952 0.7695238"
      ]
     },
     "metadata": {},
     "output_type": "display_data"
    }
   ],
   "source": [
    "#all results\n",
    "final_df = rbind(rf_confusion_matrix, svm_final_df, subset_svm_final_df)\n",
    "final_df"
   ]
  },
  {
   "cell_type": "code",
   "execution_count": 60,
   "id": "spoken-honolulu",
   "metadata": {},
   "outputs": [],
   "source": [
    "#exporting results\n",
    "write.csv(final_df, paste0(Output,\"/\", cur_date, \"_Smoking_Status_Prediction_Results.csv\"), row.names = FALSE)"
   ]
  },
  {
   "cell_type": "code",
   "execution_count": null,
   "id": "anticipated-leonard",
   "metadata": {},
   "outputs": [],
   "source": []
  }
 ],
 "metadata": {
  "kernelspec": {
   "display_name": "R",
   "language": "R",
   "name": "ir"
  },
  "language_info": {
   "codemirror_mode": "r",
   "file_extension": ".r",
   "mimetype": "text/x-r-source",
   "name": "R",
   "pygments_lexer": "r",
   "version": "3.6.3"
  }
 },
 "nbformat": 4,
 "nbformat_minor": 5
}
