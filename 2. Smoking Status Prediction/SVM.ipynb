{
 "cells": [
  {
   "cell_type": "code",
   "execution_count": 2,
   "id": "daily-toilet",
   "metadata": {},
   "outputs": [
    {
     "name": "stderr",
     "output_type": "stream",
     "text": [
      "── \u001b[1mAttaching packages\u001b[22m ─────────────────────────────────────── tidyverse 1.3.0 ──\n",
      "\n",
      "\u001b[32m✔\u001b[39m \u001b[34mggplot2\u001b[39m 3.3.3     \u001b[32m✔\u001b[39m \u001b[34mpurrr  \u001b[39m 0.3.4\n",
      "\u001b[32m✔\u001b[39m \u001b[34mtibble \u001b[39m 3.0.6     \u001b[32m✔\u001b[39m \u001b[34mdplyr  \u001b[39m 1.0.4\n",
      "\u001b[32m✔\u001b[39m \u001b[34mtidyr  \u001b[39m 1.1.2     \u001b[32m✔\u001b[39m \u001b[34mstringr\u001b[39m 1.4.0\n",
      "\u001b[32m✔\u001b[39m \u001b[34mreadr  \u001b[39m 1.4.0     \u001b[32m✔\u001b[39m \u001b[34mforcats\u001b[39m 0.5.1\n",
      "\n",
      "── \u001b[1mConflicts\u001b[22m ────────────────────────────────────────── tidyverse_conflicts() ──\n",
      "\u001b[31m✖\u001b[39m \u001b[34mdplyr\u001b[39m::\u001b[32mfilter()\u001b[39m masks \u001b[34mstats\u001b[39m::filter()\n",
      "\u001b[31m✖\u001b[39m \u001b[34mdplyr\u001b[39m::\u001b[32mlag()\u001b[39m    masks \u001b[34mstats\u001b[39m::lag()\n",
      "\n",
      "Loading required package: lattice\n",
      "\n",
      "\n",
      "Attaching package: ‘caret’\n",
      "\n",
      "\n",
      "The following object is masked from ‘package:purrr’:\n",
      "\n",
      "    lift\n",
      "\n",
      "\n",
      "Loading required package: survival\n",
      "\n",
      "\n",
      "Attaching package: ‘survival’\n",
      "\n",
      "\n",
      "The following object is masked from ‘package:caret’:\n",
      "\n",
      "    cluster\n",
      "\n",
      "\n",
      "Loading required package: Formula\n",
      "\n",
      "\n",
      "Attaching package: ‘Hmisc’\n",
      "\n",
      "\n",
      "The following object is masked from ‘package:e1071’:\n",
      "\n",
      "    impute\n",
      "\n",
      "\n",
      "The following objects are masked from ‘package:dplyr’:\n",
      "\n",
      "    src, summarize\n",
      "\n",
      "\n",
      "The following objects are masked from ‘package:base’:\n",
      "\n",
      "    format.pval, units\n",
      "\n",
      "\n",
      "Loading required package: Matrix\n",
      "\n",
      "\n",
      "Attaching package: ‘Matrix’\n",
      "\n",
      "\n",
      "The following objects are masked from ‘package:tidyr’:\n",
      "\n",
      "    expand, pack, unpack\n",
      "\n",
      "\n",
      "Loaded glmnet 4.1\n",
      "\n",
      "Type 'citation(\"pROC\")' for a citation.\n",
      "\n",
      "\n",
      "Attaching package: ‘pROC’\n",
      "\n",
      "\n",
      "The following objects are masked from ‘package:stats’:\n",
      "\n",
      "    cov, smooth, var\n",
      "\n",
      "\n",
      "New names:\n",
      "* `` -> ...1\n",
      "\n"
     ]
    }
   ],
   "source": [
    "setwd('/Users/alexis/University of North Carolina at Chapel Hill/Rager, Julia - CEMALB_DataAnalysisPM/Projects/P1002. Ecig Metabolomics NELF/P1002.2. Original Data')\n",
    "Output = ('/Users/alexis/University of North Carolina at Chapel Hill/Rager, Julia - CEMALB_DataAnalysisPM/Projects/P1002. Ecig Metabolomics NELF/P1002.3. Analyses/P1002.3.1. Smoking Status Prediction/Output')\n",
    "cur_date = \"020822\"\n",
    "\n",
    "library(readxl)\n",
    "library(tidyverse)\n",
    "library(gtsummary)\n",
    "library(caret)\n",
    "library(e1071)\n",
    "library(Hmisc)\n",
    "library(glmnet)\n",
    "library(pROC)\n",
    "\n",
    "#reading in file\n",
    "molecular_feature_df = data.frame(read_excel(\"back_convert_QRILC_imputation_cytokine_data.xlsx\")) %>%\n",
    "    rename(Smoking_Status = `...1`)\n",
    "# data.frame(read_excel(\"020722_mf_qrilc_df_square.xlsx\")) %>%\n",
    "#     rename(Smoking_Status = group)"
   ]
  },
  {
   "cell_type": "code",
   "execution_count": 3,
   "id": "premier-wisconsin",
   "metadata": {},
   "outputs": [
    {
     "data": {
      "text/html": [
       "<table class=\"dataframe\">\n",
       "<caption>A data.frame: 6 × 29</caption>\n",
       "<thead>\n",
       "\t<tr><th></th><th scope=col>Smoking_Status</th><th scope=col>IFNg</th><th scope=col>IL10</th><th scope=col>IL12p70</th><th scope=col>IL13</th><th scope=col>IL1b</th><th scope=col>IL2</th><th scope=col>IL4</th><th scope=col>IL6</th><th scope=col>TNFa</th><th scope=col>⋯</th><th scope=col>Eotaxin</th><th scope=col>Eotaxin3</th><th scope=col>IL8</th><th scope=col>IP10</th><th scope=col>MCP10</th><th scope=col>MCP4</th><th scope=col>MDC</th><th scope=col>MIP1a</th><th scope=col>MIP1b</th><th scope=col>TARC</th></tr>\n",
       "\t<tr><th></th><th scope=col>&lt;chr&gt;</th><th scope=col>&lt;dbl&gt;</th><th scope=col>&lt;dbl&gt;</th><th scope=col>&lt;dbl&gt;</th><th scope=col>&lt;dbl&gt;</th><th scope=col>&lt;dbl&gt;</th><th scope=col>&lt;dbl&gt;</th><th scope=col>&lt;dbl&gt;</th><th scope=col>&lt;dbl&gt;</th><th scope=col>&lt;dbl&gt;</th><th scope=col>⋯</th><th scope=col>&lt;dbl&gt;</th><th scope=col>&lt;dbl&gt;</th><th scope=col>&lt;dbl&gt;</th><th scope=col>&lt;dbl&gt;</th><th scope=col>&lt;dbl&gt;</th><th scope=col>&lt;dbl&gt;</th><th scope=col>&lt;dbl&gt;</th><th scope=col>&lt;dbl&gt;</th><th scope=col>&lt;dbl&gt;</th><th scope=col>&lt;dbl&gt;</th></tr>\n",
       "</thead>\n",
       "<tbody>\n",
       "\t<tr><th scope=row>1</th><td>Ecig_39</td><td> 5.3695611</td><td>2.9928536</td><td>1.6700162</td><td>48.36813</td><td> 24.117761</td><td> 5.2657189</td><td>0.42455866</td><td>13.075670</td><td> 5.9501019</td><td>⋯</td><td>358.19662</td><td> 1.164590</td><td> 18547.74</td><td>8736.7132</td><td>112.48249</td><td>10.072081</td><td> 31.69299</td><td>22.02667</td><td> 46.80070</td><td>20.541303</td></tr>\n",
       "\t<tr><th scope=row>2</th><td>Ecig_41</td><td>11.6128116</td><td>9.0600267</td><td>3.3710810</td><td>67.96322</td><td>167.431877</td><td>12.6837712</td><td>0.71329848</td><td>19.032378</td><td>11.3628057</td><td>⋯</td><td>267.15489</td><td>69.256817</td><td>109246.09</td><td>7708.0228</td><td>255.29369</td><td>13.009597</td><td>221.57141</td><td>52.67214</td><td>149.02215</td><td>24.715188</td></tr>\n",
       "\t<tr><th scope=row>3</th><td>Ecig_44</td><td> 4.1603189</td><td>2.0340947</td><td>1.5655687</td><td>50.77121</td><td>  8.870868</td><td> 2.4837514</td><td>0.49649954</td><td> 9.266373</td><td> 6.3306852</td><td>⋯</td><td>103.50569</td><td> 8.724533</td><td> 11221.13</td><td>7109.3784</td><td>147.73303</td><td> 2.798361</td><td>167.32860</td><td>46.98751</td><td>101.25635</td><td>35.541708</td></tr>\n",
       "\t<tr><th scope=row>4</th><td>Ecig_45</td><td> 0.8881171</td><td>0.4310717</td><td>0.3063518</td><td>25.23906</td><td> 40.477650</td><td> 0.5200777</td><td>0.02914528</td><td> 6.395885</td><td> 1.9479068</td><td>⋯</td><td>298.85050</td><td> 8.438962</td><td> 14633.80</td><td>3045.9940</td><td> 95.82647</td><td>21.200301</td><td>196.12405</td><td>32.89026</td><td> 24.92311</td><td>19.708475</td></tr>\n",
       "\t<tr><th scope=row>5</th><td>Ecig_47</td><td> 1.4481966</td><td>0.4997130</td><td>0.8622316</td><td>36.81471</td><td> 15.755858</td><td> 0.7766565</td><td>0.08862797</td><td> 5.244501</td><td> 3.5847722</td><td>⋯</td><td> 67.18448</td><td> 5.487179</td><td> 12078.16</td><td> 997.9376</td><td> 66.13370</td><td> 7.189953</td><td>139.46181</td><td>16.70862</td><td> 21.35656</td><td> 9.885379</td></tr>\n",
       "\t<tr><th scope=row>6</th><td>Ecig_48</td><td> 0.8494440</td><td>0.4240552</td><td>0.2785117</td><td>14.51272</td><td>  9.211680</td><td> 0.2684367</td><td>0.14116411</td><td> 2.476904</td><td> 0.5468069</td><td>⋯</td><td> 25.07486</td><td> 2.151572</td><td>  4880.69</td><td> 246.9985</td><td> 57.50348</td><td> 3.359783</td><td> 69.35689</td><td> 9.56433</td><td> 15.67118</td><td> 9.302557</td></tr>\n",
       "</tbody>\n",
       "</table>\n"
      ],
      "text/latex": [
       "A data.frame: 6 × 29\n",
       "\\begin{tabular}{r|lllllllllllllllllllll}\n",
       "  & Smoking\\_Status & IFNg & IL10 & IL12p70 & IL13 & IL1b & IL2 & IL4 & IL6 & TNFa & ⋯ & Eotaxin & Eotaxin3 & IL8 & IP10 & MCP10 & MCP4 & MDC & MIP1a & MIP1b & TARC\\\\\n",
       "  & <chr> & <dbl> & <dbl> & <dbl> & <dbl> & <dbl> & <dbl> & <dbl> & <dbl> & <dbl> & ⋯ & <dbl> & <dbl> & <dbl> & <dbl> & <dbl> & <dbl> & <dbl> & <dbl> & <dbl> & <dbl>\\\\\n",
       "\\hline\n",
       "\t1 & Ecig\\_39 &  5.3695611 & 2.9928536 & 1.6700162 & 48.36813 &  24.117761 &  5.2657189 & 0.42455866 & 13.075670 &  5.9501019 & ⋯ & 358.19662 &  1.164590 &  18547.74 & 8736.7132 & 112.48249 & 10.072081 &  31.69299 & 22.02667 &  46.80070 & 20.541303\\\\\n",
       "\t2 & Ecig\\_41 & 11.6128116 & 9.0600267 & 3.3710810 & 67.96322 & 167.431877 & 12.6837712 & 0.71329848 & 19.032378 & 11.3628057 & ⋯ & 267.15489 & 69.256817 & 109246.09 & 7708.0228 & 255.29369 & 13.009597 & 221.57141 & 52.67214 & 149.02215 & 24.715188\\\\\n",
       "\t3 & Ecig\\_44 &  4.1603189 & 2.0340947 & 1.5655687 & 50.77121 &   8.870868 &  2.4837514 & 0.49649954 &  9.266373 &  6.3306852 & ⋯ & 103.50569 &  8.724533 &  11221.13 & 7109.3784 & 147.73303 &  2.798361 & 167.32860 & 46.98751 & 101.25635 & 35.541708\\\\\n",
       "\t4 & Ecig\\_45 &  0.8881171 & 0.4310717 & 0.3063518 & 25.23906 &  40.477650 &  0.5200777 & 0.02914528 &  6.395885 &  1.9479068 & ⋯ & 298.85050 &  8.438962 &  14633.80 & 3045.9940 &  95.82647 & 21.200301 & 196.12405 & 32.89026 &  24.92311 & 19.708475\\\\\n",
       "\t5 & Ecig\\_47 &  1.4481966 & 0.4997130 & 0.8622316 & 36.81471 &  15.755858 &  0.7766565 & 0.08862797 &  5.244501 &  3.5847722 & ⋯ &  67.18448 &  5.487179 &  12078.16 &  997.9376 &  66.13370 &  7.189953 & 139.46181 & 16.70862 &  21.35656 &  9.885379\\\\\n",
       "\t6 & Ecig\\_48 &  0.8494440 & 0.4240552 & 0.2785117 & 14.51272 &   9.211680 &  0.2684367 & 0.14116411 &  2.476904 &  0.5468069 & ⋯ &  25.07486 &  2.151572 &   4880.69 &  246.9985 &  57.50348 &  3.359783 &  69.35689 &  9.56433 &  15.67118 &  9.302557\\\\\n",
       "\\end{tabular}\n"
      ],
      "text/markdown": [
       "\n",
       "A data.frame: 6 × 29\n",
       "\n",
       "| <!--/--> | Smoking_Status &lt;chr&gt; | IFNg &lt;dbl&gt; | IL10 &lt;dbl&gt; | IL12p70 &lt;dbl&gt; | IL13 &lt;dbl&gt; | IL1b &lt;dbl&gt; | IL2 &lt;dbl&gt; | IL4 &lt;dbl&gt; | IL6 &lt;dbl&gt; | TNFa &lt;dbl&gt; | ⋯ ⋯ | Eotaxin &lt;dbl&gt; | Eotaxin3 &lt;dbl&gt; | IL8 &lt;dbl&gt; | IP10 &lt;dbl&gt; | MCP10 &lt;dbl&gt; | MCP4 &lt;dbl&gt; | MDC &lt;dbl&gt; | MIP1a &lt;dbl&gt; | MIP1b &lt;dbl&gt; | TARC &lt;dbl&gt; |\n",
       "|---|---|---|---|---|---|---|---|---|---|---|---|---|---|---|---|---|---|---|---|---|---|\n",
       "| 1 | Ecig_39 |  5.3695611 | 2.9928536 | 1.6700162 | 48.36813 |  24.117761 |  5.2657189 | 0.42455866 | 13.075670 |  5.9501019 | ⋯ | 358.19662 |  1.164590 |  18547.74 | 8736.7132 | 112.48249 | 10.072081 |  31.69299 | 22.02667 |  46.80070 | 20.541303 |\n",
       "| 2 | Ecig_41 | 11.6128116 | 9.0600267 | 3.3710810 | 67.96322 | 167.431877 | 12.6837712 | 0.71329848 | 19.032378 | 11.3628057 | ⋯ | 267.15489 | 69.256817 | 109246.09 | 7708.0228 | 255.29369 | 13.009597 | 221.57141 | 52.67214 | 149.02215 | 24.715188 |\n",
       "| 3 | Ecig_44 |  4.1603189 | 2.0340947 | 1.5655687 | 50.77121 |   8.870868 |  2.4837514 | 0.49649954 |  9.266373 |  6.3306852 | ⋯ | 103.50569 |  8.724533 |  11221.13 | 7109.3784 | 147.73303 |  2.798361 | 167.32860 | 46.98751 | 101.25635 | 35.541708 |\n",
       "| 4 | Ecig_45 |  0.8881171 | 0.4310717 | 0.3063518 | 25.23906 |  40.477650 |  0.5200777 | 0.02914528 |  6.395885 |  1.9479068 | ⋯ | 298.85050 |  8.438962 |  14633.80 | 3045.9940 |  95.82647 | 21.200301 | 196.12405 | 32.89026 |  24.92311 | 19.708475 |\n",
       "| 5 | Ecig_47 |  1.4481966 | 0.4997130 | 0.8622316 | 36.81471 |  15.755858 |  0.7766565 | 0.08862797 |  5.244501 |  3.5847722 | ⋯ |  67.18448 |  5.487179 |  12078.16 |  997.9376 |  66.13370 |  7.189953 | 139.46181 | 16.70862 |  21.35656 |  9.885379 |\n",
       "| 6 | Ecig_48 |  0.8494440 | 0.4240552 | 0.2785117 | 14.51272 |   9.211680 |  0.2684367 | 0.14116411 |  2.476904 |  0.5468069 | ⋯ |  25.07486 |  2.151572 |   4880.69 |  246.9985 |  57.50348 |  3.359783 |  69.35689 |  9.56433 |  15.67118 |  9.302557 |\n",
       "\n"
      ],
      "text/plain": [
       "  Smoking_Status IFNg       IL10      IL12p70   IL13     IL1b       IL2       \n",
       "1 Ecig_39         5.3695611 2.9928536 1.6700162 48.36813  24.117761  5.2657189\n",
       "2 Ecig_41        11.6128116 9.0600267 3.3710810 67.96322 167.431877 12.6837712\n",
       "3 Ecig_44         4.1603189 2.0340947 1.5655687 50.77121   8.870868  2.4837514\n",
       "4 Ecig_45         0.8881171 0.4310717 0.3063518 25.23906  40.477650  0.5200777\n",
       "5 Ecig_47         1.4481966 0.4997130 0.8622316 36.81471  15.755858  0.7766565\n",
       "6 Ecig_48         0.8494440 0.4240552 0.2785117 14.51272   9.211680  0.2684367\n",
       "  IL4        IL6       TNFa       ⋯ Eotaxin   Eotaxin3  IL8       IP10     \n",
       "1 0.42455866 13.075670  5.9501019 ⋯ 358.19662  1.164590  18547.74 8736.7132\n",
       "2 0.71329848 19.032378 11.3628057 ⋯ 267.15489 69.256817 109246.09 7708.0228\n",
       "3 0.49649954  9.266373  6.3306852 ⋯ 103.50569  8.724533  11221.13 7109.3784\n",
       "4 0.02914528  6.395885  1.9479068 ⋯ 298.85050  8.438962  14633.80 3045.9940\n",
       "5 0.08862797  5.244501  3.5847722 ⋯  67.18448  5.487179  12078.16  997.9376\n",
       "6 0.14116411  2.476904  0.5468069 ⋯  25.07486  2.151572   4880.69  246.9985\n",
       "  MCP10     MCP4      MDC       MIP1a    MIP1b     TARC     \n",
       "1 112.48249 10.072081  31.69299 22.02667  46.80070 20.541303\n",
       "2 255.29369 13.009597 221.57141 52.67214 149.02215 24.715188\n",
       "3 147.73303  2.798361 167.32860 46.98751 101.25635 35.541708\n",
       "4  95.82647 21.200301 196.12405 32.89026  24.92311 19.708475\n",
       "5  66.13370  7.189953 139.46181 16.70862  21.35656  9.885379\n",
       "6  57.50348  3.359783  69.35689  9.56433  15.67118  9.302557"
      ]
     },
     "metadata": {},
     "output_type": "display_data"
    }
   ],
   "source": [
    "head(molecular_feature_df)"
   ]
  },
  {
   "cell_type": "code",
   "execution_count": 5,
   "id": "choice-easter",
   "metadata": {},
   "outputs": [
    {
     "data": {
      "text/html": [
       "<table class=\"dataframe\">\n",
       "<caption>A data.frame: 6 × 29</caption>\n",
       "<thead>\n",
       "\t<tr><th></th><th scope=col>Smoking_Status</th><th scope=col>IFNg</th><th scope=col>IL10</th><th scope=col>IL12p70</th><th scope=col>IL13</th><th scope=col>IL1b</th><th scope=col>IL2</th><th scope=col>IL4</th><th scope=col>IL6</th><th scope=col>TNFa</th><th scope=col>⋯</th><th scope=col>Eotaxin</th><th scope=col>Eotaxin3</th><th scope=col>IL8</th><th scope=col>IP10</th><th scope=col>MCP10</th><th scope=col>MCP4</th><th scope=col>MDC</th><th scope=col>MIP1a</th><th scope=col>MIP1b</th><th scope=col>TARC</th></tr>\n",
       "\t<tr><th></th><th scope=col>&lt;fct&gt;</th><th scope=col>&lt;dbl&gt;</th><th scope=col>&lt;dbl&gt;</th><th scope=col>&lt;dbl&gt;</th><th scope=col>&lt;dbl&gt;</th><th scope=col>&lt;dbl&gt;</th><th scope=col>&lt;dbl&gt;</th><th scope=col>&lt;dbl&gt;</th><th scope=col>&lt;dbl&gt;</th><th scope=col>&lt;dbl&gt;</th><th scope=col>⋯</th><th scope=col>&lt;dbl&gt;</th><th scope=col>&lt;dbl&gt;</th><th scope=col>&lt;dbl&gt;</th><th scope=col>&lt;dbl&gt;</th><th scope=col>&lt;dbl&gt;</th><th scope=col>&lt;dbl&gt;</th><th scope=col>&lt;dbl&gt;</th><th scope=col>&lt;dbl&gt;</th><th scope=col>&lt;dbl&gt;</th><th scope=col>&lt;dbl&gt;</th></tr>\n",
       "</thead>\n",
       "<tbody>\n",
       "\t<tr><th scope=row>1</th><td>1</td><td> 5.3695611</td><td>2.9928536</td><td>1.6700162</td><td>48.36813</td><td> 24.117761</td><td> 5.2657189</td><td>0.42455866</td><td>13.075670</td><td> 5.9501019</td><td>⋯</td><td>358.19662</td><td> 1.164590</td><td> 18547.74</td><td>8736.7132</td><td>112.48249</td><td>10.072081</td><td> 31.69299</td><td>22.02667</td><td> 46.80070</td><td>20.541303</td></tr>\n",
       "\t<tr><th scope=row>2</th><td>1</td><td>11.6128116</td><td>9.0600267</td><td>3.3710810</td><td>67.96322</td><td>167.431877</td><td>12.6837712</td><td>0.71329848</td><td>19.032378</td><td>11.3628057</td><td>⋯</td><td>267.15489</td><td>69.256817</td><td>109246.09</td><td>7708.0228</td><td>255.29369</td><td>13.009597</td><td>221.57141</td><td>52.67214</td><td>149.02215</td><td>24.715188</td></tr>\n",
       "\t<tr><th scope=row>3</th><td>1</td><td> 4.1603189</td><td>2.0340947</td><td>1.5655687</td><td>50.77121</td><td>  8.870868</td><td> 2.4837514</td><td>0.49649954</td><td> 9.266373</td><td> 6.3306852</td><td>⋯</td><td>103.50569</td><td> 8.724533</td><td> 11221.13</td><td>7109.3784</td><td>147.73303</td><td> 2.798361</td><td>167.32860</td><td>46.98751</td><td>101.25635</td><td>35.541708</td></tr>\n",
       "\t<tr><th scope=row>4</th><td>1</td><td> 0.8881171</td><td>0.4310717</td><td>0.3063518</td><td>25.23906</td><td> 40.477650</td><td> 0.5200777</td><td>0.02914528</td><td> 6.395885</td><td> 1.9479068</td><td>⋯</td><td>298.85050</td><td> 8.438962</td><td> 14633.80</td><td>3045.9940</td><td> 95.82647</td><td>21.200301</td><td>196.12405</td><td>32.89026</td><td> 24.92311</td><td>19.708475</td></tr>\n",
       "\t<tr><th scope=row>5</th><td>1</td><td> 1.4481966</td><td>0.4997130</td><td>0.8622316</td><td>36.81471</td><td> 15.755858</td><td> 0.7766565</td><td>0.08862797</td><td> 5.244501</td><td> 3.5847722</td><td>⋯</td><td> 67.18448</td><td> 5.487179</td><td> 12078.16</td><td> 997.9376</td><td> 66.13370</td><td> 7.189953</td><td>139.46181</td><td>16.70862</td><td> 21.35656</td><td> 9.885379</td></tr>\n",
       "\t<tr><th scope=row>6</th><td>1</td><td> 0.8494440</td><td>0.4240552</td><td>0.2785117</td><td>14.51272</td><td>  9.211680</td><td> 0.2684367</td><td>0.14116411</td><td> 2.476904</td><td> 0.5468069</td><td>⋯</td><td> 25.07486</td><td> 2.151572</td><td>  4880.69</td><td> 246.9985</td><td> 57.50348</td><td> 3.359783</td><td> 69.35689</td><td> 9.56433</td><td> 15.67118</td><td> 9.302557</td></tr>\n",
       "</tbody>\n",
       "</table>\n"
      ],
      "text/latex": [
       "A data.frame: 6 × 29\n",
       "\\begin{tabular}{r|lllllllllllllllllllll}\n",
       "  & Smoking\\_Status & IFNg & IL10 & IL12p70 & IL13 & IL1b & IL2 & IL4 & IL6 & TNFa & ⋯ & Eotaxin & Eotaxin3 & IL8 & IP10 & MCP10 & MCP4 & MDC & MIP1a & MIP1b & TARC\\\\\n",
       "  & <fct> & <dbl> & <dbl> & <dbl> & <dbl> & <dbl> & <dbl> & <dbl> & <dbl> & <dbl> & ⋯ & <dbl> & <dbl> & <dbl> & <dbl> & <dbl> & <dbl> & <dbl> & <dbl> & <dbl> & <dbl>\\\\\n",
       "\\hline\n",
       "\t1 & 1 &  5.3695611 & 2.9928536 & 1.6700162 & 48.36813 &  24.117761 &  5.2657189 & 0.42455866 & 13.075670 &  5.9501019 & ⋯ & 358.19662 &  1.164590 &  18547.74 & 8736.7132 & 112.48249 & 10.072081 &  31.69299 & 22.02667 &  46.80070 & 20.541303\\\\\n",
       "\t2 & 1 & 11.6128116 & 9.0600267 & 3.3710810 & 67.96322 & 167.431877 & 12.6837712 & 0.71329848 & 19.032378 & 11.3628057 & ⋯ & 267.15489 & 69.256817 & 109246.09 & 7708.0228 & 255.29369 & 13.009597 & 221.57141 & 52.67214 & 149.02215 & 24.715188\\\\\n",
       "\t3 & 1 &  4.1603189 & 2.0340947 & 1.5655687 & 50.77121 &   8.870868 &  2.4837514 & 0.49649954 &  9.266373 &  6.3306852 & ⋯ & 103.50569 &  8.724533 &  11221.13 & 7109.3784 & 147.73303 &  2.798361 & 167.32860 & 46.98751 & 101.25635 & 35.541708\\\\\n",
       "\t4 & 1 &  0.8881171 & 0.4310717 & 0.3063518 & 25.23906 &  40.477650 &  0.5200777 & 0.02914528 &  6.395885 &  1.9479068 & ⋯ & 298.85050 &  8.438962 &  14633.80 & 3045.9940 &  95.82647 & 21.200301 & 196.12405 & 32.89026 &  24.92311 & 19.708475\\\\\n",
       "\t5 & 1 &  1.4481966 & 0.4997130 & 0.8622316 & 36.81471 &  15.755858 &  0.7766565 & 0.08862797 &  5.244501 &  3.5847722 & ⋯ &  67.18448 &  5.487179 &  12078.16 &  997.9376 &  66.13370 &  7.189953 & 139.46181 & 16.70862 &  21.35656 &  9.885379\\\\\n",
       "\t6 & 1 &  0.8494440 & 0.4240552 & 0.2785117 & 14.51272 &   9.211680 &  0.2684367 & 0.14116411 &  2.476904 &  0.5468069 & ⋯ &  25.07486 &  2.151572 &   4880.69 &  246.9985 &  57.50348 &  3.359783 &  69.35689 &  9.56433 &  15.67118 &  9.302557\\\\\n",
       "\\end{tabular}\n"
      ],
      "text/markdown": [
       "\n",
       "A data.frame: 6 × 29\n",
       "\n",
       "| <!--/--> | Smoking_Status &lt;fct&gt; | IFNg &lt;dbl&gt; | IL10 &lt;dbl&gt; | IL12p70 &lt;dbl&gt; | IL13 &lt;dbl&gt; | IL1b &lt;dbl&gt; | IL2 &lt;dbl&gt; | IL4 &lt;dbl&gt; | IL6 &lt;dbl&gt; | TNFa &lt;dbl&gt; | ⋯ ⋯ | Eotaxin &lt;dbl&gt; | Eotaxin3 &lt;dbl&gt; | IL8 &lt;dbl&gt; | IP10 &lt;dbl&gt; | MCP10 &lt;dbl&gt; | MCP4 &lt;dbl&gt; | MDC &lt;dbl&gt; | MIP1a &lt;dbl&gt; | MIP1b &lt;dbl&gt; | TARC &lt;dbl&gt; |\n",
       "|---|---|---|---|---|---|---|---|---|---|---|---|---|---|---|---|---|---|---|---|---|---|\n",
       "| 1 | 1 |  5.3695611 | 2.9928536 | 1.6700162 | 48.36813 |  24.117761 |  5.2657189 | 0.42455866 | 13.075670 |  5.9501019 | ⋯ | 358.19662 |  1.164590 |  18547.74 | 8736.7132 | 112.48249 | 10.072081 |  31.69299 | 22.02667 |  46.80070 | 20.541303 |\n",
       "| 2 | 1 | 11.6128116 | 9.0600267 | 3.3710810 | 67.96322 | 167.431877 | 12.6837712 | 0.71329848 | 19.032378 | 11.3628057 | ⋯ | 267.15489 | 69.256817 | 109246.09 | 7708.0228 | 255.29369 | 13.009597 | 221.57141 | 52.67214 | 149.02215 | 24.715188 |\n",
       "| 3 | 1 |  4.1603189 | 2.0340947 | 1.5655687 | 50.77121 |   8.870868 |  2.4837514 | 0.49649954 |  9.266373 |  6.3306852 | ⋯ | 103.50569 |  8.724533 |  11221.13 | 7109.3784 | 147.73303 |  2.798361 | 167.32860 | 46.98751 | 101.25635 | 35.541708 |\n",
       "| 4 | 1 |  0.8881171 | 0.4310717 | 0.3063518 | 25.23906 |  40.477650 |  0.5200777 | 0.02914528 |  6.395885 |  1.9479068 | ⋯ | 298.85050 |  8.438962 |  14633.80 | 3045.9940 |  95.82647 | 21.200301 | 196.12405 | 32.89026 |  24.92311 | 19.708475 |\n",
       "| 5 | 1 |  1.4481966 | 0.4997130 | 0.8622316 | 36.81471 |  15.755858 |  0.7766565 | 0.08862797 |  5.244501 |  3.5847722 | ⋯ |  67.18448 |  5.487179 |  12078.16 |  997.9376 |  66.13370 |  7.189953 | 139.46181 | 16.70862 |  21.35656 |  9.885379 |\n",
       "| 6 | 1 |  0.8494440 | 0.4240552 | 0.2785117 | 14.51272 |   9.211680 |  0.2684367 | 0.14116411 |  2.476904 |  0.5468069 | ⋯ |  25.07486 |  2.151572 |   4880.69 |  246.9985 |  57.50348 |  3.359783 |  69.35689 |  9.56433 |  15.67118 |  9.302557 |\n",
       "\n"
      ],
      "text/plain": [
       "  Smoking_Status IFNg       IL10      IL12p70   IL13     IL1b       IL2       \n",
       "1 1               5.3695611 2.9928536 1.6700162 48.36813  24.117761  5.2657189\n",
       "2 1              11.6128116 9.0600267 3.3710810 67.96322 167.431877 12.6837712\n",
       "3 1               4.1603189 2.0340947 1.5655687 50.77121   8.870868  2.4837514\n",
       "4 1               0.8881171 0.4310717 0.3063518 25.23906  40.477650  0.5200777\n",
       "5 1               1.4481966 0.4997130 0.8622316 36.81471  15.755858  0.7766565\n",
       "6 1               0.8494440 0.4240552 0.2785117 14.51272   9.211680  0.2684367\n",
       "  IL4        IL6       TNFa       ⋯ Eotaxin   Eotaxin3  IL8       IP10     \n",
       "1 0.42455866 13.075670  5.9501019 ⋯ 358.19662  1.164590  18547.74 8736.7132\n",
       "2 0.71329848 19.032378 11.3628057 ⋯ 267.15489 69.256817 109246.09 7708.0228\n",
       "3 0.49649954  9.266373  6.3306852 ⋯ 103.50569  8.724533  11221.13 7109.3784\n",
       "4 0.02914528  6.395885  1.9479068 ⋯ 298.85050  8.438962  14633.80 3045.9940\n",
       "5 0.08862797  5.244501  3.5847722 ⋯  67.18448  5.487179  12078.16  997.9376\n",
       "6 0.14116411  2.476904  0.5468069 ⋯  25.07486  2.151572   4880.69  246.9985\n",
       "  MCP10     MCP4      MDC       MIP1a    MIP1b     TARC     \n",
       "1 112.48249 10.072081  31.69299 22.02667  46.80070 20.541303\n",
       "2 255.29369 13.009597 221.57141 52.67214 149.02215 24.715188\n",
       "3 147.73303  2.798361 167.32860 46.98751 101.25635 35.541708\n",
       "4  95.82647 21.200301 196.12405 32.89026  24.92311 19.708475\n",
       "5  66.13370  7.189953 139.46181 16.70862  21.35656  9.885379\n",
       "6  57.50348  3.359783  69.35689  9.56433  15.67118  9.302557"
      ]
     },
     "metadata": {},
     "output_type": "display_data"
    }
   ],
   "source": [
    "#first making smoking status column binary denoted by 0 = non smoker and 1 = ecig user\n",
    "#removing sample col which isn't necessary\n",
    "molecular_feature_df = molecular_feature_df %>% #[2:3052] %>%\n",
    "    #grepl is synonymous with \"contains\"\n",
    "    #necessary to put it into factor and relevel, so algorithm understands which data is considered baseline\n",
    "    mutate(Smoking_Status = relevel(factor(ifelse(grepl(\"Ecig\", Smoking_Status), 1, 0)), ref = \"0\"))\n",
    "\n",
    "head(molecular_feature_df)"
   ]
  },
  {
   "cell_type": "markdown",
   "id": "willing-vietnam",
   "metadata": {},
   "source": [
    "The goal of this analysis is to use molecular features [continuous] to predict smoking staus (dichotomous). This will be done using Support Vector Machine(SVM) based on a logistic regression model for classification. It was also chosen since SVM does a better job at handling a large number of predictors since p > n. \n",
    "\n",
    "# Support Vector Machine\n",
    "- supervised learning models that can predict continuous (regression) or grouped/dichotomous (classification) outcomes\n",
    "- predictors by projecting them onto a high dimensional space and uses kernels to make the data more separable (unfortunately makes interpretability of model results more difficult)"
   ]
  },
  {
   "cell_type": "code",
   "execution_count": 28,
   "id": "blessed-african",
   "metadata": {},
   "outputs": [
    {
     "name": "stderr",
     "output_type": "stream",
     "text": [
      "Setting levels: control = 0, case = 1\n",
      "\n",
      "Setting direction: controls > cases\n",
      "\n",
      "Setting levels: control = 0, case = 1\n",
      "\n",
      "Setting direction: controls < cases\n",
      "\n",
      "Setting levels: control = 0, case = 1\n",
      "\n",
      "Setting direction: controls < cases\n",
      "\n",
      "Setting levels: control = 0, case = 1\n",
      "\n",
      "Setting direction: controls > cases\n",
      "\n",
      "Setting levels: control = 0, case = 1\n",
      "\n",
      "Setting direction: controls < cases\n",
      "\n",
      "Setting levels: control = 0, case = 1\n",
      "\n",
      "Setting direction: controls < cases\n",
      "\n",
      "Setting levels: control = 0, case = 1\n",
      "\n",
      "Setting direction: controls < cases\n",
      "\n",
      "Setting levels: control = 0, case = 1\n",
      "\n",
      "Setting direction: controls < cases\n",
      "\n",
      "Setting levels: control = 0, case = 1\n",
      "\n",
      "Setting direction: controls < cases\n",
      "\n",
      "Setting levels: control = 0, case = 1\n",
      "\n",
      "Setting direction: controls > cases\n",
      "\n",
      "Setting levels: control = 0, case = 1\n",
      "\n",
      "Setting direction: controls < cases\n",
      "\n",
      "Setting levels: control = 0, case = 1\n",
      "\n",
      "Setting direction: controls < cases\n",
      "\n",
      "Setting levels: control = 0, case = 1\n",
      "\n",
      "Setting direction: controls < cases\n",
      "\n",
      "Setting levels: control = 0, case = 1\n",
      "\n",
      "Setting direction: controls < cases\n",
      "\n",
      "Setting levels: control = 0, case = 1\n",
      "\n",
      "Setting direction: controls < cases\n",
      "\n"
     ]
    }
   ],
   "source": [
    "#model errors are calculated to assess the predictive accuracy of the model\n",
    "svm_classification_model_errors = function(dataset, model, outcome, pred_outcome, gamma_values, cost_values, \n",
    "                                           elsilon_values){\n",
    "  \n",
    "    #setting seed for reproducibility\n",
    "    set.seed(12)\n",
    "    \n",
    "    #splitting data into training and testing sets\n",
    "    dataset_index = createFolds(dataset[[outcome]], k = 5) #5 fold CV\n",
    "    metrics = data.frame()\n",
    "    for (i in 1:length(dataset_index)){\n",
    "        data_train = dataset[-dataset_index[[i]],]\n",
    "        data_test = dataset[dataset_index[[i]],]\n",
    "\n",
    "        #now pruning parameters (based on the training dataset to prevent overfitting)\n",
    "        svr_tune <- tune(svm, as.formula(paste0(outcome, \"~.\")), data = data_train, kernel = model, \n",
    "                       ranges = list(elsilon = elsilon_values, cost = cost_values, gamma = gamma_values)) \n",
    "\n",
    "        #choosing best model\n",
    "        best_svm <- svr_tune$best.model\n",
    "\n",
    "        #predicting with tuned parameters \n",
    "        data_test[[pred_outcome]] <- predict(best_svm, newdata = data_test, type = \"response\")\n",
    "\n",
    "        matrix = confusionMatrix(data = data_test[[pred_outcome]], reference = data_test[[outcome]], \n",
    "                                 positive = \"1\")\n",
    " \n",
    "        #calculating AUC\n",
    "        auc = auc(response = data_test[[outcome]], predictor = factor(data_test[[pred_outcome]], ordered = TRUE))\n",
    "        #extracting accuracy, sens, spec, PPV to take mean later\n",
    "        matrix_values = data.frame(t(c(matrix$byClass[11])), t(c(matrix$byClass[1:3])), auc)\n",
    "        #print(matrix_values)\n",
    "   \n",
    "        #adding values to df\n",
    "        metrics = rbind(metrics, matrix_values)\n",
    "  }\n",
    "  \n",
    "  #taking averages/sd \n",
    "  metrics = metrics %>%\n",
    "    summarise(`Balanced Accuracy` = mean(Balanced.Accuracy), Sensitivity = mean(Sensitivity), \n",
    "              Specificity = mean(Specificity), PPV = mean(Pos.Pred.Value), AUC = mean(auc))\n",
    "  \n",
    "  return(metrics)\n",
    "}\n",
    "\n",
    "#calling fn\n",
    "#linear kernel\n",
    "svm_linear = svm_classification_model_errors(molecular_feature_df, \"linear\", \"Smoking_Status\", \"pred_Smoking_Status\",\n",
    "                                            0.035, 1:5, seq(0,1,0.2))\n",
    "#radial\n",
    "svm_radial = svm_classification_model_errors(molecular_feature_df, \"radial\", \"Smoking_Status\", \"pred_Smoking_Status\",\n",
    "                                             0.035, 1:5, seq(0,1,0.2))\n",
    "#polynomial\n",
    "#elison value is fixed at 0.1, but I left it so I didn't have to create a new function\n",
    "svm_polynomial = svm_classification_model_errors(molecular_feature_df, \"polynomial\", \"Smoking_Status\", \n",
    "                                             \"pred_Smoking_Status\", 0.035, 1:5, 0.1)"
   ]
  },
  {
   "cell_type": "code",
   "execution_count": 29,
   "id": "conservative-yacht",
   "metadata": {},
   "outputs": [
    {
     "data": {
      "text/html": [
       "<table class=\"dataframe\">\n",
       "<caption>A data.frame: 3 × 6</caption>\n",
       "<thead>\n",
       "\t<tr><th scope=col>Kernel</th><th scope=col>Balanced.Accuracy</th><th scope=col>Sensitivity</th><th scope=col>Specificity</th><th scope=col>PPV</th><th scope=col>AUC</th></tr>\n",
       "\t<tr><th scope=col>&lt;fct&gt;</th><th scope=col>&lt;dbl&gt;</th><th scope=col>&lt;dbl&gt;</th><th scope=col>&lt;dbl&gt;</th><th scope=col>&lt;dbl&gt;</th><th scope=col>&lt;dbl&gt;</th></tr>\n",
       "</thead>\n",
       "<tbody>\n",
       "\t<tr><td>linear    </td><td>0.4461905</td><td>0.4857143</td><td>0.4066667</td><td>0.455</td><td>0.6004762</td></tr>\n",
       "\t<tr><td>radial    </td><td>0.5252381</td><td>0.4904762</td><td>0.5600000</td><td>0.600</td><td>0.5919048</td></tr>\n",
       "\t<tr><td>polynomial</td><td>0.4528571</td><td>0.4523810</td><td>0.4533333</td><td>  NaN</td><td>0.4528571</td></tr>\n",
       "</tbody>\n",
       "</table>\n"
      ],
      "text/latex": [
       "A data.frame: 3 × 6\n",
       "\\begin{tabular}{llllll}\n",
       " Kernel & Balanced.Accuracy & Sensitivity & Specificity & PPV & AUC\\\\\n",
       " <fct> & <dbl> & <dbl> & <dbl> & <dbl> & <dbl>\\\\\n",
       "\\hline\n",
       "\t linear     & 0.4461905 & 0.4857143 & 0.4066667 & 0.455 & 0.6004762\\\\\n",
       "\t radial     & 0.5252381 & 0.4904762 & 0.5600000 & 0.600 & 0.5919048\\\\\n",
       "\t polynomial & 0.4528571 & 0.4523810 & 0.4533333 &   NaN & 0.4528571\\\\\n",
       "\\end{tabular}\n"
      ],
      "text/markdown": [
       "\n",
       "A data.frame: 3 × 6\n",
       "\n",
       "| Kernel &lt;fct&gt; | Balanced.Accuracy &lt;dbl&gt; | Sensitivity &lt;dbl&gt; | Specificity &lt;dbl&gt; | PPV &lt;dbl&gt; | AUC &lt;dbl&gt; |\n",
       "|---|---|---|---|---|---|\n",
       "| linear     | 0.4461905 | 0.4857143 | 0.4066667 | 0.455 | 0.6004762 |\n",
       "| radial     | 0.5252381 | 0.4904762 | 0.5600000 | 0.600 | 0.5919048 |\n",
       "| polynomial | 0.4528571 | 0.4523810 | 0.4533333 |   NaN | 0.4528571 |\n",
       "\n"
      ],
      "text/plain": [
       "  Kernel     Balanced.Accuracy Sensitivity Specificity PPV   AUC      \n",
       "1 linear     0.4461905         0.4857143   0.4066667   0.455 0.6004762\n",
       "2 radial     0.5252381         0.4904762   0.5600000   0.600 0.5919048\n",
       "3 polynomial 0.4528571         0.4523810   0.4533333     NaN 0.4528571"
      ]
     },
     "metadata": {},
     "output_type": "display_data"
    }
   ],
   "source": [
    "#creating one combined df\n",
    "final_df = data.frame(rbind(svm_linear, svm_radial, svm_polynomial))\n",
    "final_df = data.frame(Kernel = c(\"linear\", \"radial\", \"polynomial\"), final_df)\n",
    "final_df"
   ]
  },
  {
   "cell_type": "markdown",
   "id": "certain-answer",
   "metadata": {},
   "source": [
    "> The radial kernel performed the best overall. \n",
    "\n",
    "Determing if there are highly correlated variables that can be removed, because multicollinearity makes variables that should be significant appear insignificant."
   ]
  },
  {
   "cell_type": "code",
   "execution_count": 14,
   "id": "visible-catering",
   "metadata": {},
   "outputs": [
    {
     "name": "stderr",
     "output_type": "stream",
     "text": [
      "Using Variable1 as id variables\n",
      "\n"
     ]
    },
    {
     "data": {
      "text/html": [
       "<table class=\"dataframe\">\n",
       "<caption>A data.frame: 6 × 3</caption>\n",
       "<thead>\n",
       "\t<tr><th></th><th scope=col>Variable1</th><th scope=col>Variable2</th><th scope=col>Spearman Coefficient</th></tr>\n",
       "\t<tr><th></th><th scope=col>&lt;chr&gt;</th><th scope=col>&lt;fct&gt;</th><th scope=col>&lt;dbl&gt;</th></tr>\n",
       "</thead>\n",
       "<tbody>\n",
       "\t<tr><th scope=row>1</th><td>IL2    </td><td>IL10   </td><td>0.9729682</td></tr>\n",
       "\t<tr><th scope=row>2</th><td>TNFa   </td><td>IL13   </td><td>0.9715371</td></tr>\n",
       "\t<tr><th scope=row>3</th><td>IL2    </td><td>IFNg   </td><td>0.9636903</td></tr>\n",
       "\t<tr><th scope=row>4</th><td>IL12p70</td><td>IFNg   </td><td>0.9484512</td></tr>\n",
       "\t<tr><th scope=row>5</th><td>IL10   </td><td>IFNg   </td><td>0.9451336</td></tr>\n",
       "\t<tr><th scope=row>6</th><td>IL2    </td><td>IL12p70</td><td>0.9435556</td></tr>\n",
       "</tbody>\n",
       "</table>\n"
      ],
      "text/latex": [
       "A data.frame: 6 × 3\n",
       "\\begin{tabular}{r|lll}\n",
       "  & Variable1 & Variable2 & Spearman Coefficient\\\\\n",
       "  & <chr> & <fct> & <dbl>\\\\\n",
       "\\hline\n",
       "\t1 & IL2     & IL10    & 0.9729682\\\\\n",
       "\t2 & TNFa    & IL13    & 0.9715371\\\\\n",
       "\t3 & IL2     & IFNg    & 0.9636903\\\\\n",
       "\t4 & IL12p70 & IFNg    & 0.9484512\\\\\n",
       "\t5 & IL10    & IFNg    & 0.9451336\\\\\n",
       "\t6 & IL2     & IL12p70 & 0.9435556\\\\\n",
       "\\end{tabular}\n"
      ],
      "text/markdown": [
       "\n",
       "A data.frame: 6 × 3\n",
       "\n",
       "| <!--/--> | Variable1 &lt;chr&gt; | Variable2 &lt;fct&gt; | Spearman Coefficient &lt;dbl&gt; |\n",
       "|---|---|---|---|\n",
       "| 1 | IL2     | IL10    | 0.9729682 |\n",
       "| 2 | TNFa    | IL13    | 0.9715371 |\n",
       "| 3 | IL2     | IFNg    | 0.9636903 |\n",
       "| 4 | IL12p70 | IFNg    | 0.9484512 |\n",
       "| 5 | IL10    | IFNg    | 0.9451336 |\n",
       "| 6 | IL2     | IL12p70 | 0.9435556 |\n",
       "\n"
      ],
      "text/plain": [
       "  Variable1 Variable2 Spearman Coefficient\n",
       "1 IL2       IL10      0.9729682           \n",
       "2 TNFa      IL13      0.9715371           \n",
       "3 IL2       IFNg      0.9636903           \n",
       "4 IL12p70   IFNg      0.9484512           \n",
       "5 IL10      IFNg      0.9451336           \n",
       "6 IL2       IL12p70   0.9435556           "
      ]
     },
     "metadata": {},
     "output_type": "display_data"
    }
   ],
   "source": [
    "#creating correlation matrix\n",
    "#the cut off can be arbitrary, but due to the high number of correlations, 0.85 became the cutoff\n",
    "corr_matrix = rcorr(as.matrix(molecular_feature_df[2:29]), type = \"spearman\")\n",
    "#corr_matrix = rcorr(as.matrix(molecular_feature_df[2:3051]), type = \"spearman\")\n",
    "#creating df where I can easily view coefficents that are highly correlated (rho > 0.7 or rho < -0.7)\n",
    "corr_matrix_df = data.frame(corr_matrix$r) %>%\n",
    "  rownames_to_column(var = \"Variable1\") %>%\n",
    "  #needed to specificy package of melt for it to work\n",
    "  reshape2::melt(variable = \"Variable2\", value.name = \"Spearman Coefficient\") %>%\n",
    "  #also removed values = 1, because those were correlations between the same variable\n",
    "  filter(abs(`Spearman Coefficient`) < 1 & abs(`Spearman Coefficient`) > 0.7) %>%\n",
    "  arrange(desc(`Spearman Coefficient`)) %>%\n",
    "  #removing duplicate spearman coefficient values and keeping all columns\n",
    "  distinct(`Spearman Coefficient`, .keep_all = TRUE) \n",
    "\n",
    "head(corr_matrix_df)"
   ]
  },
  {
   "cell_type": "code",
   "execution_count": 15,
   "id": "immediate-anaheim",
   "metadata": {
    "scrolled": true
   },
   "outputs": [],
   "source": [
    "#determining how many times each feature occurs\n",
    "correlation_occurences1 = corr_matrix_df %>%\n",
    "    group_by(Variable1) %>%\n",
    "    count() %>%\n",
    "    arrange(-n) %>%\n",
    "    filter(n > 20)\n",
    "\n",
    "#correlation_occurences1\n",
    "\n",
    "correlation_occurences2 = corr_matrix_df %>%\n",
    "    group_by(Variable2) %>%\n",
    "    count() %>%\n",
    "    arrange(-n) %>%\n",
    "    filter(n > 20)\n",
    "\n",
    "#correlation_occurences2\n",
    "\n",
    "all_corr_occurences = unique(c(correlation_occurences1$Variable1, as.character(correlation_occurences2$Variable2)))"
   ]
  },
  {
   "cell_type": "code",
   "execution_count": 16,
   "id": "affiliated-generation",
   "metadata": {},
   "outputs": [
    {
     "data": {
      "text/html": [],
      "text/latex": [],
      "text/markdown": [],
      "text/plain": [
       "character(0)"
      ]
     },
     "metadata": {},
     "output_type": "display_data"
    }
   ],
   "source": [
    "all_corr_occurences"
   ]
  },
  {
   "cell_type": "code",
   "execution_count": 26,
   "id": "premium-burns",
   "metadata": {},
   "outputs": [],
   "source": [
    "#removing molecular features (MF) that correlate most often\n",
    "`%notin%` <- Negate(`%in%`)\n",
    "penalized_dataset = molecular_feature_df[,colnames(molecular_feature_df) %notin% all_corr_occurences]"
   ]
  },
  {
   "cell_type": "code",
   "execution_count": 27,
   "id": "union-partition",
   "metadata": {},
   "outputs": [
    {
     "data": {
      "text/html": [
       "<table class=\"dataframe\">\n",
       "<caption>A data.frame: 3 × 5</caption>\n",
       "<thead>\n",
       "\t<tr><th scope=col>Kernel</th><th scope=col>Sensitivity.CV.Error</th><th scope=col>Specificity.CV.Error</th><th scope=col>Sensitivity.Std.Error</th><th scope=col>Specificity.Std.Error</th></tr>\n",
       "\t<tr><th scope=col>&lt;fct&gt;</th><th scope=col>&lt;dbl&gt;</th><th scope=col>&lt;dbl&gt;</th><th scope=col>&lt;dbl&gt;</th><th scope=col>&lt;dbl&gt;</th></tr>\n",
       "</thead>\n",
       "<tbody>\n",
       "\t<tr><td>linear    </td><td>0.6809524</td><td>0.6400000</td><td>0.2100103</td><td>0.3443190</td></tr>\n",
       "\t<tr><td>radial    </td><td>1.0000000</td><td>0.0000000</td><td>0.0000000</td><td>0.0000000</td></tr>\n",
       "\t<tr><td>polynomial</td><td>0.8428571</td><td>0.3066667</td><td>0.1557660</td><td>0.3003701</td></tr>\n",
       "</tbody>\n",
       "</table>\n"
      ],
      "text/latex": [
       "A data.frame: 3 × 5\n",
       "\\begin{tabular}{lllll}\n",
       " Kernel & Sensitivity.CV.Error & Specificity.CV.Error & Sensitivity.Std.Error & Specificity.Std.Error\\\\\n",
       " <fct> & <dbl> & <dbl> & <dbl> & <dbl>\\\\\n",
       "\\hline\n",
       "\t linear     & 0.6809524 & 0.6400000 & 0.2100103 & 0.3443190\\\\\n",
       "\t radial     & 1.0000000 & 0.0000000 & 0.0000000 & 0.0000000\\\\\n",
       "\t polynomial & 0.8428571 & 0.3066667 & 0.1557660 & 0.3003701\\\\\n",
       "\\end{tabular}\n"
      ],
      "text/markdown": [
       "\n",
       "A data.frame: 3 × 5\n",
       "\n",
       "| Kernel &lt;fct&gt; | Sensitivity.CV.Error &lt;dbl&gt; | Specificity.CV.Error &lt;dbl&gt; | Sensitivity.Std.Error &lt;dbl&gt; | Specificity.Std.Error &lt;dbl&gt; |\n",
       "|---|---|---|---|---|\n",
       "| linear     | 0.6809524 | 0.6400000 | 0.2100103 | 0.3443190 |\n",
       "| radial     | 1.0000000 | 0.0000000 | 0.0000000 | 0.0000000 |\n",
       "| polynomial | 0.8428571 | 0.3066667 | 0.1557660 | 0.3003701 |\n",
       "\n"
      ],
      "text/plain": [
       "  Kernel     Sensitivity.CV.Error Specificity.CV.Error Sensitivity.Std.Error\n",
       "1 linear     0.6809524            0.6400000            0.2100103            \n",
       "2 radial     1.0000000            0.0000000            0.0000000            \n",
       "3 polynomial 0.8428571            0.3066667            0.1557660            \n",
       "  Specificity.Std.Error\n",
       "1 0.3443190            \n",
       "2 0.0000000            \n",
       "3 0.3003701            "
      ]
     },
     "metadata": {},
     "output_type": "display_data"
    }
   ],
   "source": [
    "#calling fn\n",
    "#linear kernel\n",
    "svm_linear = svm_classification_model_errors(penalized_dataset, \"linear\", \"Smoking_Status\", \"pred_Smoking_Status\",\n",
    "                                             0.035, 1:5, seq(0,1,0.2))\n",
    "#radial\n",
    "svm_radial = svm_classification_model_errors(penalized_dataset, \"radial\", \"Smoking_Status\", \"pred_Smoking_Status\",\n",
    "                                             0.035, 1:5, seq(0,1,0.2))\n",
    "#polynomial\n",
    "#elison value is fixed at 0.1, but I left it so I didn't have to create a new function\n",
    "svm_polynomial = svm_classification_model_errors(penalized_dataset, \"polynomial\", \"Smoking_Status\", \n",
    "                                             \"pred_Smoking_Status\", 0.035, 1:5, 0.1)\n",
    "\n",
    "\n",
    "#creating one combined df\n",
    "penalized_final_df = data.frame(rbind(svm_linear, svm_radial, svm_polynomial))\n",
    "penalized_final_df = data.frame(Kernel = c(\"linear\", \"radial\", \"polynomial\"), penalized_final_df[,1:4])\n",
    "penalized_final_df"
   ]
  },
  {
   "cell_type": "code",
   "execution_count": 28,
   "id": "established-pledge",
   "metadata": {},
   "outputs": [
    {
     "data": {
      "text/html": [
       "<table class=\"dataframe\">\n",
       "<caption>A data.frame: 3 × 5</caption>\n",
       "<thead>\n",
       "\t<tr><th scope=col>Kernel</th><th scope=col>Sensitivity.CV.Error</th><th scope=col>Specificity.CV.Error</th><th scope=col>Sensitivity.Std.Error</th><th scope=col>Specificity.Std.Error</th></tr>\n",
       "\t<tr><th scope=col>&lt;fct&gt;</th><th scope=col>&lt;dbl&gt;</th><th scope=col>&lt;dbl&gt;</th><th scope=col>&lt;dbl&gt;</th><th scope=col>&lt;dbl&gt;</th></tr>\n",
       "</thead>\n",
       "<tbody>\n",
       "\t<tr><td>linear    </td><td>0.6809524</td><td>0.6400000</td><td>0.2100103</td><td>0.3443190</td></tr>\n",
       "\t<tr><td>radial    </td><td>1.0000000</td><td>0.0000000</td><td>0.0000000</td><td>0.0000000</td></tr>\n",
       "\t<tr><td>polynomial</td><td>0.8714286</td><td>0.2333333</td><td>0.1384233</td><td>0.2211083</td></tr>\n",
       "</tbody>\n",
       "</table>\n"
      ],
      "text/latex": [
       "A data.frame: 3 × 5\n",
       "\\begin{tabular}{lllll}\n",
       " Kernel & Sensitivity.CV.Error & Specificity.CV.Error & Sensitivity.Std.Error & Specificity.Std.Error\\\\\n",
       " <fct> & <dbl> & <dbl> & <dbl> & <dbl>\\\\\n",
       "\\hline\n",
       "\t linear     & 0.6809524 & 0.6400000 & 0.2100103 & 0.3443190\\\\\n",
       "\t radial     & 1.0000000 & 0.0000000 & 0.0000000 & 0.0000000\\\\\n",
       "\t polynomial & 0.8714286 & 0.2333333 & 0.1384233 & 0.2211083\\\\\n",
       "\\end{tabular}\n"
      ],
      "text/markdown": [
       "\n",
       "A data.frame: 3 × 5\n",
       "\n",
       "| Kernel &lt;fct&gt; | Sensitivity.CV.Error &lt;dbl&gt; | Specificity.CV.Error &lt;dbl&gt; | Sensitivity.Std.Error &lt;dbl&gt; | Specificity.Std.Error &lt;dbl&gt; |\n",
       "|---|---|---|---|---|\n",
       "| linear     | 0.6809524 | 0.6400000 | 0.2100103 | 0.3443190 |\n",
       "| radial     | 1.0000000 | 0.0000000 | 0.0000000 | 0.0000000 |\n",
       "| polynomial | 0.8714286 | 0.2333333 | 0.1384233 | 0.2211083 |\n",
       "\n"
      ],
      "text/plain": [
       "  Kernel     Sensitivity.CV.Error Specificity.CV.Error Sensitivity.Std.Error\n",
       "1 linear     0.6809524            0.6400000            0.2100103            \n",
       "2 radial     1.0000000            0.0000000            0.0000000            \n",
       "3 polynomial 0.8714286            0.2333333            0.1384233            \n",
       "  Specificity.Std.Error\n",
       "1 0.3443190            \n",
       "2 0.0000000            \n",
       "3 0.2211083            "
      ]
     },
     "metadata": {},
     "output_type": "display_data"
    },
    {
     "data": {
      "text/html": [
       "<table class=\"dataframe\">\n",
       "<caption>A data.frame: 3 × 5</caption>\n",
       "<thead>\n",
       "\t<tr><th scope=col>Kernel</th><th scope=col>Sensitivity.CV.Error</th><th scope=col>Specificity.CV.Error</th><th scope=col>Sensitivity.Std.Error</th><th scope=col>Specificity.Std.Error</th></tr>\n",
       "\t<tr><th scope=col>&lt;fct&gt;</th><th scope=col>&lt;dbl&gt;</th><th scope=col>&lt;dbl&gt;</th><th scope=col>&lt;dbl&gt;</th><th scope=col>&lt;dbl&gt;</th></tr>\n",
       "</thead>\n",
       "<tbody>\n",
       "\t<tr><td>linear    </td><td>0.6809524</td><td>0.6400000</td><td>0.2100103</td><td>0.3443190</td></tr>\n",
       "\t<tr><td>radial    </td><td>1.0000000</td><td>0.0000000</td><td>0.0000000</td><td>0.0000000</td></tr>\n",
       "\t<tr><td>polynomial</td><td>0.8428571</td><td>0.3066667</td><td>0.1557660</td><td>0.3003701</td></tr>\n",
       "</tbody>\n",
       "</table>\n"
      ],
      "text/latex": [
       "A data.frame: 3 × 5\n",
       "\\begin{tabular}{lllll}\n",
       " Kernel & Sensitivity.CV.Error & Specificity.CV.Error & Sensitivity.Std.Error & Specificity.Std.Error\\\\\n",
       " <fct> & <dbl> & <dbl> & <dbl> & <dbl>\\\\\n",
       "\\hline\n",
       "\t linear     & 0.6809524 & 0.6400000 & 0.2100103 & 0.3443190\\\\\n",
       "\t radial     & 1.0000000 & 0.0000000 & 0.0000000 & 0.0000000\\\\\n",
       "\t polynomial & 0.8428571 & 0.3066667 & 0.1557660 & 0.3003701\\\\\n",
       "\\end{tabular}\n"
      ],
      "text/markdown": [
       "\n",
       "A data.frame: 3 × 5\n",
       "\n",
       "| Kernel &lt;fct&gt; | Sensitivity.CV.Error &lt;dbl&gt; | Specificity.CV.Error &lt;dbl&gt; | Sensitivity.Std.Error &lt;dbl&gt; | Specificity.Std.Error &lt;dbl&gt; |\n",
       "|---|---|---|---|---|\n",
       "| linear     | 0.6809524 | 0.6400000 | 0.2100103 | 0.3443190 |\n",
       "| radial     | 1.0000000 | 0.0000000 | 0.0000000 | 0.0000000 |\n",
       "| polynomial | 0.8428571 | 0.3066667 | 0.1557660 | 0.3003701 |\n",
       "\n"
      ],
      "text/plain": [
       "  Kernel     Sensitivity.CV.Error Specificity.CV.Error Sensitivity.Std.Error\n",
       "1 linear     0.6809524            0.6400000            0.2100103            \n",
       "2 radial     1.0000000            0.0000000            0.0000000            \n",
       "3 polynomial 0.8428571            0.3066667            0.1557660            \n",
       "  Specificity.Std.Error\n",
       "1 0.3443190            \n",
       "2 0.0000000            \n",
       "3 0.3003701            "
      ]
     },
     "metadata": {},
     "output_type": "display_data"
    }
   ],
   "source": [
    "final_df\n",
    "penalized_final_df"
   ]
  },
  {
   "cell_type": "code",
   "execution_count": null,
   "id": "tender-maryland",
   "metadata": {},
   "outputs": [],
   "source": []
  }
 ],
 "metadata": {
  "kernelspec": {
   "display_name": "R",
   "language": "R",
   "name": "ir"
  },
  "language_info": {
   "codemirror_mode": "r",
   "file_extension": ".r",
   "mimetype": "text/x-r-source",
   "name": "R",
   "pygments_lexer": "r",
   "version": "3.6.3"
  }
 },
 "nbformat": 4,
 "nbformat_minor": 5
}
