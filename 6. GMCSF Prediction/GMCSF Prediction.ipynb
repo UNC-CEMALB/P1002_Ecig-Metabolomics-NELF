{
 "cells": [
  {
   "cell_type": "code",
   "execution_count": 1,
   "id": "02d29836",
   "metadata": {},
   "outputs": [
    {
     "name": "stderr",
     "output_type": "stream",
     "text": [
      "── \u001b[1mAttaching packages\u001b[22m ─────────────────────────────────────── tidyverse 1.3.1 ──\n",
      "\n",
      "\u001b[32m✔\u001b[39m \u001b[34mggplot2\u001b[39m 3.3.5     \u001b[32m✔\u001b[39m \u001b[34mpurrr  \u001b[39m 0.3.4\n",
      "\u001b[32m✔\u001b[39m \u001b[34mtibble \u001b[39m 3.1.6     \u001b[32m✔\u001b[39m \u001b[34mdplyr  \u001b[39m 1.0.8\n",
      "\u001b[32m✔\u001b[39m \u001b[34mtidyr  \u001b[39m 1.2.0     \u001b[32m✔\u001b[39m \u001b[34mstringr\u001b[39m 1.4.0\n",
      "\u001b[32m✔\u001b[39m \u001b[34mreadr  \u001b[39m 2.1.2     \u001b[32m✔\u001b[39m \u001b[34mforcats\u001b[39m 0.5.1\n",
      "\n",
      "── \u001b[1mConflicts\u001b[22m ────────────────────────────────────────── tidyverse_conflicts() ──\n",
      "\u001b[31m✖\u001b[39m \u001b[34mdplyr\u001b[39m::\u001b[32mfilter()\u001b[39m masks \u001b[34mstats\u001b[39m::filter()\n",
      "\u001b[31m✖\u001b[39m \u001b[34mdplyr\u001b[39m::\u001b[32mlag()\u001b[39m    masks \u001b[34mstats\u001b[39m::lag()\n",
      "\n",
      "Loading required package: lattice\n",
      "\n",
      "\n",
      "Attaching package: ‘caret’\n",
      "\n",
      "\n",
      "The following object is masked from ‘package:purrr’:\n",
      "\n",
      "    lift\n",
      "\n",
      "\n",
      "Loading required package: survival\n",
      "\n",
      "\n",
      "Attaching package: ‘survival’\n",
      "\n",
      "\n",
      "The following object is masked from ‘package:caret’:\n",
      "\n",
      "    cluster\n",
      "\n",
      "\n",
      "Loading required package: Formula\n",
      "\n",
      "\n",
      "Attaching package: ‘Hmisc’\n",
      "\n",
      "\n",
      "The following object is masked from ‘package:e1071’:\n",
      "\n",
      "    impute\n",
      "\n",
      "\n",
      "The following objects are masked from ‘package:dplyr’:\n",
      "\n",
      "    src, summarize\n",
      "\n",
      "\n",
      "The following objects are masked from ‘package:base’:\n",
      "\n",
      "    format.pval, units\n",
      "\n",
      "\n",
      "Loading required package: Matrix\n",
      "\n",
      "\n",
      "Attaching package: ‘Matrix’\n",
      "\n",
      "\n",
      "The following objects are masked from ‘package:tidyr’:\n",
      "\n",
      "    expand, pack, unpack\n",
      "\n",
      "\n",
      "Loaded glmnet 4.1-3\n",
      "\n",
      "Type 'citation(\"pROC\")' for a citation.\n",
      "\n",
      "\n",
      "Attaching package: ‘pROC’\n",
      "\n",
      "\n",
      "The following objects are masked from ‘package:stats’:\n",
      "\n",
      "    cov, smooth, var\n",
      "\n",
      "\n",
      "randomForest 4.7-1\n",
      "\n",
      "Type rfNews() to see new features/changes/bug fixes.\n",
      "\n",
      "\n",
      "Attaching package: ‘randomForest’\n",
      "\n",
      "\n",
      "The following object is masked from ‘package:dplyr’:\n",
      "\n",
      "    combine\n",
      "\n",
      "\n",
      "The following object is masked from ‘package:ggplot2’:\n",
      "\n",
      "    margin\n",
      "\n",
      "\n",
      "\u001b[1mRows: \u001b[22m\u001b[34m59\u001b[39m \u001b[1mColumns: \u001b[22m\u001b[34m3873\u001b[39m\n",
      "\u001b[36m──\u001b[39m \u001b[1mColumn specification\u001b[22m \u001b[36m────────────────────────────────────────────────────────\u001b[39m\n",
      "\u001b[1mDelimiter:\u001b[22m \",\"\n",
      "\u001b[31mchr\u001b[39m    (1): sample\n",
      "\u001b[32mdbl\u001b[39m (3872): MF_2, MF_3, MF_4, MF_5, MF_6, MF_7, MF_11, MF_12, MF_13, MF_14, ...\n",
      "\n",
      "\u001b[36mℹ\u001b[39m Use `spec()` to retrieve the full column specification for this data.\n",
      "\u001b[36mℹ\u001b[39m Specify the column types or set `show_col_types = FALSE` to quiet this message.\n",
      "New names:\n",
      "* `` -> ...1\n",
      "\n",
      "\u001b[1mRows: \u001b[22m\u001b[34m59\u001b[39m \u001b[1mColumns: \u001b[22m\u001b[34m30\u001b[39m\n",
      "\u001b[36m──\u001b[39m \u001b[1mColumn specification\u001b[22m \u001b[36m────────────────────────────────────────────────────────\u001b[39m\n",
      "\u001b[1mDelimiter:\u001b[22m \",\"\n",
      "\u001b[31mchr\u001b[39m  (1): ...1\n",
      "\u001b[32mdbl\u001b[39m (29): IFNg, IL10, IL12p70, IL13, IL1b, IL2, IL4, IL6, TNFa, GMCSF, IL12p...\n",
      "\n",
      "\u001b[36mℹ\u001b[39m Use `spec()` to retrieve the full column specification for this data.\n",
      "\u001b[36mℹ\u001b[39m Specify the column types or set `show_col_types = FALSE` to quiet this message.\n"
     ]
    }
   ],
   "source": [
    "setwd('/Users/alexis/Library/CloudStorage/OneDrive-UniversityofNorthCarolinaatChapelHill/CEMALB_DataAnalysisPM/Projects/P1002. Ecig Metabolomics NELF/P1002.3. Analyses/P1002.3.5. GMCSF Responder Prediction/Input')\n",
    "Output = ('/Users/alexis/Library/CloudStorage/OneDrive-UniversityofNorthCarolinaatChapelHill/CEMALB_DataAnalysisPM/Projects/P1002. Ecig Metabolomics NELF/P1002.3. Analyses/P1002.3.5. GMCSF Responder Prediction/Output')\n",
    "cur_date = \"050522\"\n",
    "\n",
    "library(readxl)\n",
    "library(tidyverse)\n",
    "library(caret)\n",
    "library(e1071)\n",
    "library(Hmisc)\n",
    "library(glmnet)\n",
    "library(pROC)\n",
    "library(randomForest)\n",
    "\n",
    "#reading in files\n",
    "molecular_feature_df = read_csv(\"20220217_mf_qrilc_w40.csv\") %>%\n",
    "     rename(Smoking_Status = sample)\n",
    "cytokine_df = read_csv(\"021422_imputed_cytokine_data_w_Ecig40.csv\") %>%\n",
    "     rename(Smoking_Status = `...1`)\n",
    "demographics_data = data.frame(read_excel(\"SubjectInfo_022822.xlsx\", sheet = 2))"
   ]
  },
  {
   "cell_type": "code",
   "execution_count": 2,
   "id": "0f870b80",
   "metadata": {},
   "outputs": [
    {
     "data": {
      "text/html": [
       "<table class=\"dataframe\">\n",
       "<caption>A tibble: 6 × 3873</caption>\n",
       "<thead>\n",
       "\t<tr><th scope=col>Smoking_Status</th><th scope=col>MF_2</th><th scope=col>MF_3</th><th scope=col>MF_4</th><th scope=col>MF_5</th><th scope=col>MF_6</th><th scope=col>MF_7</th><th scope=col>MF_11</th><th scope=col>MF_12</th><th scope=col>MF_13</th><th scope=col>⋯</th><th scope=col>MF_62853</th><th scope=col>MF_63431</th><th scope=col>MF_63701</th><th scope=col>MF_64025</th><th scope=col>MF_64936</th><th scope=col>MF_65532</th><th scope=col>MF_68286</th><th scope=col>MF_73340</th><th scope=col>MF_77165</th><th scope=col>MF_78976</th></tr>\n",
       "\t<tr><th scope=col>&lt;chr&gt;</th><th scope=col>&lt;dbl&gt;</th><th scope=col>&lt;dbl&gt;</th><th scope=col>&lt;dbl&gt;</th><th scope=col>&lt;dbl&gt;</th><th scope=col>&lt;dbl&gt;</th><th scope=col>&lt;dbl&gt;</th><th scope=col>&lt;dbl&gt;</th><th scope=col>&lt;dbl&gt;</th><th scope=col>&lt;dbl&gt;</th><th scope=col>⋯</th><th scope=col>&lt;dbl&gt;</th><th scope=col>&lt;dbl&gt;</th><th scope=col>&lt;dbl&gt;</th><th scope=col>&lt;dbl&gt;</th><th scope=col>&lt;dbl&gt;</th><th scope=col>&lt;dbl&gt;</th><th scope=col>&lt;dbl&gt;</th><th scope=col>&lt;dbl&gt;</th><th scope=col>&lt;dbl&gt;</th><th scope=col>&lt;dbl&gt;</th></tr>\n",
       "</thead>\n",
       "<tbody>\n",
       "\t<tr><td>NS_070</td><td>19.86186</td><td>17.86943</td><td>19.21394</td><td>18.02809</td><td>17.46636</td><td>18.34174</td><td>18.41799</td><td>19.31361</td><td>19.46777</td><td>⋯</td><td>19.06974</td><td>19.10260</td><td>17.17255</td><td>16.92465</td><td>17.09794</td><td>19.06203</td><td>19.13556</td><td>16.93182</td><td>17.55702</td><td>17.05593</td></tr>\n",
       "\t<tr><td>NS_110</td><td>21.08622</td><td>22.58769</td><td>21.05378</td><td>17.93584</td><td>17.33098</td><td>20.41479</td><td>20.37485</td><td>21.12876</td><td>21.01488</td><td>⋯</td><td>18.02560</td><td>17.82667</td><td>19.37426</td><td>16.23450</td><td>19.06421</td><td>18.06379</td><td>19.39103</td><td>16.72112</td><td>19.27343</td><td>19.30881</td></tr>\n",
       "\t<tr><td>NS_143</td><td>13.12099</td><td>14.44659</td><td>13.46827</td><td>16.51009</td><td>14.93820</td><td>15.66299</td><td>15.72731</td><td>13.78698</td><td>15.18975</td><td>⋯</td><td>19.14095</td><td>19.02411</td><td>19.56175</td><td>17.17120</td><td>16.97302</td><td>19.49121</td><td>17.09470</td><td>15.56214</td><td>19.55038</td><td>19.54912</td></tr>\n",
       "\t<tr><td>NS_152</td><td>21.60361</td><td>23.22761</td><td>21.99010</td><td>16.22547</td><td>17.59020</td><td>21.53908</td><td>21.14531</td><td>22.07857</td><td>21.97502</td><td>⋯</td><td>19.28751</td><td>19.54886</td><td>16.78848</td><td>16.46750</td><td>19.47635</td><td>19.44477</td><td>16.99617</td><td>16.09531</td><td>19.28810</td><td>19.32788</td></tr>\n",
       "\t<tr><td>NS_187</td><td>19.43885</td><td>17.93876</td><td>19.68977</td><td>16.73360</td><td>17.88844</td><td>17.81758</td><td>17.64979</td><td>19.64269</td><td>19.32233</td><td>⋯</td><td>16.70042</td><td>17.85969</td><td>18.97406</td><td>18.18813</td><td>18.50336</td><td>19.19085</td><td>19.41757</td><td>16.88993</td><td>19.35678</td><td>18.95550</td></tr>\n",
       "\t<tr><td>NS_196</td><td>22.53459</td><td>24.36662</td><td>22.77595</td><td>16.69956</td><td>16.38411</td><td>22.55912</td><td>17.30008</td><td>22.80146</td><td>22.09338</td><td>⋯</td><td>16.86999</td><td>15.82637</td><td>19.46467</td><td>16.97149</td><td>17.46699</td><td>16.32598</td><td>15.62938</td><td>17.37207</td><td>15.84334</td><td>17.82000</td></tr>\n",
       "</tbody>\n",
       "</table>\n"
      ],
      "text/latex": [
       "A tibble: 6 × 3873\n",
       "\\begin{tabular}{lllllllllllllllllllll}\n",
       " Smoking\\_Status & MF\\_2 & MF\\_3 & MF\\_4 & MF\\_5 & MF\\_6 & MF\\_7 & MF\\_11 & MF\\_12 & MF\\_13 & ⋯ & MF\\_62853 & MF\\_63431 & MF\\_63701 & MF\\_64025 & MF\\_64936 & MF\\_65532 & MF\\_68286 & MF\\_73340 & MF\\_77165 & MF\\_78976\\\\\n",
       " <chr> & <dbl> & <dbl> & <dbl> & <dbl> & <dbl> & <dbl> & <dbl> & <dbl> & <dbl> & ⋯ & <dbl> & <dbl> & <dbl> & <dbl> & <dbl> & <dbl> & <dbl> & <dbl> & <dbl> & <dbl>\\\\\n",
       "\\hline\n",
       "\t NS\\_070 & 19.86186 & 17.86943 & 19.21394 & 18.02809 & 17.46636 & 18.34174 & 18.41799 & 19.31361 & 19.46777 & ⋯ & 19.06974 & 19.10260 & 17.17255 & 16.92465 & 17.09794 & 19.06203 & 19.13556 & 16.93182 & 17.55702 & 17.05593\\\\\n",
       "\t NS\\_110 & 21.08622 & 22.58769 & 21.05378 & 17.93584 & 17.33098 & 20.41479 & 20.37485 & 21.12876 & 21.01488 & ⋯ & 18.02560 & 17.82667 & 19.37426 & 16.23450 & 19.06421 & 18.06379 & 19.39103 & 16.72112 & 19.27343 & 19.30881\\\\\n",
       "\t NS\\_143 & 13.12099 & 14.44659 & 13.46827 & 16.51009 & 14.93820 & 15.66299 & 15.72731 & 13.78698 & 15.18975 & ⋯ & 19.14095 & 19.02411 & 19.56175 & 17.17120 & 16.97302 & 19.49121 & 17.09470 & 15.56214 & 19.55038 & 19.54912\\\\\n",
       "\t NS\\_152 & 21.60361 & 23.22761 & 21.99010 & 16.22547 & 17.59020 & 21.53908 & 21.14531 & 22.07857 & 21.97502 & ⋯ & 19.28751 & 19.54886 & 16.78848 & 16.46750 & 19.47635 & 19.44477 & 16.99617 & 16.09531 & 19.28810 & 19.32788\\\\\n",
       "\t NS\\_187 & 19.43885 & 17.93876 & 19.68977 & 16.73360 & 17.88844 & 17.81758 & 17.64979 & 19.64269 & 19.32233 & ⋯ & 16.70042 & 17.85969 & 18.97406 & 18.18813 & 18.50336 & 19.19085 & 19.41757 & 16.88993 & 19.35678 & 18.95550\\\\\n",
       "\t NS\\_196 & 22.53459 & 24.36662 & 22.77595 & 16.69956 & 16.38411 & 22.55912 & 17.30008 & 22.80146 & 22.09338 & ⋯ & 16.86999 & 15.82637 & 19.46467 & 16.97149 & 17.46699 & 16.32598 & 15.62938 & 17.37207 & 15.84334 & 17.82000\\\\\n",
       "\\end{tabular}\n"
      ],
      "text/markdown": [
       "\n",
       "A tibble: 6 × 3873\n",
       "\n",
       "| Smoking_Status &lt;chr&gt; | MF_2 &lt;dbl&gt; | MF_3 &lt;dbl&gt; | MF_4 &lt;dbl&gt; | MF_5 &lt;dbl&gt; | MF_6 &lt;dbl&gt; | MF_7 &lt;dbl&gt; | MF_11 &lt;dbl&gt; | MF_12 &lt;dbl&gt; | MF_13 &lt;dbl&gt; | ⋯ ⋯ | MF_62853 &lt;dbl&gt; | MF_63431 &lt;dbl&gt; | MF_63701 &lt;dbl&gt; | MF_64025 &lt;dbl&gt; | MF_64936 &lt;dbl&gt; | MF_65532 &lt;dbl&gt; | MF_68286 &lt;dbl&gt; | MF_73340 &lt;dbl&gt; | MF_77165 &lt;dbl&gt; | MF_78976 &lt;dbl&gt; |\n",
       "|---|---|---|---|---|---|---|---|---|---|---|---|---|---|---|---|---|---|---|---|---|\n",
       "| NS_070 | 19.86186 | 17.86943 | 19.21394 | 18.02809 | 17.46636 | 18.34174 | 18.41799 | 19.31361 | 19.46777 | ⋯ | 19.06974 | 19.10260 | 17.17255 | 16.92465 | 17.09794 | 19.06203 | 19.13556 | 16.93182 | 17.55702 | 17.05593 |\n",
       "| NS_110 | 21.08622 | 22.58769 | 21.05378 | 17.93584 | 17.33098 | 20.41479 | 20.37485 | 21.12876 | 21.01488 | ⋯ | 18.02560 | 17.82667 | 19.37426 | 16.23450 | 19.06421 | 18.06379 | 19.39103 | 16.72112 | 19.27343 | 19.30881 |\n",
       "| NS_143 | 13.12099 | 14.44659 | 13.46827 | 16.51009 | 14.93820 | 15.66299 | 15.72731 | 13.78698 | 15.18975 | ⋯ | 19.14095 | 19.02411 | 19.56175 | 17.17120 | 16.97302 | 19.49121 | 17.09470 | 15.56214 | 19.55038 | 19.54912 |\n",
       "| NS_152 | 21.60361 | 23.22761 | 21.99010 | 16.22547 | 17.59020 | 21.53908 | 21.14531 | 22.07857 | 21.97502 | ⋯ | 19.28751 | 19.54886 | 16.78848 | 16.46750 | 19.47635 | 19.44477 | 16.99617 | 16.09531 | 19.28810 | 19.32788 |\n",
       "| NS_187 | 19.43885 | 17.93876 | 19.68977 | 16.73360 | 17.88844 | 17.81758 | 17.64979 | 19.64269 | 19.32233 | ⋯ | 16.70042 | 17.85969 | 18.97406 | 18.18813 | 18.50336 | 19.19085 | 19.41757 | 16.88993 | 19.35678 | 18.95550 |\n",
       "| NS_196 | 22.53459 | 24.36662 | 22.77595 | 16.69956 | 16.38411 | 22.55912 | 17.30008 | 22.80146 | 22.09338 | ⋯ | 16.86999 | 15.82637 | 19.46467 | 16.97149 | 17.46699 | 16.32598 | 15.62938 | 17.37207 | 15.84334 | 17.82000 |\n",
       "\n"
      ],
      "text/plain": [
       "  Smoking_Status MF_2     MF_3     MF_4     MF_5     MF_6     MF_7     MF_11   \n",
       "1 NS_070         19.86186 17.86943 19.21394 18.02809 17.46636 18.34174 18.41799\n",
       "2 NS_110         21.08622 22.58769 21.05378 17.93584 17.33098 20.41479 20.37485\n",
       "3 NS_143         13.12099 14.44659 13.46827 16.51009 14.93820 15.66299 15.72731\n",
       "4 NS_152         21.60361 23.22761 21.99010 16.22547 17.59020 21.53908 21.14531\n",
       "5 NS_187         19.43885 17.93876 19.68977 16.73360 17.88844 17.81758 17.64979\n",
       "6 NS_196         22.53459 24.36662 22.77595 16.69956 16.38411 22.55912 17.30008\n",
       "  MF_12    MF_13    ⋯ MF_62853 MF_63431 MF_63701 MF_64025 MF_64936 MF_65532\n",
       "1 19.31361 19.46777 ⋯ 19.06974 19.10260 17.17255 16.92465 17.09794 19.06203\n",
       "2 21.12876 21.01488 ⋯ 18.02560 17.82667 19.37426 16.23450 19.06421 18.06379\n",
       "3 13.78698 15.18975 ⋯ 19.14095 19.02411 19.56175 17.17120 16.97302 19.49121\n",
       "4 22.07857 21.97502 ⋯ 19.28751 19.54886 16.78848 16.46750 19.47635 19.44477\n",
       "5 19.64269 19.32233 ⋯ 16.70042 17.85969 18.97406 18.18813 18.50336 19.19085\n",
       "6 22.80146 22.09338 ⋯ 16.86999 15.82637 19.46467 16.97149 17.46699 16.32598\n",
       "  MF_68286 MF_73340 MF_77165 MF_78976\n",
       "1 19.13556 16.93182 17.55702 17.05593\n",
       "2 19.39103 16.72112 19.27343 19.30881\n",
       "3 17.09470 15.56214 19.55038 19.54912\n",
       "4 16.99617 16.09531 19.28810 19.32788\n",
       "5 19.41757 16.88993 19.35678 18.95550\n",
       "6 15.62938 17.37207 15.84334 17.82000"
      ]
     },
     "metadata": {},
     "output_type": "display_data"
    },
    {
     "data": {
      "text/html": [
       "<table class=\"dataframe\">\n",
       "<caption>A tibble: 6 × 30</caption>\n",
       "<thead>\n",
       "\t<tr><th scope=col>Smoking_Status</th><th scope=col>IFNg</th><th scope=col>IL10</th><th scope=col>IL12p70</th><th scope=col>IL13</th><th scope=col>IL1b</th><th scope=col>IL2</th><th scope=col>IL4</th><th scope=col>IL6</th><th scope=col>TNFa</th><th scope=col>⋯</th><th scope=col>Eotaxin</th><th scope=col>Eotaxin3</th><th scope=col>IL8</th><th scope=col>IP10</th><th scope=col>MCP10</th><th scope=col>MCP4</th><th scope=col>MDC</th><th scope=col>MIP1a</th><th scope=col>MIP1b</th><th scope=col>TARC</th></tr>\n",
       "\t<tr><th scope=col>&lt;chr&gt;</th><th scope=col>&lt;dbl&gt;</th><th scope=col>&lt;dbl&gt;</th><th scope=col>&lt;dbl&gt;</th><th scope=col>&lt;dbl&gt;</th><th scope=col>&lt;dbl&gt;</th><th scope=col>&lt;dbl&gt;</th><th scope=col>&lt;dbl&gt;</th><th scope=col>&lt;dbl&gt;</th><th scope=col>&lt;dbl&gt;</th><th scope=col>⋯</th><th scope=col>&lt;dbl&gt;</th><th scope=col>&lt;dbl&gt;</th><th scope=col>&lt;dbl&gt;</th><th scope=col>&lt;dbl&gt;</th><th scope=col>&lt;dbl&gt;</th><th scope=col>&lt;dbl&gt;</th><th scope=col>&lt;dbl&gt;</th><th scope=col>&lt;dbl&gt;</th><th scope=col>&lt;dbl&gt;</th><th scope=col>&lt;dbl&gt;</th></tr>\n",
       "</thead>\n",
       "<tbody>\n",
       "\t<tr><td>Ecig_39</td><td> 5.3695611</td><td>2.9928536</td><td>1.6700162</td><td>48.36813</td><td> 24.117761</td><td> 5.2657189</td><td>0.42455866</td><td>13.075670</td><td> 5.9501019</td><td>⋯</td><td>358.19662</td><td> 0.06183719</td><td> 18547.74</td><td>8736.7132</td><td>112.48249</td><td>10.072081</td><td> 31.69299</td><td>22.02667</td><td> 46.80070</td><td>20.541303</td></tr>\n",
       "\t<tr><td>Ecig_41</td><td>11.6128116</td><td>9.0600267</td><td>3.3710810</td><td>67.96322</td><td>167.431877</td><td>12.6837712</td><td>0.71329848</td><td>19.032378</td><td>11.3628057</td><td>⋯</td><td>267.15489</td><td>69.25681747</td><td>109246.09</td><td>7708.0228</td><td>255.29369</td><td>13.009597</td><td>221.57141</td><td>52.67214</td><td>149.02215</td><td>24.715188</td></tr>\n",
       "\t<tr><td>Ecig_44</td><td> 4.1603189</td><td>2.0340947</td><td>1.5655687</td><td>50.77121</td><td>  8.870868</td><td> 2.4837514</td><td>0.49649954</td><td> 9.266373</td><td> 6.3306852</td><td>⋯</td><td>103.50569</td><td> 8.72453305</td><td> 11221.13</td><td>7109.3784</td><td>147.73303</td><td> 1.090400</td><td>167.32860</td><td>46.98751</td><td>101.25635</td><td>35.541708</td></tr>\n",
       "\t<tr><td>Ecig_45</td><td> 0.8881171</td><td>0.4310717</td><td>0.3063518</td><td>25.23906</td><td> 40.477650</td><td> 0.5200777</td><td>0.02914528</td><td> 6.395885</td><td> 1.9479068</td><td>⋯</td><td>298.85050</td><td> 8.43896238</td><td> 14633.80</td><td>3045.9940</td><td> 95.82647</td><td>21.200301</td><td>196.12405</td><td>32.89026</td><td> 24.92311</td><td>19.708475</td></tr>\n",
       "\t<tr><td>Ecig_47</td><td> 1.4481966</td><td>0.4997130</td><td>0.8622316</td><td>36.81471</td><td> 15.755858</td><td> 0.7766565</td><td>0.08862797</td><td> 5.244501</td><td> 3.5847722</td><td>⋯</td><td> 67.18448</td><td> 5.48717948</td><td> 12078.16</td><td> 997.9376</td><td> 66.13370</td><td> 7.189953</td><td>139.46181</td><td>16.70862</td><td> 21.35656</td><td> 9.885379</td></tr>\n",
       "\t<tr><td>Ecig_48</td><td> 0.8494440</td><td>0.4240552</td><td>0.2785117</td><td>14.51272</td><td>  9.211680</td><td> 0.2684367</td><td>0.14116411</td><td> 2.476904</td><td> 0.5468069</td><td>⋯</td><td> 25.07486</td><td> 2.15157171</td><td>  4880.69</td><td> 246.9985</td><td> 57.50348</td><td> 3.359783</td><td> 69.35689</td><td> 9.56433</td><td> 15.67118</td><td> 9.302557</td></tr>\n",
       "</tbody>\n",
       "</table>\n"
      ],
      "text/latex": [
       "A tibble: 6 × 30\n",
       "\\begin{tabular}{lllllllllllllllllllll}\n",
       " Smoking\\_Status & IFNg & IL10 & IL12p70 & IL13 & IL1b & IL2 & IL4 & IL6 & TNFa & ⋯ & Eotaxin & Eotaxin3 & IL8 & IP10 & MCP10 & MCP4 & MDC & MIP1a & MIP1b & TARC\\\\\n",
       " <chr> & <dbl> & <dbl> & <dbl> & <dbl> & <dbl> & <dbl> & <dbl> & <dbl> & <dbl> & ⋯ & <dbl> & <dbl> & <dbl> & <dbl> & <dbl> & <dbl> & <dbl> & <dbl> & <dbl> & <dbl>\\\\\n",
       "\\hline\n",
       "\t Ecig\\_39 &  5.3695611 & 2.9928536 & 1.6700162 & 48.36813 &  24.117761 &  5.2657189 & 0.42455866 & 13.075670 &  5.9501019 & ⋯ & 358.19662 &  0.06183719 &  18547.74 & 8736.7132 & 112.48249 & 10.072081 &  31.69299 & 22.02667 &  46.80070 & 20.541303\\\\\n",
       "\t Ecig\\_41 & 11.6128116 & 9.0600267 & 3.3710810 & 67.96322 & 167.431877 & 12.6837712 & 0.71329848 & 19.032378 & 11.3628057 & ⋯ & 267.15489 & 69.25681747 & 109246.09 & 7708.0228 & 255.29369 & 13.009597 & 221.57141 & 52.67214 & 149.02215 & 24.715188\\\\\n",
       "\t Ecig\\_44 &  4.1603189 & 2.0340947 & 1.5655687 & 50.77121 &   8.870868 &  2.4837514 & 0.49649954 &  9.266373 &  6.3306852 & ⋯ & 103.50569 &  8.72453305 &  11221.13 & 7109.3784 & 147.73303 &  1.090400 & 167.32860 & 46.98751 & 101.25635 & 35.541708\\\\\n",
       "\t Ecig\\_45 &  0.8881171 & 0.4310717 & 0.3063518 & 25.23906 &  40.477650 &  0.5200777 & 0.02914528 &  6.395885 &  1.9479068 & ⋯ & 298.85050 &  8.43896238 &  14633.80 & 3045.9940 &  95.82647 & 21.200301 & 196.12405 & 32.89026 &  24.92311 & 19.708475\\\\\n",
       "\t Ecig\\_47 &  1.4481966 & 0.4997130 & 0.8622316 & 36.81471 &  15.755858 &  0.7766565 & 0.08862797 &  5.244501 &  3.5847722 & ⋯ &  67.18448 &  5.48717948 &  12078.16 &  997.9376 &  66.13370 &  7.189953 & 139.46181 & 16.70862 &  21.35656 &  9.885379\\\\\n",
       "\t Ecig\\_48 &  0.8494440 & 0.4240552 & 0.2785117 & 14.51272 &   9.211680 &  0.2684367 & 0.14116411 &  2.476904 &  0.5468069 & ⋯ &  25.07486 &  2.15157171 &   4880.69 &  246.9985 &  57.50348 &  3.359783 &  69.35689 &  9.56433 &  15.67118 &  9.302557\\\\\n",
       "\\end{tabular}\n"
      ],
      "text/markdown": [
       "\n",
       "A tibble: 6 × 30\n",
       "\n",
       "| Smoking_Status &lt;chr&gt; | IFNg &lt;dbl&gt; | IL10 &lt;dbl&gt; | IL12p70 &lt;dbl&gt; | IL13 &lt;dbl&gt; | IL1b &lt;dbl&gt; | IL2 &lt;dbl&gt; | IL4 &lt;dbl&gt; | IL6 &lt;dbl&gt; | TNFa &lt;dbl&gt; | ⋯ ⋯ | Eotaxin &lt;dbl&gt; | Eotaxin3 &lt;dbl&gt; | IL8 &lt;dbl&gt; | IP10 &lt;dbl&gt; | MCP10 &lt;dbl&gt; | MCP4 &lt;dbl&gt; | MDC &lt;dbl&gt; | MIP1a &lt;dbl&gt; | MIP1b &lt;dbl&gt; | TARC &lt;dbl&gt; |\n",
       "|---|---|---|---|---|---|---|---|---|---|---|---|---|---|---|---|---|---|---|---|---|\n",
       "| Ecig_39 |  5.3695611 | 2.9928536 | 1.6700162 | 48.36813 |  24.117761 |  5.2657189 | 0.42455866 | 13.075670 |  5.9501019 | ⋯ | 358.19662 |  0.06183719 |  18547.74 | 8736.7132 | 112.48249 | 10.072081 |  31.69299 | 22.02667 |  46.80070 | 20.541303 |\n",
       "| Ecig_41 | 11.6128116 | 9.0600267 | 3.3710810 | 67.96322 | 167.431877 | 12.6837712 | 0.71329848 | 19.032378 | 11.3628057 | ⋯ | 267.15489 | 69.25681747 | 109246.09 | 7708.0228 | 255.29369 | 13.009597 | 221.57141 | 52.67214 | 149.02215 | 24.715188 |\n",
       "| Ecig_44 |  4.1603189 | 2.0340947 | 1.5655687 | 50.77121 |   8.870868 |  2.4837514 | 0.49649954 |  9.266373 |  6.3306852 | ⋯ | 103.50569 |  8.72453305 |  11221.13 | 7109.3784 | 147.73303 |  1.090400 | 167.32860 | 46.98751 | 101.25635 | 35.541708 |\n",
       "| Ecig_45 |  0.8881171 | 0.4310717 | 0.3063518 | 25.23906 |  40.477650 |  0.5200777 | 0.02914528 |  6.395885 |  1.9479068 | ⋯ | 298.85050 |  8.43896238 |  14633.80 | 3045.9940 |  95.82647 | 21.200301 | 196.12405 | 32.89026 |  24.92311 | 19.708475 |\n",
       "| Ecig_47 |  1.4481966 | 0.4997130 | 0.8622316 | 36.81471 |  15.755858 |  0.7766565 | 0.08862797 |  5.244501 |  3.5847722 | ⋯ |  67.18448 |  5.48717948 |  12078.16 |  997.9376 |  66.13370 |  7.189953 | 139.46181 | 16.70862 |  21.35656 |  9.885379 |\n",
       "| Ecig_48 |  0.8494440 | 0.4240552 | 0.2785117 | 14.51272 |   9.211680 |  0.2684367 | 0.14116411 |  2.476904 |  0.5468069 | ⋯ |  25.07486 |  2.15157171 |   4880.69 |  246.9985 |  57.50348 |  3.359783 |  69.35689 |  9.56433 |  15.67118 |  9.302557 |\n",
       "\n"
      ],
      "text/plain": [
       "  Smoking_Status IFNg       IL10      IL12p70   IL13     IL1b       IL2       \n",
       "1 Ecig_39         5.3695611 2.9928536 1.6700162 48.36813  24.117761  5.2657189\n",
       "2 Ecig_41        11.6128116 9.0600267 3.3710810 67.96322 167.431877 12.6837712\n",
       "3 Ecig_44         4.1603189 2.0340947 1.5655687 50.77121   8.870868  2.4837514\n",
       "4 Ecig_45         0.8881171 0.4310717 0.3063518 25.23906  40.477650  0.5200777\n",
       "5 Ecig_47         1.4481966 0.4997130 0.8622316 36.81471  15.755858  0.7766565\n",
       "6 Ecig_48         0.8494440 0.4240552 0.2785117 14.51272   9.211680  0.2684367\n",
       "  IL4        IL6       TNFa       ⋯ Eotaxin   Eotaxin3    IL8       IP10     \n",
       "1 0.42455866 13.075670  5.9501019 ⋯ 358.19662  0.06183719  18547.74 8736.7132\n",
       "2 0.71329848 19.032378 11.3628057 ⋯ 267.15489 69.25681747 109246.09 7708.0228\n",
       "3 0.49649954  9.266373  6.3306852 ⋯ 103.50569  8.72453305  11221.13 7109.3784\n",
       "4 0.02914528  6.395885  1.9479068 ⋯ 298.85050  8.43896238  14633.80 3045.9940\n",
       "5 0.08862797  5.244501  3.5847722 ⋯  67.18448  5.48717948  12078.16  997.9376\n",
       "6 0.14116411  2.476904  0.5468069 ⋯  25.07486  2.15157171   4880.69  246.9985\n",
       "  MCP10     MCP4      MDC       MIP1a    MIP1b     TARC     \n",
       "1 112.48249 10.072081  31.69299 22.02667  46.80070 20.541303\n",
       "2 255.29369 13.009597 221.57141 52.67214 149.02215 24.715188\n",
       "3 147.73303  1.090400 167.32860 46.98751 101.25635 35.541708\n",
       "4  95.82647 21.200301 196.12405 32.89026  24.92311 19.708475\n",
       "5  66.13370  7.189953 139.46181 16.70862  21.35656  9.885379\n",
       "6  57.50348  3.359783  69.35689  9.56433  15.67118  9.302557"
      ]
     },
     "metadata": {},
     "output_type": "display_data"
    }
   ],
   "source": [
    "head(molecular_feature_df)\n",
    "head(cytokine_df)"
   ]
  },
  {
   "cell_type": "code",
   "execution_count": 3,
   "id": "361c5bc7",
   "metadata": {},
   "outputs": [
    {
     "data": {
      "text/html": [
       "<table class=\"dataframe\">\n",
       "<caption>A data.frame: 6 × 2</caption>\n",
       "<thead>\n",
       "\t<tr><th></th><th scope=col>Smoking_Status</th><th scope=col>Sex</th></tr>\n",
       "\t<tr><th></th><th scope=col>&lt;chr&gt;</th><th scope=col>&lt;fct&gt;</th></tr>\n",
       "</thead>\n",
       "<tbody>\n",
       "\t<tr><th scope=row>1</th><td>Ecig_214</td><td>0</td></tr>\n",
       "\t<tr><th scope=row>2</th><td>Ecig_221</td><td>1</td></tr>\n",
       "\t<tr><th scope=row>3</th><td>Ecig_222</td><td>0</td></tr>\n",
       "\t<tr><th scope=row>4</th><td>Ecig_223</td><td>0</td></tr>\n",
       "\t<tr><th scope=row>5</th><td>Ecig_229</td><td>0</td></tr>\n",
       "\t<tr><th scope=row>6</th><td>Ecig_230</td><td>0</td></tr>\n",
       "</tbody>\n",
       "</table>\n"
      ],
      "text/latex": [
       "A data.frame: 6 × 2\n",
       "\\begin{tabular}{r|ll}\n",
       "  & Smoking\\_Status & Sex\\\\\n",
       "  & <chr> & <fct>\\\\\n",
       "\\hline\n",
       "\t1 & Ecig\\_214 & 0\\\\\n",
       "\t2 & Ecig\\_221 & 1\\\\\n",
       "\t3 & Ecig\\_222 & 0\\\\\n",
       "\t4 & Ecig\\_223 & 0\\\\\n",
       "\t5 & Ecig\\_229 & 0\\\\\n",
       "\t6 & Ecig\\_230 & 0\\\\\n",
       "\\end{tabular}\n"
      ],
      "text/markdown": [
       "\n",
       "A data.frame: 6 × 2\n",
       "\n",
       "| <!--/--> | Smoking_Status &lt;chr&gt; | Sex &lt;fct&gt; |\n",
       "|---|---|---|\n",
       "| 1 | Ecig_214 | 0 |\n",
       "| 2 | Ecig_221 | 1 |\n",
       "| 3 | Ecig_222 | 0 |\n",
       "| 4 | Ecig_223 | 0 |\n",
       "| 5 | Ecig_229 | 0 |\n",
       "| 6 | Ecig_230 | 0 |\n",
       "\n"
      ],
      "text/plain": [
       "  Smoking_Status Sex\n",
       "1 Ecig_214       0  \n",
       "2 Ecig_221       1  \n",
       "3 Ecig_222       0  \n",
       "4 Ecig_223       0  \n",
       "5 Ecig_229       0  \n",
       "6 Ecig_230       0  "
      ]
     },
     "metadata": {},
     "output_type": "display_data"
    }
   ],
   "source": [
    "# trimming down demographics df\n",
    "demographics_data = demographics_data %>%\n",
    "    select(c(\"SubjectID\", \"Sex\")) %>%\n",
    "    rename(Smoking_Status = SubjectID) %>%\n",
    "    #necessary to put it into factor and relevel, so algorithm understands which data is considered baseline\n",
    "    mutate(Sex = relevel(factor(ifelse(Sex == \"M\", 1, 0)), ref = \"0\"))\n",
    "\n",
    "head(demographics_data)"
   ]
  },
  {
   "cell_type": "code",
   "execution_count": 4,
   "id": "5fa0f1c0",
   "metadata": {},
   "outputs": [
    {
     "name": "stderr",
     "output_type": "stream",
     "text": [
      "\u001b[1m\u001b[22mJoining, by = \"Smoking_Status\"\n",
      "\u001b[1m\u001b[22mJoining, by = \"Smoking_Status\"\n",
      "\u001b[1m\u001b[22mJoining, by = \"Smoking_Status\"\n"
     ]
    },
    {
     "data": {
      "text/html": [
       "<table class=\"dataframe\">\n",
       "<caption>A tibble: 6 × 3873</caption>\n",
       "<thead>\n",
       "\t<tr><th scope=col>MF_2</th><th scope=col>MF_3</th><th scope=col>MF_4</th><th scope=col>MF_5</th><th scope=col>MF_6</th><th scope=col>MF_7</th><th scope=col>MF_11</th><th scope=col>MF_12</th><th scope=col>MF_13</th><th scope=col>MF_14</th><th scope=col>⋯</th><th scope=col>MF_63431</th><th scope=col>MF_63701</th><th scope=col>MF_64025</th><th scope=col>MF_64936</th><th scope=col>MF_65532</th><th scope=col>MF_68286</th><th scope=col>MF_73340</th><th scope=col>MF_77165</th><th scope=col>MF_78976</th><th scope=col>GMCSF</th></tr>\n",
       "\t<tr><th scope=col>&lt;dbl&gt;</th><th scope=col>&lt;dbl&gt;</th><th scope=col>&lt;dbl&gt;</th><th scope=col>&lt;dbl&gt;</th><th scope=col>&lt;dbl&gt;</th><th scope=col>&lt;dbl&gt;</th><th scope=col>&lt;dbl&gt;</th><th scope=col>&lt;dbl&gt;</th><th scope=col>&lt;dbl&gt;</th><th scope=col>&lt;dbl&gt;</th><th scope=col>⋯</th><th scope=col>&lt;dbl&gt;</th><th scope=col>&lt;dbl&gt;</th><th scope=col>&lt;dbl&gt;</th><th scope=col>&lt;dbl&gt;</th><th scope=col>&lt;dbl&gt;</th><th scope=col>&lt;dbl&gt;</th><th scope=col>&lt;dbl&gt;</th><th scope=col>&lt;dbl&gt;</th><th scope=col>&lt;dbl&gt;</th><th scope=col>&lt;dbl&gt;</th></tr>\n",
       "</thead>\n",
       "<tbody>\n",
       "\t<tr><td>19.86186</td><td>17.86943</td><td>19.21394</td><td>18.02809</td><td>17.46636</td><td>18.34174</td><td>18.41799</td><td>19.31361</td><td>19.46777</td><td>20.80616</td><td>⋯</td><td>19.10260</td><td>17.17255</td><td>16.92465</td><td>17.09794</td><td>19.06203</td><td>19.13556</td><td>16.93182</td><td>17.55702</td><td>17.05593</td><td>0.74883419</td></tr>\n",
       "\t<tr><td>21.08622</td><td>22.58769</td><td>21.05378</td><td>17.93584</td><td>17.33098</td><td>20.41479</td><td>20.37485</td><td>21.12876</td><td>21.01488</td><td>19.71124</td><td>⋯</td><td>17.82667</td><td>19.37426</td><td>16.23450</td><td>19.06421</td><td>18.06379</td><td>19.39103</td><td>16.72112</td><td>19.27343</td><td>19.30881</td><td>0.52203974</td></tr>\n",
       "\t<tr><td>13.12099</td><td>14.44659</td><td>13.46827</td><td>16.51009</td><td>14.93820</td><td>15.66299</td><td>15.72731</td><td>13.78698</td><td>15.18975</td><td>18.19551</td><td>⋯</td><td>19.02411</td><td>19.56175</td><td>17.17120</td><td>16.97302</td><td>19.49121</td><td>17.09470</td><td>15.56214</td><td>19.55038</td><td>19.54912</td><td>0.71837615</td></tr>\n",
       "\t<tr><td>21.60361</td><td>23.22761</td><td>21.99010</td><td>16.22547</td><td>17.59020</td><td>21.53908</td><td>21.14531</td><td>22.07857</td><td>21.97502</td><td>17.30567</td><td>⋯</td><td>19.54886</td><td>16.78848</td><td>16.46750</td><td>19.47635</td><td>19.44477</td><td>16.99617</td><td>16.09531</td><td>19.28810</td><td>19.32788</td><td>0.04230443</td></tr>\n",
       "\t<tr><td>19.43885</td><td>17.93876</td><td>19.68977</td><td>16.73360</td><td>17.88844</td><td>17.81758</td><td>17.64979</td><td>19.64269</td><td>19.32233</td><td>21.33752</td><td>⋯</td><td>17.85969</td><td>18.97406</td><td>18.18813</td><td>18.50336</td><td>19.19085</td><td>19.41757</td><td>16.88993</td><td>19.35678</td><td>18.95550</td><td>0.04038862</td></tr>\n",
       "\t<tr><td>22.53459</td><td>24.36662</td><td>22.77595</td><td>16.69956</td><td>16.38411</td><td>22.55912</td><td>17.30008</td><td>22.80146</td><td>22.09338</td><td>19.51343</td><td>⋯</td><td>15.82637</td><td>19.46467</td><td>16.97149</td><td>17.46699</td><td>16.32598</td><td>15.62938</td><td>17.37207</td><td>15.84334</td><td>17.82000</td><td>0.13681913</td></tr>\n",
       "</tbody>\n",
       "</table>\n"
      ],
      "text/latex": [
       "A tibble: 6 × 3873\n",
       "\\begin{tabular}{lllllllllllllllllllll}\n",
       " MF\\_2 & MF\\_3 & MF\\_4 & MF\\_5 & MF\\_6 & MF\\_7 & MF\\_11 & MF\\_12 & MF\\_13 & MF\\_14 & ⋯ & MF\\_63431 & MF\\_63701 & MF\\_64025 & MF\\_64936 & MF\\_65532 & MF\\_68286 & MF\\_73340 & MF\\_77165 & MF\\_78976 & GMCSF\\\\\n",
       " <dbl> & <dbl> & <dbl> & <dbl> & <dbl> & <dbl> & <dbl> & <dbl> & <dbl> & <dbl> & ⋯ & <dbl> & <dbl> & <dbl> & <dbl> & <dbl> & <dbl> & <dbl> & <dbl> & <dbl> & <dbl>\\\\\n",
       "\\hline\n",
       "\t 19.86186 & 17.86943 & 19.21394 & 18.02809 & 17.46636 & 18.34174 & 18.41799 & 19.31361 & 19.46777 & 20.80616 & ⋯ & 19.10260 & 17.17255 & 16.92465 & 17.09794 & 19.06203 & 19.13556 & 16.93182 & 17.55702 & 17.05593 & 0.74883419\\\\\n",
       "\t 21.08622 & 22.58769 & 21.05378 & 17.93584 & 17.33098 & 20.41479 & 20.37485 & 21.12876 & 21.01488 & 19.71124 & ⋯ & 17.82667 & 19.37426 & 16.23450 & 19.06421 & 18.06379 & 19.39103 & 16.72112 & 19.27343 & 19.30881 & 0.52203974\\\\\n",
       "\t 13.12099 & 14.44659 & 13.46827 & 16.51009 & 14.93820 & 15.66299 & 15.72731 & 13.78698 & 15.18975 & 18.19551 & ⋯ & 19.02411 & 19.56175 & 17.17120 & 16.97302 & 19.49121 & 17.09470 & 15.56214 & 19.55038 & 19.54912 & 0.71837615\\\\\n",
       "\t 21.60361 & 23.22761 & 21.99010 & 16.22547 & 17.59020 & 21.53908 & 21.14531 & 22.07857 & 21.97502 & 17.30567 & ⋯ & 19.54886 & 16.78848 & 16.46750 & 19.47635 & 19.44477 & 16.99617 & 16.09531 & 19.28810 & 19.32788 & 0.04230443\\\\\n",
       "\t 19.43885 & 17.93876 & 19.68977 & 16.73360 & 17.88844 & 17.81758 & 17.64979 & 19.64269 & 19.32233 & 21.33752 & ⋯ & 17.85969 & 18.97406 & 18.18813 & 18.50336 & 19.19085 & 19.41757 & 16.88993 & 19.35678 & 18.95550 & 0.04038862\\\\\n",
       "\t 22.53459 & 24.36662 & 22.77595 & 16.69956 & 16.38411 & 22.55912 & 17.30008 & 22.80146 & 22.09338 & 19.51343 & ⋯ & 15.82637 & 19.46467 & 16.97149 & 17.46699 & 16.32598 & 15.62938 & 17.37207 & 15.84334 & 17.82000 & 0.13681913\\\\\n",
       "\\end{tabular}\n"
      ],
      "text/markdown": [
       "\n",
       "A tibble: 6 × 3873\n",
       "\n",
       "| MF_2 &lt;dbl&gt; | MF_3 &lt;dbl&gt; | MF_4 &lt;dbl&gt; | MF_5 &lt;dbl&gt; | MF_6 &lt;dbl&gt; | MF_7 &lt;dbl&gt; | MF_11 &lt;dbl&gt; | MF_12 &lt;dbl&gt; | MF_13 &lt;dbl&gt; | MF_14 &lt;dbl&gt; | ⋯ ⋯ | MF_63431 &lt;dbl&gt; | MF_63701 &lt;dbl&gt; | MF_64025 &lt;dbl&gt; | MF_64936 &lt;dbl&gt; | MF_65532 &lt;dbl&gt; | MF_68286 &lt;dbl&gt; | MF_73340 &lt;dbl&gt; | MF_77165 &lt;dbl&gt; | MF_78976 &lt;dbl&gt; | GMCSF &lt;dbl&gt; |\n",
       "|---|---|---|---|---|---|---|---|---|---|---|---|---|---|---|---|---|---|---|---|---|\n",
       "| 19.86186 | 17.86943 | 19.21394 | 18.02809 | 17.46636 | 18.34174 | 18.41799 | 19.31361 | 19.46777 | 20.80616 | ⋯ | 19.10260 | 17.17255 | 16.92465 | 17.09794 | 19.06203 | 19.13556 | 16.93182 | 17.55702 | 17.05593 | 0.74883419 |\n",
       "| 21.08622 | 22.58769 | 21.05378 | 17.93584 | 17.33098 | 20.41479 | 20.37485 | 21.12876 | 21.01488 | 19.71124 | ⋯ | 17.82667 | 19.37426 | 16.23450 | 19.06421 | 18.06379 | 19.39103 | 16.72112 | 19.27343 | 19.30881 | 0.52203974 |\n",
       "| 13.12099 | 14.44659 | 13.46827 | 16.51009 | 14.93820 | 15.66299 | 15.72731 | 13.78698 | 15.18975 | 18.19551 | ⋯ | 19.02411 | 19.56175 | 17.17120 | 16.97302 | 19.49121 | 17.09470 | 15.56214 | 19.55038 | 19.54912 | 0.71837615 |\n",
       "| 21.60361 | 23.22761 | 21.99010 | 16.22547 | 17.59020 | 21.53908 | 21.14531 | 22.07857 | 21.97502 | 17.30567 | ⋯ | 19.54886 | 16.78848 | 16.46750 | 19.47635 | 19.44477 | 16.99617 | 16.09531 | 19.28810 | 19.32788 | 0.04230443 |\n",
       "| 19.43885 | 17.93876 | 19.68977 | 16.73360 | 17.88844 | 17.81758 | 17.64979 | 19.64269 | 19.32233 | 21.33752 | ⋯ | 17.85969 | 18.97406 | 18.18813 | 18.50336 | 19.19085 | 19.41757 | 16.88993 | 19.35678 | 18.95550 | 0.04038862 |\n",
       "| 22.53459 | 24.36662 | 22.77595 | 16.69956 | 16.38411 | 22.55912 | 17.30008 | 22.80146 | 22.09338 | 19.51343 | ⋯ | 15.82637 | 19.46467 | 16.97149 | 17.46699 | 16.32598 | 15.62938 | 17.37207 | 15.84334 | 17.82000 | 0.13681913 |\n",
       "\n"
      ],
      "text/plain": [
       "  MF_2     MF_3     MF_4     MF_5     MF_6     MF_7     MF_11    MF_12   \n",
       "1 19.86186 17.86943 19.21394 18.02809 17.46636 18.34174 18.41799 19.31361\n",
       "2 21.08622 22.58769 21.05378 17.93584 17.33098 20.41479 20.37485 21.12876\n",
       "3 13.12099 14.44659 13.46827 16.51009 14.93820 15.66299 15.72731 13.78698\n",
       "4 21.60361 23.22761 21.99010 16.22547 17.59020 21.53908 21.14531 22.07857\n",
       "5 19.43885 17.93876 19.68977 16.73360 17.88844 17.81758 17.64979 19.64269\n",
       "6 22.53459 24.36662 22.77595 16.69956 16.38411 22.55912 17.30008 22.80146\n",
       "  MF_13    MF_14    ⋯ MF_63431 MF_63701 MF_64025 MF_64936 MF_65532 MF_68286\n",
       "1 19.46777 20.80616 ⋯ 19.10260 17.17255 16.92465 17.09794 19.06203 19.13556\n",
       "2 21.01488 19.71124 ⋯ 17.82667 19.37426 16.23450 19.06421 18.06379 19.39103\n",
       "3 15.18975 18.19551 ⋯ 19.02411 19.56175 17.17120 16.97302 19.49121 17.09470\n",
       "4 21.97502 17.30567 ⋯ 19.54886 16.78848 16.46750 19.47635 19.44477 16.99617\n",
       "5 19.32233 21.33752 ⋯ 17.85969 18.97406 18.18813 18.50336 19.19085 19.41757\n",
       "6 22.09338 19.51343 ⋯ 15.82637 19.46467 16.97149 17.46699 16.32598 15.62938\n",
       "  MF_73340 MF_77165 MF_78976 GMCSF     \n",
       "1 16.93182 17.55702 17.05593 0.74883419\n",
       "2 16.72112 19.27343 19.30881 0.52203974\n",
       "3 15.56214 19.55038 19.54912 0.71837615\n",
       "4 16.09531 19.28810 19.32788 0.04230443\n",
       "5 16.88993 19.35678 18.95550 0.04038862\n",
       "6 17.37207 15.84334 17.82000 0.13681913"
      ]
     },
     "metadata": {},
     "output_type": "display_data"
    },
    {
     "data": {
      "text/html": [
       "<table class=\"dataframe\">\n",
       "<caption>A tibble: 6 × 3874</caption>\n",
       "<thead>\n",
       "\t<tr><th scope=col>MF_2</th><th scope=col>MF_3</th><th scope=col>MF_4</th><th scope=col>MF_5</th><th scope=col>MF_6</th><th scope=col>MF_7</th><th scope=col>MF_11</th><th scope=col>MF_12</th><th scope=col>MF_13</th><th scope=col>MF_14</th><th scope=col>⋯</th><th scope=col>MF_63701</th><th scope=col>MF_64025</th><th scope=col>MF_64936</th><th scope=col>MF_65532</th><th scope=col>MF_68286</th><th scope=col>MF_73340</th><th scope=col>MF_77165</th><th scope=col>MF_78976</th><th scope=col>GMCSF</th><th scope=col>Sex</th></tr>\n",
       "\t<tr><th scope=col>&lt;dbl&gt;</th><th scope=col>&lt;dbl&gt;</th><th scope=col>&lt;dbl&gt;</th><th scope=col>&lt;dbl&gt;</th><th scope=col>&lt;dbl&gt;</th><th scope=col>&lt;dbl&gt;</th><th scope=col>&lt;dbl&gt;</th><th scope=col>&lt;dbl&gt;</th><th scope=col>&lt;dbl&gt;</th><th scope=col>&lt;dbl&gt;</th><th scope=col>⋯</th><th scope=col>&lt;dbl&gt;</th><th scope=col>&lt;dbl&gt;</th><th scope=col>&lt;dbl&gt;</th><th scope=col>&lt;dbl&gt;</th><th scope=col>&lt;dbl&gt;</th><th scope=col>&lt;dbl&gt;</th><th scope=col>&lt;dbl&gt;</th><th scope=col>&lt;dbl&gt;</th><th scope=col>&lt;dbl&gt;</th><th scope=col>&lt;fct&gt;</th></tr>\n",
       "</thead>\n",
       "<tbody>\n",
       "\t<tr><td>19.86186</td><td>17.86943</td><td>19.21394</td><td>18.02809</td><td>17.46636</td><td>18.34174</td><td>18.41799</td><td>19.31361</td><td>19.46777</td><td>20.80616</td><td>⋯</td><td>17.17255</td><td>16.92465</td><td>17.09794</td><td>19.06203</td><td>19.13556</td><td>16.93182</td><td>17.55702</td><td>17.05593</td><td>0.74883419</td><td>0</td></tr>\n",
       "\t<tr><td>21.08622</td><td>22.58769</td><td>21.05378</td><td>17.93584</td><td>17.33098</td><td>20.41479</td><td>20.37485</td><td>21.12876</td><td>21.01488</td><td>19.71124</td><td>⋯</td><td>19.37426</td><td>16.23450</td><td>19.06421</td><td>18.06379</td><td>19.39103</td><td>16.72112</td><td>19.27343</td><td>19.30881</td><td>0.52203974</td><td>0</td></tr>\n",
       "\t<tr><td>13.12099</td><td>14.44659</td><td>13.46827</td><td>16.51009</td><td>14.93820</td><td>15.66299</td><td>15.72731</td><td>13.78698</td><td>15.18975</td><td>18.19551</td><td>⋯</td><td>19.56175</td><td>17.17120</td><td>16.97302</td><td>19.49121</td><td>17.09470</td><td>15.56214</td><td>19.55038</td><td>19.54912</td><td>0.71837615</td><td>0</td></tr>\n",
       "\t<tr><td>21.60361</td><td>23.22761</td><td>21.99010</td><td>16.22547</td><td>17.59020</td><td>21.53908</td><td>21.14531</td><td>22.07857</td><td>21.97502</td><td>17.30567</td><td>⋯</td><td>16.78848</td><td>16.46750</td><td>19.47635</td><td>19.44477</td><td>16.99617</td><td>16.09531</td><td>19.28810</td><td>19.32788</td><td>0.04230443</td><td>0</td></tr>\n",
       "\t<tr><td>19.43885</td><td>17.93876</td><td>19.68977</td><td>16.73360</td><td>17.88844</td><td>17.81758</td><td>17.64979</td><td>19.64269</td><td>19.32233</td><td>21.33752</td><td>⋯</td><td>18.97406</td><td>18.18813</td><td>18.50336</td><td>19.19085</td><td>19.41757</td><td>16.88993</td><td>19.35678</td><td>18.95550</td><td>0.04038862</td><td>1</td></tr>\n",
       "\t<tr><td>22.53459</td><td>24.36662</td><td>22.77595</td><td>16.69956</td><td>16.38411</td><td>22.55912</td><td>17.30008</td><td>22.80146</td><td>22.09338</td><td>19.51343</td><td>⋯</td><td>19.46467</td><td>16.97149</td><td>17.46699</td><td>16.32598</td><td>15.62938</td><td>17.37207</td><td>15.84334</td><td>17.82000</td><td>0.13681913</td><td>0</td></tr>\n",
       "</tbody>\n",
       "</table>\n"
      ],
      "text/latex": [
       "A tibble: 6 × 3874\n",
       "\\begin{tabular}{lllllllllllllllllllll}\n",
       " MF\\_2 & MF\\_3 & MF\\_4 & MF\\_5 & MF\\_6 & MF\\_7 & MF\\_11 & MF\\_12 & MF\\_13 & MF\\_14 & ⋯ & MF\\_63701 & MF\\_64025 & MF\\_64936 & MF\\_65532 & MF\\_68286 & MF\\_73340 & MF\\_77165 & MF\\_78976 & GMCSF & Sex\\\\\n",
       " <dbl> & <dbl> & <dbl> & <dbl> & <dbl> & <dbl> & <dbl> & <dbl> & <dbl> & <dbl> & ⋯ & <dbl> & <dbl> & <dbl> & <dbl> & <dbl> & <dbl> & <dbl> & <dbl> & <dbl> & <fct>\\\\\n",
       "\\hline\n",
       "\t 19.86186 & 17.86943 & 19.21394 & 18.02809 & 17.46636 & 18.34174 & 18.41799 & 19.31361 & 19.46777 & 20.80616 & ⋯ & 17.17255 & 16.92465 & 17.09794 & 19.06203 & 19.13556 & 16.93182 & 17.55702 & 17.05593 & 0.74883419 & 0\\\\\n",
       "\t 21.08622 & 22.58769 & 21.05378 & 17.93584 & 17.33098 & 20.41479 & 20.37485 & 21.12876 & 21.01488 & 19.71124 & ⋯ & 19.37426 & 16.23450 & 19.06421 & 18.06379 & 19.39103 & 16.72112 & 19.27343 & 19.30881 & 0.52203974 & 0\\\\\n",
       "\t 13.12099 & 14.44659 & 13.46827 & 16.51009 & 14.93820 & 15.66299 & 15.72731 & 13.78698 & 15.18975 & 18.19551 & ⋯ & 19.56175 & 17.17120 & 16.97302 & 19.49121 & 17.09470 & 15.56214 & 19.55038 & 19.54912 & 0.71837615 & 0\\\\\n",
       "\t 21.60361 & 23.22761 & 21.99010 & 16.22547 & 17.59020 & 21.53908 & 21.14531 & 22.07857 & 21.97502 & 17.30567 & ⋯ & 16.78848 & 16.46750 & 19.47635 & 19.44477 & 16.99617 & 16.09531 & 19.28810 & 19.32788 & 0.04230443 & 0\\\\\n",
       "\t 19.43885 & 17.93876 & 19.68977 & 16.73360 & 17.88844 & 17.81758 & 17.64979 & 19.64269 & 19.32233 & 21.33752 & ⋯ & 18.97406 & 18.18813 & 18.50336 & 19.19085 & 19.41757 & 16.88993 & 19.35678 & 18.95550 & 0.04038862 & 1\\\\\n",
       "\t 22.53459 & 24.36662 & 22.77595 & 16.69956 & 16.38411 & 22.55912 & 17.30008 & 22.80146 & 22.09338 & 19.51343 & ⋯ & 19.46467 & 16.97149 & 17.46699 & 16.32598 & 15.62938 & 17.37207 & 15.84334 & 17.82000 & 0.13681913 & 0\\\\\n",
       "\\end{tabular}\n"
      ],
      "text/markdown": [
       "\n",
       "A tibble: 6 × 3874\n",
       "\n",
       "| MF_2 &lt;dbl&gt; | MF_3 &lt;dbl&gt; | MF_4 &lt;dbl&gt; | MF_5 &lt;dbl&gt; | MF_6 &lt;dbl&gt; | MF_7 &lt;dbl&gt; | MF_11 &lt;dbl&gt; | MF_12 &lt;dbl&gt; | MF_13 &lt;dbl&gt; | MF_14 &lt;dbl&gt; | ⋯ ⋯ | MF_63701 &lt;dbl&gt; | MF_64025 &lt;dbl&gt; | MF_64936 &lt;dbl&gt; | MF_65532 &lt;dbl&gt; | MF_68286 &lt;dbl&gt; | MF_73340 &lt;dbl&gt; | MF_77165 &lt;dbl&gt; | MF_78976 &lt;dbl&gt; | GMCSF &lt;dbl&gt; | Sex &lt;fct&gt; |\n",
       "|---|---|---|---|---|---|---|---|---|---|---|---|---|---|---|---|---|---|---|---|---|\n",
       "| 19.86186 | 17.86943 | 19.21394 | 18.02809 | 17.46636 | 18.34174 | 18.41799 | 19.31361 | 19.46777 | 20.80616 | ⋯ | 17.17255 | 16.92465 | 17.09794 | 19.06203 | 19.13556 | 16.93182 | 17.55702 | 17.05593 | 0.74883419 | 0 |\n",
       "| 21.08622 | 22.58769 | 21.05378 | 17.93584 | 17.33098 | 20.41479 | 20.37485 | 21.12876 | 21.01488 | 19.71124 | ⋯ | 19.37426 | 16.23450 | 19.06421 | 18.06379 | 19.39103 | 16.72112 | 19.27343 | 19.30881 | 0.52203974 | 0 |\n",
       "| 13.12099 | 14.44659 | 13.46827 | 16.51009 | 14.93820 | 15.66299 | 15.72731 | 13.78698 | 15.18975 | 18.19551 | ⋯ | 19.56175 | 17.17120 | 16.97302 | 19.49121 | 17.09470 | 15.56214 | 19.55038 | 19.54912 | 0.71837615 | 0 |\n",
       "| 21.60361 | 23.22761 | 21.99010 | 16.22547 | 17.59020 | 21.53908 | 21.14531 | 22.07857 | 21.97502 | 17.30567 | ⋯ | 16.78848 | 16.46750 | 19.47635 | 19.44477 | 16.99617 | 16.09531 | 19.28810 | 19.32788 | 0.04230443 | 0 |\n",
       "| 19.43885 | 17.93876 | 19.68977 | 16.73360 | 17.88844 | 17.81758 | 17.64979 | 19.64269 | 19.32233 | 21.33752 | ⋯ | 18.97406 | 18.18813 | 18.50336 | 19.19085 | 19.41757 | 16.88993 | 19.35678 | 18.95550 | 0.04038862 | 1 |\n",
       "| 22.53459 | 24.36662 | 22.77595 | 16.69956 | 16.38411 | 22.55912 | 17.30008 | 22.80146 | 22.09338 | 19.51343 | ⋯ | 19.46467 | 16.97149 | 17.46699 | 16.32598 | 15.62938 | 17.37207 | 15.84334 | 17.82000 | 0.13681913 | 0 |\n",
       "\n"
      ],
      "text/plain": [
       "  MF_2     MF_3     MF_4     MF_5     MF_6     MF_7     MF_11    MF_12   \n",
       "1 19.86186 17.86943 19.21394 18.02809 17.46636 18.34174 18.41799 19.31361\n",
       "2 21.08622 22.58769 21.05378 17.93584 17.33098 20.41479 20.37485 21.12876\n",
       "3 13.12099 14.44659 13.46827 16.51009 14.93820 15.66299 15.72731 13.78698\n",
       "4 21.60361 23.22761 21.99010 16.22547 17.59020 21.53908 21.14531 22.07857\n",
       "5 19.43885 17.93876 19.68977 16.73360 17.88844 17.81758 17.64979 19.64269\n",
       "6 22.53459 24.36662 22.77595 16.69956 16.38411 22.55912 17.30008 22.80146\n",
       "  MF_13    MF_14    ⋯ MF_63701 MF_64025 MF_64936 MF_65532 MF_68286 MF_73340\n",
       "1 19.46777 20.80616 ⋯ 17.17255 16.92465 17.09794 19.06203 19.13556 16.93182\n",
       "2 21.01488 19.71124 ⋯ 19.37426 16.23450 19.06421 18.06379 19.39103 16.72112\n",
       "3 15.18975 18.19551 ⋯ 19.56175 17.17120 16.97302 19.49121 17.09470 15.56214\n",
       "4 21.97502 17.30567 ⋯ 16.78848 16.46750 19.47635 19.44477 16.99617 16.09531\n",
       "5 19.32233 21.33752 ⋯ 18.97406 18.18813 18.50336 19.19085 19.41757 16.88993\n",
       "6 22.09338 19.51343 ⋯ 19.46467 16.97149 17.46699 16.32598 15.62938 17.37207\n",
       "  MF_77165 MF_78976 GMCSF      Sex\n",
       "1 17.55702 17.05593 0.74883419 0  \n",
       "2 19.27343 19.30881 0.52203974 0  \n",
       "3 19.55038 19.54912 0.71837615 0  \n",
       "4 19.28810 19.32788 0.04230443 0  \n",
       "5 19.35678 18.95550 0.04038862 1  \n",
       "6 15.84334 17.82000 0.13681913 0  "
      ]
     },
     "metadata": {},
     "output_type": "display_data"
    }
   ],
   "source": [
    "# creating 2 dataframes: with and w/o sex as a covariate\n",
    "cytokine_df = cytokine_df %>%\n",
    "    select(c(\"Smoking_Status\", \"GMCSF\"))\n",
    "\n",
    "mf_cytokine_df = full_join(molecular_feature_df, cytokine_df) %>%\n",
    "    select(-Smoking_Status)\n",
    "\n",
    "mf_cytokine_df_covariates = full_join(molecular_feature_df, cytokine_df) %>%\n",
    "    full_join(demographics_data) %>%\n",
    "    select(-Smoking_Status)\n",
    "\n",
    "head(mf_cytokine_df)\n",
    "head(mf_cytokine_df_covariates)"
   ]
  },
  {
   "cell_type": "code",
   "execution_count": 5,
   "id": "6c3ee755",
   "metadata": {},
   "outputs": [],
   "source": [
    "rf_regression = function(dataset, outcome, pred_outcome){\n",
    "    # setting for reproducibility\n",
    "    set.seed(12)\n",
    "    # splitting data into training and testing sets\n",
    "    dataset_index = createFolds(dataset[[outcome]], k = 5) #5 fold CV\n",
    "\n",
    "    errors_rf = data.frame()\n",
    "    variable_importance_df = data.frame()\n",
    "    \n",
    "    for (i in 1:length(dataset_index)){\n",
    "        data_train = dataset[-dataset_index[[i]],]\n",
    "        data_test = dataset[dataset_index[[i]],]\n",
    "\n",
    "        ntree_values = c(50, 250, 500) # number of trees (not sure if we wanted something different)\n",
    "        p = dim(dataset)[2] - 1 # number of variables in dataset\n",
    "        mtry_values = c(p/2, sqrt(p), p)\n",
    "\n",
    "        # will use ntree and mtry values to determine which combination yields the smallest MSE\n",
    "        reg_rf_pred_tune = list()\n",
    "        rf_MSE = list()\n",
    "        rf_MSE_df = data.frame()\n",
    "        for (j in 1:length(ntree_values)){\n",
    "            for (k in 1:length(mtry_values)){\n",
    "                reg_rf_pred_tune[[k]] = randomForest(as.formula(paste0(outcome, \"~.\")), data = data_train, \n",
    "                                                     ntree = ntree_values[j], mtry = mtry_values[k])\n",
    "                rf_MSE[[k]] = data.frame(\"Tree Number\" = ntree_values[j], \"Variable Number\" = mtry_values[k], \n",
    "                                       \"OOB_MSE\" = reg_rf_pred_tune[[k]]$mse[ntree_values[j]])\n",
    "                rf_MSE_df = rbind(rf_MSE_df, rf_MSE[[k]])\n",
    "            }\n",
    "        }\n",
    "\n",
    "        # finding the lowest OOB error using best number of predictors at split and refitting OG tree\n",
    "        best_mse <- which(rf_MSE_df$OOB_MSE == min(rf_MSE_df$OOB_MSE))\n",
    "\n",
    "        reg_rf <- randomForest(as.formula(paste0(outcome, \"~.\")), data = data_train,\n",
    "        #need to go back and figure out how the number of trees/ variables make a difference even though\n",
    "        #the errors are the same!!!!\n",
    "                               ntree = rf_MSE_df$Tree.Number[min(best_mse)], \n",
    "                               mtry = rf_MSE_df$Variable.Number[min(best_mse)])\n",
    "\n",
    "        #predicting on test set\n",
    "        data_test[[pred_outcome]] = predict(reg_rf, newdata = data_test)\n",
    "\n",
    "        # calculating MSE and adding to df\n",
    "        error_values = postResample(data_test[[pred_outcome]], data_test[[outcome]])\n",
    "        errors_rf = rbind(errors_rf, error_values[[1]]^2)\n",
    "\n",
    "        \n",
    "        # extracting variable importance\n",
    "        var_importance_values = data.frame(importance(reg_rf)) %>%\n",
    "            rownames_to_column(var = \"MF\")\n",
    "        variable_importance_df = rbind(variable_importance_df, var_importance_values)\n",
    "        \n",
    "    }\n",
    "    \n",
    "    colnames(errors_rf) = c(\"MSE\")\n",
    "    errors_rf = errors_rf %>%\n",
    "        summarise(`CV Error` = mean(MSE), `Std Error` = sd(MSE))\n",
    "    \n",
    "    variable_importance_df = variable_importance_df %>%\n",
    "        group_by(MF) %>%\n",
    "        summarise(IncNodePurity = mean(IncNodePurity)) %>%\n",
    "        # sorting by most important variables\n",
    "        arrange(-IncNodePurity)\n",
    "  \n",
    "    # return training set, matrix and variable importance values\n",
    "    return(list(data_train, errors_rf, variable_importance_df))\n",
    "\n",
    "}\n",
    "\n",
    "# calling fn\n",
    "rf_values = rf_regression(mf_cytokine_df, \"GMCSF\", \"pred_GMCSF\")\n",
    "rf_values_covariates = rf_regression(mf_cytokine_df_covariates, \"GMCSF\", \"pred_GMCSF\")"
   ]
  },
  {
   "cell_type": "code",
   "execution_count": 6,
   "id": "0c52e6bc",
   "metadata": {},
   "outputs": [
    {
     "data": {
      "text/html": [
       "<table class=\"dataframe\">\n",
       "<caption>A data.frame: 2 × 4</caption>\n",
       "<thead>\n",
       "\t<tr><th scope=col>Model</th><th scope=col>Covariates</th><th scope=col>CV.Error</th><th scope=col>Std.Error</th></tr>\n",
       "\t<tr><th scope=col>&lt;chr&gt;</th><th scope=col>&lt;chr&gt;</th><th scope=col>&lt;dbl&gt;</th><th scope=col>&lt;dbl&gt;</th></tr>\n",
       "</thead>\n",
       "<tbody>\n",
       "\t<tr><td>RF Regression</td><td>No </td><td>14.34616</td><td>21.67795</td></tr>\n",
       "\t<tr><td>RF Regression</td><td>Yes</td><td>13.66475</td><td>19.78345</td></tr>\n",
       "</tbody>\n",
       "</table>\n"
      ],
      "text/latex": [
       "A data.frame: 2 × 4\n",
       "\\begin{tabular}{llll}\n",
       " Model & Covariates & CV.Error & Std.Error\\\\\n",
       " <chr> & <chr> & <dbl> & <dbl>\\\\\n",
       "\\hline\n",
       "\t RF Regression & No  & 14.34616 & 21.67795\\\\\n",
       "\t RF Regression & Yes & 13.66475 & 19.78345\\\\\n",
       "\\end{tabular}\n"
      ],
      "text/markdown": [
       "\n",
       "A data.frame: 2 × 4\n",
       "\n",
       "| Model &lt;chr&gt; | Covariates &lt;chr&gt; | CV.Error &lt;dbl&gt; | Std.Error &lt;dbl&gt; |\n",
       "|---|---|---|---|\n",
       "| RF Regression | No  | 14.34616 | 21.67795 |\n",
       "| RF Regression | Yes | 13.66475 | 19.78345 |\n",
       "\n"
      ],
      "text/plain": [
       "  Model         Covariates CV.Error Std.Error\n",
       "1 RF Regression No         14.34616 21.67795 \n",
       "2 RF Regression Yes        13.66475 19.78345 "
      ]
     },
     "metadata": {},
     "output_type": "display_data"
    },
    {
     "data": {
      "text/html": [
       "<table class=\"dataframe\">\n",
       "<caption>A tibble: 6 × 2</caption>\n",
       "<thead>\n",
       "\t<tr><th scope=col>MF</th><th scope=col>IncNodePurity</th></tr>\n",
       "\t<tr><th scope=col>&lt;chr&gt;</th><th scope=col>&lt;dbl&gt;</th></tr>\n",
       "</thead>\n",
       "<tbody>\n",
       "\t<tr><td>MF_22782</td><td>25.68346</td></tr>\n",
       "\t<tr><td>MF_17636</td><td>17.60964</td></tr>\n",
       "\t<tr><td>MF_5705 </td><td>13.45294</td></tr>\n",
       "\t<tr><td>MF_1404 </td><td>11.98006</td></tr>\n",
       "\t<tr><td>MF_7198 </td><td>11.09134</td></tr>\n",
       "\t<tr><td>MF_3176 </td><td>10.73420</td></tr>\n",
       "</tbody>\n",
       "</table>\n"
      ],
      "text/latex": [
       "A tibble: 6 × 2\n",
       "\\begin{tabular}{ll}\n",
       " MF & IncNodePurity\\\\\n",
       " <chr> & <dbl>\\\\\n",
       "\\hline\n",
       "\t MF\\_22782 & 25.68346\\\\\n",
       "\t MF\\_17636 & 17.60964\\\\\n",
       "\t MF\\_5705  & 13.45294\\\\\n",
       "\t MF\\_1404  & 11.98006\\\\\n",
       "\t MF\\_7198  & 11.09134\\\\\n",
       "\t MF\\_3176  & 10.73420\\\\\n",
       "\\end{tabular}\n"
      ],
      "text/markdown": [
       "\n",
       "A tibble: 6 × 2\n",
       "\n",
       "| MF &lt;chr&gt; | IncNodePurity &lt;dbl&gt; |\n",
       "|---|---|\n",
       "| MF_22782 | 25.68346 |\n",
       "| MF_17636 | 17.60964 |\n",
       "| MF_5705  | 13.45294 |\n",
       "| MF_1404  | 11.98006 |\n",
       "| MF_7198  | 11.09134 |\n",
       "| MF_3176  | 10.73420 |\n",
       "\n"
      ],
      "text/plain": [
       "  MF       IncNodePurity\n",
       "1 MF_22782 25.68346     \n",
       "2 MF_17636 17.60964     \n",
       "3 MF_5705  13.45294     \n",
       "4 MF_1404  11.98006     \n",
       "5 MF_7198  11.09134     \n",
       "6 MF_3176  10.73420     "
      ]
     },
     "metadata": {},
     "output_type": "display_data"
    },
    {
     "data": {
      "text/html": [
       "<table class=\"dataframe\">\n",
       "<caption>A tibble: 6 × 2</caption>\n",
       "<thead>\n",
       "\t<tr><th scope=col>MF</th><th scope=col>IncNodePurity</th></tr>\n",
       "\t<tr><th scope=col>&lt;chr&gt;</th><th scope=col>&lt;dbl&gt;</th></tr>\n",
       "</thead>\n",
       "<tbody>\n",
       "\t<tr><td>MF_22782</td><td>15.56781</td></tr>\n",
       "\t<tr><td>MF_17636</td><td>13.75168</td></tr>\n",
       "\t<tr><td>MF_10961</td><td>13.38901</td></tr>\n",
       "\t<tr><td>MF_3176 </td><td>12.08999</td></tr>\n",
       "\t<tr><td>MF_874  </td><td>11.63623</td></tr>\n",
       "\t<tr><td>MF_7198 </td><td>11.62545</td></tr>\n",
       "</tbody>\n",
       "</table>\n"
      ],
      "text/latex": [
       "A tibble: 6 × 2\n",
       "\\begin{tabular}{ll}\n",
       " MF & IncNodePurity\\\\\n",
       " <chr> & <dbl>\\\\\n",
       "\\hline\n",
       "\t MF\\_22782 & 15.56781\\\\\n",
       "\t MF\\_17636 & 13.75168\\\\\n",
       "\t MF\\_10961 & 13.38901\\\\\n",
       "\t MF\\_3176  & 12.08999\\\\\n",
       "\t MF\\_874   & 11.63623\\\\\n",
       "\t MF\\_7198  & 11.62545\\\\\n",
       "\\end{tabular}\n"
      ],
      "text/markdown": [
       "\n",
       "A tibble: 6 × 2\n",
       "\n",
       "| MF &lt;chr&gt; | IncNodePurity &lt;dbl&gt; |\n",
       "|---|---|\n",
       "| MF_22782 | 15.56781 |\n",
       "| MF_17636 | 13.75168 |\n",
       "| MF_10961 | 13.38901 |\n",
       "| MF_3176  | 12.08999 |\n",
       "| MF_874   | 11.63623 |\n",
       "| MF_7198  | 11.62545 |\n",
       "\n"
      ],
      "text/plain": [
       "  MF       IncNodePurity\n",
       "1 MF_22782 15.56781     \n",
       "2 MF_17636 13.75168     \n",
       "3 MF_10961 13.38901     \n",
       "4 MF_3176  12.08999     \n",
       "5 MF_874   11.63623     \n",
       "6 MF_7198  11.62545     "
      ]
     },
     "metadata": {},
     "output_type": "display_data"
    }
   ],
   "source": [
    "# viewing MSE results\n",
    "rf_model_errors = data.frame(Model = c(rep(c(\"RF Regression\"), times = 2)), Covariates = c(\"No\", \"Yes\"), \n",
    "                             rbind(rf_values[[2]], rf_values_covariates[[2]]))\n",
    "rf_model_errors\n",
    "\n",
    "# viewing most significant features\n",
    "head(rf_values[[3]])\n",
    "head(rf_values_covariates[[3]])"
   ]
  },
  {
   "cell_type": "markdown",
   "id": "d31fe91d",
   "metadata": {},
   "source": [
    "Rerunning RF model with noise variables to determine, which predictors are significant above the background noise."
   ]
  },
  {
   "cell_type": "code",
   "execution_count": 7,
   "id": "f78bb428",
   "metadata": {},
   "outputs": [
    {
     "data": {
      "text/html": [
       "<table class=\"dataframe\">\n",
       "<caption>A tibble: 6 × 3878</caption>\n",
       "<thead>\n",
       "\t<tr><th scope=col>MF_2</th><th scope=col>MF_3</th><th scope=col>MF_4</th><th scope=col>MF_5</th><th scope=col>MF_6</th><th scope=col>MF_7</th><th scope=col>MF_11</th><th scope=col>MF_12</th><th scope=col>MF_13</th><th scope=col>MF_14</th><th scope=col>⋯</th><th scope=col>MF_68286</th><th scope=col>MF_73340</th><th scope=col>MF_77165</th><th scope=col>MF_78976</th><th scope=col>GMCSF</th><th scope=col>noise1</th><th scope=col>noise2</th><th scope=col>noise3</th><th scope=col>noise4</th><th scope=col>noise5</th></tr>\n",
       "\t<tr><th scope=col>&lt;dbl&gt;</th><th scope=col>&lt;dbl&gt;</th><th scope=col>&lt;dbl&gt;</th><th scope=col>&lt;dbl&gt;</th><th scope=col>&lt;dbl&gt;</th><th scope=col>&lt;dbl&gt;</th><th scope=col>&lt;dbl&gt;</th><th scope=col>&lt;dbl&gt;</th><th scope=col>&lt;dbl&gt;</th><th scope=col>&lt;dbl&gt;</th><th scope=col>⋯</th><th scope=col>&lt;dbl&gt;</th><th scope=col>&lt;dbl&gt;</th><th scope=col>&lt;dbl&gt;</th><th scope=col>&lt;dbl&gt;</th><th scope=col>&lt;dbl&gt;</th><th scope=col>&lt;dbl&gt;</th><th scope=col>&lt;dbl&gt;</th><th scope=col>&lt;dbl&gt;</th><th scope=col>&lt;dbl&gt;</th><th scope=col>&lt;dbl&gt;</th></tr>\n",
       "</thead>\n",
       "<tbody>\n",
       "\t<tr><td>19.86186</td><td>17.86943</td><td>19.21394</td><td>18.02809</td><td>17.46636</td><td>18.34174</td><td>18.41799</td><td>19.31361</td><td>19.46777</td><td>20.80616</td><td>⋯</td><td>19.13556</td><td>16.93182</td><td>17.55702</td><td>17.05593</td><td>0.74883419</td><td>22.55244</td><td>21.20241</td><td>16.64876</td><td>21.24913</td><td>22.49399</td></tr>\n",
       "\t<tr><td>19.43885</td><td>17.93876</td><td>19.68977</td><td>16.73360</td><td>17.88844</td><td>17.81758</td><td>17.64979</td><td>19.64269</td><td>19.32233</td><td>21.33752</td><td>⋯</td><td>19.41757</td><td>16.88993</td><td>19.35678</td><td>18.95550</td><td>0.04038862</td><td>21.63219</td><td>19.74681</td><td>18.64912</td><td>22.30371</td><td>22.18006</td></tr>\n",
       "\t<tr><td>21.50216</td><td>23.34553</td><td>21.53633</td><td>17.93372</td><td>24.26751</td><td>21.71412</td><td>21.32122</td><td>21.66214</td><td>21.71152</td><td>17.86307</td><td>⋯</td><td>18.52501</td><td>17.61326</td><td>17.74147</td><td>16.76017</td><td>0.11269318</td><td>21.68604</td><td>17.85119</td><td>15.36472</td><td>21.90605</td><td>17.94234</td></tr>\n",
       "\t<tr><td>21.97526</td><td>24.05067</td><td>22.28614</td><td>17.23683</td><td>18.87955</td><td>22.30371</td><td>16.31152</td><td>22.24701</td><td>22.18391</td><td>20.20701</td><td>⋯</td><td>14.56269</td><td>16.50120</td><td>18.56707</td><td>18.43693</td><td>0.03916000</td><td>23.21817</td><td>18.23263</td><td>17.50820</td><td>21.79253</td><td>22.68896</td></tr>\n",
       "\t<tr><td>20.01045</td><td>16.64943</td><td>19.91826</td><td>17.22811</td><td>17.78279</td><td>18.82692</td><td>17.24179</td><td>20.00943</td><td>20.08843</td><td>16.34883</td><td>⋯</td><td>16.05914</td><td>19.38379</td><td>16.34264</td><td>17.44038</td><td>0.44144111</td><td>22.75360</td><td>16.08028</td><td>17.88701</td><td>21.64130</td><td>19.33463</td></tr>\n",
       "\t<tr><td>22.53688</td><td>24.43968</td><td>23.28045</td><td>19.36843</td><td>18.44241</td><td>22.80038</td><td>22.39723</td><td>17.57684</td><td>22.85906</td><td>20.30357</td><td>⋯</td><td>17.13399</td><td>17.69150</td><td>16.35047</td><td>17.86477</td><td>0.12937836</td><td>19.68977</td><td>17.54753</td><td>17.50820</td><td>21.45922</td><td>21.00517</td></tr>\n",
       "</tbody>\n",
       "</table>\n"
      ],
      "text/latex": [
       "A tibble: 6 × 3878\n",
       "\\begin{tabular}{lllllllllllllllllllll}\n",
       " MF\\_2 & MF\\_3 & MF\\_4 & MF\\_5 & MF\\_6 & MF\\_7 & MF\\_11 & MF\\_12 & MF\\_13 & MF\\_14 & ⋯ & MF\\_68286 & MF\\_73340 & MF\\_77165 & MF\\_78976 & GMCSF & noise1 & noise2 & noise3 & noise4 & noise5\\\\\n",
       " <dbl> & <dbl> & <dbl> & <dbl> & <dbl> & <dbl> & <dbl> & <dbl> & <dbl> & <dbl> & ⋯ & <dbl> & <dbl> & <dbl> & <dbl> & <dbl> & <dbl> & <dbl> & <dbl> & <dbl> & <dbl>\\\\\n",
       "\\hline\n",
       "\t 19.86186 & 17.86943 & 19.21394 & 18.02809 & 17.46636 & 18.34174 & 18.41799 & 19.31361 & 19.46777 & 20.80616 & ⋯ & 19.13556 & 16.93182 & 17.55702 & 17.05593 & 0.74883419 & 22.55244 & 21.20241 & 16.64876 & 21.24913 & 22.49399\\\\\n",
       "\t 19.43885 & 17.93876 & 19.68977 & 16.73360 & 17.88844 & 17.81758 & 17.64979 & 19.64269 & 19.32233 & 21.33752 & ⋯ & 19.41757 & 16.88993 & 19.35678 & 18.95550 & 0.04038862 & 21.63219 & 19.74681 & 18.64912 & 22.30371 & 22.18006\\\\\n",
       "\t 21.50216 & 23.34553 & 21.53633 & 17.93372 & 24.26751 & 21.71412 & 21.32122 & 21.66214 & 21.71152 & 17.86307 & ⋯ & 18.52501 & 17.61326 & 17.74147 & 16.76017 & 0.11269318 & 21.68604 & 17.85119 & 15.36472 & 21.90605 & 17.94234\\\\\n",
       "\t 21.97526 & 24.05067 & 22.28614 & 17.23683 & 18.87955 & 22.30371 & 16.31152 & 22.24701 & 22.18391 & 20.20701 & ⋯ & 14.56269 & 16.50120 & 18.56707 & 18.43693 & 0.03916000 & 23.21817 & 18.23263 & 17.50820 & 21.79253 & 22.68896\\\\\n",
       "\t 20.01045 & 16.64943 & 19.91826 & 17.22811 & 17.78279 & 18.82692 & 17.24179 & 20.00943 & 20.08843 & 16.34883 & ⋯ & 16.05914 & 19.38379 & 16.34264 & 17.44038 & 0.44144111 & 22.75360 & 16.08028 & 17.88701 & 21.64130 & 19.33463\\\\\n",
       "\t 22.53688 & 24.43968 & 23.28045 & 19.36843 & 18.44241 & 22.80038 & 22.39723 & 17.57684 & 22.85906 & 20.30357 & ⋯ & 17.13399 & 17.69150 & 16.35047 & 17.86477 & 0.12937836 & 19.68977 & 17.54753 & 17.50820 & 21.45922 & 21.00517\\\\\n",
       "\\end{tabular}\n"
      ],
      "text/markdown": [
       "\n",
       "A tibble: 6 × 3878\n",
       "\n",
       "| MF_2 &lt;dbl&gt; | MF_3 &lt;dbl&gt; | MF_4 &lt;dbl&gt; | MF_5 &lt;dbl&gt; | MF_6 &lt;dbl&gt; | MF_7 &lt;dbl&gt; | MF_11 &lt;dbl&gt; | MF_12 &lt;dbl&gt; | MF_13 &lt;dbl&gt; | MF_14 &lt;dbl&gt; | ⋯ ⋯ | MF_68286 &lt;dbl&gt; | MF_73340 &lt;dbl&gt; | MF_77165 &lt;dbl&gt; | MF_78976 &lt;dbl&gt; | GMCSF &lt;dbl&gt; | noise1 &lt;dbl&gt; | noise2 &lt;dbl&gt; | noise3 &lt;dbl&gt; | noise4 &lt;dbl&gt; | noise5 &lt;dbl&gt; |\n",
       "|---|---|---|---|---|---|---|---|---|---|---|---|---|---|---|---|---|---|---|---|---|\n",
       "| 19.86186 | 17.86943 | 19.21394 | 18.02809 | 17.46636 | 18.34174 | 18.41799 | 19.31361 | 19.46777 | 20.80616 | ⋯ | 19.13556 | 16.93182 | 17.55702 | 17.05593 | 0.74883419 | 22.55244 | 21.20241 | 16.64876 | 21.24913 | 22.49399 |\n",
       "| 19.43885 | 17.93876 | 19.68977 | 16.73360 | 17.88844 | 17.81758 | 17.64979 | 19.64269 | 19.32233 | 21.33752 | ⋯ | 19.41757 | 16.88993 | 19.35678 | 18.95550 | 0.04038862 | 21.63219 | 19.74681 | 18.64912 | 22.30371 | 22.18006 |\n",
       "| 21.50216 | 23.34553 | 21.53633 | 17.93372 | 24.26751 | 21.71412 | 21.32122 | 21.66214 | 21.71152 | 17.86307 | ⋯ | 18.52501 | 17.61326 | 17.74147 | 16.76017 | 0.11269318 | 21.68604 | 17.85119 | 15.36472 | 21.90605 | 17.94234 |\n",
       "| 21.97526 | 24.05067 | 22.28614 | 17.23683 | 18.87955 | 22.30371 | 16.31152 | 22.24701 | 22.18391 | 20.20701 | ⋯ | 14.56269 | 16.50120 | 18.56707 | 18.43693 | 0.03916000 | 23.21817 | 18.23263 | 17.50820 | 21.79253 | 22.68896 |\n",
       "| 20.01045 | 16.64943 | 19.91826 | 17.22811 | 17.78279 | 18.82692 | 17.24179 | 20.00943 | 20.08843 | 16.34883 | ⋯ | 16.05914 | 19.38379 | 16.34264 | 17.44038 | 0.44144111 | 22.75360 | 16.08028 | 17.88701 | 21.64130 | 19.33463 |\n",
       "| 22.53688 | 24.43968 | 23.28045 | 19.36843 | 18.44241 | 22.80038 | 22.39723 | 17.57684 | 22.85906 | 20.30357 | ⋯ | 17.13399 | 17.69150 | 16.35047 | 17.86477 | 0.12937836 | 19.68977 | 17.54753 | 17.50820 | 21.45922 | 21.00517 |\n",
       "\n"
      ],
      "text/plain": [
       "  MF_2     MF_3     MF_4     MF_5     MF_6     MF_7     MF_11    MF_12   \n",
       "1 19.86186 17.86943 19.21394 18.02809 17.46636 18.34174 18.41799 19.31361\n",
       "2 19.43885 17.93876 19.68977 16.73360 17.88844 17.81758 17.64979 19.64269\n",
       "3 21.50216 23.34553 21.53633 17.93372 24.26751 21.71412 21.32122 21.66214\n",
       "4 21.97526 24.05067 22.28614 17.23683 18.87955 22.30371 16.31152 22.24701\n",
       "5 20.01045 16.64943 19.91826 17.22811 17.78279 18.82692 17.24179 20.00943\n",
       "6 22.53688 24.43968 23.28045 19.36843 18.44241 22.80038 22.39723 17.57684\n",
       "  MF_13    MF_14    ⋯ MF_68286 MF_73340 MF_77165 MF_78976 GMCSF      noise1  \n",
       "1 19.46777 20.80616 ⋯ 19.13556 16.93182 17.55702 17.05593 0.74883419 22.55244\n",
       "2 19.32233 21.33752 ⋯ 19.41757 16.88993 19.35678 18.95550 0.04038862 21.63219\n",
       "3 21.71152 17.86307 ⋯ 18.52501 17.61326 17.74147 16.76017 0.11269318 21.68604\n",
       "4 22.18391 20.20701 ⋯ 14.56269 16.50120 18.56707 18.43693 0.03916000 23.21817\n",
       "5 20.08843 16.34883 ⋯ 16.05914 19.38379 16.34264 17.44038 0.44144111 22.75360\n",
       "6 22.85906 20.30357 ⋯ 17.13399 17.69150 16.35047 17.86477 0.12937836 19.68977\n",
       "  noise2   noise3   noise4   noise5  \n",
       "1 21.20241 16.64876 21.24913 22.49399\n",
       "2 19.74681 18.64912 22.30371 22.18006\n",
       "3 17.85119 15.36472 21.90605 17.94234\n",
       "4 18.23263 17.50820 21.79253 22.68896\n",
       "5 16.08028 17.88701 21.64130 19.33463\n",
       "6 17.54753 17.50820 21.45922 21.00517"
      ]
     },
     "metadata": {},
     "output_type": "display_data"
    }
   ],
   "source": [
    "train_vars_noise = rf_values[[1]]\n",
    "train_vars_noise_covariates = rf_values_covariates[[1]]\n",
    "\n",
    "noise_df = function(train_vars_noise){\n",
    "    set.seed(7)\n",
    "    # Add random noise predictors as an additional method to evaluate model performance\n",
    "    # Adding a column that contains randomly shuffled values from one of the molecules; sampling with replacement\n",
    "    train_vars_noise$noise1 = sample(train_vars_noise[[colnames(train_vars_noise[3])]], replace = TRUE) \n",
    "    train_vars_noise$noise2 = sample(train_vars_noise[[colnames(train_vars_noise[4])]], replace = TRUE)\n",
    "    train_vars_noise$noise3 = sample(train_vars_noise[[colnames(train_vars_noise[5])]], replace = TRUE)\n",
    "    train_vars_noise$noise4 = sample(train_vars_noise[[colnames(train_vars_noise[6])]], replace = TRUE)\n",
    "    train_vars_noise$noise5 = sample(train_vars_noise[[colnames(train_vars_noise[7])]], replace = TRUE)\n",
    "    \n",
    "    return(train_vars_noise)\n",
    "}\n",
    "\n",
    "# calling fn\n",
    "noise_training_rf_dataset = noise_df(train_vars_noise)\n",
    "noise_training_rf_dataset_covariates = noise_df(train_vars_noise_covariates)\n",
    "head(noise_training_rf_dataset)"
   ]
  },
  {
   "cell_type": "code",
   "execution_count": 8,
   "id": "5721959f",
   "metadata": {},
   "outputs": [],
   "source": [
    "# calling rf fn\n",
    "noise_rf_values = rf_regression(noise_training_rf_dataset, \"GMCSF\", \"pred_GMCSF\")\n",
    "noise_rf_values_covariates = rf_regression(noise_training_rf_dataset_covariates, \"GMCSF\", \"pred_GMCSF\")"
   ]
  },
  {
   "cell_type": "code",
   "execution_count": 9,
   "id": "f67fbcc4",
   "metadata": {},
   "outputs": [
    {
     "data": {
      "text/html": [
       "<table class=\"dataframe\">\n",
       "<caption>A data.frame: 2 × 4</caption>\n",
       "<thead>\n",
       "\t<tr><th scope=col>Model</th><th scope=col>Covariates</th><th scope=col>CV.Error</th><th scope=col>Std.Error</th></tr>\n",
       "\t<tr><th scope=col>&lt;chr&gt;</th><th scope=col>&lt;chr&gt;</th><th scope=col>&lt;dbl&gt;</th><th scope=col>&lt;dbl&gt;</th></tr>\n",
       "</thead>\n",
       "<tbody>\n",
       "\t<tr><td>RF Regression</td><td>No </td><td>16.71028</td><td>21.63989</td></tr>\n",
       "\t<tr><td>RF Regression</td><td>Yes</td><td>16.21376</td><td>22.09005</td></tr>\n",
       "</tbody>\n",
       "</table>\n"
      ],
      "text/latex": [
       "A data.frame: 2 × 4\n",
       "\\begin{tabular}{llll}\n",
       " Model & Covariates & CV.Error & Std.Error\\\\\n",
       " <chr> & <chr> & <dbl> & <dbl>\\\\\n",
       "\\hline\n",
       "\t RF Regression & No  & 16.71028 & 21.63989\\\\\n",
       "\t RF Regression & Yes & 16.21376 & 22.09005\\\\\n",
       "\\end{tabular}\n"
      ],
      "text/markdown": [
       "\n",
       "A data.frame: 2 × 4\n",
       "\n",
       "| Model &lt;chr&gt; | Covariates &lt;chr&gt; | CV.Error &lt;dbl&gt; | Std.Error &lt;dbl&gt; |\n",
       "|---|---|---|---|\n",
       "| RF Regression | No  | 16.71028 | 21.63989 |\n",
       "| RF Regression | Yes | 16.21376 | 22.09005 |\n",
       "\n"
      ],
      "text/plain": [
       "  Model         Covariates CV.Error Std.Error\n",
       "1 RF Regression No         16.71028 21.63989 \n",
       "2 RF Regression Yes        16.21376 22.09005 "
      ]
     },
     "metadata": {},
     "output_type": "display_data"
    },
    {
     "data": {
      "text/html": [
       "<table class=\"dataframe\">\n",
       "<caption>A tibble: 6 × 2</caption>\n",
       "<thead>\n",
       "\t<tr><th scope=col>MF</th><th scope=col>IncNodePurity</th></tr>\n",
       "\t<tr><th scope=col>&lt;chr&gt;</th><th scope=col>&lt;dbl&gt;</th></tr>\n",
       "</thead>\n",
       "<tbody>\n",
       "\t<tr><td>MF_22782</td><td>12.15155</td></tr>\n",
       "\t<tr><td>MF_874  </td><td>12.04676</td></tr>\n",
       "\t<tr><td>MF_3176 </td><td>10.71323</td></tr>\n",
       "\t<tr><td>MF_18012</td><td>10.59023</td></tr>\n",
       "\t<tr><td>MF_7198 </td><td>10.49688</td></tr>\n",
       "\t<tr><td>MF_7476 </td><td>10.32712</td></tr>\n",
       "</tbody>\n",
       "</table>\n"
      ],
      "text/latex": [
       "A tibble: 6 × 2\n",
       "\\begin{tabular}{ll}\n",
       " MF & IncNodePurity\\\\\n",
       " <chr> & <dbl>\\\\\n",
       "\\hline\n",
       "\t MF\\_22782 & 12.15155\\\\\n",
       "\t MF\\_874   & 12.04676\\\\\n",
       "\t MF\\_3176  & 10.71323\\\\\n",
       "\t MF\\_18012 & 10.59023\\\\\n",
       "\t MF\\_7198  & 10.49688\\\\\n",
       "\t MF\\_7476  & 10.32712\\\\\n",
       "\\end{tabular}\n"
      ],
      "text/markdown": [
       "\n",
       "A tibble: 6 × 2\n",
       "\n",
       "| MF &lt;chr&gt; | IncNodePurity &lt;dbl&gt; |\n",
       "|---|---|\n",
       "| MF_22782 | 12.15155 |\n",
       "| MF_874   | 12.04676 |\n",
       "| MF_3176  | 10.71323 |\n",
       "| MF_18012 | 10.59023 |\n",
       "| MF_7198  | 10.49688 |\n",
       "| MF_7476  | 10.32712 |\n",
       "\n"
      ],
      "text/plain": [
       "  MF       IncNodePurity\n",
       "1 MF_22782 12.15155     \n",
       "2 MF_874   12.04676     \n",
       "3 MF_3176  10.71323     \n",
       "4 MF_18012 10.59023     \n",
       "5 MF_7198  10.49688     \n",
       "6 MF_7476  10.32712     "
      ]
     },
     "metadata": {},
     "output_type": "display_data"
    },
    {
     "data": {
      "text/html": [
       "<table class=\"dataframe\">\n",
       "<caption>A tibble: 6 × 2</caption>\n",
       "<thead>\n",
       "\t<tr><th scope=col>MF</th><th scope=col>IncNodePurity</th></tr>\n",
       "\t<tr><th scope=col>&lt;chr&gt;</th><th scope=col>&lt;dbl&gt;</th></tr>\n",
       "</thead>\n",
       "<tbody>\n",
       "\t<tr><td>MF_22782</td><td>15.804172</td></tr>\n",
       "\t<tr><td>MF_874  </td><td>14.130434</td></tr>\n",
       "\t<tr><td>MF_1496 </td><td> 8.576510</td></tr>\n",
       "\t<tr><td>MF_35145</td><td> 8.440380</td></tr>\n",
       "\t<tr><td>MF_12220</td><td> 8.361231</td></tr>\n",
       "\t<tr><td>MF_3324 </td><td> 7.345242</td></tr>\n",
       "</tbody>\n",
       "</table>\n"
      ],
      "text/latex": [
       "A tibble: 6 × 2\n",
       "\\begin{tabular}{ll}\n",
       " MF & IncNodePurity\\\\\n",
       " <chr> & <dbl>\\\\\n",
       "\\hline\n",
       "\t MF\\_22782 & 15.804172\\\\\n",
       "\t MF\\_874   & 14.130434\\\\\n",
       "\t MF\\_1496  &  8.576510\\\\\n",
       "\t MF\\_35145 &  8.440380\\\\\n",
       "\t MF\\_12220 &  8.361231\\\\\n",
       "\t MF\\_3324  &  7.345242\\\\\n",
       "\\end{tabular}\n"
      ],
      "text/markdown": [
       "\n",
       "A tibble: 6 × 2\n",
       "\n",
       "| MF &lt;chr&gt; | IncNodePurity &lt;dbl&gt; |\n",
       "|---|---|\n",
       "| MF_22782 | 15.804172 |\n",
       "| MF_874   | 14.130434 |\n",
       "| MF_1496  |  8.576510 |\n",
       "| MF_35145 |  8.440380 |\n",
       "| MF_12220 |  8.361231 |\n",
       "| MF_3324  |  7.345242 |\n",
       "\n"
      ],
      "text/plain": [
       "  MF       IncNodePurity\n",
       "1 MF_22782 15.804172    \n",
       "2 MF_874   14.130434    \n",
       "3 MF_1496   8.576510    \n",
       "4 MF_35145  8.440380    \n",
       "5 MF_12220  8.361231    \n",
       "6 MF_3324   7.345242    "
      ]
     },
     "metadata": {},
     "output_type": "display_data"
    }
   ],
   "source": [
    "# viewing MSE results\n",
    "noise_rf_model_errors = data.frame(Model = c(rep(c(\"RF Regression\"), times = 2)), Covariates = c(\"No\", \"Yes\"),  \n",
    "                             rbind(noise_rf_values[[2]], noise_rf_values_covariates[[2]]))\n",
    "noise_rf_model_errors\n",
    "\n",
    "# viewing most significant features\n",
    "head(noise_rf_values[[3]])\n",
    "head(noise_rf_values_covariates[[3]])"
   ]
  },
  {
   "cell_type": "markdown",
   "id": "64f7461e",
   "metadata": {},
   "source": [
    "Calculating the average noise rank to determine, which predictors ranked higher than the highest noise rank."
   ]
  },
  {
   "cell_type": "code",
   "execution_count": 10,
   "id": "40f7773c",
   "metadata": {},
   "outputs": [],
   "source": [
    "#calculating avg noise rank out of all variables\n",
    "noise_importance_values = noise_rf_values[[3]] %>%\n",
    "    column_to_rownames(var = \"MF\")\n",
    "noise_importance_values_covariates = noise_rf_values_covariates[[3]] %>%\n",
    "    column_to_rownames(var = \"MF\")"
   ]
  },
  {
   "cell_type": "code",
   "execution_count": 11,
   "id": "e9be0c60",
   "metadata": {},
   "outputs": [
    {
     "data": {
      "text/html": [
       "0.141604333247356"
      ],
      "text/latex": [
       "0.141604333247356"
      ],
      "text/markdown": [
       "0.141604333247356"
      ],
      "text/plain": [
       "[1] 0.1416043"
      ]
     },
     "metadata": {},
     "output_type": "display_data"
    },
    {
     "data": {
      "text/html": [
       "0.392986075296545"
      ],
      "text/latex": [
       "0.392986075296545"
      ],
      "text/markdown": [
       "0.392986075296545"
      ],
      "text/plain": [
       "[1] 0.3929861"
      ]
     },
     "metadata": {},
     "output_type": "display_data"
    }
   ],
   "source": [
    "highest_noise_rank_fn = function(noise_importance_values){\n",
    "    #this gives us values between 0 and 1\n",
    "    #the closer the number gets to 1 the lower it ranks, so the number closest to 1 is the max rank\n",
    "    noise1rank = which(rownames(noise_importance_values) == \"noise1\")/nrow(noise_importance_values)\n",
    "    noise2rank = which(rownames(noise_importance_values) == \"noise2\")/nrow(noise_importance_values)\n",
    "    noise3rank = which(rownames(noise_importance_values) == \"noise3\")/nrow(noise_importance_values)\n",
    "    noise4rank = which(rownames(noise_importance_values) == \"noise4\")/nrow(noise_importance_values)\n",
    "    noise5rank = which(rownames(noise_importance_values) == \"noise5\")/nrow(noise_importance_values)\n",
    "\n",
    "    #figuring out which is the highest mean decrease gini or background noise importance value\n",
    "    highest_noise_rank = min(noise1rank, noise2rank, noise3rank, noise4rank, noise5rank)\n",
    "    \n",
    "    return(highest_noise_rank)\n",
    "}\n",
    "\n",
    "#calling fn\n",
    "highest_noise_rank = highest_noise_rank_fn(noise_importance_values)\n",
    "highest_noise_rank_covariates = highest_noise_rank_fn(noise_importance_values_covariates)\n",
    "highest_noise_rank\n",
    "highest_noise_rank_covariates"
   ]
  },
  {
   "cell_type": "code",
   "execution_count": 12,
   "id": "16b12406",
   "metadata": {},
   "outputs": [
    {
     "data": {
      "text/html": [
       "549"
      ],
      "text/latex": [
       "549"
      ],
      "text/markdown": [
       "549"
      ],
      "text/plain": [
       "[1] 549"
      ]
     },
     "metadata": {},
     "output_type": "display_data"
    },
    {
     "data": {
      "text/html": [
       "1524"
      ],
      "text/latex": [
       "1524"
      ],
      "text/markdown": [
       "1524"
      ],
      "text/plain": [
       "[1] 1524"
      ]
     },
     "metadata": {},
     "output_type": "display_data"
    }
   ],
   "source": [
    "last_significant_rank_fn = function(noise_importance_values, highest_noise_rank){\n",
    "    for (i in 1:length(noise_importance_values$IncNodePurity)){\n",
    "    #if the row number (index)/# of variables is less than the highest noise rank the loop will continue\n",
    "        if (i/length(noise_importance_values$IncNodePurity) > highest_noise_rank){\n",
    "            last_significant_var = i - 1\n",
    "            break\n",
    "        }\n",
    "    }    \n",
    "    return(last_significant_var)\n",
    "}\n",
    "\n",
    "#calling fn\n",
    "last_significant_rank = last_significant_rank_fn(noise_importance_values, highest_noise_rank)\n",
    "last_significant_rank_covariates = last_significant_rank_fn(noise_importance_values_covariates, highest_noise_rank_covariates)\n",
    "last_significant_rank\n",
    "last_significant_rank_covariates"
   ]
  },
  {
   "cell_type": "markdown",
   "id": "e3377220",
   "metadata": {},
   "source": [
    "The dataset containing all the features contains 804 MFs above background, while the dataset without nicotine and cotinine has 84. This means that the exclusion of these 2 features forces the model to find erroneous connections between the noise variables and the outcome and that these 2 features are driving much of the model's predictive ability."
   ]
  },
  {
   "cell_type": "code",
   "execution_count": 13,
   "id": "b4d0fd56",
   "metadata": {},
   "outputs": [],
   "source": [
    "# now getting those significant MFs\n",
    "significant_MFs = rownames(noise_importance_values)[1:last_significant_rank]\n",
    "significant_MFs_covariates = rownames(noise_importance_values_covariates)[1:last_significant_rank_covariates]"
   ]
  },
  {
   "cell_type": "code",
   "execution_count": 14,
   "id": "68678cac",
   "metadata": {},
   "outputs": [],
   "source": [
    "# converting row names back to columns to make next step easier\n",
    "noise_importance_values = noise_importance_values %>%\n",
    "    rownames_to_column(var = \"MF\")\n",
    "noise_importance_values_covariates = noise_importance_values_covariates %>%\n",
    "    rownames_to_column(var = \"MF\")"
   ]
  },
  {
   "cell_type": "code",
   "execution_count": 15,
   "id": "1ec3ad83",
   "metadata": {},
   "outputs": [
    {
     "name": "stderr",
     "output_type": "stream",
     "text": [
      "\u001b[1m\u001b[22mJoining, by = c(\"MF\", \"IncNodePurity\")\n",
      "\u001b[1m\u001b[22mJoining, by = c(\"MF\", \"IncNodePurity\")\n"
     ]
    },
    {
     "data": {
      "text/html": [
       "<table class=\"dataframe\">\n",
       "<caption>A data.frame: 6 × 3</caption>\n",
       "<thead>\n",
       "\t<tr><th></th><th scope=col>MF</th><th scope=col>IncNodePurity</th><th scope=col>Passed_Filter</th></tr>\n",
       "\t<tr><th></th><th scope=col>&lt;chr&gt;</th><th scope=col>&lt;dbl&gt;</th><th scope=col>&lt;chr&gt;</th></tr>\n",
       "</thead>\n",
       "<tbody>\n",
       "\t<tr><th scope=row>1</th><td>MF_22782</td><td>12.15155</td><td>Yes</td></tr>\n",
       "\t<tr><th scope=row>2</th><td>MF_874  </td><td>12.04676</td><td>Yes</td></tr>\n",
       "\t<tr><th scope=row>3</th><td>MF_3176 </td><td>10.71323</td><td>Yes</td></tr>\n",
       "\t<tr><th scope=row>4</th><td>MF_18012</td><td>10.59023</td><td>Yes</td></tr>\n",
       "\t<tr><th scope=row>5</th><td>MF_7198 </td><td>10.49688</td><td>Yes</td></tr>\n",
       "\t<tr><th scope=row>6</th><td>MF_7476 </td><td>10.32712</td><td>Yes</td></tr>\n",
       "</tbody>\n",
       "</table>\n"
      ],
      "text/latex": [
       "A data.frame: 6 × 3\n",
       "\\begin{tabular}{r|lll}\n",
       "  & MF & IncNodePurity & Passed\\_Filter\\\\\n",
       "  & <chr> & <dbl> & <chr>\\\\\n",
       "\\hline\n",
       "\t1 & MF\\_22782 & 12.15155 & Yes\\\\\n",
       "\t2 & MF\\_874   & 12.04676 & Yes\\\\\n",
       "\t3 & MF\\_3176  & 10.71323 & Yes\\\\\n",
       "\t4 & MF\\_18012 & 10.59023 & Yes\\\\\n",
       "\t5 & MF\\_7198  & 10.49688 & Yes\\\\\n",
       "\t6 & MF\\_7476  & 10.32712 & Yes\\\\\n",
       "\\end{tabular}\n"
      ],
      "text/markdown": [
       "\n",
       "A data.frame: 6 × 3\n",
       "\n",
       "| <!--/--> | MF &lt;chr&gt; | IncNodePurity &lt;dbl&gt; | Passed_Filter &lt;chr&gt; |\n",
       "|---|---|---|---|\n",
       "| 1 | MF_22782 | 12.15155 | Yes |\n",
       "| 2 | MF_874   | 12.04676 | Yes |\n",
       "| 3 | MF_3176  | 10.71323 | Yes |\n",
       "| 4 | MF_18012 | 10.59023 | Yes |\n",
       "| 5 | MF_7198  | 10.49688 | Yes |\n",
       "| 6 | MF_7476  | 10.32712 | Yes |\n",
       "\n"
      ],
      "text/plain": [
       "  MF       IncNodePurity Passed_Filter\n",
       "1 MF_22782 12.15155      Yes          \n",
       "2 MF_874   12.04676      Yes          \n",
       "3 MF_3176  10.71323      Yes          \n",
       "4 MF_18012 10.59023      Yes          \n",
       "5 MF_7198  10.49688      Yes          \n",
       "6 MF_7476  10.32712      Yes          "
      ]
     },
     "metadata": {},
     "output_type": "display_data"
    }
   ],
   "source": [
    "# getting dataframe ready to export variable importance ranks from above and whether those features passed the \n",
    "# background filter\n",
    "noise_variable_importance_ranks = function(noise_importance_values_df, significant_predictors){\n",
    "    # filtering the original rank df for predictors that were significant (above random noise)\n",
    "    filtered_significant_ranks_df = noise_importance_values_df %>%\n",
    "        filter(MF %in% significant_predictors) %>%\n",
    "        arrange(-IncNodePurity)\n",
    "    \n",
    "    # adding a column denoting if the feature was above random noise\n",
    "    filtered_significant_ranks_df$Passed_Filter = c(rep(c(\"Yes\"), times = length(filtered_significant_ranks_df$MF)))\n",
    "    \n",
    "    final_df = full_join(filtered_significant_ranks_df, noise_importance_values_df)\n",
    "    return(final_df)\n",
    "}\n",
    "\n",
    "# calling fn\n",
    "significant_predictors_df = noise_variable_importance_ranks(noise_importance_values, significant_MFs)\n",
    "significant_predictors_df_covariates = noise_variable_importance_ranks(noise_importance_values_covariates, significant_MFs_covariates)\n",
    "head(significant_predictors_df)"
   ]
  },
  {
   "cell_type": "code",
   "execution_count": 16,
   "id": "7f3eacf1",
   "metadata": {},
   "outputs": [],
   "source": [
    "# exporting results\n",
    "# feature ranking w/ noise variables\n",
    "write.csv(significant_predictors_df, paste0(Output,\"/\", cur_date, \"_Feature_Ranking_noise.csv\"), row.names = FALSE)\n",
    "write.csv(significant_predictors_df_covariates, paste0(Output,\"/\", cur_date, \"_Feature_Ranking_covariates_noise.csv\"), row.names = FALSE)\n",
    "\n",
    "#exporting MSE values\n",
    "write.csv(rf_model_errors, paste0(Output,\"/\", cur_date, \"_GMCSF_prediction_errors.csv\"), row.names = FALSE)"
   ]
  },
  {
   "cell_type": "code",
   "execution_count": null,
   "id": "40d23f64",
   "metadata": {},
   "outputs": [],
   "source": []
  }
 ],
 "metadata": {
  "kernelspec": {
   "display_name": "R",
   "language": "R",
   "name": "ir"
  },
  "language_info": {
   "codemirror_mode": "r",
   "file_extension": ".r",
   "mimetype": "text/x-r-source",
   "name": "R",
   "pygments_lexer": "r",
   "version": "4.1.2"
  }
 },
 "nbformat": 4,
 "nbformat_minor": 5
}
